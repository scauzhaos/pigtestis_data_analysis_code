{
 "cells": [
  {
   "cell_type": "code",
   "execution_count": 1,
   "id": "c61bf99b-ff13-4497-9771-90e3c627e279",
   "metadata": {},
   "outputs": [
    {
     "name": "stdout",
     "output_type": "stream",
     "text": [
      "Running scvelo 0.2.4 (python 3.9.7) on 2023-02-18 09:29.\n"
     ]
    },
    {
     "name": "stderr",
     "output_type": "stream",
     "text": [
      "ERROR: XMLRPC request failed [code: -32500]\n",
      "RuntimeError: PyPI no longer supports 'pip search' (or XML-RPC search). Please use https://pypi.org/search (via a browser) instead. See https://warehouse.pypa.io/api-reference/xml-rpc.html#deprecated-methods for more information.\n"
     ]
    }
   ],
   "source": [
    "import scanpy as sc\n",
    "import pandas as pd\n",
    "import numpy as np\n",
    "import doubletdetection\n",
    "import matplotlib as mpl\n",
    "import matplotlib.pyplot as plt\n",
    "mpl.rcParams['pdf.fonttype'] = 42\n",
    "mpl.rcParams['font.sans-serif'] = \"Arial\"\n",
    "import scvelo as scv\n",
    "scv.logging.print_version()\n",
    "scv.settings.verbosity = 3  # show errors(0), warnings(1), info(2), hints(3)\n",
    "scv.settings.presenter_view = True  # set max width size for presenter view\n",
    "scv.settings.set_figure_params('scvelo')  # for beautified visualizationscv.settings.set_figure_params('scvelo') \n",
    "sc.settings.set_figure_params(dpi = 50, dpi_save = 600, figsize = (4, 4))"
   ]
  },
  {
   "cell_type": "code",
   "execution_count": 133,
   "id": "76b61443-61f7-4efd-82b6-f11352c2d5f5",
   "metadata": {},
   "outputs": [
    {
     "data": {
      "text/plain": [
       "AnnData object with n_obs × n_vars = 24967 × 2851\n",
       "    obs: 'n_genes', 'n_genes_by_counts', 'total_counts', 'total_counts_mt', 'pct_counts_mt', 'total_counts_chrX', 'pct_counts_chrX', 'total_counts_chrY', 'pct_counts_chrY', 'S_score', 'G2M_score', 'phase', 'doublet', 'doublet_score', 'leiden', 'cell_type'\n",
       "    var: 'gene_ids', 'feature_types', 'genome', 'n_counts', 'mt', 'n_cells_by_counts', 'mean_counts', 'pct_dropout_by_counts', 'total_counts', 'chrX', 'chrY', 'highly_variable', 'means', 'dispersions', 'dispersions_norm', 'mean', 'std'\n",
       "    uns: 'cell_type_colors', 'dendrogram_cell_type', 'dendrogram_leiden', 'hvg', 'leiden', 'leiden_colors', 'neighbors', 'pca', 'rank_genes_groups', 'tsne', 'umap'\n",
       "    obsm: 'X_pca', 'X_tsne', 'X_umap'\n",
       "    varm: 'PCs'\n",
       "    obsp: 'connectivities', 'distances'"
      ]
     },
     "execution_count": 133,
     "metadata": {},
     "output_type": "execute_result"
    }
   ],
   "source": [
    "adata = sc.read('./adultreanalysis_annatation1221.h5ad') \n",
    "adata"
   ]
  },
  {
   "cell_type": "code",
   "execution_count": 134,
   "id": "7ee46a42-3691-40ac-86f2-d70a9def7be1",
   "metadata": {},
   "outputs": [
    {
     "data": {
      "text/plain": [
       "AnnData object with n_obs × n_vars = 3868 × 2851\n",
       "    obs: 'n_genes', 'n_genes_by_counts', 'total_counts', 'total_counts_mt', 'pct_counts_mt', 'total_counts_chrX', 'pct_counts_chrX', 'total_counts_chrY', 'pct_counts_chrY', 'S_score', 'G2M_score', 'phase', 'doublet', 'doublet_score', 'leiden', 'cell_type'\n",
       "    var: 'gene_ids', 'feature_types', 'genome', 'n_counts', 'mt', 'n_cells_by_counts', 'mean_counts', 'pct_dropout_by_counts', 'total_counts', 'chrX', 'chrY', 'highly_variable', 'means', 'dispersions', 'dispersions_norm', 'mean', 'std'\n",
       "    uns: 'cell_type_colors', 'dendrogram_cell_type', 'dendrogram_leiden', 'hvg', 'leiden', 'leiden_colors', 'neighbors', 'pca', 'rank_genes_groups', 'tsne', 'umap'\n",
       "    obsm: 'X_pca', 'X_tsne', 'X_umap'\n",
       "    varm: 'PCs'\n",
       "    obsp: 'connectivities', 'distances'"
      ]
     },
     "execution_count": 134,
     "metadata": {},
     "output_type": "execute_result"
    }
   ],
   "source": [
    "adult_germsubsetforscvelo = adata[adata.obs['cell_type'].isin(['Spermatogonia', 'Spermatocytes', 'Round spermatids', 'Elongating spermatids'])].copy()\n",
    "adult_germsubsetforscvelo"
   ]
  },
  {
   "cell_type": "code",
   "execution_count": 7,
   "id": "6fd61b11-c007-476c-9767-40765b684ef2",
   "metadata": {},
   "outputs": [],
   "source": [
    "## from scipy.sparse import csr_matrix\n",
    "germ_mat=pd.DataFrame(data=adult_germsubsetforscvelo.X.todense(),index=adult_germsubsetforscvelo.obs_names,columns=adult_germsubsetforscvelo.var_names)"
   ]
  },
  {
   "cell_type": "markdown",
   "id": "c3861757-5486-460d-95e1-6d736b47e2db",
   "metadata": {},
   "source": [
    "# 解决报错“AttributeError: 'numpy.ndarray' object has no attribute 'todense'”，，“from scipy.sparse import csr_matrix；adata_spermatogonia_only.X = csr_matrix(adata_spermatogonia_only.X)”"
   ]
  },
  {
   "cell_type": "code",
   "execution_count": 10,
   "id": "96f6bee9-3c39-40cf-b888-3a754bbc6489",
   "metadata": {},
   "outputs": [],
   "source": [
    "germ_mat.to_csv('./figures/germ_matformonocle.csv')"
   ]
  },
  {
   "cell_type": "code",
   "execution_count": 11,
   "id": "0f5f8f61-a803-46fc-a262-950e432c2834",
   "metadata": {},
   "outputs": [],
   "source": [
    "meta = pd.DataFrame(data = adult_germsubsetforscvelo.obs) \n",
    "meta.to_csv('./figures/metadataformonocle.tsv',sep=\"\\t\")"
   ]
  },
  {
   "cell_type": "markdown",
   "id": "6210f806-50a8-4b3d-94c9-f32d8039e258",
   "metadata": {},
   "source": [
    "# 提取原始表达矩阵"
   ]
  },
  {
   "cell_type": "code",
   "execution_count": 135,
   "id": "bdebd2ad-801e-4ef7-98f4-e1362fc51345",
   "metadata": {},
   "outputs": [
    {
     "data": {
      "text/plain": [
       "AnnData object with n_obs × n_vars = 3868 × 19297\n",
       "    obs: 'n_genes', 'n_genes_by_counts', 'total_counts', 'total_counts_mt', 'pct_counts_mt', 'total_counts_chrX', 'pct_counts_chrX', 'total_counts_chrY', 'pct_counts_chrY', 'S_score', 'G2M_score', 'phase', 'doublet', 'doublet_score', 'leiden', 'cell_type'\n",
       "    var: 'gene_ids', 'feature_types', 'genome', 'n_counts', 'mt', 'n_cells_by_counts', 'mean_counts', 'pct_dropout_by_counts', 'total_counts', 'chrX', 'chrY', 'highly_variable', 'means', 'dispersions', 'dispersions_norm'\n",
       "    uns: 'cell_type_colors', 'dendrogram_cell_type', 'dendrogram_leiden', 'hvg', 'leiden', 'leiden_colors', 'neighbors', 'pca', 'rank_genes_groups', 'tsne', 'umap'\n",
       "    obsm: 'X_pca', 'X_tsne', 'X_umap'\n",
       "    obsp: 'connectivities', 'distances'"
      ]
     },
     "execution_count": 135,
     "metadata": {},
     "output_type": "execute_result"
    }
   ],
   "source": [
    "adult_germsubsetforscvelo = adult_germsubsetforscvelo.raw.to_adata()\n",
    "adult_germsubsetforscvelo"
   ]
  },
  {
   "cell_type": "code",
   "execution_count": 19,
   "id": "7278d127-44d8-4e52-a1a2-7fc8d22709ba",
   "metadata": {},
   "outputs": [
    {
     "name": "stdout",
     "output_type": "stream",
     "text": [
      "WARNING: saving figure to file figures/filter_genes_dispersion.findhvgsubset1227.pdf\n"
     ]
    }
   ],
   "source": [
    "sc.pp.highly_variable_genes(adult_germsubsetforscvelo, min_mean=0.0125, max_mean=3, min_disp=0.5)\n",
    "sc.pl.highly_variable_genes(adult_germsubsetforscvelo, save= \".findhvgsubset1227.pdf\")\n",
    "adult_germsubsetforscvelo.raw = adult_germsubsetforscvelo\n",
    "adult_germsubsetforscvelo = adult_germsubsetforscvelo[:, adult_germsubsetforscvelo.var.highly_variable]\n",
    "sc.pp.regress_out(adult_germsubsetforscvelo, ['total_counts', 'pct_counts_mt', 'S_score', 'G2M_score'])\n",
    "sc.pp.scale(adult_germsubsetforscvelo, max_value=10)"
   ]
  },
  {
   "cell_type": "code",
   "execution_count": 20,
   "id": "e805a612-122e-4aea-8168-a78f42a2a0db",
   "metadata": {},
   "outputs": [
    {
     "data": {
      "text/plain": [
       "AnnData object with n_obs × n_vars = 3868 × 4737\n",
       "    obs: 'n_genes', 'n_genes_by_counts', 'total_counts', 'total_counts_mt', 'pct_counts_mt', 'total_counts_chrX', 'pct_counts_chrX', 'total_counts_chrY', 'pct_counts_chrY', 'S_score', 'G2M_score', 'phase', 'doublet', 'doublet_score', 'leiden', 'cell_type'\n",
       "    var: 'gene_ids', 'feature_types', 'genome', 'n_counts', 'mt', 'n_cells_by_counts', 'mean_counts', 'pct_dropout_by_counts', 'total_counts', 'chrX', 'chrY', 'highly_variable', 'means', 'dispersions', 'dispersions_norm', 'mean', 'std'\n",
       "    uns: 'cell_type_colors', 'dendrogram_cell_type', 'dendrogram_leiden', 'hvg', 'leiden', 'leiden_colors', 'neighbors', 'pca', 'rank_genes_groups', 'tsne', 'umap'\n",
       "    obsm: 'X_pca', 'X_tsne', 'X_umap'\n",
       "    obsp: 'connectivities', 'distances'"
      ]
     },
     "execution_count": 20,
     "metadata": {},
     "output_type": "execute_result"
    }
   ],
   "source": [
    "adult_germsubsetforscvelo"
   ]
  },
  {
   "cell_type": "code",
   "execution_count": 21,
   "id": "19edfa60-be04-4aa8-aa96-2edcca071018",
   "metadata": {},
   "outputs": [],
   "source": [
    "sc.tl.pca(adult_germsubsetforscvelo, svd_solver='arpack')\n",
    "sc.pp.neighbors(adult_germsubsetforscvelo, n_neighbors=10, n_pcs=40)\n",
    "sc.tl.tsne(adult_germsubsetforscvelo)\n",
    "sc.tl.umap(adult_germsubsetforscvelo)\n",
    "sc.tl.leiden(adult_germsubsetforscvelo,resolution=0.5)"
   ]
  },
  {
   "cell_type": "code",
   "execution_count": 22,
   "id": "1c12ea3e-7d8e-450d-8d1a-73bd56d7fd63",
   "metadata": {},
   "outputs": [
    {
     "name": "stdout",
     "output_type": "stream",
     "text": [
      "WARNING: saving figure to file figures/umapadult_germsubsetforscveloleiden1227.pdf\n",
      "WARNING: saving figure to file figures/tsneadult_germsubsetforscveloleiden1227.pdf\n"
     ]
    }
   ],
   "source": [
    "sc.settings.set_figure_params(dpi = 50, dpi_save = 600, figsize = (4, 4))\n",
    "sc.pl.umap(adult_germsubsetforscvelo, color='leiden',legend_loc='right margin',save='adult_germsubsetforscveloleiden1227.pdf')\n",
    "sc.pl.tsne(adult_germsubsetforscvelo, color='leiden',legend_loc='right margin',save='adult_germsubsetforscveloleiden1227.pdf')"
   ]
  },
  {
   "cell_type": "code",
   "execution_count": 23,
   "id": "8dca51e3-7530-449c-839a-8fac0ac394ec",
   "metadata": {},
   "outputs": [
    {
     "name": "stdout",
     "output_type": "stream",
     "text": [
      "WARNING: saving figure to file figures/umapadult_germsubsetforscveloleiden1227ondata.pdf\n"
     ]
    }
   ],
   "source": [
    "sc.settings.set_figure_params(dpi = 50, dpi_save = 600, figsize = (4, 4))\n",
    "sc.pl.umap(adult_germsubsetforscvelo, color='leiden',legend_loc='on data',save='adult_germsubsetforscveloleiden1227ondata.pdf')"
   ]
  },
  {
   "cell_type": "code",
   "execution_count": 24,
   "id": "79ac0f6f-aa4b-4ffe-a22a-42a6a4fa447b",
   "metadata": {},
   "outputs": [],
   "source": [
    "sc.tl.rank_genes_groups(adult_germsubsetforscvelo, 'leiden', method='wilcoxon')"
   ]
  },
  {
   "cell_type": "code",
   "execution_count": 25,
   "id": "a1852c05-3bb3-4708-a088-fb47e21e6e45",
   "metadata": {},
   "outputs": [],
   "source": [
    "pd.DataFrame(adult_germsubsetforscvelo.uns['rank_genes_groups']['names']).head(5)\n",
    "adult_germsubsetforscvelo.uns['rank_genes_groups'].keys()\n",
    "#dict_keys(['logfoldchanges', 'names', 'params', 'pvals', 'pvals_adj', 'scores'])\n",
    "result = adult_germsubsetforscvelo.uns['rank_genes_groups']\n",
    "groups = result['names'].dtype.names\n",
    "pd.DataFrame(\n",
    "    {group + '_' + key[:1]: result[key][group]\n",
    "    for group in groups for key in ['names', 'pvals']}).head(5)\n",
    "res = pd.DataFrame(    \n",
    "    {group + '_' + key: result[key][group]    \n",
    "    for group in groups for key in ['names', 'pvals','logfoldchanges','pvals_adj','scores']})\n",
    "res.to_csv(\"./figures/diff_rank_genes_groups_adult_germsubsetforscveloleiden1223.csv\")"
   ]
  },
  {
   "cell_type": "code",
   "execution_count": 228,
   "id": "16f70c1d-86e8-4fa8-ad49-cec036fe2ed6",
   "metadata": {},
   "outputs": [],
   "source": [
    "cell_cycle_genes = [x.strip() for x in open('/public/home/zhaox/pigscRNA-seq/cell_cycle_genes (remove).txt')]\n",
    "s_genes = cell_cycle_genes[:43]\n",
    "g2m_genes = cell_cycle_genes[43:]"
   ]
  },
  {
   "cell_type": "code",
   "execution_count": 77,
   "id": "129fd957-8bbe-424b-9010-ac7eb7c3324b",
   "metadata": {},
   "outputs": [
    {
     "name": "stdout",
     "output_type": "stream",
     "text": [
      "WARNING: saving figure to file figures/heatmapg1scellcycleadult_germsubsetforscvelo1223.pdf\n",
      "WARNING: saving figure to file figures/heatmapg2mcellcycleadult_germsubsetforscvelo1223.pdf\n"
     ]
    }
   ],
   "source": [
    "ax = sc.pl.heatmap(adult_germsubsetforscvelo, s_genes, groupby='leiden', vmin=-2, vmax=2, cmap='RdBu_r', dendrogram=False, show_gene_labels=False,swap_axes=True, figsize=(11,4),save='g1scellcycleadult_germsubsetforscvelo1223.pdf')\n",
    "ax = sc.pl.heatmap(adult_germsubsetforscvelo, g2m_genes, groupby='leiden', vmin=-2, vmax=2, cmap='RdBu_r', dendrogram=False, show_gene_labels=False,swap_axes=True, figsize=(11,4),save='g2mcellcycleadult_germsubsetforscvelo1223.pdf')"
   ]
  },
  {
   "cell_type": "code",
   "execution_count": 26,
   "id": "12561f09-0215-490b-96ce-88fd9792b0f2",
   "metadata": {},
   "outputs": [],
   "source": [
    "results_file = './figures/adult_germsubsetforscvelo_1223unannotation.h5ad'\n",
    "adult_germsubsetforscvelo.write(results_file)"
   ]
  },
  {
   "cell_type": "code",
   "execution_count": 121,
   "id": "45c8e13e-c516-4f8c-952b-b299799d760c",
   "metadata": {},
   "outputs": [
    {
     "data": {
      "text/plain": [
       "AnnData object with n_obs × n_vars = 3627 × 19297\n",
       "    obs: 'n_genes', 'n_genes_by_counts', 'total_counts', 'total_counts_mt', 'pct_counts_mt', 'total_counts_chrX', 'pct_counts_chrX', 'total_counts_chrY', 'pct_counts_chrY', 'S_score', 'G2M_score', 'phase', 'doublet', 'doublet_score', 'leiden', 'cell_type'\n",
       "    var: 'gene_ids', 'feature_types', 'genome', 'n_counts', 'mt', 'n_cells_by_counts', 'mean_counts', 'pct_dropout_by_counts', 'total_counts', 'chrX', 'chrY', 'highly_variable', 'means', 'dispersions', 'dispersions_norm'\n",
       "    uns: 'cell_type_colors', 'dendrogram_cell_type', 'dendrogram_leiden', 'hvg', 'leiden', 'leiden_colors', 'neighbors', 'pca', 'rank_genes_groups', 'tsne', 'umap'\n",
       "    obsm: 'X_pca', 'X_tsne', 'X_umap'\n",
       "    varm: 'PCs'\n",
       "    obsp: 'connectivities', 'distances'"
      ]
     },
     "execution_count": 121,
     "metadata": {},
     "output_type": "execute_result"
    }
   ],
   "source": [
    "adata= sc.read('./figures/adult_germsubsetforscvelo_1223unannotation.h5ad')\n",
    "adata"
   ]
  },
  {
   "cell_type": "code",
   "execution_count": 75,
   "id": "4e509f96-a170-417e-b710-ad34a71b8eae",
   "metadata": {},
   "outputs": [
    {
     "data": {
      "text/plain": [
       "AnnData object with n_obs × n_vars = 3600 × 4737\n",
       "    obs: 'n_genes', 'n_genes_by_counts', 'total_counts', 'total_counts_mt', 'pct_counts_mt', 'total_counts_chrX', 'pct_counts_chrX', 'total_counts_chrY', 'pct_counts_chrY', 'S_score', 'G2M_score', 'phase', 'doublet', 'doublet_score', 'leiden', 'cell_type'\n",
       "    var: 'gene_ids', 'feature_types', 'genome', 'n_counts', 'mt', 'n_cells_by_counts', 'mean_counts', 'pct_dropout_by_counts', 'total_counts', 'chrX', 'chrY', 'highly_variable', 'means', 'dispersions', 'dispersions_norm', 'mean', 'std'\n",
       "    uns: 'cell_type_colors', 'dendrogram_cell_type', 'dendrogram_leiden', 'hvg', 'leiden', 'leiden_colors', 'neighbors', 'pca', 'rank_genes_groups', 'tsne', 'umap'\n",
       "    obsm: 'X_pca', 'X_tsne', 'X_umap'\n",
       "    varm: 'PCs'\n",
       "    obsp: 'connectivities', 'distances'"
      ]
     },
     "execution_count": 75,
     "metadata": {},
     "output_type": "execute_result"
    }
   ],
   "source": [
    "adult_germsubsetformonocle= adult_germsubsetforscvelo[adult_germsubsetforscvelo.obs['leiden'].isin(['0', '1', '2', '3','4', '5', '6', '7','9','10','11','13', '14'])].copy()\n",
    "adult_germsubsetformonocle"
   ]
  },
  {
   "cell_type": "code",
   "execution_count": 76,
   "id": "ef795dae-2a19-4535-be9a-3b4a097312f0",
   "metadata": {},
   "outputs": [
    {
     "data": {
      "text/plain": [
       "AnnData object with n_obs × n_vars = 3600 × 19297\n",
       "    obs: 'n_genes', 'n_genes_by_counts', 'total_counts', 'total_counts_mt', 'pct_counts_mt', 'total_counts_chrX', 'pct_counts_chrX', 'total_counts_chrY', 'pct_counts_chrY', 'S_score', 'G2M_score', 'phase', 'doublet', 'doublet_score', 'leiden', 'cell_type'\n",
       "    var: 'gene_ids', 'feature_types', 'genome', 'n_counts', 'mt', 'n_cells_by_counts', 'mean_counts', 'pct_dropout_by_counts', 'total_counts', 'chrX', 'chrY', 'highly_variable', 'means', 'dispersions', 'dispersions_norm'\n",
       "    uns: 'cell_type_colors', 'dendrogram_cell_type', 'dendrogram_leiden', 'hvg', 'leiden', 'leiden_colors', 'neighbors', 'pca', 'rank_genes_groups', 'tsne', 'umap'\n",
       "    obsm: 'X_pca', 'X_tsne', 'X_umap'\n",
       "    obsp: 'connectivities', 'distances'"
      ]
     },
     "execution_count": 76,
     "metadata": {},
     "output_type": "execute_result"
    }
   ],
   "source": [
    "adult_germsubsetformonocle = adult_germsubsetformonocle.raw.to_adata()\n",
    "adult_germsubsetformonocle"
   ]
  },
  {
   "cell_type": "code",
   "execution_count": 136,
   "id": "fd4ce2d8-7683-4944-8ecc-22064bd4d587",
   "metadata": {},
   "outputs": [
    {
     "name": "stdout",
     "output_type": "stream",
     "text": [
      "WARNING: saving figure to file figures/filter_genes_dispersion.findhvgsubset1229.pdf\n"
     ]
    }
   ],
   "source": [
    "sc.pp.highly_variable_genes(adult_germsubsetforscvelo, min_mean=0.0125, max_mean=3, min_disp=0.5)\n",
    "sc.pl.highly_variable_genes(adult_germsubsetforscvelo, save= \".findhvgsubset1229.pdf\")\n",
    "adult_germsubsetforscvelo.raw = adult_germsubsetforscvelo\n",
    "adult_germsubsetforscvelo = adult_germsubsetforscvelo[:, adult_germsubsetforscvelo.var.highly_variable]\n",
    "sc.pp.regress_out(adult_germsubsetforscvelo, ['total_counts', 'pct_counts_mt', 'S_score', 'G2M_score'])\n",
    "sc.pp.scale(adult_germsubsetforscvelo, max_value=10)\n",
    "sc.tl.pca(adult_germsubsetforscvelo, svd_solver='arpack')\n",
    "sc.pp.neighbors(adult_germsubsetforscvelo, n_neighbors=10, n_pcs=40)\n",
    "sc.tl.tsne(adult_germsubsetforscvelo)\n",
    "sc.tl.umap(adult_germsubsetforscvelo)\n",
    "sc.tl.leiden(adult_germsubsetforscvelo,resolution=0.5)\n",
    "sc.tl.rank_genes_groups(adult_germsubsetforscvelo, 'leiden', method='wilcoxon')\n",
    "pd.DataFrame(adult_germsubsetforscvelo.uns['rank_genes_groups']['names']).head(5)\n",
    "adult_germsubsetforscvelo.uns['rank_genes_groups'].keys()\n",
    "#dict_keys(['logfoldchanges', 'names', 'params', 'pvals', 'pvals_adj', 'scores'])\n",
    "result = adult_germsubsetforscvelo.uns['rank_genes_groups']\n",
    "groups = result['names'].dtype.names\n",
    "pd.DataFrame(\n",
    "    {group + '_' + key[:1]: result[key][group]\n",
    "    for group in groups for key in ['names', 'pvals']}).head(5)\n",
    "res = pd.DataFrame(    \n",
    "    {group + '_' + key: result[key][group]    \n",
    "    for group in groups for key in ['names', 'pvals','logfoldchanges','pvals_adj','scores']})\n",
    "res.to_csv(\"./figures/diff_rank_genes_groups_adult_germsubsetforscveloleiden1229.csv\")\n",
    "results_file = './figures/adult_germsubsetforscvelo_1229unannotation.h5ad'\n",
    "adult_germsubsetforscvelo.write(results_file)"
   ]
  },
  {
   "cell_type": "code",
   "execution_count": 137,
   "id": "b0f397de-bab2-441e-916c-6e2c29730ddb",
   "metadata": {},
   "outputs": [
    {
     "name": "stdout",
     "output_type": "stream",
     "text": [
      "WARNING: saving figure to file figures/umapadult_germsubsetforscveloleiden1229.pdf\n"
     ]
    },
    {
     "name": "stderr",
     "output_type": "stream",
     "text": [
      "/public/home/zhaox/anaconda3/lib/python3.9/site-packages/scanpy/_settings.py:447: DeprecationWarning: `set_matplotlib_formats` is deprecated since IPython 7.23, directly use `matplotlib_inline.backend_inline.set_matplotlib_formats()`\n",
      "  IPython.display.set_matplotlib_formats(*ipython_format)\n"
     ]
    },
    {
     "name": "stdout",
     "output_type": "stream",
     "text": [
      "WARNING: saving figure to file figures/tsneadult_germsubsetforscveloleiden1229.pdf\n",
      "WARNING: saving figure to file figures/umapadult_germsubsetforscvelo1229ondata.pdf\n"
     ]
    }
   ],
   "source": [
    "sc.settings.set_figure_params(dpi = 50, dpi_save = 600, figsize = (4, 4))\n",
    "sc.pl.umap(adult_germsubsetforscvelo, color='leiden',legend_loc='right margin',save='adult_germsubsetforscveloleiden1229.pdf')\n",
    "sc.pl.tsne(adult_germsubsetforscvelo, color='leiden',legend_loc='right margin',save='adult_germsubsetforscveloleiden1229.pdf')\n",
    "sc.pl.umap(adult_germsubsetforscvelo, color='leiden',legend_loc='on data',save='adult_germsubsetforscvelo1229ondata.pdf')"
   ]
  },
  {
   "cell_type": "code",
   "execution_count": 182,
   "id": "6462f3c1-27da-4b62-9245-5020f51e46da",
   "metadata": {},
   "outputs": [
    {
     "data": {
      "text/plain": [
       "AAACCCAAGATGTAGT          P\n",
       "AAACCCAAGCCGCTTG        Mix\n",
       "AAACCCAAGGCTCTAT          Z\n",
       "AAACCCAGTCCAGGTC       SSC1\n",
       "AAACCCAGTTCGGCGT       SSC1\n",
       "                     ...   \n",
       "TTTGGTTTCCATACTT        Mix\n",
       "TTTGTTGAGACATCAA          D\n",
       "TTTGTTGAGATGTTAG    others1\n",
       "TTTGTTGAGTATGGAT         ES\n",
       "TTTGTTGCATATCTCT          D\n",
       "Name: cell_type, Length: 3868, dtype: category\n",
       "Categories (15, object): ['SSC1', 'SSC2', 'Diff SPG1', 'Diff SPG2', ..., 'ES', 'Mix', 'others1', 'others2']"
      ]
     },
     "execution_count": 182,
     "metadata": {},
     "output_type": "execute_result"
    }
   ],
   "source": [
    "adult_germsubsetforscvelo.obs.cell_type"
   ]
  },
  {
   "cell_type": "code",
   "execution_count": 80,
   "id": "7c82107c-7d2c-49c2-95a7-efc227854521",
   "metadata": {},
   "outputs": [
    {
     "data": {
      "text/plain": [
       "AnnData object with n_obs × n_vars = 3000 × 4737\n",
       "    obs: 'n_genes', 'n_genes_by_counts', 'total_counts', 'total_counts_mt', 'pct_counts_mt', 'total_counts_chrX', 'pct_counts_chrX', 'total_counts_chrY', 'pct_counts_chrY', 'S_score', 'G2M_score', 'phase', 'doublet', 'doublet_score', 'leiden', 'cell_type'\n",
       "    var: 'gene_ids', 'feature_types', 'genome', 'n_counts', 'mt', 'n_cells_by_counts', 'mean_counts', 'pct_dropout_by_counts', 'total_counts', 'chrX', 'chrY', 'highly_variable', 'means', 'dispersions', 'dispersions_norm', 'mean', 'std'\n",
       "    uns: 'cell_type_colors', 'dendrogram_cell_type', 'dendrogram_leiden', 'hvg', 'leiden', 'leiden_colors', 'neighbors', 'pca', 'rank_genes_groups', 'tsne', 'umap'\n",
       "    obsm: 'X_pca', 'X_tsne', 'X_umap'\n",
       "    varm: 'PCs'\n",
       "    obsp: 'connectivities', 'distances'"
      ]
     },
     "execution_count": 80,
     "metadata": {},
     "output_type": "execute_result"
    }
   ],
   "source": [
    "adult_germsubsetformonocle2= adult_germsubsetforscvelo[adult_germsubsetforscvelo.obs['leiden'].isin(['1', '2', '3','4', '5', '6', '7','8','9','10','11'])].copy()\n",
    "adult_germsubsetformonocle2"
   ]
  },
  {
   "cell_type": "code",
   "execution_count": 183,
   "id": "7a78c65f-f4a5-4d41-aecb-e894b4d09bc3",
   "metadata": {},
   "outputs": [
    {
     "data": {
      "text/plain": [
       "AnnData object with n_obs × n_vars = 3868 × 19297\n",
       "    obs: 'n_genes', 'n_genes_by_counts', 'total_counts', 'total_counts_mt', 'pct_counts_mt', 'total_counts_chrX', 'pct_counts_chrX', 'total_counts_chrY', 'pct_counts_chrY', 'S_score', 'G2M_score', 'phase', 'doublet', 'doublet_score', 'leiden', 'cell_type'\n",
       "    var: 'gene_ids', 'feature_types', 'genome', 'n_counts', 'mt', 'n_cells_by_counts', 'mean_counts', 'pct_dropout_by_counts', 'total_counts', 'chrX', 'chrY', 'highly_variable', 'means', 'dispersions', 'dispersions_norm'\n",
       "    uns: 'cell_type_colors', 'dendrogram_cell_type', 'dendrogram_leiden', 'hvg', 'leiden', 'leiden_colors', 'neighbors', 'pca', 'rank_genes_groups', 'tsne', 'umap'\n",
       "    obsm: 'X_pca', 'X_tsne', 'X_umap'\n",
       "    obsp: 'connectivities', 'distances'"
      ]
     },
     "execution_count": 183,
     "metadata": {},
     "output_type": "execute_result"
    }
   ],
   "source": [
    "adult_germsubsetforscveloraw = adult_germsubsetforscvelo.raw.to_adata()\n",
    "adult_germsubsetforscveloraw"
   ]
  },
  {
   "cell_type": "code",
   "execution_count": 184,
   "id": "f316739f-5d83-49f2-8fdc-ccdb4f192f76",
   "metadata": {},
   "outputs": [
    {
     "data": {
      "text/plain": [
       "AAACCCAAGATGTAGT          P\n",
       "AAACCCAAGCCGCTTG        Mix\n",
       "AAACCCAAGGCTCTAT          Z\n",
       "AAACCCAGTCCAGGTC       SSC1\n",
       "AAACCCAGTTCGGCGT       SSC1\n",
       "                     ...   \n",
       "TTTGGTTTCCATACTT        Mix\n",
       "TTTGTTGAGACATCAA          D\n",
       "TTTGTTGAGATGTTAG    others1\n",
       "TTTGTTGAGTATGGAT         ES\n",
       "TTTGTTGCATATCTCT          D\n",
       "Name: cell_type, Length: 3868, dtype: category\n",
       "Categories (15, object): ['SSC1', 'SSC2', 'Diff SPG1', 'Diff SPG2', ..., 'ES', 'Mix', 'others1', 'others2']"
      ]
     },
     "execution_count": 184,
     "metadata": {},
     "output_type": "execute_result"
    }
   ],
   "source": [
    "adult_germsubsetforscveloraw.obs.cell_type"
   ]
  },
  {
   "cell_type": "code",
   "execution_count": 152,
   "id": "68381722-0617-4eb6-bce6-c4a5f898d1c9",
   "metadata": {},
   "outputs": [],
   "source": [
    "marker_genes_dict = {\n",
    "    'SSC': ['UCHL1', 'BNC2', 'UTF1'],\n",
    "    'Diffing SPG': ['KIT', 'MKI67','SOHLH1','DMRT1'],\n",
    "    'Diffed SPG': ['STRA8'],\n",
    "    'L': ['SCML1','SMC1B','ZCWPW1','HERC5','MDK','SPO11','TEX19'],\n",
    "    'Z': ['SYCP1', 'SYCP3','SYCE1', 'TEX12','TEX101','PRSS50'],\n",
    "    'P': ['PIWIL1','HORMAD1','MGAT4D','CCDC112','NME8','CCNA1','CCNA2','PROK2','MLLT10','RSPH1'],\n",
    "    'D': ['SPATA16','CCNB2', 'GYG1','ZC2HC1C','AURKA','TMIGD3','POU5F2','GGN'],\n",
    "    'RS': ['ADAM2', 'ACRV1','SPACA1','SPACA3','FSIP2','SPINK2'],\n",
    "    'ES': ['PRM1', 'PRM2', 'TNP1', 'TNP2'],\n",
    "}"
   ]
  },
  {
   "cell_type": "code",
   "execution_count": 153,
   "id": "a6d22c60-1fde-4643-9848-bea872d39476",
   "metadata": {},
   "outputs": [],
   "source": [
    "sc.tl.dendrogram(adult_germsubsetforscvelo,groupby=\"leiden\")"
   ]
  },
  {
   "cell_type": "code",
   "execution_count": 154,
   "id": "6005aa63-1b5c-4ee9-a783-8ef57289df02",
   "metadata": {},
   "outputs": [
    {
     "name": "stdout",
     "output_type": "stream",
     "text": [
      "WARNING: Groups are not reordered because the `groupby` categories and the `var_group_labels` are different.\n",
      "categories: 0, 1, 2, etc.\n",
      "var_group_labels: SSC, Diffing SPG, Diffed SPG, etc.\n",
      "WARNING: saving figure to file figures/dotplot_adult_germsubsetforscveloannotation1229.pdf\n"
     ]
    },
    {
     "name": "stderr",
     "output_type": "stream",
     "text": [
      "/public/home/zhaox/anaconda3/lib/python3.9/site-packages/matplotlib/backends/backend_pdf.py:1649: DeprecationWarning: NONE is deprecated and will be removed in Pillow 10 (2023-07-01). Use Resampling.NEAREST or Dither.NONE instead.\n",
      "  img = img.convert(mode='P', dither=Image.NONE,\n",
      "/public/home/zhaox/anaconda3/lib/python3.9/site-packages/matplotlib/backends/backend_pdf.py:1650: DeprecationWarning: ADAPTIVE is deprecated and will be removed in Pillow 10 (2023-07-01). Use Palette.ADAPTIVE instead.\n",
      "  palette=Image.ADAPTIVE, colors=num_colors)\n"
     ]
    }
   ],
   "source": [
    "sc.pl.dotplot(adult_germsubsetforscvelo, marker_genes_dict, 'leiden', standard_scale='var',dendrogram=True,save=\"adult_germsubsetforscveloannotation1229.pdf\")"
   ]
  },
  {
   "cell_type": "code",
   "execution_count": 176,
   "id": "9b931577-ac36-43c8-806e-fa587def2922",
   "metadata": {},
   "outputs": [],
   "source": [
    "cluster2annotation = {\n",
    "     '0': 'Mix',\n",
    "     '1': 'Z',\n",
    "     '2': 'D',\n",
    "     '3': 'L',\n",
    "     '4': 'Diff SPG1',\n",
    "     '5': 'SSC1',\n",
    "     '6': 'P',\n",
    "     '7': 'RS2',\n",
    "     '8': 'others1',\n",
    "     '9': 'ES',\n",
    "     '10': 'Diff SPG2',\n",
    "     '11': 'RS1',\n",
    "     '12': 'others2',\n",
    "     '13': 'SSC2',\n",
    "     '14': 'RS3',\n",
    "}\n",
    "adult_germsubsetforscvelo.obs['cell_type'] = adult_germsubsetforscvelo.obs['leiden'].map(cluster2annotation).astype('category')"
   ]
  },
  {
   "cell_type": "code",
   "execution_count": 179,
   "id": "aaba50ab-ecb6-48a1-bb00-98525aeed706",
   "metadata": {},
   "outputs": [],
   "source": [
    "original_order = ['Mix', 'Z', 'D', 'L','Diff SPG1','SSC1','P','RS2', 'others1','ES','Diff SPG2','RS1', 'others2', 'SSC2', 'RS3']\n",
    "adult_germsubsetforscvelo.obs['cell_type'] = adult_germsubsetforscvelo.obs['cell_type'].cat.set_categories(['SSC1', 'SSC2','Diff SPG1','Diff SPG2','L', 'Z','P','D','RS1','RS2','RS3','ES','Mix','others1','others2'])"
   ]
  },
  {
   "cell_type": "code",
   "execution_count": 180,
   "id": "abde9e9e-6ac9-4e21-9f9f-e2947b4e54e2",
   "metadata": {},
   "outputs": [
    {
     "name": "stdout",
     "output_type": "stream",
     "text": [
      "WARNING: saving figure to file figures/umapadultsubsetcelltyperight1229.pdf\n"
     ]
    }
   ],
   "source": [
    "sc.pl.umap(adult_germsubsetforscvelo, color='cell_type', frameon=True, legend_loc= \"right margin\", legend_fontsize=10, legend_fontweight=\"normal\", legend_fontoutline=2, save=\"adultsubsetcelltyperight1229.pdf\")"
   ]
  },
  {
   "cell_type": "code",
   "execution_count": 230,
   "id": "1527d206-3c1d-4533-83c7-ac165858da29",
   "metadata": {},
   "outputs": [
    {
     "name": "stdout",
     "output_type": "stream",
     "text": [
      "WARNING: saving figure to file figures/heatmapg1scellcycleadult_germsubsetforscvelo1223.pdf\n"
     ]
    },
    {
     "name": "stderr",
     "output_type": "stream",
     "text": [
      "/public/home/zhaox/anaconda3/lib/python3.9/site-packages/matplotlib/backends/backend_pdf.py:1649: DeprecationWarning: NONE is deprecated and will be removed in Pillow 10 (2023-07-01). Use Resampling.NEAREST or Dither.NONE instead.\n",
      "  img = img.convert(mode='P', dither=Image.NONE,\n",
      "/public/home/zhaox/anaconda3/lib/python3.9/site-packages/matplotlib/backends/backend_pdf.py:1650: DeprecationWarning: ADAPTIVE is deprecated and will be removed in Pillow 10 (2023-07-01). Use Palette.ADAPTIVE instead.\n",
      "  palette=Image.ADAPTIVE, colors=num_colors)\n"
     ]
    },
    {
     "name": "stdout",
     "output_type": "stream",
     "text": [
      "WARNING: saving figure to file figures/heatmapg2mcellcycleadult_germsubsetforscvelo1223.pdf\n"
     ]
    },
    {
     "name": "stderr",
     "output_type": "stream",
     "text": [
      "/public/home/zhaox/anaconda3/lib/python3.9/site-packages/matplotlib/backends/backend_pdf.py:1649: DeprecationWarning: NONE is deprecated and will be removed in Pillow 10 (2023-07-01). Use Resampling.NEAREST or Dither.NONE instead.\n",
      "  img = img.convert(mode='P', dither=Image.NONE,\n",
      "/public/home/zhaox/anaconda3/lib/python3.9/site-packages/matplotlib/backends/backend_pdf.py:1650: DeprecationWarning: ADAPTIVE is deprecated and will be removed in Pillow 10 (2023-07-01). Use Palette.ADAPTIVE instead.\n",
      "  palette=Image.ADAPTIVE, colors=num_colors)\n"
     ]
    }
   ],
   "source": [
    "ax = sc.pl.heatmap(adult_germsubsetforscvelo, s_genes, groupby='cell_type', vmin=-2, vmax=2, cmap='RdBu_r', dendrogram=False, show_gene_labels=False,swap_axes=True, figsize=(11,4),save='g1scellcycleadult_germsubsetforscvelo1223.pdf')\n",
    "ax = sc.pl.heatmap(adult_germsubsetforscvelo, g2m_genes, groupby='cell_type', vmin=-2, vmax=2, cmap='RdBu_r', dendrogram=False, show_gene_labels=False,swap_axes=True, figsize=(11,4),save='g2mcellcycleadult_germsubsetforscvelo1223.pdf')"
   ]
  },
  {
   "cell_type": "code",
   "execution_count": 152,
   "id": "f38f1f03-58ed-421a-85f0-23c27c7e61e3",
   "metadata": {},
   "outputs": [],
   "source": [
    "marker_genes_dict = {\n",
    "    'SSC': ['UCHL1', 'BNC2', 'UTF1'],\n",
    "    'Diffing SPG': ['KIT', 'MKI67','SOHLH1','DMRT1'],\n",
    "    'Diffed SPG': ['STRA8'],\n",
    "    'L': ['SCML1','SMC1B','ZCWPW1','HERC5','MDK','SPO11','TEX19'],\n",
    "    'Z': ['SYCP1', 'SYCP3','SYCE1', 'TEX12','TEX101','PRSS50'],\n",
    "    'P': ['PIWIL1','HORMAD1','MGAT4D','CCDC112','NME8','CCNA1','CCNA2','PROK2','MLLT10','RSPH1'],\n",
    "    'D': ['SPATA16','CCNB2', 'GYG1','ZC2HC1C','AURKA','TMIGD3','POU5F2','GGN'],\n",
    "    'RS': ['ADAM2', 'ACRV1','SPACA1','SPACA3','FSIP2','SPINK2'],\n",
    "    'ES': ['PRM1', 'PRM2', 'TNP1', 'TNP2'],\n",
    "}"
   ]
  },
  {
   "cell_type": "code",
   "execution_count": 234,
   "id": "b3cd0099-721f-4050-acbd-25a329bca188",
   "metadata": {},
   "outputs": [
    {
     "name": "stdout",
     "output_type": "stream",
     "text": [
      "WARNING: saving figure to file figures/heatmapadultcelltypemarker1229.pdf\n"
     ]
    },
    {
     "name": "stderr",
     "output_type": "stream",
     "text": [
      "/public/home/zhaox/anaconda3/lib/python3.9/site-packages/matplotlib/backends/backend_pdf.py:1649: DeprecationWarning: NONE is deprecated and will be removed in Pillow 10 (2023-07-01). Use Resampling.NEAREST or Dither.NONE instead.\n",
      "  img = img.convert(mode='P', dither=Image.NONE,\n",
      "/public/home/zhaox/anaconda3/lib/python3.9/site-packages/matplotlib/backends/backend_pdf.py:1650: DeprecationWarning: ADAPTIVE is deprecated and will be removed in Pillow 10 (2023-07-01). Use Palette.ADAPTIVE instead.\n",
      "  palette=Image.ADAPTIVE, colors=num_colors)\n"
     ]
    }
   ],
   "source": [
    "ax = sc.pl.heatmap(adult_germsubsetforscvelo, marker_genes_dict, groupby='cell_type', vmin=-5, vmax=5, cmap='RdBu_r',dendrogram=False, swap_axes=True, figsize=(11,8),save='adultcelltypemarker1229.pdf')"
   ]
  },
  {
   "cell_type": "code",
   "execution_count": 235,
   "id": "97475e07-4656-4014-94ac-e39adb9b6451",
   "metadata": {},
   "outputs": [
    {
     "data": {
      "text/plain": [
       "AnnData object with n_obs × n_vars = 3868 × 2000\n",
       "    obs: 'n_genes', 'n_genes_by_counts', 'total_counts', 'total_counts_mt', 'pct_counts_mt', 'total_counts_chrX', 'pct_counts_chrX', 'total_counts_chrY', 'pct_counts_chrY', 'S_score', 'G2M_score', 'phase', 'doublet', 'doublet_score', 'leiden', 'cell_type', 'initial_size_spliced', 'initial_size_unspliced', 'initial_size', 'n_counts', 'velocity_self_transition', 'terminal_states', 'terminal_states_probs', 'clusters_gradients', 'initial_states', 'initial_states_probs', 'velocity_pseudotime', 'latent_time', 'dpt_pseudotime', 'to_terminal_states_kl_divergence'\n",
       "    var: 'gene_ids', 'feature_types', 'genome', 'n_counts', 'mt', 'n_cells_by_counts', 'mean_counts', 'pct_dropout_by_counts', 'total_counts', 'chrX', 'chrY', 'highly_variable', 'means', 'dispersions', 'dispersions_norm', 'Accession', 'Chromosome', 'End', 'Start', 'Strand', 'fit_r2', 'fit_alpha', 'fit_beta', 'fit_gamma', 'fit_t_', 'fit_scaling', 'fit_std_u', 'fit_std_s', 'fit_likelihood', 'fit_u0', 'fit_s0', 'fit_pval_steady', 'fit_steady_u', 'fit_steady_s', 'fit_variance', 'fit_alignment_scaling', 'velocity_genes'\n",
       "    uns: 'cell_type_colors', 'dendrogram_cell_type', 'dendrogram_leiden', 'hvg', 'leiden', 'leiden_colors', 'neighbors', 'pca', 'rank_genes_groups', 'tsne', 'umap', 'recover_dynamics', 'velocity_params', 'velocity_graph', 'velocity_graph_neg', 'T_fwd_params', 'eigendecomposition_fwd', 'schur_matrix_fwd', 'coarse_fwd', 'terminal_states_colors', 'clusters_gradients_colors', 'T_bwd_params', 'eigendecomposition_bwd', 'initial_states_colors', 'paga', 'cell_type_sizes', 'iroot', 'diffmap_evals'\n",
       "    obsm: 'X_pca', 'X_tsne', 'X_umap', 'velocity_umap', 'schur_vectors_fwd', 'terminal_states_memberships', 'initial_states_memberships', 'to_terminal_states', 'X_diffmap', 'X_fate_simplex_fwd'\n",
       "    varm: 'loss', 'terminal_lineage_drivers'\n",
       "    layers: 'ambiguous', 'matrix', 'spliced', 'unspliced', 'Ms', 'Mu', 'fit_t', 'fit_tau', 'fit_tau_', 'velocity', 'velocity_u'\n",
       "    obsp: 'connectivities', 'distances', 'T_fwd', 'T_bwd'"
      ]
     },
     "execution_count": 235,
     "metadata": {},
     "output_type": "execute_result"
    }
   ],
   "source": [
    "adata"
   ]
  },
  {
   "cell_type": "markdown",
   "id": "a72b3429-e79d-4e7e-80b1-953f60a64a57",
   "metadata": {},
   "source": [
    "## 用于cellrank"
   ]
  },
  {
   "cell_type": "code",
   "execution_count": 181,
   "id": "e288f599-0beb-4fcb-b99c-fbf4b617a66f",
   "metadata": {},
   "outputs": [],
   "source": [
    "results_file = './figures/adult_germsubsetforscvelo_1229annotation.h5ad'\n",
    "adult_germsubsetforscvelo.write(results_file)"
   ]
  },
  {
   "cell_type": "code",
   "execution_count": 229,
   "id": "fbc4744a-4938-4a8f-aaae-f1d31f37687d",
   "metadata": {},
   "outputs": [
    {
     "data": {
      "text/plain": [
       "AAACCCAAGATGTAGT          P\n",
       "AAACCCAAGCCGCTTG        Mix\n",
       "AAACCCAAGGCTCTAT          Z\n",
       "AAACCCAGTCCAGGTC       SSC1\n",
       "AAACCCAGTTCGGCGT       SSC1\n",
       "                     ...   \n",
       "TTTGGTTTCCATACTT        Mix\n",
       "TTTGTTGAGACATCAA          D\n",
       "TTTGTTGAGATGTTAG    others1\n",
       "TTTGTTGAGTATGGAT         ES\n",
       "TTTGTTGCATATCTCT          D\n",
       "Name: cell_type, Length: 3868, dtype: category\n",
       "Categories (15, object): ['SSC1', 'SSC2', 'Diff SPG1', 'Diff SPG2', ..., 'ES', 'Mix', 'others1', 'others2']"
      ]
     },
     "execution_count": 229,
     "metadata": {},
     "output_type": "execute_result"
    }
   ],
   "source": [
    "adult_germsubsetforscvelo.obs['cell_type']"
   ]
  },
  {
   "cell_type": "code",
   "execution_count": 2,
   "id": "82d0eb9d-4942-452e-a68c-d6a71e425689",
   "metadata": {},
   "outputs": [
    {
     "data": {
      "text/plain": [
       "AnnData object with n_obs × n_vars = 3868 × 4737\n",
       "    obs: 'n_genes', 'n_genes_by_counts', 'total_counts', 'total_counts_mt', 'pct_counts_mt', 'total_counts_chrX', 'pct_counts_chrX', 'total_counts_chrY', 'pct_counts_chrY', 'S_score', 'G2M_score', 'phase', 'doublet', 'doublet_score', 'leiden', 'cell_type'\n",
       "    var: 'gene_ids', 'feature_types', 'genome', 'n_counts', 'mt', 'n_cells_by_counts', 'mean_counts', 'pct_dropout_by_counts', 'total_counts', 'chrX', 'chrY', 'highly_variable', 'means', 'dispersions', 'dispersions_norm', 'mean', 'std'\n",
       "    uns: 'cell_type_colors', 'dendrogram_cell_type', 'dendrogram_leiden', 'hvg', 'leiden', 'leiden_colors', 'neighbors', 'pca', 'rank_genes_groups', 'tsne', 'umap'\n",
       "    obsm: 'X_pca', 'X_tsne', 'X_umap'\n",
       "    varm: 'PCs'\n",
       "    obsp: 'connectivities', 'distances'"
      ]
     },
     "execution_count": 2,
     "metadata": {},
     "output_type": "execute_result"
    }
   ],
   "source": [
    "###补Figure2图\n",
    "adata = sc.read('./figures/adult_germsubsetforscvelo_1229annotation.h5ad')\n",
    "adata"
   ]
  },
  {
   "cell_type": "code",
   "execution_count": 3,
   "id": "91608974-f8d6-4753-a3ba-e056ed170025",
   "metadata": {},
   "outputs": [
    {
     "data": {
      "text/plain": [
       "AAACCCAAGATGTAGT          P\n",
       "AAACCCAAGCCGCTTG        Mix\n",
       "AAACCCAAGGCTCTAT          Z\n",
       "AAACCCAGTCCAGGTC       SSC1\n",
       "AAACCCAGTTCGGCGT       SSC1\n",
       "                     ...   \n",
       "TTTGGTTTCCATACTT        Mix\n",
       "TTTGTTGAGACATCAA          D\n",
       "TTTGTTGAGATGTTAG    others1\n",
       "TTTGTTGAGTATGGAT         ES\n",
       "TTTGTTGCATATCTCT          D\n",
       "Name: cell_type, Length: 3868, dtype: category\n",
       "Categories (15, object): ['SSC1', 'SSC2', 'Diff SPG1', 'Diff SPG2', ..., 'ES', 'Mix', 'others1', 'others2']"
      ]
     },
     "execution_count": 3,
     "metadata": {},
     "output_type": "execute_result"
    }
   ],
   "source": [
    "adata.obs.cell_type"
   ]
  },
  {
   "cell_type": "code",
   "execution_count": 5,
   "id": "1e13d10e-4a3c-4805-a421-b00a0e711063",
   "metadata": {},
   "outputs": [
    {
     "name": "stdout",
     "output_type": "stream",
     "text": [
      "WARNING: saving figure to file figures/umapfigure2adultgermcellmks1229.pdf\n"
     ]
    }
   ],
   "source": [
    "marker_genes = ['UCHL1','BNC2','DMRT1','SOHLH1', 'ZCWPW1', \"TEX101\", \"NME8\",'TMIGD3',\"ADAM2\", \"SPAG16\",\"ACRV1\",\"PRM1\",'APOA1','RGS1','IGFBP7']\n",
    "sc.pl.umap(adata, color = marker_genes, ncols=5, save=\"figure2adultgermcellmks1229.pdf\")"
   ]
  },
  {
   "cell_type": "code",
   "execution_count": 7,
   "id": "c110ffed-1ad8-4a2a-96b8-b8bfd6844ad1",
   "metadata": {},
   "outputs": [],
   "source": [
    "sc.tl.rank_genes_groups(adata, groupby='cell_type', method='wilcoxon')\n",
    "pd.DataFrame(adata.uns['rank_genes_groups']['names']).head(5)\n",
    "adata.uns['rank_genes_groups'].keys()\n",
    "#dict_keys(['logfoldchanges', 'names', 'params', 'pvals', 'pvals_adj', 'scores'])\n",
    "result = adata.uns['rank_genes_groups']\n",
    "groups = result['names'].dtype.names\n",
    "pd.DataFrame(\n",
    "    {group + '_' + key[:1]: result[key][group]\n",
    "    for group in groups for key in ['names', 'pvals']}).head(5)\n",
    "res = pd.DataFrame(    \n",
    "    {group + '_' + key: result[key][group]    \n",
    "    for group in groups for key in ['names', 'pvals','logfoldchanges','pvals_adj','scores']})\n",
    "res.to_csv(\"diff_rank_genes_groups_adultcelltype1229.csv\")"
   ]
  },
  {
   "cell_type": "code",
   "execution_count": 12,
   "id": "7cfd6fa0-86ef-41d7-85d5-2d9649dde78b",
   "metadata": {},
   "outputs": [
    {
     "name": "stdout",
     "output_type": "stream",
     "text": [
      "WARNING: Gene labels are not shown when more than 50 genes are visualized. To show gene labels set `show_gene_labels=True`\n",
      "WARNING: saving figure to file figures/heatmapfig2germcelluseraw1229.pdf\n"
     ]
    },
    {
     "data": {
      "text/plain": [
       "{'heatmap_ax': <AxesSubplot:>,\n",
       " 'groupby_ax': <AxesSubplot:ylabel='cell_type'>,\n",
       " 'gene_groups_ax': <AxesSubplot:>}"
      ]
     },
     "execution_count": 12,
     "metadata": {},
     "output_type": "execute_result"
    }
   ],
   "source": [
    "sc.pl.rank_genes_groups_heatmap(adata, use_raw=True, vmin=-5, vmax=5,min_logfoldchange=1,groupby='cell_type', cmap='RdBu_r', show=False,dendrogram=False, save = \"fig2germcelluseraw1229.pdf\")"
   ]
  },
  {
   "cell_type": "code",
   "execution_count": 10,
   "id": "bf3f22c8-3984-4a42-9d1f-0bba16c8bb2a",
   "metadata": {},
   "outputs": [
    {
     "name": "stdout",
     "output_type": "stream",
     "text": [
      "WARNING: saving figure to file figures/matrixplot_fig2germcellmatrixplot1229.pdf\n"
     ]
    },
    {
     "data": {
      "text/plain": [
       "{'mainplot_ax': <AxesSubplot:>,\n",
       " 'gene_group_ax': <AxesSubplot:>,\n",
       " 'color_legend_ax': <AxesSubplot:title={'center':'log fold change'}>}"
      ]
     },
     "execution_count": 10,
     "metadata": {},
     "output_type": "execute_result"
    }
   ],
   "source": [
    "sc.pl.rank_genes_groups_matrixplot(\n",
    "    adata,\n",
    "    values_to_plot=\"logfoldchanges\",\n",
    "    groupby='cell_type',\n",
    "    cmap='bwr',\n",
    "    vmin=-4,\n",
    "    vmax=4,\n",
    "    show=False,\n",
    "    dendrogram=False,\n",
    "    min_logfoldchange=2,\n",
    "    colorbar_title='log fold change',\n",
    "    save = \"fig2germcellmatrixplot1229.pdf\")"
   ]
  },
  {
   "cell_type": "markdown",
   "id": "1693cd63-8d2e-4030-a25d-18993867904b",
   "metadata": {},
   "source": [
    "# scvelo"
   ]
  },
  {
   "cell_type": "code",
   "execution_count": 2,
   "id": "1f0fbfa4-99cf-41d9-90cf-a624900f3355",
   "metadata": {},
   "outputs": [
    {
     "data": {
      "text/plain": [
       "AnnData object with n_obs × n_vars = 3868 × 19297\n",
       "    obs: 'n_genes', 'n_genes_by_counts', 'total_counts', 'total_counts_mt', 'pct_counts_mt', 'total_counts_chrX', 'pct_counts_chrX', 'total_counts_chrY', 'pct_counts_chrY', 'S_score', 'G2M_score', 'phase', 'doublet', 'doublet_score', 'leiden', 'cell_type'\n",
       "    var: 'gene_ids', 'feature_types', 'genome', 'n_counts', 'mt', 'n_cells_by_counts', 'mean_counts', 'pct_dropout_by_counts', 'total_counts', 'chrX', 'chrY', 'highly_variable', 'means', 'dispersions', 'dispersions_norm'\n",
       "    uns: 'cell_type_colors', 'dendrogram_cell_type', 'dendrogram_leiden', 'hvg', 'leiden', 'leiden_colors', 'neighbors', 'pca', 'rank_genes_groups', 'tsne', 'umap'\n",
       "    obsm: 'X_pca', 'X_tsne', 'X_umap'\n",
       "    varm: 'PCs'\n",
       "    obsp: 'connectivities', 'distances'"
      ]
     },
     "execution_count": 2,
     "metadata": {},
     "output_type": "execute_result"
    },
    {
     "name": "stderr",
     "output_type": "stream",
     "text": [
      "ERROR: XMLRPC request failed [code: -32500]\n",
      "RuntimeError: PyPI no longer supports 'pip search' (or XML-RPC search). Please use https://pypi.org/search (via a browser) instead. See https://warehouse.pypa.io/api-reference/xml-rpc.html#deprecated-methods for more information.\n"
     ]
    }
   ],
   "source": [
    "adata = sc.read('./figures/adult_germsubsetforscvelo_1223unannotation.h5ad')\n",
    "adata"
   ]
  },
  {
   "cell_type": "markdown",
   "id": "89dbde4d-ab9c-4170-994e-77706af35552",
   "metadata": {},
   "source": [
    "## 细胞注释（1227）"
   ]
  },
  {
   "cell_type": "code",
   "execution_count": null,
   "id": "22f73b59-e565-4a4b-862d-528bc73e01b5",
   "metadata": {},
   "outputs": [],
   "source": []
  },
  {
   "cell_type": "code",
   "execution_count": 104,
   "id": "a9ef842b-8e5b-4da3-ae67-595a7b2b407b",
   "metadata": {},
   "outputs": [
    {
     "data": {
      "text/plain": [
       "AnnData object with n_obs × n_vars = 3600 × 19297\n",
       "    obs: 'n_genes', 'n_genes_by_counts', 'total_counts', 'total_counts_mt', 'pct_counts_mt', 'total_counts_chrX', 'pct_counts_chrX', 'total_counts_chrY', 'pct_counts_chrY', 'S_score', 'G2M_score', 'phase', 'doublet', 'doublet_score', 'leiden', 'cell_type'\n",
       "    var: 'gene_ids', 'feature_types', 'genome', 'n_counts', 'mt', 'n_cells_by_counts', 'mean_counts', 'pct_dropout_by_counts', 'total_counts', 'chrX', 'chrY', 'highly_variable', 'means', 'dispersions', 'dispersions_norm'\n",
       "    uns: 'cell_type_colors', 'dendrogram_cell_type', 'dendrogram_leiden', 'hvg', 'leiden', 'leiden_colors', 'neighbors', 'pca', 'rank_genes_groups', 'tsne', 'umap'\n",
       "    obsm: 'X_pca', 'X_tsne', 'X_umap'\n",
       "    obsp: 'connectivities', 'distances'"
      ]
     },
     "execution_count": 104,
     "metadata": {},
     "output_type": "execute_result"
    }
   ],
   "source": [
    "adult_germsubsetformonocle = adult_germsubsetformonocle.raw.to_adata()\n",
    "adult_germsubsetformonocle"
   ]
  },
  {
   "cell_type": "code",
   "execution_count": 185,
   "id": "b91820ce-b5ed-40e7-81d4-8ac19d3d18b4",
   "metadata": {},
   "outputs": [
    {
     "name": "stdout",
     "output_type": "stream",
     "text": [
      "saving figure to file ./figures/proportions1224forscvelo.pdf\n",
      "saving figure to file ./figures/germcellforscvelospliced1229.pdf\n",
      "Filtered out 9225 genes that are detected 20 counts (shared).\n",
      "WARNING: Did not normalize X as it looks processed already. To enforce normalization, set `enforce=True`.\n",
      "Normalized count data: spliced, unspliced.\n",
      "Extracted 2000 highly variable genes.\n",
      "WARNING: Did not modify X as it looks preprocessed already.\n",
      "computing neighbors\n",
      "    finished (0:00:00) --> added \n",
      "    'distances' and 'connectivities', weighted adjacency matrices (adata.obsp)\n",
      "computing moments based on connectivities\n",
      "    finished (0:00:00) --> added \n",
      "    'Ms' and 'Mu', moments of un/spliced abundances (adata.layers)\n"
     ]
    }
   ],
   "source": [
    "adata_loom = scv.read('/public/home/zhaox/pigscRNA-seq/Adult/Adult.loom', cache=True)\n",
    "scv.pl.proportions(adata_loom,save=\"./figures/proportions1224forscvelo.pdf\")\n",
    "adata = scv.utils.merge(adult_germsubsetforscveloraw, adata_loom)\n",
    "scv.pl.proportions(\n",
    "    adata,\n",
    "    groupby='cell_type',\n",
    "    layers=None,\n",
    "    highlight='unspliced',\n",
    "    add_labels_pie=True,\n",
    "    add_labels_bar=True,\n",
    "    fontsize=8,\n",
    "    figsize=(15, 2),\n",
    "    dpi=600,\n",
    "    use_raw=True,\n",
    "    show=True,\n",
    "    save=\"./figures/germcellforscvelospliced1229.pdf\",\n",
    ")\n",
    "scv.pp.filter_and_normalize(adata, min_shared_counts=20, n_top_genes=2000)\n",
    "scv.pp.moments(adata, n_pcs=30, n_neighbors=30)"
   ]
  },
  {
   "cell_type": "markdown",
   "id": "05dc5149-0f60-4683-be36-a9096bce68a4",
   "metadata": {},
   "source": [
    "# Estimate RNA velocity"
   ]
  },
  {
   "cell_type": "code",
   "execution_count": 6,
   "id": "3b690a2f-2542-410d-a216-fff2b65d5bd1",
   "metadata": {},
   "outputs": [
    {
     "name": "stdout",
     "output_type": "stream",
     "text": [
      "computing velocities\n",
      "    finished (0:00:01) --> added \n",
      "    'velocity', velocity vectors for each individual cell (adata.layers)\n"
     ]
    }
   ],
   "source": [
    "scv.tl.velocity(adata)"
   ]
  },
  {
   "cell_type": "code",
   "execution_count": 7,
   "id": "52598259-1edc-4d7e-9023-ed5221243714",
   "metadata": {},
   "outputs": [
    {
     "name": "stdout",
     "output_type": "stream",
     "text": [
      "computing velocity graph (using 1/24 cores)\n"
     ]
    },
    {
     "data": {
      "application/vnd.jupyter.widget-view+json": {
       "model_id": "dafd223f7a89495689b2a449e27a6468",
       "version_major": 2,
       "version_minor": 0
      },
      "text/plain": [
       "  0%|          | 0/3868 [00:00<?, ?cells/s]"
      ]
     },
     "metadata": {},
     "output_type": "display_data"
    },
    {
     "name": "stdout",
     "output_type": "stream",
     "text": [
      "    finished (0:00:18) --> added \n",
      "    'velocity_graph', sparse matrix with cosine correlations (adata.uns)\n"
     ]
    }
   ],
   "source": [
    "scv.tl.velocity_graph(adata)"
   ]
  },
  {
   "cell_type": "code",
   "execution_count": 8,
   "id": "4507039c-6feb-45e3-aaf5-6cdb4cd89d41",
   "metadata": {},
   "outputs": [
    {
     "name": "stdout",
     "output_type": "stream",
     "text": [
      "computing velocity embedding\n",
      "    finished (0:00:01) --> added\n",
      "    'velocity_umap', embedded velocity vectors (adata.obsm)\n",
      "figure cannot be saved as pdf, using png instead.\n",
      "saving figure to file ./figures/germcellforscvelo_embeddingstream1224.png\n"
     ]
    }
   ],
   "source": [
    "scv.pl.velocity_embedding_stream(adata, basis='umap',color='leiden',save='./figures/germcellforscvelo_embeddingstream1224.pdf')"
   ]
  },
  {
   "cell_type": "code",
   "execution_count": 11,
   "id": "baf4c361-f32d-49a7-a5db-ac7301f3db01",
   "metadata": {},
   "outputs": [
    {
     "name": "stdout",
     "output_type": "stream",
     "text": [
      "saving figure to file ./figures/germcellforscvelo_velocity1224.pdf\n"
     ]
    }
   ],
   "source": [
    "scv.pl.velocity_embedding(adata, arrow_length=3, arrow_size=2, dpi=600,color='leiden',legend_loc='on data',save='./figures/germcellforscvelo_velocity1224.pdf')"
   ]
  },
  {
   "cell_type": "markdown",
   "id": "b6fd3419-01c3-42ad-95fa-e51dff371669",
   "metadata": {},
   "source": [
    "# Interprete the velocities ['UCHL1', 'SOHLH1', 'DMRT1','STRA8','SMC1B','ZCWPW1','ACRV1','SPACA1','PRM1', 'PRM2', 'TNP1', 'TNP2', 'SPATA3']"
   ]
  },
  {
   "cell_type": "code",
   "execution_count": 14,
   "id": "56427323-1f17-4663-823c-99ded7f7204c",
   "metadata": {},
   "outputs": [
    {
     "name": "stdout",
     "output_type": "stream",
     "text": [
      "saving figure to file ./figures/germcellforscvelo_phaseportraitsmarkers1224.pdf\n"
     ]
    }
   ],
   "source": [
    "scv.pl.velocity(adata, ['UCHL1', 'SOHLH1', 'DMRT1','MKI67'],color='leiden', ncols=2,save='./figures/germcellforscvelo_phaseportraitsmarkers1224.pdf')"
   ]
  },
  {
   "cell_type": "code",
   "execution_count": 13,
   "id": "1f419a6c-bdae-404e-8b29-481ed9523a89",
   "metadata": {},
   "outputs": [
    {
     "name": "stdout",
     "output_type": "stream",
     "text": [
      "saving figure to file ./figures/germcellforscvelo_phasesmc1b1224.pdf\n"
     ]
    }
   ],
   "source": [
    "scv.pl.velocity(adata, ['SMC1B','ZCWPW1','ACRV1','SPACA1'],color='leiden', ncols=2,save='./figures/germcellforscvelo_phasesmc1b1224.pdf')"
   ]
  },
  {
   "cell_type": "code",
   "execution_count": 15,
   "id": "f47bb3de-5221-4701-b0e0-ac987bae22d7",
   "metadata": {},
   "outputs": [
    {
     "name": "stdout",
     "output_type": "stream",
     "text": [
      "saving figure to file ./figures/germcellforscvelo_phaseprm1tnp1224.pdf\n"
     ]
    }
   ],
   "source": [
    "scv.pl.velocity(adata, ['PRM1', 'PRM2', 'TNP1', 'TNP2', 'SPATA3'],color='leiden', ncols=2,save='./figures/germcellforscvelo_phaseprm1tnp1224.pdf')"
   ]
  },
  {
   "cell_type": "markdown",
   "id": "59a75e49-6f6f-4234-85b5-ad63d9333f09",
   "metadata": {},
   "source": [
    "# Identify important genes (作图有需要再补充吧)"
   ]
  },
  {
   "cell_type": "code",
   "execution_count": 16,
   "id": "5dc10b7c-4374-4aec-8eae-994aaa80ea8d",
   "metadata": {},
   "outputs": [
    {
     "name": "stdout",
     "output_type": "stream",
     "text": [
      "ranking velocity genes\n",
      "    finished (0:00:03) --> added \n",
      "    'rank_velocity_genes', sorted scores by group ids (adata.uns) \n",
      "    'spearmans_score', spearmans correlation scores (adata.var)\n"
     ]
    },
    {
     "data": {
      "text/html": [
       "<div>\n",
       "<style scoped>\n",
       "    .dataframe tbody tr th:only-of-type {\n",
       "        vertical-align: middle;\n",
       "    }\n",
       "\n",
       "    .dataframe tbody tr th {\n",
       "        vertical-align: top;\n",
       "    }\n",
       "\n",
       "    .dataframe thead th {\n",
       "        text-align: right;\n",
       "    }\n",
       "</style>\n",
       "<table border=\"1\" class=\"dataframe\">\n",
       "  <thead>\n",
       "    <tr style=\"text-align: right;\">\n",
       "      <th></th>\n",
       "      <th>0</th>\n",
       "      <th>1</th>\n",
       "      <th>2</th>\n",
       "      <th>3</th>\n",
       "      <th>4</th>\n",
       "      <th>5</th>\n",
       "      <th>6</th>\n",
       "      <th>7</th>\n",
       "      <th>8</th>\n",
       "      <th>9</th>\n",
       "      <th>10</th>\n",
       "      <th>11</th>\n",
       "      <th>12</th>\n",
       "      <th>13</th>\n",
       "      <th>14</th>\n",
       "      <th>15</th>\n",
       "      <th>16</th>\n",
       "      <th>17</th>\n",
       "      <th>18</th>\n",
       "    </tr>\n",
       "  </thead>\n",
       "  <tbody>\n",
       "    <tr>\n",
       "      <th>0</th>\n",
       "      <td>UTRN</td>\n",
       "      <td>HSF5</td>\n",
       "      <td>FTL</td>\n",
       "      <td>SCP2D1</td>\n",
       "      <td>BBX</td>\n",
       "      <td>CCDC181</td>\n",
       "      <td>CEP128</td>\n",
       "      <td>BCAP31</td>\n",
       "      <td>NME7</td>\n",
       "      <td>ENTPD1</td>\n",
       "      <td>RHOBTB3</td>\n",
       "      <td>SCP2D1</td>\n",
       "      <td>PTPN22</td>\n",
       "      <td>KIAA0895</td>\n",
       "      <td>PRKCQ</td>\n",
       "      <td>ITK</td>\n",
       "      <td>PTPRG</td>\n",
       "      <td>BNC2</td>\n",
       "      <td>ACRV1</td>\n",
       "    </tr>\n",
       "    <tr>\n",
       "      <th>1</th>\n",
       "      <td>ADAMTS9</td>\n",
       "      <td>LOC110257476</td>\n",
       "      <td>CLGN</td>\n",
       "      <td>WNK3</td>\n",
       "      <td>ART3</td>\n",
       "      <td>CALR3</td>\n",
       "      <td>SLC9B1</td>\n",
       "      <td>BUD23</td>\n",
       "      <td>CCDC60</td>\n",
       "      <td>FSIP1</td>\n",
       "      <td>CLPB</td>\n",
       "      <td>WNK3</td>\n",
       "      <td>STAT4</td>\n",
       "      <td>LOC100524097</td>\n",
       "      <td>UTRN</td>\n",
       "      <td>RUNX3</td>\n",
       "      <td>FN1</td>\n",
       "      <td>MED12L</td>\n",
       "      <td>PTPRC</td>\n",
       "    </tr>\n",
       "    <tr>\n",
       "      <th>2</th>\n",
       "      <td>CRIM1</td>\n",
       "      <td>NSUN7</td>\n",
       "      <td>MKI67</td>\n",
       "      <td>TCHH</td>\n",
       "      <td>DAZL</td>\n",
       "      <td>LOC100519521</td>\n",
       "      <td>WDR62</td>\n",
       "      <td>BBX</td>\n",
       "      <td>CFAP58</td>\n",
       "      <td>LRRIQ1</td>\n",
       "      <td>PRPSAP1</td>\n",
       "      <td>CPEB4</td>\n",
       "      <td>STK39</td>\n",
       "      <td>MGAT4D</td>\n",
       "      <td>NCOA7</td>\n",
       "      <td>STK17A</td>\n",
       "      <td>EBF1</td>\n",
       "      <td>ADAMTSL1</td>\n",
       "      <td>C3H2orf74</td>\n",
       "    </tr>\n",
       "    <tr>\n",
       "      <th>3</th>\n",
       "      <td>AFF1</td>\n",
       "      <td>MAATS1</td>\n",
       "      <td>LOC110260932</td>\n",
       "      <td>SLC9B1</td>\n",
       "      <td>ZCWPW1</td>\n",
       "      <td>LOC110261055</td>\n",
       "      <td>SPDYA</td>\n",
       "      <td>GALNTL5</td>\n",
       "      <td>ULK4</td>\n",
       "      <td>LEKR1</td>\n",
       "      <td>HEMGN</td>\n",
       "      <td>HFM1</td>\n",
       "      <td>ARHGEF3</td>\n",
       "      <td>HECTD2</td>\n",
       "      <td>WWTR1</td>\n",
       "      <td>DOCK10</td>\n",
       "      <td>LAMA2</td>\n",
       "      <td>GALNTL5</td>\n",
       "      <td>C1H6orf118</td>\n",
       "    </tr>\n",
       "    <tr>\n",
       "      <th>4</th>\n",
       "      <td>SASH1</td>\n",
       "      <td>ARID4A</td>\n",
       "      <td>PRPSAP1</td>\n",
       "      <td>MEIOB</td>\n",
       "      <td>HFM1</td>\n",
       "      <td>MROH2A</td>\n",
       "      <td>HHLA2</td>\n",
       "      <td>STK17A</td>\n",
       "      <td>KIAA0825</td>\n",
       "      <td>SPATA17</td>\n",
       "      <td>FTL</td>\n",
       "      <td>MEIOB</td>\n",
       "      <td>GOLM1</td>\n",
       "      <td>LOC110260932</td>\n",
       "      <td>ZFP36L1</td>\n",
       "      <td>CYTIP</td>\n",
       "      <td>LSMEM1</td>\n",
       "      <td>LOC100524794</td>\n",
       "      <td>SH3YL1</td>\n",
       "    </tr>\n",
       "  </tbody>\n",
       "</table>\n",
       "</div>"
      ],
      "text/plain": [
       "         0             1             2       3       4             5       6  \\\n",
       "0     UTRN          HSF5           FTL  SCP2D1     BBX       CCDC181  CEP128   \n",
       "1  ADAMTS9  LOC110257476          CLGN    WNK3    ART3         CALR3  SLC9B1   \n",
       "2    CRIM1         NSUN7         MKI67    TCHH    DAZL  LOC100519521   WDR62   \n",
       "3     AFF1        MAATS1  LOC110260932  SLC9B1  ZCWPW1  LOC110261055   SPDYA   \n",
       "4    SASH1        ARID4A       PRPSAP1   MEIOB    HFM1        MROH2A   HHLA2   \n",
       "\n",
       "         7         8        9       10      11       12            13  \\\n",
       "0   BCAP31      NME7   ENTPD1  RHOBTB3  SCP2D1   PTPN22      KIAA0895   \n",
       "1    BUD23    CCDC60    FSIP1     CLPB    WNK3    STAT4  LOC100524097   \n",
       "2      BBX    CFAP58   LRRIQ1  PRPSAP1   CPEB4    STK39        MGAT4D   \n",
       "3  GALNTL5      ULK4    LEKR1    HEMGN    HFM1  ARHGEF3        HECTD2   \n",
       "4   STK17A  KIAA0825  SPATA17      FTL   MEIOB    GOLM1  LOC110260932   \n",
       "\n",
       "        14      15      16            17          18  \n",
       "0    PRKCQ     ITK   PTPRG          BNC2       ACRV1  \n",
       "1     UTRN   RUNX3     FN1        MED12L       PTPRC  \n",
       "2    NCOA7  STK17A    EBF1      ADAMTSL1   C3H2orf74  \n",
       "3    WWTR1  DOCK10   LAMA2       GALNTL5  C1H6orf118  \n",
       "4  ZFP36L1   CYTIP  LSMEM1  LOC100524794      SH3YL1  "
      ]
     },
     "execution_count": 16,
     "metadata": {},
     "output_type": "execute_result"
    }
   ],
   "source": [
    "scv.tl.rank_velocity_genes(adata, groupby='leiden', min_corr=.3)\n",
    "df = scv.DataFrame(adata.uns['rank_velocity_genes']['names'])\n",
    "df.head()"
   ]
  },
  {
   "cell_type": "code",
   "execution_count": 17,
   "id": "0e85a1d6-73db-452c-ae4c-67fc1caa314d",
   "metadata": {},
   "outputs": [
    {
     "name": "stdout",
     "output_type": "stream",
     "text": [
      "saving figure to file ./figures/germcellforscvelocluster0_genecandidates.pdf\n"
     ]
    }
   ],
   "source": [
    "kwargs = dict(frameon=False, size=10, linewidth=1.5)\n",
    "scv.pl.scatter(adata, df['0'][:10], ylabel='0', color='leiden', ncols=5, save='./figures/germcellforscvelocluster0_genecandidates.pdf',**kwargs)"
   ]
  },
  {
   "cell_type": "markdown",
   "id": "bb6e67dc-03c0-486f-adcd-99e3e5c258f4",
   "metadata": {},
   "source": [
    "# Velocities in cycling progenitors\n",
    "# The cell cycle detected by RNA velocity, is biologically affirmed by cell cycle scores (standardized scores of mean expression levels of phase marker genes)."
   ]
  },
  {
   "cell_type": "code",
   "execution_count": 18,
   "id": "5c108ea4-e935-48ca-b20b-4d955a6fea1c",
   "metadata": {},
   "outputs": [
    {
     "name": "stdout",
     "output_type": "stream",
     "text": [
      "calculating cell cycle phase\n",
      "-->     'S_score' and 'G2M_score', scores of cell cycle phases (adata.obs)\n",
      "saving figure to file ./figures/germcellforscvelo_cellcyclephase.pdf\n"
     ]
    }
   ],
   "source": [
    "scv.tl.score_genes_cell_cycle(adata)\n",
    "scv.pl.scatter(adata, color_gradients=['S_score', 'G2M_score'], smooth=True, perc=[5, 95], save= './figures/germcellforscvelo_cellcyclephase.pdf')"
   ]
  },
  {
   "cell_type": "code",
   "execution_count": 20,
   "id": "7230f584-704e-4060-9f7f-99146c5530a7",
   "metadata": {},
   "outputs": [
    {
     "name": "stdout",
     "output_type": "stream",
     "text": [
      "saving figure to file ./figures/germcellforscvelo_cellcycle_phaseportraits.pdf\n"
     ]
    }
   ],
   "source": [
    "s_genes, g2m_genes = scv.utils.get_phase_marker_genes(adata)\n",
    "s_genes = scv.get_df(adata[:, s_genes], 'spearmans_score', sort_values=True).index\n",
    "g2m_genes = scv.get_df(adata[:, g2m_genes], 'spearmans_score', sort_values=True).index\n",
    "\n",
    "kwargs = dict(frameon=False, ylabel='cell cycle genes')\n",
    "scv.pl.scatter(adata, list(s_genes[:5]) + list(g2m_genes[:5]),color='leiden', **kwargs,save='./figures/germcellforscvelo_cellcycle_phaseportraits.pdf')"
   ]
  },
  {
   "cell_type": "code",
   "execution_count": 22,
   "id": "efde8c8f-55c2-40c1-9391-d360c8b68c2e",
   "metadata": {},
   "outputs": [
    {
     "name": "stdout",
     "output_type": "stream",
     "text": [
      "saving figure to file ./figures/germcellforscvelo_CENPFMKI67_phaseportraits.pdf\n"
     ]
    }
   ],
   "source": [
    "scv.pl.velocity(adata, ['MKI67','TTK','CENPF'], ncols=2, color='leiden',save='./figures/germcellforscvelo_CENPFMKI67_phaseportraits.pdf')"
   ]
  },
  {
   "cell_type": "markdown",
   "id": "f7090f24-45a2-4faf-877e-1d6fbaf8a77c",
   "metadata": {},
   "source": [
    "# Speed and coherence\n",
    "# Two more useful stats: - The speed or rate of differentiation is given by the length of the velocity vector. - The coherence of the vector field (i.e., how a velocity vector correlates with its neighboring velocities) provides a measure of confidence.\n",
    "# (重要) These provide insights where cells differentiate at a slower/faster pace, and where the direction is un-/determined."
   ]
  },
  {
   "cell_type": "code",
   "execution_count": 23,
   "id": "1b81ff28-5872-45d1-b5c0-0de89dd81be4",
   "metadata": {},
   "outputs": [
    {
     "name": "stdout",
     "output_type": "stream",
     "text": [
      "--> added 'velocity_length' (adata.obs)\n",
      "--> added 'velocity_confidence' (adata.obs)\n",
      "--> added 'velocity_confidence_transition' (adata.obs)\n",
      "saving figure to file ./figures/germcellforscvelovelocity_lengthconfidence.pdf\n"
     ]
    }
   ],
   "source": [
    "scv.tl.velocity_confidence(adata)\n",
    "keys = 'velocity_length', 'velocity_confidence'\n",
    "scv.pl.scatter(adata, c=keys, cmap='coolwarm', color='leiden', perc=[5, 95], save='./figures/germcellforscvelovelocity_lengthconfidence.pdf')"
   ]
  },
  {
   "cell_type": "code",
   "execution_count": 24,
   "id": "dc175964-29b2-465c-8449-19d86917c51b",
   "metadata": {},
   "outputs": [
    {
     "data": {
      "text/html": [
       "<style type=\"text/css\">\n",
       "#T_dc961_row0_col0 {\n",
       "  background-color: #96b7ff;\n",
       "  color: #000000;\n",
       "}\n",
       "#T_dc961_row0_col1 {\n",
       "  background-color: #cedaeb;\n",
       "  color: #000000;\n",
       "}\n",
       "#T_dc961_row0_col2 {\n",
       "  background-color: #adc9fd;\n",
       "  color: #000000;\n",
       "}\n",
       "#T_dc961_row0_col3 {\n",
       "  background-color: #4a63d3;\n",
       "  color: #f1f1f1;\n",
       "}\n",
       "#T_dc961_row0_col4 {\n",
       "  background-color: #6180e9;\n",
       "  color: #f1f1f1;\n",
       "}\n",
       "#T_dc961_row0_col5 {\n",
       "  background-color: #94b6ff;\n",
       "  color: #000000;\n",
       "}\n",
       "#T_dc961_row0_col6 {\n",
       "  background-color: #4055c8;\n",
       "  color: #f1f1f1;\n",
       "}\n",
       "#T_dc961_row0_col7 {\n",
       "  background-color: #3e51c5;\n",
       "  color: #f1f1f1;\n",
       "}\n",
       "#T_dc961_row0_col8 {\n",
       "  background-color: #d4dbe6;\n",
       "  color: #000000;\n",
       "}\n",
       "#T_dc961_row0_col9 {\n",
       "  background-color: #cfdaea;\n",
       "  color: #000000;\n",
       "}\n",
       "#T_dc961_row0_col10, #T_dc961_row1_col9 {\n",
       "  background-color: #b40426;\n",
       "  color: #f1f1f1;\n",
       "}\n",
       "#T_dc961_row0_col11 {\n",
       "  background-color: #5b7ae5;\n",
       "  color: #f1f1f1;\n",
       "}\n",
       "#T_dc961_row0_col12 {\n",
       "  background-color: #cc403a;\n",
       "  color: #f1f1f1;\n",
       "}\n",
       "#T_dc961_row0_col13 {\n",
       "  background-color: #6384eb;\n",
       "  color: #f1f1f1;\n",
       "}\n",
       "#T_dc961_row0_col14 {\n",
       "  background-color: #97b8ff;\n",
       "  color: #000000;\n",
       "}\n",
       "#T_dc961_row0_col15 {\n",
       "  background-color: #a6c4fe;\n",
       "  color: #000000;\n",
       "}\n",
       "#T_dc961_row0_col16 {\n",
       "  background-color: #d3dbe7;\n",
       "  color: #000000;\n",
       "}\n",
       "#T_dc961_row0_col17, #T_dc961_row1_col5 {\n",
       "  background-color: #3b4cc0;\n",
       "  color: #f1f1f1;\n",
       "}\n",
       "#T_dc961_row0_col18 {\n",
       "  background-color: #85a8fc;\n",
       "  color: #f1f1f1;\n",
       "}\n",
       "#T_dc961_row1_col0, #T_dc961_row1_col7 {\n",
       "  background-color: #e1dad6;\n",
       "  color: #000000;\n",
       "}\n",
       "#T_dc961_row1_col1 {\n",
       "  background-color: #f08b6e;\n",
       "  color: #f1f1f1;\n",
       "}\n",
       "#T_dc961_row1_col2 {\n",
       "  background-color: #d5dbe5;\n",
       "  color: #000000;\n",
       "}\n",
       "#T_dc961_row1_col3 {\n",
       "  background-color: #f7af91;\n",
       "  color: #000000;\n",
       "}\n",
       "#T_dc961_row1_col4 {\n",
       "  background-color: #c0282f;\n",
       "  color: #f1f1f1;\n",
       "}\n",
       "#T_dc961_row1_col6 {\n",
       "  background-color: #c53334;\n",
       "  color: #f1f1f1;\n",
       "}\n",
       "#T_dc961_row1_col8 {\n",
       "  background-color: #c12b30;\n",
       "  color: #f1f1f1;\n",
       "}\n",
       "#T_dc961_row1_col10 {\n",
       "  background-color: #ea7b60;\n",
       "  color: #f1f1f1;\n",
       "}\n",
       "#T_dc961_row1_col11 {\n",
       "  background-color: #e16751;\n",
       "  color: #f1f1f1;\n",
       "}\n",
       "#T_dc961_row1_col12 {\n",
       "  background-color: #be242e;\n",
       "  color: #f1f1f1;\n",
       "}\n",
       "#T_dc961_row1_col13 {\n",
       "  background-color: #e7745b;\n",
       "  color: #f1f1f1;\n",
       "}\n",
       "#T_dc961_row1_col14 {\n",
       "  background-color: #e0dbd8;\n",
       "  color: #000000;\n",
       "}\n",
       "#T_dc961_row1_col15 {\n",
       "  background-color: #f49a7b;\n",
       "  color: #000000;\n",
       "}\n",
       "#T_dc961_row1_col16 {\n",
       "  background-color: #f29072;\n",
       "  color: #f1f1f1;\n",
       "}\n",
       "#T_dc961_row1_col17 {\n",
       "  background-color: #7699f6;\n",
       "  color: #f1f1f1;\n",
       "}\n",
       "#T_dc961_row1_col18 {\n",
       "  background-color: #f5a081;\n",
       "  color: #000000;\n",
       "}\n",
       "</style>\n",
       "<table id=\"T_dc961\">\n",
       "  <thead>\n",
       "    <tr>\n",
       "      <th class=\"index_name level0\" >leiden</th>\n",
       "      <th id=\"T_dc961_level0_col0\" class=\"col_heading level0 col0\" >0</th>\n",
       "      <th id=\"T_dc961_level0_col1\" class=\"col_heading level0 col1\" >1</th>\n",
       "      <th id=\"T_dc961_level0_col2\" class=\"col_heading level0 col2\" >2</th>\n",
       "      <th id=\"T_dc961_level0_col3\" class=\"col_heading level0 col3\" >3</th>\n",
       "      <th id=\"T_dc961_level0_col4\" class=\"col_heading level0 col4\" >4</th>\n",
       "      <th id=\"T_dc961_level0_col5\" class=\"col_heading level0 col5\" >5</th>\n",
       "      <th id=\"T_dc961_level0_col6\" class=\"col_heading level0 col6\" >6</th>\n",
       "      <th id=\"T_dc961_level0_col7\" class=\"col_heading level0 col7\" >7</th>\n",
       "      <th id=\"T_dc961_level0_col8\" class=\"col_heading level0 col8\" >8</th>\n",
       "      <th id=\"T_dc961_level0_col9\" class=\"col_heading level0 col9\" >9</th>\n",
       "      <th id=\"T_dc961_level0_col10\" class=\"col_heading level0 col10\" >10</th>\n",
       "      <th id=\"T_dc961_level0_col11\" class=\"col_heading level0 col11\" >11</th>\n",
       "      <th id=\"T_dc961_level0_col12\" class=\"col_heading level0 col12\" >12</th>\n",
       "      <th id=\"T_dc961_level0_col13\" class=\"col_heading level0 col13\" >13</th>\n",
       "      <th id=\"T_dc961_level0_col14\" class=\"col_heading level0 col14\" >14</th>\n",
       "      <th id=\"T_dc961_level0_col15\" class=\"col_heading level0 col15\" >15</th>\n",
       "      <th id=\"T_dc961_level0_col16\" class=\"col_heading level0 col16\" >16</th>\n",
       "      <th id=\"T_dc961_level0_col17\" class=\"col_heading level0 col17\" >17</th>\n",
       "      <th id=\"T_dc961_level0_col18\" class=\"col_heading level0 col18\" >18</th>\n",
       "    </tr>\n",
       "  </thead>\n",
       "  <tbody>\n",
       "    <tr>\n",
       "      <th id=\"T_dc961_level0_row0\" class=\"row_heading level0 row0\" >velocity_length</th>\n",
       "      <td id=\"T_dc961_row0_col0\" class=\"data row0 col0\" >7.824484</td>\n",
       "      <td id=\"T_dc961_row0_col1\" class=\"data row0 col1\" >10.365988</td>\n",
       "      <td id=\"T_dc961_row0_col2\" class=\"data row0 col2\" >8.786892</td>\n",
       "      <td id=\"T_dc961_row0_col3\" class=\"data row0 col3\" >4.577942</td>\n",
       "      <td id=\"T_dc961_row0_col4\" class=\"data row0 col4\" >5.610000</td>\n",
       "      <td id=\"T_dc961_row0_col5\" class=\"data row0 col5\" >7.806567</td>\n",
       "      <td id=\"T_dc961_row0_col6\" class=\"data row0 col6\" >4.106429</td>\n",
       "      <td id=\"T_dc961_row0_col7\" class=\"data row0 col7\" >3.999681</td>\n",
       "      <td id=\"T_dc961_row0_col8\" class=\"data row0 col8\" >10.645082</td>\n",
       "      <td id=\"T_dc961_row0_col9\" class=\"data row0 col9\" >10.401092</td>\n",
       "      <td id=\"T_dc961_row0_col10\" class=\"data row0 col10\" >18.419329</td>\n",
       "      <td id=\"T_dc961_row0_col11\" class=\"data row0 col11\" >5.397273</td>\n",
       "      <td id=\"T_dc961_row0_col12\" class=\"data row0 col12\" >17.444445</td>\n",
       "      <td id=\"T_dc961_row0_col13\" class=\"data row0 col13\" >5.739756</td>\n",
       "      <td id=\"T_dc961_row0_col14\" class=\"data row0 col14\" >7.909041</td>\n",
       "      <td id=\"T_dc961_row0_col15\" class=\"data row0 col15\" >8.519841</td>\n",
       "      <td id=\"T_dc961_row0_col16\" class=\"data row0 col16\" >10.568709</td>\n",
       "      <td id=\"T_dc961_row0_col17\" class=\"data row0 col17\" >3.821026</td>\n",
       "      <td id=\"T_dc961_row0_col18\" class=\"data row0 col18\" >7.180313</td>\n",
       "    </tr>\n",
       "    <tr>\n",
       "      <th id=\"T_dc961_level0_row1\" class=\"row_heading level0 row1\" >velocity_confidence</th>\n",
       "      <td id=\"T_dc961_row1_col0\" class=\"data row1 col0\" >0.768711</td>\n",
       "      <td id=\"T_dc961_row1_col1\" class=\"data row1 col1\" >0.868035</td>\n",
       "      <td id=\"T_dc961_row1_col2\" class=\"data row1 col2\" >0.751566</td>\n",
       "      <td id=\"T_dc961_row1_col3\" class=\"data row1 col3\" >0.834872</td>\n",
       "      <td id=\"T_dc961_row1_col4\" class=\"data row1 col4\" >0.936073</td>\n",
       "      <td id=\"T_dc961_row1_col5\" class=\"data row1 col5\" >0.577020</td>\n",
       "      <td id=\"T_dc961_row1_col6\" class=\"data row1 col6\" >0.929939</td>\n",
       "      <td id=\"T_dc961_row1_col7\" class=\"data row1 col7\" >0.769593</td>\n",
       "      <td id=\"T_dc961_row1_col8\" class=\"data row1 col8\" >0.933925</td>\n",
       "      <td id=\"T_dc961_row1_col9\" class=\"data row1 col9\" >0.948079</td>\n",
       "      <td id=\"T_dc961_row1_col10\" class=\"data row1 col10\" >0.880582</td>\n",
       "      <td id=\"T_dc961_row1_col11\" class=\"data row1 col11\" >0.896084</td>\n",
       "      <td id=\"T_dc961_row1_col12\" class=\"data row1 col12\" >0.937869</td>\n",
       "      <td id=\"T_dc961_row1_col13\" class=\"data row1 col13\" >0.885766</td>\n",
       "      <td id=\"T_dc961_row1_col14\" class=\"data row1 col14\" >0.767653</td>\n",
       "      <td id=\"T_dc961_row1_col15\" class=\"data row1 col15\" >0.854595</td>\n",
       "      <td id=\"T_dc961_row1_col16\" class=\"data row1 col16\" >0.862628</td>\n",
       "      <td id=\"T_dc961_row1_col17\" class=\"data row1 col17\" >0.646432</td>\n",
       "      <td id=\"T_dc961_row1_col18\" class=\"data row1 col18\" >0.848301</td>\n",
       "    </tr>\n",
       "  </tbody>\n",
       "</table>\n"
      ],
      "text/plain": [
       "<pandas.io.formats.style.Styler at 0x7f46bb5ee1f0>"
      ]
     },
     "execution_count": 24,
     "metadata": {},
     "output_type": "execute_result"
    }
   ],
   "source": [
    "df = adata.obs.groupby('leiden')[keys].mean().T\n",
    "df.style.background_gradient(cmap='coolwarm', axis=1)"
   ]
  },
  {
   "cell_type": "markdown",
   "id": "c1dd14f6-dee5-4633-9964-641fc46f10d3",
   "metadata": {},
   "source": [
    "# Velocity graph and pseudotime\n",
    "# We can visualize the velocity graph to portray all velocity-inferred cell-to-cell connections/transitions. It can be confined to high-probability transitions by setting a threshold. The graph, for instance, indicates two phases of Epsilon cell production, coming from early and late Pre-endocrine cells."
   ]
  },
  {
   "cell_type": "code",
   "execution_count": 25,
   "id": "9c7d0ead-871a-4e07-b73b-635900997014",
   "metadata": {},
   "outputs": [
    {
     "name": "stdout",
     "output_type": "stream",
     "text": [
      "saving figure to file ./figures/germcellforscvelo_velocitygraph.pdf\n"
     ]
    }
   ],
   "source": [
    "scv.pl.velocity_graph(adata, color='leiden', threshold=.1,save='./figures/germcellforscvelo_velocitygraph.pdf')"
   ]
  },
  {
   "cell_type": "markdown",
   "id": "4ee09265-ba96-4de8-8d3f-a35828b68d4b",
   "metadata": {},
   "source": [
    "## Further, the graph can be used to draw descendents/anscestors coming from a specified cell. Here, a pre-endocrine cell is traced to its potential fate.（用处不大）"
   ]
  },
  {
   "cell_type": "code",
   "execution_count": 26,
   "id": "e7573938-c468-4781-97aa-b8c01d12e36e",
   "metadata": {},
   "outputs": [
    {
     "name": "stdout",
     "output_type": "stream",
     "text": [
      "saving figure to file ./figures/germcellforscvelo_celltransitions.pdf\n",
      "saving figure to file ./figures/germcellforscvelo_celltransitionsscatter.pdf\n"
     ]
    }
   ],
   "source": [
    "x, y = scv.utils.get_cell_transitions(adata, basis='umap')\n",
    "ax = scv.pl.velocity_graph(adata, c='lightgrey',color='leiden', edge_width=.05, show=False,save='./figures/germcellforscvelo_celltransitions.pdf')\n",
    "ax = scv.pl.scatter(adata, x=x, y=y, s=120, c='ascending',color='leiden', cmap='gnuplot', ax=ax,save='./figures/germcellforscvelo_celltransitionsscatter.pdf')"
   ]
  },
  {
   "cell_type": "code",
   "execution_count": 29,
   "id": "3eafd24f-4cc8-4978-a447-0a05efc68453",
   "metadata": {},
   "outputs": [
    {
     "name": "stdout",
     "output_type": "stream",
     "text": [
      "saving figure to file ./figures/germcellforscvelo_velocitypseudotime.pdf\n"
     ]
    }
   ],
   "source": [
    "scv.tl.velocity_pseudotime(adata)\n",
    "scv.pl.scatter(adata, color=['leiden','velocity_pseudotime'], cmap='gnuplot',save='./figures/germcellforscvelo_velocitypseudotime.pdf')"
   ]
  },
  {
   "cell_type": "markdown",
   "id": "b7089b23-42f6-4ba5-a742-6b429fbd4fad",
   "metadata": {},
   "source": [
    "# PAGA velocity graph"
   ]
  },
  {
   "cell_type": "code",
   "execution_count": 30,
   "id": "e61f0e75-acc5-4938-928c-375450f2b34b",
   "metadata": {},
   "outputs": [],
   "source": [
    "adata.uns['neighbors']['distances'] = adata.obsp['distances']\n",
    "adata.uns['neighbors']['connectivities'] = adata.obsp['connectivities']"
   ]
  },
  {
   "cell_type": "code",
   "execution_count": 31,
   "id": "00c8afd6-230e-4796-a486-bf7f1dd63ed1",
   "metadata": {},
   "outputs": [
    {
     "name": "stdout",
     "output_type": "stream",
     "text": [
      "running PAGA using priors: ['velocity_pseudotime']\n",
      "    finished (0:00:01) --> added\n",
      "    'paga/connectivities', connectivities adjacency (adata.uns)\n",
      "    'paga/connectivities_tree', connectivities subtree (adata.uns)\n",
      "    'paga/transitions_confidence', velocity transitions (adata.uns)\n"
     ]
    }
   ],
   "source": [
    "scv.tl.paga(adata, groups='leiden')"
   ]
  },
  {
   "cell_type": "code",
   "execution_count": 32,
   "id": "bb216204-7b29-465c-9aa3-d2393e1b01ec",
   "metadata": {},
   "outputs": [],
   "source": [
    "df = scv.get_df(adata, 'paga/transitions_confidence').T"
   ]
  },
  {
   "cell_type": "code",
   "execution_count": 33,
   "id": "86103b22-c6a0-4545-b5ca-d21fa1bf347d",
   "metadata": {},
   "outputs": [
    {
     "data": {
      "text/html": [
       "<style type=\"text/css\">\n",
       "#T_b987a_row0_col0, #T_b987a_row0_col1, #T_b987a_row0_col3, #T_b987a_row0_col4, #T_b987a_row0_col5, #T_b987a_row0_col6, #T_b987a_row0_col7, #T_b987a_row0_col8, #T_b987a_row0_col9, #T_b987a_row0_col10, #T_b987a_row0_col11, #T_b987a_row0_col12, #T_b987a_row0_col13, #T_b987a_row0_col14, #T_b987a_row0_col15, #T_b987a_row0_col16, #T_b987a_row0_col18, #T_b987a_row1_col0, #T_b987a_row1_col1, #T_b987a_row1_col2, #T_b987a_row1_col3, #T_b987a_row1_col4, #T_b987a_row1_col5, #T_b987a_row1_col6, #T_b987a_row1_col7, #T_b987a_row1_col8, #T_b987a_row1_col9, #T_b987a_row1_col10, #T_b987a_row1_col11, #T_b987a_row1_col12, #T_b987a_row1_col13, #T_b987a_row1_col14, #T_b987a_row1_col15, #T_b987a_row1_col16, #T_b987a_row1_col17, #T_b987a_row1_col18, #T_b987a_row2_col0, #T_b987a_row2_col1, #T_b987a_row2_col2, #T_b987a_row2_col3, #T_b987a_row2_col5, #T_b987a_row2_col6, #T_b987a_row2_col7, #T_b987a_row2_col8, #T_b987a_row2_col9, #T_b987a_row2_col10, #T_b987a_row2_col11, #T_b987a_row2_col12, #T_b987a_row2_col13, #T_b987a_row2_col14, #T_b987a_row2_col15, #T_b987a_row2_col16, #T_b987a_row2_col17, #T_b987a_row2_col18, #T_b987a_row3_col0, #T_b987a_row3_col1, #T_b987a_row3_col2, #T_b987a_row3_col3, #T_b987a_row3_col4, #T_b987a_row3_col5, #T_b987a_row3_col7, #T_b987a_row3_col8, #T_b987a_row3_col9, #T_b987a_row3_col10, #T_b987a_row3_col11, #T_b987a_row3_col12, #T_b987a_row3_col13, #T_b987a_row3_col14, #T_b987a_row3_col15, #T_b987a_row3_col16, #T_b987a_row3_col17, #T_b987a_row3_col18, #T_b987a_row4_col0, #T_b987a_row4_col1, #T_b987a_row4_col2, #T_b987a_row4_col3, #T_b987a_row4_col4, #T_b987a_row4_col5, #T_b987a_row4_col6, #T_b987a_row4_col7, #T_b987a_row4_col8, #T_b987a_row4_col9, #T_b987a_row4_col10, #T_b987a_row4_col12, #T_b987a_row4_col13, #T_b987a_row4_col14, #T_b987a_row4_col15, #T_b987a_row4_col16, #T_b987a_row4_col17, #T_b987a_row4_col18, #T_b987a_row5_col2, #T_b987a_row5_col3, #T_b987a_row5_col4, #T_b987a_row5_col5, #T_b987a_row5_col6, #T_b987a_row5_col7, #T_b987a_row5_col8, #T_b987a_row5_col9, #T_b987a_row5_col10, #T_b987a_row5_col11, #T_b987a_row5_col12, #T_b987a_row5_col13, #T_b987a_row5_col14, #T_b987a_row5_col15, #T_b987a_row5_col16, #T_b987a_row5_col17, #T_b987a_row5_col18, #T_b987a_row6_col0, #T_b987a_row6_col1, #T_b987a_row6_col2, #T_b987a_row6_col3, #T_b987a_row6_col4, #T_b987a_row6_col5, #T_b987a_row6_col6, #T_b987a_row6_col7, #T_b987a_row6_col8, #T_b987a_row6_col9, #T_b987a_row6_col10, #T_b987a_row6_col11, #T_b987a_row6_col12, #T_b987a_row6_col13, #T_b987a_row6_col14, #T_b987a_row6_col15, #T_b987a_row6_col16, #T_b987a_row6_col17, #T_b987a_row6_col18, #T_b987a_row7_col0, #T_b987a_row7_col1, #T_b987a_row7_col2, #T_b987a_row7_col3, #T_b987a_row7_col5, #T_b987a_row7_col6, #T_b987a_row7_col7, #T_b987a_row7_col8, #T_b987a_row7_col9, #T_b987a_row7_col10, #T_b987a_row7_col11, #T_b987a_row7_col12, #T_b987a_row7_col13, #T_b987a_row7_col14, #T_b987a_row7_col15, #T_b987a_row7_col16, #T_b987a_row7_col17, #T_b987a_row7_col18, #T_b987a_row8_col0, #T_b987a_row8_col1, #T_b987a_row8_col2, #T_b987a_row8_col3, #T_b987a_row8_col4, #T_b987a_row8_col5, #T_b987a_row8_col6, #T_b987a_row8_col7, #T_b987a_row8_col8, #T_b987a_row8_col9, #T_b987a_row8_col10, #T_b987a_row8_col11, #T_b987a_row8_col12, #T_b987a_row8_col13, #T_b987a_row8_col14, #T_b987a_row8_col15, #T_b987a_row8_col16, #T_b987a_row8_col17, #T_b987a_row8_col18, #T_b987a_row9_col0, #T_b987a_row9_col1, #T_b987a_row9_col2, #T_b987a_row9_col3, #T_b987a_row9_col4, #T_b987a_row9_col5, #T_b987a_row9_col6, #T_b987a_row9_col7, #T_b987a_row9_col9, #T_b987a_row9_col10, #T_b987a_row9_col11, #T_b987a_row9_col12, #T_b987a_row9_col13, #T_b987a_row9_col14, #T_b987a_row9_col15, #T_b987a_row9_col16, #T_b987a_row9_col17, #T_b987a_row9_col18, #T_b987a_row10_col1, #T_b987a_row10_col2, #T_b987a_row10_col3, #T_b987a_row10_col4, #T_b987a_row10_col5, #T_b987a_row10_col6, #T_b987a_row10_col7, #T_b987a_row10_col8, #T_b987a_row10_col9, #T_b987a_row10_col10, #T_b987a_row10_col11, #T_b987a_row10_col12, #T_b987a_row10_col13, #T_b987a_row10_col14, #T_b987a_row10_col16, #T_b987a_row10_col17, #T_b987a_row10_col18, #T_b987a_row11_col0, #T_b987a_row11_col1, #T_b987a_row11_col2, #T_b987a_row11_col4, #T_b987a_row11_col5, #T_b987a_row11_col6, #T_b987a_row11_col7, #T_b987a_row11_col8, #T_b987a_row11_col9, #T_b987a_row11_col10, #T_b987a_row11_col11, #T_b987a_row11_col12, #T_b987a_row11_col13, #T_b987a_row11_col14, #T_b987a_row11_col15, #T_b987a_row11_col16, #T_b987a_row11_col17, #T_b987a_row11_col18, #T_b987a_row12_col0, #T_b987a_row12_col2, #T_b987a_row12_col3, #T_b987a_row12_col4, #T_b987a_row12_col5, #T_b987a_row12_col6, #T_b987a_row12_col7, #T_b987a_row12_col9, #T_b987a_row12_col10, #T_b987a_row12_col11, #T_b987a_row12_col12, #T_b987a_row12_col13, #T_b987a_row12_col14, #T_b987a_row12_col15, #T_b987a_row12_col16, #T_b987a_row12_col17, #T_b987a_row12_col18, #T_b987a_row13_col0, #T_b987a_row13_col1, #T_b987a_row13_col2, #T_b987a_row13_col3, #T_b987a_row13_col4, #T_b987a_row13_col6, #T_b987a_row13_col7, #T_b987a_row13_col8, #T_b987a_row13_col9, #T_b987a_row13_col10, #T_b987a_row13_col11, #T_b987a_row13_col12, #T_b987a_row13_col13, #T_b987a_row13_col14, #T_b987a_row13_col15, #T_b987a_row13_col16, #T_b987a_row13_col17, #T_b987a_row13_col18, #T_b987a_row14_col1, #T_b987a_row14_col2, #T_b987a_row14_col3, #T_b987a_row14_col4, #T_b987a_row14_col5, #T_b987a_row14_col6, #T_b987a_row14_col7, #T_b987a_row14_col8, #T_b987a_row14_col9, #T_b987a_row14_col10, #T_b987a_row14_col11, #T_b987a_row14_col12, #T_b987a_row14_col13, #T_b987a_row14_col14, #T_b987a_row14_col15, #T_b987a_row14_col16, #T_b987a_row14_col17, #T_b987a_row14_col18, #T_b987a_row15_col0, #T_b987a_row15_col1, #T_b987a_row15_col2, #T_b987a_row15_col3, #T_b987a_row15_col4, #T_b987a_row15_col5, #T_b987a_row15_col6, #T_b987a_row15_col7, #T_b987a_row15_col8, #T_b987a_row15_col9, #T_b987a_row15_col10, #T_b987a_row15_col11, #T_b987a_row15_col12, #T_b987a_row15_col13, #T_b987a_row15_col14, #T_b987a_row15_col15, #T_b987a_row15_col16, #T_b987a_row15_col17, #T_b987a_row15_col18, #T_b987a_row16_col1, #T_b987a_row16_col2, #T_b987a_row16_col3, #T_b987a_row16_col4, #T_b987a_row16_col5, #T_b987a_row16_col6, #T_b987a_row16_col7, #T_b987a_row16_col8, #T_b987a_row16_col9, #T_b987a_row16_col10, #T_b987a_row16_col11, #T_b987a_row16_col12, #T_b987a_row16_col13, #T_b987a_row16_col14, #T_b987a_row16_col15, #T_b987a_row16_col16, #T_b987a_row16_col17, #T_b987a_row16_col18, #T_b987a_row17_col0, #T_b987a_row17_col1, #T_b987a_row17_col2, #T_b987a_row17_col3, #T_b987a_row17_col4, #T_b987a_row17_col5, #T_b987a_row17_col6, #T_b987a_row17_col7, #T_b987a_row17_col8, #T_b987a_row17_col9, #T_b987a_row17_col10, #T_b987a_row17_col11, #T_b987a_row17_col12, #T_b987a_row17_col13, #T_b987a_row17_col14, #T_b987a_row17_col15, #T_b987a_row17_col16, #T_b987a_row17_col17, #T_b987a_row17_col18, #T_b987a_row18_col0, #T_b987a_row18_col1, #T_b987a_row18_col2, #T_b987a_row18_col3, #T_b987a_row18_col4, #T_b987a_row18_col5, #T_b987a_row18_col6, #T_b987a_row18_col7, #T_b987a_row18_col9, #T_b987a_row18_col10, #T_b987a_row18_col11, #T_b987a_row18_col12, #T_b987a_row18_col13, #T_b987a_row18_col14, #T_b987a_row18_col15, #T_b987a_row18_col16, #T_b987a_row18_col17, #T_b987a_row18_col18 {\n",
       "  background-color: #f7fbff;\n",
       "  color: #000000;\n",
       "}\n",
       "#T_b987a_row0_col2, #T_b987a_row0_col17, #T_b987a_row2_col4, #T_b987a_row3_col6, #T_b987a_row4_col11, #T_b987a_row5_col1, #T_b987a_row10_col15, #T_b987a_row11_col3, #T_b987a_row12_col8, #T_b987a_row13_col5, #T_b987a_row14_col0 {\n",
       "  background-color: #08306b;\n",
       "  color: #f1f1f1;\n",
       "}\n",
       "#T_b987a_row5_col0 {\n",
       "  background-color: #2e7ebc;\n",
       "  color: #f1f1f1;\n",
       "}\n",
       "#T_b987a_row7_col4 {\n",
       "  background-color: #3585bf;\n",
       "  color: #f1f1f1;\n",
       "}\n",
       "#T_b987a_row9_col8 {\n",
       "  background-color: #4a98c9;\n",
       "  color: #f1f1f1;\n",
       "}\n",
       "#T_b987a_row10_col0 {\n",
       "  background-color: #d7e6f5;\n",
       "  color: #000000;\n",
       "}\n",
       "#T_b987a_row12_col1 {\n",
       "  background-color: #84bcdb;\n",
       "  color: #000000;\n",
       "}\n",
       "#T_b987a_row16_col0 {\n",
       "  background-color: #e1edf8;\n",
       "  color: #000000;\n",
       "}\n",
       "#T_b987a_row18_col8 {\n",
       "  background-color: #bad6eb;\n",
       "  color: #000000;\n",
       "}\n",
       "</style>\n",
       "<table id=\"T_b987a\">\n",
       "  <thead>\n",
       "    <tr>\n",
       "      <th class=\"blank level0\" >&nbsp;</th>\n",
       "      <th id=\"T_b987a_level0_col0\" class=\"col_heading level0 col0\" >0</th>\n",
       "      <th id=\"T_b987a_level0_col1\" class=\"col_heading level0 col1\" >1</th>\n",
       "      <th id=\"T_b987a_level0_col2\" class=\"col_heading level0 col2\" >2</th>\n",
       "      <th id=\"T_b987a_level0_col3\" class=\"col_heading level0 col3\" >3</th>\n",
       "      <th id=\"T_b987a_level0_col4\" class=\"col_heading level0 col4\" >4</th>\n",
       "      <th id=\"T_b987a_level0_col5\" class=\"col_heading level0 col5\" >5</th>\n",
       "      <th id=\"T_b987a_level0_col6\" class=\"col_heading level0 col6\" >6</th>\n",
       "      <th id=\"T_b987a_level0_col7\" class=\"col_heading level0 col7\" >7</th>\n",
       "      <th id=\"T_b987a_level0_col8\" class=\"col_heading level0 col8\" >8</th>\n",
       "      <th id=\"T_b987a_level0_col9\" class=\"col_heading level0 col9\" >9</th>\n",
       "      <th id=\"T_b987a_level0_col10\" class=\"col_heading level0 col10\" >10</th>\n",
       "      <th id=\"T_b987a_level0_col11\" class=\"col_heading level0 col11\" >11</th>\n",
       "      <th id=\"T_b987a_level0_col12\" class=\"col_heading level0 col12\" >12</th>\n",
       "      <th id=\"T_b987a_level0_col13\" class=\"col_heading level0 col13\" >13</th>\n",
       "      <th id=\"T_b987a_level0_col14\" class=\"col_heading level0 col14\" >14</th>\n",
       "      <th id=\"T_b987a_level0_col15\" class=\"col_heading level0 col15\" >15</th>\n",
       "      <th id=\"T_b987a_level0_col16\" class=\"col_heading level0 col16\" >16</th>\n",
       "      <th id=\"T_b987a_level0_col17\" class=\"col_heading level0 col17\" >17</th>\n",
       "      <th id=\"T_b987a_level0_col18\" class=\"col_heading level0 col18\" >18</th>\n",
       "    </tr>\n",
       "  </thead>\n",
       "  <tbody>\n",
       "    <tr>\n",
       "      <th id=\"T_b987a_level0_row0\" class=\"row_heading level0 row0\" >0</th>\n",
       "      <td id=\"T_b987a_row0_col0\" class=\"data row0 col0\" >0</td>\n",
       "      <td id=\"T_b987a_row0_col1\" class=\"data row0 col1\" >0</td>\n",
       "      <td id=\"T_b987a_row0_col2\" class=\"data row0 col2\" >0.48</td>\n",
       "      <td id=\"T_b987a_row0_col3\" class=\"data row0 col3\" >0</td>\n",
       "      <td id=\"T_b987a_row0_col4\" class=\"data row0 col4\" >0</td>\n",
       "      <td id=\"T_b987a_row0_col5\" class=\"data row0 col5\" >0</td>\n",
       "      <td id=\"T_b987a_row0_col6\" class=\"data row0 col6\" >0</td>\n",
       "      <td id=\"T_b987a_row0_col7\" class=\"data row0 col7\" >0</td>\n",
       "      <td id=\"T_b987a_row0_col8\" class=\"data row0 col8\" >0</td>\n",
       "      <td id=\"T_b987a_row0_col9\" class=\"data row0 col9\" >0</td>\n",
       "      <td id=\"T_b987a_row0_col10\" class=\"data row0 col10\" >0</td>\n",
       "      <td id=\"T_b987a_row0_col11\" class=\"data row0 col11\" >0</td>\n",
       "      <td id=\"T_b987a_row0_col12\" class=\"data row0 col12\" >0</td>\n",
       "      <td id=\"T_b987a_row0_col13\" class=\"data row0 col13\" >0</td>\n",
       "      <td id=\"T_b987a_row0_col14\" class=\"data row0 col14\" >0</td>\n",
       "      <td id=\"T_b987a_row0_col15\" class=\"data row0 col15\" >0</td>\n",
       "      <td id=\"T_b987a_row0_col16\" class=\"data row0 col16\" >0</td>\n",
       "      <td id=\"T_b987a_row0_col17\" class=\"data row0 col17\" >0.15</td>\n",
       "      <td id=\"T_b987a_row0_col18\" class=\"data row0 col18\" >0</td>\n",
       "    </tr>\n",
       "    <tr>\n",
       "      <th id=\"T_b987a_level0_row1\" class=\"row_heading level0 row1\" >1</th>\n",
       "      <td id=\"T_b987a_row1_col0\" class=\"data row1 col0\" >0</td>\n",
       "      <td id=\"T_b987a_row1_col1\" class=\"data row1 col1\" >0</td>\n",
       "      <td id=\"T_b987a_row1_col2\" class=\"data row1 col2\" >0</td>\n",
       "      <td id=\"T_b987a_row1_col3\" class=\"data row1 col3\" >0</td>\n",
       "      <td id=\"T_b987a_row1_col4\" class=\"data row1 col4\" >0</td>\n",
       "      <td id=\"T_b987a_row1_col5\" class=\"data row1 col5\" >0</td>\n",
       "      <td id=\"T_b987a_row1_col6\" class=\"data row1 col6\" >0</td>\n",
       "      <td id=\"T_b987a_row1_col7\" class=\"data row1 col7\" >0</td>\n",
       "      <td id=\"T_b987a_row1_col8\" class=\"data row1 col8\" >0</td>\n",
       "      <td id=\"T_b987a_row1_col9\" class=\"data row1 col9\" >0</td>\n",
       "      <td id=\"T_b987a_row1_col10\" class=\"data row1 col10\" >0</td>\n",
       "      <td id=\"T_b987a_row1_col11\" class=\"data row1 col11\" >0</td>\n",
       "      <td id=\"T_b987a_row1_col12\" class=\"data row1 col12\" >0</td>\n",
       "      <td id=\"T_b987a_row1_col13\" class=\"data row1 col13\" >0</td>\n",
       "      <td id=\"T_b987a_row1_col14\" class=\"data row1 col14\" >0</td>\n",
       "      <td id=\"T_b987a_row1_col15\" class=\"data row1 col15\" >0</td>\n",
       "      <td id=\"T_b987a_row1_col16\" class=\"data row1 col16\" >0</td>\n",
       "      <td id=\"T_b987a_row1_col17\" class=\"data row1 col17\" >0</td>\n",
       "      <td id=\"T_b987a_row1_col18\" class=\"data row1 col18\" >0</td>\n",
       "    </tr>\n",
       "    <tr>\n",
       "      <th id=\"T_b987a_level0_row2\" class=\"row_heading level0 row2\" >2</th>\n",
       "      <td id=\"T_b987a_row2_col0\" class=\"data row2 col0\" >0</td>\n",
       "      <td id=\"T_b987a_row2_col1\" class=\"data row2 col1\" >0</td>\n",
       "      <td id=\"T_b987a_row2_col2\" class=\"data row2 col2\" >0</td>\n",
       "      <td id=\"T_b987a_row2_col3\" class=\"data row2 col3\" >0</td>\n",
       "      <td id=\"T_b987a_row2_col4\" class=\"data row2 col4\" >0.3</td>\n",
       "      <td id=\"T_b987a_row2_col5\" class=\"data row2 col5\" >0</td>\n",
       "      <td id=\"T_b987a_row2_col6\" class=\"data row2 col6\" >0</td>\n",
       "      <td id=\"T_b987a_row2_col7\" class=\"data row2 col7\" >0</td>\n",
       "      <td id=\"T_b987a_row2_col8\" class=\"data row2 col8\" >0</td>\n",
       "      <td id=\"T_b987a_row2_col9\" class=\"data row2 col9\" >0</td>\n",
       "      <td id=\"T_b987a_row2_col10\" class=\"data row2 col10\" >0</td>\n",
       "      <td id=\"T_b987a_row2_col11\" class=\"data row2 col11\" >0</td>\n",
       "      <td id=\"T_b987a_row2_col12\" class=\"data row2 col12\" >0</td>\n",
       "      <td id=\"T_b987a_row2_col13\" class=\"data row2 col13\" >0</td>\n",
       "      <td id=\"T_b987a_row2_col14\" class=\"data row2 col14\" >0</td>\n",
       "      <td id=\"T_b987a_row2_col15\" class=\"data row2 col15\" >0</td>\n",
       "      <td id=\"T_b987a_row2_col16\" class=\"data row2 col16\" >0</td>\n",
       "      <td id=\"T_b987a_row2_col17\" class=\"data row2 col17\" >0</td>\n",
       "      <td id=\"T_b987a_row2_col18\" class=\"data row2 col18\" >0</td>\n",
       "    </tr>\n",
       "    <tr>\n",
       "      <th id=\"T_b987a_level0_row3\" class=\"row_heading level0 row3\" >3</th>\n",
       "      <td id=\"T_b987a_row3_col0\" class=\"data row3 col0\" >0</td>\n",
       "      <td id=\"T_b987a_row3_col1\" class=\"data row3 col1\" >0</td>\n",
       "      <td id=\"T_b987a_row3_col2\" class=\"data row3 col2\" >0</td>\n",
       "      <td id=\"T_b987a_row3_col3\" class=\"data row3 col3\" >0</td>\n",
       "      <td id=\"T_b987a_row3_col4\" class=\"data row3 col4\" >0</td>\n",
       "      <td id=\"T_b987a_row3_col5\" class=\"data row3 col5\" >0</td>\n",
       "      <td id=\"T_b987a_row3_col6\" class=\"data row3 col6\" >0.92</td>\n",
       "      <td id=\"T_b987a_row3_col7\" class=\"data row3 col7\" >0</td>\n",
       "      <td id=\"T_b987a_row3_col8\" class=\"data row3 col8\" >0</td>\n",
       "      <td id=\"T_b987a_row3_col9\" class=\"data row3 col9\" >0</td>\n",
       "      <td id=\"T_b987a_row3_col10\" class=\"data row3 col10\" >0</td>\n",
       "      <td id=\"T_b987a_row3_col11\" class=\"data row3 col11\" >0</td>\n",
       "      <td id=\"T_b987a_row3_col12\" class=\"data row3 col12\" >0</td>\n",
       "      <td id=\"T_b987a_row3_col13\" class=\"data row3 col13\" >0</td>\n",
       "      <td id=\"T_b987a_row3_col14\" class=\"data row3 col14\" >0</td>\n",
       "      <td id=\"T_b987a_row3_col15\" class=\"data row3 col15\" >0</td>\n",
       "      <td id=\"T_b987a_row3_col16\" class=\"data row3 col16\" >0</td>\n",
       "      <td id=\"T_b987a_row3_col17\" class=\"data row3 col17\" >0</td>\n",
       "      <td id=\"T_b987a_row3_col18\" class=\"data row3 col18\" >0</td>\n",
       "    </tr>\n",
       "    <tr>\n",
       "      <th id=\"T_b987a_level0_row4\" class=\"row_heading level0 row4\" >4</th>\n",
       "      <td id=\"T_b987a_row4_col0\" class=\"data row4 col0\" >0</td>\n",
       "      <td id=\"T_b987a_row4_col1\" class=\"data row4 col1\" >0</td>\n",
       "      <td id=\"T_b987a_row4_col2\" class=\"data row4 col2\" >0</td>\n",
       "      <td id=\"T_b987a_row4_col3\" class=\"data row4 col3\" >0</td>\n",
       "      <td id=\"T_b987a_row4_col4\" class=\"data row4 col4\" >0</td>\n",
       "      <td id=\"T_b987a_row4_col5\" class=\"data row4 col5\" >0</td>\n",
       "      <td id=\"T_b987a_row4_col6\" class=\"data row4 col6\" >0</td>\n",
       "      <td id=\"T_b987a_row4_col7\" class=\"data row4 col7\" >0</td>\n",
       "      <td id=\"T_b987a_row4_col8\" class=\"data row4 col8\" >0</td>\n",
       "      <td id=\"T_b987a_row4_col9\" class=\"data row4 col9\" >0</td>\n",
       "      <td id=\"T_b987a_row4_col10\" class=\"data row4 col10\" >0</td>\n",
       "      <td id=\"T_b987a_row4_col11\" class=\"data row4 col11\" >0.064</td>\n",
       "      <td id=\"T_b987a_row4_col12\" class=\"data row4 col12\" >0</td>\n",
       "      <td id=\"T_b987a_row4_col13\" class=\"data row4 col13\" >0</td>\n",
       "      <td id=\"T_b987a_row4_col14\" class=\"data row4 col14\" >0</td>\n",
       "      <td id=\"T_b987a_row4_col15\" class=\"data row4 col15\" >0</td>\n",
       "      <td id=\"T_b987a_row4_col16\" class=\"data row4 col16\" >0</td>\n",
       "      <td id=\"T_b987a_row4_col17\" class=\"data row4 col17\" >0</td>\n",
       "      <td id=\"T_b987a_row4_col18\" class=\"data row4 col18\" >0</td>\n",
       "    </tr>\n",
       "    <tr>\n",
       "      <th id=\"T_b987a_level0_row5\" class=\"row_heading level0 row5\" >5</th>\n",
       "      <td id=\"T_b987a_row5_col0\" class=\"data row5 col0\" >0.72</td>\n",
       "      <td id=\"T_b987a_row5_col1\" class=\"data row5 col1\" >0.44</td>\n",
       "      <td id=\"T_b987a_row5_col2\" class=\"data row5 col2\" >0</td>\n",
       "      <td id=\"T_b987a_row5_col3\" class=\"data row5 col3\" >0</td>\n",
       "      <td id=\"T_b987a_row5_col4\" class=\"data row5 col4\" >0</td>\n",
       "      <td id=\"T_b987a_row5_col5\" class=\"data row5 col5\" >0</td>\n",
       "      <td id=\"T_b987a_row5_col6\" class=\"data row5 col6\" >0</td>\n",
       "      <td id=\"T_b987a_row5_col7\" class=\"data row5 col7\" >0</td>\n",
       "      <td id=\"T_b987a_row5_col8\" class=\"data row5 col8\" >0</td>\n",
       "      <td id=\"T_b987a_row5_col9\" class=\"data row5 col9\" >0</td>\n",
       "      <td id=\"T_b987a_row5_col10\" class=\"data row5 col10\" >0</td>\n",
       "      <td id=\"T_b987a_row5_col11\" class=\"data row5 col11\" >0</td>\n",
       "      <td id=\"T_b987a_row5_col12\" class=\"data row5 col12\" >0</td>\n",
       "      <td id=\"T_b987a_row5_col13\" class=\"data row5 col13\" >0</td>\n",
       "      <td id=\"T_b987a_row5_col14\" class=\"data row5 col14\" >0</td>\n",
       "      <td id=\"T_b987a_row5_col15\" class=\"data row5 col15\" >0</td>\n",
       "      <td id=\"T_b987a_row5_col16\" class=\"data row5 col16\" >0</td>\n",
       "      <td id=\"T_b987a_row5_col17\" class=\"data row5 col17\" >0</td>\n",
       "      <td id=\"T_b987a_row5_col18\" class=\"data row5 col18\" >0</td>\n",
       "    </tr>\n",
       "    <tr>\n",
       "      <th id=\"T_b987a_level0_row6\" class=\"row_heading level0 row6\" >6</th>\n",
       "      <td id=\"T_b987a_row6_col0\" class=\"data row6 col0\" >0</td>\n",
       "      <td id=\"T_b987a_row6_col1\" class=\"data row6 col1\" >0</td>\n",
       "      <td id=\"T_b987a_row6_col2\" class=\"data row6 col2\" >0</td>\n",
       "      <td id=\"T_b987a_row6_col3\" class=\"data row6 col3\" >0</td>\n",
       "      <td id=\"T_b987a_row6_col4\" class=\"data row6 col4\" >0</td>\n",
       "      <td id=\"T_b987a_row6_col5\" class=\"data row6 col5\" >0</td>\n",
       "      <td id=\"T_b987a_row6_col6\" class=\"data row6 col6\" >0</td>\n",
       "      <td id=\"T_b987a_row6_col7\" class=\"data row6 col7\" >0</td>\n",
       "      <td id=\"T_b987a_row6_col8\" class=\"data row6 col8\" >0</td>\n",
       "      <td id=\"T_b987a_row6_col9\" class=\"data row6 col9\" >0</td>\n",
       "      <td id=\"T_b987a_row6_col10\" class=\"data row6 col10\" >0</td>\n",
       "      <td id=\"T_b987a_row6_col11\" class=\"data row6 col11\" >0</td>\n",
       "      <td id=\"T_b987a_row6_col12\" class=\"data row6 col12\" >0</td>\n",
       "      <td id=\"T_b987a_row6_col13\" class=\"data row6 col13\" >0</td>\n",
       "      <td id=\"T_b987a_row6_col14\" class=\"data row6 col14\" >0</td>\n",
       "      <td id=\"T_b987a_row6_col15\" class=\"data row6 col15\" >0</td>\n",
       "      <td id=\"T_b987a_row6_col16\" class=\"data row6 col16\" >0</td>\n",
       "      <td id=\"T_b987a_row6_col17\" class=\"data row6 col17\" >0</td>\n",
       "      <td id=\"T_b987a_row6_col18\" class=\"data row6 col18\" >0</td>\n",
       "    </tr>\n",
       "    <tr>\n",
       "      <th id=\"T_b987a_level0_row7\" class=\"row_heading level0 row7\" >7</th>\n",
       "      <td id=\"T_b987a_row7_col0\" class=\"data row7 col0\" >0</td>\n",
       "      <td id=\"T_b987a_row7_col1\" class=\"data row7 col1\" >0</td>\n",
       "      <td id=\"T_b987a_row7_col2\" class=\"data row7 col2\" >0</td>\n",
       "      <td id=\"T_b987a_row7_col3\" class=\"data row7 col3\" >0</td>\n",
       "      <td id=\"T_b987a_row7_col4\" class=\"data row7 col4\" >0.2</td>\n",
       "      <td id=\"T_b987a_row7_col5\" class=\"data row7 col5\" >0</td>\n",
       "      <td id=\"T_b987a_row7_col6\" class=\"data row7 col6\" >0</td>\n",
       "      <td id=\"T_b987a_row7_col7\" class=\"data row7 col7\" >0</td>\n",
       "      <td id=\"T_b987a_row7_col8\" class=\"data row7 col8\" >0</td>\n",
       "      <td id=\"T_b987a_row7_col9\" class=\"data row7 col9\" >0</td>\n",
       "      <td id=\"T_b987a_row7_col10\" class=\"data row7 col10\" >0</td>\n",
       "      <td id=\"T_b987a_row7_col11\" class=\"data row7 col11\" >0</td>\n",
       "      <td id=\"T_b987a_row7_col12\" class=\"data row7 col12\" >0</td>\n",
       "      <td id=\"T_b987a_row7_col13\" class=\"data row7 col13\" >0</td>\n",
       "      <td id=\"T_b987a_row7_col14\" class=\"data row7 col14\" >0</td>\n",
       "      <td id=\"T_b987a_row7_col15\" class=\"data row7 col15\" >0</td>\n",
       "      <td id=\"T_b987a_row7_col16\" class=\"data row7 col16\" >0</td>\n",
       "      <td id=\"T_b987a_row7_col17\" class=\"data row7 col17\" >0</td>\n",
       "      <td id=\"T_b987a_row7_col18\" class=\"data row7 col18\" >0</td>\n",
       "    </tr>\n",
       "    <tr>\n",
       "      <th id=\"T_b987a_level0_row8\" class=\"row_heading level0 row8\" >8</th>\n",
       "      <td id=\"T_b987a_row8_col0\" class=\"data row8 col0\" >0</td>\n",
       "      <td id=\"T_b987a_row8_col1\" class=\"data row8 col1\" >0</td>\n",
       "      <td id=\"T_b987a_row8_col2\" class=\"data row8 col2\" >0</td>\n",
       "      <td id=\"T_b987a_row8_col3\" class=\"data row8 col3\" >0</td>\n",
       "      <td id=\"T_b987a_row8_col4\" class=\"data row8 col4\" >0</td>\n",
       "      <td id=\"T_b987a_row8_col5\" class=\"data row8 col5\" >0</td>\n",
       "      <td id=\"T_b987a_row8_col6\" class=\"data row8 col6\" >0</td>\n",
       "      <td id=\"T_b987a_row8_col7\" class=\"data row8 col7\" >0</td>\n",
       "      <td id=\"T_b987a_row8_col8\" class=\"data row8 col8\" >0</td>\n",
       "      <td id=\"T_b987a_row8_col9\" class=\"data row8 col9\" >0</td>\n",
       "      <td id=\"T_b987a_row8_col10\" class=\"data row8 col10\" >0</td>\n",
       "      <td id=\"T_b987a_row8_col11\" class=\"data row8 col11\" >0</td>\n",
       "      <td id=\"T_b987a_row8_col12\" class=\"data row8 col12\" >0</td>\n",
       "      <td id=\"T_b987a_row8_col13\" class=\"data row8 col13\" >0</td>\n",
       "      <td id=\"T_b987a_row8_col14\" class=\"data row8 col14\" >0</td>\n",
       "      <td id=\"T_b987a_row8_col15\" class=\"data row8 col15\" >0</td>\n",
       "      <td id=\"T_b987a_row8_col16\" class=\"data row8 col16\" >0</td>\n",
       "      <td id=\"T_b987a_row8_col17\" class=\"data row8 col17\" >0</td>\n",
       "      <td id=\"T_b987a_row8_col18\" class=\"data row8 col18\" >0</td>\n",
       "    </tr>\n",
       "    <tr>\n",
       "      <th id=\"T_b987a_level0_row9\" class=\"row_heading level0 row9\" >9</th>\n",
       "      <td id=\"T_b987a_row9_col0\" class=\"data row9 col0\" >0</td>\n",
       "      <td id=\"T_b987a_row9_col1\" class=\"data row9 col1\" >0</td>\n",
       "      <td id=\"T_b987a_row9_col2\" class=\"data row9 col2\" >0</td>\n",
       "      <td id=\"T_b987a_row9_col3\" class=\"data row9 col3\" >0</td>\n",
       "      <td id=\"T_b987a_row9_col4\" class=\"data row9 col4\" >0</td>\n",
       "      <td id=\"T_b987a_row9_col5\" class=\"data row9 col5\" >0</td>\n",
       "      <td id=\"T_b987a_row9_col6\" class=\"data row9 col6\" >0</td>\n",
       "      <td id=\"T_b987a_row9_col7\" class=\"data row9 col7\" >0</td>\n",
       "      <td id=\"T_b987a_row9_col8\" class=\"data row9 col8\" >0.16</td>\n",
       "      <td id=\"T_b987a_row9_col9\" class=\"data row9 col9\" >0</td>\n",
       "      <td id=\"T_b987a_row9_col10\" class=\"data row9 col10\" >0</td>\n",
       "      <td id=\"T_b987a_row9_col11\" class=\"data row9 col11\" >0</td>\n",
       "      <td id=\"T_b987a_row9_col12\" class=\"data row9 col12\" >0</td>\n",
       "      <td id=\"T_b987a_row9_col13\" class=\"data row9 col13\" >0</td>\n",
       "      <td id=\"T_b987a_row9_col14\" class=\"data row9 col14\" >0</td>\n",
       "      <td id=\"T_b987a_row9_col15\" class=\"data row9 col15\" >0</td>\n",
       "      <td id=\"T_b987a_row9_col16\" class=\"data row9 col16\" >0</td>\n",
       "      <td id=\"T_b987a_row9_col17\" class=\"data row9 col17\" >0</td>\n",
       "      <td id=\"T_b987a_row9_col18\" class=\"data row9 col18\" >0</td>\n",
       "    </tr>\n",
       "    <tr>\n",
       "      <th id=\"T_b987a_level0_row10\" class=\"row_heading level0 row10\" >10</th>\n",
       "      <td id=\"T_b987a_row10_col0\" class=\"data row10 col0\" >0.17</td>\n",
       "      <td id=\"T_b987a_row10_col1\" class=\"data row10 col1\" >0</td>\n",
       "      <td id=\"T_b987a_row10_col2\" class=\"data row10 col2\" >0</td>\n",
       "      <td id=\"T_b987a_row10_col3\" class=\"data row10 col3\" >0</td>\n",
       "      <td id=\"T_b987a_row10_col4\" class=\"data row10 col4\" >0</td>\n",
       "      <td id=\"T_b987a_row10_col5\" class=\"data row10 col5\" >0</td>\n",
       "      <td id=\"T_b987a_row10_col6\" class=\"data row10 col6\" >0</td>\n",
       "      <td id=\"T_b987a_row10_col7\" class=\"data row10 col7\" >0</td>\n",
       "      <td id=\"T_b987a_row10_col8\" class=\"data row10 col8\" >0</td>\n",
       "      <td id=\"T_b987a_row10_col9\" class=\"data row10 col9\" >0</td>\n",
       "      <td id=\"T_b987a_row10_col10\" class=\"data row10 col10\" >0</td>\n",
       "      <td id=\"T_b987a_row10_col11\" class=\"data row10 col11\" >0</td>\n",
       "      <td id=\"T_b987a_row10_col12\" class=\"data row10 col12\" >0</td>\n",
       "      <td id=\"T_b987a_row10_col13\" class=\"data row10 col13\" >0</td>\n",
       "      <td id=\"T_b987a_row10_col14\" class=\"data row10 col14\" >0</td>\n",
       "      <td id=\"T_b987a_row10_col15\" class=\"data row10 col15\" >0.018</td>\n",
       "      <td id=\"T_b987a_row10_col16\" class=\"data row10 col16\" >0</td>\n",
       "      <td id=\"T_b987a_row10_col17\" class=\"data row10 col17\" >0</td>\n",
       "      <td id=\"T_b987a_row10_col18\" class=\"data row10 col18\" >0</td>\n",
       "    </tr>\n",
       "    <tr>\n",
       "      <th id=\"T_b987a_level0_row11\" class=\"row_heading level0 row11\" >11</th>\n",
       "      <td id=\"T_b987a_row11_col0\" class=\"data row11 col0\" >0</td>\n",
       "      <td id=\"T_b987a_row11_col1\" class=\"data row11 col1\" >0</td>\n",
       "      <td id=\"T_b987a_row11_col2\" class=\"data row11 col2\" >0</td>\n",
       "      <td id=\"T_b987a_row11_col3\" class=\"data row11 col3\" >0.41</td>\n",
       "      <td id=\"T_b987a_row11_col4\" class=\"data row11 col4\" >0</td>\n",
       "      <td id=\"T_b987a_row11_col5\" class=\"data row11 col5\" >0</td>\n",
       "      <td id=\"T_b987a_row11_col6\" class=\"data row11 col6\" >0</td>\n",
       "      <td id=\"T_b987a_row11_col7\" class=\"data row11 col7\" >0</td>\n",
       "      <td id=\"T_b987a_row11_col8\" class=\"data row11 col8\" >0</td>\n",
       "      <td id=\"T_b987a_row11_col9\" class=\"data row11 col9\" >0</td>\n",
       "      <td id=\"T_b987a_row11_col10\" class=\"data row11 col10\" >0</td>\n",
       "      <td id=\"T_b987a_row11_col11\" class=\"data row11 col11\" >0</td>\n",
       "      <td id=\"T_b987a_row11_col12\" class=\"data row11 col12\" >0</td>\n",
       "      <td id=\"T_b987a_row11_col13\" class=\"data row11 col13\" >0</td>\n",
       "      <td id=\"T_b987a_row11_col14\" class=\"data row11 col14\" >0</td>\n",
       "      <td id=\"T_b987a_row11_col15\" class=\"data row11 col15\" >0</td>\n",
       "      <td id=\"T_b987a_row11_col16\" class=\"data row11 col16\" >0</td>\n",
       "      <td id=\"T_b987a_row11_col17\" class=\"data row11 col17\" >0</td>\n",
       "      <td id=\"T_b987a_row11_col18\" class=\"data row11 col18\" >0</td>\n",
       "    </tr>\n",
       "    <tr>\n",
       "      <th id=\"T_b987a_level0_row12\" class=\"row_heading level0 row12\" >12</th>\n",
       "      <td id=\"T_b987a_row12_col0\" class=\"data row12 col0\" >0</td>\n",
       "      <td id=\"T_b987a_row12_col1\" class=\"data row12 col1\" >0.19</td>\n",
       "      <td id=\"T_b987a_row12_col2\" class=\"data row12 col2\" >0</td>\n",
       "      <td id=\"T_b987a_row12_col3\" class=\"data row12 col3\" >0</td>\n",
       "      <td id=\"T_b987a_row12_col4\" class=\"data row12 col4\" >0</td>\n",
       "      <td id=\"T_b987a_row12_col5\" class=\"data row12 col5\" >0</td>\n",
       "      <td id=\"T_b987a_row12_col6\" class=\"data row12 col6\" >0</td>\n",
       "      <td id=\"T_b987a_row12_col7\" class=\"data row12 col7\" >0</td>\n",
       "      <td id=\"T_b987a_row12_col8\" class=\"data row12 col8\" >0.27</td>\n",
       "      <td id=\"T_b987a_row12_col9\" class=\"data row12 col9\" >0</td>\n",
       "      <td id=\"T_b987a_row12_col10\" class=\"data row12 col10\" >0</td>\n",
       "      <td id=\"T_b987a_row12_col11\" class=\"data row12 col11\" >0</td>\n",
       "      <td id=\"T_b987a_row12_col12\" class=\"data row12 col12\" >0</td>\n",
       "      <td id=\"T_b987a_row12_col13\" class=\"data row12 col13\" >0</td>\n",
       "      <td id=\"T_b987a_row12_col14\" class=\"data row12 col14\" >0</td>\n",
       "      <td id=\"T_b987a_row12_col15\" class=\"data row12 col15\" >0</td>\n",
       "      <td id=\"T_b987a_row12_col16\" class=\"data row12 col16\" >0</td>\n",
       "      <td id=\"T_b987a_row12_col17\" class=\"data row12 col17\" >0</td>\n",
       "      <td id=\"T_b987a_row12_col18\" class=\"data row12 col18\" >0</td>\n",
       "    </tr>\n",
       "    <tr>\n",
       "      <th id=\"T_b987a_level0_row13\" class=\"row_heading level0 row13\" >13</th>\n",
       "      <td id=\"T_b987a_row13_col0\" class=\"data row13 col0\" >0</td>\n",
       "      <td id=\"T_b987a_row13_col1\" class=\"data row13 col1\" >0</td>\n",
       "      <td id=\"T_b987a_row13_col2\" class=\"data row13 col2\" >0</td>\n",
       "      <td id=\"T_b987a_row13_col3\" class=\"data row13 col3\" >0</td>\n",
       "      <td id=\"T_b987a_row13_col4\" class=\"data row13 col4\" >0</td>\n",
       "      <td id=\"T_b987a_row13_col5\" class=\"data row13 col5\" >0.027</td>\n",
       "      <td id=\"T_b987a_row13_col6\" class=\"data row13 col6\" >0</td>\n",
       "      <td id=\"T_b987a_row13_col7\" class=\"data row13 col7\" >0</td>\n",
       "      <td id=\"T_b987a_row13_col8\" class=\"data row13 col8\" >0</td>\n",
       "      <td id=\"T_b987a_row13_col9\" class=\"data row13 col9\" >0</td>\n",
       "      <td id=\"T_b987a_row13_col10\" class=\"data row13 col10\" >0</td>\n",
       "      <td id=\"T_b987a_row13_col11\" class=\"data row13 col11\" >0</td>\n",
       "      <td id=\"T_b987a_row13_col12\" class=\"data row13 col12\" >0</td>\n",
       "      <td id=\"T_b987a_row13_col13\" class=\"data row13 col13\" >0</td>\n",
       "      <td id=\"T_b987a_row13_col14\" class=\"data row13 col14\" >0</td>\n",
       "      <td id=\"T_b987a_row13_col15\" class=\"data row13 col15\" >0</td>\n",
       "      <td id=\"T_b987a_row13_col16\" class=\"data row13 col16\" >0</td>\n",
       "      <td id=\"T_b987a_row13_col17\" class=\"data row13 col17\" >0</td>\n",
       "      <td id=\"T_b987a_row13_col18\" class=\"data row13 col18\" >0</td>\n",
       "    </tr>\n",
       "    <tr>\n",
       "      <th id=\"T_b987a_level0_row14\" class=\"row_heading level0 row14\" >14</th>\n",
       "      <td id=\"T_b987a_row14_col0\" class=\"data row14 col0\" >1</td>\n",
       "      <td id=\"T_b987a_row14_col1\" class=\"data row14 col1\" >0</td>\n",
       "      <td id=\"T_b987a_row14_col2\" class=\"data row14 col2\" >0</td>\n",
       "      <td id=\"T_b987a_row14_col3\" class=\"data row14 col3\" >0</td>\n",
       "      <td id=\"T_b987a_row14_col4\" class=\"data row14 col4\" >0</td>\n",
       "      <td id=\"T_b987a_row14_col5\" class=\"data row14 col5\" >0</td>\n",
       "      <td id=\"T_b987a_row14_col6\" class=\"data row14 col6\" >0</td>\n",
       "      <td id=\"T_b987a_row14_col7\" class=\"data row14 col7\" >0</td>\n",
       "      <td id=\"T_b987a_row14_col8\" class=\"data row14 col8\" >0</td>\n",
       "      <td id=\"T_b987a_row14_col9\" class=\"data row14 col9\" >0</td>\n",
       "      <td id=\"T_b987a_row14_col10\" class=\"data row14 col10\" >0</td>\n",
       "      <td id=\"T_b987a_row14_col11\" class=\"data row14 col11\" >0</td>\n",
       "      <td id=\"T_b987a_row14_col12\" class=\"data row14 col12\" >0</td>\n",
       "      <td id=\"T_b987a_row14_col13\" class=\"data row14 col13\" >0</td>\n",
       "      <td id=\"T_b987a_row14_col14\" class=\"data row14 col14\" >0</td>\n",
       "      <td id=\"T_b987a_row14_col15\" class=\"data row14 col15\" >0</td>\n",
       "      <td id=\"T_b987a_row14_col16\" class=\"data row14 col16\" >0</td>\n",
       "      <td id=\"T_b987a_row14_col17\" class=\"data row14 col17\" >0</td>\n",
       "      <td id=\"T_b987a_row14_col18\" class=\"data row14 col18\" >0</td>\n",
       "    </tr>\n",
       "    <tr>\n",
       "      <th id=\"T_b987a_level0_row15\" class=\"row_heading level0 row15\" >15</th>\n",
       "      <td id=\"T_b987a_row15_col0\" class=\"data row15 col0\" >0</td>\n",
       "      <td id=\"T_b987a_row15_col1\" class=\"data row15 col1\" >0</td>\n",
       "      <td id=\"T_b987a_row15_col2\" class=\"data row15 col2\" >0</td>\n",
       "      <td id=\"T_b987a_row15_col3\" class=\"data row15 col3\" >0</td>\n",
       "      <td id=\"T_b987a_row15_col4\" class=\"data row15 col4\" >0</td>\n",
       "      <td id=\"T_b987a_row15_col5\" class=\"data row15 col5\" >0</td>\n",
       "      <td id=\"T_b987a_row15_col6\" class=\"data row15 col6\" >0</td>\n",
       "      <td id=\"T_b987a_row15_col7\" class=\"data row15 col7\" >0</td>\n",
       "      <td id=\"T_b987a_row15_col8\" class=\"data row15 col8\" >0</td>\n",
       "      <td id=\"T_b987a_row15_col9\" class=\"data row15 col9\" >0</td>\n",
       "      <td id=\"T_b987a_row15_col10\" class=\"data row15 col10\" >0</td>\n",
       "      <td id=\"T_b987a_row15_col11\" class=\"data row15 col11\" >0</td>\n",
       "      <td id=\"T_b987a_row15_col12\" class=\"data row15 col12\" >0</td>\n",
       "      <td id=\"T_b987a_row15_col13\" class=\"data row15 col13\" >0</td>\n",
       "      <td id=\"T_b987a_row15_col14\" class=\"data row15 col14\" >0</td>\n",
       "      <td id=\"T_b987a_row15_col15\" class=\"data row15 col15\" >0</td>\n",
       "      <td id=\"T_b987a_row15_col16\" class=\"data row15 col16\" >0</td>\n",
       "      <td id=\"T_b987a_row15_col17\" class=\"data row15 col17\" >0</td>\n",
       "      <td id=\"T_b987a_row15_col18\" class=\"data row15 col18\" >0</td>\n",
       "    </tr>\n",
       "    <tr>\n",
       "      <th id=\"T_b987a_level0_row16\" class=\"row_heading level0 row16\" >16</th>\n",
       "      <td id=\"T_b987a_row16_col0\" class=\"data row16 col0\" >0.11</td>\n",
       "      <td id=\"T_b987a_row16_col1\" class=\"data row16 col1\" >0</td>\n",
       "      <td id=\"T_b987a_row16_col2\" class=\"data row16 col2\" >0</td>\n",
       "      <td id=\"T_b987a_row16_col3\" class=\"data row16 col3\" >0</td>\n",
       "      <td id=\"T_b987a_row16_col4\" class=\"data row16 col4\" >0</td>\n",
       "      <td id=\"T_b987a_row16_col5\" class=\"data row16 col5\" >0</td>\n",
       "      <td id=\"T_b987a_row16_col6\" class=\"data row16 col6\" >0</td>\n",
       "      <td id=\"T_b987a_row16_col7\" class=\"data row16 col7\" >0</td>\n",
       "      <td id=\"T_b987a_row16_col8\" class=\"data row16 col8\" >0</td>\n",
       "      <td id=\"T_b987a_row16_col9\" class=\"data row16 col9\" >0</td>\n",
       "      <td id=\"T_b987a_row16_col10\" class=\"data row16 col10\" >0</td>\n",
       "      <td id=\"T_b987a_row16_col11\" class=\"data row16 col11\" >0</td>\n",
       "      <td id=\"T_b987a_row16_col12\" class=\"data row16 col12\" >0</td>\n",
       "      <td id=\"T_b987a_row16_col13\" class=\"data row16 col13\" >0</td>\n",
       "      <td id=\"T_b987a_row16_col14\" class=\"data row16 col14\" >0</td>\n",
       "      <td id=\"T_b987a_row16_col15\" class=\"data row16 col15\" >0</td>\n",
       "      <td id=\"T_b987a_row16_col16\" class=\"data row16 col16\" >0</td>\n",
       "      <td id=\"T_b987a_row16_col17\" class=\"data row16 col17\" >0</td>\n",
       "      <td id=\"T_b987a_row16_col18\" class=\"data row16 col18\" >0</td>\n",
       "    </tr>\n",
       "    <tr>\n",
       "      <th id=\"T_b987a_level0_row17\" class=\"row_heading level0 row17\" >17</th>\n",
       "      <td id=\"T_b987a_row17_col0\" class=\"data row17 col0\" >0</td>\n",
       "      <td id=\"T_b987a_row17_col1\" class=\"data row17 col1\" >0</td>\n",
       "      <td id=\"T_b987a_row17_col2\" class=\"data row17 col2\" >0</td>\n",
       "      <td id=\"T_b987a_row17_col3\" class=\"data row17 col3\" >0</td>\n",
       "      <td id=\"T_b987a_row17_col4\" class=\"data row17 col4\" >0</td>\n",
       "      <td id=\"T_b987a_row17_col5\" class=\"data row17 col5\" >0</td>\n",
       "      <td id=\"T_b987a_row17_col6\" class=\"data row17 col6\" >0</td>\n",
       "      <td id=\"T_b987a_row17_col7\" class=\"data row17 col7\" >0</td>\n",
       "      <td id=\"T_b987a_row17_col8\" class=\"data row17 col8\" >0</td>\n",
       "      <td id=\"T_b987a_row17_col9\" class=\"data row17 col9\" >0</td>\n",
       "      <td id=\"T_b987a_row17_col10\" class=\"data row17 col10\" >0</td>\n",
       "      <td id=\"T_b987a_row17_col11\" class=\"data row17 col11\" >0</td>\n",
       "      <td id=\"T_b987a_row17_col12\" class=\"data row17 col12\" >0</td>\n",
       "      <td id=\"T_b987a_row17_col13\" class=\"data row17 col13\" >0</td>\n",
       "      <td id=\"T_b987a_row17_col14\" class=\"data row17 col14\" >0</td>\n",
       "      <td id=\"T_b987a_row17_col15\" class=\"data row17 col15\" >0</td>\n",
       "      <td id=\"T_b987a_row17_col16\" class=\"data row17 col16\" >0</td>\n",
       "      <td id=\"T_b987a_row17_col17\" class=\"data row17 col17\" >0</td>\n",
       "      <td id=\"T_b987a_row17_col18\" class=\"data row17 col18\" >0</td>\n",
       "    </tr>\n",
       "    <tr>\n",
       "      <th id=\"T_b987a_level0_row18\" class=\"row_heading level0 row18\" >18</th>\n",
       "      <td id=\"T_b987a_row18_col0\" class=\"data row18 col0\" >0</td>\n",
       "      <td id=\"T_b987a_row18_col1\" class=\"data row18 col1\" >0</td>\n",
       "      <td id=\"T_b987a_row18_col2\" class=\"data row18 col2\" >0</td>\n",
       "      <td id=\"T_b987a_row18_col3\" class=\"data row18 col3\" >0</td>\n",
       "      <td id=\"T_b987a_row18_col4\" class=\"data row18 col4\" >0</td>\n",
       "      <td id=\"T_b987a_row18_col5\" class=\"data row18 col5\" >0</td>\n",
       "      <td id=\"T_b987a_row18_col6\" class=\"data row18 col6\" >0</td>\n",
       "      <td id=\"T_b987a_row18_col7\" class=\"data row18 col7\" >0</td>\n",
       "      <td id=\"T_b987a_row18_col8\" class=\"data row18 col8\" >0.078</td>\n",
       "      <td id=\"T_b987a_row18_col9\" class=\"data row18 col9\" >0</td>\n",
       "      <td id=\"T_b987a_row18_col10\" class=\"data row18 col10\" >0</td>\n",
       "      <td id=\"T_b987a_row18_col11\" class=\"data row18 col11\" >0</td>\n",
       "      <td id=\"T_b987a_row18_col12\" class=\"data row18 col12\" >0</td>\n",
       "      <td id=\"T_b987a_row18_col13\" class=\"data row18 col13\" >0</td>\n",
       "      <td id=\"T_b987a_row18_col14\" class=\"data row18 col14\" >0</td>\n",
       "      <td id=\"T_b987a_row18_col15\" class=\"data row18 col15\" >0</td>\n",
       "      <td id=\"T_b987a_row18_col16\" class=\"data row18 col16\" >0</td>\n",
       "      <td id=\"T_b987a_row18_col17\" class=\"data row18 col17\" >0</td>\n",
       "      <td id=\"T_b987a_row18_col18\" class=\"data row18 col18\" >0</td>\n",
       "    </tr>\n",
       "  </tbody>\n",
       "</table>\n"
      ],
      "text/plain": [
       "<pandas.io.formats.style.Styler at 0x7f477cb36490>"
      ]
     },
     "execution_count": 33,
     "metadata": {},
     "output_type": "execute_result"
    }
   ],
   "source": [
    "df.style.background_gradient(cmap='Blues').format('{:.2g}')"
   ]
  },
  {
   "cell_type": "code",
   "execution_count": 34,
   "id": "b9d41f8c-0b14-4a76-b881-c0824ad881a3",
   "metadata": {},
   "outputs": [
    {
     "name": "stdout",
     "output_type": "stream",
     "text": [
      "WARNING: Invalid color key. Using grey instead.\n",
      "saving figure to file ./figures/germcellforscvelo_pagavelocitygraph.pdf\n"
     ]
    }
   ],
   "source": [
    "scv.pl.paga(adata, basis='umap', size=50, alpha=.1,\n",
    "            min_edge_width=2, node_size_scale=1.5,save='./figures/germcellforscvelo_pagavelocitygraph.pdf')"
   ]
  },
  {
   "cell_type": "markdown",
   "id": "dd725631-e227-4832-9316-7142f49560a2",
   "metadata": {},
   "source": [
    "# Dynamical Modeling\n",
    "# Here, we use the generalized dynamical model to solve the full transcriptional dynamics. That yields several additional insights such as latent time and identification of putative driver genes"
   ]
  },
  {
   "cell_type": "code",
   "execution_count": 35,
   "id": "db2e846f-9c04-4cee-9426-213181782af3",
   "metadata": {},
   "outputs": [
    {
     "name": "stdout",
     "output_type": "stream",
     "text": [
      "recovering dynamics (using 1/24 cores)\n"
     ]
    },
    {
     "data": {
      "application/vnd.jupyter.widget-view+json": {
       "model_id": "874f5814d1464a15a813df1804ef8b06",
       "version_major": 2,
       "version_minor": 0
      },
      "text/plain": [
       "  0%|          | 0/853 [00:00<?, ?gene/s]"
      ]
     },
     "metadata": {},
     "output_type": "display_data"
    },
    {
     "name": "stdout",
     "output_type": "stream",
     "text": [
      "    finished (0:06:38) --> added \n",
      "    'fit_pars', fitted parameters for splicing dynamics (adata.var)\n"
     ]
    }
   ],
   "source": [
    "scv.tl.recover_dynamics(adata)"
   ]
  },
  {
   "cell_type": "code",
   "execution_count": 36,
   "id": "af995beb-e96f-4fb9-bcb1-3d87ff3da203",
   "metadata": {},
   "outputs": [
    {
     "name": "stdout",
     "output_type": "stream",
     "text": [
      "computing velocities\n",
      "    finished (0:00:05) --> added \n",
      "    'velocity', velocity vectors for each individual cell (adata.layers)\n",
      "computing velocity graph (using 1/24 cores)\n"
     ]
    },
    {
     "data": {
      "application/vnd.jupyter.widget-view+json": {
       "model_id": "87649d64836643808ba28c8c61d05b92",
       "version_major": 2,
       "version_minor": 0
      },
      "text/plain": [
       "  0%|          | 0/3868 [00:00<?, ?cells/s]"
      ]
     },
     "metadata": {},
     "output_type": "display_data"
    },
    {
     "name": "stdout",
     "output_type": "stream",
     "text": [
      "    finished (0:00:14) --> added \n",
      "    'velocity_graph', sparse matrix with cosine correlations (adata.uns)\n"
     ]
    }
   ],
   "source": [
    "scv.tl.velocity(adata, mode='dynamical')\n",
    "scv.tl.velocity_graph(adata)"
   ]
  },
  {
   "cell_type": "code",
   "execution_count": 37,
   "id": "25cc8067-6f92-40b6-b905-70373012dbc9",
   "metadata": {},
   "outputs": [
    {
     "name": "stdout",
     "output_type": "stream",
     "text": [
      "computing velocity embedding\n",
      "    finished (0:00:01) --> added\n",
      "    'velocity_umap', embedded velocity vectors (adata.obsm)\n",
      "figure cannot be saved as pdf, using png instead.\n",
      "saving figure to file ./figures/germcellforscvelo_embeddingstreamdynamic.png\n"
     ]
    }
   ],
   "source": [
    "scv.pl.velocity_embedding_stream(adata, basis='umap',color='leiden', save= './figures/germcellforscvelo_embeddingstreamdynamic.pdf')"
   ]
  },
  {
   "cell_type": "markdown",
   "id": "be597cf5-178a-489d-850c-307743751b79",
   "metadata": {},
   "source": [
    "# Kinetic rate paramters\n",
    "# The rates of RNA transcription, splicing and degradation are estimated without the need of any experimental data. They can be useful to better understand the cell identity and phenotypic heterogeneity."
   ]
  },
  {
   "cell_type": "code",
   "execution_count": 39,
   "id": "dfd89fcd-176e-457a-8659-a6636d8dadcd",
   "metadata": {},
   "outputs": [
    {
     "data": {
      "text/html": [
       "<div>\n",
       "<style scoped>\n",
       "    .dataframe tbody tr th:only-of-type {\n",
       "        vertical-align: middle;\n",
       "    }\n",
       "\n",
       "    .dataframe tbody tr th {\n",
       "        vertical-align: top;\n",
       "    }\n",
       "\n",
       "    .dataframe thead th {\n",
       "        text-align: right;\n",
       "    }\n",
       "</style>\n",
       "<table border=\"1\" class=\"dataframe\">\n",
       "  <thead>\n",
       "    <tr style=\"text-align: right;\">\n",
       "      <th></th>\n",
       "      <th>fit_alpha</th>\n",
       "      <th>fit_beta</th>\n",
       "      <th>fit_gamma</th>\n",
       "      <th>fit_t_</th>\n",
       "      <th>fit_scaling</th>\n",
       "      <th>fit_std_u</th>\n",
       "      <th>fit_std_s</th>\n",
       "      <th>fit_likelihood</th>\n",
       "      <th>fit_u0</th>\n",
       "      <th>fit_s0</th>\n",
       "      <th>fit_pval_steady</th>\n",
       "      <th>fit_steady_u</th>\n",
       "      <th>fit_steady_s</th>\n",
       "      <th>fit_variance</th>\n",
       "      <th>fit_alignment_scaling</th>\n",
       "      <th>fit_r2</th>\n",
       "    </tr>\n",
       "  </thead>\n",
       "  <tbody>\n",
       "    <tr>\n",
       "      <th>C1H6orf118</th>\n",
       "      <td>0.143782</td>\n",
       "      <td>0.181840</td>\n",
       "      <td>0.317382</td>\n",
       "      <td>6.039877</td>\n",
       "      <td>2.965552</td>\n",
       "      <td>0.233452</td>\n",
       "      <td>0.099648</td>\n",
       "      <td>0.034424</td>\n",
       "      <td>0.0</td>\n",
       "      <td>0.0</td>\n",
       "      <td>0.445436</td>\n",
       "      <td>0.979616</td>\n",
       "      <td>0.313856</td>\n",
       "      <td>3.405797</td>\n",
       "      <td>2.235585</td>\n",
       "      <td>0.458620</td>\n",
       "    </tr>\n",
       "    <tr>\n",
       "      <th>PRKN</th>\n",
       "      <td>0.115051</td>\n",
       "      <td>0.039498</td>\n",
       "      <td>0.476845</td>\n",
       "      <td>8.891260</td>\n",
       "      <td>7.300695</td>\n",
       "      <td>0.724865</td>\n",
       "      <td>0.044679</td>\n",
       "      <td>0.042588</td>\n",
       "      <td>0.0</td>\n",
       "      <td>0.0</td>\n",
       "      <td>0.449999</td>\n",
       "      <td>4.350484</td>\n",
       "      <td>0.199466</td>\n",
       "      <td>2.953957</td>\n",
       "      <td>1.560549</td>\n",
       "      <td>0.292099</td>\n",
       "    </tr>\n",
       "    <tr>\n",
       "      <th>TAGAP</th>\n",
       "      <td>0.128937</td>\n",
       "      <td>0.184921</td>\n",
       "      <td>0.398351</td>\n",
       "      <td>7.313920</td>\n",
       "      <td>3.421175</td>\n",
       "      <td>0.171624</td>\n",
       "      <td>0.057021</td>\n",
       "      <td>0.060463</td>\n",
       "      <td>0.0</td>\n",
       "      <td>0.0</td>\n",
       "      <td>0.483758</td>\n",
       "      <td>0.715779</td>\n",
       "      <td>0.220375</td>\n",
       "      <td>1.465149</td>\n",
       "      <td>1.651793</td>\n",
       "      <td>0.441423</td>\n",
       "    </tr>\n",
       "    <tr>\n",
       "      <th>RSPH3</th>\n",
       "      <td>0.263800</td>\n",
       "      <td>0.449781</td>\n",
       "      <td>0.229660</td>\n",
       "      <td>11.603554</td>\n",
       "      <td>1.090073</td>\n",
       "      <td>0.211434</td>\n",
       "      <td>0.330706</td>\n",
       "      <td>0.278298</td>\n",
       "      <td>0.0</td>\n",
       "      <td>0.0</td>\n",
       "      <td>0.478431</td>\n",
       "      <td>0.673216</td>\n",
       "      <td>0.772836</td>\n",
       "      <td>0.491326</td>\n",
       "      <td>3.197062</td>\n",
       "      <td>0.327576</td>\n",
       "    </tr>\n",
       "    <tr>\n",
       "      <th>MYCT1</th>\n",
       "      <td>0.179147</td>\n",
       "      <td>0.694023</td>\n",
       "      <td>0.323062</td>\n",
       "      <td>3.971321</td>\n",
       "      <td>0.923437</td>\n",
       "      <td>0.075373</td>\n",
       "      <td>0.103320</td>\n",
       "      <td>0.094244</td>\n",
       "      <td>0.0</td>\n",
       "      <td>0.0</td>\n",
       "      <td>0.363849</td>\n",
       "      <td>0.205733</td>\n",
       "      <td>0.329805</td>\n",
       "      <td>1.543527</td>\n",
       "      <td>1.975127</td>\n",
       "      <td>0.281958</td>\n",
       "    </tr>\n",
       "  </tbody>\n",
       "</table>\n",
       "</div>"
      ],
      "text/plain": [
       "            fit_alpha  fit_beta  fit_gamma     fit_t_  fit_scaling  fit_std_u  \\\n",
       "C1H6orf118   0.143782  0.181840   0.317382   6.039877     2.965552   0.233452   \n",
       "PRKN         0.115051  0.039498   0.476845   8.891260     7.300695   0.724865   \n",
       "TAGAP        0.128937  0.184921   0.398351   7.313920     3.421175   0.171624   \n",
       "RSPH3        0.263800  0.449781   0.229660  11.603554     1.090073   0.211434   \n",
       "MYCT1        0.179147  0.694023   0.323062   3.971321     0.923437   0.075373   \n",
       "\n",
       "            fit_std_s  fit_likelihood  fit_u0  fit_s0  fit_pval_steady  \\\n",
       "C1H6orf118   0.099648        0.034424     0.0     0.0         0.445436   \n",
       "PRKN         0.044679        0.042588     0.0     0.0         0.449999   \n",
       "TAGAP        0.057021        0.060463     0.0     0.0         0.483758   \n",
       "RSPH3        0.330706        0.278298     0.0     0.0         0.478431   \n",
       "MYCT1        0.103320        0.094244     0.0     0.0         0.363849   \n",
       "\n",
       "            fit_steady_u  fit_steady_s  fit_variance  fit_alignment_scaling  \\\n",
       "C1H6orf118      0.979616      0.313856      3.405797               2.235585   \n",
       "PRKN            4.350484      0.199466      2.953957               1.560549   \n",
       "TAGAP           0.715779      0.220375      1.465149               1.651793   \n",
       "RSPH3           0.673216      0.772836      0.491326               3.197062   \n",
       "MYCT1           0.205733      0.329805      1.543527               1.975127   \n",
       "\n",
       "              fit_r2  \n",
       "C1H6orf118  0.458620  \n",
       "PRKN        0.292099  \n",
       "TAGAP       0.441423  \n",
       "RSPH3       0.327576  \n",
       "MYCT1       0.281958  "
      ]
     },
     "execution_count": 39,
     "metadata": {},
     "output_type": "execute_result"
    }
   ],
   "source": [
    "df = adata.var\n",
    "df = df[(df['fit_likelihood'] > .1) & df['velocity_genes'] == True]\n",
    "\n",
    "kwargs = dict(xscale='log', fontsize=16)\n",
    "with scv.GridSpec(ncols=3) as pl:\n",
    "    pl.hist(df['fit_alpha'], xlabel='transcription rate', **kwargs)\n",
    "    pl.hist(df['fit_beta'] * df['fit_scaling'], xlabel='splicing rate', xticks=[.1, .4, 1], **kwargs)\n",
    "    pl.hist(df['fit_gamma'], xlabel='degradation rate', xticks=[.1, .4, 1], **kwargs)\n",
    "scv.get_df(adata, 'fit*', dropna=True).head()"
   ]
  },
  {
   "cell_type": "code",
   "execution_count": 40,
   "id": "152139e8-b2b6-4e4b-8cdb-095f8fb5590d",
   "metadata": {},
   "outputs": [],
   "source": [
    "plt.savefig(\"./figures/germcellforscvelo_kineticrateparamters.pdf\")"
   ]
  },
  {
   "cell_type": "markdown",
   "id": "2ad1aa25-5347-42ca-8d13-2a149c0bb659",
   "metadata": {},
   "source": [
    "# Latent time\n",
    "# The dynamical model recovers the latent time of the underlying cellular processes. This latent time represents the cell’s internal clock and approximates the real time experienced by cells as they differentiate, based only on its transcriptional dynamics"
   ]
  },
  {
   "cell_type": "code",
   "execution_count": 41,
   "id": "6555cd7b-e037-422e-86e1-1a86532914c9",
   "metadata": {},
   "outputs": [
    {
     "name": "stdout",
     "output_type": "stream",
     "text": [
      "computing latent time using root_cells as prior\n",
      "    finished (0:00:03) --> added \n",
      "    'latent_time', shared time (adata.obs)\n",
      "saving figure to file ./figures/germcellforscvelo_latenttimedynamic.pdf\n"
     ]
    }
   ],
   "source": [
    "scv.tl.latent_time(adata)\n",
    "scv.pl.scatter(adata, color='latent_time', color_map='gnuplot', size=80, save= './figures/germcellforscvelo_latenttimedynamic.pdf')"
   ]
  },
  {
   "cell_type": "code",
   "execution_count": 42,
   "id": "c4a64af8-4163-4f73-9ce5-47b064aada53",
   "metadata": {},
   "outputs": [
    {
     "name": "stdout",
     "output_type": "stream",
     "text": [
      "saving figure to file ./figures/germcellforscvelo_latenttimeheatmapdynamic.pdf\n"
     ]
    }
   ],
   "source": [
    "top_genes = adata.var['fit_likelihood'].sort_values(ascending=False).index[:300]\n",
    "scv.pl.heatmap(adata, var_names=top_genes, sortby='latent_time', col_color='leiden', n_convolve=100, save= './figures/germcellforscvelo_latenttimeheatmapdynamic.pdf')"
   ]
  },
  {
   "cell_type": "code",
   "execution_count": 45,
   "id": "21c67863-eb39-4b5c-83fe-f6aaeaa98916",
   "metadata": {},
   "outputs": [
    {
     "name": "stdout",
     "output_type": "stream",
     "text": [
      "saving figure to file ./figures/germcellforscvelo_topgene15dynamic.pdf\n"
     ]
    }
   ],
   "source": [
    "top_genes = adata.var['fit_likelihood'].sort_values(ascending=False).index\n",
    "scv.pl.scatter(adata, basis=top_genes[:15], ncols=5, frameon=False,color='leiden',save= './figures/germcellforscvelo_topgene15dynamic.pdf')"
   ]
  },
  {
   "cell_type": "code",
   "execution_count": 46,
   "id": "c2b13103-f364-4a8f-9e5e-79ae7340950f",
   "metadata": {},
   "outputs": [
    {
     "data": {
      "text/plain": [
       "AnnData object with n_obs × n_vars = 3868 × 2000\n",
       "    obs: 'n_genes', 'n_genes_by_counts', 'total_counts', 'total_counts_mt', 'pct_counts_mt', 'total_counts_chrX', 'pct_counts_chrX', 'total_counts_chrY', 'pct_counts_chrY', 'S_score', 'G2M_score', 'phase', 'doublet', 'doublet_score', 'leiden', 'cell_type', 'initial_size_spliced', 'initial_size_unspliced', 'initial_size', 'n_counts', 'velocity_self_transition', 'clusters_gradients', 'velocity_length', 'velocity_confidence', 'velocity_confidence_transition', 'root_cells', 'end_points', 'velocity_pseudotime', 'latent_time'\n",
       "    var: 'gene_ids', 'feature_types', 'genome', 'n_counts', 'mt', 'n_cells_by_counts', 'mean_counts', 'pct_dropout_by_counts', 'total_counts', 'chrX', 'chrY', 'highly_variable', 'means', 'dispersions', 'dispersions_norm', 'Accession', 'Chromosome', 'End', 'Start', 'Strand', 'velocity_gamma', 'velocity_qreg_ratio', 'velocity_r2', 'velocity_genes', 'spearmans_score', 'velocity_score', 'fit_alpha', 'fit_beta', 'fit_gamma', 'fit_t_', 'fit_scaling', 'fit_std_u', 'fit_std_s', 'fit_likelihood', 'fit_u0', 'fit_s0', 'fit_pval_steady', 'fit_steady_u', 'fit_steady_s', 'fit_variance', 'fit_alignment_scaling', 'fit_r2'\n",
       "    uns: 'cell_type_colors', 'dendrogram_cell_type', 'dendrogram_leiden', 'hvg', 'leiden', 'leiden_colors', 'neighbors', 'pca', 'rank_genes_groups', 'tsne', 'umap', 'velocity_params', 'velocity_graph', 'velocity_graph_neg', 'rank_velocity_genes', 'clusters_gradients_colors', 'paga', 'leiden_sizes', 'recover_dynamics'\n",
       "    obsm: 'X_pca', 'X_tsne', 'X_umap', 'velocity_umap'\n",
       "    varm: 'PCs', 'loss'\n",
       "    layers: 'matrix', 'ambiguous', 'spliced', 'unspliced', 'Ms', 'Mu', 'velocity', 'variance_velocity', 'fit_t', 'fit_tau', 'fit_tau_', 'velocity_u'\n",
       "    obsp: 'connectivities', 'distances'"
      ]
     },
     "execution_count": 46,
     "metadata": {},
     "output_type": "execute_result"
    }
   ],
   "source": [
    "adata"
   ]
  },
  {
   "cell_type": "code",
   "execution_count": null,
   "id": "00ee6ebd-52aa-4ed4-abd1-e80e9cbfc833",
   "metadata": {},
   "outputs": [],
   "source": []
  },
  {
   "cell_type": "markdown",
   "id": "e7d39c21-cf19-4cab-ae13-1bbc88a6c223",
   "metadata": {},
   "source": [
    "## cellrank"
   ]
  },
  {
   "cell_type": "code",
   "execution_count": 2,
   "id": "235c66d4-f693-4556-8958-770ebe50a5f5",
   "metadata": {},
   "outputs": [
    {
     "name": "stdout",
     "output_type": "stream",
     "text": [
      "Collecting cellrank\n",
      "  Downloading cellrank-1.5.1-py3-none-any.whl (250 kB)\n",
      "\u001b[K     |████████████████████████████████| 250 kB 704 kB/s eta 0:00:01\n",
      "\u001b[?25hRequirement already satisfied: wrapt>=1.12.1 in /public/home/zhaox/anaconda3/lib/python3.9/site-packages (from cellrank) (1.12.1)\n",
      "Requirement already satisfied: numpy>=1.17.0 in /public/home/zhaox/anaconda3/lib/python3.9/site-packages (from cellrank) (1.20.3)\n",
      "Requirement already satisfied: docrep>=0.3.0 in /public/home/zhaox/anaconda3/lib/python3.9/site-packages (from cellrank) (0.3.2)\n",
      "Requirement already satisfied: setuptools>=41.0.1 in /public/home/zhaox/anaconda3/lib/python3.9/site-packages (from cellrank) (58.0.4)\n",
      "Requirement already satisfied: networkx>=2.2 in /public/home/zhaox/anaconda3/lib/python3.9/site-packages (from cellrank) (2.6.3)\n",
      "Requirement already satisfied: typing-extensions in /public/home/zhaox/anaconda3/lib/python3.9/site-packages (from cellrank) (4.4.0)\n",
      "Requirement already satisfied: numba>=0.51.0 in /public/home/zhaox/anaconda3/lib/python3.9/site-packages (from cellrank) (0.54.1)\n",
      "Requirement already satisfied: matplotlib>=3.3.0 in /public/home/zhaox/anaconda3/lib/python3.9/site-packages (from cellrank) (3.4.3)\n",
      "Requirement already satisfied: scanpy>=1.7.2 in /public/home/zhaox/anaconda3/lib/python3.9/site-packages (from cellrank) (1.9.1)\n",
      "Requirement already satisfied: pandas>=1.2.0 in /public/home/zhaox/anaconda3/lib/python3.9/site-packages (from cellrank) (1.4.2)\n",
      "Requirement already satisfied: scikit-learn>=0.24.0 in /public/home/zhaox/anaconda3/lib/python3.9/site-packages (from cellrank) (1.1.0)\n",
      "Requirement already satisfied: scvelo>=0.2.4 in /public/home/zhaox/anaconda3/lib/python3.9/site-packages (from cellrank) (0.2.4)\n",
      "Requirement already satisfied: seaborn>=0.10.0 in /public/home/zhaox/anaconda3/lib/python3.9/site-packages (from cellrank) (0.11.2)\n",
      "Requirement already satisfied: joblib>=0.13.1 in /public/home/zhaox/anaconda3/lib/python3.9/site-packages (from cellrank) (1.1.0)\n",
      "Requirement already satisfied: scipy>=1.2.0 in /public/home/zhaox/anaconda3/lib/python3.9/site-packages (from cellrank) (1.7.1)\n",
      "Collecting pygam>=0.8.0\n",
      "  Downloading pygam-0.8.0-py2.py3-none-any.whl (1.8 MB)\n",
      "\u001b[K     |████████████████████████████████| 1.8 MB 137 kB/s eta 0:00:01\n",
      "\u001b[?25hCollecting pygpcca>=1.0.3\n",
      "  Downloading pygpcca-1.0.4-py3-none-any.whl (68 kB)\n",
      "\u001b[K     |████████████████████████████████| 68 kB 370 kB/s  eta 0:00:01\n",
      "\u001b[?25hRequirement already satisfied: six in /public/home/zhaox/anaconda3/lib/python3.9/site-packages (from docrep>=0.3.0->cellrank) (1.16.0)\n",
      "Requirement already satisfied: cycler>=0.10 in /public/home/zhaox/anaconda3/lib/python3.9/site-packages (from matplotlib>=3.3.0->cellrank) (0.10.0)\n",
      "Requirement already satisfied: python-dateutil>=2.7 in /public/home/zhaox/anaconda3/lib/python3.9/site-packages (from matplotlib>=3.3.0->cellrank) (2.8.2)\n",
      "Requirement already satisfied: kiwisolver>=1.0.1 in /public/home/zhaox/anaconda3/lib/python3.9/site-packages (from matplotlib>=3.3.0->cellrank) (1.3.1)\n",
      "Requirement already satisfied: pillow>=6.2.0 in /public/home/zhaox/anaconda3/lib/python3.9/site-packages (from matplotlib>=3.3.0->cellrank) (9.2.0)\n",
      "Requirement already satisfied: pyparsing>=2.2.1 in /public/home/zhaox/anaconda3/lib/python3.9/site-packages (from matplotlib>=3.3.0->cellrank) (3.0.4)\n",
      "Requirement already satisfied: llvmlite<0.38,>=0.37.0rc1 in /public/home/zhaox/anaconda3/lib/python3.9/site-packages (from numba>=0.51.0->cellrank) (0.37.0)\n",
      "Requirement already satisfied: pytz>=2020.1 in /public/home/zhaox/anaconda3/lib/python3.9/site-packages (from pandas>=1.2.0->cellrank) (2021.3)\n",
      "Collecting progressbar2\n",
      "  Downloading progressbar2-4.2.0-py2.py3-none-any.whl (27 kB)\n",
      "Requirement already satisfied: future in /public/home/zhaox/anaconda3/lib/python3.9/site-packages (from pygam>=0.8.0->cellrank) (0.18.2)\n",
      "Collecting jinja2==3.0.3\n",
      "  Downloading Jinja2-3.0.3-py3-none-any.whl (133 kB)\n",
      "\u001b[K     |████████████████████████████████| 133 kB 12.2 MB/s eta 0:00:01\n",
      "\u001b[?25hCollecting MarkupSafe>=2.0\n",
      "  Downloading MarkupSafe-2.1.1-cp39-cp39-manylinux_2_17_x86_64.manylinux2014_x86_64.whl (25 kB)\n",
      "Requirement already satisfied: statsmodels>=0.10.0rc2 in /public/home/zhaox/anaconda3/lib/python3.9/site-packages (from scanpy>=1.7.2->cellrank) (0.12.2)\n",
      "Requirement already satisfied: natsort in /public/home/zhaox/anaconda3/lib/python3.9/site-packages (from scanpy>=1.7.2->cellrank) (8.1.0)\n",
      "Requirement already satisfied: umap-learn>=0.3.10 in /public/home/zhaox/anaconda3/lib/python3.9/site-packages (from scanpy>=1.7.2->cellrank) (0.5.3)\n",
      "Requirement already satisfied: patsy in /public/home/zhaox/anaconda3/lib/python3.9/site-packages (from scanpy>=1.7.2->cellrank) (0.5.2)\n",
      "Requirement already satisfied: anndata>=0.7.4 in /public/home/zhaox/anaconda3/lib/python3.9/site-packages (from scanpy>=1.7.2->cellrank) (0.8.0)\n",
      "Requirement already satisfied: h5py>=3 in /public/home/zhaox/anaconda3/lib/python3.9/site-packages (from scanpy>=1.7.2->cellrank) (3.6.0)\n",
      "Requirement already satisfied: session-info in /public/home/zhaox/anaconda3/lib/python3.9/site-packages (from scanpy>=1.7.2->cellrank) (1.0.0)\n",
      "Requirement already satisfied: tqdm in /public/home/zhaox/anaconda3/lib/python3.9/site-packages (from scanpy>=1.7.2->cellrank) (4.62.3)\n",
      "Requirement already satisfied: packaging in /public/home/zhaox/anaconda3/lib/python3.9/site-packages (from scanpy>=1.7.2->cellrank) (21.0)\n",
      "Requirement already satisfied: threadpoolctl>=2.0.0 in /public/home/zhaox/anaconda3/lib/python3.9/site-packages (from scikit-learn>=0.24.0->cellrank) (2.2.0)\n",
      "Requirement already satisfied: loompy>=2.0.12 in /public/home/zhaox/anaconda3/lib/python3.9/site-packages (from scvelo>=0.2.4->cellrank) (3.0.7)\n",
      "Requirement already satisfied: numpy-groupies in /public/home/zhaox/anaconda3/lib/python3.9/site-packages (from loompy>=2.0.12->scvelo>=0.2.4->cellrank) (0.9.16)\n",
      "Requirement already satisfied: click in /public/home/zhaox/anaconda3/lib/python3.9/site-packages (from loompy>=2.0.12->scvelo>=0.2.4->cellrank) (8.1.3)\n",
      "Requirement already satisfied: pynndescent>=0.5 in /public/home/zhaox/anaconda3/lib/python3.9/site-packages (from umap-learn>=0.3.10->scanpy>=1.7.2->cellrank) (0.5.6)\n",
      "Collecting python-utils>=3.0.0\n",
      "  Downloading python_utils-3.4.5-py2.py3-none-any.whl (23 kB)\n",
      "Requirement already satisfied: stdlib-list in /public/home/zhaox/anaconda3/lib/python3.9/site-packages (from session-info->scanpy>=1.7.2->cellrank) (0.8.0)\n",
      "Installing collected packages: python-utils, MarkupSafe, progressbar2, jinja2, pygpcca, pygam, cellrank\n",
      "  Attempting uninstall: MarkupSafe\n",
      "    Found existing installation: MarkupSafe 1.1.1\n",
      "    Uninstalling MarkupSafe-1.1.1:\n",
      "      Successfully uninstalled MarkupSafe-1.1.1\n",
      "  Attempting uninstall: jinja2\n",
      "    Found existing installation: Jinja2 2.11.3\n",
      "    Uninstalling Jinja2-2.11.3:\n",
      "      Successfully uninstalled Jinja2-2.11.3\n",
      "\u001b[31mERROR: pip's dependency resolver does not currently take into account all the packages that are installed. This behaviour is the source of the following dependency conflicts.\n",
      "anaconda-project 0.10.1 requires ruamel-yaml, which is not installed.\n",
      "cookiecutter 1.7.2 requires Jinja2<3.0.0, but you have jinja2 3.0.3 which is incompatible.\n",
      "cookiecutter 1.7.2 requires MarkupSafe<2.0.0, but you have markupsafe 2.1.1 which is incompatible.\n",
      "cellphonedb 3.0.0 requires click<8.0,>=7.0, but you have click 8.1.3 which is incompatible.\n",
      "cellphonedb 3.0.0 requires geosketch==0.3, but you have geosketch 1.2 which is incompatible.\n",
      "cellphonedb 3.0.0 requires h5py<3.0.0, but you have h5py 3.6.0 which is incompatible.\n",
      "cellphonedb 3.0.0 requires numpy<=1.19.5,>=1.16.5, but you have numpy 1.20.3 which is incompatible.\n",
      "cellphonedb 3.0.0 requires pandas<=1.1.4,>=1.0.0, but you have pandas 1.4.2 which is incompatible.\n",
      "cellphonedb 3.0.0 requires scikit-learn==0.22, but you have scikit-learn 1.1.0 which is incompatible.\u001b[0m\n",
      "Successfully installed MarkupSafe-2.1.1 cellrank-1.5.1 jinja2-3.0.3 progressbar2-4.2.0 pygam-0.8.0 pygpcca-1.0.4 python-utils-3.4.5\n",
      "Note: you may need to restart the kernel to use updated packages.\n"
     ]
    }
   ],
   "source": [
    "pip install cellrank"
   ]
  },
  {
   "cell_type": "code",
   "execution_count": 65,
   "id": "facee77d-e4cb-484c-aa69-25475d227951",
   "metadata": {},
   "outputs": [],
   "source": [
    "import scvelo as scv\n",
    "import scanpy as sc\n",
    "import cellrank as cr\n",
    "import numpy as np\n",
    "scv.settings.verbosity = 3\n",
    "scv.settings.set_figure_params(\"scvelo\")\n",
    "cr.settings.verbosity = 2\n",
    "import warnings\n",
    "warnings.simplefilter(\"ignore\", category=UserWarning)\n",
    "warnings.simplefilter(\"ignore\", category=FutureWarning)\n",
    "warnings.simplefilter(\"ignore\", category=DeprecationWarning)"
   ]
  },
  {
   "cell_type": "code",
   "execution_count": 4,
   "id": "4c554294-115d-4343-8a1c-427c38929efd",
   "metadata": {},
   "outputs": [
    {
     "data": {
      "text/plain": [
       "AnnData object with n_obs × n_vars = 3868 × 19297\n",
       "    obs: 'n_genes', 'n_genes_by_counts', 'total_counts', 'total_counts_mt', 'pct_counts_mt', 'total_counts_chrX', 'pct_counts_chrX', 'total_counts_chrY', 'pct_counts_chrY', 'S_score', 'G2M_score', 'phase', 'doublet', 'doublet_score', 'leiden', 'cell_type'\n",
       "    var: 'gene_ids', 'feature_types', 'genome', 'n_counts', 'mt', 'n_cells_by_counts', 'mean_counts', 'pct_dropout_by_counts', 'total_counts', 'chrX', 'chrY', 'highly_variable', 'means', 'dispersions', 'dispersions_norm'\n",
       "    uns: 'cell_type_colors', 'dendrogram_cell_type', 'dendrogram_leiden', 'hvg', 'leiden', 'leiden_colors', 'neighbors', 'pca', 'rank_genes_groups', 'tsne', 'umap'\n",
       "    obsm: 'X_pca', 'X_tsne', 'X_umap'\n",
       "    varm: 'PCs'\n",
       "    obsp: 'connectivities', 'distances'"
      ]
     },
     "execution_count": 4,
     "metadata": {},
     "output_type": "execute_result"
    }
   ],
   "source": [
    "adata = sc.read('./figures/adult_germsubsetforscvelo_1223unannotation.h5ad')\n",
    "adata"
   ]
  },
  {
   "cell_type": "code",
   "execution_count": 89,
   "id": "0eb2db47-64a9-4f10-97df-8b7409ee92d0",
   "metadata": {},
   "outputs": [
    {
     "name": "stdout",
     "output_type": "stream",
     "text": [
      "saving figure to file ./figures/proportions1225forscvelo.pdf\n",
      "saving figure to file ./figures/germcellforcellrankspliced1225.pdf\n",
      "Filtered out 9627 genes that are detected 20 counts (shared).\n",
      "WARNING: Did not normalize X as it looks processed already. To enforce normalization, set `enforce=True`.\n",
      "Normalized count data: spliced, unspliced.\n",
      "Extracted 2000 highly variable genes.\n",
      "WARNING: Did not modify X as it looks preprocessed already.\n",
      "computing neighbors\n",
      "    finished (0:00:00) --> added \n",
      "    'distances' and 'connectivities', weighted adjacency matrices (adata.obsp)\n",
      "computing moments based on connectivities\n",
      "    finished (0:00:00) --> added \n",
      "    'Ms' and 'Mu', moments of un/spliced abundances (adata.layers)\n"
     ]
    }
   ],
   "source": [
    "adata_loom = scv.read('/public/home/zhaox/pigscRNA-seq/Adult/Adult.loom', cache=True)\n",
    "scv.pl.proportions(adata_loom,save=\"./figures/proportions1225forscvelo.pdf\")\n",
    "adata = scv.utils.merge(adata, adata_loom)\n",
    "scv.pl.proportions(\n",
    "    adata,\n",
    "    groupby='leiden',\n",
    "    layers=None,\n",
    "    highlight='unspliced',\n",
    "    add_labels_pie=True,\n",
    "    add_labels_bar=True,\n",
    "    fontsize=8,\n",
    "    figsize=(15, 2),\n",
    "    dpi=600,\n",
    "    use_raw=True,\n",
    "    show=True,\n",
    "    save=\"./figures/germcellforcellrankspliced1225.pdf\",\n",
    ")\n",
    "scv.pp.filter_and_normalize(adata, min_shared_counts=20, n_top_genes=2000)\n",
    "scv.pp.moments(adata, n_pcs=30, n_neighbors=30)"
   ]
  },
  {
   "cell_type": "markdown",
   "id": "dc676fca-bf47-49f6-99f8-ce874d0f7ecf",
   "metadata": {},
   "source": [
    "# Run scVelo\n",
    "# We will use the dynamical model from scVelo to estimate the velocities. Please make sure to have at least version 0.2.3 of scVelo installed to make use parallelisation in scv.tl.recover_dynamics. On my laptop, using 8 cores, the below cell takes about 1:30 min to execute."
   ]
  },
  {
   "cell_type": "code",
   "execution_count": 186,
   "id": "f4ef27cc-fedb-4836-aa9b-14c4e827ddf9",
   "metadata": {},
   "outputs": [
    {
     "name": "stdout",
     "output_type": "stream",
     "text": [
      "recovering dynamics (using 8/24 cores)\n"
     ]
    },
    {
     "data": {
      "application/vnd.jupyter.widget-view+json": {
       "model_id": "115df85ffc804ab9a5a2e20d57878283",
       "version_major": 2,
       "version_minor": 0
      },
      "text/plain": [
       "  0%|          | 0/1246 [00:00<?, ?gene/s]"
      ]
     },
     "metadata": {},
     "output_type": "display_data"
    },
    {
     "name": "stdout",
     "output_type": "stream",
     "text": [
      "    finished (0:01:16) --> added \n",
      "    'fit_pars', fitted parameters for splicing dynamics (adata.var)\n"
     ]
    }
   ],
   "source": [
    "scv.tl.recover_dynamics(adata, n_jobs=8)"
   ]
  },
  {
   "cell_type": "markdown",
   "id": "6759177f-3925-4c64-bb47-d1665d6c3f32",
   "metadata": {},
   "source": [
    "# Once we have the parameters, we can use these to compute the velocities and the velocity graph. The velocity graph is a weighted graph that specifies how likely two cells are to transition into another, given their velocity vectors and relative positions."
   ]
  },
  {
   "cell_type": "code",
   "execution_count": 187,
   "id": "f859ebd8-8fac-4ba6-9c41-b2c7e9126098",
   "metadata": {},
   "outputs": [
    {
     "name": "stdout",
     "output_type": "stream",
     "text": [
      "computing velocities\n",
      "    finished (0:00:09) --> added \n",
      "    'velocity', velocity vectors for each individual cell (adata.layers)\n",
      "computing velocity graph (using 1/24 cores)\n"
     ]
    },
    {
     "data": {
      "application/vnd.jupyter.widget-view+json": {
       "model_id": "79732e61b4fe48d580076d373372bda8",
       "version_major": 2,
       "version_minor": 0
      },
      "text/plain": [
       "  0%|          | 0/3868 [00:00<?, ?cells/s]"
      ]
     },
     "metadata": {},
     "output_type": "display_data"
    },
    {
     "name": "stdout",
     "output_type": "stream",
     "text": [
      "    finished (0:00:15) --> added \n",
      "    'velocity_graph', sparse matrix with cosine correlations (adata.uns)\n"
     ]
    }
   ],
   "source": [
    "scv.tl.velocity(adata, mode=\"dynamical\")\n",
    "scv.tl.velocity_graph(adata)"
   ]
  },
  {
   "cell_type": "code",
   "execution_count": 188,
   "id": "417831de-89bd-4c58-8a58-02171435c6c7",
   "metadata": {},
   "outputs": [
    {
     "name": "stdout",
     "output_type": "stream",
     "text": [
      "computing velocity embedding\n",
      "    finished (0:00:01) --> added\n",
      "    'velocity_umap', embedded velocity vectors (adata.obsm)\n",
      "figure cannot be saved as pdf, using png instead.\n",
      "saving figure to file ./figures/germcellforcellrank_embeddingstream1225.png\n"
     ]
    }
   ],
   "source": [
    "scv.pl.velocity_embedding_stream(\n",
    "    adata, basis=\"umap\",color='cell_type', legend_fontsize=12, title=\"\", smooth=0.8, min_mass=4,save='./figures/germcellforcellrank_embeddingstream1225.pdf'\n",
    ")"
   ]
  },
  {
   "cell_type": "markdown",
   "id": "f8c5f442-a7a1-4030-9e7e-941918e84da6",
   "metadata": {},
   "source": [
    "# Run CellRank\n",
    "# CellRank offers various ways to infuse directionality into single-cell data. Here, the directional information comes from RNA velocity, and we use this information to compute initial & terminal states as well as fate probabilities for the dynamical process of pancreatic development.\n",
    "\n",
    "# Identify terminal states\n",
    "# Terminal states can be computed by running the following command:"
   ]
  },
  {
   "cell_type": "code",
   "execution_count": 189,
   "id": "55671049-dad9-423b-81ac-9c3bcffcf773",
   "metadata": {},
   "outputs": [
    {
     "name": "stdout",
     "output_type": "stream",
     "text": [
      "Accessing `adata.obsp['T_fwd']`\n",
      "Computing transition matrix based on logits using `'deterministic'` mode\n"
     ]
    },
    {
     "name": "stderr",
     "output_type": "stream",
     "text": [
      "/tmp/ipykernel_178141/637574554.py:1: DeprecationWarning: `cellrank.tl.terminal_states` will be removed in version `2.0`. Please use the `cellrank.kernels` or `cellrank.estimators` interface instead.\n",
      "  cr.tl.terminal_states(adata, cluster_key=\"cell_type\", weight_connectivities=0.2)\n",
      "/public/home/zhaox/anaconda3/lib/python3.9/site-packages/cellrank/tl/_init_term_states.py:156: DeprecationWarning: `cellrank.tl.transition_matrix` will be removed in version `2.0`. Please use the `cellrank.kernels` or `cellrank.estimators` interface instead.\n",
      "  kernel = transition_matrix(\n"
     ]
    },
    {
     "name": "stdout",
     "output_type": "stream",
     "text": [
      "Estimating `softmax_scale` using `'deterministic'` mode\n"
     ]
    },
    {
     "data": {
      "application/vnd.jupyter.widget-view+json": {
       "model_id": "b491263ccf8c4c7b871264ff64b5b2a7",
       "version_major": 2,
       "version_minor": 0
      },
      "text/plain": [
       "  0%|          | 0/3868 [00:00<?, ?cell/s]"
      ]
     },
     "metadata": {},
     "output_type": "display_data"
    },
    {
     "name": "stdout",
     "output_type": "stream",
     "text": [
      "Setting `softmax_scale=7.0976`\n"
     ]
    },
    {
     "data": {
      "application/vnd.jupyter.widget-view+json": {
       "model_id": "80471cdb62ba40638b8796af30036414",
       "version_major": 2,
       "version_minor": 0
      },
      "text/plain": [
       "  0%|          | 0/3868 [00:00<?, ?cell/s]"
      ]
     },
     "metadata": {},
     "output_type": "display_data"
    },
    {
     "name": "stdout",
     "output_type": "stream",
     "text": [
      "    Finish (0:00:38)\n",
      "Using a connectivity kernel with weight `0.2`\n",
      "Computing transition matrix based on `adata.obsp['connectivities']`\n",
      "    Finish (0:00:00)\n",
      "Computing eigendecomposition of the transition matrix\n",
      "Adding `adata.uns['eigendecomposition_fwd']`\n",
      "       `.eigendecomposition`\n",
      "    Finish (0:00:05)\n",
      "WARNING: Unable to import `petsc4py` or `slepc4py`. Using `method='brandts'`\n",
      "WARNING: For `method='brandts'`, dense matrix is required. Densifying\n",
      "Computing Schur decomposition\n",
      "Adding `adata.uns['eigendecomposition_fwd']`\n",
      "       `.schur_vectors`\n",
      "       `.schur_matrix`\n",
      "       `.eigendecomposition`\n",
      "    Finish (0:01:34)\n",
      "Computing `3` macrostates\n",
      "Adding `.macrostates`\n",
      "       `.macrostates_memberships`\n",
      "       `.coarse_T`\n",
      "       `.coarse_initial_distribution\n",
      "       `.coarse_stationary_distribution`\n",
      "       `.schur_vectors`\n",
      "       `.schur_matrix`\n",
      "       `.eigendecomposition`\n",
      "    Finish (0:00:03)\n",
      "Adding `adata.obs['terminal_states']`\n",
      "       `adata.obs['terminal_states_probs']`\n",
      "       `.terminal_states`\n",
      "       `.terminal_states_probabilities`\n",
      "       `.terminal_states_memberships\n",
      "    Finish`\n"
     ]
    }
   ],
   "source": [
    "cr.tl.terminal_states(adata, cluster_key=\"cell_type\", weight_connectivities=0.2)"
   ]
  },
  {
   "cell_type": "code",
   "execution_count": 190,
   "id": "2ca05e1c-aa3a-45f7-9992-c8454b69de44",
   "metadata": {},
   "outputs": [
    {
     "name": "stdout",
     "output_type": "stream",
     "text": [
      "WARNING: Ignoring `color` when `mode='embedding'` and `same_plot=True`\n"
     ]
    }
   ],
   "source": [
    "cr.pl.terminal_states(adata,color='cell_type')"
   ]
  },
  {
   "cell_type": "code",
   "execution_count": 191,
   "id": "ae700f18-1920-4f99-842a-aaca01a96cde",
   "metadata": {},
   "outputs": [],
   "source": [
    "cr.pl.terminal_states(adata,color='cell_type')"
   ]
  },
  {
   "cell_type": "code",
   "execution_count": 130,
   "id": "aaff0fad-2dd9-4686-bd19-082fef8e7121",
   "metadata": {},
   "outputs": [
    {
     "data": {
      "text/plain": [
       "\u001b[0;31mSignature:\u001b[0m\n",
       "\u001b[0mcr\u001b[0m\u001b[0;34m.\u001b[0m\u001b[0mtl\u001b[0m\u001b[0;34m.\u001b[0m\u001b[0minitial_states\u001b[0m\u001b[0;34m(\u001b[0m\u001b[0;34m\u001b[0m\n",
       "\u001b[0;34m\u001b[0m    \u001b[0madata\u001b[0m\u001b[0;34m:\u001b[0m \u001b[0manndata\u001b[0m\u001b[0;34m.\u001b[0m\u001b[0m_core\u001b[0m\u001b[0;34m.\u001b[0m\u001b[0manndata\u001b[0m\u001b[0;34m.\u001b[0m\u001b[0mAnnData\u001b[0m\u001b[0;34m,\u001b[0m\u001b[0;34m\u001b[0m\n",
       "\u001b[0;34m\u001b[0m    \u001b[0mestimator\u001b[0m\u001b[0;34m:\u001b[0m \u001b[0mabc\u001b[0m\u001b[0;34m.\u001b[0m\u001b[0mABCMeta\u001b[0m \u001b[0;34m=\u001b[0m \u001b[0;34m<\u001b[0m\u001b[0;32mclass\u001b[0m \u001b[0;34m'cellrank.tl.estimators.terminal_states._gpcca.GPCCA'\u001b[0m\u001b[0;34m>\u001b[0m\u001b[0;34m,\u001b[0m\u001b[0;34m\u001b[0m\n",
       "\u001b[0;34m\u001b[0m    \u001b[0mmode\u001b[0m\u001b[0;34m:\u001b[0m \u001b[0mstr\u001b[0m \u001b[0;34m=\u001b[0m \u001b[0;34m'deterministic'\u001b[0m\u001b[0;34m,\u001b[0m\u001b[0;34m\u001b[0m\n",
       "\u001b[0;34m\u001b[0m    \u001b[0mbackward_mode\u001b[0m\u001b[0;34m:\u001b[0m \u001b[0mstr\u001b[0m \u001b[0;34m=\u001b[0m \u001b[0;34m'transpose'\u001b[0m\u001b[0;34m,\u001b[0m\u001b[0;34m\u001b[0m\n",
       "\u001b[0;34m\u001b[0m    \u001b[0mn_states\u001b[0m\u001b[0;34m:\u001b[0m \u001b[0mOptional\u001b[0m\u001b[0;34m[\u001b[0m\u001b[0mint\u001b[0m\u001b[0;34m]\u001b[0m \u001b[0;34m=\u001b[0m \u001b[0;32mNone\u001b[0m\u001b[0;34m,\u001b[0m\u001b[0;34m\u001b[0m\n",
       "\u001b[0;34m\u001b[0m    \u001b[0mcluster_key\u001b[0m\u001b[0;34m:\u001b[0m \u001b[0mOptional\u001b[0m\u001b[0;34m[\u001b[0m\u001b[0mstr\u001b[0m\u001b[0;34m]\u001b[0m \u001b[0;34m=\u001b[0m \u001b[0;32mNone\u001b[0m\u001b[0;34m,\u001b[0m\u001b[0;34m\u001b[0m\n",
       "\u001b[0;34m\u001b[0m    \u001b[0mkey\u001b[0m\u001b[0;34m:\u001b[0m \u001b[0mOptional\u001b[0m\u001b[0;34m[\u001b[0m\u001b[0mstr\u001b[0m\u001b[0;34m]\u001b[0m \u001b[0;34m=\u001b[0m \u001b[0;32mNone\u001b[0m\u001b[0;34m,\u001b[0m\u001b[0;34m\u001b[0m\n",
       "\u001b[0;34m\u001b[0m    \u001b[0mforce_recompute\u001b[0m\u001b[0;34m:\u001b[0m \u001b[0mbool\u001b[0m \u001b[0;34m=\u001b[0m \u001b[0;32mFalse\u001b[0m\u001b[0;34m,\u001b[0m\u001b[0;34m\u001b[0m\n",
       "\u001b[0;34m\u001b[0m    \u001b[0mshow_plots\u001b[0m\u001b[0;34m:\u001b[0m \u001b[0mbool\u001b[0m \u001b[0;34m=\u001b[0m \u001b[0;32mFalse\u001b[0m\u001b[0;34m,\u001b[0m\u001b[0;34m\u001b[0m\n",
       "\u001b[0;34m\u001b[0m    \u001b[0mcopy\u001b[0m\u001b[0;34m:\u001b[0m \u001b[0mbool\u001b[0m \u001b[0;34m=\u001b[0m \u001b[0;32mFalse\u001b[0m\u001b[0;34m,\u001b[0m\u001b[0;34m\u001b[0m\n",
       "\u001b[0;34m\u001b[0m    \u001b[0mreturn_estimator\u001b[0m\u001b[0;34m:\u001b[0m \u001b[0mbool\u001b[0m \u001b[0;34m=\u001b[0m \u001b[0;32mFalse\u001b[0m\u001b[0;34m,\u001b[0m\u001b[0;34m\u001b[0m\n",
       "\u001b[0;34m\u001b[0m    \u001b[0mfit_kwargs\u001b[0m\u001b[0;34m:\u001b[0m \u001b[0mMapping\u001b[0m \u001b[0;34m=\u001b[0m \u001b[0mmappingproxy\u001b[0m\u001b[0;34m(\u001b[0m\u001b[0;34m{\u001b[0m\u001b[0;34m}\u001b[0m\u001b[0;34m)\u001b[0m\u001b[0;34m,\u001b[0m\u001b[0;34m\u001b[0m\n",
       "\u001b[0;34m\u001b[0m    \u001b[0;34m**\u001b[0m\u001b[0mkwargs\u001b[0m\u001b[0;34m,\u001b[0m\u001b[0;34m\u001b[0m\n",
       "\u001b[0;34m\u001b[0m\u001b[0;34m)\u001b[0m \u001b[0;34m->\u001b[0m \u001b[0mUnion\u001b[0m\u001b[0;34m[\u001b[0m\u001b[0manndata\u001b[0m\u001b[0;34m.\u001b[0m\u001b[0m_core\u001b[0m\u001b[0;34m.\u001b[0m\u001b[0manndata\u001b[0m\u001b[0;34m.\u001b[0m\u001b[0mAnnData\u001b[0m\u001b[0;34m,\u001b[0m \u001b[0mcellrank\u001b[0m\u001b[0;34m.\u001b[0m\u001b[0mtl\u001b[0m\u001b[0;34m.\u001b[0m\u001b[0mestimators\u001b[0m\u001b[0;34m.\u001b[0m\u001b[0m_base_estimator\u001b[0m\u001b[0;34m.\u001b[0m\u001b[0mBaseEstimator\u001b[0m\u001b[0;34m,\u001b[0m \u001b[0mNoneType\u001b[0m\u001b[0;34m]\u001b[0m\u001b[0;34m\u001b[0m\u001b[0;34m\u001b[0m\u001b[0m\n",
       "\u001b[0;31mDocstring:\u001b[0m\n",
       "Find initial states of a dynamic process of single cells based on RNA velocity :cite:`manno:18`.\n",
       "\n",
       "The function models dynamic cellular processes as a Markov chain, where the transition matrix is computed based\n",
       "on the velocity vector of each individual cell. Based on this Markov chain, we provide two estimators\n",
       "to compute initial states, both of which are based on spectral methods.\n",
       "\n",
       "For the estimator :class:`cellrank.tl.estimators.GPCCA`, cells are fuzzily clustered into macrostates,\n",
       "using Generalized Perron Cluster Cluster Analysis :cite:`reuter:18`. In short, this coarse-grains the Markov chain into\n",
       "a set of macrostates representing the slow time-scale dynamics, i.e. transitions between these macrostates are rare.\n",
       "The most stable ones of these will represent initial, while the others represent intermediate macrostates.\n",
       "\n",
       "For the estimator :class:`cellrank.tl.estimators.CFLARE`, cells are filtered into transient/recurrent cells using the\n",
       "left eigenvectors of the transition matrix and clustered into distinct groups of initial states using the right\n",
       "eigenvectors of the transition matrix of the Markov chain.\n",
       "\n",
       "Parameters\n",
       "----------\n",
       "adata : :class:`anndata.AnnData`\n",
       "    Annotated data object.\n",
       "estimator\n",
       "    Estimator class to use to compute the initial states.\n",
       "mode\n",
       "    How to compute transition probabilities. Valid options are:\n",
       "\n",
       "        - `'deterministic'` - deterministic computation that doesn't propagate uncertainty.\n",
       "        - `'monte_carlo'` - Monte Carlo average of randomly sampled velocity vectors.\n",
       "        - `'stochastic'` - second order approximation, only available when :mod:`jax` is installed.\n",
       "        - `'sampling'` - sample 1 transition matrix from the velocity distribution.\n",
       "backward_mode\n",
       "    How to compute the backward transitions. Valid options are:\n",
       "\n",
       "        - `'transpose'` - compute transitions from neighboring cells :math:`j` to cell :math:`i`.\n",
       "        - `'negate'` - negate the velocity vector.\n",
       "n_states\n",
       "    If you know how many initial states you are expecting, you can provide this number.\n",
       "    Otherwise, an `eigengap` heuristic is used.\n",
       "cluster_key\n",
       "    Key from ``adata.obs`` where cluster annotations are stored. These are used to give names to the initial states.\n",
       "key\n",
       "    Key in ``adata.obsp`` where the transition matrix is saved.\n",
       "    If not found, compute a new one using :func:`cellrank.tl.transition_matrix`.\n",
       "force_recompute\n",
       "    Whether to always recompute the transition matrix even if one exists.\n",
       "show_plots\n",
       "    Whether to show plots of the spectrum and eigenvectors in the embedding.\n",
       "n_jobs\n",
       "    Number of parallel jobs. If `-1`, use all available cores. If `None` or `1`, the execution is sequential.\n",
       "copy\n",
       "    Whether to update the existing ``adata`` object or to return a copy.\n",
       "return_estimator\n",
       "    Whether to return the estimator. Only available when ``copy=False``.\n",
       "fit_kwargs\n",
       "    Keyword arguments for :meth:`cellrank.tl.BaseEstimator.fit`, such as ``n_cells``.\n",
       "kwargs\n",
       "    Keyword arguments for :func:`cellrank.tl.transition_matrix`, such as ``weight_connectivities`` or ``softmax_scale``.\n",
       "\n",
       "Returns\n",
       "-------\n",
       "Depending on ``copy`` and ``return_estimator``, either updates the existing ``adata`` object,\n",
       "returns its copy or returns the estimator.\n",
       "\n",
       "Marked cells are added to ``adata.obs['initial_states']``.\n",
       "\u001b[0;31mSource:\u001b[0m   \n",
       "\u001b[0;34m@\u001b[0m\u001b[0m_deprecate\u001b[0m\u001b[0;34m(\u001b[0m\u001b[0mversion\u001b[0m\u001b[0;34m=\u001b[0m\u001b[0;34m\"2.0\"\u001b[0m\u001b[0;34m)\u001b[0m\u001b[0;34m\u001b[0m\n",
       "\u001b[0;34m\u001b[0m\u001b[0;34m@\u001b[0m\u001b[0minject_docs\u001b[0m\u001b[0;34m(\u001b[0m\u001b[0mm\u001b[0m\u001b[0;34m=\u001b[0m\u001b[0mVelocityMode\u001b[0m\u001b[0;34m,\u001b[0m \u001b[0mb\u001b[0m\u001b[0;34m=\u001b[0m\u001b[0mBackwardMode\u001b[0m\u001b[0;34m)\u001b[0m\u001b[0;34m\u001b[0m\n",
       "\u001b[0;34m\u001b[0m\u001b[0;34m@\u001b[0m\u001b[0md\u001b[0m\u001b[0;34m.\u001b[0m\u001b[0mdedent\u001b[0m\u001b[0;34m\u001b[0m\n",
       "\u001b[0;34m\u001b[0m\u001b[0;34m@\u001b[0m\u001b[0minject_docs\u001b[0m\u001b[0;34m(\u001b[0m\u001b[0;34m\u001b[0m\n",
       "\u001b[0;34m\u001b[0m    \u001b[0m__doc__\u001b[0m\u001b[0;34m=\u001b[0m\u001b[0m_docstring\u001b[0m\u001b[0;34m.\u001b[0m\u001b[0mformat\u001b[0m\u001b[0;34m(\u001b[0m\u001b[0;34m\u001b[0m\n",
       "\u001b[0;34m\u001b[0m        \u001b[0mdirection\u001b[0m\u001b[0;34m=\u001b[0m\u001b[0m_initial\u001b[0m\u001b[0;34m,\u001b[0m\u001b[0;34m\u001b[0m\n",
       "\u001b[0;34m\u001b[0m        \u001b[0mkey_added\u001b[0m\u001b[0;34m=\u001b[0m\u001b[0;34m\"initial_states\"\u001b[0m\u001b[0;34m,\u001b[0m\u001b[0;34m\u001b[0m\n",
       "\u001b[0;34m\u001b[0m        \u001b[0mbwd_mode\u001b[0m\u001b[0;34m=\u001b[0m\u001b[0;34m\"\\n%(velocity_backward_mode_high_lvl)s\"\u001b[0m\u001b[0;34m,\u001b[0m\u001b[0;34m\u001b[0m\n",
       "\u001b[0;34m\u001b[0m    \u001b[0;34m)\u001b[0m\u001b[0;34m\u001b[0m\n",
       "\u001b[0;34m\u001b[0m\u001b[0;34m)\u001b[0m\u001b[0;34m\u001b[0m\n",
       "\u001b[0;34m\u001b[0m\u001b[0;32mdef\u001b[0m \u001b[0minitial_states\u001b[0m\u001b[0;34m(\u001b[0m  \u001b[0;31m# noqa: D103\u001b[0m\u001b[0;34m\u001b[0m\n",
       "\u001b[0;34m\u001b[0m    \u001b[0madata\u001b[0m\u001b[0;34m:\u001b[0m \u001b[0mAnnData\u001b[0m\u001b[0;34m,\u001b[0m\u001b[0;34m\u001b[0m\n",
       "\u001b[0;34m\u001b[0m    \u001b[0mestimator\u001b[0m\u001b[0;34m:\u001b[0m \u001b[0mtype\u001b[0m\u001b[0;34m(\u001b[0m\u001b[0mBaseEstimator\u001b[0m\u001b[0;34m)\u001b[0m \u001b[0;34m=\u001b[0m \u001b[0mGPCCA\u001b[0m\u001b[0;34m,\u001b[0m\u001b[0;34m\u001b[0m\n",
       "\u001b[0;34m\u001b[0m    \u001b[0mmode\u001b[0m\u001b[0;34m:\u001b[0m \u001b[0mstr\u001b[0m \u001b[0;34m=\u001b[0m \u001b[0mVelocityMode\u001b[0m\u001b[0;34m.\u001b[0m\u001b[0mDETERMINISTIC\u001b[0m\u001b[0;34m,\u001b[0m\u001b[0;34m\u001b[0m\n",
       "\u001b[0;34m\u001b[0m    \u001b[0mbackward_mode\u001b[0m\u001b[0;34m:\u001b[0m \u001b[0mstr\u001b[0m \u001b[0;34m=\u001b[0m \u001b[0mBackwardMode\u001b[0m\u001b[0;34m.\u001b[0m\u001b[0mTRANSPOSE\u001b[0m\u001b[0;34m,\u001b[0m\u001b[0;34m\u001b[0m\n",
       "\u001b[0;34m\u001b[0m    \u001b[0mn_states\u001b[0m\u001b[0;34m:\u001b[0m \u001b[0mOptional\u001b[0m\u001b[0;34m[\u001b[0m\u001b[0mint\u001b[0m\u001b[0;34m]\u001b[0m \u001b[0;34m=\u001b[0m \u001b[0;32mNone\u001b[0m\u001b[0;34m,\u001b[0m\u001b[0;34m\u001b[0m\n",
       "\u001b[0;34m\u001b[0m    \u001b[0mcluster_key\u001b[0m\u001b[0;34m:\u001b[0m \u001b[0mOptional\u001b[0m\u001b[0;34m[\u001b[0m\u001b[0mstr\u001b[0m\u001b[0;34m]\u001b[0m \u001b[0;34m=\u001b[0m \u001b[0;32mNone\u001b[0m\u001b[0;34m,\u001b[0m\u001b[0;34m\u001b[0m\n",
       "\u001b[0;34m\u001b[0m    \u001b[0mkey\u001b[0m\u001b[0;34m:\u001b[0m \u001b[0mOptional\u001b[0m\u001b[0;34m[\u001b[0m\u001b[0mstr\u001b[0m\u001b[0;34m]\u001b[0m \u001b[0;34m=\u001b[0m \u001b[0;32mNone\u001b[0m\u001b[0;34m,\u001b[0m\u001b[0;34m\u001b[0m\n",
       "\u001b[0;34m\u001b[0m    \u001b[0mforce_recompute\u001b[0m\u001b[0;34m:\u001b[0m \u001b[0mbool\u001b[0m \u001b[0;34m=\u001b[0m \u001b[0;32mFalse\u001b[0m\u001b[0;34m,\u001b[0m\u001b[0;34m\u001b[0m\n",
       "\u001b[0;34m\u001b[0m    \u001b[0mshow_plots\u001b[0m\u001b[0;34m:\u001b[0m \u001b[0mbool\u001b[0m \u001b[0;34m=\u001b[0m \u001b[0;32mFalse\u001b[0m\u001b[0;34m,\u001b[0m\u001b[0;34m\u001b[0m\n",
       "\u001b[0;34m\u001b[0m    \u001b[0mcopy\u001b[0m\u001b[0;34m:\u001b[0m \u001b[0mbool\u001b[0m \u001b[0;34m=\u001b[0m \u001b[0;32mFalse\u001b[0m\u001b[0;34m,\u001b[0m\u001b[0;34m\u001b[0m\n",
       "\u001b[0;34m\u001b[0m    \u001b[0mreturn_estimator\u001b[0m\u001b[0;34m:\u001b[0m \u001b[0mbool\u001b[0m \u001b[0;34m=\u001b[0m \u001b[0;32mFalse\u001b[0m\u001b[0;34m,\u001b[0m\u001b[0;34m\u001b[0m\n",
       "\u001b[0;34m\u001b[0m    \u001b[0mfit_kwargs\u001b[0m\u001b[0;34m:\u001b[0m \u001b[0mMapping\u001b[0m \u001b[0;34m=\u001b[0m \u001b[0mMappingProxyType\u001b[0m\u001b[0;34m(\u001b[0m\u001b[0;34m{\u001b[0m\u001b[0;34m}\u001b[0m\u001b[0;34m)\u001b[0m\u001b[0;34m,\u001b[0m\u001b[0;34m\u001b[0m\n",
       "\u001b[0;34m\u001b[0m    \u001b[0;34m**\u001b[0m\u001b[0mkwargs\u001b[0m\u001b[0;34m,\u001b[0m\u001b[0;34m\u001b[0m\n",
       "\u001b[0;34m\u001b[0m\u001b[0;34m)\u001b[0m \u001b[0;34m->\u001b[0m \u001b[0mOptional\u001b[0m\u001b[0;34m[\u001b[0m\u001b[0mUnion\u001b[0m\u001b[0;34m[\u001b[0m\u001b[0mAnnData\u001b[0m\u001b[0;34m,\u001b[0m \u001b[0mBaseEstimator\u001b[0m\u001b[0;34m]\u001b[0m\u001b[0;34m]\u001b[0m\u001b[0;34m:\u001b[0m\u001b[0;34m\u001b[0m\n",
       "\u001b[0;34m\u001b[0m\u001b[0;34m\u001b[0m\n",
       "\u001b[0;34m\u001b[0m    \u001b[0;32mreturn\u001b[0m \u001b[0m_initial_terminal\u001b[0m\u001b[0;34m(\u001b[0m\u001b[0;34m\u001b[0m\n",
       "\u001b[0;34m\u001b[0m        \u001b[0madata\u001b[0m\u001b[0;34m,\u001b[0m\u001b[0;34m\u001b[0m\n",
       "\u001b[0;34m\u001b[0m        \u001b[0mestimator\u001b[0m\u001b[0;34m=\u001b[0m\u001b[0mestimator\u001b[0m\u001b[0;34m,\u001b[0m\u001b[0;34m\u001b[0m\n",
       "\u001b[0;34m\u001b[0m        \u001b[0mmode\u001b[0m\u001b[0;34m=\u001b[0m\u001b[0mmode\u001b[0m\u001b[0;34m,\u001b[0m\u001b[0;34m\u001b[0m\n",
       "\u001b[0;34m\u001b[0m        \u001b[0mbackward_mode\u001b[0m\u001b[0;34m=\u001b[0m\u001b[0mbackward_mode\u001b[0m\u001b[0;34m,\u001b[0m\u001b[0;34m\u001b[0m\n",
       "\u001b[0;34m\u001b[0m        \u001b[0mbackward\u001b[0m\u001b[0;34m=\u001b[0m\u001b[0;32mTrue\u001b[0m\u001b[0;34m,\u001b[0m\u001b[0;34m\u001b[0m\n",
       "\u001b[0;34m\u001b[0m        \u001b[0mn_states\u001b[0m\u001b[0;34m=\u001b[0m\u001b[0mn_states\u001b[0m\u001b[0;34m,\u001b[0m\u001b[0;34m\u001b[0m\n",
       "\u001b[0;34m\u001b[0m        \u001b[0mcluster_key\u001b[0m\u001b[0;34m=\u001b[0m\u001b[0mcluster_key\u001b[0m\u001b[0;34m,\u001b[0m\u001b[0;34m\u001b[0m\n",
       "\u001b[0;34m\u001b[0m        \u001b[0mkey\u001b[0m\u001b[0;34m=\u001b[0m\u001b[0mkey\u001b[0m\u001b[0;34m,\u001b[0m\u001b[0;34m\u001b[0m\n",
       "\u001b[0;34m\u001b[0m        \u001b[0mforce_recompute\u001b[0m\u001b[0;34m=\u001b[0m\u001b[0mforce_recompute\u001b[0m\u001b[0;34m,\u001b[0m\u001b[0;34m\u001b[0m\n",
       "\u001b[0;34m\u001b[0m        \u001b[0mshow_plots\u001b[0m\u001b[0;34m=\u001b[0m\u001b[0mshow_plots\u001b[0m\u001b[0;34m,\u001b[0m\u001b[0;34m\u001b[0m\n",
       "\u001b[0;34m\u001b[0m        \u001b[0mcopy\u001b[0m\u001b[0;34m=\u001b[0m\u001b[0mcopy\u001b[0m\u001b[0;34m,\u001b[0m\u001b[0;34m\u001b[0m\n",
       "\u001b[0;34m\u001b[0m        \u001b[0mreturn_estimator\u001b[0m\u001b[0;34m=\u001b[0m\u001b[0mreturn_estimator\u001b[0m\u001b[0;34m,\u001b[0m\u001b[0;34m\u001b[0m\n",
       "\u001b[0;34m\u001b[0m        \u001b[0mfit_kwargs\u001b[0m\u001b[0;34m=\u001b[0m\u001b[0mfit_kwargs\u001b[0m\u001b[0;34m,\u001b[0m\u001b[0;34m\u001b[0m\n",
       "\u001b[0;34m\u001b[0m        \u001b[0;34m**\u001b[0m\u001b[0mkwargs\u001b[0m\u001b[0;34m,\u001b[0m\u001b[0;34m\u001b[0m\n",
       "\u001b[0;34m\u001b[0m    \u001b[0;34m)\u001b[0m\u001b[0;34m\u001b[0m\u001b[0;34m\u001b[0m\u001b[0m\n",
       "\u001b[0;31mFile:\u001b[0m      ~/anaconda3/lib/python3.9/site-packages/cellrank/tl/_init_term_states.py\n",
       "\u001b[0;31mType:\u001b[0m      FunctionWrapper\n"
      ]
     },
     "metadata": {},
     "output_type": "display_data"
    }
   ],
   "source": [
    "??cr.tl.initial_states"
   ]
  },
  {
   "cell_type": "markdown",
   "id": "b9ddd3a3-5fc0-4a1a-97d0-d720150103b5",
   "metadata": {},
   "source": [
    "# Identify initial states\n",
    "# The same sort of analysis can now be repeated for the initial states, only that we use the function cr.tl.initial_states this time:"
   ]
  },
  {
   "cell_type": "code",
   "execution_count": 192,
   "id": "88d4ac6d-93e5-466e-9a14-b770bca1295b",
   "metadata": {},
   "outputs": [
    {
     "name": "stdout",
     "output_type": "stream",
     "text": [
      "Accessing `adata.obsp['T_bwd']`\n"
     ]
    },
    {
     "name": "stderr",
     "output_type": "stream",
     "text": [
      "/tmp/ipykernel_178141/1621579496.py:1: DeprecationWarning: `cellrank.tl.initial_states` will be removed in version `2.0`. Please use the `cellrank.kernels` or `cellrank.estimators` interface instead.\n",
      "  cr.tl.initial_states(adata, cluster_key=\"cell_type\")\n",
      "/public/home/zhaox/anaconda3/lib/python3.9/site-packages/cellrank/tl/_init_term_states.py:156: DeprecationWarning: `cellrank.tl.transition_matrix` will be removed in version `2.0`. Please use the `cellrank.kernels` or `cellrank.estimators` interface instead.\n",
      "  kernel = transition_matrix(\n"
     ]
    },
    {
     "name": "stdout",
     "output_type": "stream",
     "text": [
      "Computing transition matrix based on logits using `'deterministic'` mode\n",
      "Estimating `softmax_scale` using `'deterministic'` mode\n"
     ]
    },
    {
     "data": {
      "application/vnd.jupyter.widget-view+json": {
       "model_id": "8a97c2f887854ef7abdd05084df663c7",
       "version_major": 2,
       "version_minor": 0
      },
      "text/plain": [
       "  0%|          | 0/3868 [00:00<?, ?cell/s]"
      ]
     },
     "metadata": {},
     "output_type": "display_data"
    },
    {
     "name": "stdout",
     "output_type": "stream",
     "text": [
      "Setting `softmax_scale=7.0976`\n"
     ]
    },
    {
     "data": {
      "application/vnd.jupyter.widget-view+json": {
       "model_id": "68c7884f0c014a5f9d5f7f2598fe1ca6",
       "version_major": 2,
       "version_minor": 0
      },
      "text/plain": [
       "  0%|          | 0/3868 [00:00<?, ?cell/s]"
      ]
     },
     "metadata": {},
     "output_type": "display_data"
    },
    {
     "name": "stdout",
     "output_type": "stream",
     "text": [
      "    Finish (0:00:19)\n",
      "Using a connectivity kernel with weight `0.2`\n",
      "Computing transition matrix based on `adata.obsp['connectivities']`\n",
      "    Finish (0:00:00)\n",
      "Computing eigendecomposition of the transition matrix\n",
      "Adding `adata.uns['eigendecomposition_bwd']`\n",
      "       `.eigendecomposition`\n",
      "    Finish (0:00:05)\n",
      "For 1 macrostate, stationary distribution is computed\n",
      "Adding `.macrostates`\n",
      "       `.macrostates_memberships`\n",
      "       `.coarse_T`\n",
      "       `.coarse_initial_distribution\n",
      "       `.coarse_stationary_distribution`\n",
      "       `.schur_vectors`\n",
      "       `.schur_matrix`\n",
      "       `.eigendecomposition`\n",
      "    Finish (0:00:00)\n",
      "Adding `adata.obs['initial_states']`\n",
      "       `adata.obs['initial_states_probs']`\n",
      "       `.terminal_states`\n",
      "       `.terminal_states_probabilities`\n",
      "       `.terminal_states_memberships\n",
      "    Finish`\n"
     ]
    }
   ],
   "source": [
    "cr.tl.initial_states(adata, cluster_key=\"cell_type\")\n",
    "cr.pl.initial_states(adata, discrete=True)"
   ]
  },
  {
   "cell_type": "code",
   "execution_count": 193,
   "id": "debb533e-fe51-498e-ad36-5dc2c20c46c1",
   "metadata": {},
   "outputs": [
    {
     "name": "stderr",
     "output_type": "stream",
     "text": [
      "/public/home/zhaox/anaconda3/lib/python3.9/site-packages/matplotlib/backends/backend_pdf.py:1649: DeprecationWarning: NONE is deprecated and will be removed in Pillow 10 (2023-07-01). Use Resampling.NEAREST or Dither.NONE instead.\n",
      "  img = img.convert(mode='P', dither=Image.NONE,\n",
      "/public/home/zhaox/anaconda3/lib/python3.9/site-packages/matplotlib/backends/backend_pdf.py:1650: DeprecationWarning: ADAPTIVE is deprecated and will be removed in Pillow 10 (2023-07-01). Use Palette.ADAPTIVE instead.\n",
      "  palette=Image.ADAPTIVE, colors=num_colors)\n"
     ]
    }
   ],
   "source": [
    "plt.savefig('./figures/germcellforcellrank_initial_states1225.pdf')"
   ]
  },
  {
   "cell_type": "markdown",
   "id": "46a7d9be-349d-4b55-ba5e-a2db2e8229e1",
   "metadata": {},
   "source": [
    "# Compute fate maps\n",
    "# Once we know the terminal states, we can compute associated fate maps - for each cell, we ask how likely is the cell to develop towards each of the identified terminal states."
   ]
  },
  {
   "cell_type": "code",
   "execution_count": 194,
   "id": "6f8b533d-713d-44de-ba03-d68e37b78b06",
   "metadata": {},
   "outputs": [
    {
     "name": "stdout",
     "output_type": "stream",
     "text": [
      "Computing absorption probabilities\n",
      "WARNING: Unable to import petsc4py. For installation, please refer to: https://petsc4py.readthedocs.io/en/stable/install.html.\n",
      "Defaulting to `'gmres'` solver.\n"
     ]
    },
    {
     "name": "stderr",
     "output_type": "stream",
     "text": [
      "/tmp/ipykernel_178141/977518106.py:1: DeprecationWarning: `cellrank.tl.lineages` will be removed in version `2.0`. Please use the `cellrank.kernels` or `cellrank.estimators` interface instead.\n",
      "  cr.tl.lineages(adata)\n"
     ]
    },
    {
     "data": {
      "application/vnd.jupyter.widget-view+json": {
       "model_id": "b5b204304a524d66b20c06f509b00345",
       "version_major": 2,
       "version_minor": 0
      },
      "text/plain": [
       "  0%|          | 0/3 [00:00<?, ?/s]"
      ]
     },
     "metadata": {},
     "output_type": "display_data"
    },
    {
     "name": "stdout",
     "output_type": "stream",
     "text": [
      "Adding `adata.obsm['to_terminal_states']`\n",
      "       `.absorption_probabilities`\n",
      "    Finish (0:00:01)\n"
     ]
    },
    {
     "name": "stderr",
     "output_type": "stream",
     "text": [
      "/public/home/zhaox/anaconda3/lib/python3.9/site-packages/matplotlib/backends/backend_pdf.py:1649: DeprecationWarning: NONE is deprecated and will be removed in Pillow 10 (2023-07-01). Use Resampling.NEAREST or Dither.NONE instead.\n",
      "  img = img.convert(mode='P', dither=Image.NONE,\n",
      "/public/home/zhaox/anaconda3/lib/python3.9/site-packages/matplotlib/backends/backend_pdf.py:1650: DeprecationWarning: ADAPTIVE is deprecated and will be removed in Pillow 10 (2023-07-01). Use Palette.ADAPTIVE instead.\n",
      "  palette=Image.ADAPTIVE, colors=num_colors)\n"
     ]
    }
   ],
   "source": [
    "cr.tl.lineages(adata)\n",
    "cr.pl.lineages(adata, same_plot=False,ncols=2)\n",
    "plt.savefig('./figures/germcellforcellrank_fatemaps1225.pdf')"
   ]
  },
  {
   "cell_type": "code",
   "execution_count": 227,
   "id": "4d5f1d85-1418-4a03-a6dd-6c671eed64ee",
   "metadata": {},
   "outputs": [
    {
     "name": "stderr",
     "output_type": "stream",
     "text": [
      "/public/home/zhaox/anaconda3/lib/python3.9/site-packages/matplotlib/backends/backend_pdf.py:1649: DeprecationWarning: NONE is deprecated and will be removed in Pillow 10 (2023-07-01). Use Resampling.NEAREST or Dither.NONE instead.\n",
      "  img = img.convert(mode='P', dither=Image.NONE,\n",
      "/public/home/zhaox/anaconda3/lib/python3.9/site-packages/matplotlib/backends/backend_pdf.py:1650: DeprecationWarning: ADAPTIVE is deprecated and will be removed in Pillow 10 (2023-07-01). Use Palette.ADAPTIVE instead.\n",
      "  palette=Image.ADAPTIVE, colors=num_colors)\n"
     ]
    }
   ],
   "source": [
    "cr.pl.circular_projection(\n",
    "    adata, keys=[\"cell_type\", \"kl_divergence\"], legend_loc=\"upper right\"\n",
    ")\n",
    "plt.savefig('./figures/germcellforcellrank_circular_projections1225.pdf')"
   ]
  },
  {
   "cell_type": "code",
   "execution_count": 225,
   "id": "c1d2a3ae-b646-44c7-afd3-a2b81cfca196",
   "metadata": {},
   "outputs": [
    {
     "data": {
      "text/plain": [
       "AnnData object with n_obs × n_vars = 3868 × 2000\n",
       "    obs: 'n_genes', 'n_genes_by_counts', 'total_counts', 'total_counts_mt', 'pct_counts_mt', 'total_counts_chrX', 'pct_counts_chrX', 'total_counts_chrY', 'pct_counts_chrY', 'S_score', 'G2M_score', 'phase', 'doublet', 'doublet_score', 'leiden', 'cell_type', 'initial_size_spliced', 'initial_size_unspliced', 'initial_size', 'n_counts', 'velocity_self_transition', 'terminal_states', 'terminal_states_probs', 'clusters_gradients', 'initial_states', 'initial_states_probs', 'velocity_pseudotime', 'latent_time', 'dpt_pseudotime'\n",
       "    var: 'gene_ids', 'feature_types', 'genome', 'n_counts', 'mt', 'n_cells_by_counts', 'mean_counts', 'pct_dropout_by_counts', 'total_counts', 'chrX', 'chrY', 'highly_variable', 'means', 'dispersions', 'dispersions_norm', 'Accession', 'Chromosome', 'End', 'Start', 'Strand', 'fit_r2', 'fit_alpha', 'fit_beta', 'fit_gamma', 'fit_t_', 'fit_scaling', 'fit_std_u', 'fit_std_s', 'fit_likelihood', 'fit_u0', 'fit_s0', 'fit_pval_steady', 'fit_steady_u', 'fit_steady_s', 'fit_variance', 'fit_alignment_scaling', 'velocity_genes'\n",
       "    uns: 'cell_type_colors', 'dendrogram_cell_type', 'dendrogram_leiden', 'hvg', 'leiden', 'leiden_colors', 'neighbors', 'pca', 'rank_genes_groups', 'tsne', 'umap', 'recover_dynamics', 'velocity_params', 'velocity_graph', 'velocity_graph_neg', 'T_fwd_params', 'eigendecomposition_fwd', 'schur_matrix_fwd', 'coarse_fwd', 'terminal_states_colors', 'clusters_gradients_colors', 'T_bwd_params', 'eigendecomposition_bwd', 'initial_states_colors', 'paga', 'cell_type_sizes', 'iroot', 'diffmap_evals'\n",
       "    obsm: 'X_pca', 'X_tsne', 'X_umap', 'velocity_umap', 'schur_vectors_fwd', 'terminal_states_memberships', 'initial_states_memberships', 'to_terminal_states', 'X_diffmap'\n",
       "    varm: 'loss', 'terminal_lineage_drivers'\n",
       "    layers: 'ambiguous', 'matrix', 'spliced', 'unspliced', 'Ms', 'Mu', 'fit_t', 'fit_tau', 'fit_tau_', 'velocity', 'velocity_u'\n",
       "    obsp: 'connectivities', 'distances', 'T_fwd', 'T_bwd'"
      ]
     },
     "execution_count": 225,
     "metadata": {},
     "output_type": "execute_result"
    }
   ],
   "source": [
    "adata"
   ]
  },
  {
   "cell_type": "markdown",
   "id": "2fbe1b9d-ec4b-4325-b526-8684e6ba9438",
   "metadata": {},
   "source": [
    "# We can aggregate the above into a single, global fate map where we associate each terminal state with color and use the intensity of that color to show the fate of each individual cell:"
   ]
  },
  {
   "cell_type": "code",
   "execution_count": 195,
   "id": "a1e2c1c8-70de-467a-bdf8-1f09fffee15e",
   "metadata": {},
   "outputs": [],
   "source": [
    "cr.pl.lineages(adata, same_plot=True)\n",
    "plt.savefig('./figures/germcellforcellrank_fatemapsintoasingle1225.pdf')"
   ]
  },
  {
   "cell_type": "markdown",
   "id": "08119981-4d2d-47b4-b50e-04c19e4688b1",
   "metadata": {},
   "source": [
    "# Directed PAGA\n",
    "# We can further aggregate the individual fate maps into a cluster-level fate map using an adapted version of [Wolf et al., 2019] with directed edges. We first compute scVelo’s latent time with CellRank identified root_key and end_key, which are the probabilities of being an initial or a terminal state, respectively."
   ]
  },
  {
   "cell_type": "code",
   "execution_count": 196,
   "id": "84d0ef92-d651-4b86-aa3c-8bec09327a2e",
   "metadata": {},
   "outputs": [
    {
     "name": "stdout",
     "output_type": "stream",
     "text": [
      "computing latent time using initial_states_probs, terminal_states_probs as prior\n",
      "    finished (0:00:03) --> added \n",
      "    'latent_time', shared time (adata.obs)\n"
     ]
    }
   ],
   "source": [
    "scv.tl.recover_latent_time(\n",
    "    adata, root_key=\"initial_states_probs\", end_key=\"terminal_states_probs\"\n",
    ")"
   ]
  },
  {
   "cell_type": "code",
   "execution_count": 197,
   "id": "e559acc3-caae-48d5-a6de-2fa2c4efb84d",
   "metadata": {},
   "outputs": [
    {
     "name": "stdout",
     "output_type": "stream",
     "text": [
      "running PAGA using priors: ['velocity_pseudotime', 'initial_states_probs', 'terminal_states_probs']\n",
      "    finished (0:00:01) --> added\n",
      "    'paga/connectivities', connectivities adjacency (adata.uns)\n",
      "    'paga/connectivities_tree', connectivities subtree (adata.uns)\n",
      "    'paga/transitions_confidence', velocity transitions (adata.uns)\n"
     ]
    }
   ],
   "source": [
    "# Next, we can use the inferred pseudotime along with the initial and terminal states probabilities to compute the directed PAGA.\n",
    "scv.tl.paga(\n",
    "    adata,\n",
    "    groups=\"cell_type\",\n",
    "    root_key=\"initial_states_probs\",\n",
    "    end_key=\"terminal_states_probs\",\n",
    "    use_time_prior=\"velocity_pseudotime\",\n",
    ")"
   ]
  },
  {
   "cell_type": "code",
   "execution_count": 198,
   "id": "6985bb16-7c62-41d1-b694-def4576689d6",
   "metadata": {},
   "outputs": [
    {
     "name": "stdout",
     "output_type": "stream",
     "text": [
      "WARNING: Invalid color key. Using grey instead.\n"
     ]
    }
   ],
   "source": [
    "cr.pl.cluster_fates(\n",
    "    adata,\n",
    "    mode=\"paga_pie\",\n",
    "    cluster_key=\"cell_type\",\n",
    "    basis=\"umap\",\n",
    "    legend_kwargs={\"loc\": \"top right out\"},\n",
    "    legend_loc=\"top left out\",\n",
    "    node_size_scale=5,\n",
    "    dpi=600,\n",
    "    edge_width_scale=1,\n",
    "    max_edge_width=4,\n",
    "    title=\"directed PAGA\",\n",
    ")\n",
    "plt.savefig('./figures/germcellforcellrank_clusterfates1225.pdf')"
   ]
  },
  {
   "cell_type": "code",
   "execution_count": 199,
   "id": "4f2235de-b050-4412-9fa7-4b5b118c70d5",
   "metadata": {},
   "outputs": [
    {
     "name": "stderr",
     "output_type": "stream",
     "text": [
      "/public/home/zhaox/anaconda3/lib/python3.9/site-packages/scanpy/_settings.py:447: DeprecationWarning: `set_matplotlib_formats` is deprecated since IPython 7.23, directly use `matplotlib_inline.backend_inline.set_matplotlib_formats()`\n",
      "  IPython.display.set_matplotlib_formats(*ipython_format)\n"
     ]
    }
   ],
   "source": [
    "sc.settings.set_figure_params(dpi = 50, dpi_save = 600, figsize = (8, 4))\n",
    "plt.savefig('./figures/germcellforcellrank_clusterfates1225.pdf')"
   ]
  },
  {
   "cell_type": "code",
   "execution_count": 221,
   "id": "9e1ea674-d7a5-4b59-9099-5f2a54aa5947",
   "metadata": {},
   "outputs": [],
   "source": [
    "cr.pl.cluster_fates(adata, mode=\"bar\",cluster_key=\"cell_type\")\n",
    "plt.savefig('./figures/germcellforcellrank_barplot_clusterfates1225.pdf')"
   ]
  },
  {
   "cell_type": "code",
   "execution_count": 224,
   "id": "419a8ac8-22ee-4499-a295-4236d500d48a",
   "metadata": {},
   "outputs": [
    {
     "name": "stderr",
     "output_type": "stream",
     "text": [
      "/public/home/zhaox/anaconda3/lib/python3.9/site-packages/scanpy/_settings.py:447: DeprecationWarning: `set_matplotlib_formats` is deprecated since IPython 7.23, directly use `matplotlib_inline.backend_inline.set_matplotlib_formats()`\n",
      "  IPython.display.set_matplotlib_formats(*ipython_format)\n",
      "/public/home/zhaox/anaconda3/lib/python3.9/site-packages/matplotlib/backends/backend_pdf.py:1649: DeprecationWarning: NONE is deprecated and will be removed in Pillow 10 (2023-07-01). Use Resampling.NEAREST or Dither.NONE instead.\n",
      "  img = img.convert(mode='P', dither=Image.NONE,\n",
      "/public/home/zhaox/anaconda3/lib/python3.9/site-packages/matplotlib/backends/backend_pdf.py:1650: DeprecationWarning: ADAPTIVE is deprecated and will be removed in Pillow 10 (2023-07-01). Use Palette.ADAPTIVE instead.\n",
      "  palette=Image.ADAPTIVE, colors=num_colors)\n"
     ]
    }
   ],
   "source": [
    "sc.settings.set_figure_params(dpi = 50, dpi_save = 600, figsize = (12, 5))\n",
    "cr.pl.cluster_fates(adata, mode=\"heatmap\",cluster_key=\"cell_type\")\n",
    "plt.savefig('./figures/germcellforcellrank_heatmap_clusterfates1225.pdf')"
   ]
  },
  {
   "cell_type": "markdown",
   "id": "2589b70b-c72a-45da-a61d-7e1aa531d785",
   "metadata": {},
   "source": [
    "# We use pie charts to show cell fates averaged per cluster. Edges between clusters are given by transcriptomic similarity between the clusters, just as in normal PAGA"
   ]
  },
  {
   "cell_type": "markdown",
   "id": "d0943ec3-886d-494f-9008-3ddd6522087e",
   "metadata": {},
   "source": [
    "# Compute lineage drivers\n",
    "# We can compute the driver genes for all or just a subset of lineages. We can also restrict this to some subset of clusters by specifying clusters=... (not shown below). In the resulting dataframe, we also see the p-value, the corrected p-value (q-value) and the 95% confidence interval for the correlation statistic."
   ]
  },
  {
   "cell_type": "code",
   "execution_count": 200,
   "id": "75420aa4-32fd-496d-bb15-c9711fb1a8fa",
   "metadata": {},
   "outputs": [
    {
     "name": "stdout",
     "output_type": "stream",
     "text": [
      "Adding `adata.varm['terminal_lineage_drivers']`\n",
      "       `.lineage_drivers`\n",
      "    Finish (0:00:00)\n"
     ]
    },
    {
     "name": "stderr",
     "output_type": "stream",
     "text": [
      "/tmp/ipykernel_178141/1721556810.py:1: DeprecationWarning: `cellrank.tl.lineage_drivers` will be removed in version `2.0`. Please use the `cellrank.kernels` or `cellrank.estimators` interface instead.\n",
      "  cr.tl.lineage_drivers(adata)\n"
     ]
    },
    {
     "data": {
      "text/html": [
       "<div>\n",
       "<style scoped>\n",
       "    .dataframe tbody tr th:only-of-type {\n",
       "        vertical-align: middle;\n",
       "    }\n",
       "\n",
       "    .dataframe tbody tr th {\n",
       "        vertical-align: top;\n",
       "    }\n",
       "\n",
       "    .dataframe thead th {\n",
       "        text-align: right;\n",
       "    }\n",
       "</style>\n",
       "<table border=\"1\" class=\"dataframe\">\n",
       "  <thead>\n",
       "    <tr style=\"text-align: right;\">\n",
       "      <th></th>\n",
       "      <th>RS1_corr</th>\n",
       "      <th>RS1_pval</th>\n",
       "      <th>RS1_qval</th>\n",
       "      <th>RS1_ci_low</th>\n",
       "      <th>RS1_ci_high</th>\n",
       "      <th>RS2_corr</th>\n",
       "      <th>RS2_pval</th>\n",
       "      <th>RS2_qval</th>\n",
       "      <th>RS2_ci_low</th>\n",
       "      <th>RS2_ci_high</th>\n",
       "      <th>ES_corr</th>\n",
       "      <th>ES_pval</th>\n",
       "      <th>ES_qval</th>\n",
       "      <th>ES_ci_low</th>\n",
       "      <th>ES_ci_high</th>\n",
       "    </tr>\n",
       "  </thead>\n",
       "  <tbody>\n",
       "    <tr>\n",
       "      <th>P2RY14</th>\n",
       "      <td>0.526016</td>\n",
       "      <td>3.106227e-289</td>\n",
       "      <td>6.212454e-286</td>\n",
       "      <td>0.502836</td>\n",
       "      <td>0.548440</td>\n",
       "      <td>-0.290365</td>\n",
       "      <td>4.139500e-77</td>\n",
       "      <td>7.199131e-76</td>\n",
       "      <td>-0.318962</td>\n",
       "      <td>-0.261240</td>\n",
       "      <td>-0.170379</td>\n",
       "      <td>1.055257e-26</td>\n",
       "      <td>5.798117e-26</td>\n",
       "      <td>-0.200817</td>\n",
       "      <td>-0.139613</td>\n",
       "    </tr>\n",
       "    <tr>\n",
       "      <th>HORMAD1</th>\n",
       "      <td>0.425591</td>\n",
       "      <td>1.205370e-175</td>\n",
       "      <td>1.205370e-172</td>\n",
       "      <td>0.399433</td>\n",
       "      <td>0.451057</td>\n",
       "      <td>-0.107817</td>\n",
       "      <td>1.707844e-11</td>\n",
       "      <td>4.872593e-11</td>\n",
       "      <td>-0.138861</td>\n",
       "      <td>-0.076561</td>\n",
       "      <td>-0.259316</td>\n",
       "      <td>3.785060e-61</td>\n",
       "      <td>3.963414e-60</td>\n",
       "      <td>-0.288474</td>\n",
       "      <td>-0.229677</td>\n",
       "    </tr>\n",
       "    <tr>\n",
       "      <th>GPR171</th>\n",
       "      <td>0.323743</td>\n",
       "      <td>8.524472e-97</td>\n",
       "      <td>5.682982e-94</td>\n",
       "      <td>0.295239</td>\n",
       "      <td>0.351671</td>\n",
       "      <td>-0.188720</td>\n",
       "      <td>1.598679e-32</td>\n",
       "      <td>1.188609e-31</td>\n",
       "      <td>-0.218933</td>\n",
       "      <td>-0.158144</td>\n",
       "      <td>-0.095296</td>\n",
       "      <td>2.807329e-09</td>\n",
       "      <td>7.198280e-09</td>\n",
       "      <td>-0.126432</td>\n",
       "      <td>-0.063972</td>\n",
       "    </tr>\n",
       "    <tr>\n",
       "      <th>ZNF389</th>\n",
       "      <td>0.323055</td>\n",
       "      <td>2.312485e-96</td>\n",
       "      <td>1.156242e-93</td>\n",
       "      <td>0.294538</td>\n",
       "      <td>0.350997</td>\n",
       "      <td>-0.136866</td>\n",
       "      <td>1.103817e-17</td>\n",
       "      <td>4.286666e-17</td>\n",
       "      <td>-0.167659</td>\n",
       "      <td>-0.105806</td>\n",
       "      <td>-0.144260</td>\n",
       "      <td>1.692703e-19</td>\n",
       "      <td>7.391715e-19</td>\n",
       "      <td>-0.174981</td>\n",
       "      <td>-0.113259</td>\n",
       "    </tr>\n",
       "    <tr>\n",
       "      <th>ATF7IP2</th>\n",
       "      <td>0.300213</td>\n",
       "      <td>1.229834e-82</td>\n",
       "      <td>4.099445e-80</td>\n",
       "      <td>0.271264</td>\n",
       "      <td>0.328620</td>\n",
       "      <td>-0.030408</td>\n",
       "      <td>5.862343e-02</td>\n",
       "      <td>8.251010e-02</td>\n",
       "      <td>-0.061864</td>\n",
       "      <td>0.001109</td>\n",
       "      <td>-0.226542</td>\n",
       "      <td>1.369229e-46</td>\n",
       "      <td>1.160364e-45</td>\n",
       "      <td>-0.256229</td>\n",
       "      <td>-0.196429</td>\n",
       "    </tr>\n",
       "    <tr>\n",
       "      <th>...</th>\n",
       "      <td>...</td>\n",
       "      <td>...</td>\n",
       "      <td>...</td>\n",
       "      <td>...</td>\n",
       "      <td>...</td>\n",
       "      <td>...</td>\n",
       "      <td>...</td>\n",
       "      <td>...</td>\n",
       "      <td>...</td>\n",
       "      <td>...</td>\n",
       "      <td>...</td>\n",
       "      <td>...</td>\n",
       "      <td>...</td>\n",
       "      <td>...</td>\n",
       "      <td>...</td>\n",
       "    </tr>\n",
       "    <tr>\n",
       "      <th>GSG1</th>\n",
       "      <td>-0.272573</td>\n",
       "      <td>1.071425e-67</td>\n",
       "      <td>1.530607e-65</td>\n",
       "      <td>-0.301499</td>\n",
       "      <td>-0.243145</td>\n",
       "      <td>-0.470936</td>\n",
       "      <td>1.032300e-221</td>\n",
       "      <td>1.474715e-219</td>\n",
       "      <td>-0.495103</td>\n",
       "      <td>-0.446040</td>\n",
       "      <td>0.682082</td>\n",
       "      <td>0.000000e+00</td>\n",
       "      <td>0.000000e+00</td>\n",
       "      <td>0.664858</td>\n",
       "      <td>0.698581</td>\n",
       "    </tr>\n",
       "    <tr>\n",
       "      <th>TNP1</th>\n",
       "      <td>-0.275364</td>\n",
       "      <td>3.989915e-69</td>\n",
       "      <td>6.649859e-67</td>\n",
       "      <td>-0.304240</td>\n",
       "      <td>-0.245983</td>\n",
       "      <td>-0.513164</td>\n",
       "      <td>3.329267e-272</td>\n",
       "      <td>6.658534e-269</td>\n",
       "      <td>-0.536011</td>\n",
       "      <td>-0.489566</td>\n",
       "      <td>0.724811</td>\n",
       "      <td>0.000000e+00</td>\n",
       "      <td>0.000000e+00</td>\n",
       "      <td>0.709502</td>\n",
       "      <td>0.739436</td>\n",
       "    </tr>\n",
       "    <tr>\n",
       "      <th>C18H7orf34</th>\n",
       "      <td>-0.276517</td>\n",
       "      <td>1.013913e-69</td>\n",
       "      <td>1.843478e-67</td>\n",
       "      <td>-0.305371</td>\n",
       "      <td>-0.247155</td>\n",
       "      <td>-0.466989</td>\n",
       "      <td>2.178849e-217</td>\n",
       "      <td>2.905132e-215</td>\n",
       "      <td>-0.491275</td>\n",
       "      <td>-0.441978</td>\n",
       "      <td>0.681669</td>\n",
       "      <td>0.000000e+00</td>\n",
       "      <td>0.000000e+00</td>\n",
       "      <td>0.664427</td>\n",
       "      <td>0.698185</td>\n",
       "    </tr>\n",
       "    <tr>\n",
       "      <th>PRM3</th>\n",
       "      <td>-0.292000</td>\n",
       "      <td>5.190668e-78</td>\n",
       "      <td>1.038134e-75</td>\n",
       "      <td>-0.320566</td>\n",
       "      <td>-0.262904</td>\n",
       "      <td>-0.459084</td>\n",
       "      <td>6.498908e-209</td>\n",
       "      <td>7.221009e-207</td>\n",
       "      <td>-0.483603</td>\n",
       "      <td>-0.433845</td>\n",
       "      <td>0.687297</td>\n",
       "      <td>0.000000e+00</td>\n",
       "      <td>0.000000e+00</td>\n",
       "      <td>0.670301</td>\n",
       "      <td>0.703573</td>\n",
       "    </tr>\n",
       "    <tr>\n",
       "      <th>SPATA6</th>\n",
       "      <td>-0.302907</td>\n",
       "      <td>3.451525e-84</td>\n",
       "      <td>1.380610e-81</td>\n",
       "      <td>-0.331260</td>\n",
       "      <td>-0.274006</td>\n",
       "      <td>-0.021018</td>\n",
       "      <td>1.912690e-01</td>\n",
       "      <td>2.387878e-01</td>\n",
       "      <td>-0.052499</td>\n",
       "      <td>0.010505</td>\n",
       "      <td>0.277975</td>\n",
       "      <td>1.771664e-70</td>\n",
       "      <td>2.024759e-69</td>\n",
       "      <td>0.248638</td>\n",
       "      <td>0.306804</td>\n",
       "    </tr>\n",
       "  </tbody>\n",
       "</table>\n",
       "<p>2000 rows × 15 columns</p>\n",
       "</div>"
      ],
      "text/plain": [
       "            RS1_corr       RS1_pval       RS1_qval  RS1_ci_low  RS1_ci_high  \\\n",
       "P2RY14      0.526016  3.106227e-289  6.212454e-286    0.502836     0.548440   \n",
       "HORMAD1     0.425591  1.205370e-175  1.205370e-172    0.399433     0.451057   \n",
       "GPR171      0.323743   8.524472e-97   5.682982e-94    0.295239     0.351671   \n",
       "ZNF389      0.323055   2.312485e-96   1.156242e-93    0.294538     0.350997   \n",
       "ATF7IP2     0.300213   1.229834e-82   4.099445e-80    0.271264     0.328620   \n",
       "...              ...            ...            ...         ...          ...   \n",
       "GSG1       -0.272573   1.071425e-67   1.530607e-65   -0.301499    -0.243145   \n",
       "TNP1       -0.275364   3.989915e-69   6.649859e-67   -0.304240    -0.245983   \n",
       "C18H7orf34 -0.276517   1.013913e-69   1.843478e-67   -0.305371    -0.247155   \n",
       "PRM3       -0.292000   5.190668e-78   1.038134e-75   -0.320566    -0.262904   \n",
       "SPATA6     -0.302907   3.451525e-84   1.380610e-81   -0.331260    -0.274006   \n",
       "\n",
       "            RS2_corr       RS2_pval       RS2_qval  RS2_ci_low  RS2_ci_high  \\\n",
       "P2RY14     -0.290365   4.139500e-77   7.199131e-76   -0.318962    -0.261240   \n",
       "HORMAD1    -0.107817   1.707844e-11   4.872593e-11   -0.138861    -0.076561   \n",
       "GPR171     -0.188720   1.598679e-32   1.188609e-31   -0.218933    -0.158144   \n",
       "ZNF389     -0.136866   1.103817e-17   4.286666e-17   -0.167659    -0.105806   \n",
       "ATF7IP2    -0.030408   5.862343e-02   8.251010e-02   -0.061864     0.001109   \n",
       "...              ...            ...            ...         ...          ...   \n",
       "GSG1       -0.470936  1.032300e-221  1.474715e-219   -0.495103    -0.446040   \n",
       "TNP1       -0.513164  3.329267e-272  6.658534e-269   -0.536011    -0.489566   \n",
       "C18H7orf34 -0.466989  2.178849e-217  2.905132e-215   -0.491275    -0.441978   \n",
       "PRM3       -0.459084  6.498908e-209  7.221009e-207   -0.483603    -0.433845   \n",
       "SPATA6     -0.021018   1.912690e-01   2.387878e-01   -0.052499     0.010505   \n",
       "\n",
       "             ES_corr       ES_pval       ES_qval  ES_ci_low  ES_ci_high  \n",
       "P2RY14     -0.170379  1.055257e-26  5.798117e-26  -0.200817   -0.139613  \n",
       "HORMAD1    -0.259316  3.785060e-61  3.963414e-60  -0.288474   -0.229677  \n",
       "GPR171     -0.095296  2.807329e-09  7.198280e-09  -0.126432   -0.063972  \n",
       "ZNF389     -0.144260  1.692703e-19  7.391715e-19  -0.174981   -0.113259  \n",
       "ATF7IP2    -0.226542  1.369229e-46  1.160364e-45  -0.256229   -0.196429  \n",
       "...              ...           ...           ...        ...         ...  \n",
       "GSG1        0.682082  0.000000e+00  0.000000e+00   0.664858    0.698581  \n",
       "TNP1        0.724811  0.000000e+00  0.000000e+00   0.709502    0.739436  \n",
       "C18H7orf34  0.681669  0.000000e+00  0.000000e+00   0.664427    0.698185  \n",
       "PRM3        0.687297  0.000000e+00  0.000000e+00   0.670301    0.703573  \n",
       "SPATA6      0.277975  1.771664e-70  2.024759e-69   0.248638    0.306804  \n",
       "\n",
       "[2000 rows x 15 columns]"
      ]
     },
     "execution_count": 200,
     "metadata": {},
     "output_type": "execute_result"
    }
   ],
   "source": [
    "cr.tl.lineage_drivers(adata)"
   ]
  },
  {
   "cell_type": "markdown",
   "id": "797d479d-f757-4c54-9563-2ce892cbce83",
   "metadata": {},
   "source": [
    "# Afterwards, we can plot the top 5 driver genes (based on the correlation), e.g. for the 1 lineage"
   ]
  },
  {
   "cell_type": "code",
   "execution_count": 203,
   "id": "a364dda8-96b3-4f9e-9b11-88a0bc72bcce",
   "metadata": {},
   "outputs": [
    {
     "name": "stderr",
     "output_type": "stream",
     "text": [
      "/public/home/zhaox/anaconda3/lib/python3.9/site-packages/matplotlib/backends/backend_pdf.py:1649: DeprecationWarning: NONE is deprecated and will be removed in Pillow 10 (2023-07-01). Use Resampling.NEAREST or Dither.NONE instead.\n",
      "  img = img.convert(mode='P', dither=Image.NONE,\n",
      "/public/home/zhaox/anaconda3/lib/python3.9/site-packages/matplotlib/backends/backend_pdf.py:1650: DeprecationWarning: ADAPTIVE is deprecated and will be removed in Pillow 10 (2023-07-01). Use Palette.ADAPTIVE instead.\n",
      "  palette=Image.ADAPTIVE, colors=num_colors)\n"
     ]
    }
   ],
   "source": [
    "cr.pl.lineage_drivers(adata, lineage=\"ES\", n_genes=10)\n",
    "plt.savefig('./figures/germcellforcellrank_ESdrivergenes1225.pdf')"
   ]
  },
  {
   "cell_type": "markdown",
   "id": "4da78710-048b-4ec1-91c6-b714b1f92e35",
   "metadata": {},
   "source": [
    "## Gene expression trends\n",
    "# The functions demonstrated above are the main functions of CellRank: computing initial and terminal states and probabilistic fate maps. We can use the computed probabilities now to e.g. smooth gene expression trends along lineages.\n",
    "\n",
    "# Let’s start with a temporal ordering for the cells. To get this, we can compute scVelo’s latent time, as computed previously, or alternatively, we can just use CellRank’s initial states to compute a [Haghverdi et al., 2016]."
   ]
  },
  {
   "cell_type": "code",
   "execution_count": 204,
   "id": "6fe69e2e-3f52-4990-a776-379baf28708e",
   "metadata": {},
   "outputs": [
    {
     "name": "stdout",
     "output_type": "stream",
     "text": [
      "WARNING: Trying to run `tl.dpt` without prior call of `tl.diffmap`. Falling back to `tl.diffmap` with default parameters.\n"
     ]
    },
    {
     "name": "stderr",
     "output_type": "stream",
     "text": [
      "/public/home/zhaox/anaconda3/lib/python3.9/site-packages/matplotlib/backends/backend_pdf.py:1649: DeprecationWarning: NONE is deprecated and will be removed in Pillow 10 (2023-07-01). Use Resampling.NEAREST or Dither.NONE instead.\n",
      "  img = img.convert(mode='P', dither=Image.NONE,\n",
      "/public/home/zhaox/anaconda3/lib/python3.9/site-packages/matplotlib/backends/backend_pdf.py:1650: DeprecationWarning: ADAPTIVE is deprecated and will be removed in Pillow 10 (2023-07-01). Use Palette.ADAPTIVE instead.\n",
      "  palette=Image.ADAPTIVE, colors=num_colors)\n"
     ]
    },
    {
     "name": "stdout",
     "output_type": "stream",
     "text": [
      "saving figure to file ./figures/germcellforcellrank_temporalorderings1225.pdf\n"
     ]
    }
   ],
   "source": [
    "# compue DPT, starting from CellRank defined root cell\n",
    "root_idx = np.where(adata.obs[\"initial_states\"] == \"SSC1\")[0][0]\n",
    "adata.uns[\"iroot\"] = root_idx\n",
    "sc.tl.dpt(adata)\n",
    "\n",
    "scv.pl.scatter(\n",
    "    adata,\n",
    "    color=[\"cell_type\", root_idx, \"latent_time\", \"dpt_pseudotime\"],\n",
    "    fontsize=16,\n",
    "    cmap=\"viridis\",\n",
    "    perc=[2, 98],\n",
    "    colorbar=True,\n",
    "    rescale_color=[0, 1],\n",
    "    title=[\"cell_type\", \"root cell\", \"latent time\", \"dpt pseudotime\"],\n",
    "    save='./figures/germcellforcellrank_temporalorderings1225.pdf'\n",
    ")"
   ]
  },
  {
   "cell_type": "markdown",
   "id": "3b8b4daa-47b7-4a0c-88ca-711f5d5c2bf2",
   "metadata": {},
   "source": [
    "# We can plot dynamics of genes in pseudotime along individual trajectories, defined via the fate maps we computed above."
   ]
  },
  {
   "cell_type": "markdown",
   "id": "230932ac-46d1-4a16-b7f2-e69c4bf7b62e",
   "metadata": {},
   "source": [
    "# ['UCHL1', 'SOHLH1', 'DMRT1','STRA8','SMC1B','ZCWPW1','ACRV1','SPACA1','PRM1', 'PRM2', 'TNP1', 'TNP2', 'SPATA3']\n",
    "# 'UCHL1','DMRT1','ZCWPW1','ACRV1','SPACA1','SPATA3','PRM1', 'PRM2', 'TNP1', 'TNP2'"
   ]
  },
  {
   "cell_type": "code",
   "execution_count": 215,
   "id": "8c869b67-dea9-41dd-ba0e-a78ed2ac7672",
   "metadata": {},
   "outputs": [
    {
     "name": "stdout",
     "output_type": "stream",
     "text": [
      "Computing trends using `1` core(s)\n"
     ]
    },
    {
     "data": {
      "application/vnd.jupyter.widget-view+json": {
       "model_id": "b0f326c5c28c4b3c83a78f053d739b1d",
       "version_major": 2,
       "version_minor": 0
      },
      "text/plain": [
       "  0%|          | 0/3 [00:00<?, ?gene/s]"
      ]
     },
     "metadata": {},
     "output_type": "display_data"
    },
    {
     "name": "stderr",
     "output_type": "stream",
     "text": [
      "/public/home/zhaox/anaconda3/lib/python3.9/site-packages/pygam/utils.py:649: DeprecationWarning: `np.int` is a deprecated alias for the builtin `int`. To silence this warning, use `int` by itself. Doing this will not modify any behavior and is safe. When replacing `np.int`, you may wish to use e.g. `np.int64` or `np.int32` to specify the precision. If you wish to review your current use, check the release note link for additional information.\n",
      "Deprecated in NumPy 1.20; for more details and guidance: https://numpy.org/devdocs/release/1.20.0-notes.html#deprecations\n",
      "  bases = (x >= aug_knots[:-1]).astype(np.int) * \\\n",
      "/public/home/zhaox/anaconda3/lib/python3.9/site-packages/pygam/utils.py:650: DeprecationWarning: `np.int` is a deprecated alias for the builtin `int`. To silence this warning, use `int` by itself. Doing this will not modify any behavior and is safe. When replacing `np.int`, you may wish to use e.g. `np.int64` or `np.int32` to specify the precision. If you wish to review your current use, check the release note link for additional information.\n",
      "Deprecated in NumPy 1.20; for more details and guidance: https://numpy.org/devdocs/release/1.20.0-notes.html#deprecations\n",
      "  (x < aug_knots[1:]).astype(np.int)\n",
      "/public/home/zhaox/anaconda3/lib/python3.9/site-packages/pygam/utils.py:649: DeprecationWarning: `np.int` is a deprecated alias for the builtin `int`. To silence this warning, use `int` by itself. Doing this will not modify any behavior and is safe. When replacing `np.int`, you may wish to use e.g. `np.int64` or `np.int32` to specify the precision. If you wish to review your current use, check the release note link for additional information.\n",
      "Deprecated in NumPy 1.20; for more details and guidance: https://numpy.org/devdocs/release/1.20.0-notes.html#deprecations\n",
      "  bases = (x >= aug_knots[:-1]).astype(np.int) * \\\n",
      "/public/home/zhaox/anaconda3/lib/python3.9/site-packages/pygam/utils.py:650: DeprecationWarning: `np.int` is a deprecated alias for the builtin `int`. To silence this warning, use `int` by itself. Doing this will not modify any behavior and is safe. When replacing `np.int`, you may wish to use e.g. `np.int64` or `np.int32` to specify the precision. If you wish to review your current use, check the release note link for additional information.\n",
      "Deprecated in NumPy 1.20; for more details and guidance: https://numpy.org/devdocs/release/1.20.0-notes.html#deprecations\n",
      "  (x < aug_knots[1:]).astype(np.int)\n",
      "/public/home/zhaox/anaconda3/lib/python3.9/site-packages/pygam/utils.py:649: DeprecationWarning: `np.int` is a deprecated alias for the builtin `int`. To silence this warning, use `int` by itself. Doing this will not modify any behavior and is safe. When replacing `np.int`, you may wish to use e.g. `np.int64` or `np.int32` to specify the precision. If you wish to review your current use, check the release note link for additional information.\n",
      "Deprecated in NumPy 1.20; for more details and guidance: https://numpy.org/devdocs/release/1.20.0-notes.html#deprecations\n",
      "  bases = (x >= aug_knots[:-1]).astype(np.int) * \\\n",
      "/public/home/zhaox/anaconda3/lib/python3.9/site-packages/pygam/utils.py:650: DeprecationWarning: `np.int` is a deprecated alias for the builtin `int`. To silence this warning, use `int` by itself. Doing this will not modify any behavior and is safe. When replacing `np.int`, you may wish to use e.g. `np.int64` or `np.int32` to specify the precision. If you wish to review your current use, check the release note link for additional information.\n",
      "Deprecated in NumPy 1.20; for more details and guidance: https://numpy.org/devdocs/release/1.20.0-notes.html#deprecations\n",
      "  (x < aug_knots[1:]).astype(np.int)\n",
      "/public/home/zhaox/anaconda3/lib/python3.9/site-packages/pygam/utils.py:649: DeprecationWarning: `np.int` is a deprecated alias for the builtin `int`. To silence this warning, use `int` by itself. Doing this will not modify any behavior and is safe. When replacing `np.int`, you may wish to use e.g. `np.int64` or `np.int32` to specify the precision. If you wish to review your current use, check the release note link for additional information.\n",
      "Deprecated in NumPy 1.20; for more details and guidance: https://numpy.org/devdocs/release/1.20.0-notes.html#deprecations\n",
      "  bases = (x >= aug_knots[:-1]).astype(np.int) * \\\n",
      "/public/home/zhaox/anaconda3/lib/python3.9/site-packages/pygam/utils.py:650: DeprecationWarning: `np.int` is a deprecated alias for the builtin `int`. To silence this warning, use `int` by itself. Doing this will not modify any behavior and is safe. When replacing `np.int`, you may wish to use e.g. `np.int64` or `np.int32` to specify the precision. If you wish to review your current use, check the release note link for additional information.\n",
      "Deprecated in NumPy 1.20; for more details and guidance: https://numpy.org/devdocs/release/1.20.0-notes.html#deprecations\n",
      "  (x < aug_knots[1:]).astype(np.int)\n",
      "/public/home/zhaox/anaconda3/lib/python3.9/site-packages/pygam/utils.py:649: DeprecationWarning: `np.int` is a deprecated alias for the builtin `int`. To silence this warning, use `int` by itself. Doing this will not modify any behavior and is safe. When replacing `np.int`, you may wish to use e.g. `np.int64` or `np.int32` to specify the precision. If you wish to review your current use, check the release note link for additional information.\n",
      "Deprecated in NumPy 1.20; for more details and guidance: https://numpy.org/devdocs/release/1.20.0-notes.html#deprecations\n",
      "  bases = (x >= aug_knots[:-1]).astype(np.int) * \\\n",
      "/public/home/zhaox/anaconda3/lib/python3.9/site-packages/pygam/utils.py:650: DeprecationWarning: `np.int` is a deprecated alias for the builtin `int`. To silence this warning, use `int` by itself. Doing this will not modify any behavior and is safe. When replacing `np.int`, you may wish to use e.g. `np.int64` or `np.int32` to specify the precision. If you wish to review your current use, check the release note link for additional information.\n",
      "Deprecated in NumPy 1.20; for more details and guidance: https://numpy.org/devdocs/release/1.20.0-notes.html#deprecations\n",
      "  (x < aug_knots[1:]).astype(np.int)\n",
      "/public/home/zhaox/anaconda3/lib/python3.9/site-packages/pygam/utils.py:649: DeprecationWarning: `np.int` is a deprecated alias for the builtin `int`. To silence this warning, use `int` by itself. Doing this will not modify any behavior and is safe. When replacing `np.int`, you may wish to use e.g. `np.int64` or `np.int32` to specify the precision. If you wish to review your current use, check the release note link for additional information.\n",
      "Deprecated in NumPy 1.20; for more details and guidance: https://numpy.org/devdocs/release/1.20.0-notes.html#deprecations\n",
      "  bases = (x >= aug_knots[:-1]).astype(np.int) * \\\n",
      "/public/home/zhaox/anaconda3/lib/python3.9/site-packages/pygam/utils.py:650: DeprecationWarning: `np.int` is a deprecated alias for the builtin `int`. To silence this warning, use `int` by itself. Doing this will not modify any behavior and is safe. When replacing `np.int`, you may wish to use e.g. `np.int64` or `np.int32` to specify the precision. If you wish to review your current use, check the release note link for additional information.\n",
      "Deprecated in NumPy 1.20; for more details and guidance: https://numpy.org/devdocs/release/1.20.0-notes.html#deprecations\n",
      "  (x < aug_knots[1:]).astype(np.int)\n",
      "/public/home/zhaox/anaconda3/lib/python3.9/site-packages/pygam/utils.py:649: DeprecationWarning: `np.int` is a deprecated alias for the builtin `int`. To silence this warning, use `int` by itself. Doing this will not modify any behavior and is safe. When replacing `np.int`, you may wish to use e.g. `np.int64` or `np.int32` to specify the precision. If you wish to review your current use, check the release note link for additional information.\n",
      "Deprecated in NumPy 1.20; for more details and guidance: https://numpy.org/devdocs/release/1.20.0-notes.html#deprecations\n",
      "  bases = (x >= aug_knots[:-1]).astype(np.int) * \\\n",
      "/public/home/zhaox/anaconda3/lib/python3.9/site-packages/pygam/utils.py:650: DeprecationWarning: `np.int` is a deprecated alias for the builtin `int`. To silence this warning, use `int` by itself. Doing this will not modify any behavior and is safe. When replacing `np.int`, you may wish to use e.g. `np.int64` or `np.int32` to specify the precision. If you wish to review your current use, check the release note link for additional information.\n",
      "Deprecated in NumPy 1.20; for more details and guidance: https://numpy.org/devdocs/release/1.20.0-notes.html#deprecations\n",
      "  (x < aug_knots[1:]).astype(np.int)\n",
      "/public/home/zhaox/anaconda3/lib/python3.9/site-packages/pygam/utils.py:649: DeprecationWarning: `np.int` is a deprecated alias for the builtin `int`. To silence this warning, use `int` by itself. Doing this will not modify any behavior and is safe. When replacing `np.int`, you may wish to use e.g. `np.int64` or `np.int32` to specify the precision. If you wish to review your current use, check the release note link for additional information.\n",
      "Deprecated in NumPy 1.20; for more details and guidance: https://numpy.org/devdocs/release/1.20.0-notes.html#deprecations\n",
      "  bases = (x >= aug_knots[:-1]).astype(np.int) * \\\n",
      "/public/home/zhaox/anaconda3/lib/python3.9/site-packages/pygam/utils.py:650: DeprecationWarning: `np.int` is a deprecated alias for the builtin `int`. To silence this warning, use `int` by itself. Doing this will not modify any behavior and is safe. When replacing `np.int`, you may wish to use e.g. `np.int64` or `np.int32` to specify the precision. If you wish to review your current use, check the release note link for additional information.\n",
      "Deprecated in NumPy 1.20; for more details and guidance: https://numpy.org/devdocs/release/1.20.0-notes.html#deprecations\n",
      "  (x < aug_knots[1:]).astype(np.int)\n",
      "/public/home/zhaox/anaconda3/lib/python3.9/site-packages/pygam/utils.py:649: DeprecationWarning: `np.int` is a deprecated alias for the builtin `int`. To silence this warning, use `int` by itself. Doing this will not modify any behavior and is safe. When replacing `np.int`, you may wish to use e.g. `np.int64` or `np.int32` to specify the precision. If you wish to review your current use, check the release note link for additional information.\n",
      "Deprecated in NumPy 1.20; for more details and guidance: https://numpy.org/devdocs/release/1.20.0-notes.html#deprecations\n",
      "  bases = (x >= aug_knots[:-1]).astype(np.int) * \\\n",
      "/public/home/zhaox/anaconda3/lib/python3.9/site-packages/pygam/utils.py:650: DeprecationWarning: `np.int` is a deprecated alias for the builtin `int`. To silence this warning, use `int` by itself. Doing this will not modify any behavior and is safe. When replacing `np.int`, you may wish to use e.g. `np.int64` or `np.int32` to specify the precision. If you wish to review your current use, check the release note link for additional information.\n",
      "Deprecated in NumPy 1.20; for more details and guidance: https://numpy.org/devdocs/release/1.20.0-notes.html#deprecations\n",
      "  (x < aug_knots[1:]).astype(np.int)\n"
     ]
    },
    {
     "name": "stdout",
     "output_type": "stream",
     "text": [
      "    Finish (0:00:01)\n",
      "Plotting trends\n"
     ]
    }
   ],
   "source": [
    "model = cr.ul.models.GAM(adata)\n",
    "cr.pl.gene_trends(\n",
    "    adata,\n",
    "    model=model,\n",
    "    data_key=\"X\",\n",
    "    genes=['LOC100620512', 'OAZ3', 'GSG1'],\n",
    "    ncols=3,\n",
    "    time_key=\"latent_time\",\n",
    "    same_plot=True,\n",
    "    hide_cells=True,\n",
    "    figsize=(15, 4),\n",
    "    n_test_points=200,\n",
    "    save='./germcellforcellrank_LOC100620512geneexpressiontrends1225.pdf'\n",
    ")\n"
   ]
  },
  {
   "cell_type": "markdown",
   "id": "469b626e-6013-4900-976a-2a7511acc84a",
   "metadata": {},
   "source": [
    "# We can also visualize the lineage drivers computed above in a heatmap. Below, we do this for the Alpha lineage, i.e. we smooth gene expression for the putative Alpha-drivers in pseudotime, using as cell-level weights the Alpha fate probabilities. We sort genes according to their peak in pseudotime, thus revealing a cascade of gene expression events."
   ]
  },
  {
   "cell_type": "code",
   "execution_count": 218,
   "id": "4584174b-0de7-405d-b030-a354d61d426c",
   "metadata": {},
   "outputs": [
    {
     "name": "stdout",
     "output_type": "stream",
     "text": [
      "Computing trends using `1` core(s)\n"
     ]
    },
    {
     "data": {
      "application/vnd.jupyter.widget-view+json": {
       "model_id": "a721833f169e4f6c9e43ff657c33ad24",
       "version_major": 2,
       "version_minor": 0
      },
      "text/plain": [
       "  0%|          | 0/100 [00:00<?, ?gene/s]"
      ]
     },
     "metadata": {},
     "output_type": "display_data"
    },
    {
     "name": "stderr",
     "output_type": "stream",
     "text": [
      "/public/home/zhaox/anaconda3/lib/python3.9/site-packages/pygam/utils.py:649: DeprecationWarning: `np.int` is a deprecated alias for the builtin `int`. To silence this warning, use `int` by itself. Doing this will not modify any behavior and is safe. When replacing `np.int`, you may wish to use e.g. `np.int64` or `np.int32` to specify the precision. If you wish to review your current use, check the release note link for additional information.\n",
      "Deprecated in NumPy 1.20; for more details and guidance: https://numpy.org/devdocs/release/1.20.0-notes.html#deprecations\n",
      "  bases = (x >= aug_knots[:-1]).astype(np.int) * \\\n",
      "/public/home/zhaox/anaconda3/lib/python3.9/site-packages/pygam/utils.py:650: DeprecationWarning: `np.int` is a deprecated alias for the builtin `int`. To silence this warning, use `int` by itself. Doing this will not modify any behavior and is safe. When replacing `np.int`, you may wish to use e.g. `np.int64` or `np.int32` to specify the precision. If you wish to review your current use, check the release note link for additional information.\n",
      "Deprecated in NumPy 1.20; for more details and guidance: https://numpy.org/devdocs/release/1.20.0-notes.html#deprecations\n",
      "  (x < aug_knots[1:]).astype(np.int)\n",
      "/public/home/zhaox/anaconda3/lib/python3.9/site-packages/pygam/utils.py:649: DeprecationWarning: `np.int` is a deprecated alias for the builtin `int`. To silence this warning, use `int` by itself. Doing this will not modify any behavior and is safe. When replacing `np.int`, you may wish to use e.g. `np.int64` or `np.int32` to specify the precision. If you wish to review your current use, check the release note link for additional information.\n",
      "Deprecated in NumPy 1.20; for more details and guidance: https://numpy.org/devdocs/release/1.20.0-notes.html#deprecations\n",
      "  bases = (x >= aug_knots[:-1]).astype(np.int) * \\\n",
      "/public/home/zhaox/anaconda3/lib/python3.9/site-packages/pygam/utils.py:650: DeprecationWarning: `np.int` is a deprecated alias for the builtin `int`. To silence this warning, use `int` by itself. Doing this will not modify any behavior and is safe. When replacing `np.int`, you may wish to use e.g. `np.int64` or `np.int32` to specify the precision. If you wish to review your current use, check the release note link for additional information.\n",
      "Deprecated in NumPy 1.20; for more details and guidance: https://numpy.org/devdocs/release/1.20.0-notes.html#deprecations\n",
      "  (x < aug_knots[1:]).astype(np.int)\n",
      "/public/home/zhaox/anaconda3/lib/python3.9/site-packages/pygam/utils.py:649: DeprecationWarning: `np.int` is a deprecated alias for the builtin `int`. To silence this warning, use `int` by itself. Doing this will not modify any behavior and is safe. When replacing `np.int`, you may wish to use e.g. `np.int64` or `np.int32` to specify the precision. If you wish to review your current use, check the release note link for additional information.\n",
      "Deprecated in NumPy 1.20; for more details and guidance: https://numpy.org/devdocs/release/1.20.0-notes.html#deprecations\n",
      "  bases = (x >= aug_knots[:-1]).astype(np.int) * \\\n",
      "/public/home/zhaox/anaconda3/lib/python3.9/site-packages/pygam/utils.py:650: DeprecationWarning: `np.int` is a deprecated alias for the builtin `int`. To silence this warning, use `int` by itself. Doing this will not modify any behavior and is safe. When replacing `np.int`, you may wish to use e.g. `np.int64` or `np.int32` to specify the precision. If you wish to review your current use, check the release note link for additional information.\n",
      "Deprecated in NumPy 1.20; for more details and guidance: https://numpy.org/devdocs/release/1.20.0-notes.html#deprecations\n",
      "  (x < aug_knots[1:]).astype(np.int)\n",
      "/public/home/zhaox/anaconda3/lib/python3.9/site-packages/pygam/utils.py:649: DeprecationWarning: `np.int` is a deprecated alias for the builtin `int`. To silence this warning, use `int` by itself. Doing this will not modify any behavior and is safe. When replacing `np.int`, you may wish to use e.g. `np.int64` or `np.int32` to specify the precision. If you wish to review your current use, check the release note link for additional information.\n",
      "Deprecated in NumPy 1.20; for more details and guidance: https://numpy.org/devdocs/release/1.20.0-notes.html#deprecations\n",
      "  bases = (x >= aug_knots[:-1]).astype(np.int) * \\\n",
      "/public/home/zhaox/anaconda3/lib/python3.9/site-packages/pygam/utils.py:650: DeprecationWarning: `np.int` is a deprecated alias for the builtin `int`. To silence this warning, use `int` by itself. Doing this will not modify any behavior and is safe. When replacing `np.int`, you may wish to use e.g. `np.int64` or `np.int32` to specify the precision. If you wish to review your current use, check the release note link for additional information.\n",
      "Deprecated in NumPy 1.20; for more details and guidance: https://numpy.org/devdocs/release/1.20.0-notes.html#deprecations\n",
      "  (x < aug_knots[1:]).astype(np.int)\n",
      "/public/home/zhaox/anaconda3/lib/python3.9/site-packages/pygam/utils.py:649: DeprecationWarning: `np.int` is a deprecated alias for the builtin `int`. To silence this warning, use `int` by itself. Doing this will not modify any behavior and is safe. When replacing `np.int`, you may wish to use e.g. `np.int64` or `np.int32` to specify the precision. If you wish to review your current use, check the release note link for additional information.\n",
      "Deprecated in NumPy 1.20; for more details and guidance: https://numpy.org/devdocs/release/1.20.0-notes.html#deprecations\n",
      "  bases = (x >= aug_knots[:-1]).astype(np.int) * \\\n",
      "/public/home/zhaox/anaconda3/lib/python3.9/site-packages/pygam/utils.py:650: DeprecationWarning: `np.int` is a deprecated alias for the builtin `int`. To silence this warning, use `int` by itself. Doing this will not modify any behavior and is safe. When replacing `np.int`, you may wish to use e.g. `np.int64` or `np.int32` to specify the precision. If you wish to review your current use, check the release note link for additional information.\n",
      "Deprecated in NumPy 1.20; for more details and guidance: https://numpy.org/devdocs/release/1.20.0-notes.html#deprecations\n",
      "  (x < aug_knots[1:]).astype(np.int)\n",
      "/public/home/zhaox/anaconda3/lib/python3.9/site-packages/pygam/utils.py:649: DeprecationWarning: `np.int` is a deprecated alias for the builtin `int`. To silence this warning, use `int` by itself. Doing this will not modify any behavior and is safe. When replacing `np.int`, you may wish to use e.g. `np.int64` or `np.int32` to specify the precision. If you wish to review your current use, check the release note link for additional information.\n",
      "Deprecated in NumPy 1.20; for more details and guidance: https://numpy.org/devdocs/release/1.20.0-notes.html#deprecations\n",
      "  bases = (x >= aug_knots[:-1]).astype(np.int) * \\\n",
      "/public/home/zhaox/anaconda3/lib/python3.9/site-packages/pygam/utils.py:650: DeprecationWarning: `np.int` is a deprecated alias for the builtin `int`. To silence this warning, use `int` by itself. Doing this will not modify any behavior and is safe. When replacing `np.int`, you may wish to use e.g. `np.int64` or `np.int32` to specify the precision. If you wish to review your current use, check the release note link for additional information.\n",
      "Deprecated in NumPy 1.20; for more details and guidance: https://numpy.org/devdocs/release/1.20.0-notes.html#deprecations\n",
      "  (x < aug_knots[1:]).astype(np.int)\n",
      "/public/home/zhaox/anaconda3/lib/python3.9/site-packages/pygam/utils.py:649: DeprecationWarning: `np.int` is a deprecated alias for the builtin `int`. To silence this warning, use `int` by itself. Doing this will not modify any behavior and is safe. When replacing `np.int`, you may wish to use e.g. `np.int64` or `np.int32` to specify the precision. If you wish to review your current use, check the release note link for additional information.\n",
      "Deprecated in NumPy 1.20; for more details and guidance: https://numpy.org/devdocs/release/1.20.0-notes.html#deprecations\n",
      "  bases = (x >= aug_knots[:-1]).astype(np.int) * \\\n",
      "/public/home/zhaox/anaconda3/lib/python3.9/site-packages/pygam/utils.py:650: DeprecationWarning: `np.int` is a deprecated alias for the builtin `int`. To silence this warning, use `int` by itself. Doing this will not modify any behavior and is safe. When replacing `np.int`, you may wish to use e.g. `np.int64` or `np.int32` to specify the precision. If you wish to review your current use, check the release note link for additional information.\n",
      "Deprecated in NumPy 1.20; for more details and guidance: https://numpy.org/devdocs/release/1.20.0-notes.html#deprecations\n",
      "  (x < aug_knots[1:]).astype(np.int)\n",
      "/public/home/zhaox/anaconda3/lib/python3.9/site-packages/pygam/utils.py:649: DeprecationWarning: `np.int` is a deprecated alias for the builtin `int`. To silence this warning, use `int` by itself. Doing this will not modify any behavior and is safe. When replacing `np.int`, you may wish to use e.g. `np.int64` or `np.int32` to specify the precision. If you wish to review your current use, check the release note link for additional information.\n",
      "Deprecated in NumPy 1.20; for more details and guidance: https://numpy.org/devdocs/release/1.20.0-notes.html#deprecations\n",
      "  bases = (x >= aug_knots[:-1]).astype(np.int) * \\\n",
      "/public/home/zhaox/anaconda3/lib/python3.9/site-packages/pygam/utils.py:650: DeprecationWarning: `np.int` is a deprecated alias for the builtin `int`. To silence this warning, use `int` by itself. Doing this will not modify any behavior and is safe. When replacing `np.int`, you may wish to use e.g. `np.int64` or `np.int32` to specify the precision. If you wish to review your current use, check the release note link for additional information.\n",
      "Deprecated in NumPy 1.20; for more details and guidance: https://numpy.org/devdocs/release/1.20.0-notes.html#deprecations\n",
      "  (x < aug_knots[1:]).astype(np.int)\n",
      "/public/home/zhaox/anaconda3/lib/python3.9/site-packages/pygam/utils.py:649: DeprecationWarning: `np.int` is a deprecated alias for the builtin `int`. To silence this warning, use `int` by itself. Doing this will not modify any behavior and is safe. When replacing `np.int`, you may wish to use e.g. `np.int64` or `np.int32` to specify the precision. If you wish to review your current use, check the release note link for additional information.\n",
      "Deprecated in NumPy 1.20; for more details and guidance: https://numpy.org/devdocs/release/1.20.0-notes.html#deprecations\n",
      "  bases = (x >= aug_knots[:-1]).astype(np.int) * \\\n",
      "/public/home/zhaox/anaconda3/lib/python3.9/site-packages/pygam/utils.py:650: DeprecationWarning: `np.int` is a deprecated alias for the builtin `int`. To silence this warning, use `int` by itself. Doing this will not modify any behavior and is safe. When replacing `np.int`, you may wish to use e.g. `np.int64` or `np.int32` to specify the precision. If you wish to review your current use, check the release note link for additional information.\n",
      "Deprecated in NumPy 1.20; for more details and guidance: https://numpy.org/devdocs/release/1.20.0-notes.html#deprecations\n",
      "  (x < aug_knots[1:]).astype(np.int)\n",
      "/public/home/zhaox/anaconda3/lib/python3.9/site-packages/pygam/utils.py:649: DeprecationWarning: `np.int` is a deprecated alias for the builtin `int`. To silence this warning, use `int` by itself. Doing this will not modify any behavior and is safe. When replacing `np.int`, you may wish to use e.g. `np.int64` or `np.int32` to specify the precision. If you wish to review your current use, check the release note link for additional information.\n",
      "Deprecated in NumPy 1.20; for more details and guidance: https://numpy.org/devdocs/release/1.20.0-notes.html#deprecations\n",
      "  bases = (x >= aug_knots[:-1]).astype(np.int) * \\\n",
      "/public/home/zhaox/anaconda3/lib/python3.9/site-packages/pygam/utils.py:650: DeprecationWarning: `np.int` is a deprecated alias for the builtin `int`. To silence this warning, use `int` by itself. Doing this will not modify any behavior and is safe. When replacing `np.int`, you may wish to use e.g. `np.int64` or `np.int32` to specify the precision. If you wish to review your current use, check the release note link for additional information.\n",
      "Deprecated in NumPy 1.20; for more details and guidance: https://numpy.org/devdocs/release/1.20.0-notes.html#deprecations\n",
      "  (x < aug_knots[1:]).astype(np.int)\n",
      "/public/home/zhaox/anaconda3/lib/python3.9/site-packages/pygam/utils.py:649: DeprecationWarning: `np.int` is a deprecated alias for the builtin `int`. To silence this warning, use `int` by itself. Doing this will not modify any behavior and is safe. When replacing `np.int`, you may wish to use e.g. `np.int64` or `np.int32` to specify the precision. If you wish to review your current use, check the release note link for additional information.\n",
      "Deprecated in NumPy 1.20; for more details and guidance: https://numpy.org/devdocs/release/1.20.0-notes.html#deprecations\n",
      "  bases = (x >= aug_knots[:-1]).astype(np.int) * \\\n",
      "/public/home/zhaox/anaconda3/lib/python3.9/site-packages/pygam/utils.py:650: DeprecationWarning: `np.int` is a deprecated alias for the builtin `int`. To silence this warning, use `int` by itself. Doing this will not modify any behavior and is safe. When replacing `np.int`, you may wish to use e.g. `np.int64` or `np.int32` to specify the precision. If you wish to review your current use, check the release note link for additional information.\n",
      "Deprecated in NumPy 1.20; for more details and guidance: https://numpy.org/devdocs/release/1.20.0-notes.html#deprecations\n",
      "  (x < aug_knots[1:]).astype(np.int)\n",
      "/public/home/zhaox/anaconda3/lib/python3.9/site-packages/pygam/utils.py:649: DeprecationWarning: `np.int` is a deprecated alias for the builtin `int`. To silence this warning, use `int` by itself. Doing this will not modify any behavior and is safe. When replacing `np.int`, you may wish to use e.g. `np.int64` or `np.int32` to specify the precision. If you wish to review your current use, check the release note link for additional information.\n",
      "Deprecated in NumPy 1.20; for more details and guidance: https://numpy.org/devdocs/release/1.20.0-notes.html#deprecations\n",
      "  bases = (x >= aug_knots[:-1]).astype(np.int) * \\\n",
      "/public/home/zhaox/anaconda3/lib/python3.9/site-packages/pygam/utils.py:650: DeprecationWarning: `np.int` is a deprecated alias for the builtin `int`. To silence this warning, use `int` by itself. Doing this will not modify any behavior and is safe. When replacing `np.int`, you may wish to use e.g. `np.int64` or `np.int32` to specify the precision. If you wish to review your current use, check the release note link for additional information.\n",
      "Deprecated in NumPy 1.20; for more details and guidance: https://numpy.org/devdocs/release/1.20.0-notes.html#deprecations\n",
      "  (x < aug_knots[1:]).astype(np.int)\n",
      "/public/home/zhaox/anaconda3/lib/python3.9/site-packages/pygam/utils.py:649: DeprecationWarning: `np.int` is a deprecated alias for the builtin `int`. To silence this warning, use `int` by itself. Doing this will not modify any behavior and is safe. When replacing `np.int`, you may wish to use e.g. `np.int64` or `np.int32` to specify the precision. If you wish to review your current use, check the release note link for additional information.\n",
      "Deprecated in NumPy 1.20; for more details and guidance: https://numpy.org/devdocs/release/1.20.0-notes.html#deprecations\n",
      "  bases = (x >= aug_knots[:-1]).astype(np.int) * \\\n",
      "/public/home/zhaox/anaconda3/lib/python3.9/site-packages/pygam/utils.py:650: DeprecationWarning: `np.int` is a deprecated alias for the builtin `int`. To silence this warning, use `int` by itself. Doing this will not modify any behavior and is safe. When replacing `np.int`, you may wish to use e.g. `np.int64` or `np.int32` to specify the precision. If you wish to review your current use, check the release note link for additional information.\n",
      "Deprecated in NumPy 1.20; for more details and guidance: https://numpy.org/devdocs/release/1.20.0-notes.html#deprecations\n",
      "  (x < aug_knots[1:]).astype(np.int)\n",
      "/public/home/zhaox/anaconda3/lib/python3.9/site-packages/pygam/utils.py:649: DeprecationWarning: `np.int` is a deprecated alias for the builtin `int`. To silence this warning, use `int` by itself. Doing this will not modify any behavior and is safe. When replacing `np.int`, you may wish to use e.g. `np.int64` or `np.int32` to specify the precision. If you wish to review your current use, check the release note link for additional information.\n",
      "Deprecated in NumPy 1.20; for more details and guidance: https://numpy.org/devdocs/release/1.20.0-notes.html#deprecations\n",
      "  bases = (x >= aug_knots[:-1]).astype(np.int) * \\\n",
      "/public/home/zhaox/anaconda3/lib/python3.9/site-packages/pygam/utils.py:650: DeprecationWarning: `np.int` is a deprecated alias for the builtin `int`. To silence this warning, use `int` by itself. Doing this will not modify any behavior and is safe. When replacing `np.int`, you may wish to use e.g. `np.int64` or `np.int32` to specify the precision. If you wish to review your current use, check the release note link for additional information.\n",
      "Deprecated in NumPy 1.20; for more details and guidance: https://numpy.org/devdocs/release/1.20.0-notes.html#deprecations\n",
      "  (x < aug_knots[1:]).astype(np.int)\n",
      "/public/home/zhaox/anaconda3/lib/python3.9/site-packages/pygam/utils.py:649: DeprecationWarning: `np.int` is a deprecated alias for the builtin `int`. To silence this warning, use `int` by itself. Doing this will not modify any behavior and is safe. When replacing `np.int`, you may wish to use e.g. `np.int64` or `np.int32` to specify the precision. If you wish to review your current use, check the release note link for additional information.\n",
      "Deprecated in NumPy 1.20; for more details and guidance: https://numpy.org/devdocs/release/1.20.0-notes.html#deprecations\n",
      "  bases = (x >= aug_knots[:-1]).astype(np.int) * \\\n",
      "/public/home/zhaox/anaconda3/lib/python3.9/site-packages/pygam/utils.py:650: DeprecationWarning: `np.int` is a deprecated alias for the builtin `int`. To silence this warning, use `int` by itself. Doing this will not modify any behavior and is safe. When replacing `np.int`, you may wish to use e.g. `np.int64` or `np.int32` to specify the precision. If you wish to review your current use, check the release note link for additional information.\n",
      "Deprecated in NumPy 1.20; for more details and guidance: https://numpy.org/devdocs/release/1.20.0-notes.html#deprecations\n",
      "  (x < aug_knots[1:]).astype(np.int)\n",
      "/public/home/zhaox/anaconda3/lib/python3.9/site-packages/pygam/utils.py:649: DeprecationWarning: `np.int` is a deprecated alias for the builtin `int`. To silence this warning, use `int` by itself. Doing this will not modify any behavior and is safe. When replacing `np.int`, you may wish to use e.g. `np.int64` or `np.int32` to specify the precision. If you wish to review your current use, check the release note link for additional information.\n",
      "Deprecated in NumPy 1.20; for more details and guidance: https://numpy.org/devdocs/release/1.20.0-notes.html#deprecations\n",
      "  bases = (x >= aug_knots[:-1]).astype(np.int) * \\\n",
      "/public/home/zhaox/anaconda3/lib/python3.9/site-packages/pygam/utils.py:650: DeprecationWarning: `np.int` is a deprecated alias for the builtin `int`. To silence this warning, use `int` by itself. Doing this will not modify any behavior and is safe. When replacing `np.int`, you may wish to use e.g. `np.int64` or `np.int32` to specify the precision. If you wish to review your current use, check the release note link for additional information.\n",
      "Deprecated in NumPy 1.20; for more details and guidance: https://numpy.org/devdocs/release/1.20.0-notes.html#deprecations\n",
      "  (x < aug_knots[1:]).astype(np.int)\n",
      "/public/home/zhaox/anaconda3/lib/python3.9/site-packages/pygam/utils.py:649: DeprecationWarning: `np.int` is a deprecated alias for the builtin `int`. To silence this warning, use `int` by itself. Doing this will not modify any behavior and is safe. When replacing `np.int`, you may wish to use e.g. `np.int64` or `np.int32` to specify the precision. If you wish to review your current use, check the release note link for additional information.\n",
      "Deprecated in NumPy 1.20; for more details and guidance: https://numpy.org/devdocs/release/1.20.0-notes.html#deprecations\n",
      "  bases = (x >= aug_knots[:-1]).astype(np.int) * \\\n",
      "/public/home/zhaox/anaconda3/lib/python3.9/site-packages/pygam/utils.py:650: DeprecationWarning: `np.int` is a deprecated alias for the builtin `int`. To silence this warning, use `int` by itself. Doing this will not modify any behavior and is safe. When replacing `np.int`, you may wish to use e.g. `np.int64` or `np.int32` to specify the precision. If you wish to review your current use, check the release note link for additional information.\n",
      "Deprecated in NumPy 1.20; for more details and guidance: https://numpy.org/devdocs/release/1.20.0-notes.html#deprecations\n",
      "  (x < aug_knots[1:]).astype(np.int)\n",
      "/public/home/zhaox/anaconda3/lib/python3.9/site-packages/pygam/utils.py:649: DeprecationWarning: `np.int` is a deprecated alias for the builtin `int`. To silence this warning, use `int` by itself. Doing this will not modify any behavior and is safe. When replacing `np.int`, you may wish to use e.g. `np.int64` or `np.int32` to specify the precision. If you wish to review your current use, check the release note link for additional information.\n",
      "Deprecated in NumPy 1.20; for more details and guidance: https://numpy.org/devdocs/release/1.20.0-notes.html#deprecations\n",
      "  bases = (x >= aug_knots[:-1]).astype(np.int) * \\\n",
      "/public/home/zhaox/anaconda3/lib/python3.9/site-packages/pygam/utils.py:650: DeprecationWarning: `np.int` is a deprecated alias for the builtin `int`. To silence this warning, use `int` by itself. Doing this will not modify any behavior and is safe. When replacing `np.int`, you may wish to use e.g. `np.int64` or `np.int32` to specify the precision. If you wish to review your current use, check the release note link for additional information.\n",
      "Deprecated in NumPy 1.20; for more details and guidance: https://numpy.org/devdocs/release/1.20.0-notes.html#deprecations\n",
      "  (x < aug_knots[1:]).astype(np.int)\n",
      "/public/home/zhaox/anaconda3/lib/python3.9/site-packages/pygam/utils.py:649: DeprecationWarning: `np.int` is a deprecated alias for the builtin `int`. To silence this warning, use `int` by itself. Doing this will not modify any behavior and is safe. When replacing `np.int`, you may wish to use e.g. `np.int64` or `np.int32` to specify the precision. If you wish to review your current use, check the release note link for additional information.\n",
      "Deprecated in NumPy 1.20; for more details and guidance: https://numpy.org/devdocs/release/1.20.0-notes.html#deprecations\n",
      "  bases = (x >= aug_knots[:-1]).astype(np.int) * \\\n",
      "/public/home/zhaox/anaconda3/lib/python3.9/site-packages/pygam/utils.py:650: DeprecationWarning: `np.int` is a deprecated alias for the builtin `int`. To silence this warning, use `int` by itself. Doing this will not modify any behavior and is safe. When replacing `np.int`, you may wish to use e.g. `np.int64` or `np.int32` to specify the precision. If you wish to review your current use, check the release note link for additional information.\n",
      "Deprecated in NumPy 1.20; for more details and guidance: https://numpy.org/devdocs/release/1.20.0-notes.html#deprecations\n",
      "  (x < aug_knots[1:]).astype(np.int)\n",
      "/public/home/zhaox/anaconda3/lib/python3.9/site-packages/pygam/utils.py:649: DeprecationWarning: `np.int` is a deprecated alias for the builtin `int`. To silence this warning, use `int` by itself. Doing this will not modify any behavior and is safe. When replacing `np.int`, you may wish to use e.g. `np.int64` or `np.int32` to specify the precision. If you wish to review your current use, check the release note link for additional information.\n",
      "Deprecated in NumPy 1.20; for more details and guidance: https://numpy.org/devdocs/release/1.20.0-notes.html#deprecations\n",
      "  bases = (x >= aug_knots[:-1]).astype(np.int) * \\\n",
      "/public/home/zhaox/anaconda3/lib/python3.9/site-packages/pygam/utils.py:650: DeprecationWarning: `np.int` is a deprecated alias for the builtin `int`. To silence this warning, use `int` by itself. Doing this will not modify any behavior and is safe. When replacing `np.int`, you may wish to use e.g. `np.int64` or `np.int32` to specify the precision. If you wish to review your current use, check the release note link for additional information.\n",
      "Deprecated in NumPy 1.20; for more details and guidance: https://numpy.org/devdocs/release/1.20.0-notes.html#deprecations\n",
      "  (x < aug_knots[1:]).astype(np.int)\n",
      "/public/home/zhaox/anaconda3/lib/python3.9/site-packages/pygam/utils.py:649: DeprecationWarning: `np.int` is a deprecated alias for the builtin `int`. To silence this warning, use `int` by itself. Doing this will not modify any behavior and is safe. When replacing `np.int`, you may wish to use e.g. `np.int64` or `np.int32` to specify the precision. If you wish to review your current use, check the release note link for additional information.\n",
      "Deprecated in NumPy 1.20; for more details and guidance: https://numpy.org/devdocs/release/1.20.0-notes.html#deprecations\n",
      "  bases = (x >= aug_knots[:-1]).astype(np.int) * \\\n",
      "/public/home/zhaox/anaconda3/lib/python3.9/site-packages/pygam/utils.py:650: DeprecationWarning: `np.int` is a deprecated alias for the builtin `int`. To silence this warning, use `int` by itself. Doing this will not modify any behavior and is safe. When replacing `np.int`, you may wish to use e.g. `np.int64` or `np.int32` to specify the precision. If you wish to review your current use, check the release note link for additional information.\n",
      "Deprecated in NumPy 1.20; for more details and guidance: https://numpy.org/devdocs/release/1.20.0-notes.html#deprecations\n",
      "  (x < aug_knots[1:]).astype(np.int)\n",
      "/public/home/zhaox/anaconda3/lib/python3.9/site-packages/pygam/utils.py:649: DeprecationWarning: `np.int` is a deprecated alias for the builtin `int`. To silence this warning, use `int` by itself. Doing this will not modify any behavior and is safe. When replacing `np.int`, you may wish to use e.g. `np.int64` or `np.int32` to specify the precision. If you wish to review your current use, check the release note link for additional information.\n",
      "Deprecated in NumPy 1.20; for more details and guidance: https://numpy.org/devdocs/release/1.20.0-notes.html#deprecations\n",
      "  bases = (x >= aug_knots[:-1]).astype(np.int) * \\\n",
      "/public/home/zhaox/anaconda3/lib/python3.9/site-packages/pygam/utils.py:650: DeprecationWarning: `np.int` is a deprecated alias for the builtin `int`. To silence this warning, use `int` by itself. Doing this will not modify any behavior and is safe. When replacing `np.int`, you may wish to use e.g. `np.int64` or `np.int32` to specify the precision. If you wish to review your current use, check the release note link for additional information.\n",
      "Deprecated in NumPy 1.20; for more details and guidance: https://numpy.org/devdocs/release/1.20.0-notes.html#deprecations\n",
      "  (x < aug_knots[1:]).astype(np.int)\n",
      "/public/home/zhaox/anaconda3/lib/python3.9/site-packages/pygam/utils.py:649: DeprecationWarning: `np.int` is a deprecated alias for the builtin `int`. To silence this warning, use `int` by itself. Doing this will not modify any behavior and is safe. When replacing `np.int`, you may wish to use e.g. `np.int64` or `np.int32` to specify the precision. If you wish to review your current use, check the release note link for additional information.\n",
      "Deprecated in NumPy 1.20; for more details and guidance: https://numpy.org/devdocs/release/1.20.0-notes.html#deprecations\n",
      "  bases = (x >= aug_knots[:-1]).astype(np.int) * \\\n",
      "/public/home/zhaox/anaconda3/lib/python3.9/site-packages/pygam/utils.py:650: DeprecationWarning: `np.int` is a deprecated alias for the builtin `int`. To silence this warning, use `int` by itself. Doing this will not modify any behavior and is safe. When replacing `np.int`, you may wish to use e.g. `np.int64` or `np.int32` to specify the precision. If you wish to review your current use, check the release note link for additional information.\n",
      "Deprecated in NumPy 1.20; for more details and guidance: https://numpy.org/devdocs/release/1.20.0-notes.html#deprecations\n",
      "  (x < aug_knots[1:]).astype(np.int)\n",
      "/public/home/zhaox/anaconda3/lib/python3.9/site-packages/pygam/utils.py:649: DeprecationWarning: `np.int` is a deprecated alias for the builtin `int`. To silence this warning, use `int` by itself. Doing this will not modify any behavior and is safe. When replacing `np.int`, you may wish to use e.g. `np.int64` or `np.int32` to specify the precision. If you wish to review your current use, check the release note link for additional information.\n",
      "Deprecated in NumPy 1.20; for more details and guidance: https://numpy.org/devdocs/release/1.20.0-notes.html#deprecations\n",
      "  bases = (x >= aug_knots[:-1]).astype(np.int) * \\\n",
      "/public/home/zhaox/anaconda3/lib/python3.9/site-packages/pygam/utils.py:650: DeprecationWarning: `np.int` is a deprecated alias for the builtin `int`. To silence this warning, use `int` by itself. Doing this will not modify any behavior and is safe. When replacing `np.int`, you may wish to use e.g. `np.int64` or `np.int32` to specify the precision. If you wish to review your current use, check the release note link for additional information.\n",
      "Deprecated in NumPy 1.20; for more details and guidance: https://numpy.org/devdocs/release/1.20.0-notes.html#deprecations\n",
      "  (x < aug_knots[1:]).astype(np.int)\n",
      "/public/home/zhaox/anaconda3/lib/python3.9/site-packages/pygam/utils.py:649: DeprecationWarning: `np.int` is a deprecated alias for the builtin `int`. To silence this warning, use `int` by itself. Doing this will not modify any behavior and is safe. When replacing `np.int`, you may wish to use e.g. `np.int64` or `np.int32` to specify the precision. If you wish to review your current use, check the release note link for additional information.\n",
      "Deprecated in NumPy 1.20; for more details and guidance: https://numpy.org/devdocs/release/1.20.0-notes.html#deprecations\n",
      "  bases = (x >= aug_knots[:-1]).astype(np.int) * \\\n",
      "/public/home/zhaox/anaconda3/lib/python3.9/site-packages/pygam/utils.py:650: DeprecationWarning: `np.int` is a deprecated alias for the builtin `int`. To silence this warning, use `int` by itself. Doing this will not modify any behavior and is safe. When replacing `np.int`, you may wish to use e.g. `np.int64` or `np.int32` to specify the precision. If you wish to review your current use, check the release note link for additional information.\n",
      "Deprecated in NumPy 1.20; for more details and guidance: https://numpy.org/devdocs/release/1.20.0-notes.html#deprecations\n",
      "  (x < aug_knots[1:]).astype(np.int)\n",
      "/public/home/zhaox/anaconda3/lib/python3.9/site-packages/pygam/utils.py:649: DeprecationWarning: `np.int` is a deprecated alias for the builtin `int`. To silence this warning, use `int` by itself. Doing this will not modify any behavior and is safe. When replacing `np.int`, you may wish to use e.g. `np.int64` or `np.int32` to specify the precision. If you wish to review your current use, check the release note link for additional information.\n",
      "Deprecated in NumPy 1.20; for more details and guidance: https://numpy.org/devdocs/release/1.20.0-notes.html#deprecations\n",
      "  bases = (x >= aug_knots[:-1]).astype(np.int) * \\\n",
      "/public/home/zhaox/anaconda3/lib/python3.9/site-packages/pygam/utils.py:650: DeprecationWarning: `np.int` is a deprecated alias for the builtin `int`. To silence this warning, use `int` by itself. Doing this will not modify any behavior and is safe. When replacing `np.int`, you may wish to use e.g. `np.int64` or `np.int32` to specify the precision. If you wish to review your current use, check the release note link for additional information.\n",
      "Deprecated in NumPy 1.20; for more details and guidance: https://numpy.org/devdocs/release/1.20.0-notes.html#deprecations\n",
      "  (x < aug_knots[1:]).astype(np.int)\n",
      "/public/home/zhaox/anaconda3/lib/python3.9/site-packages/pygam/utils.py:649: DeprecationWarning: `np.int` is a deprecated alias for the builtin `int`. To silence this warning, use `int` by itself. Doing this will not modify any behavior and is safe. When replacing `np.int`, you may wish to use e.g. `np.int64` or `np.int32` to specify the precision. If you wish to review your current use, check the release note link for additional information.\n",
      "Deprecated in NumPy 1.20; for more details and guidance: https://numpy.org/devdocs/release/1.20.0-notes.html#deprecations\n",
      "  bases = (x >= aug_knots[:-1]).astype(np.int) * \\\n",
      "/public/home/zhaox/anaconda3/lib/python3.9/site-packages/pygam/utils.py:650: DeprecationWarning: `np.int` is a deprecated alias for the builtin `int`. To silence this warning, use `int` by itself. Doing this will not modify any behavior and is safe. When replacing `np.int`, you may wish to use e.g. `np.int64` or `np.int32` to specify the precision. If you wish to review your current use, check the release note link for additional information.\n",
      "Deprecated in NumPy 1.20; for more details and guidance: https://numpy.org/devdocs/release/1.20.0-notes.html#deprecations\n",
      "  (x < aug_knots[1:]).astype(np.int)\n",
      "/public/home/zhaox/anaconda3/lib/python3.9/site-packages/pygam/utils.py:649: DeprecationWarning: `np.int` is a deprecated alias for the builtin `int`. To silence this warning, use `int` by itself. Doing this will not modify any behavior and is safe. When replacing `np.int`, you may wish to use e.g. `np.int64` or `np.int32` to specify the precision. If you wish to review your current use, check the release note link for additional information.\n",
      "Deprecated in NumPy 1.20; for more details and guidance: https://numpy.org/devdocs/release/1.20.0-notes.html#deprecations\n",
      "  bases = (x >= aug_knots[:-1]).astype(np.int) * \\\n",
      "/public/home/zhaox/anaconda3/lib/python3.9/site-packages/pygam/utils.py:650: DeprecationWarning: `np.int` is a deprecated alias for the builtin `int`. To silence this warning, use `int` by itself. Doing this will not modify any behavior and is safe. When replacing `np.int`, you may wish to use e.g. `np.int64` or `np.int32` to specify the precision. If you wish to review your current use, check the release note link for additional information.\n",
      "Deprecated in NumPy 1.20; for more details and guidance: https://numpy.org/devdocs/release/1.20.0-notes.html#deprecations\n",
      "  (x < aug_knots[1:]).astype(np.int)\n",
      "/public/home/zhaox/anaconda3/lib/python3.9/site-packages/pygam/utils.py:649: DeprecationWarning: `np.int` is a deprecated alias for the builtin `int`. To silence this warning, use `int` by itself. Doing this will not modify any behavior and is safe. When replacing `np.int`, you may wish to use e.g. `np.int64` or `np.int32` to specify the precision. If you wish to review your current use, check the release note link for additional information.\n",
      "Deprecated in NumPy 1.20; for more details and guidance: https://numpy.org/devdocs/release/1.20.0-notes.html#deprecations\n",
      "  bases = (x >= aug_knots[:-1]).astype(np.int) * \\\n",
      "/public/home/zhaox/anaconda3/lib/python3.9/site-packages/pygam/utils.py:650: DeprecationWarning: `np.int` is a deprecated alias for the builtin `int`. To silence this warning, use `int` by itself. Doing this will not modify any behavior and is safe. When replacing `np.int`, you may wish to use e.g. `np.int64` or `np.int32` to specify the precision. If you wish to review your current use, check the release note link for additional information.\n",
      "Deprecated in NumPy 1.20; for more details and guidance: https://numpy.org/devdocs/release/1.20.0-notes.html#deprecations\n",
      "  (x < aug_knots[1:]).astype(np.int)\n",
      "/public/home/zhaox/anaconda3/lib/python3.9/site-packages/pygam/utils.py:649: DeprecationWarning: `np.int` is a deprecated alias for the builtin `int`. To silence this warning, use `int` by itself. Doing this will not modify any behavior and is safe. When replacing `np.int`, you may wish to use e.g. `np.int64` or `np.int32` to specify the precision. If you wish to review your current use, check the release note link for additional information.\n",
      "Deprecated in NumPy 1.20; for more details and guidance: https://numpy.org/devdocs/release/1.20.0-notes.html#deprecations\n",
      "  bases = (x >= aug_knots[:-1]).astype(np.int) * \\\n",
      "/public/home/zhaox/anaconda3/lib/python3.9/site-packages/pygam/utils.py:650: DeprecationWarning: `np.int` is a deprecated alias for the builtin `int`. To silence this warning, use `int` by itself. Doing this will not modify any behavior and is safe. When replacing `np.int`, you may wish to use e.g. `np.int64` or `np.int32` to specify the precision. If you wish to review your current use, check the release note link for additional information.\n",
      "Deprecated in NumPy 1.20; for more details and guidance: https://numpy.org/devdocs/release/1.20.0-notes.html#deprecations\n",
      "  (x < aug_knots[1:]).astype(np.int)\n",
      "/public/home/zhaox/anaconda3/lib/python3.9/site-packages/pygam/utils.py:649: DeprecationWarning: `np.int` is a deprecated alias for the builtin `int`. To silence this warning, use `int` by itself. Doing this will not modify any behavior and is safe. When replacing `np.int`, you may wish to use e.g. `np.int64` or `np.int32` to specify the precision. If you wish to review your current use, check the release note link for additional information.\n",
      "Deprecated in NumPy 1.20; for more details and guidance: https://numpy.org/devdocs/release/1.20.0-notes.html#deprecations\n",
      "  bases = (x >= aug_knots[:-1]).astype(np.int) * \\\n",
      "/public/home/zhaox/anaconda3/lib/python3.9/site-packages/pygam/utils.py:650: DeprecationWarning: `np.int` is a deprecated alias for the builtin `int`. To silence this warning, use `int` by itself. Doing this will not modify any behavior and is safe. When replacing `np.int`, you may wish to use e.g. `np.int64` or `np.int32` to specify the precision. If you wish to review your current use, check the release note link for additional information.\n",
      "Deprecated in NumPy 1.20; for more details and guidance: https://numpy.org/devdocs/release/1.20.0-notes.html#deprecations\n",
      "  (x < aug_knots[1:]).astype(np.int)\n",
      "/public/home/zhaox/anaconda3/lib/python3.9/site-packages/pygam/utils.py:649: DeprecationWarning: `np.int` is a deprecated alias for the builtin `int`. To silence this warning, use `int` by itself. Doing this will not modify any behavior and is safe. When replacing `np.int`, you may wish to use e.g. `np.int64` or `np.int32` to specify the precision. If you wish to review your current use, check the release note link for additional information.\n",
      "Deprecated in NumPy 1.20; for more details and guidance: https://numpy.org/devdocs/release/1.20.0-notes.html#deprecations\n",
      "  bases = (x >= aug_knots[:-1]).astype(np.int) * \\\n",
      "/public/home/zhaox/anaconda3/lib/python3.9/site-packages/pygam/utils.py:650: DeprecationWarning: `np.int` is a deprecated alias for the builtin `int`. To silence this warning, use `int` by itself. Doing this will not modify any behavior and is safe. When replacing `np.int`, you may wish to use e.g. `np.int64` or `np.int32` to specify the precision. If you wish to review your current use, check the release note link for additional information.\n",
      "Deprecated in NumPy 1.20; for more details and guidance: https://numpy.org/devdocs/release/1.20.0-notes.html#deprecations\n",
      "  (x < aug_knots[1:]).astype(np.int)\n",
      "/public/home/zhaox/anaconda3/lib/python3.9/site-packages/pygam/utils.py:649: DeprecationWarning: `np.int` is a deprecated alias for the builtin `int`. To silence this warning, use `int` by itself. Doing this will not modify any behavior and is safe. When replacing `np.int`, you may wish to use e.g. `np.int64` or `np.int32` to specify the precision. If you wish to review your current use, check the release note link for additional information.\n",
      "Deprecated in NumPy 1.20; for more details and guidance: https://numpy.org/devdocs/release/1.20.0-notes.html#deprecations\n",
      "  bases = (x >= aug_knots[:-1]).astype(np.int) * \\\n",
      "/public/home/zhaox/anaconda3/lib/python3.9/site-packages/pygam/utils.py:650: DeprecationWarning: `np.int` is a deprecated alias for the builtin `int`. To silence this warning, use `int` by itself. Doing this will not modify any behavior and is safe. When replacing `np.int`, you may wish to use e.g. `np.int64` or `np.int32` to specify the precision. If you wish to review your current use, check the release note link for additional information.\n",
      "Deprecated in NumPy 1.20; for more details and guidance: https://numpy.org/devdocs/release/1.20.0-notes.html#deprecations\n",
      "  (x < aug_knots[1:]).astype(np.int)\n",
      "/public/home/zhaox/anaconda3/lib/python3.9/site-packages/pygam/utils.py:649: DeprecationWarning: `np.int` is a deprecated alias for the builtin `int`. To silence this warning, use `int` by itself. Doing this will not modify any behavior and is safe. When replacing `np.int`, you may wish to use e.g. `np.int64` or `np.int32` to specify the precision. If you wish to review your current use, check the release note link for additional information.\n",
      "Deprecated in NumPy 1.20; for more details and guidance: https://numpy.org/devdocs/release/1.20.0-notes.html#deprecations\n",
      "  bases = (x >= aug_knots[:-1]).astype(np.int) * \\\n",
      "/public/home/zhaox/anaconda3/lib/python3.9/site-packages/pygam/utils.py:650: DeprecationWarning: `np.int` is a deprecated alias for the builtin `int`. To silence this warning, use `int` by itself. Doing this will not modify any behavior and is safe. When replacing `np.int`, you may wish to use e.g. `np.int64` or `np.int32` to specify the precision. If you wish to review your current use, check the release note link for additional information.\n",
      "Deprecated in NumPy 1.20; for more details and guidance: https://numpy.org/devdocs/release/1.20.0-notes.html#deprecations\n",
      "  (x < aug_knots[1:]).astype(np.int)\n",
      "/public/home/zhaox/anaconda3/lib/python3.9/site-packages/pygam/utils.py:649: DeprecationWarning: `np.int` is a deprecated alias for the builtin `int`. To silence this warning, use `int` by itself. Doing this will not modify any behavior and is safe. When replacing `np.int`, you may wish to use e.g. `np.int64` or `np.int32` to specify the precision. If you wish to review your current use, check the release note link for additional information.\n",
      "Deprecated in NumPy 1.20; for more details and guidance: https://numpy.org/devdocs/release/1.20.0-notes.html#deprecations\n",
      "  bases = (x >= aug_knots[:-1]).astype(np.int) * \\\n",
      "/public/home/zhaox/anaconda3/lib/python3.9/site-packages/pygam/utils.py:650: DeprecationWarning: `np.int` is a deprecated alias for the builtin `int`. To silence this warning, use `int` by itself. Doing this will not modify any behavior and is safe. When replacing `np.int`, you may wish to use e.g. `np.int64` or `np.int32` to specify the precision. If you wish to review your current use, check the release note link for additional information.\n",
      "Deprecated in NumPy 1.20; for more details and guidance: https://numpy.org/devdocs/release/1.20.0-notes.html#deprecations\n",
      "  (x < aug_knots[1:]).astype(np.int)\n",
      "/public/home/zhaox/anaconda3/lib/python3.9/site-packages/pygam/utils.py:649: DeprecationWarning: `np.int` is a deprecated alias for the builtin `int`. To silence this warning, use `int` by itself. Doing this will not modify any behavior and is safe. When replacing `np.int`, you may wish to use e.g. `np.int64` or `np.int32` to specify the precision. If you wish to review your current use, check the release note link for additional information.\n",
      "Deprecated in NumPy 1.20; for more details and guidance: https://numpy.org/devdocs/release/1.20.0-notes.html#deprecations\n",
      "  bases = (x >= aug_knots[:-1]).astype(np.int) * \\\n",
      "/public/home/zhaox/anaconda3/lib/python3.9/site-packages/pygam/utils.py:650: DeprecationWarning: `np.int` is a deprecated alias for the builtin `int`. To silence this warning, use `int` by itself. Doing this will not modify any behavior and is safe. When replacing `np.int`, you may wish to use e.g. `np.int64` or `np.int32` to specify the precision. If you wish to review your current use, check the release note link for additional information.\n",
      "Deprecated in NumPy 1.20; for more details and guidance: https://numpy.org/devdocs/release/1.20.0-notes.html#deprecations\n",
      "  (x < aug_knots[1:]).astype(np.int)\n",
      "/public/home/zhaox/anaconda3/lib/python3.9/site-packages/pygam/utils.py:649: DeprecationWarning: `np.int` is a deprecated alias for the builtin `int`. To silence this warning, use `int` by itself. Doing this will not modify any behavior and is safe. When replacing `np.int`, you may wish to use e.g. `np.int64` or `np.int32` to specify the precision. If you wish to review your current use, check the release note link for additional information.\n",
      "Deprecated in NumPy 1.20; for more details and guidance: https://numpy.org/devdocs/release/1.20.0-notes.html#deprecations\n",
      "  bases = (x >= aug_knots[:-1]).astype(np.int) * \\\n",
      "/public/home/zhaox/anaconda3/lib/python3.9/site-packages/pygam/utils.py:650: DeprecationWarning: `np.int` is a deprecated alias for the builtin `int`. To silence this warning, use `int` by itself. Doing this will not modify any behavior and is safe. When replacing `np.int`, you may wish to use e.g. `np.int64` or `np.int32` to specify the precision. If you wish to review your current use, check the release note link for additional information.\n",
      "Deprecated in NumPy 1.20; for more details and guidance: https://numpy.org/devdocs/release/1.20.0-notes.html#deprecations\n",
      "  (x < aug_knots[1:]).astype(np.int)\n",
      "/public/home/zhaox/anaconda3/lib/python3.9/site-packages/pygam/utils.py:649: DeprecationWarning: `np.int` is a deprecated alias for the builtin `int`. To silence this warning, use `int` by itself. Doing this will not modify any behavior and is safe. When replacing `np.int`, you may wish to use e.g. `np.int64` or `np.int32` to specify the precision. If you wish to review your current use, check the release note link for additional information.\n",
      "Deprecated in NumPy 1.20; for more details and guidance: https://numpy.org/devdocs/release/1.20.0-notes.html#deprecations\n",
      "  bases = (x >= aug_knots[:-1]).astype(np.int) * \\\n",
      "/public/home/zhaox/anaconda3/lib/python3.9/site-packages/pygam/utils.py:650: DeprecationWarning: `np.int` is a deprecated alias for the builtin `int`. To silence this warning, use `int` by itself. Doing this will not modify any behavior and is safe. When replacing `np.int`, you may wish to use e.g. `np.int64` or `np.int32` to specify the precision. If you wish to review your current use, check the release note link for additional information.\n",
      "Deprecated in NumPy 1.20; for more details and guidance: https://numpy.org/devdocs/release/1.20.0-notes.html#deprecations\n",
      "  (x < aug_knots[1:]).astype(np.int)\n",
      "/public/home/zhaox/anaconda3/lib/python3.9/site-packages/pygam/utils.py:649: DeprecationWarning: `np.int` is a deprecated alias for the builtin `int`. To silence this warning, use `int` by itself. Doing this will not modify any behavior and is safe. When replacing `np.int`, you may wish to use e.g. `np.int64` or `np.int32` to specify the precision. If you wish to review your current use, check the release note link for additional information.\n",
      "Deprecated in NumPy 1.20; for more details and guidance: https://numpy.org/devdocs/release/1.20.0-notes.html#deprecations\n",
      "  bases = (x >= aug_knots[:-1]).astype(np.int) * \\\n",
      "/public/home/zhaox/anaconda3/lib/python3.9/site-packages/pygam/utils.py:650: DeprecationWarning: `np.int` is a deprecated alias for the builtin `int`. To silence this warning, use `int` by itself. Doing this will not modify any behavior and is safe. When replacing `np.int`, you may wish to use e.g. `np.int64` or `np.int32` to specify the precision. If you wish to review your current use, check the release note link for additional information.\n",
      "Deprecated in NumPy 1.20; for more details and guidance: https://numpy.org/devdocs/release/1.20.0-notes.html#deprecations\n",
      "  (x < aug_knots[1:]).astype(np.int)\n",
      "/public/home/zhaox/anaconda3/lib/python3.9/site-packages/pygam/utils.py:649: DeprecationWarning: `np.int` is a deprecated alias for the builtin `int`. To silence this warning, use `int` by itself. Doing this will not modify any behavior and is safe. When replacing `np.int`, you may wish to use e.g. `np.int64` or `np.int32` to specify the precision. If you wish to review your current use, check the release note link for additional information.\n",
      "Deprecated in NumPy 1.20; for more details and guidance: https://numpy.org/devdocs/release/1.20.0-notes.html#deprecations\n",
      "  bases = (x >= aug_knots[:-1]).astype(np.int) * \\\n",
      "/public/home/zhaox/anaconda3/lib/python3.9/site-packages/pygam/utils.py:650: DeprecationWarning: `np.int` is a deprecated alias for the builtin `int`. To silence this warning, use `int` by itself. Doing this will not modify any behavior and is safe. When replacing `np.int`, you may wish to use e.g. `np.int64` or `np.int32` to specify the precision. If you wish to review your current use, check the release note link for additional information.\n",
      "Deprecated in NumPy 1.20; for more details and guidance: https://numpy.org/devdocs/release/1.20.0-notes.html#deprecations\n",
      "  (x < aug_knots[1:]).astype(np.int)\n",
      "/public/home/zhaox/anaconda3/lib/python3.9/site-packages/pygam/utils.py:649: DeprecationWarning: `np.int` is a deprecated alias for the builtin `int`. To silence this warning, use `int` by itself. Doing this will not modify any behavior and is safe. When replacing `np.int`, you may wish to use e.g. `np.int64` or `np.int32` to specify the precision. If you wish to review your current use, check the release note link for additional information.\n",
      "Deprecated in NumPy 1.20; for more details and guidance: https://numpy.org/devdocs/release/1.20.0-notes.html#deprecations\n",
      "  bases = (x >= aug_knots[:-1]).astype(np.int) * \\\n",
      "/public/home/zhaox/anaconda3/lib/python3.9/site-packages/pygam/utils.py:650: DeprecationWarning: `np.int` is a deprecated alias for the builtin `int`. To silence this warning, use `int` by itself. Doing this will not modify any behavior and is safe. When replacing `np.int`, you may wish to use e.g. `np.int64` or `np.int32` to specify the precision. If you wish to review your current use, check the release note link for additional information.\n",
      "Deprecated in NumPy 1.20; for more details and guidance: https://numpy.org/devdocs/release/1.20.0-notes.html#deprecations\n",
      "  (x < aug_knots[1:]).astype(np.int)\n",
      "/public/home/zhaox/anaconda3/lib/python3.9/site-packages/pygam/utils.py:649: DeprecationWarning: `np.int` is a deprecated alias for the builtin `int`. To silence this warning, use `int` by itself. Doing this will not modify any behavior and is safe. When replacing `np.int`, you may wish to use e.g. `np.int64` or `np.int32` to specify the precision. If you wish to review your current use, check the release note link for additional information.\n",
      "Deprecated in NumPy 1.20; for more details and guidance: https://numpy.org/devdocs/release/1.20.0-notes.html#deprecations\n",
      "  bases = (x >= aug_knots[:-1]).astype(np.int) * \\\n",
      "/public/home/zhaox/anaconda3/lib/python3.9/site-packages/pygam/utils.py:650: DeprecationWarning: `np.int` is a deprecated alias for the builtin `int`. To silence this warning, use `int` by itself. Doing this will not modify any behavior and is safe. When replacing `np.int`, you may wish to use e.g. `np.int64` or `np.int32` to specify the precision. If you wish to review your current use, check the release note link for additional information.\n",
      "Deprecated in NumPy 1.20; for more details and guidance: https://numpy.org/devdocs/release/1.20.0-notes.html#deprecations\n",
      "  (x < aug_knots[1:]).astype(np.int)\n",
      "/public/home/zhaox/anaconda3/lib/python3.9/site-packages/pygam/utils.py:649: DeprecationWarning: `np.int` is a deprecated alias for the builtin `int`. To silence this warning, use `int` by itself. Doing this will not modify any behavior and is safe. When replacing `np.int`, you may wish to use e.g. `np.int64` or `np.int32` to specify the precision. If you wish to review your current use, check the release note link for additional information.\n",
      "Deprecated in NumPy 1.20; for more details and guidance: https://numpy.org/devdocs/release/1.20.0-notes.html#deprecations\n",
      "  bases = (x >= aug_knots[:-1]).astype(np.int) * \\\n",
      "/public/home/zhaox/anaconda3/lib/python3.9/site-packages/pygam/utils.py:650: DeprecationWarning: `np.int` is a deprecated alias for the builtin `int`. To silence this warning, use `int` by itself. Doing this will not modify any behavior and is safe. When replacing `np.int`, you may wish to use e.g. `np.int64` or `np.int32` to specify the precision. If you wish to review your current use, check the release note link for additional information.\n",
      "Deprecated in NumPy 1.20; for more details and guidance: https://numpy.org/devdocs/release/1.20.0-notes.html#deprecations\n",
      "  (x < aug_knots[1:]).astype(np.int)\n",
      "/public/home/zhaox/anaconda3/lib/python3.9/site-packages/pygam/utils.py:649: DeprecationWarning: `np.int` is a deprecated alias for the builtin `int`. To silence this warning, use `int` by itself. Doing this will not modify any behavior and is safe. When replacing `np.int`, you may wish to use e.g. `np.int64` or `np.int32` to specify the precision. If you wish to review your current use, check the release note link for additional information.\n",
      "Deprecated in NumPy 1.20; for more details and guidance: https://numpy.org/devdocs/release/1.20.0-notes.html#deprecations\n",
      "  bases = (x >= aug_knots[:-1]).astype(np.int) * \\\n",
      "/public/home/zhaox/anaconda3/lib/python3.9/site-packages/pygam/utils.py:650: DeprecationWarning: `np.int` is a deprecated alias for the builtin `int`. To silence this warning, use `int` by itself. Doing this will not modify any behavior and is safe. When replacing `np.int`, you may wish to use e.g. `np.int64` or `np.int32` to specify the precision. If you wish to review your current use, check the release note link for additional information.\n",
      "Deprecated in NumPy 1.20; for more details and guidance: https://numpy.org/devdocs/release/1.20.0-notes.html#deprecations\n",
      "  (x < aug_knots[1:]).astype(np.int)\n",
      "/public/home/zhaox/anaconda3/lib/python3.9/site-packages/pygam/utils.py:649: DeprecationWarning: `np.int` is a deprecated alias for the builtin `int`. To silence this warning, use `int` by itself. Doing this will not modify any behavior and is safe. When replacing `np.int`, you may wish to use e.g. `np.int64` or `np.int32` to specify the precision. If you wish to review your current use, check the release note link for additional information.\n",
      "Deprecated in NumPy 1.20; for more details and guidance: https://numpy.org/devdocs/release/1.20.0-notes.html#deprecations\n",
      "  bases = (x >= aug_knots[:-1]).astype(np.int) * \\\n",
      "/public/home/zhaox/anaconda3/lib/python3.9/site-packages/pygam/utils.py:650: DeprecationWarning: `np.int` is a deprecated alias for the builtin `int`. To silence this warning, use `int` by itself. Doing this will not modify any behavior and is safe. When replacing `np.int`, you may wish to use e.g. `np.int64` or `np.int32` to specify the precision. If you wish to review your current use, check the release note link for additional information.\n",
      "Deprecated in NumPy 1.20; for more details and guidance: https://numpy.org/devdocs/release/1.20.0-notes.html#deprecations\n",
      "  (x < aug_knots[1:]).astype(np.int)\n",
      "/public/home/zhaox/anaconda3/lib/python3.9/site-packages/pygam/utils.py:649: DeprecationWarning: `np.int` is a deprecated alias for the builtin `int`. To silence this warning, use `int` by itself. Doing this will not modify any behavior and is safe. When replacing `np.int`, you may wish to use e.g. `np.int64` or `np.int32` to specify the precision. If you wish to review your current use, check the release note link for additional information.\n",
      "Deprecated in NumPy 1.20; for more details and guidance: https://numpy.org/devdocs/release/1.20.0-notes.html#deprecations\n",
      "  bases = (x >= aug_knots[:-1]).astype(np.int) * \\\n",
      "/public/home/zhaox/anaconda3/lib/python3.9/site-packages/pygam/utils.py:650: DeprecationWarning: `np.int` is a deprecated alias for the builtin `int`. To silence this warning, use `int` by itself. Doing this will not modify any behavior and is safe. When replacing `np.int`, you may wish to use e.g. `np.int64` or `np.int32` to specify the precision. If you wish to review your current use, check the release note link for additional information.\n",
      "Deprecated in NumPy 1.20; for more details and guidance: https://numpy.org/devdocs/release/1.20.0-notes.html#deprecations\n",
      "  (x < aug_knots[1:]).astype(np.int)\n",
      "/public/home/zhaox/anaconda3/lib/python3.9/site-packages/pygam/utils.py:649: DeprecationWarning: `np.int` is a deprecated alias for the builtin `int`. To silence this warning, use `int` by itself. Doing this will not modify any behavior and is safe. When replacing `np.int`, you may wish to use e.g. `np.int64` or `np.int32` to specify the precision. If you wish to review your current use, check the release note link for additional information.\n",
      "Deprecated in NumPy 1.20; for more details and guidance: https://numpy.org/devdocs/release/1.20.0-notes.html#deprecations\n",
      "  bases = (x >= aug_knots[:-1]).astype(np.int) * \\\n",
      "/public/home/zhaox/anaconda3/lib/python3.9/site-packages/pygam/utils.py:650: DeprecationWarning: `np.int` is a deprecated alias for the builtin `int`. To silence this warning, use `int` by itself. Doing this will not modify any behavior and is safe. When replacing `np.int`, you may wish to use e.g. `np.int64` or `np.int32` to specify the precision. If you wish to review your current use, check the release note link for additional information.\n",
      "Deprecated in NumPy 1.20; for more details and guidance: https://numpy.org/devdocs/release/1.20.0-notes.html#deprecations\n",
      "  (x < aug_knots[1:]).astype(np.int)\n",
      "/public/home/zhaox/anaconda3/lib/python3.9/site-packages/pygam/utils.py:649: DeprecationWarning: `np.int` is a deprecated alias for the builtin `int`. To silence this warning, use `int` by itself. Doing this will not modify any behavior and is safe. When replacing `np.int`, you may wish to use e.g. `np.int64` or `np.int32` to specify the precision. If you wish to review your current use, check the release note link for additional information.\n",
      "Deprecated in NumPy 1.20; for more details and guidance: https://numpy.org/devdocs/release/1.20.0-notes.html#deprecations\n",
      "  bases = (x >= aug_knots[:-1]).astype(np.int) * \\\n",
      "/public/home/zhaox/anaconda3/lib/python3.9/site-packages/pygam/utils.py:650: DeprecationWarning: `np.int` is a deprecated alias for the builtin `int`. To silence this warning, use `int` by itself. Doing this will not modify any behavior and is safe. When replacing `np.int`, you may wish to use e.g. `np.int64` or `np.int32` to specify the precision. If you wish to review your current use, check the release note link for additional information.\n",
      "Deprecated in NumPy 1.20; for more details and guidance: https://numpy.org/devdocs/release/1.20.0-notes.html#deprecations\n",
      "  (x < aug_knots[1:]).astype(np.int)\n",
      "/public/home/zhaox/anaconda3/lib/python3.9/site-packages/pygam/utils.py:649: DeprecationWarning: `np.int` is a deprecated alias for the builtin `int`. To silence this warning, use `int` by itself. Doing this will not modify any behavior and is safe. When replacing `np.int`, you may wish to use e.g. `np.int64` or `np.int32` to specify the precision. If you wish to review your current use, check the release note link for additional information.\n",
      "Deprecated in NumPy 1.20; for more details and guidance: https://numpy.org/devdocs/release/1.20.0-notes.html#deprecations\n",
      "  bases = (x >= aug_knots[:-1]).astype(np.int) * \\\n",
      "/public/home/zhaox/anaconda3/lib/python3.9/site-packages/pygam/utils.py:650: DeprecationWarning: `np.int` is a deprecated alias for the builtin `int`. To silence this warning, use `int` by itself. Doing this will not modify any behavior and is safe. When replacing `np.int`, you may wish to use e.g. `np.int64` or `np.int32` to specify the precision. If you wish to review your current use, check the release note link for additional information.\n",
      "Deprecated in NumPy 1.20; for more details and guidance: https://numpy.org/devdocs/release/1.20.0-notes.html#deprecations\n",
      "  (x < aug_knots[1:]).astype(np.int)\n",
      "/public/home/zhaox/anaconda3/lib/python3.9/site-packages/pygam/utils.py:649: DeprecationWarning: `np.int` is a deprecated alias for the builtin `int`. To silence this warning, use `int` by itself. Doing this will not modify any behavior and is safe. When replacing `np.int`, you may wish to use e.g. `np.int64` or `np.int32` to specify the precision. If you wish to review your current use, check the release note link for additional information.\n",
      "Deprecated in NumPy 1.20; for more details and guidance: https://numpy.org/devdocs/release/1.20.0-notes.html#deprecations\n",
      "  bases = (x >= aug_knots[:-1]).astype(np.int) * \\\n",
      "/public/home/zhaox/anaconda3/lib/python3.9/site-packages/pygam/utils.py:650: DeprecationWarning: `np.int` is a deprecated alias for the builtin `int`. To silence this warning, use `int` by itself. Doing this will not modify any behavior and is safe. When replacing `np.int`, you may wish to use e.g. `np.int64` or `np.int32` to specify the precision. If you wish to review your current use, check the release note link for additional information.\n",
      "Deprecated in NumPy 1.20; for more details and guidance: https://numpy.org/devdocs/release/1.20.0-notes.html#deprecations\n",
      "  (x < aug_knots[1:]).astype(np.int)\n",
      "/public/home/zhaox/anaconda3/lib/python3.9/site-packages/pygam/utils.py:649: DeprecationWarning: `np.int` is a deprecated alias for the builtin `int`. To silence this warning, use `int` by itself. Doing this will not modify any behavior and is safe. When replacing `np.int`, you may wish to use e.g. `np.int64` or `np.int32` to specify the precision. If you wish to review your current use, check the release note link for additional information.\n",
      "Deprecated in NumPy 1.20; for more details and guidance: https://numpy.org/devdocs/release/1.20.0-notes.html#deprecations\n",
      "  bases = (x >= aug_knots[:-1]).astype(np.int) * \\\n",
      "/public/home/zhaox/anaconda3/lib/python3.9/site-packages/pygam/utils.py:650: DeprecationWarning: `np.int` is a deprecated alias for the builtin `int`. To silence this warning, use `int` by itself. Doing this will not modify any behavior and is safe. When replacing `np.int`, you may wish to use e.g. `np.int64` or `np.int32` to specify the precision. If you wish to review your current use, check the release note link for additional information.\n",
      "Deprecated in NumPy 1.20; for more details and guidance: https://numpy.org/devdocs/release/1.20.0-notes.html#deprecations\n",
      "  (x < aug_knots[1:]).astype(np.int)\n",
      "/public/home/zhaox/anaconda3/lib/python3.9/site-packages/pygam/utils.py:649: DeprecationWarning: `np.int` is a deprecated alias for the builtin `int`. To silence this warning, use `int` by itself. Doing this will not modify any behavior and is safe. When replacing `np.int`, you may wish to use e.g. `np.int64` or `np.int32` to specify the precision. If you wish to review your current use, check the release note link for additional information.\n",
      "Deprecated in NumPy 1.20; for more details and guidance: https://numpy.org/devdocs/release/1.20.0-notes.html#deprecations\n",
      "  bases = (x >= aug_knots[:-1]).astype(np.int) * \\\n",
      "/public/home/zhaox/anaconda3/lib/python3.9/site-packages/pygam/utils.py:650: DeprecationWarning: `np.int` is a deprecated alias for the builtin `int`. To silence this warning, use `int` by itself. Doing this will not modify any behavior and is safe. When replacing `np.int`, you may wish to use e.g. `np.int64` or `np.int32` to specify the precision. If you wish to review your current use, check the release note link for additional information.\n",
      "Deprecated in NumPy 1.20; for more details and guidance: https://numpy.org/devdocs/release/1.20.0-notes.html#deprecations\n",
      "  (x < aug_knots[1:]).astype(np.int)\n",
      "/public/home/zhaox/anaconda3/lib/python3.9/site-packages/pygam/utils.py:649: DeprecationWarning: `np.int` is a deprecated alias for the builtin `int`. To silence this warning, use `int` by itself. Doing this will not modify any behavior and is safe. When replacing `np.int`, you may wish to use e.g. `np.int64` or `np.int32` to specify the precision. If you wish to review your current use, check the release note link for additional information.\n",
      "Deprecated in NumPy 1.20; for more details and guidance: https://numpy.org/devdocs/release/1.20.0-notes.html#deprecations\n",
      "  bases = (x >= aug_knots[:-1]).astype(np.int) * \\\n",
      "/public/home/zhaox/anaconda3/lib/python3.9/site-packages/pygam/utils.py:650: DeprecationWarning: `np.int` is a deprecated alias for the builtin `int`. To silence this warning, use `int` by itself. Doing this will not modify any behavior and is safe. When replacing `np.int`, you may wish to use e.g. `np.int64` or `np.int32` to specify the precision. If you wish to review your current use, check the release note link for additional information.\n",
      "Deprecated in NumPy 1.20; for more details and guidance: https://numpy.org/devdocs/release/1.20.0-notes.html#deprecations\n",
      "  (x < aug_knots[1:]).astype(np.int)\n",
      "/public/home/zhaox/anaconda3/lib/python3.9/site-packages/pygam/utils.py:649: DeprecationWarning: `np.int` is a deprecated alias for the builtin `int`. To silence this warning, use `int` by itself. Doing this will not modify any behavior and is safe. When replacing `np.int`, you may wish to use e.g. `np.int64` or `np.int32` to specify the precision. If you wish to review your current use, check the release note link for additional information.\n",
      "Deprecated in NumPy 1.20; for more details and guidance: https://numpy.org/devdocs/release/1.20.0-notes.html#deprecations\n",
      "  bases = (x >= aug_knots[:-1]).astype(np.int) * \\\n",
      "/public/home/zhaox/anaconda3/lib/python3.9/site-packages/pygam/utils.py:650: DeprecationWarning: `np.int` is a deprecated alias for the builtin `int`. To silence this warning, use `int` by itself. Doing this will not modify any behavior and is safe. When replacing `np.int`, you may wish to use e.g. `np.int64` or `np.int32` to specify the precision. If you wish to review your current use, check the release note link for additional information.\n",
      "Deprecated in NumPy 1.20; for more details and guidance: https://numpy.org/devdocs/release/1.20.0-notes.html#deprecations\n",
      "  (x < aug_knots[1:]).astype(np.int)\n",
      "/public/home/zhaox/anaconda3/lib/python3.9/site-packages/pygam/utils.py:649: DeprecationWarning: `np.int` is a deprecated alias for the builtin `int`. To silence this warning, use `int` by itself. Doing this will not modify any behavior and is safe. When replacing `np.int`, you may wish to use e.g. `np.int64` or `np.int32` to specify the precision. If you wish to review your current use, check the release note link for additional information.\n",
      "Deprecated in NumPy 1.20; for more details and guidance: https://numpy.org/devdocs/release/1.20.0-notes.html#deprecations\n",
      "  bases = (x >= aug_knots[:-1]).astype(np.int) * \\\n",
      "/public/home/zhaox/anaconda3/lib/python3.9/site-packages/pygam/utils.py:650: DeprecationWarning: `np.int` is a deprecated alias for the builtin `int`. To silence this warning, use `int` by itself. Doing this will not modify any behavior and is safe. When replacing `np.int`, you may wish to use e.g. `np.int64` or `np.int32` to specify the precision. If you wish to review your current use, check the release note link for additional information.\n",
      "Deprecated in NumPy 1.20; for more details and guidance: https://numpy.org/devdocs/release/1.20.0-notes.html#deprecations\n",
      "  (x < aug_knots[1:]).astype(np.int)\n",
      "/public/home/zhaox/anaconda3/lib/python3.9/site-packages/pygam/utils.py:649: DeprecationWarning: `np.int` is a deprecated alias for the builtin `int`. To silence this warning, use `int` by itself. Doing this will not modify any behavior and is safe. When replacing `np.int`, you may wish to use e.g. `np.int64` or `np.int32` to specify the precision. If you wish to review your current use, check the release note link for additional information.\n",
      "Deprecated in NumPy 1.20; for more details and guidance: https://numpy.org/devdocs/release/1.20.0-notes.html#deprecations\n",
      "  bases = (x >= aug_knots[:-1]).astype(np.int) * \\\n",
      "/public/home/zhaox/anaconda3/lib/python3.9/site-packages/pygam/utils.py:650: DeprecationWarning: `np.int` is a deprecated alias for the builtin `int`. To silence this warning, use `int` by itself. Doing this will not modify any behavior and is safe. When replacing `np.int`, you may wish to use e.g. `np.int64` or `np.int32` to specify the precision. If you wish to review your current use, check the release note link for additional information.\n",
      "Deprecated in NumPy 1.20; for more details and guidance: https://numpy.org/devdocs/release/1.20.0-notes.html#deprecations\n",
      "  (x < aug_knots[1:]).astype(np.int)\n",
      "/public/home/zhaox/anaconda3/lib/python3.9/site-packages/pygam/utils.py:649: DeprecationWarning: `np.int` is a deprecated alias for the builtin `int`. To silence this warning, use `int` by itself. Doing this will not modify any behavior and is safe. When replacing `np.int`, you may wish to use e.g. `np.int64` or `np.int32` to specify the precision. If you wish to review your current use, check the release note link for additional information.\n",
      "Deprecated in NumPy 1.20; for more details and guidance: https://numpy.org/devdocs/release/1.20.0-notes.html#deprecations\n",
      "  bases = (x >= aug_knots[:-1]).astype(np.int) * \\\n",
      "/public/home/zhaox/anaconda3/lib/python3.9/site-packages/pygam/utils.py:650: DeprecationWarning: `np.int` is a deprecated alias for the builtin `int`. To silence this warning, use `int` by itself. Doing this will not modify any behavior and is safe. When replacing `np.int`, you may wish to use e.g. `np.int64` or `np.int32` to specify the precision. If you wish to review your current use, check the release note link for additional information.\n",
      "Deprecated in NumPy 1.20; for more details and guidance: https://numpy.org/devdocs/release/1.20.0-notes.html#deprecations\n",
      "  (x < aug_knots[1:]).astype(np.int)\n",
      "/public/home/zhaox/anaconda3/lib/python3.9/site-packages/pygam/utils.py:649: DeprecationWarning: `np.int` is a deprecated alias for the builtin `int`. To silence this warning, use `int` by itself. Doing this will not modify any behavior and is safe. When replacing `np.int`, you may wish to use e.g. `np.int64` or `np.int32` to specify the precision. If you wish to review your current use, check the release note link for additional information.\n",
      "Deprecated in NumPy 1.20; for more details and guidance: https://numpy.org/devdocs/release/1.20.0-notes.html#deprecations\n",
      "  bases = (x >= aug_knots[:-1]).astype(np.int) * \\\n",
      "/public/home/zhaox/anaconda3/lib/python3.9/site-packages/pygam/utils.py:650: DeprecationWarning: `np.int` is a deprecated alias for the builtin `int`. To silence this warning, use `int` by itself. Doing this will not modify any behavior and is safe. When replacing `np.int`, you may wish to use e.g. `np.int64` or `np.int32` to specify the precision. If you wish to review your current use, check the release note link for additional information.\n",
      "Deprecated in NumPy 1.20; for more details and guidance: https://numpy.org/devdocs/release/1.20.0-notes.html#deprecations\n",
      "  (x < aug_knots[1:]).astype(np.int)\n",
      "/public/home/zhaox/anaconda3/lib/python3.9/site-packages/pygam/utils.py:649: DeprecationWarning: `np.int` is a deprecated alias for the builtin `int`. To silence this warning, use `int` by itself. Doing this will not modify any behavior and is safe. When replacing `np.int`, you may wish to use e.g. `np.int64` or `np.int32` to specify the precision. If you wish to review your current use, check the release note link for additional information.\n",
      "Deprecated in NumPy 1.20; for more details and guidance: https://numpy.org/devdocs/release/1.20.0-notes.html#deprecations\n",
      "  bases = (x >= aug_knots[:-1]).astype(np.int) * \\\n",
      "/public/home/zhaox/anaconda3/lib/python3.9/site-packages/pygam/utils.py:650: DeprecationWarning: `np.int` is a deprecated alias for the builtin `int`. To silence this warning, use `int` by itself. Doing this will not modify any behavior and is safe. When replacing `np.int`, you may wish to use e.g. `np.int64` or `np.int32` to specify the precision. If you wish to review your current use, check the release note link for additional information.\n",
      "Deprecated in NumPy 1.20; for more details and guidance: https://numpy.org/devdocs/release/1.20.0-notes.html#deprecations\n",
      "  (x < aug_knots[1:]).astype(np.int)\n",
      "/public/home/zhaox/anaconda3/lib/python3.9/site-packages/pygam/utils.py:649: DeprecationWarning: `np.int` is a deprecated alias for the builtin `int`. To silence this warning, use `int` by itself. Doing this will not modify any behavior and is safe. When replacing `np.int`, you may wish to use e.g. `np.int64` or `np.int32` to specify the precision. If you wish to review your current use, check the release note link for additional information.\n",
      "Deprecated in NumPy 1.20; for more details and guidance: https://numpy.org/devdocs/release/1.20.0-notes.html#deprecations\n",
      "  bases = (x >= aug_knots[:-1]).astype(np.int) * \\\n",
      "/public/home/zhaox/anaconda3/lib/python3.9/site-packages/pygam/utils.py:650: DeprecationWarning: `np.int` is a deprecated alias for the builtin `int`. To silence this warning, use `int` by itself. Doing this will not modify any behavior and is safe. When replacing `np.int`, you may wish to use e.g. `np.int64` or `np.int32` to specify the precision. If you wish to review your current use, check the release note link for additional information.\n",
      "Deprecated in NumPy 1.20; for more details and guidance: https://numpy.org/devdocs/release/1.20.0-notes.html#deprecations\n",
      "  (x < aug_knots[1:]).astype(np.int)\n",
      "/public/home/zhaox/anaconda3/lib/python3.9/site-packages/pygam/utils.py:649: DeprecationWarning: `np.int` is a deprecated alias for the builtin `int`. To silence this warning, use `int` by itself. Doing this will not modify any behavior and is safe. When replacing `np.int`, you may wish to use e.g. `np.int64` or `np.int32` to specify the precision. If you wish to review your current use, check the release note link for additional information.\n",
      "Deprecated in NumPy 1.20; for more details and guidance: https://numpy.org/devdocs/release/1.20.0-notes.html#deprecations\n",
      "  bases = (x >= aug_knots[:-1]).astype(np.int) * \\\n",
      "/public/home/zhaox/anaconda3/lib/python3.9/site-packages/pygam/utils.py:650: DeprecationWarning: `np.int` is a deprecated alias for the builtin `int`. To silence this warning, use `int` by itself. Doing this will not modify any behavior and is safe. When replacing `np.int`, you may wish to use e.g. `np.int64` or `np.int32` to specify the precision. If you wish to review your current use, check the release note link for additional information.\n",
      "Deprecated in NumPy 1.20; for more details and guidance: https://numpy.org/devdocs/release/1.20.0-notes.html#deprecations\n",
      "  (x < aug_knots[1:]).astype(np.int)\n",
      "/public/home/zhaox/anaconda3/lib/python3.9/site-packages/pygam/utils.py:649: DeprecationWarning: `np.int` is a deprecated alias for the builtin `int`. To silence this warning, use `int` by itself. Doing this will not modify any behavior and is safe. When replacing `np.int`, you may wish to use e.g. `np.int64` or `np.int32` to specify the precision. If you wish to review your current use, check the release note link for additional information.\n",
      "Deprecated in NumPy 1.20; for more details and guidance: https://numpy.org/devdocs/release/1.20.0-notes.html#deprecations\n",
      "  bases = (x >= aug_knots[:-1]).astype(np.int) * \\\n",
      "/public/home/zhaox/anaconda3/lib/python3.9/site-packages/pygam/utils.py:650: DeprecationWarning: `np.int` is a deprecated alias for the builtin `int`. To silence this warning, use `int` by itself. Doing this will not modify any behavior and is safe. When replacing `np.int`, you may wish to use e.g. `np.int64` or `np.int32` to specify the precision. If you wish to review your current use, check the release note link for additional information.\n",
      "Deprecated in NumPy 1.20; for more details and guidance: https://numpy.org/devdocs/release/1.20.0-notes.html#deprecations\n",
      "  (x < aug_knots[1:]).astype(np.int)\n",
      "/public/home/zhaox/anaconda3/lib/python3.9/site-packages/pygam/utils.py:649: DeprecationWarning: `np.int` is a deprecated alias for the builtin `int`. To silence this warning, use `int` by itself. Doing this will not modify any behavior and is safe. When replacing `np.int`, you may wish to use e.g. `np.int64` or `np.int32` to specify the precision. If you wish to review your current use, check the release note link for additional information.\n",
      "Deprecated in NumPy 1.20; for more details and guidance: https://numpy.org/devdocs/release/1.20.0-notes.html#deprecations\n",
      "  bases = (x >= aug_knots[:-1]).astype(np.int) * \\\n",
      "/public/home/zhaox/anaconda3/lib/python3.9/site-packages/pygam/utils.py:650: DeprecationWarning: `np.int` is a deprecated alias for the builtin `int`. To silence this warning, use `int` by itself. Doing this will not modify any behavior and is safe. When replacing `np.int`, you may wish to use e.g. `np.int64` or `np.int32` to specify the precision. If you wish to review your current use, check the release note link for additional information.\n",
      "Deprecated in NumPy 1.20; for more details and guidance: https://numpy.org/devdocs/release/1.20.0-notes.html#deprecations\n",
      "  (x < aug_knots[1:]).astype(np.int)\n",
      "/public/home/zhaox/anaconda3/lib/python3.9/site-packages/pygam/utils.py:649: DeprecationWarning: `np.int` is a deprecated alias for the builtin `int`. To silence this warning, use `int` by itself. Doing this will not modify any behavior and is safe. When replacing `np.int`, you may wish to use e.g. `np.int64` or `np.int32` to specify the precision. If you wish to review your current use, check the release note link for additional information.\n",
      "Deprecated in NumPy 1.20; for more details and guidance: https://numpy.org/devdocs/release/1.20.0-notes.html#deprecations\n",
      "  bases = (x >= aug_knots[:-1]).astype(np.int) * \\\n",
      "/public/home/zhaox/anaconda3/lib/python3.9/site-packages/pygam/utils.py:650: DeprecationWarning: `np.int` is a deprecated alias for the builtin `int`. To silence this warning, use `int` by itself. Doing this will not modify any behavior and is safe. When replacing `np.int`, you may wish to use e.g. `np.int64` or `np.int32` to specify the precision. If you wish to review your current use, check the release note link for additional information.\n",
      "Deprecated in NumPy 1.20; for more details and guidance: https://numpy.org/devdocs/release/1.20.0-notes.html#deprecations\n",
      "  (x < aug_knots[1:]).astype(np.int)\n",
      "/public/home/zhaox/anaconda3/lib/python3.9/site-packages/pygam/utils.py:649: DeprecationWarning: `np.int` is a deprecated alias for the builtin `int`. To silence this warning, use `int` by itself. Doing this will not modify any behavior and is safe. When replacing `np.int`, you may wish to use e.g. `np.int64` or `np.int32` to specify the precision. If you wish to review your current use, check the release note link for additional information.\n",
      "Deprecated in NumPy 1.20; for more details and guidance: https://numpy.org/devdocs/release/1.20.0-notes.html#deprecations\n",
      "  bases = (x >= aug_knots[:-1]).astype(np.int) * \\\n",
      "/public/home/zhaox/anaconda3/lib/python3.9/site-packages/pygam/utils.py:650: DeprecationWarning: `np.int` is a deprecated alias for the builtin `int`. To silence this warning, use `int` by itself. Doing this will not modify any behavior and is safe. When replacing `np.int`, you may wish to use e.g. `np.int64` or `np.int32` to specify the precision. If you wish to review your current use, check the release note link for additional information.\n",
      "Deprecated in NumPy 1.20; for more details and guidance: https://numpy.org/devdocs/release/1.20.0-notes.html#deprecations\n",
      "  (x < aug_knots[1:]).astype(np.int)\n",
      "/public/home/zhaox/anaconda3/lib/python3.9/site-packages/pygam/utils.py:649: DeprecationWarning: `np.int` is a deprecated alias for the builtin `int`. To silence this warning, use `int` by itself. Doing this will not modify any behavior and is safe. When replacing `np.int`, you may wish to use e.g. `np.int64` or `np.int32` to specify the precision. If you wish to review your current use, check the release note link for additional information.\n",
      "Deprecated in NumPy 1.20; for more details and guidance: https://numpy.org/devdocs/release/1.20.0-notes.html#deprecations\n",
      "  bases = (x >= aug_knots[:-1]).astype(np.int) * \\\n",
      "/public/home/zhaox/anaconda3/lib/python3.9/site-packages/pygam/utils.py:650: DeprecationWarning: `np.int` is a deprecated alias for the builtin `int`. To silence this warning, use `int` by itself. Doing this will not modify any behavior and is safe. When replacing `np.int`, you may wish to use e.g. `np.int64` or `np.int32` to specify the precision. If you wish to review your current use, check the release note link for additional information.\n",
      "Deprecated in NumPy 1.20; for more details and guidance: https://numpy.org/devdocs/release/1.20.0-notes.html#deprecations\n",
      "  (x < aug_knots[1:]).astype(np.int)\n",
      "/public/home/zhaox/anaconda3/lib/python3.9/site-packages/pygam/utils.py:649: DeprecationWarning: `np.int` is a deprecated alias for the builtin `int`. To silence this warning, use `int` by itself. Doing this will not modify any behavior and is safe. When replacing `np.int`, you may wish to use e.g. `np.int64` or `np.int32` to specify the precision. If you wish to review your current use, check the release note link for additional information.\n",
      "Deprecated in NumPy 1.20; for more details and guidance: https://numpy.org/devdocs/release/1.20.0-notes.html#deprecations\n",
      "  bases = (x >= aug_knots[:-1]).astype(np.int) * \\\n",
      "/public/home/zhaox/anaconda3/lib/python3.9/site-packages/pygam/utils.py:650: DeprecationWarning: `np.int` is a deprecated alias for the builtin `int`. To silence this warning, use `int` by itself. Doing this will not modify any behavior and is safe. When replacing `np.int`, you may wish to use e.g. `np.int64` or `np.int32` to specify the precision. If you wish to review your current use, check the release note link for additional information.\n",
      "Deprecated in NumPy 1.20; for more details and guidance: https://numpy.org/devdocs/release/1.20.0-notes.html#deprecations\n",
      "  (x < aug_knots[1:]).astype(np.int)\n",
      "/public/home/zhaox/anaconda3/lib/python3.9/site-packages/pygam/utils.py:649: DeprecationWarning: `np.int` is a deprecated alias for the builtin `int`. To silence this warning, use `int` by itself. Doing this will not modify any behavior and is safe. When replacing `np.int`, you may wish to use e.g. `np.int64` or `np.int32` to specify the precision. If you wish to review your current use, check the release note link for additional information.\n",
      "Deprecated in NumPy 1.20; for more details and guidance: https://numpy.org/devdocs/release/1.20.0-notes.html#deprecations\n",
      "  bases = (x >= aug_knots[:-1]).astype(np.int) * \\\n",
      "/public/home/zhaox/anaconda3/lib/python3.9/site-packages/pygam/utils.py:650: DeprecationWarning: `np.int` is a deprecated alias for the builtin `int`. To silence this warning, use `int` by itself. Doing this will not modify any behavior and is safe. When replacing `np.int`, you may wish to use e.g. `np.int64` or `np.int32` to specify the precision. If you wish to review your current use, check the release note link for additional information.\n",
      "Deprecated in NumPy 1.20; for more details and guidance: https://numpy.org/devdocs/release/1.20.0-notes.html#deprecations\n",
      "  (x < aug_knots[1:]).astype(np.int)\n",
      "/public/home/zhaox/anaconda3/lib/python3.9/site-packages/pygam/utils.py:649: DeprecationWarning: `np.int` is a deprecated alias for the builtin `int`. To silence this warning, use `int` by itself. Doing this will not modify any behavior and is safe. When replacing `np.int`, you may wish to use e.g. `np.int64` or `np.int32` to specify the precision. If you wish to review your current use, check the release note link for additional information.\n",
      "Deprecated in NumPy 1.20; for more details and guidance: https://numpy.org/devdocs/release/1.20.0-notes.html#deprecations\n",
      "  bases = (x >= aug_knots[:-1]).astype(np.int) * \\\n",
      "/public/home/zhaox/anaconda3/lib/python3.9/site-packages/pygam/utils.py:650: DeprecationWarning: `np.int` is a deprecated alias for the builtin `int`. To silence this warning, use `int` by itself. Doing this will not modify any behavior and is safe. When replacing `np.int`, you may wish to use e.g. `np.int64` or `np.int32` to specify the precision. If you wish to review your current use, check the release note link for additional information.\n",
      "Deprecated in NumPy 1.20; for more details and guidance: https://numpy.org/devdocs/release/1.20.0-notes.html#deprecations\n",
      "  (x < aug_knots[1:]).astype(np.int)\n",
      "/public/home/zhaox/anaconda3/lib/python3.9/site-packages/pygam/utils.py:649: DeprecationWarning: `np.int` is a deprecated alias for the builtin `int`. To silence this warning, use `int` by itself. Doing this will not modify any behavior and is safe. When replacing `np.int`, you may wish to use e.g. `np.int64` or `np.int32` to specify the precision. If you wish to review your current use, check the release note link for additional information.\n",
      "Deprecated in NumPy 1.20; for more details and guidance: https://numpy.org/devdocs/release/1.20.0-notes.html#deprecations\n",
      "  bases = (x >= aug_knots[:-1]).astype(np.int) * \\\n",
      "/public/home/zhaox/anaconda3/lib/python3.9/site-packages/pygam/utils.py:650: DeprecationWarning: `np.int` is a deprecated alias for the builtin `int`. To silence this warning, use `int` by itself. Doing this will not modify any behavior and is safe. When replacing `np.int`, you may wish to use e.g. `np.int64` or `np.int32` to specify the precision. If you wish to review your current use, check the release note link for additional information.\n",
      "Deprecated in NumPy 1.20; for more details and guidance: https://numpy.org/devdocs/release/1.20.0-notes.html#deprecations\n",
      "  (x < aug_knots[1:]).astype(np.int)\n",
      "/public/home/zhaox/anaconda3/lib/python3.9/site-packages/pygam/utils.py:649: DeprecationWarning: `np.int` is a deprecated alias for the builtin `int`. To silence this warning, use `int` by itself. Doing this will not modify any behavior and is safe. When replacing `np.int`, you may wish to use e.g. `np.int64` or `np.int32` to specify the precision. If you wish to review your current use, check the release note link for additional information.\n",
      "Deprecated in NumPy 1.20; for more details and guidance: https://numpy.org/devdocs/release/1.20.0-notes.html#deprecations\n",
      "  bases = (x >= aug_knots[:-1]).astype(np.int) * \\\n",
      "/public/home/zhaox/anaconda3/lib/python3.9/site-packages/pygam/utils.py:650: DeprecationWarning: `np.int` is a deprecated alias for the builtin `int`. To silence this warning, use `int` by itself. Doing this will not modify any behavior and is safe. When replacing `np.int`, you may wish to use e.g. `np.int64` or `np.int32` to specify the precision. If you wish to review your current use, check the release note link for additional information.\n",
      "Deprecated in NumPy 1.20; for more details and guidance: https://numpy.org/devdocs/release/1.20.0-notes.html#deprecations\n",
      "  (x < aug_knots[1:]).astype(np.int)\n",
      "/public/home/zhaox/anaconda3/lib/python3.9/site-packages/pygam/utils.py:649: DeprecationWarning: `np.int` is a deprecated alias for the builtin `int`. To silence this warning, use `int` by itself. Doing this will not modify any behavior and is safe. When replacing `np.int`, you may wish to use e.g. `np.int64` or `np.int32` to specify the precision. If you wish to review your current use, check the release note link for additional information.\n",
      "Deprecated in NumPy 1.20; for more details and guidance: https://numpy.org/devdocs/release/1.20.0-notes.html#deprecations\n",
      "  bases = (x >= aug_knots[:-1]).astype(np.int) * \\\n",
      "/public/home/zhaox/anaconda3/lib/python3.9/site-packages/pygam/utils.py:650: DeprecationWarning: `np.int` is a deprecated alias for the builtin `int`. To silence this warning, use `int` by itself. Doing this will not modify any behavior and is safe. When replacing `np.int`, you may wish to use e.g. `np.int64` or `np.int32` to specify the precision. If you wish to review your current use, check the release note link for additional information.\n",
      "Deprecated in NumPy 1.20; for more details and guidance: https://numpy.org/devdocs/release/1.20.0-notes.html#deprecations\n",
      "  (x < aug_knots[1:]).astype(np.int)\n",
      "/public/home/zhaox/anaconda3/lib/python3.9/site-packages/pygam/utils.py:649: DeprecationWarning: `np.int` is a deprecated alias for the builtin `int`. To silence this warning, use `int` by itself. Doing this will not modify any behavior and is safe. When replacing `np.int`, you may wish to use e.g. `np.int64` or `np.int32` to specify the precision. If you wish to review your current use, check the release note link for additional information.\n",
      "Deprecated in NumPy 1.20; for more details and guidance: https://numpy.org/devdocs/release/1.20.0-notes.html#deprecations\n",
      "  bases = (x >= aug_knots[:-1]).astype(np.int) * \\\n",
      "/public/home/zhaox/anaconda3/lib/python3.9/site-packages/pygam/utils.py:650: DeprecationWarning: `np.int` is a deprecated alias for the builtin `int`. To silence this warning, use `int` by itself. Doing this will not modify any behavior and is safe. When replacing `np.int`, you may wish to use e.g. `np.int64` or `np.int32` to specify the precision. If you wish to review your current use, check the release note link for additional information.\n",
      "Deprecated in NumPy 1.20; for more details and guidance: https://numpy.org/devdocs/release/1.20.0-notes.html#deprecations\n",
      "  (x < aug_knots[1:]).astype(np.int)\n",
      "/public/home/zhaox/anaconda3/lib/python3.9/site-packages/pygam/utils.py:649: DeprecationWarning: `np.int` is a deprecated alias for the builtin `int`. To silence this warning, use `int` by itself. Doing this will not modify any behavior and is safe. When replacing `np.int`, you may wish to use e.g. `np.int64` or `np.int32` to specify the precision. If you wish to review your current use, check the release note link for additional information.\n",
      "Deprecated in NumPy 1.20; for more details and guidance: https://numpy.org/devdocs/release/1.20.0-notes.html#deprecations\n",
      "  bases = (x >= aug_knots[:-1]).astype(np.int) * \\\n",
      "/public/home/zhaox/anaconda3/lib/python3.9/site-packages/pygam/utils.py:650: DeprecationWarning: `np.int` is a deprecated alias for the builtin `int`. To silence this warning, use `int` by itself. Doing this will not modify any behavior and is safe. When replacing `np.int`, you may wish to use e.g. `np.int64` or `np.int32` to specify the precision. If you wish to review your current use, check the release note link for additional information.\n",
      "Deprecated in NumPy 1.20; for more details and guidance: https://numpy.org/devdocs/release/1.20.0-notes.html#deprecations\n",
      "  (x < aug_knots[1:]).astype(np.int)\n",
      "/public/home/zhaox/anaconda3/lib/python3.9/site-packages/pygam/utils.py:649: DeprecationWarning: `np.int` is a deprecated alias for the builtin `int`. To silence this warning, use `int` by itself. Doing this will not modify any behavior and is safe. When replacing `np.int`, you may wish to use e.g. `np.int64` or `np.int32` to specify the precision. If you wish to review your current use, check the release note link for additional information.\n",
      "Deprecated in NumPy 1.20; for more details and guidance: https://numpy.org/devdocs/release/1.20.0-notes.html#deprecations\n",
      "  bases = (x >= aug_knots[:-1]).astype(np.int) * \\\n",
      "/public/home/zhaox/anaconda3/lib/python3.9/site-packages/pygam/utils.py:650: DeprecationWarning: `np.int` is a deprecated alias for the builtin `int`. To silence this warning, use `int` by itself. Doing this will not modify any behavior and is safe. When replacing `np.int`, you may wish to use e.g. `np.int64` or `np.int32` to specify the precision. If you wish to review your current use, check the release note link for additional information.\n",
      "Deprecated in NumPy 1.20; for more details and guidance: https://numpy.org/devdocs/release/1.20.0-notes.html#deprecations\n",
      "  (x < aug_knots[1:]).astype(np.int)\n"
     ]
    },
    {
     "name": "stdout",
     "output_type": "stream",
     "text": [
      "did not converge\n"
     ]
    },
    {
     "name": "stderr",
     "output_type": "stream",
     "text": [
      "/public/home/zhaox/anaconda3/lib/python3.9/site-packages/pygam/utils.py:649: DeprecationWarning: `np.int` is a deprecated alias for the builtin `int`. To silence this warning, use `int` by itself. Doing this will not modify any behavior and is safe. When replacing `np.int`, you may wish to use e.g. `np.int64` or `np.int32` to specify the precision. If you wish to review your current use, check the release note link for additional information.\n",
      "Deprecated in NumPy 1.20; for more details and guidance: https://numpy.org/devdocs/release/1.20.0-notes.html#deprecations\n",
      "  bases = (x >= aug_knots[:-1]).astype(np.int) * \\\n",
      "/public/home/zhaox/anaconda3/lib/python3.9/site-packages/pygam/utils.py:650: DeprecationWarning: `np.int` is a deprecated alias for the builtin `int`. To silence this warning, use `int` by itself. Doing this will not modify any behavior and is safe. When replacing `np.int`, you may wish to use e.g. `np.int64` or `np.int32` to specify the precision. If you wish to review your current use, check the release note link for additional information.\n",
      "Deprecated in NumPy 1.20; for more details and guidance: https://numpy.org/devdocs/release/1.20.0-notes.html#deprecations\n",
      "  (x < aug_knots[1:]).astype(np.int)\n",
      "/public/home/zhaox/anaconda3/lib/python3.9/site-packages/pygam/utils.py:649: DeprecationWarning: `np.int` is a deprecated alias for the builtin `int`. To silence this warning, use `int` by itself. Doing this will not modify any behavior and is safe. When replacing `np.int`, you may wish to use e.g. `np.int64` or `np.int32` to specify the precision. If you wish to review your current use, check the release note link for additional information.\n",
      "Deprecated in NumPy 1.20; for more details and guidance: https://numpy.org/devdocs/release/1.20.0-notes.html#deprecations\n",
      "  bases = (x >= aug_knots[:-1]).astype(np.int) * \\\n",
      "/public/home/zhaox/anaconda3/lib/python3.9/site-packages/pygam/utils.py:650: DeprecationWarning: `np.int` is a deprecated alias for the builtin `int`. To silence this warning, use `int` by itself. Doing this will not modify any behavior and is safe. When replacing `np.int`, you may wish to use e.g. `np.int64` or `np.int32` to specify the precision. If you wish to review your current use, check the release note link for additional information.\n",
      "Deprecated in NumPy 1.20; for more details and guidance: https://numpy.org/devdocs/release/1.20.0-notes.html#deprecations\n",
      "  (x < aug_knots[1:]).astype(np.int)\n",
      "/public/home/zhaox/anaconda3/lib/python3.9/site-packages/pygam/utils.py:649: DeprecationWarning: `np.int` is a deprecated alias for the builtin `int`. To silence this warning, use `int` by itself. Doing this will not modify any behavior and is safe. When replacing `np.int`, you may wish to use e.g. `np.int64` or `np.int32` to specify the precision. If you wish to review your current use, check the release note link for additional information.\n",
      "Deprecated in NumPy 1.20; for more details and guidance: https://numpy.org/devdocs/release/1.20.0-notes.html#deprecations\n",
      "  bases = (x >= aug_knots[:-1]).astype(np.int) * \\\n",
      "/public/home/zhaox/anaconda3/lib/python3.9/site-packages/pygam/utils.py:650: DeprecationWarning: `np.int` is a deprecated alias for the builtin `int`. To silence this warning, use `int` by itself. Doing this will not modify any behavior and is safe. When replacing `np.int`, you may wish to use e.g. `np.int64` or `np.int32` to specify the precision. If you wish to review your current use, check the release note link for additional information.\n",
      "Deprecated in NumPy 1.20; for more details and guidance: https://numpy.org/devdocs/release/1.20.0-notes.html#deprecations\n",
      "  (x < aug_knots[1:]).astype(np.int)\n",
      "/public/home/zhaox/anaconda3/lib/python3.9/site-packages/pygam/utils.py:649: DeprecationWarning: `np.int` is a deprecated alias for the builtin `int`. To silence this warning, use `int` by itself. Doing this will not modify any behavior and is safe. When replacing `np.int`, you may wish to use e.g. `np.int64` or `np.int32` to specify the precision. If you wish to review your current use, check the release note link for additional information.\n",
      "Deprecated in NumPy 1.20; for more details and guidance: https://numpy.org/devdocs/release/1.20.0-notes.html#deprecations\n",
      "  bases = (x >= aug_knots[:-1]).astype(np.int) * \\\n",
      "/public/home/zhaox/anaconda3/lib/python3.9/site-packages/pygam/utils.py:650: DeprecationWarning: `np.int` is a deprecated alias for the builtin `int`. To silence this warning, use `int` by itself. Doing this will not modify any behavior and is safe. When replacing `np.int`, you may wish to use e.g. `np.int64` or `np.int32` to specify the precision. If you wish to review your current use, check the release note link for additional information.\n",
      "Deprecated in NumPy 1.20; for more details and guidance: https://numpy.org/devdocs/release/1.20.0-notes.html#deprecations\n",
      "  (x < aug_knots[1:]).astype(np.int)\n",
      "/public/home/zhaox/anaconda3/lib/python3.9/site-packages/pygam/utils.py:649: DeprecationWarning: `np.int` is a deprecated alias for the builtin `int`. To silence this warning, use `int` by itself. Doing this will not modify any behavior and is safe. When replacing `np.int`, you may wish to use e.g. `np.int64` or `np.int32` to specify the precision. If you wish to review your current use, check the release note link for additional information.\n",
      "Deprecated in NumPy 1.20; for more details and guidance: https://numpy.org/devdocs/release/1.20.0-notes.html#deprecations\n",
      "  bases = (x >= aug_knots[:-1]).astype(np.int) * \\\n",
      "/public/home/zhaox/anaconda3/lib/python3.9/site-packages/pygam/utils.py:650: DeprecationWarning: `np.int` is a deprecated alias for the builtin `int`. To silence this warning, use `int` by itself. Doing this will not modify any behavior and is safe. When replacing `np.int`, you may wish to use e.g. `np.int64` or `np.int32` to specify the precision. If you wish to review your current use, check the release note link for additional information.\n",
      "Deprecated in NumPy 1.20; for more details and guidance: https://numpy.org/devdocs/release/1.20.0-notes.html#deprecations\n",
      "  (x < aug_knots[1:]).astype(np.int)\n",
      "/public/home/zhaox/anaconda3/lib/python3.9/site-packages/pygam/utils.py:649: DeprecationWarning: `np.int` is a deprecated alias for the builtin `int`. To silence this warning, use `int` by itself. Doing this will not modify any behavior and is safe. When replacing `np.int`, you may wish to use e.g. `np.int64` or `np.int32` to specify the precision. If you wish to review your current use, check the release note link for additional information.\n",
      "Deprecated in NumPy 1.20; for more details and guidance: https://numpy.org/devdocs/release/1.20.0-notes.html#deprecations\n",
      "  bases = (x >= aug_knots[:-1]).astype(np.int) * \\\n",
      "/public/home/zhaox/anaconda3/lib/python3.9/site-packages/pygam/utils.py:650: DeprecationWarning: `np.int` is a deprecated alias for the builtin `int`. To silence this warning, use `int` by itself. Doing this will not modify any behavior and is safe. When replacing `np.int`, you may wish to use e.g. `np.int64` or `np.int32` to specify the precision. If you wish to review your current use, check the release note link for additional information.\n",
      "Deprecated in NumPy 1.20; for more details and guidance: https://numpy.org/devdocs/release/1.20.0-notes.html#deprecations\n",
      "  (x < aug_knots[1:]).astype(np.int)\n",
      "/public/home/zhaox/anaconda3/lib/python3.9/site-packages/pygam/utils.py:649: DeprecationWarning: `np.int` is a deprecated alias for the builtin `int`. To silence this warning, use `int` by itself. Doing this will not modify any behavior and is safe. When replacing `np.int`, you may wish to use e.g. `np.int64` or `np.int32` to specify the precision. If you wish to review your current use, check the release note link for additional information.\n",
      "Deprecated in NumPy 1.20; for more details and guidance: https://numpy.org/devdocs/release/1.20.0-notes.html#deprecations\n",
      "  bases = (x >= aug_knots[:-1]).astype(np.int) * \\\n",
      "/public/home/zhaox/anaconda3/lib/python3.9/site-packages/pygam/utils.py:650: DeprecationWarning: `np.int` is a deprecated alias for the builtin `int`. To silence this warning, use `int` by itself. Doing this will not modify any behavior and is safe. When replacing `np.int`, you may wish to use e.g. `np.int64` or `np.int32` to specify the precision. If you wish to review your current use, check the release note link for additional information.\n",
      "Deprecated in NumPy 1.20; for more details and guidance: https://numpy.org/devdocs/release/1.20.0-notes.html#deprecations\n",
      "  (x < aug_knots[1:]).astype(np.int)\n",
      "/public/home/zhaox/anaconda3/lib/python3.9/site-packages/pygam/utils.py:649: DeprecationWarning: `np.int` is a deprecated alias for the builtin `int`. To silence this warning, use `int` by itself. Doing this will not modify any behavior and is safe. When replacing `np.int`, you may wish to use e.g. `np.int64` or `np.int32` to specify the precision. If you wish to review your current use, check the release note link for additional information.\n",
      "Deprecated in NumPy 1.20; for more details and guidance: https://numpy.org/devdocs/release/1.20.0-notes.html#deprecations\n",
      "  bases = (x >= aug_knots[:-1]).astype(np.int) * \\\n",
      "/public/home/zhaox/anaconda3/lib/python3.9/site-packages/pygam/utils.py:650: DeprecationWarning: `np.int` is a deprecated alias for the builtin `int`. To silence this warning, use `int` by itself. Doing this will not modify any behavior and is safe. When replacing `np.int`, you may wish to use e.g. `np.int64` or `np.int32` to specify the precision. If you wish to review your current use, check the release note link for additional information.\n",
      "Deprecated in NumPy 1.20; for more details and guidance: https://numpy.org/devdocs/release/1.20.0-notes.html#deprecations\n",
      "  (x < aug_knots[1:]).astype(np.int)\n",
      "/public/home/zhaox/anaconda3/lib/python3.9/site-packages/pygam/utils.py:649: DeprecationWarning: `np.int` is a deprecated alias for the builtin `int`. To silence this warning, use `int` by itself. Doing this will not modify any behavior and is safe. When replacing `np.int`, you may wish to use e.g. `np.int64` or `np.int32` to specify the precision. If you wish to review your current use, check the release note link for additional information.\n",
      "Deprecated in NumPy 1.20; for more details and guidance: https://numpy.org/devdocs/release/1.20.0-notes.html#deprecations\n",
      "  bases = (x >= aug_knots[:-1]).astype(np.int) * \\\n",
      "/public/home/zhaox/anaconda3/lib/python3.9/site-packages/pygam/utils.py:650: DeprecationWarning: `np.int` is a deprecated alias for the builtin `int`. To silence this warning, use `int` by itself. Doing this will not modify any behavior and is safe. When replacing `np.int`, you may wish to use e.g. `np.int64` or `np.int32` to specify the precision. If you wish to review your current use, check the release note link for additional information.\n",
      "Deprecated in NumPy 1.20; for more details and guidance: https://numpy.org/devdocs/release/1.20.0-notes.html#deprecations\n",
      "  (x < aug_knots[1:]).astype(np.int)\n",
      "/public/home/zhaox/anaconda3/lib/python3.9/site-packages/pygam/utils.py:649: DeprecationWarning: `np.int` is a deprecated alias for the builtin `int`. To silence this warning, use `int` by itself. Doing this will not modify any behavior and is safe. When replacing `np.int`, you may wish to use e.g. `np.int64` or `np.int32` to specify the precision. If you wish to review your current use, check the release note link for additional information.\n",
      "Deprecated in NumPy 1.20; for more details and guidance: https://numpy.org/devdocs/release/1.20.0-notes.html#deprecations\n",
      "  bases = (x >= aug_knots[:-1]).astype(np.int) * \\\n",
      "/public/home/zhaox/anaconda3/lib/python3.9/site-packages/pygam/utils.py:650: DeprecationWarning: `np.int` is a deprecated alias for the builtin `int`. To silence this warning, use `int` by itself. Doing this will not modify any behavior and is safe. When replacing `np.int`, you may wish to use e.g. `np.int64` or `np.int32` to specify the precision. If you wish to review your current use, check the release note link for additional information.\n",
      "Deprecated in NumPy 1.20; for more details and guidance: https://numpy.org/devdocs/release/1.20.0-notes.html#deprecations\n",
      "  (x < aug_knots[1:]).astype(np.int)\n",
      "/public/home/zhaox/anaconda3/lib/python3.9/site-packages/pygam/utils.py:649: DeprecationWarning: `np.int` is a deprecated alias for the builtin `int`. To silence this warning, use `int` by itself. Doing this will not modify any behavior and is safe. When replacing `np.int`, you may wish to use e.g. `np.int64` or `np.int32` to specify the precision. If you wish to review your current use, check the release note link for additional information.\n",
      "Deprecated in NumPy 1.20; for more details and guidance: https://numpy.org/devdocs/release/1.20.0-notes.html#deprecations\n",
      "  bases = (x >= aug_knots[:-1]).astype(np.int) * \\\n",
      "/public/home/zhaox/anaconda3/lib/python3.9/site-packages/pygam/utils.py:650: DeprecationWarning: `np.int` is a deprecated alias for the builtin `int`. To silence this warning, use `int` by itself. Doing this will not modify any behavior and is safe. When replacing `np.int`, you may wish to use e.g. `np.int64` or `np.int32` to specify the precision. If you wish to review your current use, check the release note link for additional information.\n",
      "Deprecated in NumPy 1.20; for more details and guidance: https://numpy.org/devdocs/release/1.20.0-notes.html#deprecations\n",
      "  (x < aug_knots[1:]).astype(np.int)\n",
      "/public/home/zhaox/anaconda3/lib/python3.9/site-packages/pygam/utils.py:649: DeprecationWarning: `np.int` is a deprecated alias for the builtin `int`. To silence this warning, use `int` by itself. Doing this will not modify any behavior and is safe. When replacing `np.int`, you may wish to use e.g. `np.int64` or `np.int32` to specify the precision. If you wish to review your current use, check the release note link for additional information.\n",
      "Deprecated in NumPy 1.20; for more details and guidance: https://numpy.org/devdocs/release/1.20.0-notes.html#deprecations\n",
      "  bases = (x >= aug_knots[:-1]).astype(np.int) * \\\n",
      "/public/home/zhaox/anaconda3/lib/python3.9/site-packages/pygam/utils.py:650: DeprecationWarning: `np.int` is a deprecated alias for the builtin `int`. To silence this warning, use `int` by itself. Doing this will not modify any behavior and is safe. When replacing `np.int`, you may wish to use e.g. `np.int64` or `np.int32` to specify the precision. If you wish to review your current use, check the release note link for additional information.\n",
      "Deprecated in NumPy 1.20; for more details and guidance: https://numpy.org/devdocs/release/1.20.0-notes.html#deprecations\n",
      "  (x < aug_knots[1:]).astype(np.int)\n",
      "/public/home/zhaox/anaconda3/lib/python3.9/site-packages/pygam/utils.py:649: DeprecationWarning: `np.int` is a deprecated alias for the builtin `int`. To silence this warning, use `int` by itself. Doing this will not modify any behavior and is safe. When replacing `np.int`, you may wish to use e.g. `np.int64` or `np.int32` to specify the precision. If you wish to review your current use, check the release note link for additional information.\n",
      "Deprecated in NumPy 1.20; for more details and guidance: https://numpy.org/devdocs/release/1.20.0-notes.html#deprecations\n",
      "  bases = (x >= aug_knots[:-1]).astype(np.int) * \\\n",
      "/public/home/zhaox/anaconda3/lib/python3.9/site-packages/pygam/utils.py:650: DeprecationWarning: `np.int` is a deprecated alias for the builtin `int`. To silence this warning, use `int` by itself. Doing this will not modify any behavior and is safe. When replacing `np.int`, you may wish to use e.g. `np.int64` or `np.int32` to specify the precision. If you wish to review your current use, check the release note link for additional information.\n",
      "Deprecated in NumPy 1.20; for more details and guidance: https://numpy.org/devdocs/release/1.20.0-notes.html#deprecations\n",
      "  (x < aug_knots[1:]).astype(np.int)\n",
      "/public/home/zhaox/anaconda3/lib/python3.9/site-packages/pygam/utils.py:649: DeprecationWarning: `np.int` is a deprecated alias for the builtin `int`. To silence this warning, use `int` by itself. Doing this will not modify any behavior and is safe. When replacing `np.int`, you may wish to use e.g. `np.int64` or `np.int32` to specify the precision. If you wish to review your current use, check the release note link for additional information.\n",
      "Deprecated in NumPy 1.20; for more details and guidance: https://numpy.org/devdocs/release/1.20.0-notes.html#deprecations\n",
      "  bases = (x >= aug_knots[:-1]).astype(np.int) * \\\n",
      "/public/home/zhaox/anaconda3/lib/python3.9/site-packages/pygam/utils.py:650: DeprecationWarning: `np.int` is a deprecated alias for the builtin `int`. To silence this warning, use `int` by itself. Doing this will not modify any behavior and is safe. When replacing `np.int`, you may wish to use e.g. `np.int64` or `np.int32` to specify the precision. If you wish to review your current use, check the release note link for additional information.\n",
      "Deprecated in NumPy 1.20; for more details and guidance: https://numpy.org/devdocs/release/1.20.0-notes.html#deprecations\n",
      "  (x < aug_knots[1:]).astype(np.int)\n",
      "/public/home/zhaox/anaconda3/lib/python3.9/site-packages/pygam/utils.py:649: DeprecationWarning: `np.int` is a deprecated alias for the builtin `int`. To silence this warning, use `int` by itself. Doing this will not modify any behavior and is safe. When replacing `np.int`, you may wish to use e.g. `np.int64` or `np.int32` to specify the precision. If you wish to review your current use, check the release note link for additional information.\n",
      "Deprecated in NumPy 1.20; for more details and guidance: https://numpy.org/devdocs/release/1.20.0-notes.html#deprecations\n",
      "  bases = (x >= aug_knots[:-1]).astype(np.int) * \\\n",
      "/public/home/zhaox/anaconda3/lib/python3.9/site-packages/pygam/utils.py:650: DeprecationWarning: `np.int` is a deprecated alias for the builtin `int`. To silence this warning, use `int` by itself. Doing this will not modify any behavior and is safe. When replacing `np.int`, you may wish to use e.g. `np.int64` or `np.int32` to specify the precision. If you wish to review your current use, check the release note link for additional information.\n",
      "Deprecated in NumPy 1.20; for more details and guidance: https://numpy.org/devdocs/release/1.20.0-notes.html#deprecations\n",
      "  (x < aug_knots[1:]).astype(np.int)\n",
      "/public/home/zhaox/anaconda3/lib/python3.9/site-packages/pygam/utils.py:649: DeprecationWarning: `np.int` is a deprecated alias for the builtin `int`. To silence this warning, use `int` by itself. Doing this will not modify any behavior and is safe. When replacing `np.int`, you may wish to use e.g. `np.int64` or `np.int32` to specify the precision. If you wish to review your current use, check the release note link for additional information.\n",
      "Deprecated in NumPy 1.20; for more details and guidance: https://numpy.org/devdocs/release/1.20.0-notes.html#deprecations\n",
      "  bases = (x >= aug_knots[:-1]).astype(np.int) * \\\n",
      "/public/home/zhaox/anaconda3/lib/python3.9/site-packages/pygam/utils.py:650: DeprecationWarning: `np.int` is a deprecated alias for the builtin `int`. To silence this warning, use `int` by itself. Doing this will not modify any behavior and is safe. When replacing `np.int`, you may wish to use e.g. `np.int64` or `np.int32` to specify the precision. If you wish to review your current use, check the release note link for additional information.\n",
      "Deprecated in NumPy 1.20; for more details and guidance: https://numpy.org/devdocs/release/1.20.0-notes.html#deprecations\n",
      "  (x < aug_knots[1:]).astype(np.int)\n",
      "/public/home/zhaox/anaconda3/lib/python3.9/site-packages/pygam/utils.py:649: DeprecationWarning: `np.int` is a deprecated alias for the builtin `int`. To silence this warning, use `int` by itself. Doing this will not modify any behavior and is safe. When replacing `np.int`, you may wish to use e.g. `np.int64` or `np.int32` to specify the precision. If you wish to review your current use, check the release note link for additional information.\n",
      "Deprecated in NumPy 1.20; for more details and guidance: https://numpy.org/devdocs/release/1.20.0-notes.html#deprecations\n",
      "  bases = (x >= aug_knots[:-1]).astype(np.int) * \\\n",
      "/public/home/zhaox/anaconda3/lib/python3.9/site-packages/pygam/utils.py:650: DeprecationWarning: `np.int` is a deprecated alias for the builtin `int`. To silence this warning, use `int` by itself. Doing this will not modify any behavior and is safe. When replacing `np.int`, you may wish to use e.g. `np.int64` or `np.int32` to specify the precision. If you wish to review your current use, check the release note link for additional information.\n",
      "Deprecated in NumPy 1.20; for more details and guidance: https://numpy.org/devdocs/release/1.20.0-notes.html#deprecations\n",
      "  (x < aug_knots[1:]).astype(np.int)\n",
      "/public/home/zhaox/anaconda3/lib/python3.9/site-packages/pygam/utils.py:649: DeprecationWarning: `np.int` is a deprecated alias for the builtin `int`. To silence this warning, use `int` by itself. Doing this will not modify any behavior and is safe. When replacing `np.int`, you may wish to use e.g. `np.int64` or `np.int32` to specify the precision. If you wish to review your current use, check the release note link for additional information.\n",
      "Deprecated in NumPy 1.20; for more details and guidance: https://numpy.org/devdocs/release/1.20.0-notes.html#deprecations\n",
      "  bases = (x >= aug_knots[:-1]).astype(np.int) * \\\n",
      "/public/home/zhaox/anaconda3/lib/python3.9/site-packages/pygam/utils.py:650: DeprecationWarning: `np.int` is a deprecated alias for the builtin `int`. To silence this warning, use `int` by itself. Doing this will not modify any behavior and is safe. When replacing `np.int`, you may wish to use e.g. `np.int64` or `np.int32` to specify the precision. If you wish to review your current use, check the release note link for additional information.\n",
      "Deprecated in NumPy 1.20; for more details and guidance: https://numpy.org/devdocs/release/1.20.0-notes.html#deprecations\n",
      "  (x < aug_knots[1:]).astype(np.int)\n",
      "/public/home/zhaox/anaconda3/lib/python3.9/site-packages/pygam/utils.py:649: DeprecationWarning: `np.int` is a deprecated alias for the builtin `int`. To silence this warning, use `int` by itself. Doing this will not modify any behavior and is safe. When replacing `np.int`, you may wish to use e.g. `np.int64` or `np.int32` to specify the precision. If you wish to review your current use, check the release note link for additional information.\n",
      "Deprecated in NumPy 1.20; for more details and guidance: https://numpy.org/devdocs/release/1.20.0-notes.html#deprecations\n",
      "  bases = (x >= aug_knots[:-1]).astype(np.int) * \\\n",
      "/public/home/zhaox/anaconda3/lib/python3.9/site-packages/pygam/utils.py:650: DeprecationWarning: `np.int` is a deprecated alias for the builtin `int`. To silence this warning, use `int` by itself. Doing this will not modify any behavior and is safe. When replacing `np.int`, you may wish to use e.g. `np.int64` or `np.int32` to specify the precision. If you wish to review your current use, check the release note link for additional information.\n",
      "Deprecated in NumPy 1.20; for more details and guidance: https://numpy.org/devdocs/release/1.20.0-notes.html#deprecations\n",
      "  (x < aug_knots[1:]).astype(np.int)\n",
      "/public/home/zhaox/anaconda3/lib/python3.9/site-packages/pygam/utils.py:649: DeprecationWarning: `np.int` is a deprecated alias for the builtin `int`. To silence this warning, use `int` by itself. Doing this will not modify any behavior and is safe. When replacing `np.int`, you may wish to use e.g. `np.int64` or `np.int32` to specify the precision. If you wish to review your current use, check the release note link for additional information.\n",
      "Deprecated in NumPy 1.20; for more details and guidance: https://numpy.org/devdocs/release/1.20.0-notes.html#deprecations\n",
      "  bases = (x >= aug_knots[:-1]).astype(np.int) * \\\n",
      "/public/home/zhaox/anaconda3/lib/python3.9/site-packages/pygam/utils.py:650: DeprecationWarning: `np.int` is a deprecated alias for the builtin `int`. To silence this warning, use `int` by itself. Doing this will not modify any behavior and is safe. When replacing `np.int`, you may wish to use e.g. `np.int64` or `np.int32` to specify the precision. If you wish to review your current use, check the release note link for additional information.\n",
      "Deprecated in NumPy 1.20; for more details and guidance: https://numpy.org/devdocs/release/1.20.0-notes.html#deprecations\n",
      "  (x < aug_knots[1:]).astype(np.int)\n",
      "/public/home/zhaox/anaconda3/lib/python3.9/site-packages/pygam/utils.py:649: DeprecationWarning: `np.int` is a deprecated alias for the builtin `int`. To silence this warning, use `int` by itself. Doing this will not modify any behavior and is safe. When replacing `np.int`, you may wish to use e.g. `np.int64` or `np.int32` to specify the precision. If you wish to review your current use, check the release note link for additional information.\n",
      "Deprecated in NumPy 1.20; for more details and guidance: https://numpy.org/devdocs/release/1.20.0-notes.html#deprecations\n",
      "  bases = (x >= aug_knots[:-1]).astype(np.int) * \\\n",
      "/public/home/zhaox/anaconda3/lib/python3.9/site-packages/pygam/utils.py:650: DeprecationWarning: `np.int` is a deprecated alias for the builtin `int`. To silence this warning, use `int` by itself. Doing this will not modify any behavior and is safe. When replacing `np.int`, you may wish to use e.g. `np.int64` or `np.int32` to specify the precision. If you wish to review your current use, check the release note link for additional information.\n",
      "Deprecated in NumPy 1.20; for more details and guidance: https://numpy.org/devdocs/release/1.20.0-notes.html#deprecations\n",
      "  (x < aug_knots[1:]).astype(np.int)\n",
      "/public/home/zhaox/anaconda3/lib/python3.9/site-packages/pygam/utils.py:649: DeprecationWarning: `np.int` is a deprecated alias for the builtin `int`. To silence this warning, use `int` by itself. Doing this will not modify any behavior and is safe. When replacing `np.int`, you may wish to use e.g. `np.int64` or `np.int32` to specify the precision. If you wish to review your current use, check the release note link for additional information.\n",
      "Deprecated in NumPy 1.20; for more details and guidance: https://numpy.org/devdocs/release/1.20.0-notes.html#deprecations\n",
      "  bases = (x >= aug_knots[:-1]).astype(np.int) * \\\n",
      "/public/home/zhaox/anaconda3/lib/python3.9/site-packages/pygam/utils.py:650: DeprecationWarning: `np.int` is a deprecated alias for the builtin `int`. To silence this warning, use `int` by itself. Doing this will not modify any behavior and is safe. When replacing `np.int`, you may wish to use e.g. `np.int64` or `np.int32` to specify the precision. If you wish to review your current use, check the release note link for additional information.\n",
      "Deprecated in NumPy 1.20; for more details and guidance: https://numpy.org/devdocs/release/1.20.0-notes.html#deprecations\n",
      "  (x < aug_knots[1:]).astype(np.int)\n",
      "/public/home/zhaox/anaconda3/lib/python3.9/site-packages/pygam/utils.py:649: DeprecationWarning: `np.int` is a deprecated alias for the builtin `int`. To silence this warning, use `int` by itself. Doing this will not modify any behavior and is safe. When replacing `np.int`, you may wish to use e.g. `np.int64` or `np.int32` to specify the precision. If you wish to review your current use, check the release note link for additional information.\n",
      "Deprecated in NumPy 1.20; for more details and guidance: https://numpy.org/devdocs/release/1.20.0-notes.html#deprecations\n",
      "  bases = (x >= aug_knots[:-1]).astype(np.int) * \\\n",
      "/public/home/zhaox/anaconda3/lib/python3.9/site-packages/pygam/utils.py:650: DeprecationWarning: `np.int` is a deprecated alias for the builtin `int`. To silence this warning, use `int` by itself. Doing this will not modify any behavior and is safe. When replacing `np.int`, you may wish to use e.g. `np.int64` or `np.int32` to specify the precision. If you wish to review your current use, check the release note link for additional information.\n",
      "Deprecated in NumPy 1.20; for more details and guidance: https://numpy.org/devdocs/release/1.20.0-notes.html#deprecations\n",
      "  (x < aug_knots[1:]).astype(np.int)\n",
      "/public/home/zhaox/anaconda3/lib/python3.9/site-packages/pygam/utils.py:649: DeprecationWarning: `np.int` is a deprecated alias for the builtin `int`. To silence this warning, use `int` by itself. Doing this will not modify any behavior and is safe. When replacing `np.int`, you may wish to use e.g. `np.int64` or `np.int32` to specify the precision. If you wish to review your current use, check the release note link for additional information.\n",
      "Deprecated in NumPy 1.20; for more details and guidance: https://numpy.org/devdocs/release/1.20.0-notes.html#deprecations\n",
      "  bases = (x >= aug_knots[:-1]).astype(np.int) * \\\n",
      "/public/home/zhaox/anaconda3/lib/python3.9/site-packages/pygam/utils.py:650: DeprecationWarning: `np.int` is a deprecated alias for the builtin `int`. To silence this warning, use `int` by itself. Doing this will not modify any behavior and is safe. When replacing `np.int`, you may wish to use e.g. `np.int64` or `np.int32` to specify the precision. If you wish to review your current use, check the release note link for additional information.\n",
      "Deprecated in NumPy 1.20; for more details and guidance: https://numpy.org/devdocs/release/1.20.0-notes.html#deprecations\n",
      "  (x < aug_knots[1:]).astype(np.int)\n",
      "/public/home/zhaox/anaconda3/lib/python3.9/site-packages/pygam/utils.py:649: DeprecationWarning: `np.int` is a deprecated alias for the builtin `int`. To silence this warning, use `int` by itself. Doing this will not modify any behavior and is safe. When replacing `np.int`, you may wish to use e.g. `np.int64` or `np.int32` to specify the precision. If you wish to review your current use, check the release note link for additional information.\n",
      "Deprecated in NumPy 1.20; for more details and guidance: https://numpy.org/devdocs/release/1.20.0-notes.html#deprecations\n",
      "  bases = (x >= aug_knots[:-1]).astype(np.int) * \\\n",
      "/public/home/zhaox/anaconda3/lib/python3.9/site-packages/pygam/utils.py:650: DeprecationWarning: `np.int` is a deprecated alias for the builtin `int`. To silence this warning, use `int` by itself. Doing this will not modify any behavior and is safe. When replacing `np.int`, you may wish to use e.g. `np.int64` or `np.int32` to specify the precision. If you wish to review your current use, check the release note link for additional information.\n",
      "Deprecated in NumPy 1.20; for more details and guidance: https://numpy.org/devdocs/release/1.20.0-notes.html#deprecations\n",
      "  (x < aug_knots[1:]).astype(np.int)\n"
     ]
    },
    {
     "name": "stdout",
     "output_type": "stream",
     "text": [
      "    Finish (0:00:16)\n"
     ]
    },
    {
     "name": "stderr",
     "output_type": "stream",
     "text": [
      "/public/home/zhaox/anaconda3/lib/python3.9/site-packages/matplotlib/backends/backend_pdf.py:1649: DeprecationWarning: NONE is deprecated and will be removed in Pillow 10 (2023-07-01). Use Resampling.NEAREST or Dither.NONE instead.\n",
      "  img = img.convert(mode='P', dither=Image.NONE,\n",
      "/public/home/zhaox/anaconda3/lib/python3.9/site-packages/matplotlib/backends/backend_pdf.py:1650: DeprecationWarning: ADAPTIVE is deprecated and will be removed in Pillow 10 (2023-07-01). Use Palette.ADAPTIVE instead.\n",
      "  palette=Image.ADAPTIVE, colors=num_colors)\n"
     ]
    }
   ],
   "source": [
    "cr.pl.heatmap(\n",
    "    adata,\n",
    "    model,\n",
    "    genes=adata.varm['terminal_lineage_drivers'][\"ES_corr\"].sort_values(ascending=False).index[:100],\n",
    "    show_absorption_probabilities=True,\n",
    "    lineages=\"ES\",\n",
    "    n_jobs=1,\n",
    "    backend=\"loky\",\n",
    "    save='./germcellforcellrank_ESgeneexpressiontrendsheatmap1225.pdf'\n",
    ")"
   ]
  },
  {
   "cell_type": "markdown",
   "id": "8ae0b701-e80e-49a2-bd4e-0b56bb147f30",
   "metadata": {},
   "source": [
    "## 保存跑完cellrank的结果文件"
   ]
  },
  {
   "cell_type": "code",
   "execution_count": 236,
   "id": "f96ed7d1-f32e-4d27-aa34-c1d90820d8ec",
   "metadata": {},
   "outputs": [
    {
     "data": {
      "text/plain": [
       "AnnData object with n_obs × n_vars = 3868 × 2000\n",
       "    obs: 'n_genes', 'n_genes_by_counts', 'total_counts', 'total_counts_mt', 'pct_counts_mt', 'total_counts_chrX', 'pct_counts_chrX', 'total_counts_chrY', 'pct_counts_chrY', 'S_score', 'G2M_score', 'phase', 'doublet', 'doublet_score', 'leiden', 'cell_type', 'initial_size_spliced', 'initial_size_unspliced', 'initial_size', 'n_counts', 'velocity_self_transition', 'terminal_states', 'terminal_states_probs', 'clusters_gradients', 'initial_states', 'initial_states_probs', 'velocity_pseudotime', 'latent_time', 'dpt_pseudotime', 'to_terminal_states_kl_divergence'\n",
       "    var: 'gene_ids', 'feature_types', 'genome', 'n_counts', 'mt', 'n_cells_by_counts', 'mean_counts', 'pct_dropout_by_counts', 'total_counts', 'chrX', 'chrY', 'highly_variable', 'means', 'dispersions', 'dispersions_norm', 'Accession', 'Chromosome', 'End', 'Start', 'Strand', 'fit_r2', 'fit_alpha', 'fit_beta', 'fit_gamma', 'fit_t_', 'fit_scaling', 'fit_std_u', 'fit_std_s', 'fit_likelihood', 'fit_u0', 'fit_s0', 'fit_pval_steady', 'fit_steady_u', 'fit_steady_s', 'fit_variance', 'fit_alignment_scaling', 'velocity_genes'\n",
       "    uns: 'cell_type_colors', 'dendrogram_cell_type', 'dendrogram_leiden', 'hvg', 'leiden', 'leiden_colors', 'neighbors', 'pca', 'rank_genes_groups', 'tsne', 'umap', 'recover_dynamics', 'velocity_params', 'velocity_graph', 'velocity_graph_neg', 'T_fwd_params', 'eigendecomposition_fwd', 'schur_matrix_fwd', 'coarse_fwd', 'terminal_states_colors', 'clusters_gradients_colors', 'T_bwd_params', 'eigendecomposition_bwd', 'initial_states_colors', 'paga', 'cell_type_sizes', 'iroot', 'diffmap_evals'\n",
       "    obsm: 'X_pca', 'X_tsne', 'X_umap', 'velocity_umap', 'schur_vectors_fwd', 'terminal_states_memberships', 'initial_states_memberships', 'to_terminal_states', 'X_diffmap', 'X_fate_simplex_fwd'\n",
       "    varm: 'loss', 'terminal_lineage_drivers'\n",
       "    layers: 'ambiguous', 'matrix', 'spliced', 'unspliced', 'Ms', 'Mu', 'fit_t', 'fit_tau', 'fit_tau_', 'velocity', 'velocity_u'\n",
       "    obsp: 'connectivities', 'distances', 'T_fwd', 'T_bwd'"
      ]
     },
     "execution_count": 236,
     "metadata": {},
     "output_type": "execute_result"
    }
   ],
   "source": [
    "adata"
   ]
  },
  {
   "cell_type": "code",
   "execution_count": 239,
   "id": "9a003821-45cf-4fb8-a2e3-3c52676e0370",
   "metadata": {},
   "outputs": [
    {
     "ename": "TypeError",
     "evalue": "No method has been defined for writing <class 'cellrank.tl._lineage.Lineage'> elements to <class 'h5py._hl.group.Group'>\n\nAbove error raised while writing key 'terminal_states_memberships' of <class 'h5py._hl.group.Group'> to /",
     "output_type": "error",
     "traceback": [
      "\u001b[0;31m---------------------------------------------------------------------------\u001b[0m",
      "\u001b[0;31mTypeError\u001b[0m                                 Traceback (most recent call last)",
      "\u001b[0;32m~/anaconda3/lib/python3.9/site-packages/anndata/_io/utils.py\u001b[0m in \u001b[0;36mfunc_wrapper\u001b[0;34m(elem, key, val, *args, **kwargs)\u001b[0m\n\u001b[1;32m    213\u001b[0m         \u001b[0;32mtry\u001b[0m\u001b[0;34m:\u001b[0m\u001b[0;34m\u001b[0m\u001b[0;34m\u001b[0m\u001b[0m\n\u001b[0;32m--> 214\u001b[0;31m             \u001b[0;32mreturn\u001b[0m \u001b[0mfunc\u001b[0m\u001b[0;34m(\u001b[0m\u001b[0melem\u001b[0m\u001b[0;34m,\u001b[0m \u001b[0mkey\u001b[0m\u001b[0;34m,\u001b[0m \u001b[0mval\u001b[0m\u001b[0;34m,\u001b[0m \u001b[0;34m*\u001b[0m\u001b[0margs\u001b[0m\u001b[0;34m,\u001b[0m \u001b[0;34m**\u001b[0m\u001b[0mkwargs\u001b[0m\u001b[0;34m)\u001b[0m\u001b[0;34m\u001b[0m\u001b[0;34m\u001b[0m\u001b[0m\n\u001b[0m\u001b[1;32m    215\u001b[0m         \u001b[0;32mexcept\u001b[0m \u001b[0mException\u001b[0m \u001b[0;32mas\u001b[0m \u001b[0me\u001b[0m\u001b[0;34m:\u001b[0m\u001b[0;34m\u001b[0m\u001b[0;34m\u001b[0m\u001b[0m\n",
      "\u001b[0;32m~/anaconda3/lib/python3.9/site-packages/anndata/_io/specs/registry.py\u001b[0m in \u001b[0;36mwrite_elem\u001b[0;34m(f, k, elem, modifiers, *args, **kwargs)\u001b[0m\n\u001b[1;32m    174\u001b[0m     \u001b[0;32melse\u001b[0m\u001b[0;34m:\u001b[0m\u001b[0;34m\u001b[0m\u001b[0;34m\u001b[0m\u001b[0m\n\u001b[0;32m--> 175\u001b[0;31m         \u001b[0m_REGISTRY\u001b[0m\u001b[0;34m.\u001b[0m\u001b[0mget_writer\u001b[0m\u001b[0;34m(\u001b[0m\u001b[0mdest_type\u001b[0m\u001b[0;34m,\u001b[0m \u001b[0mt\u001b[0m\u001b[0;34m,\u001b[0m \u001b[0mmodifiers\u001b[0m\u001b[0;34m)\u001b[0m\u001b[0;34m(\u001b[0m\u001b[0mf\u001b[0m\u001b[0;34m,\u001b[0m \u001b[0mk\u001b[0m\u001b[0;34m,\u001b[0m \u001b[0melem\u001b[0m\u001b[0;34m,\u001b[0m \u001b[0;34m*\u001b[0m\u001b[0margs\u001b[0m\u001b[0;34m,\u001b[0m \u001b[0;34m**\u001b[0m\u001b[0mkwargs\u001b[0m\u001b[0;34m)\u001b[0m\u001b[0;34m\u001b[0m\u001b[0;34m\u001b[0m\u001b[0m\n\u001b[0m\u001b[1;32m    176\u001b[0m \u001b[0;34m\u001b[0m\u001b[0m\n",
      "\u001b[0;32m~/anaconda3/lib/python3.9/site-packages/anndata/_io/specs/registry.py\u001b[0m in \u001b[0;36mget_writer\u001b[0;34m(self, dest_type, typ, modifiers)\u001b[0m\n\u001b[1;32m     63\u001b[0m         \u001b[0;32mif\u001b[0m \u001b[0;34m(\u001b[0m\u001b[0mdest_type\u001b[0m\u001b[0;34m,\u001b[0m \u001b[0mtyp\u001b[0m\u001b[0;34m,\u001b[0m \u001b[0mmodifiers\u001b[0m\u001b[0;34m)\u001b[0m \u001b[0;32mnot\u001b[0m \u001b[0;32min\u001b[0m \u001b[0mself\u001b[0m\u001b[0;34m.\u001b[0m\u001b[0mwrite\u001b[0m\u001b[0;34m:\u001b[0m\u001b[0;34m\u001b[0m\u001b[0;34m\u001b[0m\u001b[0m\n\u001b[0;32m---> 64\u001b[0;31m             raise TypeError(\n\u001b[0m\u001b[1;32m     65\u001b[0m                 \u001b[0;34mf\"No method has been defined for writing {typ} elements to {dest_type}\"\u001b[0m\u001b[0;34m\u001b[0m\u001b[0;34m\u001b[0m\u001b[0m\n",
      "\u001b[0;31mTypeError\u001b[0m: No method has been defined for writing <class 'cellrank.tl._lineage.Lineage'> elements to <class 'h5py._hl.group.Group'>",
      "\nThe above exception was the direct cause of the following exception:\n",
      "\u001b[0;31mTypeError\u001b[0m                                 Traceback (most recent call last)",
      "\u001b[0;32m/tmp/ipykernel_178141/4275676458.py\u001b[0m in \u001b[0;36m<module>\u001b[0;34m\u001b[0m\n\u001b[1;32m      1\u001b[0m \u001b[0mresults_file\u001b[0m \u001b[0;34m=\u001b[0m \u001b[0;34m'./figures/adult_germsubsetforcellrank_results1229.h5ad'\u001b[0m\u001b[0;34m\u001b[0m\u001b[0;34m\u001b[0m\u001b[0m\n\u001b[0;32m----> 2\u001b[0;31m \u001b[0madata\u001b[0m\u001b[0;34m.\u001b[0m\u001b[0mwrite\u001b[0m\u001b[0;34m(\u001b[0m\u001b[0mresults_file\u001b[0m\u001b[0;34m)\u001b[0m\u001b[0;34m\u001b[0m\u001b[0;34m\u001b[0m\u001b[0m\n\u001b[0m",
      "\u001b[0;32m~/anaconda3/lib/python3.9/site-packages/anndata/_core/anndata.py\u001b[0m in \u001b[0;36mwrite_h5ad\u001b[0;34m(self, filename, compression, compression_opts, force_dense, as_dense)\u001b[0m\n\u001b[1;32m   1916\u001b[0m             \u001b[0mfilename\u001b[0m \u001b[0;34m=\u001b[0m \u001b[0mself\u001b[0m\u001b[0;34m.\u001b[0m\u001b[0mfilename\u001b[0m\u001b[0;34m\u001b[0m\u001b[0;34m\u001b[0m\u001b[0m\n\u001b[1;32m   1917\u001b[0m \u001b[0;34m\u001b[0m\u001b[0m\n\u001b[0;32m-> 1918\u001b[0;31m         _write_h5ad(\n\u001b[0m\u001b[1;32m   1919\u001b[0m             \u001b[0mPath\u001b[0m\u001b[0;34m(\u001b[0m\u001b[0mfilename\u001b[0m\u001b[0;34m)\u001b[0m\u001b[0;34m,\u001b[0m\u001b[0;34m\u001b[0m\u001b[0;34m\u001b[0m\u001b[0m\n\u001b[1;32m   1920\u001b[0m             \u001b[0mself\u001b[0m\u001b[0;34m,\u001b[0m\u001b[0;34m\u001b[0m\u001b[0;34m\u001b[0m\u001b[0m\n",
      "\u001b[0;32m~/anaconda3/lib/python3.9/site-packages/anndata/_io/h5ad.py\u001b[0m in \u001b[0;36mwrite_h5ad\u001b[0;34m(filepath, adata, force_dense, as_dense, dataset_kwargs, **kwargs)\u001b[0m\n\u001b[1;32m     98\u001b[0m         \u001b[0mwrite_elem\u001b[0m\u001b[0;34m(\u001b[0m\u001b[0mf\u001b[0m\u001b[0;34m,\u001b[0m \u001b[0;34m\"obs\"\u001b[0m\u001b[0;34m,\u001b[0m \u001b[0madata\u001b[0m\u001b[0;34m.\u001b[0m\u001b[0mobs\u001b[0m\u001b[0;34m,\u001b[0m \u001b[0mdataset_kwargs\u001b[0m\u001b[0;34m=\u001b[0m\u001b[0mdataset_kwargs\u001b[0m\u001b[0;34m)\u001b[0m\u001b[0;34m\u001b[0m\u001b[0;34m\u001b[0m\u001b[0m\n\u001b[1;32m     99\u001b[0m         \u001b[0mwrite_elem\u001b[0m\u001b[0;34m(\u001b[0m\u001b[0mf\u001b[0m\u001b[0;34m,\u001b[0m \u001b[0;34m\"var\"\u001b[0m\u001b[0;34m,\u001b[0m \u001b[0madata\u001b[0m\u001b[0;34m.\u001b[0m\u001b[0mvar\u001b[0m\u001b[0;34m,\u001b[0m \u001b[0mdataset_kwargs\u001b[0m\u001b[0;34m=\u001b[0m\u001b[0mdataset_kwargs\u001b[0m\u001b[0;34m)\u001b[0m\u001b[0;34m\u001b[0m\u001b[0;34m\u001b[0m\u001b[0m\n\u001b[0;32m--> 100\u001b[0;31m         \u001b[0mwrite_elem\u001b[0m\u001b[0;34m(\u001b[0m\u001b[0mf\u001b[0m\u001b[0;34m,\u001b[0m \u001b[0;34m\"obsm\"\u001b[0m\u001b[0;34m,\u001b[0m \u001b[0mdict\u001b[0m\u001b[0;34m(\u001b[0m\u001b[0madata\u001b[0m\u001b[0;34m.\u001b[0m\u001b[0mobsm\u001b[0m\u001b[0;34m)\u001b[0m\u001b[0;34m,\u001b[0m \u001b[0mdataset_kwargs\u001b[0m\u001b[0;34m=\u001b[0m\u001b[0mdataset_kwargs\u001b[0m\u001b[0;34m)\u001b[0m\u001b[0;34m\u001b[0m\u001b[0;34m\u001b[0m\u001b[0m\n\u001b[0m\u001b[1;32m    101\u001b[0m         \u001b[0mwrite_elem\u001b[0m\u001b[0;34m(\u001b[0m\u001b[0mf\u001b[0m\u001b[0;34m,\u001b[0m \u001b[0;34m\"varm\"\u001b[0m\u001b[0;34m,\u001b[0m \u001b[0mdict\u001b[0m\u001b[0;34m(\u001b[0m\u001b[0madata\u001b[0m\u001b[0;34m.\u001b[0m\u001b[0mvarm\u001b[0m\u001b[0;34m)\u001b[0m\u001b[0;34m,\u001b[0m \u001b[0mdataset_kwargs\u001b[0m\u001b[0;34m=\u001b[0m\u001b[0mdataset_kwargs\u001b[0m\u001b[0;34m)\u001b[0m\u001b[0;34m\u001b[0m\u001b[0;34m\u001b[0m\u001b[0m\n\u001b[1;32m    102\u001b[0m         \u001b[0mwrite_elem\u001b[0m\u001b[0;34m(\u001b[0m\u001b[0mf\u001b[0m\u001b[0;34m,\u001b[0m \u001b[0;34m\"obsp\"\u001b[0m\u001b[0;34m,\u001b[0m \u001b[0mdict\u001b[0m\u001b[0;34m(\u001b[0m\u001b[0madata\u001b[0m\u001b[0;34m.\u001b[0m\u001b[0mobsp\u001b[0m\u001b[0;34m)\u001b[0m\u001b[0;34m,\u001b[0m \u001b[0mdataset_kwargs\u001b[0m\u001b[0;34m=\u001b[0m\u001b[0mdataset_kwargs\u001b[0m\u001b[0;34m)\u001b[0m\u001b[0;34m\u001b[0m\u001b[0;34m\u001b[0m\u001b[0m\n",
      "\u001b[0;32m~/anaconda3/lib/python3.9/site-packages/anndata/_io/utils.py\u001b[0m in \u001b[0;36mfunc_wrapper\u001b[0;34m(elem, key, val, *args, **kwargs)\u001b[0m\n\u001b[1;32m    212\u001b[0m     \u001b[0;32mdef\u001b[0m \u001b[0mfunc_wrapper\u001b[0m\u001b[0;34m(\u001b[0m\u001b[0melem\u001b[0m\u001b[0;34m,\u001b[0m \u001b[0mkey\u001b[0m\u001b[0;34m,\u001b[0m \u001b[0mval\u001b[0m\u001b[0;34m,\u001b[0m \u001b[0;34m*\u001b[0m\u001b[0margs\u001b[0m\u001b[0;34m,\u001b[0m \u001b[0;34m**\u001b[0m\u001b[0mkwargs\u001b[0m\u001b[0;34m)\u001b[0m\u001b[0;34m:\u001b[0m\u001b[0;34m\u001b[0m\u001b[0;34m\u001b[0m\u001b[0m\n\u001b[1;32m    213\u001b[0m         \u001b[0;32mtry\u001b[0m\u001b[0;34m:\u001b[0m\u001b[0;34m\u001b[0m\u001b[0;34m\u001b[0m\u001b[0m\n\u001b[0;32m--> 214\u001b[0;31m             \u001b[0;32mreturn\u001b[0m \u001b[0mfunc\u001b[0m\u001b[0;34m(\u001b[0m\u001b[0melem\u001b[0m\u001b[0;34m,\u001b[0m \u001b[0mkey\u001b[0m\u001b[0;34m,\u001b[0m \u001b[0mval\u001b[0m\u001b[0;34m,\u001b[0m \u001b[0;34m*\u001b[0m\u001b[0margs\u001b[0m\u001b[0;34m,\u001b[0m \u001b[0;34m**\u001b[0m\u001b[0mkwargs\u001b[0m\u001b[0;34m)\u001b[0m\u001b[0;34m\u001b[0m\u001b[0;34m\u001b[0m\u001b[0m\n\u001b[0m\u001b[1;32m    215\u001b[0m         \u001b[0;32mexcept\u001b[0m \u001b[0mException\u001b[0m \u001b[0;32mas\u001b[0m \u001b[0me\u001b[0m\u001b[0;34m:\u001b[0m\u001b[0;34m\u001b[0m\u001b[0;34m\u001b[0m\u001b[0m\n\u001b[1;32m    216\u001b[0m             \u001b[0;32mif\u001b[0m \u001b[0;34m\"Above error raised while writing key\"\u001b[0m \u001b[0;32min\u001b[0m \u001b[0mformat\u001b[0m\u001b[0;34m(\u001b[0m\u001b[0me\u001b[0m\u001b[0;34m)\u001b[0m\u001b[0;34m:\u001b[0m\u001b[0;34m\u001b[0m\u001b[0;34m\u001b[0m\u001b[0m\n",
      "\u001b[0;32m~/anaconda3/lib/python3.9/site-packages/anndata/_io/specs/registry.py\u001b[0m in \u001b[0;36mwrite_elem\u001b[0;34m(f, k, elem, modifiers, *args, **kwargs)\u001b[0m\n\u001b[1;32m    173\u001b[0m         )\n\u001b[1;32m    174\u001b[0m     \u001b[0;32melse\u001b[0m\u001b[0;34m:\u001b[0m\u001b[0;34m\u001b[0m\u001b[0;34m\u001b[0m\u001b[0m\n\u001b[0;32m--> 175\u001b[0;31m         \u001b[0m_REGISTRY\u001b[0m\u001b[0;34m.\u001b[0m\u001b[0mget_writer\u001b[0m\u001b[0;34m(\u001b[0m\u001b[0mdest_type\u001b[0m\u001b[0;34m,\u001b[0m \u001b[0mt\u001b[0m\u001b[0;34m,\u001b[0m \u001b[0mmodifiers\u001b[0m\u001b[0;34m)\u001b[0m\u001b[0;34m(\u001b[0m\u001b[0mf\u001b[0m\u001b[0;34m,\u001b[0m \u001b[0mk\u001b[0m\u001b[0;34m,\u001b[0m \u001b[0melem\u001b[0m\u001b[0;34m,\u001b[0m \u001b[0;34m*\u001b[0m\u001b[0margs\u001b[0m\u001b[0;34m,\u001b[0m \u001b[0;34m**\u001b[0m\u001b[0mkwargs\u001b[0m\u001b[0;34m)\u001b[0m\u001b[0;34m\u001b[0m\u001b[0;34m\u001b[0m\u001b[0m\n\u001b[0m\u001b[1;32m    176\u001b[0m \u001b[0;34m\u001b[0m\u001b[0m\n\u001b[1;32m    177\u001b[0m \u001b[0;34m\u001b[0m\u001b[0m\n",
      "\u001b[0;32m~/anaconda3/lib/python3.9/site-packages/anndata/_io/specs/registry.py\u001b[0m in \u001b[0;36mwrapper\u001b[0;34m(g, k, *args, **kwargs)\u001b[0m\n\u001b[1;32m     22\u001b[0m         \u001b[0;34m@\u001b[0m\u001b[0mwraps\u001b[0m\u001b[0;34m(\u001b[0m\u001b[0mfunc\u001b[0m\u001b[0;34m)\u001b[0m\u001b[0;34m\u001b[0m\u001b[0;34m\u001b[0m\u001b[0m\n\u001b[1;32m     23\u001b[0m         \u001b[0;32mdef\u001b[0m \u001b[0mwrapper\u001b[0m\u001b[0;34m(\u001b[0m\u001b[0mg\u001b[0m\u001b[0;34m,\u001b[0m \u001b[0mk\u001b[0m\u001b[0;34m,\u001b[0m \u001b[0;34m*\u001b[0m\u001b[0margs\u001b[0m\u001b[0;34m,\u001b[0m \u001b[0;34m**\u001b[0m\u001b[0mkwargs\u001b[0m\u001b[0;34m)\u001b[0m\u001b[0;34m:\u001b[0m\u001b[0;34m\u001b[0m\u001b[0;34m\u001b[0m\u001b[0m\n\u001b[0;32m---> 24\u001b[0;31m             \u001b[0mresult\u001b[0m \u001b[0;34m=\u001b[0m \u001b[0mfunc\u001b[0m\u001b[0;34m(\u001b[0m\u001b[0mg\u001b[0m\u001b[0;34m,\u001b[0m \u001b[0mk\u001b[0m\u001b[0;34m,\u001b[0m \u001b[0;34m*\u001b[0m\u001b[0margs\u001b[0m\u001b[0;34m,\u001b[0m \u001b[0;34m**\u001b[0m\u001b[0mkwargs\u001b[0m\u001b[0;34m)\u001b[0m\u001b[0;34m\u001b[0m\u001b[0;34m\u001b[0m\u001b[0m\n\u001b[0m\u001b[1;32m     25\u001b[0m             \u001b[0mg\u001b[0m\u001b[0;34m[\u001b[0m\u001b[0mk\u001b[0m\u001b[0;34m]\u001b[0m\u001b[0;34m.\u001b[0m\u001b[0mattrs\u001b[0m\u001b[0;34m.\u001b[0m\u001b[0msetdefault\u001b[0m\u001b[0;34m(\u001b[0m\u001b[0;34m\"encoding-type\"\u001b[0m\u001b[0;34m,\u001b[0m \u001b[0mspec\u001b[0m\u001b[0;34m.\u001b[0m\u001b[0mencoding_type\u001b[0m\u001b[0;34m)\u001b[0m\u001b[0;34m\u001b[0m\u001b[0;34m\u001b[0m\u001b[0m\n\u001b[1;32m     26\u001b[0m             \u001b[0mg\u001b[0m\u001b[0;34m[\u001b[0m\u001b[0mk\u001b[0m\u001b[0;34m]\u001b[0m\u001b[0;34m.\u001b[0m\u001b[0mattrs\u001b[0m\u001b[0;34m.\u001b[0m\u001b[0msetdefault\u001b[0m\u001b[0;34m(\u001b[0m\u001b[0;34m\"encoding-version\"\u001b[0m\u001b[0;34m,\u001b[0m \u001b[0mspec\u001b[0m\u001b[0;34m.\u001b[0m\u001b[0mencoding_version\u001b[0m\u001b[0;34m)\u001b[0m\u001b[0;34m\u001b[0m\u001b[0;34m\u001b[0m\u001b[0m\n",
      "\u001b[0;32m~/anaconda3/lib/python3.9/site-packages/anndata/_io/specs/methods.py\u001b[0m in \u001b[0;36mwrite_mapping\u001b[0;34m(f, k, v, dataset_kwargs)\u001b[0m\n\u001b[1;32m    279\u001b[0m     \u001b[0mg\u001b[0m \u001b[0;34m=\u001b[0m \u001b[0mf\u001b[0m\u001b[0;34m.\u001b[0m\u001b[0mcreate_group\u001b[0m\u001b[0;34m(\u001b[0m\u001b[0mk\u001b[0m\u001b[0;34m)\u001b[0m\u001b[0;34m\u001b[0m\u001b[0;34m\u001b[0m\u001b[0m\n\u001b[1;32m    280\u001b[0m     \u001b[0;32mfor\u001b[0m \u001b[0msub_k\u001b[0m\u001b[0;34m,\u001b[0m \u001b[0msub_v\u001b[0m \u001b[0;32min\u001b[0m \u001b[0mv\u001b[0m\u001b[0;34m.\u001b[0m\u001b[0mitems\u001b[0m\u001b[0;34m(\u001b[0m\u001b[0;34m)\u001b[0m\u001b[0;34m:\u001b[0m\u001b[0;34m\u001b[0m\u001b[0;34m\u001b[0m\u001b[0m\n\u001b[0;32m--> 281\u001b[0;31m         \u001b[0mwrite_elem\u001b[0m\u001b[0;34m(\u001b[0m\u001b[0mg\u001b[0m\u001b[0;34m,\u001b[0m \u001b[0msub_k\u001b[0m\u001b[0;34m,\u001b[0m \u001b[0msub_v\u001b[0m\u001b[0;34m,\u001b[0m \u001b[0mdataset_kwargs\u001b[0m\u001b[0;34m=\u001b[0m\u001b[0mdataset_kwargs\u001b[0m\u001b[0;34m)\u001b[0m\u001b[0;34m\u001b[0m\u001b[0;34m\u001b[0m\u001b[0m\n\u001b[0m\u001b[1;32m    282\u001b[0m \u001b[0;34m\u001b[0m\u001b[0m\n\u001b[1;32m    283\u001b[0m \u001b[0;34m\u001b[0m\u001b[0m\n",
      "\u001b[0;32m~/anaconda3/lib/python3.9/site-packages/anndata/_io/utils.py\u001b[0m in \u001b[0;36mfunc_wrapper\u001b[0;34m(elem, key, val, *args, **kwargs)\u001b[0m\n\u001b[1;32m    218\u001b[0m             \u001b[0;32melse\u001b[0m\u001b[0;34m:\u001b[0m\u001b[0;34m\u001b[0m\u001b[0;34m\u001b[0m\u001b[0m\n\u001b[1;32m    219\u001b[0m                 \u001b[0mparent\u001b[0m \u001b[0;34m=\u001b[0m \u001b[0m_get_parent\u001b[0m\u001b[0;34m(\u001b[0m\u001b[0melem\u001b[0m\u001b[0;34m)\u001b[0m\u001b[0;34m\u001b[0m\u001b[0;34m\u001b[0m\u001b[0m\n\u001b[0;32m--> 220\u001b[0;31m                 raise type(e)(\n\u001b[0m\u001b[1;32m    221\u001b[0m                     \u001b[0;34mf\"{e}\\n\\n\"\u001b[0m\u001b[0;34m\u001b[0m\u001b[0;34m\u001b[0m\u001b[0m\n\u001b[1;32m    222\u001b[0m                     \u001b[0;34mf\"Above error raised while writing key {key!r} of {type(elem)} \"\u001b[0m\u001b[0;34m\u001b[0m\u001b[0;34m\u001b[0m\u001b[0m\n",
      "\u001b[0;31mTypeError\u001b[0m: No method has been defined for writing <class 'cellrank.tl._lineage.Lineage'> elements to <class 'h5py._hl.group.Group'>\n\nAbove error raised while writing key 'terminal_states_memberships' of <class 'h5py._hl.group.Group'> to /"
     ]
    }
   ],
   "source": [
    "results_file = './figures/adult_germsubsetforcellrank_results1229.h5ad'\n",
    "adata.write(results_file)"
   ]
  },
  {
   "cell_type": "code",
   "execution_count": null,
   "id": "851d61ef-90a0-460f-9281-4e7f8832a02c",
   "metadata": {},
   "outputs": [],
   "source": []
  }
 ],
 "metadata": {
  "kernelspec": {
   "display_name": "Python 3 (ipykernel)",
   "language": "python",
   "name": "python3"
  },
  "language_info": {
   "codemirror_mode": {
    "name": "ipython",
    "version": 3
   },
   "file_extension": ".py",
   "mimetype": "text/x-python",
   "name": "python",
   "nbconvert_exporter": "python",
   "pygments_lexer": "ipython3",
   "version": "3.9.7"
  }
 },
 "nbformat": 4,
 "nbformat_minor": 5
}
