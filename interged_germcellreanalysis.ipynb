{
 "cells": [
  {
   "cell_type": "code",
   "execution_count": 1,
   "id": "d783ee9b-2b89-45b1-8a94-a563893c4668",
   "metadata": {},
   "outputs": [
    {
     "name": "stdout",
     "output_type": "stream",
     "text": [
      "Running scvelo 0.2.4 (python 3.9.7) on 2023-02-18 09:35.\n"
     ]
    },
    {
     "name": "stderr",
     "output_type": "stream",
     "text": [
      "ERROR: XMLRPC request failed [code: -32500]\n",
      "RuntimeError: PyPI no longer supports 'pip search' (or XML-RPC search). Please use https://pypi.org/search (via a browser) instead. See https://warehouse.pypa.io/api-reference/xml-rpc.html#deprecated-methods for more information.\n"
     ]
    }
   ],
   "source": [
    "import scanpy as sc\n",
    "import pandas as pd\n",
    "import numpy as np\n",
    "import doubletdetection\n",
    "import matplotlib as mpl\n",
    "import matplotlib.pyplot as plt\n",
    "mpl.rcParams['pdf.fonttype'] = 42\n",
    "mpl.rcParams['font.sans-serif'] = \"Arial\"\n",
    "import scvelo as scv\n",
    "scv.logging.print_version()\n",
    "scv.settings.verbosity = 3  # show errors(0), warnings(1), info(2), hints(3)\n",
    "scv.settings.presenter_view = True  # set max width size for presenter view\n",
    "scv.settings.set_figure_params('scvelo')  # for beautified visualizationscv.settings.set_figure_params('scvelo') \n",
    "sc.settings.set_figure_params(dpi = 50, dpi_save = 600, figsize = (4, 4))"
   ]
  },
  {
   "cell_type": "code",
   "execution_count": 2,
   "id": "c3c74429-cae5-46e7-84fe-4ba86e37f9de",
   "metadata": {},
   "outputs": [
    {
     "data": {
      "text/plain": [
       "AnnData object with n_obs × n_vars = 11696 × 2698\n",
       "    obs: 'Sample', 'n_genes', 'n_genes_by_counts', 'total_counts', 'total_counts_mt', 'pct_counts_mt', 'total_counts_chrX', 'pct_counts_chrX', 'total_counts_chrY', 'pct_counts_chrY', 'S_score', 'G2M_score', 'phase', 'doublet', 'doublet_score', 'leiden', 'cell_type'\n",
       "    var: 'gene_ids', 'feature_types', 'genome', 'n_counts', 'mt', 'n_cells_by_counts', 'mean_counts', 'pct_dropout_by_counts', 'total_counts', 'chrX', 'chrY', 'highly_variable', 'means', 'dispersions', 'dispersions_norm', 'mean', 'std'\n",
       "    uns: 'Sample_colors', 'cell_type_colors', 'dendrogram_cell_type', 'dendrogram_leiden', 'hvg', 'leiden', 'leiden_colors', 'log1p', 'neighbors', 'pca', 'rank_genes_groups', 'tsne', 'umap'\n",
       "    obsm: 'X_pca', 'X_tsne', 'X_umap'\n",
       "    varm: 'PCs'\n",
       "    obsp: 'connectivities', 'distances'"
      ]
     },
     "execution_count": 2,
     "metadata": {},
     "output_type": "execute_result"
    }
   ],
   "source": [
    "adata = sc.read('/public/home/zhaox/pigscRNA-seq/intergedbbknn_germsubset1212.h5ad') \n",
    "adata"
   ]
  },
  {
   "cell_type": "code",
   "execution_count": 19,
   "id": "329a20df-d839-4946-8f32-de0884bae534",
   "metadata": {},
   "outputs": [
    {
     "data": {
      "text/plain": [
       "adult_AAACCCAAGATGTAGT-1         Round spermatids\n",
       "adult_AAACCCAAGCCGCTTG-1         Round spermatids\n",
       "adult_AAACCCAAGGCTCTAT-1       Diff spermatogonia\n",
       "adult_AAACCCAAGTAAACAC-1    Elongating spermatids\n",
       "adult_AAACCCAAGTGGAAGA-1    Elongating spermatids\n",
       "                                    ...          \n",
       "neo_TTTCCTCCACTAGTAC-1         Diff spermatogonia\n",
       "neo_TTTCCTCTCACCCTGT-1         Diff spermatogonia\n",
       "neo_TTTGGTTGTTCGGCCA-1         Diff spermatogonia\n",
       "neo_TTTGTTGCAGGCTCTG-1         Diff spermatogonia\n",
       "neo_TTTGTTGTCGCACGAC-1       Undiff spermatogonia\n",
       "Name: cell_type, Length: 11696, dtype: category\n",
       "Categories (5, object): ['Undiff spermatogonia', 'Diff spermatogonia', 'Spermatocytes', 'Round spermatids', 'Elongating spermatids']"
      ]
     },
     "execution_count": 19,
     "metadata": {},
     "output_type": "execute_result"
    }
   ],
   "source": [
    "adata.obs.cell_type"
   ]
  },
  {
   "cell_type": "code",
   "execution_count": 20,
   "id": "7c5dcd8c-ce2c-4938-969c-542f8ef25711",
   "metadata": {},
   "outputs": [
    {
     "data": {
      "text/plain": [
       "AnnData object with n_obs × n_vars = 4255 × 2698\n",
       "    obs: 'Sample', 'n_genes', 'n_genes_by_counts', 'total_counts', 'total_counts_mt', 'pct_counts_mt', 'total_counts_chrX', 'pct_counts_chrX', 'total_counts_chrY', 'pct_counts_chrY', 'S_score', 'G2M_score', 'phase', 'doublet', 'doublet_score', 'leiden', 'cell_type'\n",
       "    var: 'gene_ids', 'feature_types', 'genome', 'n_counts', 'mt', 'n_cells_by_counts', 'mean_counts', 'pct_dropout_by_counts', 'total_counts', 'chrX', 'chrY', 'highly_variable', 'means', 'dispersions', 'dispersions_norm', 'mean', 'std'\n",
       "    uns: 'Sample_colors', 'cell_type_colors', 'dendrogram_cell_type', 'dendrogram_leiden', 'hvg', 'leiden', 'leiden_colors', 'log1p', 'neighbors', 'pca', 'rank_genes_groups', 'tsne', 'umap'\n",
       "    obsm: 'X_pca', 'X_tsne', 'X_umap'\n",
       "    varm: 'PCs'\n",
       "    obsp: 'connectivities', 'distances'"
      ]
     },
     "execution_count": 20,
     "metadata": {},
     "output_type": "execute_result"
    }
   ],
   "source": [
    "interged_germsubsetforscvelo = adata[adata.obs['cell_type'].isin(['Undiff spermatogonia', 'Diff spermatogonia'])].copy()\n",
    "interged_germsubsetforscvelo"
   ]
  },
  {
   "cell_type": "code",
   "execution_count": 21,
   "id": "e941f827-88cb-4b01-b1ac-5ef474c4c195",
   "metadata": {},
   "outputs": [
    {
     "data": {
      "text/plain": [
       "adult_AAACCCAAGGCTCTAT-1       Adult\n",
       "adult_AAACCCAGTCCAGGTC-1       Adult\n",
       "adult_AAACCCAGTTCGGCGT-1       Adult\n",
       "adult_AAACCCATCGCAGATT-1       Adult\n",
       "adult_AAACGAAAGGTGCTAG-1       Adult\n",
       "                              ...   \n",
       "neo_TTTCCTCCACTAGTAC-1      Neonatal\n",
       "neo_TTTCCTCTCACCCTGT-1      Neonatal\n",
       "neo_TTTGGTTGTTCGGCCA-1      Neonatal\n",
       "neo_TTTGTTGCAGGCTCTG-1      Neonatal\n",
       "neo_TTTGTTGTCGCACGAC-1      Neonatal\n",
       "Name: Sample, Length: 4255, dtype: category\n",
       "Categories (2, object): ['Adult', 'Neonatal']"
      ]
     },
     "execution_count": 21,
     "metadata": {},
     "output_type": "execute_result"
    }
   ],
   "source": [
    "interged_germsubsetforscvelo.obs.Sample"
   ]
  },
  {
   "cell_type": "code",
   "execution_count": 22,
   "id": "a384259c-8fef-443b-9e35-ca65c1c0fbe7",
   "metadata": {},
   "outputs": [
    {
     "data": {
      "text/plain": [
       "AnnData object with n_obs × n_vars = 4255 × 19094\n",
       "    obs: 'Sample', 'n_genes', 'n_genes_by_counts', 'total_counts', 'total_counts_mt', 'pct_counts_mt', 'total_counts_chrX', 'pct_counts_chrX', 'total_counts_chrY', 'pct_counts_chrY', 'S_score', 'G2M_score', 'phase', 'doublet', 'doublet_score', 'leiden', 'cell_type'\n",
       "    var: 'gene_ids', 'feature_types', 'genome', 'n_counts', 'mt', 'n_cells_by_counts', 'mean_counts', 'pct_dropout_by_counts', 'total_counts', 'chrX', 'chrY', 'highly_variable', 'means', 'dispersions', 'dispersions_norm'\n",
       "    uns: 'Sample_colors', 'cell_type_colors', 'dendrogram_cell_type', 'dendrogram_leiden', 'hvg', 'leiden', 'leiden_colors', 'log1p', 'neighbors', 'pca', 'rank_genes_groups', 'tsne', 'umap'\n",
       "    obsm: 'X_pca', 'X_tsne', 'X_umap'\n",
       "    obsp: 'connectivities', 'distances'"
      ]
     },
     "execution_count": 22,
     "metadata": {},
     "output_type": "execute_result"
    }
   ],
   "source": [
    "interged_germsubsetforscvelo = interged_germsubsetforscvelo.raw.to_adata()\n",
    "interged_germsubsetforscvelo"
   ]
  },
  {
   "cell_type": "code",
   "execution_count": 23,
   "id": "b51b1fd8-b82b-4271-9c6e-fe7f5833eb8b",
   "metadata": {},
   "outputs": [
    {
     "data": {
      "text/plain": [
       "AnnData object with n_obs × n_vars = 4255 × 19094\n",
       "    obs: 'Sample', 'n_genes', 'n_genes_by_counts', 'total_counts', 'total_counts_mt', 'pct_counts_mt', 'total_counts_chrX', 'pct_counts_chrX', 'total_counts_chrY', 'pct_counts_chrY', 'S_score', 'G2M_score', 'phase', 'doublet', 'doublet_score', 'leiden', 'cell_type'\n",
       "    var: 'gene_ids', 'feature_types', 'genome', 'n_counts', 'mt', 'n_cells_by_counts', 'mean_counts', 'pct_dropout_by_counts', 'total_counts', 'chrX', 'chrY', 'highly_variable', 'means', 'dispersions', 'dispersions_norm'\n",
       "    uns: 'Sample_colors', 'cell_type_colors', 'dendrogram_cell_type', 'dendrogram_leiden', 'hvg', 'leiden', 'leiden_colors', 'log1p', 'neighbors', 'pca', 'rank_genes_groups', 'tsne', 'umap'\n",
       "    obsm: 'X_pca', 'X_tsne', 'X_umap'\n",
       "    obsp: 'connectivities', 'distances'"
      ]
     },
     "execution_count": 23,
     "metadata": {},
     "output_type": "execute_result"
    }
   ],
   "source": [
    "interged_germsubsetforscvelo"
   ]
  },
  {
   "cell_type": "markdown",
   "id": "6d9e55db-fc05-4649-beb7-fb2c0b9f3f13",
   "metadata": {},
   "source": [
    "# 解决报错 KeyError: 'base'"
   ]
  },
  {
   "cell_type": "code",
   "execution_count": 24,
   "id": "394e38a4-4900-45d1-b79a-7d98c996ac2c",
   "metadata": {},
   "outputs": [],
   "source": [
    "interged_germsubsetforscvelo.uns['log1p'][\"base\"] = None"
   ]
  },
  {
   "cell_type": "code",
   "execution_count": 25,
   "id": "ad6d6168-e1ce-41e3-95e7-585b43c6b311",
   "metadata": {},
   "outputs": [],
   "source": [
    "sc.pp.highly_variable_genes(interged_germsubsetforscvelo, min_mean=0.0125, max_mean=3, min_disp=0.5)"
   ]
  },
  {
   "cell_type": "code",
   "execution_count": 26,
   "id": "751ee3fa-27b4-43b1-978b-db813be66efa",
   "metadata": {},
   "outputs": [
    {
     "name": "stdout",
     "output_type": "stream",
     "text": [
      "WARNING: saving figure to file figures/filter_genes_dispersionintergedgermfindhvgsubset0218.pdf\n"
     ]
    }
   ],
   "source": [
    "sc.pl.highly_variable_genes(interged_germsubsetforscvelo, save= \"intergedgermfindhvgsubset0218.pdf\")\n",
    "interged_germsubsetforscvelo.raw = interged_germsubsetforscvelo\n",
    "interged_germsubsetforscvelo = interged_germsubsetforscvelo[:, interged_germsubsetforscvelo.var.highly_variable]\n",
    "sc.pp.regress_out(interged_germsubsetforscvelo, ['total_counts', 'pct_counts_mt', 'S_score', 'G2M_score'])\n",
    "sc.pp.scale(interged_germsubsetforscvelo, max_value=10)"
   ]
  },
  {
   "cell_type": "code",
   "execution_count": 27,
   "id": "fd6baee6-328a-46d6-afe1-d5b3230d12b3",
   "metadata": {},
   "outputs": [],
   "source": [
    "sc.tl.pca(interged_germsubsetforscvelo, svd_solver='arpack')\n",
    "sc.pp.neighbors(interged_germsubsetforscvelo, n_neighbors=10, n_pcs=40)\n",
    "sc.tl.tsne(interged_germsubsetforscvelo)\n",
    "sc.tl.umap(interged_germsubsetforscvelo)\n",
    "sc.tl.leiden(interged_germsubsetforscvelo,resolution=0.3)"
   ]
  },
  {
   "cell_type": "code",
   "execution_count": 28,
   "id": "22a96ed6-7182-4d96-8cb2-246ec1330c43",
   "metadata": {},
   "outputs": [
    {
     "name": "stdout",
     "output_type": "stream",
     "text": [
      "WARNING: saving figure to file figures/umapinterged_germsubsetforscveloleiden0217.pdf\n",
      "WARNING: saving figure to file figures/tsneinterged_germsubsetforscveloleiden0217.pdf\n"
     ]
    }
   ],
   "source": [
    "sc.settings.set_figure_params(dpi = 50, dpi_save = 600, figsize = (4, 4))\n",
    "sc.pl.umap(interged_germsubsetforscvelo, color='leiden',legend_loc='right margin',save='interged_germsubsetforscveloleiden0217.pdf')\n",
    "sc.pl.tsne(interged_germsubsetforscvelo, color='leiden',legend_loc='right margin',save='interged_germsubsetforscveloleiden0217.pdf')"
   ]
  },
  {
   "cell_type": "code",
   "execution_count": 29,
   "id": "df003dbf-ef66-40af-bbc0-39a2b810acde",
   "metadata": {},
   "outputs": [
    {
     "name": "stdout",
     "output_type": "stream",
     "text": [
      "WARNING: saving figure to file figures/umapintergedsample_germsubsetforscveloleiden0217.pdf\n"
     ]
    }
   ],
   "source": [
    "sc.settings.set_figure_params(dpi = 50, dpi_save = 600, figsize = (4, 4))\n",
    "sc.pl.umap(interged_germsubsetforscvelo, color='Sample',legend_loc='right margin',save='intergedsample_germsubsetforscveloleiden0217.pdf')"
   ]
  },
  {
   "cell_type": "code",
   "execution_count": 30,
   "id": "3dfac977-8e42-4a30-a38a-323321acb569",
   "metadata": {},
   "outputs": [],
   "source": [
    "sc.tl.rank_genes_groups(interged_germsubsetforscvelo, 'leiden', method='wilcoxon')"
   ]
  },
  {
   "cell_type": "code",
   "execution_count": 31,
   "id": "e4bde71f-2131-47af-ab76-4f4397d37764",
   "metadata": {},
   "outputs": [],
   "source": [
    "pd.DataFrame(interged_germsubsetforscvelo.uns['rank_genes_groups']['names']).head(5)\n",
    "interged_germsubsetforscvelo.uns['rank_genes_groups'].keys()\n",
    "#dict_keys(['logfoldchanges', 'names', 'params', 'pvals', 'pvals_adj', 'scores'])\n",
    "result = interged_germsubsetforscvelo.uns['rank_genes_groups']\n",
    "groups = result['names'].dtype.names\n",
    "pd.DataFrame(\n",
    "    {group + '_' + key[:1]: result[key][group]\n",
    "    for group in groups for key in ['names', 'pvals']}).head(5)\n",
    "res = pd.DataFrame(    \n",
    "    {group + '_' + key: result[key][group]    \n",
    "    for group in groups for key in ['names', 'pvals','logfoldchanges','pvals_adj','scores']})\n",
    "res.to_csv(\"./diff_rank_genes_groups_interged_germsubsetforscveloleiden0218.csv\")"
   ]
  },
  {
   "cell_type": "code",
   "execution_count": 32,
   "id": "21a65fce-7e23-46c8-b8a1-c79ab8076bd9",
   "metadata": {},
   "outputs": [],
   "source": [
    "cell_cycle_genes = [x.strip() for x in open('/public/home/zhaox/pigscRNA-seq/cell_cycle_genes (remove).txt')]\n",
    "s_genes = cell_cycle_genes[:43]\n",
    "g2m_genes = cell_cycle_genes[43:]"
   ]
  },
  {
   "cell_type": "code",
   "execution_count": 33,
   "id": "720ca9ed-c097-439c-a9c6-d2d85ccc4d04",
   "metadata": {},
   "outputs": [
    {
     "name": "stdout",
     "output_type": "stream",
     "text": [
      "WARNING: saving figure to file figures/heatmapg1scellcycle_intergedgermsubsetforscvelo0218.pdf\n",
      "WARNING: saving figure to file figures/heatmapg2mcellcycle_intergedgermsubsetforscvelo0218.pdf\n"
     ]
    }
   ],
   "source": [
    "ax = sc.pl.heatmap(interged_germsubsetforscvelo, s_genes, groupby='leiden', vmin=-2, vmax=2, cmap='RdBu_r', dendrogram=False, show_gene_labels=False,swap_axes=True, figsize=(11,4),save='g1scellcycle_intergedgermsubsetforscvelo0218.pdf')\n",
    "ax = sc.pl.heatmap(interged_germsubsetforscvelo, g2m_genes, groupby='leiden', vmin=-2, vmax=2, cmap='RdBu_r', dendrogram=False, show_gene_labels=False,swap_axes=True, figsize=(11,4),save='g2mcellcycle_intergedgermsubsetforscvelo0218.pdf')"
   ]
  },
  {
   "cell_type": "code",
   "execution_count": 34,
   "id": "d333d484-aa43-4481-ba6e-3095d5224d27",
   "metadata": {},
   "outputs": [],
   "source": [
    "results_file = './interged_germsubsetforscvelo_0218unannotation.h5ad'\n",
    "interged_germsubsetforscvelo.write(results_file)"
   ]
  },
  {
   "cell_type": "code",
   "execution_count": 61,
   "id": "f97c9222-ae06-46fc-8f47-809fae4ffefa",
   "metadata": {},
   "outputs": [
    {
     "data": {
      "text/plain": [
       "adult_AAACCCAAGGCTCTAT-1    3\n",
       "adult_AAACCCAGTCCAGGTC-1    3\n",
       "adult_AAACCCAGTTCGGCGT-1    3\n",
       "adult_AAACCCATCGCAGATT-1    1\n",
       "adult_AAACGAAAGGTGCTAG-1    1\n",
       "                           ..\n",
       "neo_TTTCCTCCACTAGTAC-1      8\n",
       "neo_TTTCCTCTCACCCTGT-1      8\n",
       "neo_TTTGGTTGTTCGGCCA-1      4\n",
       "neo_TTTGTTGCAGGCTCTG-1      8\n",
       "neo_TTTGTTGTCGCACGAC-1      6\n",
       "Name: leiden, Length: 4255, dtype: category\n",
       "Categories (10, object): ['0', '1', '2', '3', ..., '6', '7', '8', '9']"
      ]
     },
     "execution_count": 61,
     "metadata": {},
     "output_type": "execute_result"
    }
   ],
   "source": [
    "interged_germsubsetforscvelo.obs.leiden"
   ]
  },
  {
   "cell_type": "code",
   "execution_count": 62,
   "id": "7f89c732-8ad2-4d92-a9db-75856d24da81",
   "metadata": {},
   "outputs": [],
   "source": [
    "marker_genes_dict = {\n",
    "    'SSC': ['UCHL1', 'BNC2', 'UTF1','GFRA1','ETV5','FGFR3'],\n",
    "    'Diffing SPG': ['KIT', 'MKI67','SOHLH1','DMRT1'],\n",
    "    'Diffed SPG': ['STRA8'],\n",
    "    'Meiotic genes':['SYCP3','SYCP2']\n",
    "}"
   ]
  },
  {
   "cell_type": "code",
   "execution_count": 59,
   "id": "6376d8f7-6369-430f-bfac-0f5c9a9abf00",
   "metadata": {},
   "outputs": [
    {
     "name": "stdout",
     "output_type": "stream",
     "text": [
      "WARNING: Groups are not reordered because the `groupby` categories and the `var_group_labels` are different.\n",
      "categories: 0, 1, 2, etc.\n",
      "var_group_labels: SSC, Diffing SPG, Diffed SPG, etc.\n",
      "WARNING: saving figure to file figures/dotplot_intergedgerm_annotation0218.pdf\n"
     ]
    }
   ],
   "source": [
    "sc.tl.dendrogram(interged_germsubsetforscvelo,groupby=\"leiden\")\n",
    "sc.pl.dotplot(interged_germsubsetforscvelo, marker_genes_dict, 'leiden', standard_scale='var',dendrogram=True,save=\"intergedgerm_annotation0218.pdf\")"
   ]
  },
  {
   "cell_type": "code",
   "execution_count": 63,
   "id": "fc071b54-97ae-419b-91a7-d35d473b71e4",
   "metadata": {},
   "outputs": [],
   "source": [
    "cluster2annotation = {\n",
    "     '0': 'Diff SPG',\n",
    "     '1': 'Early diff SPG1',\n",
    "     '2': 'Early diff SPG(KIT)',\n",
    "     '3': 'Early diff SPG2',\n",
    "     '4': 'SSC1',\n",
    "     '5': 'Early diff SPG3',\n",
    "     '6': 'SSC3',\n",
    "     '7': 'SSC4',\n",
    "     '8': 'SSC2',\n",
    "     '9': 'Early diff SPG(KIT)',\n",
    "}\n",
    "interged_germsubsetforscvelo.obs['cell_type'] = interged_germsubsetforscvelo.obs['leiden'].map(cluster2annotation).astype('category')"
   ]
  },
  {
   "cell_type": "code",
   "execution_count": 64,
   "id": "909d7787-103c-4bde-a5e6-035b8db8833f",
   "metadata": {},
   "outputs": [
    {
     "data": {
      "text/plain": [
       "['Early diff SPG2',\n",
       " 'Early diff SPG1',\n",
       " 'Early diff SPG(KIT)',\n",
       " 'SSC4',\n",
       " 'Diff SPG',\n",
       " 'Early diff SPG3',\n",
       " 'SSC3',\n",
       " 'SSC1',\n",
       " 'SSC2']"
      ]
     },
     "execution_count": 64,
     "metadata": {},
     "output_type": "execute_result"
    }
   ],
   "source": [
    "interged_germsubsetforscvelo.obs['cell_type'].unique().tolist()"
   ]
  },
  {
   "cell_type": "code",
   "execution_count": 66,
   "id": "b9921bec-472c-49b4-84cc-f52e7c81e33c",
   "metadata": {},
   "outputs": [],
   "source": [
    "original_order = ['Early diff SPG2',\n",
    " 'Early diff SPG1',\n",
    " 'Early diff SPG(KIT)',\n",
    " 'SSC4',\n",
    " 'Diff SPG',\n",
    " 'Early diff SPG3',\n",
    " 'SSC3',\n",
    " 'SSC1',\n",
    " 'SSC2']\n",
    "interged_germsubsetforscvelo.obs['cell_type'] = interged_germsubsetforscvelo.obs['cell_type'].cat.set_categories(['SSC1', 'SSC2','SSC3', 'SSC4','Early diff SPG1','Early diff SPG2','Early diff SPG3','Early diff SPG(KIT)','Diff SPG'])"
   ]
  },
  {
   "cell_type": "code",
   "execution_count": 67,
   "id": "dc8d16a1-91f7-4c5c-9904-242ac7023cb3",
   "metadata": {},
   "outputs": [
    {
     "name": "stdout",
     "output_type": "stream",
     "text": [
      "WARNING: saving figure to file figures/umapinterged_germcelltyperight0219.pdf\n"
     ]
    },
    {
     "name": "stderr",
     "output_type": "stream",
     "text": [
      "/public/home/zhaox/anaconda3/lib/python3.9/site-packages/scanpy/_settings.py:447: DeprecationWarning: `set_matplotlib_formats` is deprecated since IPython 7.23, directly use `matplotlib_inline.backend_inline.set_matplotlib_formats()`\n",
      "  IPython.display.set_matplotlib_formats(*ipython_format)\n"
     ]
    }
   ],
   "source": [
    "sc.settings.set_figure_params(dpi = 50, dpi_save = 600, figsize = (4, 4))\n",
    "sc.pl.umap(interged_germsubsetforscvelo, color='cell_type', frameon=True, legend_loc= \"right margin\", legend_fontsize=10, legend_fontweight=\"normal\", legend_fontoutline=2, save=\"interged_germcelltyperight0219.pdf\")"
   ]
  },
  {
   "cell_type": "code",
   "execution_count": 68,
   "id": "077d111d-4083-45ee-81a6-394782dba0f4",
   "metadata": {},
   "outputs": [],
   "source": [
    "cell_cycle_genes = [x.strip() for x in open('/public/home/zhaox/pigscRNA-seq/cell_cycle_genes (remove).txt')]\n",
    "s_genes = cell_cycle_genes[:43]\n",
    "g2m_genes = cell_cycle_genes[43:]"
   ]
  },
  {
   "cell_type": "code",
   "execution_count": 69,
   "id": "f49fa8d2-3ac3-4139-9f27-ba1c039cc814",
   "metadata": {},
   "outputs": [
    {
     "name": "stdout",
     "output_type": "stream",
     "text": [
      "WARNING: saving figure to file figures/heatmapg1scellcycle_intergedgerm0219.pdf\n"
     ]
    },
    {
     "name": "stderr",
     "output_type": "stream",
     "text": [
      "/public/home/zhaox/anaconda3/lib/python3.9/site-packages/scanpy/plotting/_anndata.py:2511: MatplotlibDeprecationWarning: Auto-removal of grids by pcolor() and pcolormesh() is deprecated since 3.5 and will be removed two minor releases later; please call grid(False) first.\n",
      "  pl.colorbar(mappable, cax=heatmap_cbar_ax)\n"
     ]
    },
    {
     "name": "stdout",
     "output_type": "stream",
     "text": [
      "WARNING: saving figure to file figures/heatmapg2mcellcycle_intergedgerm0219.pdf\n"
     ]
    },
    {
     "name": "stderr",
     "output_type": "stream",
     "text": [
      "/public/home/zhaox/anaconda3/lib/python3.9/site-packages/scanpy/plotting/_anndata.py:2511: MatplotlibDeprecationWarning: Auto-removal of grids by pcolor() and pcolormesh() is deprecated since 3.5 and will be removed two minor releases later; please call grid(False) first.\n",
      "  pl.colorbar(mappable, cax=heatmap_cbar_ax)\n"
     ]
    }
   ],
   "source": [
    "ax = sc.pl.heatmap(interged_germsubsetforscvelo, s_genes, groupby='cell_type', vmin=-2, vmax=2, cmap='RdBu_r', dendrogram=False, show_gene_labels=False,swap_axes=True, figsize=(11,3),save='g1scellcycle_intergedgerm0219.pdf')\n",
    "ax = sc.pl.heatmap(interged_germsubsetforscvelo, g2m_genes, groupby='cell_type', vmin=-2, vmax=2, cmap='RdBu_r', dendrogram=False, show_gene_labels=False,swap_axes=True, figsize=(11,4),save='g2mcellcycle_intergedgerm0219.pdf')"
   ]
  },
  {
   "cell_type": "code",
   "execution_count": 70,
   "id": "b5b93eb9-27e4-432e-a1bf-c20e1dd1fa02",
   "metadata": {},
   "outputs": [],
   "source": [
    "sc.tl.rank_genes_groups(interged_germsubsetforscvelo, 'cell_type', method='wilcoxon')"
   ]
  },
  {
   "cell_type": "code",
   "execution_count": 71,
   "id": "e4f871de-4d44-4b7d-86f0-fc7e4d43180c",
   "metadata": {},
   "outputs": [],
   "source": [
    "pd.DataFrame(interged_germsubsetforscvelo.uns['rank_genes_groups']['names']).head(5)\n",
    "interged_germsubsetforscvelo.uns['rank_genes_groups'].keys()\n",
    "#dict_keys(['logfoldchanges', 'names', 'params', 'pvals', 'pvals_adj', 'scores'])\n",
    "result = interged_germsubsetforscvelo.uns['rank_genes_groups']\n",
    "groups = result['names'].dtype.names\n",
    "pd.DataFrame(\n",
    "    {group + '_' + key[:1]: result[key][group]\n",
    "    for group in groups for key in ['names', 'pvals']}).head(5)\n",
    "res = pd.DataFrame(    \n",
    "    {group + '_' + key: result[key][group]    \n",
    "    for group in groups for key in ['names', 'pvals','logfoldchanges','pvals_adj','scores']})\n",
    "res.to_csv(\"./diff_rank_genes_groups_intergedgerm_celltype0219.csv\")"
   ]
  },
  {
   "cell_type": "code",
   "execution_count": 72,
   "id": "914adf0a-fe24-4921-8601-dfde6d9e8970",
   "metadata": {},
   "outputs": [
    {
     "name": "stdout",
     "output_type": "stream",
     "text": [
      "WARNING: Gene labels are not shown when more than 50 genes are visualized. To show gene labels set `show_gene_labels=True`\n",
      "WARNING: saving figure to file figures/heatmapintergedgerm_useraw0219.pdf\n"
     ]
    },
    {
     "name": "stderr",
     "output_type": "stream",
     "text": [
      "/public/home/zhaox/anaconda3/lib/python3.9/site-packages/scanpy/plotting/_anndata.py:2511: MatplotlibDeprecationWarning: Auto-removal of grids by pcolor() and pcolormesh() is deprecated since 3.5 and will be removed two minor releases later; please call grid(False) first.\n",
      "  pl.colorbar(mappable, cax=heatmap_cbar_ax)\n"
     ]
    },
    {
     "data": {
      "text/plain": [
       "{'heatmap_ax': <AxesSubplot: >,\n",
       " 'groupby_ax': <AxesSubplot: ylabel='cell_type'>,\n",
       " 'gene_groups_ax': <AxesSubplot: >}"
      ]
     },
     "execution_count": 72,
     "metadata": {},
     "output_type": "execute_result"
    }
   ],
   "source": [
    "sc.pl.rank_genes_groups_heatmap(interged_germsubsetforscvelo, use_raw=True,vmin=-3, vmax=3, min_logfoldchange=1,groupby='cell_type',n_genes=50, cmap='RdBu_r', show=False,dendrogram=False, save = \"intergedgerm_useraw0219.pdf\")"
   ]
  },
  {
   "cell_type": "code",
   "execution_count": 73,
   "id": "c771079e-5373-4878-9009-84d9c8e46ee5",
   "metadata": {},
   "outputs": [
    {
     "name": "stdout",
     "output_type": "stream",
     "text": [
      "WARNING: saving figure to file figures/umapintergedgerm_markers0219.pdf\n"
     ]
    }
   ],
   "source": [
    "marker_genes = ['UCHL1', 'BNC2', 'UTF1','GFRA1','ETV5','KIT', 'MKI67','SOHLH1','DMRT1','STRA8']\n",
    "sc.pl.umap(interged_germsubsetforscvelo, color = marker_genes, ncols=5, save=\"intergedgerm_markers0219.pdf\")"
   ]
  },
  {
   "cell_type": "code",
   "execution_count": 74,
   "id": "b364c08b-7294-4b5e-b7fa-bf48922c573f",
   "metadata": {},
   "outputs": [
    {
     "data": {
      "text/plain": [
       "AnnData object with n_obs × n_vars = 4255 × 4458\n",
       "    obs: 'Sample', 'n_genes', 'n_genes_by_counts', 'total_counts', 'total_counts_mt', 'pct_counts_mt', 'total_counts_chrX', 'pct_counts_chrX', 'total_counts_chrY', 'pct_counts_chrY', 'S_score', 'G2M_score', 'phase', 'doublet', 'doublet_score', 'leiden', 'cell_type'\n",
       "    var: 'gene_ids', 'feature_types', 'genome', 'n_counts', 'mt', 'n_cells_by_counts', 'mean_counts', 'pct_dropout_by_counts', 'total_counts', 'chrX', 'chrY', 'highly_variable', 'means', 'dispersions', 'dispersions_norm', 'mean', 'std'\n",
       "    uns: 'Sample_colors', 'cell_type_colors', 'dendrogram_cell_type', 'dendrogram_leiden', 'hvg', 'leiden', 'leiden_colors', 'log1p', 'neighbors', 'pca', 'rank_genes_groups', 'tsne', 'umap'\n",
       "    obsm: 'X_pca', 'X_tsne', 'X_umap'\n",
       "    varm: 'PCs'\n",
       "    obsp: 'connectivities', 'distances'"
      ]
     },
     "execution_count": 74,
     "metadata": {},
     "output_type": "execute_result"
    }
   ],
   "source": [
    "interged_germsubsetforscvelo"
   ]
  },
  {
   "cell_type": "code",
   "execution_count": 75,
   "id": "60573bb1-fa97-4bdb-838c-6cdb8043686b",
   "metadata": {},
   "outputs": [],
   "source": [
    "results_file = './intergedgerm_annotation0219.h5ad'\n",
    "interged_germsubsetforscvelo.write(results_file)"
   ]
  },
  {
   "cell_type": "code",
   "execution_count": 76,
   "id": "87e5f8b7-0875-4f3e-b26f-8d3c8dc6362d",
   "metadata": {},
   "outputs": [
    {
     "data": {
      "text/plain": [
       "AnnData object with n_obs × n_vars = 4255 × 19094\n",
       "    obs: 'Sample', 'n_genes', 'n_genes_by_counts', 'total_counts', 'total_counts_mt', 'pct_counts_mt', 'total_counts_chrX', 'pct_counts_chrX', 'total_counts_chrY', 'pct_counts_chrY', 'S_score', 'G2M_score', 'phase', 'doublet', 'doublet_score', 'leiden', 'cell_type'\n",
       "    var: 'gene_ids', 'feature_types', 'genome', 'n_counts', 'mt', 'n_cells_by_counts', 'mean_counts', 'pct_dropout_by_counts', 'total_counts', 'chrX', 'chrY', 'highly_variable', 'means', 'dispersions', 'dispersions_norm'\n",
       "    uns: 'Sample_colors', 'cell_type_colors', 'dendrogram_cell_type', 'dendrogram_leiden', 'hvg', 'leiden', 'leiden_colors', 'log1p', 'neighbors', 'pca', 'rank_genes_groups', 'tsne', 'umap'\n",
       "    obsm: 'X_pca', 'X_tsne', 'X_umap'\n",
       "    obsp: 'connectivities', 'distances'"
      ]
     },
     "execution_count": 76,
     "metadata": {},
     "output_type": "execute_result"
    }
   ],
   "source": [
    "interged_germsubsetforcellrank = interged_germsubsetforscvelo.raw.to_adata()\n",
    "interged_germsubsetforcellrank"
   ]
  },
  {
   "cell_type": "code",
   "execution_count": 77,
   "id": "ebb7b482-d49e-418e-a395-d42ba770c138",
   "metadata": {},
   "outputs": [
    {
     "data": {
      "text/plain": [
       "adult_AAACCCAAGGCTCTAT-1       Adult\n",
       "adult_AAACCCAGTCCAGGTC-1       Adult\n",
       "adult_AAACCCAGTTCGGCGT-1       Adult\n",
       "adult_AAACCCATCGCAGATT-1       Adult\n",
       "adult_AAACGAAAGGTGCTAG-1       Adult\n",
       "                              ...   \n",
       "neo_TTTCCTCCACTAGTAC-1      Neonatal\n",
       "neo_TTTCCTCTCACCCTGT-1      Neonatal\n",
       "neo_TTTGGTTGTTCGGCCA-1      Neonatal\n",
       "neo_TTTGTTGCAGGCTCTG-1      Neonatal\n",
       "neo_TTTGTTGTCGCACGAC-1      Neonatal\n",
       "Name: Sample, Length: 4255, dtype: category\n",
       "Categories (2, object): ['Adult', 'Neonatal']"
      ]
     },
     "execution_count": 77,
     "metadata": {},
     "output_type": "execute_result"
    }
   ],
   "source": [
    "interged_germsubsetforcellrank.obs.Sample"
   ]
  },
  {
   "cell_type": "code",
   "execution_count": 78,
   "id": "1c9d554e-9241-4d69-b187-4d7abef6bb26",
   "metadata": {},
   "outputs": [
    {
     "data": {
      "text/plain": [
       "AnnData object with n_obs × n_vars = 3436 × 19094\n",
       "    obs: 'Sample', 'n_genes', 'n_genes_by_counts', 'total_counts', 'total_counts_mt', 'pct_counts_mt', 'total_counts_chrX', 'pct_counts_chrX', 'total_counts_chrY', 'pct_counts_chrY', 'S_score', 'G2M_score', 'phase', 'doublet', 'doublet_score', 'leiden', 'cell_type'\n",
       "    var: 'gene_ids', 'feature_types', 'genome', 'n_counts', 'mt', 'n_cells_by_counts', 'mean_counts', 'pct_dropout_by_counts', 'total_counts', 'chrX', 'chrY', 'highly_variable', 'means', 'dispersions', 'dispersions_norm'\n",
       "    uns: 'Sample_colors', 'cell_type_colors', 'dendrogram_cell_type', 'dendrogram_leiden', 'hvg', 'leiden', 'leiden_colors', 'log1p', 'neighbors', 'pca', 'rank_genes_groups', 'tsne', 'umap'\n",
       "    obsm: 'X_pca', 'X_tsne', 'X_umap'\n",
       "    obsp: 'connectivities', 'distances'"
      ]
     },
     "execution_count": 78,
     "metadata": {},
     "output_type": "execute_result"
    }
   ],
   "source": [
    "adata_adult = interged_germsubsetforcellrank[interged_germsubsetforcellrank.obs['Sample'].isin(['Adult'])].copy()\n",
    "adata_adult"
   ]
  },
  {
   "cell_type": "code",
   "execution_count": 79,
   "id": "d70fcd59-3149-45bb-a876-416cd0a64a37",
   "metadata": {},
   "outputs": [
    {
     "data": {
      "text/plain": [
       "AnnData object with n_obs × n_vars = 819 × 19094\n",
       "    obs: 'Sample', 'n_genes', 'n_genes_by_counts', 'total_counts', 'total_counts_mt', 'pct_counts_mt', 'total_counts_chrX', 'pct_counts_chrX', 'total_counts_chrY', 'pct_counts_chrY', 'S_score', 'G2M_score', 'phase', 'doublet', 'doublet_score', 'leiden', 'cell_type'\n",
       "    var: 'gene_ids', 'feature_types', 'genome', 'n_counts', 'mt', 'n_cells_by_counts', 'mean_counts', 'pct_dropout_by_counts', 'total_counts', 'chrX', 'chrY', 'highly_variable', 'means', 'dispersions', 'dispersions_norm'\n",
       "    uns: 'Sample_colors', 'cell_type_colors', 'dendrogram_cell_type', 'dendrogram_leiden', 'hvg', 'leiden', 'leiden_colors', 'log1p', 'neighbors', 'pca', 'rank_genes_groups', 'tsne', 'umap'\n",
       "    obsm: 'X_pca', 'X_tsne', 'X_umap'\n",
       "    obsp: 'connectivities', 'distances'"
      ]
     },
     "execution_count": 79,
     "metadata": {},
     "output_type": "execute_result"
    }
   ],
   "source": [
    "adata_neo = interged_germsubsetforcellrank[interged_germsubsetforcellrank.obs['Sample'].isin(['Neonatal'])].copy()\n",
    "adata_neo"
   ]
  },
  {
   "cell_type": "code",
   "execution_count": 80,
   "id": "8dba2d5a-8185-4afa-91b0-b55cbb6f5e96",
   "metadata": {},
   "outputs": [
    {
     "name": "stdout",
     "output_type": "stream",
     "text": [
      "saving figure to file ./figures/intergedadultproportions0218forscvelo.pdf\n",
      "saving figure to file ./figures/intergedadultgermcellforscvelospliced0218.pdf\n"
     ]
    }
   ],
   "source": [
    "adataadult_loom = scv.read('/public/home/zhaox/pigscRNA-seq/Adult/Adult.loom', cache=True)\n",
    "scv.pl.proportions(adataadult_loom,save=\"./figures/intergedadultproportions0218forscvelo.pdf\")\n",
    "adata_adult = scv.utils.merge(adata_adult, adataadult_loom)\n",
    "scv.pl.proportions(\n",
    "    adata_adult,\n",
    "    groupby='cell_type',\n",
    "    layers=None,\n",
    "    highlight='unspliced',\n",
    "    add_labels_pie=True,\n",
    "    add_labels_bar=True,\n",
    "    fontsize=8,\n",
    "    figsize=(15, 2),\n",
    "    dpi=600,\n",
    "    use_raw=True,\n",
    "    show=True,\n",
    "    save=\"./figures/intergedadultgermcellforscvelospliced0218.pdf\",\n",
    ")"
   ]
  },
  {
   "cell_type": "code",
   "execution_count": 81,
   "id": "817bbc13-4734-4d4f-957f-9c10cf0e2c31",
   "metadata": {},
   "outputs": [
    {
     "name": "stdout",
     "output_type": "stream",
     "text": [
      "saving figure to file ./figures/intergedneoproportions0218forscvelo.pdf\n",
      "saving figure to file ./figures/intergedneogermcellforscvelospliced0218.pdf\n"
     ]
    }
   ],
   "source": [
    "adataneo_loom = scv.read('/public/home/zhaox/pigscRNA-seq/P5/P5.loom', cache=True)\n",
    "scv.pl.proportions(adataneo_loom,save=\"./figures/intergedneoproportions0218forscvelo.pdf\")\n",
    "adata_neo = scv.utils.merge(adata_neo, adataneo_loom)\n",
    "scv.pl.proportions(\n",
    "    adata_neo,\n",
    "    groupby='cell_type',\n",
    "    layers=None,\n",
    "    highlight='unspliced',\n",
    "    add_labels_pie=True,\n",
    "    add_labels_bar=True,\n",
    "    fontsize=8,\n",
    "    figsize=(15, 2),\n",
    "    dpi=600,\n",
    "    use_raw=True,\n",
    "    show=True,\n",
    "    save=\"./figures/intergedneogermcellforscvelospliced0218.pdf\",\n",
    ")"
   ]
  },
  {
   "cell_type": "code",
   "execution_count": 82,
   "id": "c6335865-fe50-4bf8-ac35-5762b0c73541",
   "metadata": {},
   "outputs": [
    {
     "data": {
      "text/plain": [
       "AnnData object with n_obs × n_vars = 4255 × 19094\n",
       "    obs: 'Sample', 'n_genes', 'n_genes_by_counts', 'total_counts', 'total_counts_mt', 'pct_counts_mt', 'total_counts_chrX', 'pct_counts_chrX', 'total_counts_chrY', 'pct_counts_chrY', 'S_score', 'G2M_score', 'phase', 'doublet', 'doublet_score', 'leiden', 'cell_type', 'initial_size_spliced', 'initial_size_unspliced', 'initial_size'\n",
       "    var: 'gene_ids', 'feature_types', 'genome', 'n_counts', 'mt', 'n_cells_by_counts', 'mean_counts', 'pct_dropout_by_counts', 'total_counts', 'chrX', 'chrY', 'highly_variable', 'means', 'dispersions', 'dispersions_norm', 'Accession', 'Chromosome', 'End', 'Start', 'Strand'\n",
       "    obsm: 'X_pca', 'X_tsne', 'X_umap'\n",
       "    layers: 'ambiguous', 'matrix', 'spliced', 'unspliced'"
      ]
     },
     "execution_count": 82,
     "metadata": {},
     "output_type": "execute_result"
    }
   ],
   "source": [
    "import anndata as ad\n",
    "adatas = [adata_adult,adata_neo]\n",
    "adata = ad.concat(adatas,merge=\"same\")\n",
    "adata"
   ]
  },
  {
   "cell_type": "code",
   "execution_count": 83,
   "id": "cef5c21a-e99e-4119-aa22-9a7d81e0f026",
   "metadata": {},
   "outputs": [
    {
     "name": "stdout",
     "output_type": "stream",
     "text": [
      "Filtered out 6309 genes that are detected 20 counts (shared).\n",
      "WARNING: Did not normalize X as it looks processed already. To enforce normalization, set `enforce=True`.\n",
      "Normalized count data: spliced, unspliced.\n",
      "Extracted 2000 highly variable genes.\n",
      "WARNING: Did not modify X as it looks preprocessed already.\n",
      "computing neighbors\n",
      "    finished (0:00:00) --> added \n",
      "    'distances' and 'connectivities', weighted adjacency matrices (adata.obsp)\n",
      "computing moments based on connectivities\n",
      "    finished (0:00:00) --> added \n",
      "    'Ms' and 'Mu', moments of un/spliced abundances (adata.layers)\n"
     ]
    }
   ],
   "source": [
    "scv.pp.filter_and_normalize(adata, min_shared_counts=20, n_top_genes=2000)\n",
    "scv.pp.moments(adata, n_pcs=30, n_neighbors=30)"
   ]
  },
  {
   "cell_type": "code",
   "execution_count": 84,
   "id": "c9b8ffcf-f720-4249-a996-97ae3f1c403d",
   "metadata": {},
   "outputs": [
    {
     "name": "stdout",
     "output_type": "stream",
     "text": [
      "computing velocities\n",
      "    finished (0:00:02) --> added \n",
      "    'velocity', velocity vectors for each individual cell (adata.layers)\n"
     ]
    }
   ],
   "source": [
    "scv.tl.velocity(adata)"
   ]
  },
  {
   "cell_type": "code",
   "execution_count": 85,
   "id": "48d9198e-b046-45f3-82e1-3f9e3404ab49",
   "metadata": {},
   "outputs": [
    {
     "name": "stdout",
     "output_type": "stream",
     "text": [
      "computing velocity graph (using 1/24 cores)\n"
     ]
    },
    {
     "data": {
      "application/vnd.jupyter.widget-view+json": {
       "model_id": "4c880e6c4740495c912883d25214b7e1",
       "version_major": 2,
       "version_minor": 0
      },
      "text/plain": [
       "  0%|          | 0/4255 [00:00<?, ?cells/s]"
      ]
     },
     "metadata": {},
     "output_type": "display_data"
    },
    {
     "name": "stdout",
     "output_type": "stream",
     "text": [
      "    finished (0:00:17) --> added \n",
      "    'velocity_graph', sparse matrix with cosine correlations (adata.uns)\n"
     ]
    }
   ],
   "source": [
    "scv.tl.velocity_graph(adata)"
   ]
  },
  {
   "cell_type": "code",
   "execution_count": null,
   "id": "9c0341a8-2c24-44b4-a11c-2a5216d23383",
   "metadata": {},
   "outputs": [],
   "source": [
    "scv.pl.velocity_embedding_stream(adata, basis='umap',color='leiden',save='./figures/germcellforscvelo_embeddingstream1224.pdf')"
   ]
  },
  {
   "cell_type": "code",
   "execution_count": 86,
   "id": "523a1084-708e-4e28-97b5-6a26f6c27e3e",
   "metadata": {},
   "outputs": [
    {
     "name": "stdout",
     "output_type": "stream",
     "text": [
      "recovering dynamics (using 8/24 cores)\n"
     ]
    },
    {
     "data": {
      "application/vnd.jupyter.widget-view+json": {
       "model_id": "2dbd33324285476b98a77078ba9872af",
       "version_major": 2,
       "version_minor": 0
      },
      "text/plain": [
       "  0%|          | 0/1177 [00:00<?, ?gene/s]"
      ]
     },
     "metadata": {},
     "output_type": "display_data"
    },
    {
     "name": "stdout",
     "output_type": "stream",
     "text": [
      "    finished (0:01:54) --> added \n",
      "    'fit_pars', fitted parameters for splicing dynamics (adata.var)\n"
     ]
    }
   ],
   "source": [
    "scv.tl.recover_dynamics(adata, n_jobs=8)"
   ]
  },
  {
   "cell_type": "code",
   "execution_count": 87,
   "id": "650821ef-87c6-4abe-9502-451a663fd863",
   "metadata": {},
   "outputs": [
    {
     "name": "stdout",
     "output_type": "stream",
     "text": [
      "computing velocity embedding\n",
      "    finished (0:00:01) --> added\n",
      "    'velocity_umap', embedded velocity vectors (adata.obsm)\n",
      "saving figure to file ./intergedgermforcellrank_embeddingstream0218.pdf\n"
     ]
    }
   ],
   "source": [
    "scv.pl.velocity_embedding_stream(\n",
    "    adata, basis=\"umap\",color='cell_type', legend_fontsize=12, title=\"\", smooth=0.8, min_mass=4,save='./intergedgermforcellrank_embeddingstream0218.pdf'\n",
    ")"
   ]
  },
  {
   "cell_type": "code",
   "execution_count": 52,
   "id": "7ce4547a-699c-42ed-8c26-506242c68206",
   "metadata": {},
   "outputs": [],
   "source": [
    "import scvelo as scv\n",
    "import scanpy as sc\n",
    "import cellrank as cr\n",
    "import numpy as np\n",
    "scv.settings.verbosity = 3\n",
    "scv.settings.set_figure_params(\"scvelo\")\n",
    "cr.settings.verbosity = 2\n",
    "import warnings\n",
    "warnings.simplefilter(\"ignore\", category=UserWarning)\n",
    "warnings.simplefilter(\"ignore\", category=FutureWarning)\n",
    "warnings.simplefilter(\"ignore\", category=DeprecationWarning)"
   ]
  },
  {
   "cell_type": "code",
   "execution_count": 88,
   "id": "7e6f8224-3178-45bf-880a-2ab4dd168604",
   "metadata": {},
   "outputs": [
    {
     "name": "stdout",
     "output_type": "stream",
     "text": [
      "Accessing `adata.obsp['T_fwd']`\n"
     ]
    },
    {
     "name": "stderr",
     "output_type": "stream",
     "text": [
      "/tmp/ipykernel_48715/637574554.py:1: DeprecationWarning: `cellrank.tl.terminal_states` will be removed in version `2.0`. Please use the `cellrank.kernels` or `cellrank.estimators` interface instead.\n",
      "  cr.tl.terminal_states(adata, cluster_key=\"cell_type\", weight_connectivities=0.2)\n",
      "/public/home/zhaox/anaconda3/lib/python3.9/site-packages/cellrank/tl/_init_term_states.py:156: DeprecationWarning: `cellrank.tl.transition_matrix` will be removed in version `2.0`. Please use the `cellrank.kernels` or `cellrank.estimators` interface instead.\n",
      "  kernel = transition_matrix(\n"
     ]
    },
    {
     "name": "stdout",
     "output_type": "stream",
     "text": [
      "Computing transition matrix based on logits using `'deterministic'` mode\n",
      "Estimating `softmax_scale` using `'deterministic'` mode\n"
     ]
    },
    {
     "data": {
      "application/vnd.jupyter.widget-view+json": {
       "model_id": "85af113aadb949fa9195e3c6067f79d6",
       "version_major": 2,
       "version_minor": 0
      },
      "text/plain": [
       "  0%|          | 0/4255 [00:00<?, ?cell/s]"
      ]
     },
     "metadata": {},
     "output_type": "display_data"
    },
    {
     "name": "stdout",
     "output_type": "stream",
     "text": [
      "Setting `softmax_scale=13.3672`\n"
     ]
    },
    {
     "data": {
      "application/vnd.jupyter.widget-view+json": {
       "model_id": "b4cdf022f24044a1ab3910386927289d",
       "version_major": 2,
       "version_minor": 0
      },
      "text/plain": [
       "  0%|          | 0/4255 [00:00<?, ?cell/s]"
      ]
     },
     "metadata": {},
     "output_type": "display_data"
    },
    {
     "name": "stdout",
     "output_type": "stream",
     "text": [
      "    Finish (0:00:14)\n",
      "Using a connectivity kernel with weight `0.2`\n",
      "Computing transition matrix based on `adata.obsp['connectivities']`\n",
      "    Finish (0:00:00)\n",
      "Computing eigendecomposition of the transition matrix\n",
      "Adding `adata.uns['eigendecomposition_fwd']`\n",
      "       `.eigendecomposition`\n",
      "    Finish (0:00:00)\n",
      "WARNING: Unable to import `petsc4py` or `slepc4py`. Using `method='brandts'`\n",
      "WARNING: For `method='brandts'`, dense matrix is required. Densifying\n",
      "Computing Schur decomposition\n",
      "When computing macrostates, choose a number of states NOT in `[3]`\n",
      "Adding `adata.uns['eigendecomposition_fwd']`\n",
      "       `.schur_vectors`\n",
      "       `.schur_matrix`\n",
      "       `.eigendecomposition`\n",
      "    Finish (0:00:19)\n",
      "Computing `7` macrostates\n",
      "Adding `.macrostates`\n",
      "       `.macrostates_memberships`\n",
      "       `.coarse_T`\n",
      "       `.coarse_initial_distribution\n",
      "       `.coarse_stationary_distribution`\n",
      "       `.schur_vectors`\n",
      "       `.schur_matrix`\n",
      "       `.eigendecomposition`\n",
      "    Finish (0:00:04)\n",
      "Adding `adata.obs['terminal_states']`\n",
      "       `adata.obs['terminal_states_probs']`\n",
      "       `.terminal_states`\n",
      "       `.terminal_states_probabilities`\n",
      "       `.terminal_states_memberships\n",
      "    Finish`\n"
     ]
    }
   ],
   "source": [
    "cr.tl.terminal_states(adata, cluster_key=\"cell_type\", weight_connectivities=0.2)"
   ]
  },
  {
   "cell_type": "code",
   "execution_count": 89,
   "id": "744ccf16-4d81-4c0a-adca-cff5035fe644",
   "metadata": {},
   "outputs": [
    {
     "name": "stdout",
     "output_type": "stream",
     "text": [
      "WARNING: Ignoring `color` when `mode='embedding'` and `same_plot=True`\n"
     ]
    }
   ],
   "source": [
    "cr.pl.terminal_states(adata,color='cell_type')\n",
    "plt.savefig('./intergedgermforcellrank_terminal_states0218.pdf')"
   ]
  },
  {
   "cell_type": "code",
   "execution_count": 90,
   "id": "db36041d-5dfc-4da4-9a76-548b4be0d5a5",
   "metadata": {},
   "outputs": [
    {
     "name": "stdout",
     "output_type": "stream",
     "text": [
      "Accessing `adata.obsp['T_bwd']`\n"
     ]
    },
    {
     "name": "stderr",
     "output_type": "stream",
     "text": [
      "/tmp/ipykernel_48715/4092284627.py:1: DeprecationWarning: `cellrank.tl.initial_states` will be removed in version `2.0`. Please use the `cellrank.kernels` or `cellrank.estimators` interface instead.\n",
      "  cr.tl.initial_states(adata, cluster_key=\"cell_type\")\n",
      "/public/home/zhaox/anaconda3/lib/python3.9/site-packages/cellrank/tl/_init_term_states.py:156: DeprecationWarning: `cellrank.tl.transition_matrix` will be removed in version `2.0`. Please use the `cellrank.kernels` or `cellrank.estimators` interface instead.\n",
      "  kernel = transition_matrix(\n"
     ]
    },
    {
     "name": "stdout",
     "output_type": "stream",
     "text": [
      "Computing transition matrix based on logits using `'deterministic'` mode\n",
      "Estimating `softmax_scale` using `'deterministic'` mode\n"
     ]
    },
    {
     "data": {
      "application/vnd.jupyter.widget-view+json": {
       "model_id": "377eda8353214334b7552b63904c8c61",
       "version_major": 2,
       "version_minor": 0
      },
      "text/plain": [
       "  0%|          | 0/4255 [00:00<?, ?cell/s]"
      ]
     },
     "metadata": {},
     "output_type": "display_data"
    },
    {
     "name": "stdout",
     "output_type": "stream",
     "text": [
      "Setting `softmax_scale=13.3672`\n"
     ]
    },
    {
     "data": {
      "application/vnd.jupyter.widget-view+json": {
       "model_id": "cf6588d231194458b981830ee5f97592",
       "version_major": 2,
       "version_minor": 0
      },
      "text/plain": [
       "  0%|          | 0/4255 [00:00<?, ?cell/s]"
      ]
     },
     "metadata": {},
     "output_type": "display_data"
    },
    {
     "name": "stdout",
     "output_type": "stream",
     "text": [
      "    Finish (0:00:21)\n",
      "Using a connectivity kernel with weight `0.2`\n",
      "Computing transition matrix based on `adata.obsp['connectivities']`\n",
      "    Finish (0:00:00)\n",
      "Computing eigendecomposition of the transition matrix\n",
      "Adding `adata.uns['eigendecomposition_bwd']`\n",
      "       `.eigendecomposition`\n",
      "    Finish (0:00:00)\n",
      "WARNING: Unable to import `petsc4py` or `slepc4py`. Using `method='brandts'`\n",
      "WARNING: For `method='brandts'`, dense matrix is required. Densifying\n",
      "Computing Schur decomposition\n",
      "Adding `adata.uns['eigendecomposition_bwd']`\n",
      "       `.schur_vectors`\n",
      "       `.schur_matrix`\n",
      "       `.eigendecomposition`\n",
      "    Finish (0:00:19)\n",
      "Computing `2` macrostates\n",
      "Adding `.macrostates`\n",
      "       `.macrostates_memberships`\n",
      "       `.coarse_T`\n",
      "       `.coarse_initial_distribution\n",
      "       `.coarse_stationary_distribution`\n",
      "       `.schur_vectors`\n",
      "       `.schur_matrix`\n",
      "       `.eigendecomposition`\n",
      "    Finish (0:00:01)\n",
      "Adding `adata.obs['initial_states']`\n",
      "       `adata.obs['initial_states_probs']`\n",
      "       `.terminal_states`\n",
      "       `.terminal_states_probabilities`\n",
      "       `.terminal_states_memberships\n",
      "    Finish`\n"
     ]
    }
   ],
   "source": [
    "cr.tl.initial_states(adata, cluster_key=\"cell_type\")\n",
    "cr.pl.initial_states(adata, discrete=True)\n",
    "plt.savefig('./intergedgermforcellrank_initial_states0218.pdf')"
   ]
  },
  {
   "cell_type": "code",
   "execution_count": 91,
   "id": "4d3503e2-3757-4926-86d9-16e55ce94d1e",
   "metadata": {},
   "outputs": [
    {
     "name": "stdout",
     "output_type": "stream",
     "text": [
      "Computing absorption probabilities\n",
      "WARNING: Unable to import petsc4py. For installation, please refer to: https://petsc4py.readthedocs.io/en/stable/install.html.\n",
      "Defaulting to `'gmres'` solver.\n"
     ]
    },
    {
     "name": "stderr",
     "output_type": "stream",
     "text": [
      "/tmp/ipykernel_48715/3398442375.py:1: DeprecationWarning: `cellrank.tl.lineages` will be removed in version `2.0`. Please use the `cellrank.kernels` or `cellrank.estimators` interface instead.\n",
      "  cr.tl.lineages(adata)\n"
     ]
    },
    {
     "data": {
      "application/vnd.jupyter.widget-view+json": {
       "model_id": "e00c3b9c81934b73b4a630d0eb87c489",
       "version_major": 2,
       "version_minor": 0
      },
      "text/plain": [
       "  0%|          | 0/7 [00:00<?, ?/s]"
      ]
     },
     "metadata": {},
     "output_type": "display_data"
    },
    {
     "name": "stdout",
     "output_type": "stream",
     "text": [
      "Adding `adata.obsm['to_terminal_states']`\n",
      "       `.absorption_probabilities`\n",
      "    Finish (0:00:01)\n"
     ]
    },
    {
     "name": "stderr",
     "output_type": "stream",
     "text": [
      "/public/home/zhaox/anaconda3/lib/python3.9/site-packages/scvelo/plotting/utils.py:866: MatplotlibDeprecationWarning: Auto-removal of grids by pcolor() and pcolormesh() is deprecated since 3.5 and will be removed two minor releases later; please call grid(False) first.\n",
      "  cb = pl.colorbar(smp, orientation=orientation, cax=cax)\n",
      "/public/home/zhaox/anaconda3/lib/python3.9/site-packages/scvelo/plotting/utils.py:869: MatplotlibDeprecationWarning: The draw_all function was deprecated in Matplotlib 3.6 and will be removed two minor releases later. Use fig.draw_without_rendering() instead.\n",
      "  cb.draw_all()\n"
     ]
    }
   ],
   "source": [
    "cr.tl.lineages(adata)\n",
    "cr.pl.lineages(adata, same_plot=False)\n",
    "plt.savefig('./intergedgermforcellrank_fatemaps0219.pdf')"
   ]
  },
  {
   "cell_type": "code",
   "execution_count": 92,
   "id": "71c0303f-341f-41d6-8ba5-d54b171575a7",
   "metadata": {},
   "outputs": [
    {
     "name": "stdout",
     "output_type": "stream",
     "text": [
      "computing latent time using initial_states_probs, terminal_states_probs as prior\n",
      "    finished (0:00:03) --> added \n",
      "    'latent_time', shared time (adata.obs)\n"
     ]
    }
   ],
   "source": [
    "scv.tl.recover_latent_time(\n",
    "    adata, root_key=\"initial_states_probs\", end_key=\"terminal_states_probs\"\n",
    ")"
   ]
  },
  {
   "cell_type": "code",
   "execution_count": 93,
   "id": "0bfada7e-d20b-4f6b-979c-ec7aa7fe649a",
   "metadata": {},
   "outputs": [
    {
     "name": "stdout",
     "output_type": "stream",
     "text": [
      "running PAGA using priors: ['velocity_pseudotime', 'initial_states_probs', 'terminal_states_probs']\n",
      "    finished (0:00:04) --> added\n",
      "    'paga/connectivities', connectivities adjacency (adata.uns)\n",
      "    'paga/connectivities_tree', connectivities subtree (adata.uns)\n",
      "    'paga/transitions_confidence', velocity transitions (adata.uns)\n"
     ]
    }
   ],
   "source": [
    "scv.tl.paga(\n",
    "    adata,\n",
    "    groups=\"cell_type\",\n",
    "    root_key=\"initial_states_probs\",\n",
    "    end_key=\"terminal_states_probs\",\n",
    "    use_time_prior=\"velocity_pseudotime\",\n",
    ")"
   ]
  },
  {
   "cell_type": "code",
   "execution_count": 94,
   "id": "3407308e-108c-4f80-9d32-4966876887b8",
   "metadata": {},
   "outputs": [],
   "source": [
    "cr.pl.cluster_fates(adata, mode=\"bar\",cluster_key=\"cell_type\")\n",
    "plt.savefig('./intergedgermforcellrank_barplot_clusterfates0219.pdf')"
   ]
  },
  {
   "cell_type": "code",
   "execution_count": 95,
   "id": "05a0c84b-b4ac-436a-a34d-e50d0e150918",
   "metadata": {},
   "outputs": [
    {
     "name": "stderr",
     "output_type": "stream",
     "text": [
      "/public/home/zhaox/anaconda3/lib/python3.9/site-packages/scanpy/_settings.py:447: DeprecationWarning: `set_matplotlib_formats` is deprecated since IPython 7.23, directly use `matplotlib_inline.backend_inline.set_matplotlib_formats()`\n",
      "  IPython.display.set_matplotlib_formats(*ipython_format)\n",
      "/public/home/zhaox/anaconda3/lib/python3.9/site-packages/seaborn/matrix.py:302: MatplotlibDeprecationWarning: Auto-removal of grids by pcolor() and pcolormesh() is deprecated since 3.5 and will be removed two minor releases later; please call grid(False) first.\n",
      "  mesh = ax.pcolormesh(self.plot_data, cmap=self.cmap, **kws)\n"
     ]
    }
   ],
   "source": [
    "sc.settings.set_figure_params(dpi = 50, dpi_save = 600, figsize = (12, 5))\n",
    "cr.pl.cluster_fates(adata, mode=\"heatmap\",cluster_key=\"cell_type\")\n",
    "plt.savefig('./intergedgermforcellrank_heatmap_clusterfates0219.pdf')"
   ]
  },
  {
   "cell_type": "code",
   "execution_count": 96,
   "id": "f2f47d18-f966-49d6-b1fa-9c624f7d8e75",
   "metadata": {},
   "outputs": [
    {
     "name": "stderr",
     "output_type": "stream",
     "text": [
      "/tmp/ipykernel_48715/1721556810.py:1: DeprecationWarning: `cellrank.tl.lineage_drivers` will be removed in version `2.0`. Please use the `cellrank.kernels` or `cellrank.estimators` interface instead.\n",
      "  cr.tl.lineage_drivers(adata)\n"
     ]
    },
    {
     "name": "stdout",
     "output_type": "stream",
     "text": [
      "Adding `adata.varm['terminal_lineage_drivers']`\n",
      "       `.lineage_drivers`\n",
      "    Finish (0:00:00)\n"
     ]
    },
    {
     "data": {
      "text/html": [
       "<div>\n",
       "<style scoped>\n",
       "    .dataframe tbody tr th:only-of-type {\n",
       "        vertical-align: middle;\n",
       "    }\n",
       "\n",
       "    .dataframe tbody tr th {\n",
       "        vertical-align: top;\n",
       "    }\n",
       "\n",
       "    .dataframe thead th {\n",
       "        text-align: right;\n",
       "    }\n",
       "</style>\n",
       "<table border=\"1\" class=\"dataframe\">\n",
       "  <thead>\n",
       "    <tr style=\"text-align: right;\">\n",
       "      <th></th>\n",
       "      <th>SSC2_corr</th>\n",
       "      <th>SSC2_pval</th>\n",
       "      <th>SSC2_qval</th>\n",
       "      <th>SSC2_ci_low</th>\n",
       "      <th>SSC2_ci_high</th>\n",
       "      <th>SSC3_corr</th>\n",
       "      <th>SSC3_pval</th>\n",
       "      <th>SSC3_qval</th>\n",
       "      <th>SSC3_ci_low</th>\n",
       "      <th>SSC3_ci_high</th>\n",
       "      <th>...</th>\n",
       "      <th>Diff SPG_corr</th>\n",
       "      <th>Diff SPG_pval</th>\n",
       "      <th>Diff SPG_qval</th>\n",
       "      <th>Diff SPG_ci_low</th>\n",
       "      <th>Diff SPG_ci_high</th>\n",
       "      <th>Early diff SPG(KIT)_corr</th>\n",
       "      <th>Early diff SPG(KIT)_pval</th>\n",
       "      <th>Early diff SPG(KIT)_qval</th>\n",
       "      <th>Early diff SPG(KIT)_ci_low</th>\n",
       "      <th>Early diff SPG(KIT)_ci_high</th>\n",
       "    </tr>\n",
       "  </thead>\n",
       "  <tbody>\n",
       "    <tr>\n",
       "      <th>COL9A2</th>\n",
       "      <td>0.948912</td>\n",
       "      <td>0.000000e+00</td>\n",
       "      <td>0.000000e+00</td>\n",
       "      <td>0.945832</td>\n",
       "      <td>0.951821</td>\n",
       "      <td>-0.127200</td>\n",
       "      <td>7.459472e-17</td>\n",
       "      <td>2.356863e-16</td>\n",
       "      <td>-0.156649</td>\n",
       "      <td>-0.097524</td>\n",
       "      <td>...</td>\n",
       "      <td>-0.188882</td>\n",
       "      <td>1.141189e-35</td>\n",
       "      <td>3.411628e-35</td>\n",
       "      <td>-0.217695</td>\n",
       "      <td>-0.159741</td>\n",
       "      <td>-0.066204</td>\n",
       "      <td>1.537022e-05</td>\n",
       "      <td>3.525279e-05</td>\n",
       "      <td>-0.096061</td>\n",
       "      <td>-0.036228</td>\n",
       "    </tr>\n",
       "    <tr>\n",
       "      <th>AMH</th>\n",
       "      <td>0.931185</td>\n",
       "      <td>0.000000e+00</td>\n",
       "      <td>0.000000e+00</td>\n",
       "      <td>0.927077</td>\n",
       "      <td>0.935070</td>\n",
       "      <td>-0.117250</td>\n",
       "      <td>1.579905e-14</td>\n",
       "      <td>4.626370e-14</td>\n",
       "      <td>-0.146781</td>\n",
       "      <td>-0.087510</td>\n",
       "      <td>...</td>\n",
       "      <td>-0.196557</td>\n",
       "      <td>1.469647e-38</td>\n",
       "      <td>4.756138e-38</td>\n",
       "      <td>-0.225275</td>\n",
       "      <td>-0.167498</td>\n",
       "      <td>-0.069476</td>\n",
       "      <td>5.688656e-06</td>\n",
       "      <td>1.404606e-05</td>\n",
       "      <td>-0.099317</td>\n",
       "      <td>-0.039510</td>\n",
       "    </tr>\n",
       "    <tr>\n",
       "      <th>INHA</th>\n",
       "      <td>0.926861</td>\n",
       "      <td>0.000000e+00</td>\n",
       "      <td>0.000000e+00</td>\n",
       "      <td>0.922505</td>\n",
       "      <td>0.930981</td>\n",
       "      <td>-0.116931</td>\n",
       "      <td>1.862350e-14</td>\n",
       "      <td>5.429591e-14</td>\n",
       "      <td>-0.146465</td>\n",
       "      <td>-0.087189</td>\n",
       "      <td>...</td>\n",
       "      <td>-0.205366</td>\n",
       "      <td>4.944787e-42</td>\n",
       "      <td>1.811277e-41</td>\n",
       "      <td>-0.233971</td>\n",
       "      <td>-0.176406</td>\n",
       "      <td>-0.072745</td>\n",
       "      <td>2.015419e-06</td>\n",
       "      <td>5.221293e-06</td>\n",
       "      <td>-0.102569</td>\n",
       "      <td>-0.042790</td>\n",
       "    </tr>\n",
       "    <tr>\n",
       "      <th>SERPINA5</th>\n",
       "      <td>0.922965</td>\n",
       "      <td>0.000000e+00</td>\n",
       "      <td>0.000000e+00</td>\n",
       "      <td>0.918387</td>\n",
       "      <td>0.927296</td>\n",
       "      <td>-0.092717</td>\n",
       "      <td>1.333993e-09</td>\n",
       "      <td>3.098705e-09</td>\n",
       "      <td>-0.122424</td>\n",
       "      <td>-0.062844</td>\n",
       "      <td>...</td>\n",
       "      <td>-0.207501</td>\n",
       "      <td>6.717126e-43</td>\n",
       "      <td>2.506390e-42</td>\n",
       "      <td>-0.236077</td>\n",
       "      <td>-0.178566</td>\n",
       "      <td>-0.072416</td>\n",
       "      <td>2.241202e-06</td>\n",
       "      <td>5.783747e-06</td>\n",
       "      <td>-0.102242</td>\n",
       "      <td>-0.042460</td>\n",
       "    </tr>\n",
       "    <tr>\n",
       "      <th>ASS1</th>\n",
       "      <td>0.905477</td>\n",
       "      <td>0.000000e+00</td>\n",
       "      <td>0.000000e+00</td>\n",
       "      <td>0.899914</td>\n",
       "      <td>0.910746</td>\n",
       "      <td>-0.113757</td>\n",
       "      <td>9.333310e-14</td>\n",
       "      <td>2.647748e-13</td>\n",
       "      <td>-0.143315</td>\n",
       "      <td>-0.083995</td>\n",
       "      <td>...</td>\n",
       "      <td>-0.165991</td>\n",
       "      <td>8.760546e-28</td>\n",
       "      <td>2.083364e-27</td>\n",
       "      <td>-0.195067</td>\n",
       "      <td>-0.136624</td>\n",
       "      <td>-0.067239</td>\n",
       "      <td>1.127770e-05</td>\n",
       "      <td>2.656702e-05</td>\n",
       "      <td>-0.097091</td>\n",
       "      <td>-0.037266</td>\n",
       "    </tr>\n",
       "    <tr>\n",
       "      <th>...</th>\n",
       "      <td>...</td>\n",
       "      <td>...</td>\n",
       "      <td>...</td>\n",
       "      <td>...</td>\n",
       "      <td>...</td>\n",
       "      <td>...</td>\n",
       "      <td>...</td>\n",
       "      <td>...</td>\n",
       "      <td>...</td>\n",
       "      <td>...</td>\n",
       "      <td>...</td>\n",
       "      <td>...</td>\n",
       "      <td>...</td>\n",
       "      <td>...</td>\n",
       "      <td>...</td>\n",
       "      <td>...</td>\n",
       "      <td>...</td>\n",
       "      <td>...</td>\n",
       "      <td>...</td>\n",
       "      <td>...</td>\n",
       "      <td>...</td>\n",
       "    </tr>\n",
       "    <tr>\n",
       "      <th>LOC110257929</th>\n",
       "      <td>-0.253520</td>\n",
       "      <td>4.512187e-64</td>\n",
       "      <td>3.609750e-63</td>\n",
       "      <td>-0.281424</td>\n",
       "      <td>-0.225187</td>\n",
       "      <td>-0.019843</td>\n",
       "      <td>1.956435e-01</td>\n",
       "      <td>2.278900e-01</td>\n",
       "      <td>-0.049861</td>\n",
       "      <td>0.010212</td>\n",
       "      <td>...</td>\n",
       "      <td>0.525935</td>\n",
       "      <td>0.000000e+00</td>\n",
       "      <td>0.000000e+00</td>\n",
       "      <td>0.503849</td>\n",
       "      <td>0.547334</td>\n",
       "      <td>-0.168854</td>\n",
       "      <td>1.036700e-28</td>\n",
       "      <td>1.312279e-27</td>\n",
       "      <td>-0.197899</td>\n",
       "      <td>-0.139514</td>\n",
       "    </tr>\n",
       "    <tr>\n",
       "      <th>SMC1B</th>\n",
       "      <td>-0.255863</td>\n",
       "      <td>2.787315e-65</td>\n",
       "      <td>2.266109e-64</td>\n",
       "      <td>-0.283730</td>\n",
       "      <td>-0.227564</td>\n",
       "      <td>0.036464</td>\n",
       "      <td>1.737090e-02</td>\n",
       "      <td>2.360176e-02</td>\n",
       "      <td>0.006422</td>\n",
       "      <td>0.066439</td>\n",
       "      <td>...</td>\n",
       "      <td>0.577745</td>\n",
       "      <td>0.000000e+00</td>\n",
       "      <td>0.000000e+00</td>\n",
       "      <td>0.557373</td>\n",
       "      <td>0.597422</td>\n",
       "      <td>-0.174381</td>\n",
       "      <td>1.509885e-30</td>\n",
       "      <td>2.068336e-29</td>\n",
       "      <td>-0.203364</td>\n",
       "      <td>-0.145093</td>\n",
       "    </tr>\n",
       "    <tr>\n",
       "      <th>DAZL</th>\n",
       "      <td>-0.259650</td>\n",
       "      <td>2.906072e-67</td>\n",
       "      <td>2.411678e-66</td>\n",
       "      <td>-0.287455</td>\n",
       "      <td>-0.231407</td>\n",
       "      <td>-0.054468</td>\n",
       "      <td>3.776804e-04</td>\n",
       "      <td>6.141145e-04</td>\n",
       "      <td>-0.084378</td>\n",
       "      <td>-0.024459</td>\n",
       "      <td>...</td>\n",
       "      <td>0.620972</td>\n",
       "      <td>0.000000e+00</td>\n",
       "      <td>0.000000e+00</td>\n",
       "      <td>0.602160</td>\n",
       "      <td>0.639096</td>\n",
       "      <td>-0.166160</td>\n",
       "      <td>7.733250e-28</td>\n",
       "      <td>9.606522e-27</td>\n",
       "      <td>-0.195234</td>\n",
       "      <td>-0.136795</td>\n",
       "    </tr>\n",
       "    <tr>\n",
       "      <th>LOC100157935</th>\n",
       "      <td>-0.301237</td>\n",
       "      <td>2.290164e-91</td>\n",
       "      <td>2.336902e-90</td>\n",
       "      <td>-0.328313</td>\n",
       "      <td>-0.273666</td>\n",
       "      <td>0.131636</td>\n",
       "      <td>5.938654e-18</td>\n",
       "      <td>1.947100e-17</td>\n",
       "      <td>0.101991</td>\n",
       "      <td>0.161047</td>\n",
       "      <td>...</td>\n",
       "      <td>0.495703</td>\n",
       "      <td>3.310234e-275</td>\n",
       "      <td>1.839019e-273</td>\n",
       "      <td>0.472696</td>\n",
       "      <td>0.518035</td>\n",
       "      <td>-0.191688</td>\n",
       "      <td>1.036485e-36</td>\n",
       "      <td>1.787043e-35</td>\n",
       "      <td>-0.220466</td>\n",
       "      <td>-0.162576</td>\n",
       "    </tr>\n",
       "    <tr>\n",
       "      <th>TKTL1</th>\n",
       "      <td>-0.302212</td>\n",
       "      <td>5.510775e-92</td>\n",
       "      <td>5.652076e-91</td>\n",
       "      <td>-0.329271</td>\n",
       "      <td>-0.274658</td>\n",
       "      <td>0.219346</td>\n",
       "      <td>6.837909e-48</td>\n",
       "      <td>4.260380e-47</td>\n",
       "      <td>0.190553</td>\n",
       "      <td>0.247761</td>\n",
       "      <td>...</td>\n",
       "      <td>0.469234</td>\n",
       "      <td>1.220494e-241</td>\n",
       "      <td>6.258944e-240</td>\n",
       "      <td>0.445466</td>\n",
       "      <td>0.492340</td>\n",
       "      <td>-0.231565</td>\n",
       "      <td>2.275886e-53</td>\n",
       "      <td>6.693783e-52</td>\n",
       "      <td>-0.259806</td>\n",
       "      <td>-0.202929</td>\n",
       "    </tr>\n",
       "  </tbody>\n",
       "</table>\n",
       "<p>2000 rows × 35 columns</p>\n",
       "</div>"
      ],
      "text/plain": [
       "              SSC2_corr     SSC2_pval     SSC2_qval  SSC2_ci_low  \\\n",
       "COL9A2         0.948912  0.000000e+00  0.000000e+00     0.945832   \n",
       "AMH            0.931185  0.000000e+00  0.000000e+00     0.927077   \n",
       "INHA           0.926861  0.000000e+00  0.000000e+00     0.922505   \n",
       "SERPINA5       0.922965  0.000000e+00  0.000000e+00     0.918387   \n",
       "ASS1           0.905477  0.000000e+00  0.000000e+00     0.899914   \n",
       "...                 ...           ...           ...          ...   \n",
       "LOC110257929  -0.253520  4.512187e-64  3.609750e-63    -0.281424   \n",
       "SMC1B         -0.255863  2.787315e-65  2.266109e-64    -0.283730   \n",
       "DAZL          -0.259650  2.906072e-67  2.411678e-66    -0.287455   \n",
       "LOC100157935  -0.301237  2.290164e-91  2.336902e-90    -0.328313   \n",
       "TKTL1         -0.302212  5.510775e-92  5.652076e-91    -0.329271   \n",
       "\n",
       "              SSC2_ci_high  SSC3_corr     SSC3_pval     SSC3_qval  \\\n",
       "COL9A2            0.951821  -0.127200  7.459472e-17  2.356863e-16   \n",
       "AMH               0.935070  -0.117250  1.579905e-14  4.626370e-14   \n",
       "INHA              0.930981  -0.116931  1.862350e-14  5.429591e-14   \n",
       "SERPINA5          0.927296  -0.092717  1.333993e-09  3.098705e-09   \n",
       "ASS1              0.910746  -0.113757  9.333310e-14  2.647748e-13   \n",
       "...                    ...        ...           ...           ...   \n",
       "LOC110257929     -0.225187  -0.019843  1.956435e-01  2.278900e-01   \n",
       "SMC1B            -0.227564   0.036464  1.737090e-02  2.360176e-02   \n",
       "DAZL             -0.231407  -0.054468  3.776804e-04  6.141145e-04   \n",
       "LOC100157935     -0.273666   0.131636  5.938654e-18  1.947100e-17   \n",
       "TKTL1            -0.274658   0.219346  6.837909e-48  4.260380e-47   \n",
       "\n",
       "              SSC3_ci_low  SSC3_ci_high  ...  Diff SPG_corr  Diff SPG_pval  \\\n",
       "COL9A2          -0.156649     -0.097524  ...      -0.188882   1.141189e-35   \n",
       "AMH             -0.146781     -0.087510  ...      -0.196557   1.469647e-38   \n",
       "INHA            -0.146465     -0.087189  ...      -0.205366   4.944787e-42   \n",
       "SERPINA5        -0.122424     -0.062844  ...      -0.207501   6.717126e-43   \n",
       "ASS1            -0.143315     -0.083995  ...      -0.165991   8.760546e-28   \n",
       "...                   ...           ...  ...            ...            ...   \n",
       "LOC110257929    -0.049861      0.010212  ...       0.525935   0.000000e+00   \n",
       "SMC1B            0.006422      0.066439  ...       0.577745   0.000000e+00   \n",
       "DAZL            -0.084378     -0.024459  ...       0.620972   0.000000e+00   \n",
       "LOC100157935     0.101991      0.161047  ...       0.495703  3.310234e-275   \n",
       "TKTL1            0.190553      0.247761  ...       0.469234  1.220494e-241   \n",
       "\n",
       "              Diff SPG_qval  Diff SPG_ci_low  Diff SPG_ci_high  \\\n",
       "COL9A2         3.411628e-35        -0.217695         -0.159741   \n",
       "AMH            4.756138e-38        -0.225275         -0.167498   \n",
       "INHA           1.811277e-41        -0.233971         -0.176406   \n",
       "SERPINA5       2.506390e-42        -0.236077         -0.178566   \n",
       "ASS1           2.083364e-27        -0.195067         -0.136624   \n",
       "...                     ...              ...               ...   \n",
       "LOC110257929   0.000000e+00         0.503849          0.547334   \n",
       "SMC1B          0.000000e+00         0.557373          0.597422   \n",
       "DAZL           0.000000e+00         0.602160          0.639096   \n",
       "LOC100157935  1.839019e-273         0.472696          0.518035   \n",
       "TKTL1         6.258944e-240         0.445466          0.492340   \n",
       "\n",
       "              Early diff SPG(KIT)_corr  Early diff SPG(KIT)_pval  \\\n",
       "COL9A2                       -0.066204              1.537022e-05   \n",
       "AMH                          -0.069476              5.688656e-06   \n",
       "INHA                         -0.072745              2.015419e-06   \n",
       "SERPINA5                     -0.072416              2.241202e-06   \n",
       "ASS1                         -0.067239              1.127770e-05   \n",
       "...                                ...                       ...   \n",
       "LOC110257929                 -0.168854              1.036700e-28   \n",
       "SMC1B                        -0.174381              1.509885e-30   \n",
       "DAZL                         -0.166160              7.733250e-28   \n",
       "LOC100157935                 -0.191688              1.036485e-36   \n",
       "TKTL1                        -0.231565              2.275886e-53   \n",
       "\n",
       "              Early diff SPG(KIT)_qval  Early diff SPG(KIT)_ci_low  \\\n",
       "COL9A2                    3.525279e-05                   -0.096061   \n",
       "AMH                       1.404606e-05                   -0.099317   \n",
       "INHA                      5.221293e-06                   -0.102569   \n",
       "SERPINA5                  5.783747e-06                   -0.102242   \n",
       "ASS1                      2.656702e-05                   -0.097091   \n",
       "...                                ...                         ...   \n",
       "LOC110257929              1.312279e-27                   -0.197899   \n",
       "SMC1B                     2.068336e-29                   -0.203364   \n",
       "DAZL                      9.606522e-27                   -0.195234   \n",
       "LOC100157935              1.787043e-35                   -0.220466   \n",
       "TKTL1                     6.693783e-52                   -0.259806   \n",
       "\n",
       "              Early diff SPG(KIT)_ci_high  \n",
       "COL9A2                          -0.036228  \n",
       "AMH                             -0.039510  \n",
       "INHA                            -0.042790  \n",
       "SERPINA5                        -0.042460  \n",
       "ASS1                            -0.037266  \n",
       "...                                   ...  \n",
       "LOC110257929                    -0.139514  \n",
       "SMC1B                           -0.145093  \n",
       "DAZL                            -0.136795  \n",
       "LOC100157935                    -0.162576  \n",
       "TKTL1                           -0.202929  \n",
       "\n",
       "[2000 rows x 35 columns]"
      ]
     },
     "execution_count": 96,
     "metadata": {},
     "output_type": "execute_result"
    }
   ],
   "source": [
    "cr.tl.lineage_drivers(adata)"
   ]
  },
  {
   "cell_type": "code",
   "execution_count": null,
   "id": "0b82d404-b139-4e03-9872-02fe705984a4",
   "metadata": {},
   "outputs": [],
   "source": []
  }
 ],
 "metadata": {
  "kernelspec": {
   "display_name": "Python 3 (ipykernel)",
   "language": "python",
   "name": "python3"
  },
  "language_info": {
   "codemirror_mode": {
    "name": "ipython",
    "version": 3
   },
   "file_extension": ".py",
   "mimetype": "text/x-python",
   "name": "python",
   "nbconvert_exporter": "python",
   "pygments_lexer": "ipython3",
   "version": "3.9.7"
  }
 },
 "nbformat": 4,
 "nbformat_minor": 5
}
