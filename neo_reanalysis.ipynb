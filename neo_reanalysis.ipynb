{
 "cells": [
  {
   "cell_type": "code",
   "execution_count": 1,
   "id": "33297969-2a29-4dc1-8c6d-73c6e85fe382",
   "metadata": {},
   "outputs": [],
   "source": [
    "import scanpy as sc\n",
    "import pandas as pd\n",
    "import numpy as np\n",
    "import doubletdetection\n",
    "import matplotlib as mpl\n",
    "import matplotlib.pyplot as plt\n",
    "mpl.rcParams['pdf.fonttype'] = 42\n",
    "mpl.rcParams['font.sans-serif'] = \"Arial\"\n",
    "sc.settings.set_figure_params(dpi = 50, dpi_save = 600, figsize = (4, 4))"
   ]
  },
  {
   "cell_type": "code",
   "execution_count": 2,
   "id": "4f824e78-3581-4568-b824-7a8ae4901466",
   "metadata": {},
   "outputs": [
    {
     "data": {
      "text/plain": [
       "AnnData object with n_obs × n_vars = 25322 × 2263\n",
       "    obs: 'n_genes', 'n_genes_by_counts', 'total_counts', 'total_counts_mt', 'pct_counts_mt', 'total_counts_chrX', 'pct_counts_chrX', 'total_counts_chrY', 'pct_counts_chrY', 'S_score', 'G2M_score', 'phase', 'doublet', 'doublet_score', 'leiden', 'cell_type'\n",
       "    var: 'gene_ids', 'feature_types', 'genome', 'n_counts', 'mt', 'n_cells_by_counts', 'mean_counts', 'pct_dropout_by_counts', 'total_counts', 'chrX', 'chrY', 'highly_variable', 'means', 'dispersions', 'dispersions_norm', 'mean', 'std'\n",
       "    uns: 'cell_type_colors', 'dendrogram_cell_type', 'dendrogram_leiden', 'hvg', 'leiden', 'leiden_colors', 'neighbors', 'pca', 'rank_genes_groups', 'umap'\n",
       "    obsm: 'X_pca', 'X_umap'\n",
       "    varm: 'PCs'\n",
       "    obsp: 'connectivities', 'distances'"
      ]
     },
     "execution_count": 2,
     "metadata": {},
     "output_type": "execute_result"
    }
   ],
   "source": [
    "adata = sc.read('./neo_processed_cellannotation.h5ad') \n",
    "adata"
   ]
  },
  {
   "cell_type": "code",
   "execution_count": 3,
   "id": "d36337c1-37c6-4c6c-874d-1b3d5a5ae9a9",
   "metadata": {},
   "outputs": [
    {
     "data": {
      "text/plain": [
       "['Sertoli', 'Macrophage', 'LC', 'EC', 'SPG']"
      ]
     },
     "execution_count": 3,
     "metadata": {},
     "output_type": "execute_result"
    }
   ],
   "source": [
    "adata.obs[\"cell_type\"].unique().tolist()"
   ]
  },
  {
   "cell_type": "code",
   "execution_count": 4,
   "id": "4c5535b0-3c3f-44de-accb-f7a5b84299f7",
   "metadata": {},
   "outputs": [],
   "source": [
    "original_order = ['Sertoli', 'Macrophage', 'LC', 'EC', 'SPG']\n",
    "adata.obs['cell_type'] = adata.obs['cell_type'].cat.set_categories(['Macrophage', 'EC','Sertoli','LC','SPG'])"
   ]
  },
  {
   "cell_type": "code",
   "execution_count": 5,
   "id": "55b82b34-de2a-47ed-aa05-7927d922bfee",
   "metadata": {},
   "outputs": [
    {
     "name": "stdout",
     "output_type": "stream",
     "text": [
      "WARNING: saving figure to file figures/umapneo_celltyperight0216.pdf\n"
     ]
    },
    {
     "name": "stderr",
     "output_type": "stream",
     "text": [
      "/public/home/zhaox/anaconda3/lib/python3.9/site-packages/scanpy/plotting/_tools/scatterplots.py:392: UserWarning: No data for colormapping provided via 'c'. Parameters 'cmap' will be ignored\n",
      "  cax = scatter(\n"
     ]
    }
   ],
   "source": [
    "sc.settings.set_figure_params(dpi = 50, dpi_save = 600, figsize = (4, 4))\n",
    "sc.pl.umap(adata, color='cell_type', frameon=True, legend_loc= \"right margin\", legend_fontsize=10, legend_fontweight=\"normal\", legend_fontoutline=2, save=\"neo_celltyperight0216.pdf\")"
   ]
  },
  {
   "cell_type": "code",
   "execution_count": 6,
   "id": "f80549ee-c016-41cb-9331-5a377f07ff1d",
   "metadata": {},
   "outputs": [
    {
     "name": "stdout",
     "output_type": "stream",
     "text": [
      "WARNING: saving figure to file figures/umapneo_leidenright0216.pdf\n"
     ]
    },
    {
     "name": "stderr",
     "output_type": "stream",
     "text": [
      "/public/home/zhaox/anaconda3/lib/python3.9/site-packages/scanpy/plotting/_tools/scatterplots.py:392: UserWarning: No data for colormapping provided via 'c'. Parameters 'cmap' will be ignored\n",
      "  cax = scatter(\n"
     ]
    }
   ],
   "source": [
    "sc.settings.set_figure_params(dpi = 50, dpi_save = 600, figsize = (4, 4))\n",
    "sc.pl.umap(adata, color='leiden', frameon=True, legend_loc= \"right margin\", legend_fontsize=10, legend_fontweight=\"normal\", legend_fontoutline=2, save=\"neo_leidenright0216.pdf\")"
   ]
  },
  {
   "cell_type": "code",
   "execution_count": 7,
   "id": "18209da1-e247-4570-9c81-6dd0c081816e",
   "metadata": {},
   "outputs": [
    {
     "name": "stdout",
     "output_type": "stream",
     "text": [
      "WARNING: saving figure to file figures/umap.neomarkers0216.pdf\n"
     ]
    }
   ],
   "source": [
    "marker_genes = [\"CD74\", \"PECAM1\",\"GATA4\",\"CYP17A1\", \"UTF1\"]\n",
    "sc.pl.umap(adata, color = marker_genes, ncols=5, save=\".neomarkers0216.pdf\")"
   ]
  },
  {
   "cell_type": "code",
   "execution_count": 8,
   "id": "f794fe15-2f6b-4785-9069-74f23f7cebe6",
   "metadata": {},
   "outputs": [
    {
     "name": "stdout",
     "output_type": "stream",
     "text": [
      "WARNING: Gene labels are not shown when more than 50 genes are visualized. To show gene labels set `show_gene_labels=True`\n",
      "WARNING: saving figure to file figures/heatmapneoheatmap0216.pdf\n"
     ]
    },
    {
     "data": {
      "text/plain": [
       "{'heatmap_ax': <AxesSubplot: >,\n",
       " 'groupby_ax': <AxesSubplot: ylabel='cell_type'>,\n",
       " 'gene_groups_ax': <AxesSubplot: >}"
      ]
     },
     "execution_count": 8,
     "metadata": {},
     "output_type": "execute_result"
    }
   ],
   "source": [
    "sc.pl.rank_genes_groups_heatmap(adata, use_raw=True,vmin=-3, vmax=3, min_logfoldchange=1,groupby='cell_type',n_genes=50, cmap='RdBu_r', show=False,dendrogram=False, save = \"neoheatmap0216.pdf\")"
   ]
  },
  {
   "cell_type": "code",
   "execution_count": 9,
   "id": "89dd8d33-69e6-40a4-a463-040b29bb5a0b",
   "metadata": {},
   "outputs": [
    {
     "name": "stdout",
     "output_type": "stream",
     "text": [
      "WARNING: saving figure to file figures/violinneometrics0216.pdf\n"
     ]
    }
   ],
   "source": [
    "from matplotlib.pyplot import rc_context\n",
    "with rc_context({'figure.figsize': (4.5, 3)}):\n",
    "    sc.pl.violin(adata, ['total_counts', 'pct_counts_mt', 'pct_counts_chrX', 'pct_counts_chrY'], groupby='cell_type', rotation=90, stripplot=False, inner='box', save = \"neometrics0216.pdf\")"
   ]
  },
  {
   "cell_type": "code",
   "execution_count": 10,
   "id": "5dadd5a8-48a1-4dcb-81df-bf9735ddc156",
   "metadata": {},
   "outputs": [
    {
     "name": "stdout",
     "output_type": "stream",
     "text": [
      "WARNING: saving figure to file figures/rank_genes_groups_cell_type_ECneosplit0216.pdf\n",
      "WARNING: saving figure to file figures/rank_genes_groups_cell_type_LCneosplit0216.pdf\n",
      "WARNING: saving figure to file figures/rank_genes_groups_cell_type_Macrophageneosplit0216.pdf\n",
      "WARNING: saving figure to file figures/rank_genes_groups_cell_type_SPGneosplit0216.pdf\n",
      "WARNING: saving figure to file figures/rank_genes_groups_cell_type_Sertolineosplit0216.pdf\n"
     ]
    }
   ],
   "source": [
    "with rc_context({'figure.figsize': (9, 1.5)}):\n",
    "    sc.pl.rank_genes_groups_violin(adata, n_genes=20, jitter=True,save=\"neosplit0216.pdf\")"
   ]
  },
  {
   "cell_type": "code",
   "execution_count": 11,
   "id": "a6fe0612-e679-4d13-9ef4-827b674b5e96",
   "metadata": {},
   "outputs": [
    {
     "data": {
      "text/plain": [
       "AAACCCAAGAACCCGA-1       Sertoli\n",
       "AAACCCAAGAATGTTG-1       Sertoli\n",
       "AAACCCAAGAGCGACT-1    Macrophage\n",
       "AAACCCAAGAGTTCGG-1       Sertoli\n",
       "AAACCCAAGATGGTCG-1       Sertoli\n",
       "                         ...    \n",
       "TTTGTTGTCCCTTTGG-1            LC\n",
       "TTTGTTGTCCTGTACC-1       Sertoli\n",
       "TTTGTTGTCGCTACGG-1    Macrophage\n",
       "TTTGTTGTCTACTATC-1       Sertoli\n",
       "TTTGTTGTCTGGACTA-1       Sertoli\n",
       "Name: cell_type, Length: 25322, dtype: category\n",
       "Categories (5, object): ['Macrophage', 'EC', 'Sertoli', 'LC', 'SPG']"
      ]
     },
     "execution_count": 11,
     "metadata": {},
     "output_type": "execute_result"
    }
   ],
   "source": [
    "adata.obs.cell_type"
   ]
  },
  {
   "cell_type": "code",
   "execution_count": 12,
   "id": "7a338016-b77a-46ac-9acd-02f7b7bbcb02",
   "metadata": {},
   "outputs": [
    {
     "data": {
      "text/plain": [
       "AnnData object with n_obs × n_vars = 184 × 2263\n",
       "    obs: 'n_genes', 'n_genes_by_counts', 'total_counts', 'total_counts_mt', 'pct_counts_mt', 'total_counts_chrX', 'pct_counts_chrX', 'total_counts_chrY', 'pct_counts_chrY', 'S_score', 'G2M_score', 'phase', 'doublet', 'doublet_score', 'leiden', 'cell_type'\n",
       "    var: 'gene_ids', 'feature_types', 'genome', 'n_counts', 'mt', 'n_cells_by_counts', 'mean_counts', 'pct_dropout_by_counts', 'total_counts', 'chrX', 'chrY', 'highly_variable', 'means', 'dispersions', 'dispersions_norm', 'mean', 'std'\n",
       "    uns: 'cell_type_colors', 'dendrogram_cell_type', 'dendrogram_leiden', 'hvg', 'leiden', 'leiden_colors', 'neighbors', 'pca', 'rank_genes_groups', 'umap'\n",
       "    obsm: 'X_pca', 'X_umap'\n",
       "    varm: 'PCs'\n",
       "    obsp: 'connectivities', 'distances'"
      ]
     },
     "execution_count": 12,
     "metadata": {},
     "output_type": "execute_result"
    }
   ],
   "source": [
    "adata_spg = adata[adata.obs['cell_type'].isin(['SPG'])].copy()\n",
    "adata_spg"
   ]
  },
  {
   "cell_type": "code",
   "execution_count": 13,
   "id": "f73f51ba-967a-41dd-bfbe-2d2f0306fef4",
   "metadata": {},
   "outputs": [
    {
     "data": {
      "text/plain": [
       "AAAGGGCAGGCTAGCA-1    SPG\n",
       "AACAAGACACCTGTCT-1    SPG\n",
       "AACCACATCACTTCTA-1    SPG\n",
       "AAGACTCCAACACTAC-1    SPG\n",
       "AAGACTCCACTGCATA-1    SPG\n",
       "                     ... \n",
       "TTCCGTGGTCGTTTCC-1    SPG\n",
       "TTCTTCCCAGACTCTA-1    SPG\n",
       "TTGCGTCGTACTTGTG-1    SPG\n",
       "TTGGGCGGTCACTGAT-1    SPG\n",
       "TTTAGTCAGCGTGCCT-1    SPG\n",
       "Name: cell_type, Length: 184, dtype: category\n",
       "Categories (1, object): ['SPG']"
      ]
     },
     "execution_count": 13,
     "metadata": {},
     "output_type": "execute_result"
    }
   ],
   "source": [
    "adata_spg.obs.cell_type"
   ]
  },
  {
   "cell_type": "code",
   "execution_count": 14,
   "id": "6931fc7c-80ee-41cc-93c7-578e57a4431a",
   "metadata": {},
   "outputs": [
    {
     "data": {
      "text/plain": [
       "AnnData object with n_obs × n_vars = 184 × 19204\n",
       "    obs: 'n_genes', 'n_genes_by_counts', 'total_counts', 'total_counts_mt', 'pct_counts_mt', 'total_counts_chrX', 'pct_counts_chrX', 'total_counts_chrY', 'pct_counts_chrY', 'S_score', 'G2M_score', 'phase', 'doublet', 'doublet_score', 'leiden', 'cell_type'\n",
       "    var: 'gene_ids', 'feature_types', 'genome', 'n_counts', 'mt', 'n_cells_by_counts', 'mean_counts', 'pct_dropout_by_counts', 'total_counts', 'chrX', 'chrY', 'highly_variable', 'means', 'dispersions', 'dispersions_norm'\n",
       "    uns: 'cell_type_colors', 'dendrogram_cell_type', 'dendrogram_leiden', 'hvg', 'leiden', 'leiden_colors', 'neighbors', 'pca', 'rank_genes_groups', 'umap'\n",
       "    obsm: 'X_pca', 'X_umap'\n",
       "    obsp: 'connectivities', 'distances'"
      ]
     },
     "execution_count": 14,
     "metadata": {},
     "output_type": "execute_result"
    }
   ],
   "source": [
    "adata_spg = adata_spg.raw.to_adata()\n",
    "adata_spg"
   ]
  },
  {
   "cell_type": "code",
   "execution_count": 15,
   "id": "956a43f3-a8a0-4f00-a83d-80d9eb3dfacc",
   "metadata": {},
   "outputs": [
    {
     "name": "stdout",
     "output_type": "stream",
     "text": [
      "WARNING: saving figure to file figures/filter_genes_dispersionneo_spg0216.pdf\n"
     ]
    }
   ],
   "source": [
    "sc.pp.highly_variable_genes(adata_spg, min_mean=0.0125, max_mean=3, min_disp=0.5)\n",
    "sc.pl.highly_variable_genes(adata_spg, save= \"neo_spg0216.pdf\")\n",
    "adata_spg.raw = adata_spg\n",
    "adata_spg = adata_spg[:, adata_spg.var.highly_variable]\n",
    "sc.pp.regress_out(adata_spg, ['total_counts', 'pct_counts_mt', 'S_score', 'G2M_score'])\n",
    "sc.pp.scale(adata_spg, max_value=10)"
   ]
  },
  {
   "cell_type": "code",
   "execution_count": 16,
   "id": "20dd234e-9d6a-4184-9341-e93714104dec",
   "metadata": {},
   "outputs": [
    {
     "name": "stderr",
     "output_type": "stream",
     "text": [
      "2023-02-20 09:57:23.383866: W tensorflow/stream_executor/platform/default/dso_loader.cc:64] Could not load dynamic library 'libcudart.so.11.0'; dlerror: libcudart.so.11.0: cannot open shared object file: No such file or directory; LD_LIBRARY_PATH: /public/home/zhaox/anaconda3/envs/jupyter/lib:/opt/OpenBLAS/lib\n",
      "2023-02-20 09:57:23.383916: I tensorflow/stream_executor/cuda/cudart_stub.cc:29] Ignore above cudart dlerror if you do not have a GPU set up on your machine.\n",
      "/public/home/zhaox/anaconda3/lib/python3.9/site-packages/sklearn/manifold/_t_sne.py:795: FutureWarning: The default initialization in TSNE will change from 'random' to 'pca' in 1.2.\n",
      "  warnings.warn(\n"
     ]
    }
   ],
   "source": [
    "sc.tl.pca(adata_spg, svd_solver='arpack')\n",
    "sc.pp.neighbors(adata_spg, n_neighbors=10, n_pcs=40)\n",
    "sc.tl.tsne(adata_spg)\n",
    "sc.tl.umap(adata_spg)\n",
    "sc.tl.leiden(adata_spg,resolution=0.3)"
   ]
  },
  {
   "cell_type": "code",
   "execution_count": 17,
   "id": "f31be55b-9ee2-4e45-94bc-f8b6c38819d2",
   "metadata": {},
   "outputs": [
    {
     "name": "stdout",
     "output_type": "stream",
     "text": [
      "WARNING: saving figure to file figures/umapneospgleiden0216.pdf\n"
     ]
    },
    {
     "name": "stderr",
     "output_type": "stream",
     "text": [
      "/public/home/zhaox/anaconda3/lib/python3.9/site-packages/scanpy/plotting/_tools/scatterplots.py:392: UserWarning: No data for colormapping provided via 'c'. Parameters 'cmap' will be ignored\n",
      "  cax = scatter(\n"
     ]
    },
    {
     "name": "stdout",
     "output_type": "stream",
     "text": [
      "WARNING: saving figure to file figures/tsneneospgleiden0216.pdf\n"
     ]
    },
    {
     "name": "stderr",
     "output_type": "stream",
     "text": [
      "/public/home/zhaox/anaconda3/lib/python3.9/site-packages/scanpy/plotting/_tools/scatterplots.py:392: UserWarning: No data for colormapping provided via 'c'. Parameters 'cmap' will be ignored\n",
      "  cax = scatter(\n"
     ]
    },
    {
     "name": "stdout",
     "output_type": "stream",
     "text": [
      "WARNING: saving figure to file figures/umapneospgleiden0216ondata.pdf\n"
     ]
    },
    {
     "name": "stderr",
     "output_type": "stream",
     "text": [
      "/public/home/zhaox/anaconda3/lib/python3.9/site-packages/scanpy/plotting/_tools/scatterplots.py:392: UserWarning: No data for colormapping provided via 'c'. Parameters 'cmap' will be ignored\n",
      "  cax = scatter(\n"
     ]
    }
   ],
   "source": [
    "sc.settings.set_figure_params(dpi = 50, dpi_save = 600, figsize = (4, 4))\n",
    "sc.pl.umap(adata_spg, color='leiden',legend_loc='right margin',save='neospgleiden0216.pdf')\n",
    "sc.pl.tsne(adata_spg, color='leiden',legend_loc='right margin',save='neospgleiden0216.pdf')\n",
    "sc.pl.umap(adata_spg, color='leiden',legend_loc='on data',save='neospgleiden0216ondata.pdf')"
   ]
  },
  {
   "cell_type": "code",
   "execution_count": 18,
   "id": "1fbfc273-3b7a-45aa-a15e-4a56c3c7799a",
   "metadata": {},
   "outputs": [],
   "source": [
    "sc.tl.rank_genes_groups(adata_spg, 'leiden', method='wilcoxon')\n",
    "pd.DataFrame(adata_spg.uns['rank_genes_groups']['names']).head(5)\n",
    "adata_spg.uns['rank_genes_groups'].keys()\n",
    "#dict_keys(['logfoldchanges', 'names', 'params', 'pvals', 'pvals_adj', 'scores'])\n",
    "result = adata_spg.uns['rank_genes_groups']\n",
    "groups = result['names'].dtype.names\n",
    "pd.DataFrame(\n",
    "    {group + '_' + key[:1]: result[key][group]\n",
    "    for group in groups for key in ['names', 'pvals']}).head(5)\n",
    "res = pd.DataFrame(    \n",
    "    {group + '_' + key: result[key][group]    \n",
    "    for group in groups for key in ['names', 'pvals','logfoldchanges','pvals_adj','scores']})\n",
    "res.to_csv(\"./figures/diff_rank_genes_groups_neospgleiden0216.csv\")\n",
    "results_file = './figures/neospgunannotation.h5ad'\n",
    "adata_spg.write(results_file)"
   ]
  },
  {
   "cell_type": "code",
   "execution_count": 19,
   "id": "1ca4a509-5eb9-4362-a28a-9b196575b355",
   "metadata": {},
   "outputs": [
    {
     "data": {
      "text/plain": [
       "AnnData object with n_obs × n_vars = 184 × 19204\n",
       "    obs: 'n_genes', 'n_genes_by_counts', 'total_counts', 'total_counts_mt', 'pct_counts_mt', 'total_counts_chrX', 'pct_counts_chrX', 'total_counts_chrY', 'pct_counts_chrY', 'S_score', 'G2M_score', 'phase', 'doublet', 'doublet_score', 'leiden', 'cell_type'\n",
       "    var: 'gene_ids', 'feature_types', 'genome', 'n_counts', 'mt', 'n_cells_by_counts', 'mean_counts', 'pct_dropout_by_counts', 'total_counts', 'chrX', 'chrY', 'highly_variable', 'means', 'dispersions', 'dispersions_norm'\n",
       "    uns: 'cell_type_colors', 'dendrogram_cell_type', 'dendrogram_leiden', 'hvg', 'leiden', 'leiden_colors', 'neighbors', 'pca', 'rank_genes_groups', 'umap', 'tsne'\n",
       "    obsm: 'X_pca', 'X_umap', 'X_tsne'\n",
       "    obsp: 'connectivities', 'distances'"
      ]
     },
     "execution_count": 19,
     "metadata": {},
     "output_type": "execute_result"
    }
   ],
   "source": [
    "adata_neospgforcellrank = adata_spg.raw.to_adata()\n",
    "adata_neospgforcellrank"
   ]
  },
  {
   "cell_type": "code",
   "execution_count": 20,
   "id": "ddfb25df-ed89-49ec-a1a7-3017399d841f",
   "metadata": {},
   "outputs": [
    {
     "data": {
      "text/plain": [
       "AnnData object with n_obs × n_vars = 184 × 19204\n",
       "    obs: 'n_genes', 'n_genes_by_counts', 'total_counts', 'total_counts_mt', 'pct_counts_mt', 'total_counts_chrX', 'pct_counts_chrX', 'total_counts_chrY', 'pct_counts_chrY', 'S_score', 'G2M_score', 'phase', 'doublet', 'doublet_score', 'leiden', 'cell_type'\n",
       "    var: 'gene_ids', 'feature_types', 'genome', 'n_counts', 'mt', 'n_cells_by_counts', 'mean_counts', 'pct_dropout_by_counts', 'total_counts', 'chrX', 'chrY', 'highly_variable', 'means', 'dispersions', 'dispersions_norm'\n",
       "    uns: 'cell_type_colors', 'dendrogram_cell_type', 'dendrogram_leiden', 'hvg', 'leiden', 'leiden_colors', 'neighbors', 'pca', 'rank_genes_groups', 'umap', 'tsne'\n",
       "    obsm: 'X_pca', 'X_umap', 'X_tsne'\n",
       "    obsp: 'connectivities', 'distances'"
      ]
     },
     "execution_count": 20,
     "metadata": {},
     "output_type": "execute_result"
    }
   ],
   "source": [
    "adata_neospgforcellrank"
   ]
  },
  {
   "cell_type": "code",
   "execution_count": 22,
   "id": "fa9143c1-1fa1-4e6d-b85c-3c1057dcf0c7",
   "metadata": {},
   "outputs": [
    {
     "name": "stdout",
     "output_type": "stream",
     "text": [
      "Running scvelo 0.2.4 (python 3.9.7) on 2023-02-20 10:01.\n"
     ]
    },
    {
     "name": "stderr",
     "output_type": "stream",
     "text": [
      "Numba: Attempted to fork from a non-main thread, the TBB library may be in an invalid state in the child process.\n"
     ]
    }
   ],
   "source": [
    "import scvelo as scv\n",
    "scv.logging.print_version()\n",
    "scv.settings.verbosity = 3  # show errors(0), warnings(1), info(2), hints(3)\n",
    "scv.settings.presenter_view = True  # set max width size for presenter view\n",
    "scv.settings.set_figure_params('scvelo')  # for beautified visualizationscv.settings.set_figure_params('scvelo') \n",
    "sc.settings.set_figure_params(dpi = 50, dpi_save = 600, figsize = (4, 4))"
   ]
  },
  {
   "cell_type": "code",
   "execution_count": 23,
   "id": "776621cc-a70b-4282-b72c-ed55bd5fcac6",
   "metadata": {},
   "outputs": [
    {
     "name": "stdout",
     "output_type": "stream",
     "text": [
      "saving figure to file ./neoproportions0217forscvelo.pdf\n",
      "saving figure to file ./neospgforcellrankspliced0217.pdf\n",
      "Filtered out 17066 genes that are detected 20 counts (shared).\n",
      "WARNING: Did not normalize X as it looks processed already. To enforce normalization, set `enforce=True`.\n",
      "Normalized count data: spliced, unspliced.\n",
      "Extracted 2000 highly variable genes.\n",
      "WARNING: Did not modify X as it looks preprocessed already.\n",
      "computing neighbors\n",
      "    finished (0:00:00) --> added \n",
      "    'distances' and 'connectivities', weighted adjacency matrices (adata.obsp)\n",
      "computing moments based on connectivities\n",
      "    finished (0:00:00) --> added \n",
      "    'Ms' and 'Mu', moments of un/spliced abundances (adata.layers)\n"
     ]
    },
    {
     "name": "stderr",
     "output_type": "stream",
     "text": [
      "ERROR: XMLRPC request failed [code: -32500]\n",
      "RuntimeError: PyPI no longer supports 'pip search' (or XML-RPC search). Please use https://pypi.org/search (via a browser) instead. See https://warehouse.pypa.io/api-reference/xml-rpc.html#deprecated-methods for more information.\n"
     ]
    }
   ],
   "source": [
    "adata_loom = scv.read('/public/home/zhaox/pigscRNA-seq/P5/P5.loom', cache=True)\n",
    "scv.pl.proportions(adata_loom,save=\"./neoproportions0217forscvelo.pdf\")\n",
    "adata = scv.utils.merge(adata_neospgforcellrank, adata_loom)\n",
    "scv.pl.proportions(\n",
    "    adata,\n",
    "    groupby='leiden',\n",
    "    layers=None,\n",
    "    highlight='unspliced',\n",
    "    add_labels_pie=True,\n",
    "    add_labels_bar=True,\n",
    "    fontsize=8,\n",
    "    figsize=(15, 2),\n",
    "    dpi=600,\n",
    "    use_raw=True,\n",
    "    show=True,\n",
    "    save=\"./neospgforcellrankspliced0217.pdf\",\n",
    ")\n",
    "scv.pp.filter_and_normalize(adata, min_shared_counts=20, n_top_genes=2000)\n",
    "scv.pp.moments(adata, n_pcs=30, n_neighbors=30)"
   ]
  },
  {
   "cell_type": "code",
   "execution_count": 24,
   "id": "b31309dc-48a3-47de-ad9d-8dff470cba05",
   "metadata": {},
   "outputs": [
    {
     "data": {
      "text/plain": [
       "AnnData object with n_obs × n_vars = 184 × 2000\n",
       "    obs: 'n_genes', 'n_genes_by_counts', 'total_counts', 'total_counts_mt', 'pct_counts_mt', 'total_counts_chrX', 'pct_counts_chrX', 'total_counts_chrY', 'pct_counts_chrY', 'S_score', 'G2M_score', 'phase', 'doublet', 'doublet_score', 'leiden', 'cell_type', 'initial_size_spliced', 'initial_size_unspliced', 'initial_size', 'n_counts'\n",
       "    var: 'gene_ids', 'feature_types', 'genome', 'n_counts', 'mt', 'n_cells_by_counts', 'mean_counts', 'pct_dropout_by_counts', 'total_counts', 'chrX', 'chrY', 'highly_variable', 'means', 'dispersions', 'dispersions_norm', 'Accession', 'Chromosome', 'End', 'Start', 'Strand'\n",
       "    uns: 'cell_type_colors', 'dendrogram_cell_type', 'dendrogram_leiden', 'hvg', 'leiden', 'leiden_colors', 'neighbors', 'pca', 'rank_genes_groups', 'umap', 'tsne'\n",
       "    obsm: 'X_pca', 'X_umap', 'X_tsne'\n",
       "    layers: 'ambiguous', 'matrix', 'spliced', 'unspliced', 'Ms', 'Mu'\n",
       "    obsp: 'connectivities', 'distances'"
      ]
     },
     "execution_count": 24,
     "metadata": {},
     "output_type": "execute_result"
    }
   ],
   "source": [
    "adata"
   ]
  },
  {
   "cell_type": "code",
   "execution_count": 25,
   "id": "77b009cb-7f6d-49a2-a153-0269266aa2d6",
   "metadata": {},
   "outputs": [
    {
     "name": "stdout",
     "output_type": "stream",
     "text": [
      "recovering dynamics (using 8/24 cores)\n"
     ]
    },
    {
     "data": {
      "application/vnd.jupyter.widget-view+json": {
       "model_id": "523e3ea98f8c4a329730c4ba6a7984d8",
       "version_major": 2,
       "version_minor": 0
      },
      "text/plain": [
       "  0%|          | 0/607 [00:00<?, ?gene/s]"
      ]
     },
     "metadata": {},
     "output_type": "display_data"
    },
    {
     "name": "stdout",
     "output_type": "stream",
     "text": [
      "    finished (0:00:13) --> added \n",
      "    'fit_pars', fitted parameters for splicing dynamics (adata.var)\n",
      "computing velocities\n",
      "    finished (0:00:00) --> added \n",
      "    'velocity', velocity vectors for each individual cell (adata.layers)\n",
      "computing velocity graph (using 1/24 cores)\n"
     ]
    },
    {
     "data": {
      "application/vnd.jupyter.widget-view+json": {
       "model_id": "f1449a7276734560bf46b60803ed253b",
       "version_major": 2,
       "version_minor": 0
      },
      "text/plain": [
       "  0%|          | 0/184 [00:00<?, ?cells/s]"
      ]
     },
     "metadata": {},
     "output_type": "display_data"
    },
    {
     "name": "stdout",
     "output_type": "stream",
     "text": [
      "    finished (0:00:00) --> added \n",
      "    'velocity_graph', sparse matrix with cosine correlations (adata.uns)\n"
     ]
    }
   ],
   "source": [
    "scv.tl.recover_dynamics(adata, n_jobs=8)\n",
    "scv.tl.velocity(adata, mode=\"dynamical\")\n",
    "scv.tl.velocity_graph(adata)"
   ]
  },
  {
   "cell_type": "code",
   "execution_count": 26,
   "id": "a19c9704-f06c-4fba-88e0-6d43d81c7908",
   "metadata": {},
   "outputs": [
    {
     "name": "stdout",
     "output_type": "stream",
     "text": [
      "computing velocity embedding\n",
      "    finished (0:00:00) --> added\n",
      "    'velocity_umap', embedded velocity vectors (adata.obsm)\n",
      "figure cannot be saved as pdf, using png instead.\n",
      "saving figure to file ./neospgforcellrank_embeddingstream0217.png\n"
     ]
    }
   ],
   "source": [
    "scv.pl.velocity_embedding_stream(\n",
    "    adata, basis=\"umap\",color='leiden', legend_fontsize=12, title=\"\", smooth=0.8, min_mass=4,save='./neospgforcellrank_embeddingstream0217.pdf'\n",
    ")"
   ]
  },
  {
   "cell_type": "code",
   "execution_count": 27,
   "id": "8d156ec6-a2be-4b9f-9fff-a1be16d2d8b3",
   "metadata": {},
   "outputs": [],
   "source": [
    "import scvelo as scv\n",
    "import scanpy as sc\n",
    "import cellrank as cr\n",
    "import numpy as np\n",
    "scv.settings.verbosity = 3\n",
    "scv.settings.set_figure_params(\"scvelo\")\n",
    "cr.settings.verbosity = 2\n",
    "import warnings\n",
    "warnings.simplefilter(\"ignore\", category=UserWarning)\n",
    "warnings.simplefilter(\"ignore\", category=FutureWarning)\n",
    "warnings.simplefilter(\"ignore\", category=DeprecationWarning)"
   ]
  },
  {
   "cell_type": "code",
   "execution_count": 28,
   "id": "59f0818e-2f5a-4cc1-ada9-2426990981f8",
   "metadata": {},
   "outputs": [
    {
     "name": "stdout",
     "output_type": "stream",
     "text": [
      "Accessing `adata.obsp['T_fwd']`\n",
      "Computing transition matrix based on logits using `'deterministic'` mode\n",
      "Estimating `softmax_scale` using `'deterministic'` mode\n"
     ]
    },
    {
     "name": "stderr",
     "output_type": "stream",
     "text": [
      "/tmp/ipykernel_78464/1873921063.py:1: DeprecationWarning: `cellrank.tl.terminal_states` will be removed in version `2.0`. Please use the `cellrank.kernels` or `cellrank.estimators` interface instead.\n",
      "  cr.tl.terminal_states(adata, cluster_key=\"leiden\", weight_connectivities=0.2)\n",
      "/public/home/zhaox/anaconda3/lib/python3.9/site-packages/cellrank/tl/_init_term_states.py:156: DeprecationWarning: `cellrank.tl.transition_matrix` will be removed in version `2.0`. Please use the `cellrank.kernels` or `cellrank.estimators` interface instead.\n",
      "  kernel = transition_matrix(\n"
     ]
    },
    {
     "data": {
      "application/vnd.jupyter.widget-view+json": {
       "model_id": "d0bcc19bc1c2464d85971e79e70f9daa",
       "version_major": 2,
       "version_minor": 0
      },
      "text/plain": [
       "  0%|          | 0/184 [00:00<?, ?cell/s]"
      ]
     },
     "metadata": {},
     "output_type": "display_data"
    },
    {
     "name": "stdout",
     "output_type": "stream",
     "text": [
      "Setting `softmax_scale=1.8623`\n"
     ]
    },
    {
     "data": {
      "application/vnd.jupyter.widget-view+json": {
       "model_id": "6d60dd0026a840058bda7d5a04022efe",
       "version_major": 2,
       "version_minor": 0
      },
      "text/plain": [
       "  0%|          | 0/184 [00:00<?, ?cell/s]"
      ]
     },
     "metadata": {},
     "output_type": "display_data"
    },
    {
     "name": "stdout",
     "output_type": "stream",
     "text": [
      "    Finish (0:00:01)\n",
      "Using a connectivity kernel with weight `0.2`\n",
      "Computing transition matrix based on `adata.obsp['connectivities']`\n",
      "    Finish (0:00:00)\n",
      "Computing eigendecomposition of the transition matrix\n",
      "Adding `adata.uns['eigendecomposition_fwd']`\n",
      "       `.eigendecomposition`\n",
      "    Finish (0:00:00)\n",
      "For 1 macrostate, stationary distribution is computed\n",
      "Adding `.macrostates`\n",
      "       `.macrostates_memberships`\n",
      "       `.coarse_T`\n",
      "       `.coarse_initial_distribution\n",
      "       `.coarse_stationary_distribution`\n",
      "       `.schur_vectors`\n",
      "       `.schur_matrix`\n",
      "       `.eigendecomposition`\n",
      "    Finish (0:00:00)\n",
      "Adding `adata.obs['terminal_states']`\n",
      "       `adata.obs['terminal_states_probs']`\n",
      "       `.terminal_states`\n",
      "       `.terminal_states_probabilities`\n",
      "       `.terminal_states_memberships\n",
      "    Finish`\n"
     ]
    }
   ],
   "source": [
    "cr.tl.terminal_states(adata, cluster_key=\"leiden\", weight_connectivities=0.2)"
   ]
  },
  {
   "cell_type": "code",
   "execution_count": 29,
   "id": "e0de84fb-eff2-42f9-b8c1-5eb1755269e2",
   "metadata": {},
   "outputs": [
    {
     "name": "stderr",
     "output_type": "stream",
     "text": [
      "/public/home/zhaox/anaconda3/lib/python3.9/site-packages/scvelo/plotting/utils.py:869: MatplotlibDeprecationWarning: The draw_all function was deprecated in Matplotlib 3.6 and will be removed two minor releases later. Use fig.draw_without_rendering() instead.\n",
      "  cb.draw_all()\n"
     ]
    }
   ],
   "source": [
    "cr.pl.terminal_states(adata,color='leiden')\n",
    "plt.savefig('./neospgforcellrank_terminal_states0217.pdf')"
   ]
  },
  {
   "cell_type": "code",
   "execution_count": 30,
   "id": "02c917c6-a628-4e1c-acba-fae73ef76e0c",
   "metadata": {},
   "outputs": [
    {
     "name": "stdout",
     "output_type": "stream",
     "text": [
      "Accessing `adata.obsp['T_bwd']`\n",
      "Computing transition matrix based on logits using `'deterministic'` mode\n",
      "Estimating `softmax_scale` using `'deterministic'` mode\n"
     ]
    },
    {
     "name": "stderr",
     "output_type": "stream",
     "text": [
      "/tmp/ipykernel_78464/2499869230.py:1: DeprecationWarning: `cellrank.tl.initial_states` will be removed in version `2.0`. Please use the `cellrank.kernels` or `cellrank.estimators` interface instead.\n",
      "  cr.tl.initial_states(adata, cluster_key=\"leiden\")\n",
      "/public/home/zhaox/anaconda3/lib/python3.9/site-packages/cellrank/tl/_init_term_states.py:156: DeprecationWarning: `cellrank.tl.transition_matrix` will be removed in version `2.0`. Please use the `cellrank.kernels` or `cellrank.estimators` interface instead.\n",
      "  kernel = transition_matrix(\n"
     ]
    },
    {
     "data": {
      "application/vnd.jupyter.widget-view+json": {
       "model_id": "8e7f257e1d9d402999c7fc4e4e1c4e36",
       "version_major": 2,
       "version_minor": 0
      },
      "text/plain": [
       "  0%|          | 0/184 [00:00<?, ?cell/s]"
      ]
     },
     "metadata": {},
     "output_type": "display_data"
    },
    {
     "name": "stdout",
     "output_type": "stream",
     "text": [
      "Setting `softmax_scale=1.8623`\n"
     ]
    },
    {
     "data": {
      "application/vnd.jupyter.widget-view+json": {
       "model_id": "ef2a45b5e97f41f9bd354504ab2fcbcd",
       "version_major": 2,
       "version_minor": 0
      },
      "text/plain": [
       "  0%|          | 0/184 [00:00<?, ?cell/s]"
      ]
     },
     "metadata": {},
     "output_type": "display_data"
    },
    {
     "name": "stdout",
     "output_type": "stream",
     "text": [
      "    Finish (0:00:01)\n",
      "Using a connectivity kernel with weight `0.2`\n",
      "Computing transition matrix based on `adata.obsp['connectivities']`\n",
      "    Finish (0:00:00)\n",
      "Computing eigendecomposition of the transition matrix\n",
      "Adding `adata.uns['eigendecomposition_bwd']`\n",
      "       `.eigendecomposition`\n",
      "    Finish (0:00:00)\n",
      "For 1 macrostate, stationary distribution is computed\n",
      "Adding `.macrostates`\n",
      "       `.macrostates_memberships`\n",
      "       `.coarse_T`\n",
      "       `.coarse_initial_distribution\n",
      "       `.coarse_stationary_distribution`\n",
      "       `.schur_vectors`\n",
      "       `.schur_matrix`\n",
      "       `.eigendecomposition`\n",
      "    Finish (0:00:00)\n",
      "Adding `adata.obs['initial_states']`\n",
      "       `adata.obs['initial_states_probs']`\n",
      "       `.terminal_states`\n",
      "       `.terminal_states_probabilities`\n",
      "       `.terminal_states_memberships\n",
      "    Finish`\n"
     ]
    }
   ],
   "source": [
    "cr.tl.initial_states(adata, cluster_key=\"leiden\")"
   ]
  },
  {
   "cell_type": "code",
   "execution_count": 31,
   "id": "831a7887-c8a6-4ada-8515-ed3e253b5f65",
   "metadata": {},
   "outputs": [],
   "source": [
    "cr.pl.initial_states(adata, discrete=True)\n",
    "plt.savefig('./neospgforcellrank_initial_states0217.pdf')"
   ]
  },
  {
   "cell_type": "code",
   "execution_count": 34,
   "id": "6ec3249f-3e6d-4a0b-b5af-d483cf5d1a6c",
   "metadata": {},
   "outputs": [],
   "source": [
    "marker_genes_dict = {\n",
    "    'PGCL': ['POU5F1', 'NANOG', 'PIM2','ETV4'],\n",
    "    'PreSPG': ['DOCK8', 'SERINC2', 'TTC14','COL1A2','TIMP2','ZFHX3','LY6K'],\n",
    "    'SSC': ['UCHL1', 'PIWIL4', 'UTF1','GFRA1','ETV5','FGFR3'],\n",
    "    'Diffing SPG': ['KIT', 'MKI67','SOHLH1','DMRT1'],\n",
    "    'Diffed SPG': ['STRA8'],\n",
    "    'Meiotic genes':['SYCP3','SYCP2']\n",
    "}"
   ]
  },
  {
   "cell_type": "code",
   "execution_count": 36,
   "id": "89b63444-8592-478e-94bf-2af368857916",
   "metadata": {},
   "outputs": [],
   "source": [
    "marker_genes_dict = {\n",
    "    'PGCL': ['POU5F1', 'NANOG', 'PIM2','ETV4'],\n",
    "    'PreSPG': ['DOCK8', 'SERINC2', 'TTC14','COL1A2','TIMP2','ZFHX3','LY6K'],\n",
    "    'SSC': ['UCHL1', 'PIWIL4', 'UTF1','GFRA1','ETV5','FGFR3'],\n",
    "    'Diffing SPG': ['KIT', 'MKI67','SOHLH1','DMRT1'],\n",
    "    'Diffed SPG': ['STRA8'],\n",
    "}"
   ]
  },
  {
   "cell_type": "code",
   "execution_count": 37,
   "id": "857aff39-7895-4cae-88be-ef35fb3121b1",
   "metadata": {},
   "outputs": [
    {
     "name": "stdout",
     "output_type": "stream",
     "text": [
      "WARNING: Groups are not reordered because the `groupby` categories and the `var_group_labels` are different.\n",
      "categories: 0, 1, 2\n",
      "var_group_labels: PGCL, PreSPG, SSC, etc.\n",
      "WARNING: saving figure to file figures/dotplot_neospgannotation0217.pdf\n"
     ]
    }
   ],
   "source": [
    "sc.tl.dendrogram(adata_spg,groupby=\"leiden\")\n",
    "sc.pl.dotplot(adata_spg, marker_genes_dict, 'leiden', standard_scale='var',dendrogram=True,save=\"neospgannotation0217.pdf\")"
   ]
  },
  {
   "cell_type": "code",
   "execution_count": 38,
   "id": "56492d02-d782-4635-8a3f-14412d7cff8d",
   "metadata": {},
   "outputs": [
    {
     "data": {
      "text/plain": [
       "AAAGGGCAGGCTAGCA-1    0\n",
       "AACAAGACACCTGTCT-1    0\n",
       "AACCACATCACTTCTA-1    1\n",
       "AAGACTCCAACACTAC-1    0\n",
       "AAGACTCCACTGCATA-1    1\n",
       "                     ..\n",
       "TTCCGTGGTCGTTTCC-1    1\n",
       "TTCTTCCCAGACTCTA-1    0\n",
       "TTGCGTCGTACTTGTG-1    0\n",
       "TTGGGCGGTCACTGAT-1    0\n",
       "TTTAGTCAGCGTGCCT-1    0\n",
       "Name: leiden, Length: 184, dtype: category\n",
       "Categories (3, object): ['0', '1', '2']"
      ]
     },
     "execution_count": 38,
     "metadata": {},
     "output_type": "execute_result"
    }
   ],
   "source": [
    "adata_spg.obs.leiden"
   ]
  },
  {
   "cell_type": "code",
   "execution_count": 39,
   "id": "5ee32550-196e-49b0-aeab-3d7f226f3ba7",
   "metadata": {},
   "outputs": [],
   "source": [
    "cluster2annotation = {\n",
    "     '0': 'SSC',\n",
    "     '1': 'PreSPG-1',\n",
    "     '2': 'PreSPG-2',\n",
    "}\n",
    "adata_spg.obs['cell_type'] = adata_spg.obs['leiden'].map(cluster2annotation).astype('category')"
   ]
  },
  {
   "cell_type": "code",
   "execution_count": 40,
   "id": "48b6cb3c-ac49-451d-b8ae-3041533d5fa8",
   "metadata": {},
   "outputs": [
    {
     "data": {
      "text/plain": [
       "AAAGGGCAGGCTAGCA-1         SSC\n",
       "AACAAGACACCTGTCT-1         SSC\n",
       "AACCACATCACTTCTA-1    PreSPG-1\n",
       "AAGACTCCAACACTAC-1         SSC\n",
       "AAGACTCCACTGCATA-1    PreSPG-1\n",
       "                        ...   \n",
       "TTCCGTGGTCGTTTCC-1    PreSPG-1\n",
       "TTCTTCCCAGACTCTA-1         SSC\n",
       "TTGCGTCGTACTTGTG-1         SSC\n",
       "TTGGGCGGTCACTGAT-1         SSC\n",
       "TTTAGTCAGCGTGCCT-1         SSC\n",
       "Name: cell_type, Length: 184, dtype: category\n",
       "Categories (3, object): ['SSC', 'PreSPG-1', 'PreSPG-2']"
      ]
     },
     "execution_count": 40,
     "metadata": {},
     "output_type": "execute_result"
    }
   ],
   "source": [
    "adata_spg.obs.cell_type"
   ]
  },
  {
   "cell_type": "code",
   "execution_count": 41,
   "id": "67005306-d2bc-4c44-8fcb-c7da99935dd4",
   "metadata": {},
   "outputs": [],
   "source": [
    "original_order = ['SSC', 'PreSPG-1', 'PreSPG-2']\n",
    "adata_spg.obs['cell_type'] = adata_spg.obs['cell_type'].cat.set_categories(['PreSPG-1', 'PreSPG-2','SSC'])"
   ]
  },
  {
   "cell_type": "code",
   "execution_count": 42,
   "id": "33e0c14f-4875-4135-8d42-6c86d93803c3",
   "metadata": {},
   "outputs": [
    {
     "name": "stdout",
     "output_type": "stream",
     "text": [
      "WARNING: saving figure to file figures/umapneospgcelltyperight0217.pdf\n"
     ]
    },
    {
     "name": "stderr",
     "output_type": "stream",
     "text": [
      "/public/home/zhaox/anaconda3/lib/python3.9/site-packages/scanpy/_settings.py:447: DeprecationWarning: `set_matplotlib_formats` is deprecated since IPython 7.23, directly use `matplotlib_inline.backend_inline.set_matplotlib_formats()`\n",
      "  IPython.display.set_matplotlib_formats(*ipython_format)\n"
     ]
    }
   ],
   "source": [
    "sc.settings.set_figure_params(dpi = 50, dpi_save = 600, figsize = (4, 4))\n",
    "sc.pl.umap(adata_spg, color='cell_type', frameon=True, legend_loc= \"right margin\", legend_fontsize=10, legend_fontweight=\"normal\", legend_fontoutline=2, save=\"neospgcelltyperight0217.pdf\")"
   ]
  },
  {
   "cell_type": "code",
   "execution_count": 43,
   "id": "3a2cc0a8-10ec-4118-82ca-2e09bc7d071a",
   "metadata": {},
   "outputs": [],
   "source": [
    "cell_cycle_genes = [x.strip() for x in open('/public/home/zhaox/pigscRNA-seq/cell_cycle_genes (remove).txt')]\n",
    "s_genes = cell_cycle_genes[:43]\n",
    "g2m_genes = cell_cycle_genes[43:]"
   ]
  },
  {
   "cell_type": "code",
   "execution_count": 44,
   "id": "0c57e5d3-6a53-4117-9c92-af86ed78bf36",
   "metadata": {},
   "outputs": [
    {
     "name": "stdout",
     "output_type": "stream",
     "text": [
      "WARNING: saving figure to file figures/heatmapg1scellcycle_neospg0217.pdf\n"
     ]
    },
    {
     "name": "stderr",
     "output_type": "stream",
     "text": [
      "/public/home/zhaox/anaconda3/lib/python3.9/site-packages/scanpy/plotting/_anndata.py:2511: MatplotlibDeprecationWarning: Auto-removal of grids by pcolor() and pcolormesh() is deprecated since 3.5 and will be removed two minor releases later; please call grid(False) first.\n",
      "  pl.colorbar(mappable, cax=heatmap_cbar_ax)\n"
     ]
    },
    {
     "name": "stdout",
     "output_type": "stream",
     "text": [
      "WARNING: saving figure to file figures/heatmapg2mcellcycle_neospg0217.pdf\n"
     ]
    },
    {
     "name": "stderr",
     "output_type": "stream",
     "text": [
      "/public/home/zhaox/anaconda3/lib/python3.9/site-packages/scanpy/plotting/_anndata.py:2511: MatplotlibDeprecationWarning: Auto-removal of grids by pcolor() and pcolormesh() is deprecated since 3.5 and will be removed two minor releases later; please call grid(False) first.\n",
      "  pl.colorbar(mappable, cax=heatmap_cbar_ax)\n"
     ]
    }
   ],
   "source": [
    "ax = sc.pl.heatmap(adata_spg, s_genes, groupby='cell_type', vmin=-2, vmax=2, cmap='RdBu_r', dendrogram=False, show_gene_labels=False,swap_axes=True, figsize=(11,3),save='g1scellcycle_neospg0217.pdf')\n",
    "ax = sc.pl.heatmap(adata_spg, g2m_genes, groupby='cell_type', vmin=-2, vmax=2, cmap='RdBu_r', dendrogram=False, show_gene_labels=False,swap_axes=True, figsize=(11,4),save='g2mcellcycle_neospg0217.pdf')"
   ]
  },
  {
   "cell_type": "code",
   "execution_count": 46,
   "id": "759dddae-669b-49fb-8c18-31cb274f5ee9",
   "metadata": {},
   "outputs": [
    {
     "data": {
      "text/plain": [
       "['SSC', 'PreSPG-1', 'PreSPG-2']"
      ]
     },
     "execution_count": 46,
     "metadata": {},
     "output_type": "execute_result"
    }
   ],
   "source": [
    "adata_spg.obs['cell_type'].unique().tolist()"
   ]
  },
  {
   "cell_type": "code",
   "execution_count": 51,
   "id": "b35b710d-6cc7-466d-b798-246ad98107af",
   "metadata": {},
   "outputs": [],
   "source": [
    "original_order = ['Diff SPG', 'SSC2', 'SSC1', 'Mix(SSC/VIM)']\n",
    "adata_spg.obs['cell_type'] = adata_spg.obs['cell_type'].cat.set_categories(['SSC1', 'SSC2','Mix(SSC/VIM)','Diff SPG'])"
   ]
  },
  {
   "cell_type": "code",
   "execution_count": 47,
   "id": "33c62675-cb82-4af7-acb6-34e6fa79ca23",
   "metadata": {},
   "outputs": [],
   "source": [
    "sc.tl.rank_genes_groups(adata_spg, 'cell_type', method='wilcoxon')"
   ]
  },
  {
   "cell_type": "code",
   "execution_count": 48,
   "id": "362e8ebf-9d9e-476c-bfc4-6b538f2ac312",
   "metadata": {},
   "outputs": [],
   "source": [
    "pd.DataFrame(adata_spg.uns['rank_genes_groups']['names']).head(5)\n",
    "adata_spg.uns['rank_genes_groups'].keys()\n",
    "#dict_keys(['logfoldchanges', 'names', 'params', 'pvals', 'pvals_adj', 'scores'])\n",
    "result = adata_spg.uns['rank_genes_groups']\n",
    "groups = result['names'].dtype.names\n",
    "pd.DataFrame(\n",
    "    {group + '_' + key[:1]: result[key][group]\n",
    "    for group in groups for key in ['names', 'pvals']}).head(5)\n",
    "res = pd.DataFrame(    \n",
    "    {group + '_' + key: result[key][group]    \n",
    "    for group in groups for key in ['names', 'pvals','logfoldchanges','pvals_adj','scores']})\n",
    "res.to_csv(\"./figures/diff_rank_genes_groups_neospgcelltype0217.csv\")"
   ]
  },
  {
   "cell_type": "code",
   "execution_count": 49,
   "id": "a543d6b6-80c0-4d90-a059-43aab1de8e66",
   "metadata": {},
   "outputs": [
    {
     "name": "stdout",
     "output_type": "stream",
     "text": [
      "WARNING: Gene labels are not shown when more than 50 genes are visualized. To show gene labels set `show_gene_labels=True`\n",
      "WARNING: saving figure to file figures/heatmapneospg0217.pdf\n"
     ]
    },
    {
     "name": "stderr",
     "output_type": "stream",
     "text": [
      "/public/home/zhaox/anaconda3/lib/python3.9/site-packages/scanpy/plotting/_anndata.py:2511: MatplotlibDeprecationWarning: Auto-removal of grids by pcolor() and pcolormesh() is deprecated since 3.5 and will be removed two minor releases later; please call grid(False) first.\n",
      "  pl.colorbar(mappable, cax=heatmap_cbar_ax)\n"
     ]
    },
    {
     "data": {
      "text/plain": [
       "{'heatmap_ax': <AxesSubplot: >,\n",
       " 'groupby_ax': <AxesSubplot: ylabel='cell_type'>,\n",
       " 'gene_groups_ax': <AxesSubplot: >}"
      ]
     },
     "execution_count": 49,
     "metadata": {},
     "output_type": "execute_result"
    }
   ],
   "source": [
    "sc.pl.rank_genes_groups_heatmap(adata_spg, use_raw=True,vmin=-3, vmax=3, min_logfoldchange=1,groupby='cell_type',n_genes=50, cmap='RdBu_r', show=False,dendrogram=False, save = \"neospg0217.pdf\")"
   ]
  },
  {
   "cell_type": "code",
   "execution_count": 50,
   "id": "7c44a79e-82ce-4886-942f-47d3e2bdeac9",
   "metadata": {},
   "outputs": [
    {
     "data": {
      "text/plain": [
       "AnnData object with n_obs × n_vars = 184 × 4944\n",
       "    obs: 'n_genes', 'n_genes_by_counts', 'total_counts', 'total_counts_mt', 'pct_counts_mt', 'total_counts_chrX', 'pct_counts_chrX', 'total_counts_chrY', 'pct_counts_chrY', 'S_score', 'G2M_score', 'phase', 'doublet', 'doublet_score', 'leiden', 'cell_type'\n",
       "    var: 'gene_ids', 'feature_types', 'genome', 'n_counts', 'mt', 'n_cells_by_counts', 'mean_counts', 'pct_dropout_by_counts', 'total_counts', 'chrX', 'chrY', 'highly_variable', 'means', 'dispersions', 'dispersions_norm', 'mean', 'std'\n",
       "    uns: 'cell_type_colors', 'dendrogram_cell_type', 'dendrogram_leiden', 'hvg', 'leiden', 'leiden_colors', 'neighbors', 'pca', 'rank_genes_groups', 'umap', 'tsne'\n",
       "    obsm: 'X_pca', 'X_umap', 'X_tsne'\n",
       "    varm: 'PCs'\n",
       "    obsp: 'connectivities', 'distances'"
      ]
     },
     "execution_count": 50,
     "metadata": {},
     "output_type": "execute_result"
    }
   ],
   "source": [
    "adata_spg"
   ]
  },
  {
   "cell_type": "code",
   "execution_count": 51,
   "id": "0a0b2191-e685-4b0a-b056-f14afecfd00c",
   "metadata": {},
   "outputs": [],
   "source": [
    "results_file = './figures/neospg_annotation.h5ad'\n",
    "adata_spg.write(results_file)"
   ]
  },
  {
   "cell_type": "code",
   "execution_count": 52,
   "id": "88ddccca-e4d7-4a8e-9131-ad1577256454",
   "metadata": {},
   "outputs": [
    {
     "data": {
      "text/plain": [
       "AnnData object with n_obs × n_vars = 184 × 19204\n",
       "    obs: 'n_genes', 'n_genes_by_counts', 'total_counts', 'total_counts_mt', 'pct_counts_mt', 'total_counts_chrX', 'pct_counts_chrX', 'total_counts_chrY', 'pct_counts_chrY', 'S_score', 'G2M_score', 'phase', 'doublet', 'doublet_score', 'leiden', 'cell_type'\n",
       "    var: 'gene_ids', 'feature_types', 'genome', 'n_counts', 'mt', 'n_cells_by_counts', 'mean_counts', 'pct_dropout_by_counts', 'total_counts', 'chrX', 'chrY', 'highly_variable', 'means', 'dispersions', 'dispersions_norm'\n",
       "    uns: 'cell_type_colors', 'dendrogram_cell_type', 'dendrogram_leiden', 'hvg', 'leiden', 'leiden_colors', 'neighbors', 'pca', 'rank_genes_groups', 'umap', 'tsne'\n",
       "    obsm: 'X_pca', 'X_umap', 'X_tsne'\n",
       "    obsp: 'connectivities', 'distances'"
      ]
     },
     "execution_count": 52,
     "metadata": {},
     "output_type": "execute_result"
    }
   ],
   "source": [
    "adata_neospgforcellrank = adata_spg.raw.to_adata()\n",
    "adata_neospgforcellrank"
   ]
  },
  {
   "cell_type": "code",
   "execution_count": 53,
   "id": "53a65054-a7d7-4af0-90be-840f99389ab9",
   "metadata": {},
   "outputs": [
    {
     "name": "stdout",
     "output_type": "stream",
     "text": [
      "saving figure to file ./neospgforcellrankcelltypespliced0217.pdf\n",
      "Filtered out 17066 genes that are detected 20 counts (shared).\n",
      "WARNING: Did not normalize X as it looks processed already. To enforce normalization, set `enforce=True`.\n",
      "Normalized count data: spliced, unspliced.\n",
      "Extracted 2000 highly variable genes.\n",
      "WARNING: Did not modify X as it looks preprocessed already.\n",
      "computing neighbors\n",
      "    finished (0:00:00) --> added \n",
      "    'distances' and 'connectivities', weighted adjacency matrices (adata.obsp)\n",
      "computing moments based on connectivities\n",
      "    finished (0:00:00) --> added \n",
      "    'Ms' and 'Mu', moments of un/spliced abundances (adata.layers)\n"
     ]
    }
   ],
   "source": [
    "adata_loom = scv.read('/public/home/zhaox/pigscRNA-seq/P5/P5.loom', cache=True)\n",
    "adata = scv.utils.merge(adata_neospgforcellrank, adata_loom)\n",
    "scv.pl.proportions(\n",
    "    adata,\n",
    "    groupby='cell_type',\n",
    "    layers=None,\n",
    "    highlight='unspliced',\n",
    "    add_labels_pie=True,\n",
    "    add_labels_bar=True,\n",
    "    fontsize=8,\n",
    "    figsize=(15, 2),\n",
    "    dpi=600,\n",
    "    use_raw=True,\n",
    "    show=True,\n",
    "    save=\"./neospgforcellrankcelltypespliced0217.pdf\",\n",
    ")\n",
    "scv.pp.filter_and_normalize(adata, min_shared_counts=20, n_top_genes=2000)\n",
    "scv.pp.moments(adata, n_pcs=30, n_neighbors=30)"
   ]
  },
  {
   "cell_type": "code",
   "execution_count": 54,
   "id": "ddc2233d-a0bf-4717-80b7-b4bcba1d9d97",
   "metadata": {},
   "outputs": [
    {
     "name": "stdout",
     "output_type": "stream",
     "text": [
      "recovering dynamics (using 8/24 cores)\n"
     ]
    },
    {
     "data": {
      "application/vnd.jupyter.widget-view+json": {
       "model_id": "3ac932986aea48239efc0050ff79efb1",
       "version_major": 2,
       "version_minor": 0
      },
      "text/plain": [
       "  0%|          | 0/607 [00:00<?, ?gene/s]"
      ]
     },
     "metadata": {},
     "output_type": "display_data"
    },
    {
     "name": "stdout",
     "output_type": "stream",
     "text": [
      "    finished (0:00:14) --> added \n",
      "    'fit_pars', fitted parameters for splicing dynamics (adata.var)\n",
      "computing velocities\n",
      "    finished (0:00:00) --> added \n",
      "    'velocity', velocity vectors for each individual cell (adata.layers)\n",
      "computing velocity graph (using 1/24 cores)\n"
     ]
    },
    {
     "data": {
      "application/vnd.jupyter.widget-view+json": {
       "model_id": "2d4f72357a224d738ac90cda3078f169",
       "version_major": 2,
       "version_minor": 0
      },
      "text/plain": [
       "  0%|          | 0/184 [00:00<?, ?cells/s]"
      ]
     },
     "metadata": {},
     "output_type": "display_data"
    },
    {
     "name": "stdout",
     "output_type": "stream",
     "text": [
      "    finished (0:00:00) --> added \n",
      "    'velocity_graph', sparse matrix with cosine correlations (adata.uns)\n"
     ]
    }
   ],
   "source": [
    "scv.tl.recover_dynamics(adata, n_jobs=8)\n",
    "scv.tl.velocity(adata, mode=\"dynamical\")\n",
    "scv.tl.velocity_graph(adata)"
   ]
  },
  {
   "cell_type": "code",
   "execution_count": 55,
   "id": "002ff95c-c071-4149-861e-47d36cd76edc",
   "metadata": {},
   "outputs": [
    {
     "name": "stdout",
     "output_type": "stream",
     "text": [
      "computing velocity embedding\n",
      "    finished (0:00:00) --> added\n",
      "    'velocity_umap', embedded velocity vectors (adata.obsm)\n",
      "figure cannot be saved as pdf, using png instead.\n",
      "saving figure to file ./neospgforcellrankcelltype_embeddingstream0217.png\n"
     ]
    }
   ],
   "source": [
    "scv.pl.velocity_embedding_stream(\n",
    "    adata, basis=\"umap\",color='cell_type', legend_fontsize=12, title=\"\", smooth=0.8, min_mass=4,save='./neospgforcellrankcelltype_embeddingstream0217.pdf'\n",
    ")"
   ]
  },
  {
   "cell_type": "code",
   "execution_count": 56,
   "id": "218b4c73-e183-4e6c-b56f-018434a96ad1",
   "metadata": {},
   "outputs": [
    {
     "name": "stdout",
     "output_type": "stream",
     "text": [
      "Accessing `adata.obsp['T_fwd']`\n",
      "Computing transition matrix based on logits using `'deterministic'` mode\n",
      "Estimating `softmax_scale` using `'deterministic'` mode\n"
     ]
    },
    {
     "name": "stderr",
     "output_type": "stream",
     "text": [
      "/tmp/ipykernel_78464/637574554.py:1: DeprecationWarning: `cellrank.tl.terminal_states` will be removed in version `2.0`. Please use the `cellrank.kernels` or `cellrank.estimators` interface instead.\n",
      "  cr.tl.terminal_states(adata, cluster_key=\"cell_type\", weight_connectivities=0.2)\n",
      "/public/home/zhaox/anaconda3/lib/python3.9/site-packages/cellrank/tl/_init_term_states.py:156: DeprecationWarning: `cellrank.tl.transition_matrix` will be removed in version `2.0`. Please use the `cellrank.kernels` or `cellrank.estimators` interface instead.\n",
      "  kernel = transition_matrix(\n"
     ]
    },
    {
     "data": {
      "application/vnd.jupyter.widget-view+json": {
       "model_id": "799546f020ea454aaa11f2613b7f0014",
       "version_major": 2,
       "version_minor": 0
      },
      "text/plain": [
       "  0%|          | 0/184 [00:00<?, ?cell/s]"
      ]
     },
     "metadata": {},
     "output_type": "display_data"
    },
    {
     "name": "stdout",
     "output_type": "stream",
     "text": [
      "Setting `softmax_scale=1.8623`\n"
     ]
    },
    {
     "data": {
      "application/vnd.jupyter.widget-view+json": {
       "model_id": "ec9aa3e491614eb1b0b5ecc9bd744d27",
       "version_major": 2,
       "version_minor": 0
      },
      "text/plain": [
       "  0%|          | 0/184 [00:00<?, ?cell/s]"
      ]
     },
     "metadata": {},
     "output_type": "display_data"
    },
    {
     "name": "stdout",
     "output_type": "stream",
     "text": [
      "    Finish (0:00:01)\n",
      "Using a connectivity kernel with weight `0.2`\n",
      "Computing transition matrix based on `adata.obsp['connectivities']`\n",
      "    Finish (0:00:00)\n",
      "Computing eigendecomposition of the transition matrix\n",
      "Adding `adata.uns['eigendecomposition_fwd']`\n",
      "       `.eigendecomposition`\n",
      "    Finish (0:00:00)\n",
      "For 1 macrostate, stationary distribution is computed\n",
      "Adding `.macrostates`\n",
      "       `.macrostates_memberships`\n",
      "       `.coarse_T`\n",
      "       `.coarse_initial_distribution\n",
      "       `.coarse_stationary_distribution`\n",
      "       `.schur_vectors`\n",
      "       `.schur_matrix`\n",
      "       `.eigendecomposition`\n",
      "    Finish (0:00:00)\n",
      "Adding `adata.obs['terminal_states']`\n",
      "       `adata.obs['terminal_states_probs']`\n",
      "       `.terminal_states`\n",
      "       `.terminal_states_probabilities`\n",
      "       `.terminal_states_memberships\n",
      "    Finish`\n"
     ]
    }
   ],
   "source": [
    "cr.tl.terminal_states(adata, cluster_key=\"cell_type\", weight_connectivities=0.2)"
   ]
  },
  {
   "cell_type": "code",
   "execution_count": 57,
   "id": "95f24bd4-7070-4534-bf99-3ddb4313a6d0",
   "metadata": {},
   "outputs": [
    {
     "name": "stderr",
     "output_type": "stream",
     "text": [
      "/public/home/zhaox/anaconda3/lib/python3.9/site-packages/scvelo/plotting/utils.py:866: MatplotlibDeprecationWarning: Auto-removal of grids by pcolor() and pcolormesh() is deprecated since 3.5 and will be removed two minor releases later; please call grid(False) first.\n",
      "  cb = pl.colorbar(smp, orientation=orientation, cax=cax)\n",
      "/public/home/zhaox/anaconda3/lib/python3.9/site-packages/scvelo/plotting/utils.py:869: MatplotlibDeprecationWarning: The draw_all function was deprecated in Matplotlib 3.6 and will be removed two minor releases later. Use fig.draw_without_rendering() instead.\n",
      "  cb.draw_all()\n"
     ]
    }
   ],
   "source": [
    "cr.pl.terminal_states(adata,color='cell_type')\n",
    "plt.savefig('./neospgforcellrank_terminal_states0217.pdf')"
   ]
  },
  {
   "cell_type": "code",
   "execution_count": 58,
   "id": "32269444-03ee-48ef-b00f-dfdbb1d134b1",
   "metadata": {},
   "outputs": [
    {
     "name": "stdout",
     "output_type": "stream",
     "text": [
      "Accessing `adata.obsp['T_bwd']`\n",
      "Computing transition matrix based on logits using `'deterministic'` mode\n",
      "Estimating `softmax_scale` using `'deterministic'` mode\n"
     ]
    },
    {
     "name": "stderr",
     "output_type": "stream",
     "text": [
      "/tmp/ipykernel_78464/1494950991.py:1: DeprecationWarning: `cellrank.tl.initial_states` will be removed in version `2.0`. Please use the `cellrank.kernels` or `cellrank.estimators` interface instead.\n",
      "  cr.tl.initial_states(adata, cluster_key=\"cell_type\")\n",
      "/public/home/zhaox/anaconda3/lib/python3.9/site-packages/cellrank/tl/_init_term_states.py:156: DeprecationWarning: `cellrank.tl.transition_matrix` will be removed in version `2.0`. Please use the `cellrank.kernels` or `cellrank.estimators` interface instead.\n",
      "  kernel = transition_matrix(\n"
     ]
    },
    {
     "data": {
      "application/vnd.jupyter.widget-view+json": {
       "model_id": "7206698f39f34dfca75b97646337179d",
       "version_major": 2,
       "version_minor": 0
      },
      "text/plain": [
       "  0%|          | 0/184 [00:00<?, ?cell/s]"
      ]
     },
     "metadata": {},
     "output_type": "display_data"
    },
    {
     "name": "stdout",
     "output_type": "stream",
     "text": [
      "Setting `softmax_scale=1.8623`\n"
     ]
    },
    {
     "data": {
      "application/vnd.jupyter.widget-view+json": {
       "model_id": "60f98a460d09407a8f1e427cede56e2d",
       "version_major": 2,
       "version_minor": 0
      },
      "text/plain": [
       "  0%|          | 0/184 [00:00<?, ?cell/s]"
      ]
     },
     "metadata": {},
     "output_type": "display_data"
    },
    {
     "name": "stdout",
     "output_type": "stream",
     "text": [
      "    Finish (0:00:01)\n",
      "Using a connectivity kernel with weight `0.2`\n",
      "Computing transition matrix based on `adata.obsp['connectivities']`\n",
      "    Finish (0:00:00)\n",
      "Computing eigendecomposition of the transition matrix\n",
      "Adding `adata.uns['eigendecomposition_bwd']`\n",
      "       `.eigendecomposition`\n",
      "    Finish (0:00:00)\n",
      "For 1 macrostate, stationary distribution is computed\n",
      "Adding `.macrostates`\n",
      "       `.macrostates_memberships`\n",
      "       `.coarse_T`\n",
      "       `.coarse_initial_distribution\n",
      "       `.coarse_stationary_distribution`\n",
      "       `.schur_vectors`\n",
      "       `.schur_matrix`\n",
      "       `.eigendecomposition`\n",
      "    Finish (0:00:00)\n",
      "Adding `adata.obs['initial_states']`\n",
      "       `adata.obs['initial_states_probs']`\n",
      "       `.terminal_states`\n",
      "       `.terminal_states_probabilities`\n",
      "       `.terminal_states_memberships\n",
      "    Finish`\n"
     ]
    }
   ],
   "source": [
    "cr.tl.initial_states(adata, cluster_key=\"cell_type\")\n",
    "cr.pl.initial_states(adata, discrete=True)\n",
    "plt.savefig('./neospgforcellrank_initial_states0217.pdf')"
   ]
  },
  {
   "cell_type": "code",
   "execution_count": 59,
   "id": "589ab889-74dd-400c-819f-be71b0da3b66",
   "metadata": {},
   "outputs": [
    {
     "name": "stdout",
     "output_type": "stream",
     "text": [
      "Computing absorption probabilities\n",
      "WARNING: There is only `1` terminal state, all cells will have probability `1` of going there\n",
      "WARNING: Unable to import petsc4py. For installation, please refer to: https://petsc4py.readthedocs.io/en/stable/install.html.\n",
      "Defaulting to `'gmres'` solver.\n"
     ]
    },
    {
     "name": "stderr",
     "output_type": "stream",
     "text": [
      "/tmp/ipykernel_78464/1915926224.py:1: DeprecationWarning: `cellrank.tl.lineages` will be removed in version `2.0`. Please use the `cellrank.kernels` or `cellrank.estimators` interface instead.\n",
      "  cr.tl.lineages(adata)\n"
     ]
    },
    {
     "data": {
      "application/vnd.jupyter.widget-view+json": {
       "model_id": "8756bcd71e904214bd05fa0bf1bdba42",
       "version_major": 2,
       "version_minor": 0
      },
      "text/plain": [
       "  0%|          | 0/1 [00:00<?, ?/s]"
      ]
     },
     "metadata": {},
     "output_type": "display_data"
    },
    {
     "name": "stdout",
     "output_type": "stream",
     "text": [
      "Adding `adata.obsm['to_terminal_states']`\n",
      "       `.absorption_probabilities`\n",
      "    Finish (0:00:00)\n"
     ]
    },
    {
     "name": "stderr",
     "output_type": "stream",
     "text": [
      "/public/home/zhaox/anaconda3/lib/python3.9/site-packages/scvelo/plotting/utils.py:866: MatplotlibDeprecationWarning: Auto-removal of grids by pcolor() and pcolormesh() is deprecated since 3.5 and will be removed two minor releases later; please call grid(False) first.\n",
      "  cb = pl.colorbar(smp, orientation=orientation, cax=cax)\n",
      "/public/home/zhaox/anaconda3/lib/python3.9/site-packages/scvelo/plotting/utils.py:869: MatplotlibDeprecationWarning: The draw_all function was deprecated in Matplotlib 3.6 and will be removed two minor releases later. Use fig.draw_without_rendering() instead.\n",
      "  cb.draw_all()\n"
     ]
    }
   ],
   "source": [
    "cr.tl.lineages(adata)\n",
    "cr.pl.lineages(adata, same_plot=False)\n",
    "plt.savefig('./figures/neospgforcellrank_fatemaps0217.pdf')"
   ]
  },
  {
   "cell_type": "code",
   "execution_count": 60,
   "id": "dd1d83b9-9f21-4e41-ae2b-a6d76374c8e5",
   "metadata": {},
   "outputs": [
    {
     "name": "stdout",
     "output_type": "stream",
     "text": [
      "computing latent time using initial_states_probs, terminal_states_probs as prior\n",
      "    finished (0:00:00) --> added \n",
      "    'latent_time', shared time (adata.obs)\n"
     ]
    }
   ],
   "source": [
    "scv.tl.recover_latent_time(\n",
    "    adata, root_key=\"initial_states_probs\", end_key=\"terminal_states_probs\"\n",
    ")"
   ]
  },
  {
   "cell_type": "code",
   "execution_count": 61,
   "id": "65ef1047-dd4e-4f9e-a750-1720d6cf53cd",
   "metadata": {},
   "outputs": [
    {
     "name": "stdout",
     "output_type": "stream",
     "text": [
      "running PAGA using priors: ['velocity_pseudotime', 'initial_states_probs', 'terminal_states_probs']\n",
      "    finished (0:00:00) --> added\n",
      "    'paga/connectivities', connectivities adjacency (adata.uns)\n",
      "    'paga/connectivities_tree', connectivities subtree (adata.uns)\n",
      "    'paga/transitions_confidence', velocity transitions (adata.uns)\n"
     ]
    }
   ],
   "source": [
    "scv.tl.paga(\n",
    "    adata,\n",
    "    groups=\"cell_type\",\n",
    "    root_key=\"initial_states_probs\",\n",
    "    end_key=\"terminal_states_probs\",\n",
    "    use_time_prior=\"velocity_pseudotime\",\n",
    ")"
   ]
  },
  {
   "cell_type": "code",
   "execution_count": 62,
   "id": "8ce4f3f2-e258-41d9-a1c6-eec61b13b104",
   "metadata": {},
   "outputs": [],
   "source": [
    "cr.pl.cluster_fates(adata, mode=\"bar\",cluster_key=\"cell_type\")\n",
    "plt.savefig('./figures/neospgforcellrank_barplot_clusterfates0217.pdf')"
   ]
  },
  {
   "cell_type": "code",
   "execution_count": 63,
   "id": "f35465d0-acd8-467b-9405-d1f106eb1c02",
   "metadata": {},
   "outputs": [
    {
     "name": "stdout",
     "output_type": "stream",
     "text": [
      "WARNING: There is only 1 lineage present. Using stationary distribution instead\n",
      "Adding `adata.varm['terminal_lineage_drivers']`\n",
      "       `.lineage_drivers`\n",
      "    Finish (0:00:00)\n"
     ]
    },
    {
     "name": "stderr",
     "output_type": "stream",
     "text": [
      "/tmp/ipykernel_78464/1721556810.py:1: DeprecationWarning: `cellrank.tl.lineage_drivers` will be removed in version `2.0`. Please use the `cellrank.kernels` or `cellrank.estimators` interface instead.\n",
      "  cr.tl.lineage_drivers(adata)\n"
     ]
    },
    {
     "data": {
      "text/html": [
       "<div>\n",
       "<style scoped>\n",
       "    .dataframe tbody tr th:only-of-type {\n",
       "        vertical-align: middle;\n",
       "    }\n",
       "\n",
       "    .dataframe tbody tr th {\n",
       "        vertical-align: top;\n",
       "    }\n",
       "\n",
       "    .dataframe thead th {\n",
       "        text-align: right;\n",
       "    }\n",
       "</style>\n",
       "<table border=\"1\" class=\"dataframe\">\n",
       "  <thead>\n",
       "    <tr style=\"text-align: right;\">\n",
       "      <th></th>\n",
       "      <th>SSC_corr</th>\n",
       "      <th>SSC_pval</th>\n",
       "      <th>SSC_qval</th>\n",
       "      <th>SSC_ci_low</th>\n",
       "      <th>SSC_ci_high</th>\n",
       "    </tr>\n",
       "  </thead>\n",
       "  <tbody>\n",
       "    <tr>\n",
       "      <th>GMNN</th>\n",
       "      <td>0.565044</td>\n",
       "      <td>7.106311e-18</td>\n",
       "      <td>1.421262e-14</td>\n",
       "      <td>0.457804</td>\n",
       "      <td>0.656078</td>\n",
       "    </tr>\n",
       "    <tr>\n",
       "      <th>CCDC122</th>\n",
       "      <td>0.535897</td>\n",
       "      <td>8.251757e-16</td>\n",
       "      <td>8.251757e-13</td>\n",
       "      <td>0.424115</td>\n",
       "      <td>0.631595</td>\n",
       "    </tr>\n",
       "    <tr>\n",
       "      <th>KANSL1L</th>\n",
       "      <td>0.504532</td>\n",
       "      <td>7.916080e-14</td>\n",
       "      <td>5.277387e-11</td>\n",
       "      <td>0.388205</td>\n",
       "      <td>0.605034</td>\n",
       "    </tr>\n",
       "    <tr>\n",
       "      <th>TFEC</th>\n",
       "      <td>0.499350</td>\n",
       "      <td>1.600884e-13</td>\n",
       "      <td>8.004419e-11</td>\n",
       "      <td>0.382305</td>\n",
       "      <td>0.600624</td>\n",
       "    </tr>\n",
       "    <tr>\n",
       "      <th>EEA1</th>\n",
       "      <td>0.497685</td>\n",
       "      <td>2.001423e-13</td>\n",
       "      <td>8.005693e-11</td>\n",
       "      <td>0.380412</td>\n",
       "      <td>0.599206</td>\n",
       "    </tr>\n",
       "    <tr>\n",
       "      <th>...</th>\n",
       "      <td>...</td>\n",
       "      <td>...</td>\n",
       "      <td>...</td>\n",
       "      <td>...</td>\n",
       "      <td>...</td>\n",
       "    </tr>\n",
       "    <tr>\n",
       "      <th>RPS8</th>\n",
       "      <td>-0.407486</td>\n",
       "      <td>5.886840e-09</td>\n",
       "      <td>2.829862e-07</td>\n",
       "      <td>-0.521411</td>\n",
       "      <td>-0.279288</td>\n",
       "    </tr>\n",
       "    <tr>\n",
       "      <th>RPS7</th>\n",
       "      <td>-0.410999</td>\n",
       "      <td>4.185033e-09</td>\n",
       "      <td>2.262180e-07</td>\n",
       "      <td>-0.524477</td>\n",
       "      <td>-0.283174</td>\n",
       "    </tr>\n",
       "    <tr>\n",
       "      <th>RPL28</th>\n",
       "      <td>-0.414535</td>\n",
       "      <td>2.955379e-09</td>\n",
       "      <td>1.738458e-07</td>\n",
       "      <td>-0.527560</td>\n",
       "      <td>-0.287090</td>\n",
       "    </tr>\n",
       "    <tr>\n",
       "      <th>RPS15</th>\n",
       "      <td>-0.434286</td>\n",
       "      <td>3.894786e-10</td>\n",
       "      <td>4.100277e-08</td>\n",
       "      <td>-0.544725</td>\n",
       "      <td>-0.309041</td>\n",
       "    </tr>\n",
       "    <tr>\n",
       "      <th>RPS18</th>\n",
       "      <td>-0.450275</td>\n",
       "      <td>6.772063e-11</td>\n",
       "      <td>9.674375e-09</td>\n",
       "      <td>-0.558554</td>\n",
       "      <td>-0.326908</td>\n",
       "    </tr>\n",
       "  </tbody>\n",
       "</table>\n",
       "<p>2000 rows × 5 columns</p>\n",
       "</div>"
      ],
      "text/plain": [
       "         SSC_corr      SSC_pval      SSC_qval  SSC_ci_low  SSC_ci_high\n",
       "GMNN     0.565044  7.106311e-18  1.421262e-14    0.457804     0.656078\n",
       "CCDC122  0.535897  8.251757e-16  8.251757e-13    0.424115     0.631595\n",
       "KANSL1L  0.504532  7.916080e-14  5.277387e-11    0.388205     0.605034\n",
       "TFEC     0.499350  1.600884e-13  8.004419e-11    0.382305     0.600624\n",
       "EEA1     0.497685  2.001423e-13  8.005693e-11    0.380412     0.599206\n",
       "...           ...           ...           ...         ...          ...\n",
       "RPS8    -0.407486  5.886840e-09  2.829862e-07   -0.521411    -0.279288\n",
       "RPS7    -0.410999  4.185033e-09  2.262180e-07   -0.524477    -0.283174\n",
       "RPL28   -0.414535  2.955379e-09  1.738458e-07   -0.527560    -0.287090\n",
       "RPS15   -0.434286  3.894786e-10  4.100277e-08   -0.544725    -0.309041\n",
       "RPS18   -0.450275  6.772063e-11  9.674375e-09   -0.558554    -0.326908\n",
       "\n",
       "[2000 rows x 5 columns]"
      ]
     },
     "execution_count": 63,
     "metadata": {},
     "output_type": "execute_result"
    }
   ],
   "source": [
    "cr.tl.lineage_drivers(adata)"
   ]
  },
  {
   "cell_type": "code",
   "execution_count": 65,
   "id": "fe2bf745-252b-4915-83c7-5c656789696c",
   "metadata": {},
   "outputs": [
    {
     "name": "stderr",
     "output_type": "stream",
     "text": [
      "/public/home/zhaox/anaconda3/lib/python3.9/site-packages/scvelo/plotting/utils.py:866: MatplotlibDeprecationWarning: Auto-removal of grids by pcolor() and pcolormesh() is deprecated since 3.5 and will be removed two minor releases later; please call grid(False) first.\n",
      "  cb = pl.colorbar(smp, orientation=orientation, cax=cax)\n",
      "/public/home/zhaox/anaconda3/lib/python3.9/site-packages/scvelo/plotting/utils.py:869: MatplotlibDeprecationWarning: The draw_all function was deprecated in Matplotlib 3.6 and will be removed two minor releases later. Use fig.draw_without_rendering() instead.\n",
      "  cb.draw_all()\n"
     ]
    }
   ],
   "source": [
    "cr.pl.lineage_drivers(adata, lineage=\"SSC\", n_genes=16)\n",
    "plt.savefig('./figures/neospgforcellrank_SSCdrivergenes0217.pdf')"
   ]
  },
  {
   "cell_type": "code",
   "execution_count": 66,
   "id": "34783240-a5ce-4586-8276-51a3fc6c1ffc",
   "metadata": {},
   "outputs": [
    {
     "name": "stdout",
     "output_type": "stream",
     "text": [
      "WARNING: Trying to run `tl.dpt` without prior call of `tl.diffmap`. Falling back to `tl.diffmap` with default parameters.\n"
     ]
    },
    {
     "name": "stderr",
     "output_type": "stream",
     "text": [
      "/public/home/zhaox/anaconda3/lib/python3.9/site-packages/scvelo/plotting/utils.py:866: MatplotlibDeprecationWarning: Auto-removal of grids by pcolor() and pcolormesh() is deprecated since 3.5 and will be removed two minor releases later; please call grid(False) first.\n",
      "  cb = pl.colorbar(smp, orientation=orientation, cax=cax)\n",
      "/public/home/zhaox/anaconda3/lib/python3.9/site-packages/scvelo/plotting/utils.py:869: MatplotlibDeprecationWarning: The draw_all function was deprecated in Matplotlib 3.6 and will be removed two minor releases later. Use fig.draw_without_rendering() instead.\n",
      "  cb.draw_all()\n"
     ]
    },
    {
     "name": "stdout",
     "output_type": "stream",
     "text": [
      "saving figure to file ./figures/neospgforcellrank_temporalorderings0217.pdf\n"
     ]
    }
   ],
   "source": [
    "# compue DPT, starting from CellRank defined root cell\n",
    "root_idx = np.where(adata.obs[\"initial_states\"] == \"PreSPG-1\")[0][0]\n",
    "adata.uns[\"iroot\"] = root_idx\n",
    "sc.tl.dpt(adata)\n",
    "\n",
    "scv.pl.scatter(\n",
    "    adata,\n",
    "    color=[\"cell_type\", root_idx, \"latent_time\", \"dpt_pseudotime\"],\n",
    "    fontsize=16,\n",
    "    cmap=\"viridis\",\n",
    "    perc=[2, 98],\n",
    "    colorbar=True,\n",
    "    dpi=600,\n",
    "    rescale_color=[0, 1],\n",
    "    title=[\"cell_type\", \"root cell\", \"latent time\", \"dpt pseudotime\"],\n",
    "    save='./figures/neospgforcellrank_temporalorderings0217.pdf'\n",
    ")"
   ]
  },
  {
   "cell_type": "code",
   "execution_count": 76,
   "id": "4c587823-812a-416d-af4c-fb1bc2161000",
   "metadata": {},
   "outputs": [
    {
     "name": "stdout",
     "output_type": "stream",
     "text": [
      "Accessing `adata.obsp['T_fwd']`\n",
      "Using precomputed transition matrix\n",
      "Computing eigendecomposition of the transition matrix\n",
      "Adding `adata.uns['eigendecomposition_fwd']`\n",
      "       `.eigendecomposition`\n",
      "    Finish (0:00:00)\n",
      "For 1 macrostate, stationary distribution is computed\n",
      "Adding `.macrostates`\n",
      "       `.macrostates_memberships`\n",
      "       `.coarse_T`\n",
      "       `.coarse_initial_distribution\n",
      "       `.coarse_stationary_distribution`\n",
      "       `.schur_vectors`\n",
      "       `.schur_matrix`\n",
      "       `.eigendecomposition`\n",
      "    Finish (0:00:00)\n",
      "Adding `adata.obs['terminal_states']`\n",
      "       `adata.obs['terminal_states_probs']`\n",
      "       `.terminal_states`\n",
      "       `.terminal_states_probabilities`\n",
      "       `.terminal_states_memberships\n",
      "    Finish`\n",
      "Computing absorption probabilities\n",
      "WARNING: There is only `1` terminal state, all cells will have probability `1` of going there\n"
     ]
    },
    {
     "name": "stderr",
     "output_type": "stream",
     "text": [
      "/tmp/ipykernel_78464/2154736399.py:1: DeprecationWarning: `cellrank.tl.terminal_states` will be removed in version `2.0`. Please use the `cellrank.kernels` or `cellrank.estimators` interface instead.\n",
      "  cr.tl.terminal_states(\n",
      "/tmp/ipykernel_78464/2154736399.py:5: DeprecationWarning: `cellrank.tl.lineages` will be removed in version `2.0`. Please use the `cellrank.kernels` or `cellrank.estimators` interface instead.\n",
      "  cr.tl.lineages(adata)\n"
     ]
    },
    {
     "data": {
      "application/vnd.jupyter.widget-view+json": {
       "model_id": "dfce6129e8d74d3eadcefc39a4e2e149",
       "version_major": 2,
       "version_minor": 0
      },
      "text/plain": [
       "  0%|          | 0/1 [00:00<?, ?/s]"
      ]
     },
     "metadata": {},
     "output_type": "display_data"
    },
    {
     "name": "stdout",
     "output_type": "stream",
     "text": [
      "Adding `adata.obsm['to_terminal_states']`\n",
      "       `.absorption_probabilities`\n",
      "    Finish (0:00:00)\n",
      "Computing trends using `1` core(s)\n"
     ]
    },
    {
     "data": {
      "application/vnd.jupyter.widget-view+json": {
       "model_id": "f9a6ee39fe2f447fa887171ea44c09a8",
       "version_major": 2,
       "version_minor": 0
      },
      "text/plain": [
       "  0%|          | 0/3 [00:00<?, ?gene/s]"
      ]
     },
     "metadata": {},
     "output_type": "display_data"
    },
    {
     "name": "stderr",
     "output_type": "stream",
     "text": [
      "/public/home/zhaox/anaconda3/lib/python3.9/site-packages/pygam/utils.py:649: DeprecationWarning: `np.int` is a deprecated alias for the builtin `int`. To silence this warning, use `int` by itself. Doing this will not modify any behavior and is safe. When replacing `np.int`, you may wish to use e.g. `np.int64` or `np.int32` to specify the precision. If you wish to review your current use, check the release note link for additional information.\n",
      "Deprecated in NumPy 1.20; for more details and guidance: https://numpy.org/devdocs/release/1.20.0-notes.html#deprecations\n",
      "  bases = (x >= aug_knots[:-1]).astype(np.int) * \\\n",
      "/public/home/zhaox/anaconda3/lib/python3.9/site-packages/pygam/utils.py:650: DeprecationWarning: `np.int` is a deprecated alias for the builtin `int`. To silence this warning, use `int` by itself. Doing this will not modify any behavior and is safe. When replacing `np.int`, you may wish to use e.g. `np.int64` or `np.int32` to specify the precision. If you wish to review your current use, check the release note link for additional information.\n",
      "Deprecated in NumPy 1.20; for more details and guidance: https://numpy.org/devdocs/release/1.20.0-notes.html#deprecations\n",
      "  (x < aug_knots[1:]).astype(np.int)\n",
      "/public/home/zhaox/anaconda3/lib/python3.9/site-packages/pygam/utils.py:649: DeprecationWarning: `np.int` is a deprecated alias for the builtin `int`. To silence this warning, use `int` by itself. Doing this will not modify any behavior and is safe. When replacing `np.int`, you may wish to use e.g. `np.int64` or `np.int32` to specify the precision. If you wish to review your current use, check the release note link for additional information.\n",
      "Deprecated in NumPy 1.20; for more details and guidance: https://numpy.org/devdocs/release/1.20.0-notes.html#deprecations\n",
      "  bases = (x >= aug_knots[:-1]).astype(np.int) * \\\n",
      "/public/home/zhaox/anaconda3/lib/python3.9/site-packages/pygam/utils.py:650: DeprecationWarning: `np.int` is a deprecated alias for the builtin `int`. To silence this warning, use `int` by itself. Doing this will not modify any behavior and is safe. When replacing `np.int`, you may wish to use e.g. `np.int64` or `np.int32` to specify the precision. If you wish to review your current use, check the release note link for additional information.\n",
      "Deprecated in NumPy 1.20; for more details and guidance: https://numpy.org/devdocs/release/1.20.0-notes.html#deprecations\n",
      "  (x < aug_knots[1:]).astype(np.int)\n",
      "/public/home/zhaox/anaconda3/lib/python3.9/site-packages/pygam/utils.py:649: DeprecationWarning: `np.int` is a deprecated alias for the builtin `int`. To silence this warning, use `int` by itself. Doing this will not modify any behavior and is safe. When replacing `np.int`, you may wish to use e.g. `np.int64` or `np.int32` to specify the precision. If you wish to review your current use, check the release note link for additional information.\n",
      "Deprecated in NumPy 1.20; for more details and guidance: https://numpy.org/devdocs/release/1.20.0-notes.html#deprecations\n",
      "  bases = (x >= aug_knots[:-1]).astype(np.int) * \\\n",
      "/public/home/zhaox/anaconda3/lib/python3.9/site-packages/pygam/utils.py:650: DeprecationWarning: `np.int` is a deprecated alias for the builtin `int`. To silence this warning, use `int` by itself. Doing this will not modify any behavior and is safe. When replacing `np.int`, you may wish to use e.g. `np.int64` or `np.int32` to specify the precision. If you wish to review your current use, check the release note link for additional information.\n",
      "Deprecated in NumPy 1.20; for more details and guidance: https://numpy.org/devdocs/release/1.20.0-notes.html#deprecations\n",
      "  (x < aug_knots[1:]).astype(np.int)\n"
     ]
    },
    {
     "name": "stdout",
     "output_type": "stream",
     "text": [
      "    Finish (0:00:00)\n",
      "Plotting trends\n"
     ]
    }
   ],
   "source": [
    "cr.tl.terminal_states(\n",
    "    adata,\n",
    "    cluster_key=\"cell_type\",\n",
    "    weight_connectivities=0.2,)\n",
    "cr.tl.lineages(adata)\n",
    "model = cr.ul.models.GAM(adata, distribution='gaussian', link='identity')\n",
    "cr.pl.gene_trends(\n",
    "    adata,\n",
    "    model,\n",
    "    ['SOHLH1', 'RAD50', 'CSPP1'],\n",
    "    data_key=\"Ms\",\n",
    "    time_key=\"dpt_pseudotime\",\n",
    "    show_progress_bar=True,\n",
    "    save='./neospgforcellrank_SOHLH1geneexpressiontrends0217.pdf'\n",
    ")"
   ]
  },
  {
   "cell_type": "code",
   "execution_count": 79,
   "id": "65080eb0-21c3-49f4-a13d-9c53134bbec0",
   "metadata": {},
   "outputs": [
    {
     "name": "stdout",
     "output_type": "stream",
     "text": [
      "Computing trends using `1` core(s)\n"
     ]
    },
    {
     "data": {
      "application/vnd.jupyter.widget-view+json": {
       "model_id": "c8a7dfbc08194ccd9259578f72458955",
       "version_major": 2,
       "version_minor": 0
      },
      "text/plain": [
       "  0%|          | 0/100 [00:00<?, ?gene/s]"
      ]
     },
     "metadata": {},
     "output_type": "display_data"
    },
    {
     "name": "stderr",
     "output_type": "stream",
     "text": [
      "/public/home/zhaox/anaconda3/lib/python3.9/site-packages/pygam/utils.py:649: DeprecationWarning: `np.int` is a deprecated alias for the builtin `int`. To silence this warning, use `int` by itself. Doing this will not modify any behavior and is safe. When replacing `np.int`, you may wish to use e.g. `np.int64` or `np.int32` to specify the precision. If you wish to review your current use, check the release note link for additional information.\n",
      "Deprecated in NumPy 1.20; for more details and guidance: https://numpy.org/devdocs/release/1.20.0-notes.html#deprecations\n",
      "  bases = (x >= aug_knots[:-1]).astype(np.int) * \\\n",
      "/public/home/zhaox/anaconda3/lib/python3.9/site-packages/pygam/utils.py:650: DeprecationWarning: `np.int` is a deprecated alias for the builtin `int`. To silence this warning, use `int` by itself. Doing this will not modify any behavior and is safe. When replacing `np.int`, you may wish to use e.g. `np.int64` or `np.int32` to specify the precision. If you wish to review your current use, check the release note link for additional information.\n",
      "Deprecated in NumPy 1.20; for more details and guidance: https://numpy.org/devdocs/release/1.20.0-notes.html#deprecations\n",
      "  (x < aug_knots[1:]).astype(np.int)\n",
      "/public/home/zhaox/anaconda3/lib/python3.9/site-packages/pygam/utils.py:649: DeprecationWarning: `np.int` is a deprecated alias for the builtin `int`. To silence this warning, use `int` by itself. Doing this will not modify any behavior and is safe. When replacing `np.int`, you may wish to use e.g. `np.int64` or `np.int32` to specify the precision. If you wish to review your current use, check the release note link for additional information.\n",
      "Deprecated in NumPy 1.20; for more details and guidance: https://numpy.org/devdocs/release/1.20.0-notes.html#deprecations\n",
      "  bases = (x >= aug_knots[:-1]).astype(np.int) * \\\n",
      "/public/home/zhaox/anaconda3/lib/python3.9/site-packages/pygam/utils.py:650: DeprecationWarning: `np.int` is a deprecated alias for the builtin `int`. To silence this warning, use `int` by itself. Doing this will not modify any behavior and is safe. When replacing `np.int`, you may wish to use e.g. `np.int64` or `np.int32` to specify the precision. If you wish to review your current use, check the release note link for additional information.\n",
      "Deprecated in NumPy 1.20; for more details and guidance: https://numpy.org/devdocs/release/1.20.0-notes.html#deprecations\n",
      "  (x < aug_knots[1:]).astype(np.int)\n",
      "/public/home/zhaox/anaconda3/lib/python3.9/site-packages/pygam/utils.py:649: DeprecationWarning: `np.int` is a deprecated alias for the builtin `int`. To silence this warning, use `int` by itself. Doing this will not modify any behavior and is safe. When replacing `np.int`, you may wish to use e.g. `np.int64` or `np.int32` to specify the precision. If you wish to review your current use, check the release note link for additional information.\n",
      "Deprecated in NumPy 1.20; for more details and guidance: https://numpy.org/devdocs/release/1.20.0-notes.html#deprecations\n",
      "  bases = (x >= aug_knots[:-1]).astype(np.int) * \\\n",
      "/public/home/zhaox/anaconda3/lib/python3.9/site-packages/pygam/utils.py:650: DeprecationWarning: `np.int` is a deprecated alias for the builtin `int`. To silence this warning, use `int` by itself. Doing this will not modify any behavior and is safe. When replacing `np.int`, you may wish to use e.g. `np.int64` or `np.int32` to specify the precision. If you wish to review your current use, check the release note link for additional information.\n",
      "Deprecated in NumPy 1.20; for more details and guidance: https://numpy.org/devdocs/release/1.20.0-notes.html#deprecations\n",
      "  (x < aug_knots[1:]).astype(np.int)\n",
      "/public/home/zhaox/anaconda3/lib/python3.9/site-packages/pygam/utils.py:649: DeprecationWarning: `np.int` is a deprecated alias for the builtin `int`. To silence this warning, use `int` by itself. Doing this will not modify any behavior and is safe. When replacing `np.int`, you may wish to use e.g. `np.int64` or `np.int32` to specify the precision. If you wish to review your current use, check the release note link for additional information.\n",
      "Deprecated in NumPy 1.20; for more details and guidance: https://numpy.org/devdocs/release/1.20.0-notes.html#deprecations\n",
      "  bases = (x >= aug_knots[:-1]).astype(np.int) * \\\n",
      "/public/home/zhaox/anaconda3/lib/python3.9/site-packages/pygam/utils.py:650: DeprecationWarning: `np.int` is a deprecated alias for the builtin `int`. To silence this warning, use `int` by itself. Doing this will not modify any behavior and is safe. When replacing `np.int`, you may wish to use e.g. `np.int64` or `np.int32` to specify the precision. If you wish to review your current use, check the release note link for additional information.\n",
      "Deprecated in NumPy 1.20; for more details and guidance: https://numpy.org/devdocs/release/1.20.0-notes.html#deprecations\n",
      "  (x < aug_knots[1:]).astype(np.int)\n",
      "/public/home/zhaox/anaconda3/lib/python3.9/site-packages/pygam/utils.py:649: DeprecationWarning: `np.int` is a deprecated alias for the builtin `int`. To silence this warning, use `int` by itself. Doing this will not modify any behavior and is safe. When replacing `np.int`, you may wish to use e.g. `np.int64` or `np.int32` to specify the precision. If you wish to review your current use, check the release note link for additional information.\n",
      "Deprecated in NumPy 1.20; for more details and guidance: https://numpy.org/devdocs/release/1.20.0-notes.html#deprecations\n",
      "  bases = (x >= aug_knots[:-1]).astype(np.int) * \\\n",
      "/public/home/zhaox/anaconda3/lib/python3.9/site-packages/pygam/utils.py:650: DeprecationWarning: `np.int` is a deprecated alias for the builtin `int`. To silence this warning, use `int` by itself. Doing this will not modify any behavior and is safe. When replacing `np.int`, you may wish to use e.g. `np.int64` or `np.int32` to specify the precision. If you wish to review your current use, check the release note link for additional information.\n",
      "Deprecated in NumPy 1.20; for more details and guidance: https://numpy.org/devdocs/release/1.20.0-notes.html#deprecations\n",
      "  (x < aug_knots[1:]).astype(np.int)\n",
      "/public/home/zhaox/anaconda3/lib/python3.9/site-packages/pygam/utils.py:649: DeprecationWarning: `np.int` is a deprecated alias for the builtin `int`. To silence this warning, use `int` by itself. Doing this will not modify any behavior and is safe. When replacing `np.int`, you may wish to use e.g. `np.int64` or `np.int32` to specify the precision. If you wish to review your current use, check the release note link for additional information.\n",
      "Deprecated in NumPy 1.20; for more details and guidance: https://numpy.org/devdocs/release/1.20.0-notes.html#deprecations\n",
      "  bases = (x >= aug_knots[:-1]).astype(np.int) * \\\n",
      "/public/home/zhaox/anaconda3/lib/python3.9/site-packages/pygam/utils.py:650: DeprecationWarning: `np.int` is a deprecated alias for the builtin `int`. To silence this warning, use `int` by itself. Doing this will not modify any behavior and is safe. When replacing `np.int`, you may wish to use e.g. `np.int64` or `np.int32` to specify the precision. If you wish to review your current use, check the release note link for additional information.\n",
      "Deprecated in NumPy 1.20; for more details and guidance: https://numpy.org/devdocs/release/1.20.0-notes.html#deprecations\n",
      "  (x < aug_knots[1:]).astype(np.int)\n",
      "/public/home/zhaox/anaconda3/lib/python3.9/site-packages/pygam/utils.py:649: DeprecationWarning: `np.int` is a deprecated alias for the builtin `int`. To silence this warning, use `int` by itself. Doing this will not modify any behavior and is safe. When replacing `np.int`, you may wish to use e.g. `np.int64` or `np.int32` to specify the precision. If you wish to review your current use, check the release note link for additional information.\n",
      "Deprecated in NumPy 1.20; for more details and guidance: https://numpy.org/devdocs/release/1.20.0-notes.html#deprecations\n",
      "  bases = (x >= aug_knots[:-1]).astype(np.int) * \\\n",
      "/public/home/zhaox/anaconda3/lib/python3.9/site-packages/pygam/utils.py:650: DeprecationWarning: `np.int` is a deprecated alias for the builtin `int`. To silence this warning, use `int` by itself. Doing this will not modify any behavior and is safe. When replacing `np.int`, you may wish to use e.g. `np.int64` or `np.int32` to specify the precision. If you wish to review your current use, check the release note link for additional information.\n",
      "Deprecated in NumPy 1.20; for more details and guidance: https://numpy.org/devdocs/release/1.20.0-notes.html#deprecations\n",
      "  (x < aug_knots[1:]).astype(np.int)\n",
      "/public/home/zhaox/anaconda3/lib/python3.9/site-packages/pygam/utils.py:649: DeprecationWarning: `np.int` is a deprecated alias for the builtin `int`. To silence this warning, use `int` by itself. Doing this will not modify any behavior and is safe. When replacing `np.int`, you may wish to use e.g. `np.int64` or `np.int32` to specify the precision. If you wish to review your current use, check the release note link for additional information.\n",
      "Deprecated in NumPy 1.20; for more details and guidance: https://numpy.org/devdocs/release/1.20.0-notes.html#deprecations\n",
      "  bases = (x >= aug_knots[:-1]).astype(np.int) * \\\n",
      "/public/home/zhaox/anaconda3/lib/python3.9/site-packages/pygam/utils.py:650: DeprecationWarning: `np.int` is a deprecated alias for the builtin `int`. To silence this warning, use `int` by itself. Doing this will not modify any behavior and is safe. When replacing `np.int`, you may wish to use e.g. `np.int64` or `np.int32` to specify the precision. If you wish to review your current use, check the release note link for additional information.\n",
      "Deprecated in NumPy 1.20; for more details and guidance: https://numpy.org/devdocs/release/1.20.0-notes.html#deprecations\n",
      "  (x < aug_knots[1:]).astype(np.int)\n",
      "/public/home/zhaox/anaconda3/lib/python3.9/site-packages/pygam/utils.py:649: DeprecationWarning: `np.int` is a deprecated alias for the builtin `int`. To silence this warning, use `int` by itself. Doing this will not modify any behavior and is safe. When replacing `np.int`, you may wish to use e.g. `np.int64` or `np.int32` to specify the precision. If you wish to review your current use, check the release note link for additional information.\n",
      "Deprecated in NumPy 1.20; for more details and guidance: https://numpy.org/devdocs/release/1.20.0-notes.html#deprecations\n",
      "  bases = (x >= aug_knots[:-1]).astype(np.int) * \\\n",
      "/public/home/zhaox/anaconda3/lib/python3.9/site-packages/pygam/utils.py:650: DeprecationWarning: `np.int` is a deprecated alias for the builtin `int`. To silence this warning, use `int` by itself. Doing this will not modify any behavior and is safe. When replacing `np.int`, you may wish to use e.g. `np.int64` or `np.int32` to specify the precision. If you wish to review your current use, check the release note link for additional information.\n",
      "Deprecated in NumPy 1.20; for more details and guidance: https://numpy.org/devdocs/release/1.20.0-notes.html#deprecations\n",
      "  (x < aug_knots[1:]).astype(np.int)\n",
      "/public/home/zhaox/anaconda3/lib/python3.9/site-packages/pygam/utils.py:649: DeprecationWarning: `np.int` is a deprecated alias for the builtin `int`. To silence this warning, use `int` by itself. Doing this will not modify any behavior and is safe. When replacing `np.int`, you may wish to use e.g. `np.int64` or `np.int32` to specify the precision. If you wish to review your current use, check the release note link for additional information.\n",
      "Deprecated in NumPy 1.20; for more details and guidance: https://numpy.org/devdocs/release/1.20.0-notes.html#deprecations\n",
      "  bases = (x >= aug_knots[:-1]).astype(np.int) * \\\n",
      "/public/home/zhaox/anaconda3/lib/python3.9/site-packages/pygam/utils.py:650: DeprecationWarning: `np.int` is a deprecated alias for the builtin `int`. To silence this warning, use `int` by itself. Doing this will not modify any behavior and is safe. When replacing `np.int`, you may wish to use e.g. `np.int64` or `np.int32` to specify the precision. If you wish to review your current use, check the release note link for additional information.\n",
      "Deprecated in NumPy 1.20; for more details and guidance: https://numpy.org/devdocs/release/1.20.0-notes.html#deprecations\n",
      "  (x < aug_knots[1:]).astype(np.int)\n",
      "/public/home/zhaox/anaconda3/lib/python3.9/site-packages/pygam/utils.py:649: DeprecationWarning: `np.int` is a deprecated alias for the builtin `int`. To silence this warning, use `int` by itself. Doing this will not modify any behavior and is safe. When replacing `np.int`, you may wish to use e.g. `np.int64` or `np.int32` to specify the precision. If you wish to review your current use, check the release note link for additional information.\n",
      "Deprecated in NumPy 1.20; for more details and guidance: https://numpy.org/devdocs/release/1.20.0-notes.html#deprecations\n",
      "  bases = (x >= aug_knots[:-1]).astype(np.int) * \\\n",
      "/public/home/zhaox/anaconda3/lib/python3.9/site-packages/pygam/utils.py:650: DeprecationWarning: `np.int` is a deprecated alias for the builtin `int`. To silence this warning, use `int` by itself. Doing this will not modify any behavior and is safe. When replacing `np.int`, you may wish to use e.g. `np.int64` or `np.int32` to specify the precision. If you wish to review your current use, check the release note link for additional information.\n",
      "Deprecated in NumPy 1.20; for more details and guidance: https://numpy.org/devdocs/release/1.20.0-notes.html#deprecations\n",
      "  (x < aug_knots[1:]).astype(np.int)\n",
      "/public/home/zhaox/anaconda3/lib/python3.9/site-packages/pygam/utils.py:649: DeprecationWarning: `np.int` is a deprecated alias for the builtin `int`. To silence this warning, use `int` by itself. Doing this will not modify any behavior and is safe. When replacing `np.int`, you may wish to use e.g. `np.int64` or `np.int32` to specify the precision. If you wish to review your current use, check the release note link for additional information.\n",
      "Deprecated in NumPy 1.20; for more details and guidance: https://numpy.org/devdocs/release/1.20.0-notes.html#deprecations\n",
      "  bases = (x >= aug_knots[:-1]).astype(np.int) * \\\n",
      "/public/home/zhaox/anaconda3/lib/python3.9/site-packages/pygam/utils.py:650: DeprecationWarning: `np.int` is a deprecated alias for the builtin `int`. To silence this warning, use `int` by itself. Doing this will not modify any behavior and is safe. When replacing `np.int`, you may wish to use e.g. `np.int64` or `np.int32` to specify the precision. If you wish to review your current use, check the release note link for additional information.\n",
      "Deprecated in NumPy 1.20; for more details and guidance: https://numpy.org/devdocs/release/1.20.0-notes.html#deprecations\n",
      "  (x < aug_knots[1:]).astype(np.int)\n",
      "/public/home/zhaox/anaconda3/lib/python3.9/site-packages/pygam/utils.py:649: DeprecationWarning: `np.int` is a deprecated alias for the builtin `int`. To silence this warning, use `int` by itself. Doing this will not modify any behavior and is safe. When replacing `np.int`, you may wish to use e.g. `np.int64` or `np.int32` to specify the precision. If you wish to review your current use, check the release note link for additional information.\n",
      "Deprecated in NumPy 1.20; for more details and guidance: https://numpy.org/devdocs/release/1.20.0-notes.html#deprecations\n",
      "  bases = (x >= aug_knots[:-1]).astype(np.int) * \\\n",
      "/public/home/zhaox/anaconda3/lib/python3.9/site-packages/pygam/utils.py:650: DeprecationWarning: `np.int` is a deprecated alias for the builtin `int`. To silence this warning, use `int` by itself. Doing this will not modify any behavior and is safe. When replacing `np.int`, you may wish to use e.g. `np.int64` or `np.int32` to specify the precision. If you wish to review your current use, check the release note link for additional information.\n",
      "Deprecated in NumPy 1.20; for more details and guidance: https://numpy.org/devdocs/release/1.20.0-notes.html#deprecations\n",
      "  (x < aug_knots[1:]).astype(np.int)\n",
      "/public/home/zhaox/anaconda3/lib/python3.9/site-packages/pygam/utils.py:649: DeprecationWarning: `np.int` is a deprecated alias for the builtin `int`. To silence this warning, use `int` by itself. Doing this will not modify any behavior and is safe. When replacing `np.int`, you may wish to use e.g. `np.int64` or `np.int32` to specify the precision. If you wish to review your current use, check the release note link for additional information.\n",
      "Deprecated in NumPy 1.20; for more details and guidance: https://numpy.org/devdocs/release/1.20.0-notes.html#deprecations\n",
      "  bases = (x >= aug_knots[:-1]).astype(np.int) * \\\n",
      "/public/home/zhaox/anaconda3/lib/python3.9/site-packages/pygam/utils.py:650: DeprecationWarning: `np.int` is a deprecated alias for the builtin `int`. To silence this warning, use `int` by itself. Doing this will not modify any behavior and is safe. When replacing `np.int`, you may wish to use e.g. `np.int64` or `np.int32` to specify the precision. If you wish to review your current use, check the release note link for additional information.\n",
      "Deprecated in NumPy 1.20; for more details and guidance: https://numpy.org/devdocs/release/1.20.0-notes.html#deprecations\n",
      "  (x < aug_knots[1:]).astype(np.int)\n",
      "/public/home/zhaox/anaconda3/lib/python3.9/site-packages/pygam/utils.py:649: DeprecationWarning: `np.int` is a deprecated alias for the builtin `int`. To silence this warning, use `int` by itself. Doing this will not modify any behavior and is safe. When replacing `np.int`, you may wish to use e.g. `np.int64` or `np.int32` to specify the precision. If you wish to review your current use, check the release note link for additional information.\n",
      "Deprecated in NumPy 1.20; for more details and guidance: https://numpy.org/devdocs/release/1.20.0-notes.html#deprecations\n",
      "  bases = (x >= aug_knots[:-1]).astype(np.int) * \\\n",
      "/public/home/zhaox/anaconda3/lib/python3.9/site-packages/pygam/utils.py:650: DeprecationWarning: `np.int` is a deprecated alias for the builtin `int`. To silence this warning, use `int` by itself. Doing this will not modify any behavior and is safe. When replacing `np.int`, you may wish to use e.g. `np.int64` or `np.int32` to specify the precision. If you wish to review your current use, check the release note link for additional information.\n",
      "Deprecated in NumPy 1.20; for more details and guidance: https://numpy.org/devdocs/release/1.20.0-notes.html#deprecations\n",
      "  (x < aug_knots[1:]).astype(np.int)\n",
      "/public/home/zhaox/anaconda3/lib/python3.9/site-packages/pygam/utils.py:649: DeprecationWarning: `np.int` is a deprecated alias for the builtin `int`. To silence this warning, use `int` by itself. Doing this will not modify any behavior and is safe. When replacing `np.int`, you may wish to use e.g. `np.int64` or `np.int32` to specify the precision. If you wish to review your current use, check the release note link for additional information.\n",
      "Deprecated in NumPy 1.20; for more details and guidance: https://numpy.org/devdocs/release/1.20.0-notes.html#deprecations\n",
      "  bases = (x >= aug_knots[:-1]).astype(np.int) * \\\n",
      "/public/home/zhaox/anaconda3/lib/python3.9/site-packages/pygam/utils.py:650: DeprecationWarning: `np.int` is a deprecated alias for the builtin `int`. To silence this warning, use `int` by itself. Doing this will not modify any behavior and is safe. When replacing `np.int`, you may wish to use e.g. `np.int64` or `np.int32` to specify the precision. If you wish to review your current use, check the release note link for additional information.\n",
      "Deprecated in NumPy 1.20; for more details and guidance: https://numpy.org/devdocs/release/1.20.0-notes.html#deprecations\n",
      "  (x < aug_knots[1:]).astype(np.int)\n",
      "/public/home/zhaox/anaconda3/lib/python3.9/site-packages/pygam/utils.py:649: DeprecationWarning: `np.int` is a deprecated alias for the builtin `int`. To silence this warning, use `int` by itself. Doing this will not modify any behavior and is safe. When replacing `np.int`, you may wish to use e.g. `np.int64` or `np.int32` to specify the precision. If you wish to review your current use, check the release note link for additional information.\n",
      "Deprecated in NumPy 1.20; for more details and guidance: https://numpy.org/devdocs/release/1.20.0-notes.html#deprecations\n",
      "  bases = (x >= aug_knots[:-1]).astype(np.int) * \\\n",
      "/public/home/zhaox/anaconda3/lib/python3.9/site-packages/pygam/utils.py:650: DeprecationWarning: `np.int` is a deprecated alias for the builtin `int`. To silence this warning, use `int` by itself. Doing this will not modify any behavior and is safe. When replacing `np.int`, you may wish to use e.g. `np.int64` or `np.int32` to specify the precision. If you wish to review your current use, check the release note link for additional information.\n",
      "Deprecated in NumPy 1.20; for more details and guidance: https://numpy.org/devdocs/release/1.20.0-notes.html#deprecations\n",
      "  (x < aug_knots[1:]).astype(np.int)\n",
      "/public/home/zhaox/anaconda3/lib/python3.9/site-packages/pygam/utils.py:649: DeprecationWarning: `np.int` is a deprecated alias for the builtin `int`. To silence this warning, use `int` by itself. Doing this will not modify any behavior and is safe. When replacing `np.int`, you may wish to use e.g. `np.int64` or `np.int32` to specify the precision. If you wish to review your current use, check the release note link for additional information.\n",
      "Deprecated in NumPy 1.20; for more details and guidance: https://numpy.org/devdocs/release/1.20.0-notes.html#deprecations\n",
      "  bases = (x >= aug_knots[:-1]).astype(np.int) * \\\n",
      "/public/home/zhaox/anaconda3/lib/python3.9/site-packages/pygam/utils.py:650: DeprecationWarning: `np.int` is a deprecated alias for the builtin `int`. To silence this warning, use `int` by itself. Doing this will not modify any behavior and is safe. When replacing `np.int`, you may wish to use e.g. `np.int64` or `np.int32` to specify the precision. If you wish to review your current use, check the release note link for additional information.\n",
      "Deprecated in NumPy 1.20; for more details and guidance: https://numpy.org/devdocs/release/1.20.0-notes.html#deprecations\n",
      "  (x < aug_knots[1:]).astype(np.int)\n",
      "/public/home/zhaox/anaconda3/lib/python3.9/site-packages/pygam/utils.py:649: DeprecationWarning: `np.int` is a deprecated alias for the builtin `int`. To silence this warning, use `int` by itself. Doing this will not modify any behavior and is safe. When replacing `np.int`, you may wish to use e.g. `np.int64` or `np.int32` to specify the precision. If you wish to review your current use, check the release note link for additional information.\n",
      "Deprecated in NumPy 1.20; for more details and guidance: https://numpy.org/devdocs/release/1.20.0-notes.html#deprecations\n",
      "  bases = (x >= aug_knots[:-1]).astype(np.int) * \\\n",
      "/public/home/zhaox/anaconda3/lib/python3.9/site-packages/pygam/utils.py:650: DeprecationWarning: `np.int` is a deprecated alias for the builtin `int`. To silence this warning, use `int` by itself. Doing this will not modify any behavior and is safe. When replacing `np.int`, you may wish to use e.g. `np.int64` or `np.int32` to specify the precision. If you wish to review your current use, check the release note link for additional information.\n",
      "Deprecated in NumPy 1.20; for more details and guidance: https://numpy.org/devdocs/release/1.20.0-notes.html#deprecations\n",
      "  (x < aug_knots[1:]).astype(np.int)\n",
      "/public/home/zhaox/anaconda3/lib/python3.9/site-packages/pygam/utils.py:649: DeprecationWarning: `np.int` is a deprecated alias for the builtin `int`. To silence this warning, use `int` by itself. Doing this will not modify any behavior and is safe. When replacing `np.int`, you may wish to use e.g. `np.int64` or `np.int32` to specify the precision. If you wish to review your current use, check the release note link for additional information.\n",
      "Deprecated in NumPy 1.20; for more details and guidance: https://numpy.org/devdocs/release/1.20.0-notes.html#deprecations\n",
      "  bases = (x >= aug_knots[:-1]).astype(np.int) * \\\n",
      "/public/home/zhaox/anaconda3/lib/python3.9/site-packages/pygam/utils.py:650: DeprecationWarning: `np.int` is a deprecated alias for the builtin `int`. To silence this warning, use `int` by itself. Doing this will not modify any behavior and is safe. When replacing `np.int`, you may wish to use e.g. `np.int64` or `np.int32` to specify the precision. If you wish to review your current use, check the release note link for additional information.\n",
      "Deprecated in NumPy 1.20; for more details and guidance: https://numpy.org/devdocs/release/1.20.0-notes.html#deprecations\n",
      "  (x < aug_knots[1:]).astype(np.int)\n",
      "/public/home/zhaox/anaconda3/lib/python3.9/site-packages/pygam/utils.py:649: DeprecationWarning: `np.int` is a deprecated alias for the builtin `int`. To silence this warning, use `int` by itself. Doing this will not modify any behavior and is safe. When replacing `np.int`, you may wish to use e.g. `np.int64` or `np.int32` to specify the precision. If you wish to review your current use, check the release note link for additional information.\n",
      "Deprecated in NumPy 1.20; for more details and guidance: https://numpy.org/devdocs/release/1.20.0-notes.html#deprecations\n",
      "  bases = (x >= aug_knots[:-1]).astype(np.int) * \\\n",
      "/public/home/zhaox/anaconda3/lib/python3.9/site-packages/pygam/utils.py:650: DeprecationWarning: `np.int` is a deprecated alias for the builtin `int`. To silence this warning, use `int` by itself. Doing this will not modify any behavior and is safe. When replacing `np.int`, you may wish to use e.g. `np.int64` or `np.int32` to specify the precision. If you wish to review your current use, check the release note link for additional information.\n",
      "Deprecated in NumPy 1.20; for more details and guidance: https://numpy.org/devdocs/release/1.20.0-notes.html#deprecations\n",
      "  (x < aug_knots[1:]).astype(np.int)\n",
      "/public/home/zhaox/anaconda3/lib/python3.9/site-packages/pygam/utils.py:649: DeprecationWarning: `np.int` is a deprecated alias for the builtin `int`. To silence this warning, use `int` by itself. Doing this will not modify any behavior and is safe. When replacing `np.int`, you may wish to use e.g. `np.int64` or `np.int32` to specify the precision. If you wish to review your current use, check the release note link for additional information.\n",
      "Deprecated in NumPy 1.20; for more details and guidance: https://numpy.org/devdocs/release/1.20.0-notes.html#deprecations\n",
      "  bases = (x >= aug_knots[:-1]).astype(np.int) * \\\n",
      "/public/home/zhaox/anaconda3/lib/python3.9/site-packages/pygam/utils.py:650: DeprecationWarning: `np.int` is a deprecated alias for the builtin `int`. To silence this warning, use `int` by itself. Doing this will not modify any behavior and is safe. When replacing `np.int`, you may wish to use e.g. `np.int64` or `np.int32` to specify the precision. If you wish to review your current use, check the release note link for additional information.\n",
      "Deprecated in NumPy 1.20; for more details and guidance: https://numpy.org/devdocs/release/1.20.0-notes.html#deprecations\n",
      "  (x < aug_knots[1:]).astype(np.int)\n",
      "/public/home/zhaox/anaconda3/lib/python3.9/site-packages/pygam/utils.py:649: DeprecationWarning: `np.int` is a deprecated alias for the builtin `int`. To silence this warning, use `int` by itself. Doing this will not modify any behavior and is safe. When replacing `np.int`, you may wish to use e.g. `np.int64` or `np.int32` to specify the precision. If you wish to review your current use, check the release note link for additional information.\n",
      "Deprecated in NumPy 1.20; for more details and guidance: https://numpy.org/devdocs/release/1.20.0-notes.html#deprecations\n",
      "  bases = (x >= aug_knots[:-1]).astype(np.int) * \\\n",
      "/public/home/zhaox/anaconda3/lib/python3.9/site-packages/pygam/utils.py:650: DeprecationWarning: `np.int` is a deprecated alias for the builtin `int`. To silence this warning, use `int` by itself. Doing this will not modify any behavior and is safe. When replacing `np.int`, you may wish to use e.g. `np.int64` or `np.int32` to specify the precision. If you wish to review your current use, check the release note link for additional information.\n",
      "Deprecated in NumPy 1.20; for more details and guidance: https://numpy.org/devdocs/release/1.20.0-notes.html#deprecations\n",
      "  (x < aug_knots[1:]).astype(np.int)\n",
      "/public/home/zhaox/anaconda3/lib/python3.9/site-packages/pygam/utils.py:649: DeprecationWarning: `np.int` is a deprecated alias for the builtin `int`. To silence this warning, use `int` by itself. Doing this will not modify any behavior and is safe. When replacing `np.int`, you may wish to use e.g. `np.int64` or `np.int32` to specify the precision. If you wish to review your current use, check the release note link for additional information.\n",
      "Deprecated in NumPy 1.20; for more details and guidance: https://numpy.org/devdocs/release/1.20.0-notes.html#deprecations\n",
      "  bases = (x >= aug_knots[:-1]).astype(np.int) * \\\n",
      "/public/home/zhaox/anaconda3/lib/python3.9/site-packages/pygam/utils.py:650: DeprecationWarning: `np.int` is a deprecated alias for the builtin `int`. To silence this warning, use `int` by itself. Doing this will not modify any behavior and is safe. When replacing `np.int`, you may wish to use e.g. `np.int64` or `np.int32` to specify the precision. If you wish to review your current use, check the release note link for additional information.\n",
      "Deprecated in NumPy 1.20; for more details and guidance: https://numpy.org/devdocs/release/1.20.0-notes.html#deprecations\n",
      "  (x < aug_knots[1:]).astype(np.int)\n",
      "/public/home/zhaox/anaconda3/lib/python3.9/site-packages/pygam/utils.py:649: DeprecationWarning: `np.int` is a deprecated alias for the builtin `int`. To silence this warning, use `int` by itself. Doing this will not modify any behavior and is safe. When replacing `np.int`, you may wish to use e.g. `np.int64` or `np.int32` to specify the precision. If you wish to review your current use, check the release note link for additional information.\n",
      "Deprecated in NumPy 1.20; for more details and guidance: https://numpy.org/devdocs/release/1.20.0-notes.html#deprecations\n",
      "  bases = (x >= aug_knots[:-1]).astype(np.int) * \\\n",
      "/public/home/zhaox/anaconda3/lib/python3.9/site-packages/pygam/utils.py:650: DeprecationWarning: `np.int` is a deprecated alias for the builtin `int`. To silence this warning, use `int` by itself. Doing this will not modify any behavior and is safe. When replacing `np.int`, you may wish to use e.g. `np.int64` or `np.int32` to specify the precision. If you wish to review your current use, check the release note link for additional information.\n",
      "Deprecated in NumPy 1.20; for more details and guidance: https://numpy.org/devdocs/release/1.20.0-notes.html#deprecations\n",
      "  (x < aug_knots[1:]).astype(np.int)\n",
      "/public/home/zhaox/anaconda3/lib/python3.9/site-packages/pygam/utils.py:649: DeprecationWarning: `np.int` is a deprecated alias for the builtin `int`. To silence this warning, use `int` by itself. Doing this will not modify any behavior and is safe. When replacing `np.int`, you may wish to use e.g. `np.int64` or `np.int32` to specify the precision. If you wish to review your current use, check the release note link for additional information.\n",
      "Deprecated in NumPy 1.20; for more details and guidance: https://numpy.org/devdocs/release/1.20.0-notes.html#deprecations\n",
      "  bases = (x >= aug_knots[:-1]).astype(np.int) * \\\n",
      "/public/home/zhaox/anaconda3/lib/python3.9/site-packages/pygam/utils.py:650: DeprecationWarning: `np.int` is a deprecated alias for the builtin `int`. To silence this warning, use `int` by itself. Doing this will not modify any behavior and is safe. When replacing `np.int`, you may wish to use e.g. `np.int64` or `np.int32` to specify the precision. If you wish to review your current use, check the release note link for additional information.\n",
      "Deprecated in NumPy 1.20; for more details and guidance: https://numpy.org/devdocs/release/1.20.0-notes.html#deprecations\n",
      "  (x < aug_knots[1:]).astype(np.int)\n",
      "/public/home/zhaox/anaconda3/lib/python3.9/site-packages/pygam/utils.py:649: DeprecationWarning: `np.int` is a deprecated alias for the builtin `int`. To silence this warning, use `int` by itself. Doing this will not modify any behavior and is safe. When replacing `np.int`, you may wish to use e.g. `np.int64` or `np.int32` to specify the precision. If you wish to review your current use, check the release note link for additional information.\n",
      "Deprecated in NumPy 1.20; for more details and guidance: https://numpy.org/devdocs/release/1.20.0-notes.html#deprecations\n",
      "  bases = (x >= aug_knots[:-1]).astype(np.int) * \\\n",
      "/public/home/zhaox/anaconda3/lib/python3.9/site-packages/pygam/utils.py:650: DeprecationWarning: `np.int` is a deprecated alias for the builtin `int`. To silence this warning, use `int` by itself. Doing this will not modify any behavior and is safe. When replacing `np.int`, you may wish to use e.g. `np.int64` or `np.int32` to specify the precision. If you wish to review your current use, check the release note link for additional information.\n",
      "Deprecated in NumPy 1.20; for more details and guidance: https://numpy.org/devdocs/release/1.20.0-notes.html#deprecations\n",
      "  (x < aug_knots[1:]).astype(np.int)\n",
      "/public/home/zhaox/anaconda3/lib/python3.9/site-packages/pygam/utils.py:649: DeprecationWarning: `np.int` is a deprecated alias for the builtin `int`. To silence this warning, use `int` by itself. Doing this will not modify any behavior and is safe. When replacing `np.int`, you may wish to use e.g. `np.int64` or `np.int32` to specify the precision. If you wish to review your current use, check the release note link for additional information.\n",
      "Deprecated in NumPy 1.20; for more details and guidance: https://numpy.org/devdocs/release/1.20.0-notes.html#deprecations\n",
      "  bases = (x >= aug_knots[:-1]).astype(np.int) * \\\n",
      "/public/home/zhaox/anaconda3/lib/python3.9/site-packages/pygam/utils.py:650: DeprecationWarning: `np.int` is a deprecated alias for the builtin `int`. To silence this warning, use `int` by itself. Doing this will not modify any behavior and is safe. When replacing `np.int`, you may wish to use e.g. `np.int64` or `np.int32` to specify the precision. If you wish to review your current use, check the release note link for additional information.\n",
      "Deprecated in NumPy 1.20; for more details and guidance: https://numpy.org/devdocs/release/1.20.0-notes.html#deprecations\n",
      "  (x < aug_knots[1:]).astype(np.int)\n",
      "/public/home/zhaox/anaconda3/lib/python3.9/site-packages/pygam/utils.py:649: DeprecationWarning: `np.int` is a deprecated alias for the builtin `int`. To silence this warning, use `int` by itself. Doing this will not modify any behavior and is safe. When replacing `np.int`, you may wish to use e.g. `np.int64` or `np.int32` to specify the precision. If you wish to review your current use, check the release note link for additional information.\n",
      "Deprecated in NumPy 1.20; for more details and guidance: https://numpy.org/devdocs/release/1.20.0-notes.html#deprecations\n",
      "  bases = (x >= aug_knots[:-1]).astype(np.int) * \\\n",
      "/public/home/zhaox/anaconda3/lib/python3.9/site-packages/pygam/utils.py:650: DeprecationWarning: `np.int` is a deprecated alias for the builtin `int`. To silence this warning, use `int` by itself. Doing this will not modify any behavior and is safe. When replacing `np.int`, you may wish to use e.g. `np.int64` or `np.int32` to specify the precision. If you wish to review your current use, check the release note link for additional information.\n",
      "Deprecated in NumPy 1.20; for more details and guidance: https://numpy.org/devdocs/release/1.20.0-notes.html#deprecations\n",
      "  (x < aug_knots[1:]).astype(np.int)\n",
      "/public/home/zhaox/anaconda3/lib/python3.9/site-packages/pygam/utils.py:649: DeprecationWarning: `np.int` is a deprecated alias for the builtin `int`. To silence this warning, use `int` by itself. Doing this will not modify any behavior and is safe. When replacing `np.int`, you may wish to use e.g. `np.int64` or `np.int32` to specify the precision. If you wish to review your current use, check the release note link for additional information.\n",
      "Deprecated in NumPy 1.20; for more details and guidance: https://numpy.org/devdocs/release/1.20.0-notes.html#deprecations\n",
      "  bases = (x >= aug_knots[:-1]).astype(np.int) * \\\n",
      "/public/home/zhaox/anaconda3/lib/python3.9/site-packages/pygam/utils.py:650: DeprecationWarning: `np.int` is a deprecated alias for the builtin `int`. To silence this warning, use `int` by itself. Doing this will not modify any behavior and is safe. When replacing `np.int`, you may wish to use e.g. `np.int64` or `np.int32` to specify the precision. If you wish to review your current use, check the release note link for additional information.\n",
      "Deprecated in NumPy 1.20; for more details and guidance: https://numpy.org/devdocs/release/1.20.0-notes.html#deprecations\n",
      "  (x < aug_knots[1:]).astype(np.int)\n",
      "/public/home/zhaox/anaconda3/lib/python3.9/site-packages/pygam/utils.py:649: DeprecationWarning: `np.int` is a deprecated alias for the builtin `int`. To silence this warning, use `int` by itself. Doing this will not modify any behavior and is safe. When replacing `np.int`, you may wish to use e.g. `np.int64` or `np.int32` to specify the precision. If you wish to review your current use, check the release note link for additional information.\n",
      "Deprecated in NumPy 1.20; for more details and guidance: https://numpy.org/devdocs/release/1.20.0-notes.html#deprecations\n",
      "  bases = (x >= aug_knots[:-1]).astype(np.int) * \\\n",
      "/public/home/zhaox/anaconda3/lib/python3.9/site-packages/pygam/utils.py:650: DeprecationWarning: `np.int` is a deprecated alias for the builtin `int`. To silence this warning, use `int` by itself. Doing this will not modify any behavior and is safe. When replacing `np.int`, you may wish to use e.g. `np.int64` or `np.int32` to specify the precision. If you wish to review your current use, check the release note link for additional information.\n",
      "Deprecated in NumPy 1.20; for more details and guidance: https://numpy.org/devdocs/release/1.20.0-notes.html#deprecations\n",
      "  (x < aug_knots[1:]).astype(np.int)\n",
      "/public/home/zhaox/anaconda3/lib/python3.9/site-packages/pygam/utils.py:649: DeprecationWarning: `np.int` is a deprecated alias for the builtin `int`. To silence this warning, use `int` by itself. Doing this will not modify any behavior and is safe. When replacing `np.int`, you may wish to use e.g. `np.int64` or `np.int32` to specify the precision. If you wish to review your current use, check the release note link for additional information.\n",
      "Deprecated in NumPy 1.20; for more details and guidance: https://numpy.org/devdocs/release/1.20.0-notes.html#deprecations\n",
      "  bases = (x >= aug_knots[:-1]).astype(np.int) * \\\n",
      "/public/home/zhaox/anaconda3/lib/python3.9/site-packages/pygam/utils.py:650: DeprecationWarning: `np.int` is a deprecated alias for the builtin `int`. To silence this warning, use `int` by itself. Doing this will not modify any behavior and is safe. When replacing `np.int`, you may wish to use e.g. `np.int64` or `np.int32` to specify the precision. If you wish to review your current use, check the release note link for additional information.\n",
      "Deprecated in NumPy 1.20; for more details and guidance: https://numpy.org/devdocs/release/1.20.0-notes.html#deprecations\n",
      "  (x < aug_knots[1:]).astype(np.int)\n",
      "/public/home/zhaox/anaconda3/lib/python3.9/site-packages/pygam/utils.py:649: DeprecationWarning: `np.int` is a deprecated alias for the builtin `int`. To silence this warning, use `int` by itself. Doing this will not modify any behavior and is safe. When replacing `np.int`, you may wish to use e.g. `np.int64` or `np.int32` to specify the precision. If you wish to review your current use, check the release note link for additional information.\n",
      "Deprecated in NumPy 1.20; for more details and guidance: https://numpy.org/devdocs/release/1.20.0-notes.html#deprecations\n",
      "  bases = (x >= aug_knots[:-1]).astype(np.int) * \\\n",
      "/public/home/zhaox/anaconda3/lib/python3.9/site-packages/pygam/utils.py:650: DeprecationWarning: `np.int` is a deprecated alias for the builtin `int`. To silence this warning, use `int` by itself. Doing this will not modify any behavior and is safe. When replacing `np.int`, you may wish to use e.g. `np.int64` or `np.int32` to specify the precision. If you wish to review your current use, check the release note link for additional information.\n",
      "Deprecated in NumPy 1.20; for more details and guidance: https://numpy.org/devdocs/release/1.20.0-notes.html#deprecations\n",
      "  (x < aug_knots[1:]).astype(np.int)\n",
      "/public/home/zhaox/anaconda3/lib/python3.9/site-packages/pygam/utils.py:649: DeprecationWarning: `np.int` is a deprecated alias for the builtin `int`. To silence this warning, use `int` by itself. Doing this will not modify any behavior and is safe. When replacing `np.int`, you may wish to use e.g. `np.int64` or `np.int32` to specify the precision. If you wish to review your current use, check the release note link for additional information.\n",
      "Deprecated in NumPy 1.20; for more details and guidance: https://numpy.org/devdocs/release/1.20.0-notes.html#deprecations\n",
      "  bases = (x >= aug_knots[:-1]).astype(np.int) * \\\n",
      "/public/home/zhaox/anaconda3/lib/python3.9/site-packages/pygam/utils.py:650: DeprecationWarning: `np.int` is a deprecated alias for the builtin `int`. To silence this warning, use `int` by itself. Doing this will not modify any behavior and is safe. When replacing `np.int`, you may wish to use e.g. `np.int64` or `np.int32` to specify the precision. If you wish to review your current use, check the release note link for additional information.\n",
      "Deprecated in NumPy 1.20; for more details and guidance: https://numpy.org/devdocs/release/1.20.0-notes.html#deprecations\n",
      "  (x < aug_knots[1:]).astype(np.int)\n",
      "/public/home/zhaox/anaconda3/lib/python3.9/site-packages/pygam/utils.py:649: DeprecationWarning: `np.int` is a deprecated alias for the builtin `int`. To silence this warning, use `int` by itself. Doing this will not modify any behavior and is safe. When replacing `np.int`, you may wish to use e.g. `np.int64` or `np.int32` to specify the precision. If you wish to review your current use, check the release note link for additional information.\n",
      "Deprecated in NumPy 1.20; for more details and guidance: https://numpy.org/devdocs/release/1.20.0-notes.html#deprecations\n",
      "  bases = (x >= aug_knots[:-1]).astype(np.int) * \\\n",
      "/public/home/zhaox/anaconda3/lib/python3.9/site-packages/pygam/utils.py:650: DeprecationWarning: `np.int` is a deprecated alias for the builtin `int`. To silence this warning, use `int` by itself. Doing this will not modify any behavior and is safe. When replacing `np.int`, you may wish to use e.g. `np.int64` or `np.int32` to specify the precision. If you wish to review your current use, check the release note link for additional information.\n",
      "Deprecated in NumPy 1.20; for more details and guidance: https://numpy.org/devdocs/release/1.20.0-notes.html#deprecations\n",
      "  (x < aug_knots[1:]).astype(np.int)\n",
      "/public/home/zhaox/anaconda3/lib/python3.9/site-packages/pygam/utils.py:649: DeprecationWarning: `np.int` is a deprecated alias for the builtin `int`. To silence this warning, use `int` by itself. Doing this will not modify any behavior and is safe. When replacing `np.int`, you may wish to use e.g. `np.int64` or `np.int32` to specify the precision. If you wish to review your current use, check the release note link for additional information.\n",
      "Deprecated in NumPy 1.20; for more details and guidance: https://numpy.org/devdocs/release/1.20.0-notes.html#deprecations\n",
      "  bases = (x >= aug_knots[:-1]).astype(np.int) * \\\n",
      "/public/home/zhaox/anaconda3/lib/python3.9/site-packages/pygam/utils.py:650: DeprecationWarning: `np.int` is a deprecated alias for the builtin `int`. To silence this warning, use `int` by itself. Doing this will not modify any behavior and is safe. When replacing `np.int`, you may wish to use e.g. `np.int64` or `np.int32` to specify the precision. If you wish to review your current use, check the release note link for additional information.\n",
      "Deprecated in NumPy 1.20; for more details and guidance: https://numpy.org/devdocs/release/1.20.0-notes.html#deprecations\n",
      "  (x < aug_knots[1:]).astype(np.int)\n",
      "/public/home/zhaox/anaconda3/lib/python3.9/site-packages/pygam/utils.py:649: DeprecationWarning: `np.int` is a deprecated alias for the builtin `int`. To silence this warning, use `int` by itself. Doing this will not modify any behavior and is safe. When replacing `np.int`, you may wish to use e.g. `np.int64` or `np.int32` to specify the precision. If you wish to review your current use, check the release note link for additional information.\n",
      "Deprecated in NumPy 1.20; for more details and guidance: https://numpy.org/devdocs/release/1.20.0-notes.html#deprecations\n",
      "  bases = (x >= aug_knots[:-1]).astype(np.int) * \\\n",
      "/public/home/zhaox/anaconda3/lib/python3.9/site-packages/pygam/utils.py:650: DeprecationWarning: `np.int` is a deprecated alias for the builtin `int`. To silence this warning, use `int` by itself. Doing this will not modify any behavior and is safe. When replacing `np.int`, you may wish to use e.g. `np.int64` or `np.int32` to specify the precision. If you wish to review your current use, check the release note link for additional information.\n",
      "Deprecated in NumPy 1.20; for more details and guidance: https://numpy.org/devdocs/release/1.20.0-notes.html#deprecations\n",
      "  (x < aug_knots[1:]).astype(np.int)\n",
      "/public/home/zhaox/anaconda3/lib/python3.9/site-packages/pygam/utils.py:649: DeprecationWarning: `np.int` is a deprecated alias for the builtin `int`. To silence this warning, use `int` by itself. Doing this will not modify any behavior and is safe. When replacing `np.int`, you may wish to use e.g. `np.int64` or `np.int32` to specify the precision. If you wish to review your current use, check the release note link for additional information.\n",
      "Deprecated in NumPy 1.20; for more details and guidance: https://numpy.org/devdocs/release/1.20.0-notes.html#deprecations\n",
      "  bases = (x >= aug_knots[:-1]).astype(np.int) * \\\n",
      "/public/home/zhaox/anaconda3/lib/python3.9/site-packages/pygam/utils.py:650: DeprecationWarning: `np.int` is a deprecated alias for the builtin `int`. To silence this warning, use `int` by itself. Doing this will not modify any behavior and is safe. When replacing `np.int`, you may wish to use e.g. `np.int64` or `np.int32` to specify the precision. If you wish to review your current use, check the release note link for additional information.\n",
      "Deprecated in NumPy 1.20; for more details and guidance: https://numpy.org/devdocs/release/1.20.0-notes.html#deprecations\n",
      "  (x < aug_knots[1:]).astype(np.int)\n",
      "/public/home/zhaox/anaconda3/lib/python3.9/site-packages/pygam/utils.py:649: DeprecationWarning: `np.int` is a deprecated alias for the builtin `int`. To silence this warning, use `int` by itself. Doing this will not modify any behavior and is safe. When replacing `np.int`, you may wish to use e.g. `np.int64` or `np.int32` to specify the precision. If you wish to review your current use, check the release note link for additional information.\n",
      "Deprecated in NumPy 1.20; for more details and guidance: https://numpy.org/devdocs/release/1.20.0-notes.html#deprecations\n",
      "  bases = (x >= aug_knots[:-1]).astype(np.int) * \\\n",
      "/public/home/zhaox/anaconda3/lib/python3.9/site-packages/pygam/utils.py:650: DeprecationWarning: `np.int` is a deprecated alias for the builtin `int`. To silence this warning, use `int` by itself. Doing this will not modify any behavior and is safe. When replacing `np.int`, you may wish to use e.g. `np.int64` or `np.int32` to specify the precision. If you wish to review your current use, check the release note link for additional information.\n",
      "Deprecated in NumPy 1.20; for more details and guidance: https://numpy.org/devdocs/release/1.20.0-notes.html#deprecations\n",
      "  (x < aug_knots[1:]).astype(np.int)\n",
      "/public/home/zhaox/anaconda3/lib/python3.9/site-packages/pygam/utils.py:649: DeprecationWarning: `np.int` is a deprecated alias for the builtin `int`. To silence this warning, use `int` by itself. Doing this will not modify any behavior and is safe. When replacing `np.int`, you may wish to use e.g. `np.int64` or `np.int32` to specify the precision. If you wish to review your current use, check the release note link for additional information.\n",
      "Deprecated in NumPy 1.20; for more details and guidance: https://numpy.org/devdocs/release/1.20.0-notes.html#deprecations\n",
      "  bases = (x >= aug_knots[:-1]).astype(np.int) * \\\n",
      "/public/home/zhaox/anaconda3/lib/python3.9/site-packages/pygam/utils.py:650: DeprecationWarning: `np.int` is a deprecated alias for the builtin `int`. To silence this warning, use `int` by itself. Doing this will not modify any behavior and is safe. When replacing `np.int`, you may wish to use e.g. `np.int64` or `np.int32` to specify the precision. If you wish to review your current use, check the release note link for additional information.\n",
      "Deprecated in NumPy 1.20; for more details and guidance: https://numpy.org/devdocs/release/1.20.0-notes.html#deprecations\n",
      "  (x < aug_knots[1:]).astype(np.int)\n",
      "/public/home/zhaox/anaconda3/lib/python3.9/site-packages/pygam/utils.py:649: DeprecationWarning: `np.int` is a deprecated alias for the builtin `int`. To silence this warning, use `int` by itself. Doing this will not modify any behavior and is safe. When replacing `np.int`, you may wish to use e.g. `np.int64` or `np.int32` to specify the precision. If you wish to review your current use, check the release note link for additional information.\n",
      "Deprecated in NumPy 1.20; for more details and guidance: https://numpy.org/devdocs/release/1.20.0-notes.html#deprecations\n",
      "  bases = (x >= aug_knots[:-1]).astype(np.int) * \\\n",
      "/public/home/zhaox/anaconda3/lib/python3.9/site-packages/pygam/utils.py:650: DeprecationWarning: `np.int` is a deprecated alias for the builtin `int`. To silence this warning, use `int` by itself. Doing this will not modify any behavior and is safe. When replacing `np.int`, you may wish to use e.g. `np.int64` or `np.int32` to specify the precision. If you wish to review your current use, check the release note link for additional information.\n",
      "Deprecated in NumPy 1.20; for more details and guidance: https://numpy.org/devdocs/release/1.20.0-notes.html#deprecations\n",
      "  (x < aug_knots[1:]).astype(np.int)\n",
      "/public/home/zhaox/anaconda3/lib/python3.9/site-packages/pygam/utils.py:649: DeprecationWarning: `np.int` is a deprecated alias for the builtin `int`. To silence this warning, use `int` by itself. Doing this will not modify any behavior and is safe. When replacing `np.int`, you may wish to use e.g. `np.int64` or `np.int32` to specify the precision. If you wish to review your current use, check the release note link for additional information.\n",
      "Deprecated in NumPy 1.20; for more details and guidance: https://numpy.org/devdocs/release/1.20.0-notes.html#deprecations\n",
      "  bases = (x >= aug_knots[:-1]).astype(np.int) * \\\n",
      "/public/home/zhaox/anaconda3/lib/python3.9/site-packages/pygam/utils.py:650: DeprecationWarning: `np.int` is a deprecated alias for the builtin `int`. To silence this warning, use `int` by itself. Doing this will not modify any behavior and is safe. When replacing `np.int`, you may wish to use e.g. `np.int64` or `np.int32` to specify the precision. If you wish to review your current use, check the release note link for additional information.\n",
      "Deprecated in NumPy 1.20; for more details and guidance: https://numpy.org/devdocs/release/1.20.0-notes.html#deprecations\n",
      "  (x < aug_knots[1:]).astype(np.int)\n",
      "/public/home/zhaox/anaconda3/lib/python3.9/site-packages/pygam/utils.py:649: DeprecationWarning: `np.int` is a deprecated alias for the builtin `int`. To silence this warning, use `int` by itself. Doing this will not modify any behavior and is safe. When replacing `np.int`, you may wish to use e.g. `np.int64` or `np.int32` to specify the precision. If you wish to review your current use, check the release note link for additional information.\n",
      "Deprecated in NumPy 1.20; for more details and guidance: https://numpy.org/devdocs/release/1.20.0-notes.html#deprecations\n",
      "  bases = (x >= aug_knots[:-1]).astype(np.int) * \\\n",
      "/public/home/zhaox/anaconda3/lib/python3.9/site-packages/pygam/utils.py:650: DeprecationWarning: `np.int` is a deprecated alias for the builtin `int`. To silence this warning, use `int` by itself. Doing this will not modify any behavior and is safe. When replacing `np.int`, you may wish to use e.g. `np.int64` or `np.int32` to specify the precision. If you wish to review your current use, check the release note link for additional information.\n",
      "Deprecated in NumPy 1.20; for more details and guidance: https://numpy.org/devdocs/release/1.20.0-notes.html#deprecations\n",
      "  (x < aug_knots[1:]).astype(np.int)\n",
      "/public/home/zhaox/anaconda3/lib/python3.9/site-packages/pygam/utils.py:649: DeprecationWarning: `np.int` is a deprecated alias for the builtin `int`. To silence this warning, use `int` by itself. Doing this will not modify any behavior and is safe. When replacing `np.int`, you may wish to use e.g. `np.int64` or `np.int32` to specify the precision. If you wish to review your current use, check the release note link for additional information.\n",
      "Deprecated in NumPy 1.20; for more details and guidance: https://numpy.org/devdocs/release/1.20.0-notes.html#deprecations\n",
      "  bases = (x >= aug_knots[:-1]).astype(np.int) * \\\n",
      "/public/home/zhaox/anaconda3/lib/python3.9/site-packages/pygam/utils.py:650: DeprecationWarning: `np.int` is a deprecated alias for the builtin `int`. To silence this warning, use `int` by itself. Doing this will not modify any behavior and is safe. When replacing `np.int`, you may wish to use e.g. `np.int64` or `np.int32` to specify the precision. If you wish to review your current use, check the release note link for additional information.\n",
      "Deprecated in NumPy 1.20; for more details and guidance: https://numpy.org/devdocs/release/1.20.0-notes.html#deprecations\n",
      "  (x < aug_knots[1:]).astype(np.int)\n",
      "/public/home/zhaox/anaconda3/lib/python3.9/site-packages/pygam/utils.py:649: DeprecationWarning: `np.int` is a deprecated alias for the builtin `int`. To silence this warning, use `int` by itself. Doing this will not modify any behavior and is safe. When replacing `np.int`, you may wish to use e.g. `np.int64` or `np.int32` to specify the precision. If you wish to review your current use, check the release note link for additional information.\n",
      "Deprecated in NumPy 1.20; for more details and guidance: https://numpy.org/devdocs/release/1.20.0-notes.html#deprecations\n",
      "  bases = (x >= aug_knots[:-1]).astype(np.int) * \\\n",
      "/public/home/zhaox/anaconda3/lib/python3.9/site-packages/pygam/utils.py:650: DeprecationWarning: `np.int` is a deprecated alias for the builtin `int`. To silence this warning, use `int` by itself. Doing this will not modify any behavior and is safe. When replacing `np.int`, you may wish to use e.g. `np.int64` or `np.int32` to specify the precision. If you wish to review your current use, check the release note link for additional information.\n",
      "Deprecated in NumPy 1.20; for more details and guidance: https://numpy.org/devdocs/release/1.20.0-notes.html#deprecations\n",
      "  (x < aug_knots[1:]).astype(np.int)\n",
      "/public/home/zhaox/anaconda3/lib/python3.9/site-packages/pygam/utils.py:649: DeprecationWarning: `np.int` is a deprecated alias for the builtin `int`. To silence this warning, use `int` by itself. Doing this will not modify any behavior and is safe. When replacing `np.int`, you may wish to use e.g. `np.int64` or `np.int32` to specify the precision. If you wish to review your current use, check the release note link for additional information.\n",
      "Deprecated in NumPy 1.20; for more details and guidance: https://numpy.org/devdocs/release/1.20.0-notes.html#deprecations\n",
      "  bases = (x >= aug_knots[:-1]).astype(np.int) * \\\n",
      "/public/home/zhaox/anaconda3/lib/python3.9/site-packages/pygam/utils.py:650: DeprecationWarning: `np.int` is a deprecated alias for the builtin `int`. To silence this warning, use `int` by itself. Doing this will not modify any behavior and is safe. When replacing `np.int`, you may wish to use e.g. `np.int64` or `np.int32` to specify the precision. If you wish to review your current use, check the release note link for additional information.\n",
      "Deprecated in NumPy 1.20; for more details and guidance: https://numpy.org/devdocs/release/1.20.0-notes.html#deprecations\n",
      "  (x < aug_knots[1:]).astype(np.int)\n",
      "/public/home/zhaox/anaconda3/lib/python3.9/site-packages/pygam/utils.py:649: DeprecationWarning: `np.int` is a deprecated alias for the builtin `int`. To silence this warning, use `int` by itself. Doing this will not modify any behavior and is safe. When replacing `np.int`, you may wish to use e.g. `np.int64` or `np.int32` to specify the precision. If you wish to review your current use, check the release note link for additional information.\n",
      "Deprecated in NumPy 1.20; for more details and guidance: https://numpy.org/devdocs/release/1.20.0-notes.html#deprecations\n",
      "  bases = (x >= aug_knots[:-1]).astype(np.int) * \\\n",
      "/public/home/zhaox/anaconda3/lib/python3.9/site-packages/pygam/utils.py:650: DeprecationWarning: `np.int` is a deprecated alias for the builtin `int`. To silence this warning, use `int` by itself. Doing this will not modify any behavior and is safe. When replacing `np.int`, you may wish to use e.g. `np.int64` or `np.int32` to specify the precision. If you wish to review your current use, check the release note link for additional information.\n",
      "Deprecated in NumPy 1.20; for more details and guidance: https://numpy.org/devdocs/release/1.20.0-notes.html#deprecations\n",
      "  (x < aug_knots[1:]).astype(np.int)\n",
      "/public/home/zhaox/anaconda3/lib/python3.9/site-packages/pygam/utils.py:649: DeprecationWarning: `np.int` is a deprecated alias for the builtin `int`. To silence this warning, use `int` by itself. Doing this will not modify any behavior and is safe. When replacing `np.int`, you may wish to use e.g. `np.int64` or `np.int32` to specify the precision. If you wish to review your current use, check the release note link for additional information.\n",
      "Deprecated in NumPy 1.20; for more details and guidance: https://numpy.org/devdocs/release/1.20.0-notes.html#deprecations\n",
      "  bases = (x >= aug_knots[:-1]).astype(np.int) * \\\n",
      "/public/home/zhaox/anaconda3/lib/python3.9/site-packages/pygam/utils.py:650: DeprecationWarning: `np.int` is a deprecated alias for the builtin `int`. To silence this warning, use `int` by itself. Doing this will not modify any behavior and is safe. When replacing `np.int`, you may wish to use e.g. `np.int64` or `np.int32` to specify the precision. If you wish to review your current use, check the release note link for additional information.\n",
      "Deprecated in NumPy 1.20; for more details and guidance: https://numpy.org/devdocs/release/1.20.0-notes.html#deprecations\n",
      "  (x < aug_knots[1:]).astype(np.int)\n",
      "/public/home/zhaox/anaconda3/lib/python3.9/site-packages/pygam/utils.py:649: DeprecationWarning: `np.int` is a deprecated alias for the builtin `int`. To silence this warning, use `int` by itself. Doing this will not modify any behavior and is safe. When replacing `np.int`, you may wish to use e.g. `np.int64` or `np.int32` to specify the precision. If you wish to review your current use, check the release note link for additional information.\n",
      "Deprecated in NumPy 1.20; for more details and guidance: https://numpy.org/devdocs/release/1.20.0-notes.html#deprecations\n",
      "  bases = (x >= aug_knots[:-1]).astype(np.int) * \\\n",
      "/public/home/zhaox/anaconda3/lib/python3.9/site-packages/pygam/utils.py:650: DeprecationWarning: `np.int` is a deprecated alias for the builtin `int`. To silence this warning, use `int` by itself. Doing this will not modify any behavior and is safe. When replacing `np.int`, you may wish to use e.g. `np.int64` or `np.int32` to specify the precision. If you wish to review your current use, check the release note link for additional information.\n",
      "Deprecated in NumPy 1.20; for more details and guidance: https://numpy.org/devdocs/release/1.20.0-notes.html#deprecations\n",
      "  (x < aug_knots[1:]).astype(np.int)\n",
      "/public/home/zhaox/anaconda3/lib/python3.9/site-packages/pygam/utils.py:649: DeprecationWarning: `np.int` is a deprecated alias for the builtin `int`. To silence this warning, use `int` by itself. Doing this will not modify any behavior and is safe. When replacing `np.int`, you may wish to use e.g. `np.int64` or `np.int32` to specify the precision. If you wish to review your current use, check the release note link for additional information.\n",
      "Deprecated in NumPy 1.20; for more details and guidance: https://numpy.org/devdocs/release/1.20.0-notes.html#deprecations\n",
      "  bases = (x >= aug_knots[:-1]).astype(np.int) * \\\n",
      "/public/home/zhaox/anaconda3/lib/python3.9/site-packages/pygam/utils.py:650: DeprecationWarning: `np.int` is a deprecated alias for the builtin `int`. To silence this warning, use `int` by itself. Doing this will not modify any behavior and is safe. When replacing `np.int`, you may wish to use e.g. `np.int64` or `np.int32` to specify the precision. If you wish to review your current use, check the release note link for additional information.\n",
      "Deprecated in NumPy 1.20; for more details and guidance: https://numpy.org/devdocs/release/1.20.0-notes.html#deprecations\n",
      "  (x < aug_knots[1:]).astype(np.int)\n",
      "/public/home/zhaox/anaconda3/lib/python3.9/site-packages/pygam/utils.py:649: DeprecationWarning: `np.int` is a deprecated alias for the builtin `int`. To silence this warning, use `int` by itself. Doing this will not modify any behavior and is safe. When replacing `np.int`, you may wish to use e.g. `np.int64` or `np.int32` to specify the precision. If you wish to review your current use, check the release note link for additional information.\n",
      "Deprecated in NumPy 1.20; for more details and guidance: https://numpy.org/devdocs/release/1.20.0-notes.html#deprecations\n",
      "  bases = (x >= aug_knots[:-1]).astype(np.int) * \\\n",
      "/public/home/zhaox/anaconda3/lib/python3.9/site-packages/pygam/utils.py:650: DeprecationWarning: `np.int` is a deprecated alias for the builtin `int`. To silence this warning, use `int` by itself. Doing this will not modify any behavior and is safe. When replacing `np.int`, you may wish to use e.g. `np.int64` or `np.int32` to specify the precision. If you wish to review your current use, check the release note link for additional information.\n",
      "Deprecated in NumPy 1.20; for more details and guidance: https://numpy.org/devdocs/release/1.20.0-notes.html#deprecations\n",
      "  (x < aug_knots[1:]).astype(np.int)\n",
      "/public/home/zhaox/anaconda3/lib/python3.9/site-packages/pygam/utils.py:649: DeprecationWarning: `np.int` is a deprecated alias for the builtin `int`. To silence this warning, use `int` by itself. Doing this will not modify any behavior and is safe. When replacing `np.int`, you may wish to use e.g. `np.int64` or `np.int32` to specify the precision. If you wish to review your current use, check the release note link for additional information.\n",
      "Deprecated in NumPy 1.20; for more details and guidance: https://numpy.org/devdocs/release/1.20.0-notes.html#deprecations\n",
      "  bases = (x >= aug_knots[:-1]).astype(np.int) * \\\n",
      "/public/home/zhaox/anaconda3/lib/python3.9/site-packages/pygam/utils.py:650: DeprecationWarning: `np.int` is a deprecated alias for the builtin `int`. To silence this warning, use `int` by itself. Doing this will not modify any behavior and is safe. When replacing `np.int`, you may wish to use e.g. `np.int64` or `np.int32` to specify the precision. If you wish to review your current use, check the release note link for additional information.\n",
      "Deprecated in NumPy 1.20; for more details and guidance: https://numpy.org/devdocs/release/1.20.0-notes.html#deprecations\n",
      "  (x < aug_knots[1:]).astype(np.int)\n",
      "/public/home/zhaox/anaconda3/lib/python3.9/site-packages/pygam/utils.py:649: DeprecationWarning: `np.int` is a deprecated alias for the builtin `int`. To silence this warning, use `int` by itself. Doing this will not modify any behavior and is safe. When replacing `np.int`, you may wish to use e.g. `np.int64` or `np.int32` to specify the precision. If you wish to review your current use, check the release note link for additional information.\n",
      "Deprecated in NumPy 1.20; for more details and guidance: https://numpy.org/devdocs/release/1.20.0-notes.html#deprecations\n",
      "  bases = (x >= aug_knots[:-1]).astype(np.int) * \\\n",
      "/public/home/zhaox/anaconda3/lib/python3.9/site-packages/pygam/utils.py:650: DeprecationWarning: `np.int` is a deprecated alias for the builtin `int`. To silence this warning, use `int` by itself. Doing this will not modify any behavior and is safe. When replacing `np.int`, you may wish to use e.g. `np.int64` or `np.int32` to specify the precision. If you wish to review your current use, check the release note link for additional information.\n",
      "Deprecated in NumPy 1.20; for more details and guidance: https://numpy.org/devdocs/release/1.20.0-notes.html#deprecations\n",
      "  (x < aug_knots[1:]).astype(np.int)\n",
      "/public/home/zhaox/anaconda3/lib/python3.9/site-packages/pygam/utils.py:649: DeprecationWarning: `np.int` is a deprecated alias for the builtin `int`. To silence this warning, use `int` by itself. Doing this will not modify any behavior and is safe. When replacing `np.int`, you may wish to use e.g. `np.int64` or `np.int32` to specify the precision. If you wish to review your current use, check the release note link for additional information.\n",
      "Deprecated in NumPy 1.20; for more details and guidance: https://numpy.org/devdocs/release/1.20.0-notes.html#deprecations\n",
      "  bases = (x >= aug_knots[:-1]).astype(np.int) * \\\n",
      "/public/home/zhaox/anaconda3/lib/python3.9/site-packages/pygam/utils.py:650: DeprecationWarning: `np.int` is a deprecated alias for the builtin `int`. To silence this warning, use `int` by itself. Doing this will not modify any behavior and is safe. When replacing `np.int`, you may wish to use e.g. `np.int64` or `np.int32` to specify the precision. If you wish to review your current use, check the release note link for additional information.\n",
      "Deprecated in NumPy 1.20; for more details and guidance: https://numpy.org/devdocs/release/1.20.0-notes.html#deprecations\n",
      "  (x < aug_knots[1:]).astype(np.int)\n",
      "/public/home/zhaox/anaconda3/lib/python3.9/site-packages/pygam/utils.py:649: DeprecationWarning: `np.int` is a deprecated alias for the builtin `int`. To silence this warning, use `int` by itself. Doing this will not modify any behavior and is safe. When replacing `np.int`, you may wish to use e.g. `np.int64` or `np.int32` to specify the precision. If you wish to review your current use, check the release note link for additional information.\n",
      "Deprecated in NumPy 1.20; for more details and guidance: https://numpy.org/devdocs/release/1.20.0-notes.html#deprecations\n",
      "  bases = (x >= aug_knots[:-1]).astype(np.int) * \\\n",
      "/public/home/zhaox/anaconda3/lib/python3.9/site-packages/pygam/utils.py:650: DeprecationWarning: `np.int` is a deprecated alias for the builtin `int`. To silence this warning, use `int` by itself. Doing this will not modify any behavior and is safe. When replacing `np.int`, you may wish to use e.g. `np.int64` or `np.int32` to specify the precision. If you wish to review your current use, check the release note link for additional information.\n",
      "Deprecated in NumPy 1.20; for more details and guidance: https://numpy.org/devdocs/release/1.20.0-notes.html#deprecations\n",
      "  (x < aug_knots[1:]).astype(np.int)\n",
      "/public/home/zhaox/anaconda3/lib/python3.9/site-packages/pygam/utils.py:649: DeprecationWarning: `np.int` is a deprecated alias for the builtin `int`. To silence this warning, use `int` by itself. Doing this will not modify any behavior and is safe. When replacing `np.int`, you may wish to use e.g. `np.int64` or `np.int32` to specify the precision. If you wish to review your current use, check the release note link for additional information.\n",
      "Deprecated in NumPy 1.20; for more details and guidance: https://numpy.org/devdocs/release/1.20.0-notes.html#deprecations\n",
      "  bases = (x >= aug_knots[:-1]).astype(np.int) * \\\n",
      "/public/home/zhaox/anaconda3/lib/python3.9/site-packages/pygam/utils.py:650: DeprecationWarning: `np.int` is a deprecated alias for the builtin `int`. To silence this warning, use `int` by itself. Doing this will not modify any behavior and is safe. When replacing `np.int`, you may wish to use e.g. `np.int64` or `np.int32` to specify the precision. If you wish to review your current use, check the release note link for additional information.\n",
      "Deprecated in NumPy 1.20; for more details and guidance: https://numpy.org/devdocs/release/1.20.0-notes.html#deprecations\n",
      "  (x < aug_knots[1:]).astype(np.int)\n",
      "/public/home/zhaox/anaconda3/lib/python3.9/site-packages/pygam/utils.py:649: DeprecationWarning: `np.int` is a deprecated alias for the builtin `int`. To silence this warning, use `int` by itself. Doing this will not modify any behavior and is safe. When replacing `np.int`, you may wish to use e.g. `np.int64` or `np.int32` to specify the precision. If you wish to review your current use, check the release note link for additional information.\n",
      "Deprecated in NumPy 1.20; for more details and guidance: https://numpy.org/devdocs/release/1.20.0-notes.html#deprecations\n",
      "  bases = (x >= aug_knots[:-1]).astype(np.int) * \\\n",
      "/public/home/zhaox/anaconda3/lib/python3.9/site-packages/pygam/utils.py:650: DeprecationWarning: `np.int` is a deprecated alias for the builtin `int`. To silence this warning, use `int` by itself. Doing this will not modify any behavior and is safe. When replacing `np.int`, you may wish to use e.g. `np.int64` or `np.int32` to specify the precision. If you wish to review your current use, check the release note link for additional information.\n",
      "Deprecated in NumPy 1.20; for more details and guidance: https://numpy.org/devdocs/release/1.20.0-notes.html#deprecations\n",
      "  (x < aug_knots[1:]).astype(np.int)\n",
      "/public/home/zhaox/anaconda3/lib/python3.9/site-packages/pygam/utils.py:649: DeprecationWarning: `np.int` is a deprecated alias for the builtin `int`. To silence this warning, use `int` by itself. Doing this will not modify any behavior and is safe. When replacing `np.int`, you may wish to use e.g. `np.int64` or `np.int32` to specify the precision. If you wish to review your current use, check the release note link for additional information.\n",
      "Deprecated in NumPy 1.20; for more details and guidance: https://numpy.org/devdocs/release/1.20.0-notes.html#deprecations\n",
      "  bases = (x >= aug_knots[:-1]).astype(np.int) * \\\n",
      "/public/home/zhaox/anaconda3/lib/python3.9/site-packages/pygam/utils.py:650: DeprecationWarning: `np.int` is a deprecated alias for the builtin `int`. To silence this warning, use `int` by itself. Doing this will not modify any behavior and is safe. When replacing `np.int`, you may wish to use e.g. `np.int64` or `np.int32` to specify the precision. If you wish to review your current use, check the release note link for additional information.\n",
      "Deprecated in NumPy 1.20; for more details and guidance: https://numpy.org/devdocs/release/1.20.0-notes.html#deprecations\n",
      "  (x < aug_knots[1:]).astype(np.int)\n",
      "/public/home/zhaox/anaconda3/lib/python3.9/site-packages/pygam/utils.py:649: DeprecationWarning: `np.int` is a deprecated alias for the builtin `int`. To silence this warning, use `int` by itself. Doing this will not modify any behavior and is safe. When replacing `np.int`, you may wish to use e.g. `np.int64` or `np.int32` to specify the precision. If you wish to review your current use, check the release note link for additional information.\n",
      "Deprecated in NumPy 1.20; for more details and guidance: https://numpy.org/devdocs/release/1.20.0-notes.html#deprecations\n",
      "  bases = (x >= aug_knots[:-1]).astype(np.int) * \\\n",
      "/public/home/zhaox/anaconda3/lib/python3.9/site-packages/pygam/utils.py:650: DeprecationWarning: `np.int` is a deprecated alias for the builtin `int`. To silence this warning, use `int` by itself. Doing this will not modify any behavior and is safe. When replacing `np.int`, you may wish to use e.g. `np.int64` or `np.int32` to specify the precision. If you wish to review your current use, check the release note link for additional information.\n",
      "Deprecated in NumPy 1.20; for more details and guidance: https://numpy.org/devdocs/release/1.20.0-notes.html#deprecations\n",
      "  (x < aug_knots[1:]).astype(np.int)\n",
      "/public/home/zhaox/anaconda3/lib/python3.9/site-packages/pygam/utils.py:649: DeprecationWarning: `np.int` is a deprecated alias for the builtin `int`. To silence this warning, use `int` by itself. Doing this will not modify any behavior and is safe. When replacing `np.int`, you may wish to use e.g. `np.int64` or `np.int32` to specify the precision. If you wish to review your current use, check the release note link for additional information.\n",
      "Deprecated in NumPy 1.20; for more details and guidance: https://numpy.org/devdocs/release/1.20.0-notes.html#deprecations\n",
      "  bases = (x >= aug_knots[:-1]).astype(np.int) * \\\n",
      "/public/home/zhaox/anaconda3/lib/python3.9/site-packages/pygam/utils.py:650: DeprecationWarning: `np.int` is a deprecated alias for the builtin `int`. To silence this warning, use `int` by itself. Doing this will not modify any behavior and is safe. When replacing `np.int`, you may wish to use e.g. `np.int64` or `np.int32` to specify the precision. If you wish to review your current use, check the release note link for additional information.\n",
      "Deprecated in NumPy 1.20; for more details and guidance: https://numpy.org/devdocs/release/1.20.0-notes.html#deprecations\n",
      "  (x < aug_knots[1:]).astype(np.int)\n",
      "/public/home/zhaox/anaconda3/lib/python3.9/site-packages/pygam/utils.py:649: DeprecationWarning: `np.int` is a deprecated alias for the builtin `int`. To silence this warning, use `int` by itself. Doing this will not modify any behavior and is safe. When replacing `np.int`, you may wish to use e.g. `np.int64` or `np.int32` to specify the precision. If you wish to review your current use, check the release note link for additional information.\n",
      "Deprecated in NumPy 1.20; for more details and guidance: https://numpy.org/devdocs/release/1.20.0-notes.html#deprecations\n",
      "  bases = (x >= aug_knots[:-1]).astype(np.int) * \\\n",
      "/public/home/zhaox/anaconda3/lib/python3.9/site-packages/pygam/utils.py:650: DeprecationWarning: `np.int` is a deprecated alias for the builtin `int`. To silence this warning, use `int` by itself. Doing this will not modify any behavior and is safe. When replacing `np.int`, you may wish to use e.g. `np.int64` or `np.int32` to specify the precision. If you wish to review your current use, check the release note link for additional information.\n",
      "Deprecated in NumPy 1.20; for more details and guidance: https://numpy.org/devdocs/release/1.20.0-notes.html#deprecations\n",
      "  (x < aug_knots[1:]).astype(np.int)\n",
      "/public/home/zhaox/anaconda3/lib/python3.9/site-packages/pygam/utils.py:649: DeprecationWarning: `np.int` is a deprecated alias for the builtin `int`. To silence this warning, use `int` by itself. Doing this will not modify any behavior and is safe. When replacing `np.int`, you may wish to use e.g. `np.int64` or `np.int32` to specify the precision. If you wish to review your current use, check the release note link for additional information.\n",
      "Deprecated in NumPy 1.20; for more details and guidance: https://numpy.org/devdocs/release/1.20.0-notes.html#deprecations\n",
      "  bases = (x >= aug_knots[:-1]).astype(np.int) * \\\n",
      "/public/home/zhaox/anaconda3/lib/python3.9/site-packages/pygam/utils.py:650: DeprecationWarning: `np.int` is a deprecated alias for the builtin `int`. To silence this warning, use `int` by itself. Doing this will not modify any behavior and is safe. When replacing `np.int`, you may wish to use e.g. `np.int64` or `np.int32` to specify the precision. If you wish to review your current use, check the release note link for additional information.\n",
      "Deprecated in NumPy 1.20; for more details and guidance: https://numpy.org/devdocs/release/1.20.0-notes.html#deprecations\n",
      "  (x < aug_knots[1:]).astype(np.int)\n",
      "/public/home/zhaox/anaconda3/lib/python3.9/site-packages/pygam/utils.py:649: DeprecationWarning: `np.int` is a deprecated alias for the builtin `int`. To silence this warning, use `int` by itself. Doing this will not modify any behavior and is safe. When replacing `np.int`, you may wish to use e.g. `np.int64` or `np.int32` to specify the precision. If you wish to review your current use, check the release note link for additional information.\n",
      "Deprecated in NumPy 1.20; for more details and guidance: https://numpy.org/devdocs/release/1.20.0-notes.html#deprecations\n",
      "  bases = (x >= aug_knots[:-1]).astype(np.int) * \\\n",
      "/public/home/zhaox/anaconda3/lib/python3.9/site-packages/pygam/utils.py:650: DeprecationWarning: `np.int` is a deprecated alias for the builtin `int`. To silence this warning, use `int` by itself. Doing this will not modify any behavior and is safe. When replacing `np.int`, you may wish to use e.g. `np.int64` or `np.int32` to specify the precision. If you wish to review your current use, check the release note link for additional information.\n",
      "Deprecated in NumPy 1.20; for more details and guidance: https://numpy.org/devdocs/release/1.20.0-notes.html#deprecations\n",
      "  (x < aug_knots[1:]).astype(np.int)\n",
      "/public/home/zhaox/anaconda3/lib/python3.9/site-packages/pygam/utils.py:649: DeprecationWarning: `np.int` is a deprecated alias for the builtin `int`. To silence this warning, use `int` by itself. Doing this will not modify any behavior and is safe. When replacing `np.int`, you may wish to use e.g. `np.int64` or `np.int32` to specify the precision. If you wish to review your current use, check the release note link for additional information.\n",
      "Deprecated in NumPy 1.20; for more details and guidance: https://numpy.org/devdocs/release/1.20.0-notes.html#deprecations\n",
      "  bases = (x >= aug_knots[:-1]).astype(np.int) * \\\n",
      "/public/home/zhaox/anaconda3/lib/python3.9/site-packages/pygam/utils.py:650: DeprecationWarning: `np.int` is a deprecated alias for the builtin `int`. To silence this warning, use `int` by itself. Doing this will not modify any behavior and is safe. When replacing `np.int`, you may wish to use e.g. `np.int64` or `np.int32` to specify the precision. If you wish to review your current use, check the release note link for additional information.\n",
      "Deprecated in NumPy 1.20; for more details and guidance: https://numpy.org/devdocs/release/1.20.0-notes.html#deprecations\n",
      "  (x < aug_knots[1:]).astype(np.int)\n",
      "/public/home/zhaox/anaconda3/lib/python3.9/site-packages/pygam/utils.py:649: DeprecationWarning: `np.int` is a deprecated alias for the builtin `int`. To silence this warning, use `int` by itself. Doing this will not modify any behavior and is safe. When replacing `np.int`, you may wish to use e.g. `np.int64` or `np.int32` to specify the precision. If you wish to review your current use, check the release note link for additional information.\n",
      "Deprecated in NumPy 1.20; for more details and guidance: https://numpy.org/devdocs/release/1.20.0-notes.html#deprecations\n",
      "  bases = (x >= aug_knots[:-1]).astype(np.int) * \\\n",
      "/public/home/zhaox/anaconda3/lib/python3.9/site-packages/pygam/utils.py:650: DeprecationWarning: `np.int` is a deprecated alias for the builtin `int`. To silence this warning, use `int` by itself. Doing this will not modify any behavior and is safe. When replacing `np.int`, you may wish to use e.g. `np.int64` or `np.int32` to specify the precision. If you wish to review your current use, check the release note link for additional information.\n",
      "Deprecated in NumPy 1.20; for more details and guidance: https://numpy.org/devdocs/release/1.20.0-notes.html#deprecations\n",
      "  (x < aug_knots[1:]).astype(np.int)\n",
      "/public/home/zhaox/anaconda3/lib/python3.9/site-packages/pygam/utils.py:649: DeprecationWarning: `np.int` is a deprecated alias for the builtin `int`. To silence this warning, use `int` by itself. Doing this will not modify any behavior and is safe. When replacing `np.int`, you may wish to use e.g. `np.int64` or `np.int32` to specify the precision. If you wish to review your current use, check the release note link for additional information.\n",
      "Deprecated in NumPy 1.20; for more details and guidance: https://numpy.org/devdocs/release/1.20.0-notes.html#deprecations\n",
      "  bases = (x >= aug_knots[:-1]).astype(np.int) * \\\n",
      "/public/home/zhaox/anaconda3/lib/python3.9/site-packages/pygam/utils.py:650: DeprecationWarning: `np.int` is a deprecated alias for the builtin `int`. To silence this warning, use `int` by itself. Doing this will not modify any behavior and is safe. When replacing `np.int`, you may wish to use e.g. `np.int64` or `np.int32` to specify the precision. If you wish to review your current use, check the release note link for additional information.\n",
      "Deprecated in NumPy 1.20; for more details and guidance: https://numpy.org/devdocs/release/1.20.0-notes.html#deprecations\n",
      "  (x < aug_knots[1:]).astype(np.int)\n",
      "/public/home/zhaox/anaconda3/lib/python3.9/site-packages/pygam/utils.py:649: DeprecationWarning: `np.int` is a deprecated alias for the builtin `int`. To silence this warning, use `int` by itself. Doing this will not modify any behavior and is safe. When replacing `np.int`, you may wish to use e.g. `np.int64` or `np.int32` to specify the precision. If you wish to review your current use, check the release note link for additional information.\n",
      "Deprecated in NumPy 1.20; for more details and guidance: https://numpy.org/devdocs/release/1.20.0-notes.html#deprecations\n",
      "  bases = (x >= aug_knots[:-1]).astype(np.int) * \\\n",
      "/public/home/zhaox/anaconda3/lib/python3.9/site-packages/pygam/utils.py:650: DeprecationWarning: `np.int` is a deprecated alias for the builtin `int`. To silence this warning, use `int` by itself. Doing this will not modify any behavior and is safe. When replacing `np.int`, you may wish to use e.g. `np.int64` or `np.int32` to specify the precision. If you wish to review your current use, check the release note link for additional information.\n",
      "Deprecated in NumPy 1.20; for more details and guidance: https://numpy.org/devdocs/release/1.20.0-notes.html#deprecations\n",
      "  (x < aug_knots[1:]).astype(np.int)\n",
      "/public/home/zhaox/anaconda3/lib/python3.9/site-packages/pygam/utils.py:649: DeprecationWarning: `np.int` is a deprecated alias for the builtin `int`. To silence this warning, use `int` by itself. Doing this will not modify any behavior and is safe. When replacing `np.int`, you may wish to use e.g. `np.int64` or `np.int32` to specify the precision. If you wish to review your current use, check the release note link for additional information.\n",
      "Deprecated in NumPy 1.20; for more details and guidance: https://numpy.org/devdocs/release/1.20.0-notes.html#deprecations\n",
      "  bases = (x >= aug_knots[:-1]).astype(np.int) * \\\n",
      "/public/home/zhaox/anaconda3/lib/python3.9/site-packages/pygam/utils.py:650: DeprecationWarning: `np.int` is a deprecated alias for the builtin `int`. To silence this warning, use `int` by itself. Doing this will not modify any behavior and is safe. When replacing `np.int`, you may wish to use e.g. `np.int64` or `np.int32` to specify the precision. If you wish to review your current use, check the release note link for additional information.\n",
      "Deprecated in NumPy 1.20; for more details and guidance: https://numpy.org/devdocs/release/1.20.0-notes.html#deprecations\n",
      "  (x < aug_knots[1:]).astype(np.int)\n",
      "/public/home/zhaox/anaconda3/lib/python3.9/site-packages/pygam/utils.py:649: DeprecationWarning: `np.int` is a deprecated alias for the builtin `int`. To silence this warning, use `int` by itself. Doing this will not modify any behavior and is safe. When replacing `np.int`, you may wish to use e.g. `np.int64` or `np.int32` to specify the precision. If you wish to review your current use, check the release note link for additional information.\n",
      "Deprecated in NumPy 1.20; for more details and guidance: https://numpy.org/devdocs/release/1.20.0-notes.html#deprecations\n",
      "  bases = (x >= aug_knots[:-1]).astype(np.int) * \\\n",
      "/public/home/zhaox/anaconda3/lib/python3.9/site-packages/pygam/utils.py:650: DeprecationWarning: `np.int` is a deprecated alias for the builtin `int`. To silence this warning, use `int` by itself. Doing this will not modify any behavior and is safe. When replacing `np.int`, you may wish to use e.g. `np.int64` or `np.int32` to specify the precision. If you wish to review your current use, check the release note link for additional information.\n",
      "Deprecated in NumPy 1.20; for more details and guidance: https://numpy.org/devdocs/release/1.20.0-notes.html#deprecations\n",
      "  (x < aug_knots[1:]).astype(np.int)\n",
      "/public/home/zhaox/anaconda3/lib/python3.9/site-packages/pygam/utils.py:649: DeprecationWarning: `np.int` is a deprecated alias for the builtin `int`. To silence this warning, use `int` by itself. Doing this will not modify any behavior and is safe. When replacing `np.int`, you may wish to use e.g. `np.int64` or `np.int32` to specify the precision. If you wish to review your current use, check the release note link for additional information.\n",
      "Deprecated in NumPy 1.20; for more details and guidance: https://numpy.org/devdocs/release/1.20.0-notes.html#deprecations\n",
      "  bases = (x >= aug_knots[:-1]).astype(np.int) * \\\n",
      "/public/home/zhaox/anaconda3/lib/python3.9/site-packages/pygam/utils.py:650: DeprecationWarning: `np.int` is a deprecated alias for the builtin `int`. To silence this warning, use `int` by itself. Doing this will not modify any behavior and is safe. When replacing `np.int`, you may wish to use e.g. `np.int64` or `np.int32` to specify the precision. If you wish to review your current use, check the release note link for additional information.\n",
      "Deprecated in NumPy 1.20; for more details and guidance: https://numpy.org/devdocs/release/1.20.0-notes.html#deprecations\n",
      "  (x < aug_knots[1:]).astype(np.int)\n",
      "/public/home/zhaox/anaconda3/lib/python3.9/site-packages/pygam/utils.py:649: DeprecationWarning: `np.int` is a deprecated alias for the builtin `int`. To silence this warning, use `int` by itself. Doing this will not modify any behavior and is safe. When replacing `np.int`, you may wish to use e.g. `np.int64` or `np.int32` to specify the precision. If you wish to review your current use, check the release note link for additional information.\n",
      "Deprecated in NumPy 1.20; for more details and guidance: https://numpy.org/devdocs/release/1.20.0-notes.html#deprecations\n",
      "  bases = (x >= aug_knots[:-1]).astype(np.int) * \\\n",
      "/public/home/zhaox/anaconda3/lib/python3.9/site-packages/pygam/utils.py:650: DeprecationWarning: `np.int` is a deprecated alias for the builtin `int`. To silence this warning, use `int` by itself. Doing this will not modify any behavior and is safe. When replacing `np.int`, you may wish to use e.g. `np.int64` or `np.int32` to specify the precision. If you wish to review your current use, check the release note link for additional information.\n",
      "Deprecated in NumPy 1.20; for more details and guidance: https://numpy.org/devdocs/release/1.20.0-notes.html#deprecations\n",
      "  (x < aug_knots[1:]).astype(np.int)\n",
      "/public/home/zhaox/anaconda3/lib/python3.9/site-packages/pygam/utils.py:649: DeprecationWarning: `np.int` is a deprecated alias for the builtin `int`. To silence this warning, use `int` by itself. Doing this will not modify any behavior and is safe. When replacing `np.int`, you may wish to use e.g. `np.int64` or `np.int32` to specify the precision. If you wish to review your current use, check the release note link for additional information.\n",
      "Deprecated in NumPy 1.20; for more details and guidance: https://numpy.org/devdocs/release/1.20.0-notes.html#deprecations\n",
      "  bases = (x >= aug_knots[:-1]).astype(np.int) * \\\n",
      "/public/home/zhaox/anaconda3/lib/python3.9/site-packages/pygam/utils.py:650: DeprecationWarning: `np.int` is a deprecated alias for the builtin `int`. To silence this warning, use `int` by itself. Doing this will not modify any behavior and is safe. When replacing `np.int`, you may wish to use e.g. `np.int64` or `np.int32` to specify the precision. If you wish to review your current use, check the release note link for additional information.\n",
      "Deprecated in NumPy 1.20; for more details and guidance: https://numpy.org/devdocs/release/1.20.0-notes.html#deprecations\n",
      "  (x < aug_knots[1:]).astype(np.int)\n",
      "/public/home/zhaox/anaconda3/lib/python3.9/site-packages/pygam/utils.py:649: DeprecationWarning: `np.int` is a deprecated alias for the builtin `int`. To silence this warning, use `int` by itself. Doing this will not modify any behavior and is safe. When replacing `np.int`, you may wish to use e.g. `np.int64` or `np.int32` to specify the precision. If you wish to review your current use, check the release note link for additional information.\n",
      "Deprecated in NumPy 1.20; for more details and guidance: https://numpy.org/devdocs/release/1.20.0-notes.html#deprecations\n",
      "  bases = (x >= aug_knots[:-1]).astype(np.int) * \\\n",
      "/public/home/zhaox/anaconda3/lib/python3.9/site-packages/pygam/utils.py:650: DeprecationWarning: `np.int` is a deprecated alias for the builtin `int`. To silence this warning, use `int` by itself. Doing this will not modify any behavior and is safe. When replacing `np.int`, you may wish to use e.g. `np.int64` or `np.int32` to specify the precision. If you wish to review your current use, check the release note link for additional information.\n",
      "Deprecated in NumPy 1.20; for more details and guidance: https://numpy.org/devdocs/release/1.20.0-notes.html#deprecations\n",
      "  (x < aug_knots[1:]).astype(np.int)\n",
      "/public/home/zhaox/anaconda3/lib/python3.9/site-packages/pygam/utils.py:649: DeprecationWarning: `np.int` is a deprecated alias for the builtin `int`. To silence this warning, use `int` by itself. Doing this will not modify any behavior and is safe. When replacing `np.int`, you may wish to use e.g. `np.int64` or `np.int32` to specify the precision. If you wish to review your current use, check the release note link for additional information.\n",
      "Deprecated in NumPy 1.20; for more details and guidance: https://numpy.org/devdocs/release/1.20.0-notes.html#deprecations\n",
      "  bases = (x >= aug_knots[:-1]).astype(np.int) * \\\n",
      "/public/home/zhaox/anaconda3/lib/python3.9/site-packages/pygam/utils.py:650: DeprecationWarning: `np.int` is a deprecated alias for the builtin `int`. To silence this warning, use `int` by itself. Doing this will not modify any behavior and is safe. When replacing `np.int`, you may wish to use e.g. `np.int64` or `np.int32` to specify the precision. If you wish to review your current use, check the release note link for additional information.\n",
      "Deprecated in NumPy 1.20; for more details and guidance: https://numpy.org/devdocs/release/1.20.0-notes.html#deprecations\n",
      "  (x < aug_knots[1:]).astype(np.int)\n",
      "/public/home/zhaox/anaconda3/lib/python3.9/site-packages/pygam/utils.py:649: DeprecationWarning: `np.int` is a deprecated alias for the builtin `int`. To silence this warning, use `int` by itself. Doing this will not modify any behavior and is safe. When replacing `np.int`, you may wish to use e.g. `np.int64` or `np.int32` to specify the precision. If you wish to review your current use, check the release note link for additional information.\n",
      "Deprecated in NumPy 1.20; for more details and guidance: https://numpy.org/devdocs/release/1.20.0-notes.html#deprecations\n",
      "  bases = (x >= aug_knots[:-1]).astype(np.int) * \\\n",
      "/public/home/zhaox/anaconda3/lib/python3.9/site-packages/pygam/utils.py:650: DeprecationWarning: `np.int` is a deprecated alias for the builtin `int`. To silence this warning, use `int` by itself. Doing this will not modify any behavior and is safe. When replacing `np.int`, you may wish to use e.g. `np.int64` or `np.int32` to specify the precision. If you wish to review your current use, check the release note link for additional information.\n",
      "Deprecated in NumPy 1.20; for more details and guidance: https://numpy.org/devdocs/release/1.20.0-notes.html#deprecations\n",
      "  (x < aug_knots[1:]).astype(np.int)\n",
      "/public/home/zhaox/anaconda3/lib/python3.9/site-packages/pygam/utils.py:649: DeprecationWarning: `np.int` is a deprecated alias for the builtin `int`. To silence this warning, use `int` by itself. Doing this will not modify any behavior and is safe. When replacing `np.int`, you may wish to use e.g. `np.int64` or `np.int32` to specify the precision. If you wish to review your current use, check the release note link for additional information.\n",
      "Deprecated in NumPy 1.20; for more details and guidance: https://numpy.org/devdocs/release/1.20.0-notes.html#deprecations\n",
      "  bases = (x >= aug_knots[:-1]).astype(np.int) * \\\n",
      "/public/home/zhaox/anaconda3/lib/python3.9/site-packages/pygam/utils.py:650: DeprecationWarning: `np.int` is a deprecated alias for the builtin `int`. To silence this warning, use `int` by itself. Doing this will not modify any behavior and is safe. When replacing `np.int`, you may wish to use e.g. `np.int64` or `np.int32` to specify the precision. If you wish to review your current use, check the release note link for additional information.\n",
      "Deprecated in NumPy 1.20; for more details and guidance: https://numpy.org/devdocs/release/1.20.0-notes.html#deprecations\n",
      "  (x < aug_knots[1:]).astype(np.int)\n",
      "/public/home/zhaox/anaconda3/lib/python3.9/site-packages/pygam/utils.py:649: DeprecationWarning: `np.int` is a deprecated alias for the builtin `int`. To silence this warning, use `int` by itself. Doing this will not modify any behavior and is safe. When replacing `np.int`, you may wish to use e.g. `np.int64` or `np.int32` to specify the precision. If you wish to review your current use, check the release note link for additional information.\n",
      "Deprecated in NumPy 1.20; for more details and guidance: https://numpy.org/devdocs/release/1.20.0-notes.html#deprecations\n",
      "  bases = (x >= aug_knots[:-1]).astype(np.int) * \\\n",
      "/public/home/zhaox/anaconda3/lib/python3.9/site-packages/pygam/utils.py:650: DeprecationWarning: `np.int` is a deprecated alias for the builtin `int`. To silence this warning, use `int` by itself. Doing this will not modify any behavior and is safe. When replacing `np.int`, you may wish to use e.g. `np.int64` or `np.int32` to specify the precision. If you wish to review your current use, check the release note link for additional information.\n",
      "Deprecated in NumPy 1.20; for more details and guidance: https://numpy.org/devdocs/release/1.20.0-notes.html#deprecations\n",
      "  (x < aug_knots[1:]).astype(np.int)\n",
      "/public/home/zhaox/anaconda3/lib/python3.9/site-packages/pygam/utils.py:649: DeprecationWarning: `np.int` is a deprecated alias for the builtin `int`. To silence this warning, use `int` by itself. Doing this will not modify any behavior and is safe. When replacing `np.int`, you may wish to use e.g. `np.int64` or `np.int32` to specify the precision. If you wish to review your current use, check the release note link for additional information.\n",
      "Deprecated in NumPy 1.20; for more details and guidance: https://numpy.org/devdocs/release/1.20.0-notes.html#deprecations\n",
      "  bases = (x >= aug_knots[:-1]).astype(np.int) * \\\n",
      "/public/home/zhaox/anaconda3/lib/python3.9/site-packages/pygam/utils.py:650: DeprecationWarning: `np.int` is a deprecated alias for the builtin `int`. To silence this warning, use `int` by itself. Doing this will not modify any behavior and is safe. When replacing `np.int`, you may wish to use e.g. `np.int64` or `np.int32` to specify the precision. If you wish to review your current use, check the release note link for additional information.\n",
      "Deprecated in NumPy 1.20; for more details and guidance: https://numpy.org/devdocs/release/1.20.0-notes.html#deprecations\n",
      "  (x < aug_knots[1:]).astype(np.int)\n",
      "/public/home/zhaox/anaconda3/lib/python3.9/site-packages/pygam/utils.py:649: DeprecationWarning: `np.int` is a deprecated alias for the builtin `int`. To silence this warning, use `int` by itself. Doing this will not modify any behavior and is safe. When replacing `np.int`, you may wish to use e.g. `np.int64` or `np.int32` to specify the precision. If you wish to review your current use, check the release note link for additional information.\n",
      "Deprecated in NumPy 1.20; for more details and guidance: https://numpy.org/devdocs/release/1.20.0-notes.html#deprecations\n",
      "  bases = (x >= aug_knots[:-1]).astype(np.int) * \\\n",
      "/public/home/zhaox/anaconda3/lib/python3.9/site-packages/pygam/utils.py:650: DeprecationWarning: `np.int` is a deprecated alias for the builtin `int`. To silence this warning, use `int` by itself. Doing this will not modify any behavior and is safe. When replacing `np.int`, you may wish to use e.g. `np.int64` or `np.int32` to specify the precision. If you wish to review your current use, check the release note link for additional information.\n",
      "Deprecated in NumPy 1.20; for more details and guidance: https://numpy.org/devdocs/release/1.20.0-notes.html#deprecations\n",
      "  (x < aug_knots[1:]).astype(np.int)\n",
      "/public/home/zhaox/anaconda3/lib/python3.9/site-packages/pygam/utils.py:649: DeprecationWarning: `np.int` is a deprecated alias for the builtin `int`. To silence this warning, use `int` by itself. Doing this will not modify any behavior and is safe. When replacing `np.int`, you may wish to use e.g. `np.int64` or `np.int32` to specify the precision. If you wish to review your current use, check the release note link for additional information.\n",
      "Deprecated in NumPy 1.20; for more details and guidance: https://numpy.org/devdocs/release/1.20.0-notes.html#deprecations\n",
      "  bases = (x >= aug_knots[:-1]).astype(np.int) * \\\n",
      "/public/home/zhaox/anaconda3/lib/python3.9/site-packages/pygam/utils.py:650: DeprecationWarning: `np.int` is a deprecated alias for the builtin `int`. To silence this warning, use `int` by itself. Doing this will not modify any behavior and is safe. When replacing `np.int`, you may wish to use e.g. `np.int64` or `np.int32` to specify the precision. If you wish to review your current use, check the release note link for additional information.\n",
      "Deprecated in NumPy 1.20; for more details and guidance: https://numpy.org/devdocs/release/1.20.0-notes.html#deprecations\n",
      "  (x < aug_knots[1:]).astype(np.int)\n",
      "/public/home/zhaox/anaconda3/lib/python3.9/site-packages/pygam/utils.py:649: DeprecationWarning: `np.int` is a deprecated alias for the builtin `int`. To silence this warning, use `int` by itself. Doing this will not modify any behavior and is safe. When replacing `np.int`, you may wish to use e.g. `np.int64` or `np.int32` to specify the precision. If you wish to review your current use, check the release note link for additional information.\n",
      "Deprecated in NumPy 1.20; for more details and guidance: https://numpy.org/devdocs/release/1.20.0-notes.html#deprecations\n",
      "  bases = (x >= aug_knots[:-1]).astype(np.int) * \\\n",
      "/public/home/zhaox/anaconda3/lib/python3.9/site-packages/pygam/utils.py:650: DeprecationWarning: `np.int` is a deprecated alias for the builtin `int`. To silence this warning, use `int` by itself. Doing this will not modify any behavior and is safe. When replacing `np.int`, you may wish to use e.g. `np.int64` or `np.int32` to specify the precision. If you wish to review your current use, check the release note link for additional information.\n",
      "Deprecated in NumPy 1.20; for more details and guidance: https://numpy.org/devdocs/release/1.20.0-notes.html#deprecations\n",
      "  (x < aug_knots[1:]).astype(np.int)\n",
      "/public/home/zhaox/anaconda3/lib/python3.9/site-packages/pygam/utils.py:649: DeprecationWarning: `np.int` is a deprecated alias for the builtin `int`. To silence this warning, use `int` by itself. Doing this will not modify any behavior and is safe. When replacing `np.int`, you may wish to use e.g. `np.int64` or `np.int32` to specify the precision. If you wish to review your current use, check the release note link for additional information.\n",
      "Deprecated in NumPy 1.20; for more details and guidance: https://numpy.org/devdocs/release/1.20.0-notes.html#deprecations\n",
      "  bases = (x >= aug_knots[:-1]).astype(np.int) * \\\n",
      "/public/home/zhaox/anaconda3/lib/python3.9/site-packages/pygam/utils.py:650: DeprecationWarning: `np.int` is a deprecated alias for the builtin `int`. To silence this warning, use `int` by itself. Doing this will not modify any behavior and is safe. When replacing `np.int`, you may wish to use e.g. `np.int64` or `np.int32` to specify the precision. If you wish to review your current use, check the release note link for additional information.\n",
      "Deprecated in NumPy 1.20; for more details and guidance: https://numpy.org/devdocs/release/1.20.0-notes.html#deprecations\n",
      "  (x < aug_knots[1:]).astype(np.int)\n",
      "/public/home/zhaox/anaconda3/lib/python3.9/site-packages/pygam/utils.py:649: DeprecationWarning: `np.int` is a deprecated alias for the builtin `int`. To silence this warning, use `int` by itself. Doing this will not modify any behavior and is safe. When replacing `np.int`, you may wish to use e.g. `np.int64` or `np.int32` to specify the precision. If you wish to review your current use, check the release note link for additional information.\n",
      "Deprecated in NumPy 1.20; for more details and guidance: https://numpy.org/devdocs/release/1.20.0-notes.html#deprecations\n",
      "  bases = (x >= aug_knots[:-1]).astype(np.int) * \\\n",
      "/public/home/zhaox/anaconda3/lib/python3.9/site-packages/pygam/utils.py:650: DeprecationWarning: `np.int` is a deprecated alias for the builtin `int`. To silence this warning, use `int` by itself. Doing this will not modify any behavior and is safe. When replacing `np.int`, you may wish to use e.g. `np.int64` or `np.int32` to specify the precision. If you wish to review your current use, check the release note link for additional information.\n",
      "Deprecated in NumPy 1.20; for more details and guidance: https://numpy.org/devdocs/release/1.20.0-notes.html#deprecations\n",
      "  (x < aug_knots[1:]).astype(np.int)\n",
      "/public/home/zhaox/anaconda3/lib/python3.9/site-packages/pygam/utils.py:649: DeprecationWarning: `np.int` is a deprecated alias for the builtin `int`. To silence this warning, use `int` by itself. Doing this will not modify any behavior and is safe. When replacing `np.int`, you may wish to use e.g. `np.int64` or `np.int32` to specify the precision. If you wish to review your current use, check the release note link for additional information.\n",
      "Deprecated in NumPy 1.20; for more details and guidance: https://numpy.org/devdocs/release/1.20.0-notes.html#deprecations\n",
      "  bases = (x >= aug_knots[:-1]).astype(np.int) * \\\n",
      "/public/home/zhaox/anaconda3/lib/python3.9/site-packages/pygam/utils.py:650: DeprecationWarning: `np.int` is a deprecated alias for the builtin `int`. To silence this warning, use `int` by itself. Doing this will not modify any behavior and is safe. When replacing `np.int`, you may wish to use e.g. `np.int64` or `np.int32` to specify the precision. If you wish to review your current use, check the release note link for additional information.\n",
      "Deprecated in NumPy 1.20; for more details and guidance: https://numpy.org/devdocs/release/1.20.0-notes.html#deprecations\n",
      "  (x < aug_knots[1:]).astype(np.int)\n",
      "/public/home/zhaox/anaconda3/lib/python3.9/site-packages/pygam/utils.py:649: DeprecationWarning: `np.int` is a deprecated alias for the builtin `int`. To silence this warning, use `int` by itself. Doing this will not modify any behavior and is safe. When replacing `np.int`, you may wish to use e.g. `np.int64` or `np.int32` to specify the precision. If you wish to review your current use, check the release note link for additional information.\n",
      "Deprecated in NumPy 1.20; for more details and guidance: https://numpy.org/devdocs/release/1.20.0-notes.html#deprecations\n",
      "  bases = (x >= aug_knots[:-1]).astype(np.int) * \\\n",
      "/public/home/zhaox/anaconda3/lib/python3.9/site-packages/pygam/utils.py:650: DeprecationWarning: `np.int` is a deprecated alias for the builtin `int`. To silence this warning, use `int` by itself. Doing this will not modify any behavior and is safe. When replacing `np.int`, you may wish to use e.g. `np.int64` or `np.int32` to specify the precision. If you wish to review your current use, check the release note link for additional information.\n",
      "Deprecated in NumPy 1.20; for more details and guidance: https://numpy.org/devdocs/release/1.20.0-notes.html#deprecations\n",
      "  (x < aug_knots[1:]).astype(np.int)\n",
      "/public/home/zhaox/anaconda3/lib/python3.9/site-packages/pygam/utils.py:649: DeprecationWarning: `np.int` is a deprecated alias for the builtin `int`. To silence this warning, use `int` by itself. Doing this will not modify any behavior and is safe. When replacing `np.int`, you may wish to use e.g. `np.int64` or `np.int32` to specify the precision. If you wish to review your current use, check the release note link for additional information.\n",
      "Deprecated in NumPy 1.20; for more details and guidance: https://numpy.org/devdocs/release/1.20.0-notes.html#deprecations\n",
      "  bases = (x >= aug_knots[:-1]).astype(np.int) * \\\n",
      "/public/home/zhaox/anaconda3/lib/python3.9/site-packages/pygam/utils.py:650: DeprecationWarning: `np.int` is a deprecated alias for the builtin `int`. To silence this warning, use `int` by itself. Doing this will not modify any behavior and is safe. When replacing `np.int`, you may wish to use e.g. `np.int64` or `np.int32` to specify the precision. If you wish to review your current use, check the release note link for additional information.\n",
      "Deprecated in NumPy 1.20; for more details and guidance: https://numpy.org/devdocs/release/1.20.0-notes.html#deprecations\n",
      "  (x < aug_knots[1:]).astype(np.int)\n",
      "/public/home/zhaox/anaconda3/lib/python3.9/site-packages/pygam/utils.py:649: DeprecationWarning: `np.int` is a deprecated alias for the builtin `int`. To silence this warning, use `int` by itself. Doing this will not modify any behavior and is safe. When replacing `np.int`, you may wish to use e.g. `np.int64` or `np.int32` to specify the precision. If you wish to review your current use, check the release note link for additional information.\n",
      "Deprecated in NumPy 1.20; for more details and guidance: https://numpy.org/devdocs/release/1.20.0-notes.html#deprecations\n",
      "  bases = (x >= aug_knots[:-1]).astype(np.int) * \\\n",
      "/public/home/zhaox/anaconda3/lib/python3.9/site-packages/pygam/utils.py:650: DeprecationWarning: `np.int` is a deprecated alias for the builtin `int`. To silence this warning, use `int` by itself. Doing this will not modify any behavior and is safe. When replacing `np.int`, you may wish to use e.g. `np.int64` or `np.int32` to specify the precision. If you wish to review your current use, check the release note link for additional information.\n",
      "Deprecated in NumPy 1.20; for more details and guidance: https://numpy.org/devdocs/release/1.20.0-notes.html#deprecations\n",
      "  (x < aug_knots[1:]).astype(np.int)\n",
      "/public/home/zhaox/anaconda3/lib/python3.9/site-packages/pygam/utils.py:649: DeprecationWarning: `np.int` is a deprecated alias for the builtin `int`. To silence this warning, use `int` by itself. Doing this will not modify any behavior and is safe. When replacing `np.int`, you may wish to use e.g. `np.int64` or `np.int32` to specify the precision. If you wish to review your current use, check the release note link for additional information.\n",
      "Deprecated in NumPy 1.20; for more details and guidance: https://numpy.org/devdocs/release/1.20.0-notes.html#deprecations\n",
      "  bases = (x >= aug_knots[:-1]).astype(np.int) * \\\n",
      "/public/home/zhaox/anaconda3/lib/python3.9/site-packages/pygam/utils.py:650: DeprecationWarning: `np.int` is a deprecated alias for the builtin `int`. To silence this warning, use `int` by itself. Doing this will not modify any behavior and is safe. When replacing `np.int`, you may wish to use e.g. `np.int64` or `np.int32` to specify the precision. If you wish to review your current use, check the release note link for additional information.\n",
      "Deprecated in NumPy 1.20; for more details and guidance: https://numpy.org/devdocs/release/1.20.0-notes.html#deprecations\n",
      "  (x < aug_knots[1:]).astype(np.int)\n",
      "/public/home/zhaox/anaconda3/lib/python3.9/site-packages/pygam/utils.py:649: DeprecationWarning: `np.int` is a deprecated alias for the builtin `int`. To silence this warning, use `int` by itself. Doing this will not modify any behavior and is safe. When replacing `np.int`, you may wish to use e.g. `np.int64` or `np.int32` to specify the precision. If you wish to review your current use, check the release note link for additional information.\n",
      "Deprecated in NumPy 1.20; for more details and guidance: https://numpy.org/devdocs/release/1.20.0-notes.html#deprecations\n",
      "  bases = (x >= aug_knots[:-1]).astype(np.int) * \\\n",
      "/public/home/zhaox/anaconda3/lib/python3.9/site-packages/pygam/utils.py:650: DeprecationWarning: `np.int` is a deprecated alias for the builtin `int`. To silence this warning, use `int` by itself. Doing this will not modify any behavior and is safe. When replacing `np.int`, you may wish to use e.g. `np.int64` or `np.int32` to specify the precision. If you wish to review your current use, check the release note link for additional information.\n",
      "Deprecated in NumPy 1.20; for more details and guidance: https://numpy.org/devdocs/release/1.20.0-notes.html#deprecations\n",
      "  (x < aug_knots[1:]).astype(np.int)\n",
      "/public/home/zhaox/anaconda3/lib/python3.9/site-packages/pygam/utils.py:649: DeprecationWarning: `np.int` is a deprecated alias for the builtin `int`. To silence this warning, use `int` by itself. Doing this will not modify any behavior and is safe. When replacing `np.int`, you may wish to use e.g. `np.int64` or `np.int32` to specify the precision. If you wish to review your current use, check the release note link for additional information.\n",
      "Deprecated in NumPy 1.20; for more details and guidance: https://numpy.org/devdocs/release/1.20.0-notes.html#deprecations\n",
      "  bases = (x >= aug_knots[:-1]).astype(np.int) * \\\n",
      "/public/home/zhaox/anaconda3/lib/python3.9/site-packages/pygam/utils.py:650: DeprecationWarning: `np.int` is a deprecated alias for the builtin `int`. To silence this warning, use `int` by itself. Doing this will not modify any behavior and is safe. When replacing `np.int`, you may wish to use e.g. `np.int64` or `np.int32` to specify the precision. If you wish to review your current use, check the release note link for additional information.\n",
      "Deprecated in NumPy 1.20; for more details and guidance: https://numpy.org/devdocs/release/1.20.0-notes.html#deprecations\n",
      "  (x < aug_knots[1:]).astype(np.int)\n",
      "/public/home/zhaox/anaconda3/lib/python3.9/site-packages/pygam/utils.py:649: DeprecationWarning: `np.int` is a deprecated alias for the builtin `int`. To silence this warning, use `int` by itself. Doing this will not modify any behavior and is safe. When replacing `np.int`, you may wish to use e.g. `np.int64` or `np.int32` to specify the precision. If you wish to review your current use, check the release note link for additional information.\n",
      "Deprecated in NumPy 1.20; for more details and guidance: https://numpy.org/devdocs/release/1.20.0-notes.html#deprecations\n",
      "  bases = (x >= aug_knots[:-1]).astype(np.int) * \\\n",
      "/public/home/zhaox/anaconda3/lib/python3.9/site-packages/pygam/utils.py:650: DeprecationWarning: `np.int` is a deprecated alias for the builtin `int`. To silence this warning, use `int` by itself. Doing this will not modify any behavior and is safe. When replacing `np.int`, you may wish to use e.g. `np.int64` or `np.int32` to specify the precision. If you wish to review your current use, check the release note link for additional information.\n",
      "Deprecated in NumPy 1.20; for more details and guidance: https://numpy.org/devdocs/release/1.20.0-notes.html#deprecations\n",
      "  (x < aug_knots[1:]).astype(np.int)\n",
      "/public/home/zhaox/anaconda3/lib/python3.9/site-packages/pygam/utils.py:649: DeprecationWarning: `np.int` is a deprecated alias for the builtin `int`. To silence this warning, use `int` by itself. Doing this will not modify any behavior and is safe. When replacing `np.int`, you may wish to use e.g. `np.int64` or `np.int32` to specify the precision. If you wish to review your current use, check the release note link for additional information.\n",
      "Deprecated in NumPy 1.20; for more details and guidance: https://numpy.org/devdocs/release/1.20.0-notes.html#deprecations\n",
      "  bases = (x >= aug_knots[:-1]).astype(np.int) * \\\n",
      "/public/home/zhaox/anaconda3/lib/python3.9/site-packages/pygam/utils.py:650: DeprecationWarning: `np.int` is a deprecated alias for the builtin `int`. To silence this warning, use `int` by itself. Doing this will not modify any behavior and is safe. When replacing `np.int`, you may wish to use e.g. `np.int64` or `np.int32` to specify the precision. If you wish to review your current use, check the release note link for additional information.\n",
      "Deprecated in NumPy 1.20; for more details and guidance: https://numpy.org/devdocs/release/1.20.0-notes.html#deprecations\n",
      "  (x < aug_knots[1:]).astype(np.int)\n",
      "/public/home/zhaox/anaconda3/lib/python3.9/site-packages/pygam/utils.py:649: DeprecationWarning: `np.int` is a deprecated alias for the builtin `int`. To silence this warning, use `int` by itself. Doing this will not modify any behavior and is safe. When replacing `np.int`, you may wish to use e.g. `np.int64` or `np.int32` to specify the precision. If you wish to review your current use, check the release note link for additional information.\n",
      "Deprecated in NumPy 1.20; for more details and guidance: https://numpy.org/devdocs/release/1.20.0-notes.html#deprecations\n",
      "  bases = (x >= aug_knots[:-1]).astype(np.int) * \\\n",
      "/public/home/zhaox/anaconda3/lib/python3.9/site-packages/pygam/utils.py:650: DeprecationWarning: `np.int` is a deprecated alias for the builtin `int`. To silence this warning, use `int` by itself. Doing this will not modify any behavior and is safe. When replacing `np.int`, you may wish to use e.g. `np.int64` or `np.int32` to specify the precision. If you wish to review your current use, check the release note link for additional information.\n",
      "Deprecated in NumPy 1.20; for more details and guidance: https://numpy.org/devdocs/release/1.20.0-notes.html#deprecations\n",
      "  (x < aug_knots[1:]).astype(np.int)\n",
      "/public/home/zhaox/anaconda3/lib/python3.9/site-packages/pygam/utils.py:649: DeprecationWarning: `np.int` is a deprecated alias for the builtin `int`. To silence this warning, use `int` by itself. Doing this will not modify any behavior and is safe. When replacing `np.int`, you may wish to use e.g. `np.int64` or `np.int32` to specify the precision. If you wish to review your current use, check the release note link for additional information.\n",
      "Deprecated in NumPy 1.20; for more details and guidance: https://numpy.org/devdocs/release/1.20.0-notes.html#deprecations\n",
      "  bases = (x >= aug_knots[:-1]).astype(np.int) * \\\n",
      "/public/home/zhaox/anaconda3/lib/python3.9/site-packages/pygam/utils.py:650: DeprecationWarning: `np.int` is a deprecated alias for the builtin `int`. To silence this warning, use `int` by itself. Doing this will not modify any behavior and is safe. When replacing `np.int`, you may wish to use e.g. `np.int64` or `np.int32` to specify the precision. If you wish to review your current use, check the release note link for additional information.\n",
      "Deprecated in NumPy 1.20; for more details and guidance: https://numpy.org/devdocs/release/1.20.0-notes.html#deprecations\n",
      "  (x < aug_knots[1:]).astype(np.int)\n",
      "/public/home/zhaox/anaconda3/lib/python3.9/site-packages/pygam/utils.py:649: DeprecationWarning: `np.int` is a deprecated alias for the builtin `int`. To silence this warning, use `int` by itself. Doing this will not modify any behavior and is safe. When replacing `np.int`, you may wish to use e.g. `np.int64` or `np.int32` to specify the precision. If you wish to review your current use, check the release note link for additional information.\n",
      "Deprecated in NumPy 1.20; for more details and guidance: https://numpy.org/devdocs/release/1.20.0-notes.html#deprecations\n",
      "  bases = (x >= aug_knots[:-1]).astype(np.int) * \\\n",
      "/public/home/zhaox/anaconda3/lib/python3.9/site-packages/pygam/utils.py:650: DeprecationWarning: `np.int` is a deprecated alias for the builtin `int`. To silence this warning, use `int` by itself. Doing this will not modify any behavior and is safe. When replacing `np.int`, you may wish to use e.g. `np.int64` or `np.int32` to specify the precision. If you wish to review your current use, check the release note link for additional information.\n",
      "Deprecated in NumPy 1.20; for more details and guidance: https://numpy.org/devdocs/release/1.20.0-notes.html#deprecations\n",
      "  (x < aug_knots[1:]).astype(np.int)\n",
      "/public/home/zhaox/anaconda3/lib/python3.9/site-packages/pygam/utils.py:649: DeprecationWarning: `np.int` is a deprecated alias for the builtin `int`. To silence this warning, use `int` by itself. Doing this will not modify any behavior and is safe. When replacing `np.int`, you may wish to use e.g. `np.int64` or `np.int32` to specify the precision. If you wish to review your current use, check the release note link for additional information.\n",
      "Deprecated in NumPy 1.20; for more details and guidance: https://numpy.org/devdocs/release/1.20.0-notes.html#deprecations\n",
      "  bases = (x >= aug_knots[:-1]).astype(np.int) * \\\n",
      "/public/home/zhaox/anaconda3/lib/python3.9/site-packages/pygam/utils.py:650: DeprecationWarning: `np.int` is a deprecated alias for the builtin `int`. To silence this warning, use `int` by itself. Doing this will not modify any behavior and is safe. When replacing `np.int`, you may wish to use e.g. `np.int64` or `np.int32` to specify the precision. If you wish to review your current use, check the release note link for additional information.\n",
      "Deprecated in NumPy 1.20; for more details and guidance: https://numpy.org/devdocs/release/1.20.0-notes.html#deprecations\n",
      "  (x < aug_knots[1:]).astype(np.int)\n",
      "/public/home/zhaox/anaconda3/lib/python3.9/site-packages/pygam/utils.py:649: DeprecationWarning: `np.int` is a deprecated alias for the builtin `int`. To silence this warning, use `int` by itself. Doing this will not modify any behavior and is safe. When replacing `np.int`, you may wish to use e.g. `np.int64` or `np.int32` to specify the precision. If you wish to review your current use, check the release note link for additional information.\n",
      "Deprecated in NumPy 1.20; for more details and guidance: https://numpy.org/devdocs/release/1.20.0-notes.html#deprecations\n",
      "  bases = (x >= aug_knots[:-1]).astype(np.int) * \\\n",
      "/public/home/zhaox/anaconda3/lib/python3.9/site-packages/pygam/utils.py:650: DeprecationWarning: `np.int` is a deprecated alias for the builtin `int`. To silence this warning, use `int` by itself. Doing this will not modify any behavior and is safe. When replacing `np.int`, you may wish to use e.g. `np.int64` or `np.int32` to specify the precision. If you wish to review your current use, check the release note link for additional information.\n",
      "Deprecated in NumPy 1.20; for more details and guidance: https://numpy.org/devdocs/release/1.20.0-notes.html#deprecations\n",
      "  (x < aug_knots[1:]).astype(np.int)\n",
      "/public/home/zhaox/anaconda3/lib/python3.9/site-packages/pygam/utils.py:649: DeprecationWarning: `np.int` is a deprecated alias for the builtin `int`. To silence this warning, use `int` by itself. Doing this will not modify any behavior and is safe. When replacing `np.int`, you may wish to use e.g. `np.int64` or `np.int32` to specify the precision. If you wish to review your current use, check the release note link for additional information.\n",
      "Deprecated in NumPy 1.20; for more details and guidance: https://numpy.org/devdocs/release/1.20.0-notes.html#deprecations\n",
      "  bases = (x >= aug_knots[:-1]).astype(np.int) * \\\n",
      "/public/home/zhaox/anaconda3/lib/python3.9/site-packages/pygam/utils.py:650: DeprecationWarning: `np.int` is a deprecated alias for the builtin `int`. To silence this warning, use `int` by itself. Doing this will not modify any behavior and is safe. When replacing `np.int`, you may wish to use e.g. `np.int64` or `np.int32` to specify the precision. If you wish to review your current use, check the release note link for additional information.\n",
      "Deprecated in NumPy 1.20; for more details and guidance: https://numpy.org/devdocs/release/1.20.0-notes.html#deprecations\n",
      "  (x < aug_knots[1:]).astype(np.int)\n",
      "/public/home/zhaox/anaconda3/lib/python3.9/site-packages/pygam/utils.py:649: DeprecationWarning: `np.int` is a deprecated alias for the builtin `int`. To silence this warning, use `int` by itself. Doing this will not modify any behavior and is safe. When replacing `np.int`, you may wish to use e.g. `np.int64` or `np.int32` to specify the precision. If you wish to review your current use, check the release note link for additional information.\n",
      "Deprecated in NumPy 1.20; for more details and guidance: https://numpy.org/devdocs/release/1.20.0-notes.html#deprecations\n",
      "  bases = (x >= aug_knots[:-1]).astype(np.int) * \\\n",
      "/public/home/zhaox/anaconda3/lib/python3.9/site-packages/pygam/utils.py:650: DeprecationWarning: `np.int` is a deprecated alias for the builtin `int`. To silence this warning, use `int` by itself. Doing this will not modify any behavior and is safe. When replacing `np.int`, you may wish to use e.g. `np.int64` or `np.int32` to specify the precision. If you wish to review your current use, check the release note link for additional information.\n",
      "Deprecated in NumPy 1.20; for more details and guidance: https://numpy.org/devdocs/release/1.20.0-notes.html#deprecations\n",
      "  (x < aug_knots[1:]).astype(np.int)\n",
      "/public/home/zhaox/anaconda3/lib/python3.9/site-packages/pygam/utils.py:649: DeprecationWarning: `np.int` is a deprecated alias for the builtin `int`. To silence this warning, use `int` by itself. Doing this will not modify any behavior and is safe. When replacing `np.int`, you may wish to use e.g. `np.int64` or `np.int32` to specify the precision. If you wish to review your current use, check the release note link for additional information.\n",
      "Deprecated in NumPy 1.20; for more details and guidance: https://numpy.org/devdocs/release/1.20.0-notes.html#deprecations\n",
      "  bases = (x >= aug_knots[:-1]).astype(np.int) * \\\n",
      "/public/home/zhaox/anaconda3/lib/python3.9/site-packages/pygam/utils.py:650: DeprecationWarning: `np.int` is a deprecated alias for the builtin `int`. To silence this warning, use `int` by itself. Doing this will not modify any behavior and is safe. When replacing `np.int`, you may wish to use e.g. `np.int64` or `np.int32` to specify the precision. If you wish to review your current use, check the release note link for additional information.\n",
      "Deprecated in NumPy 1.20; for more details and guidance: https://numpy.org/devdocs/release/1.20.0-notes.html#deprecations\n",
      "  (x < aug_knots[1:]).astype(np.int)\n"
     ]
    },
    {
     "name": "stdout",
     "output_type": "stream",
     "text": [
      "    Finish (0:00:05)\n"
     ]
    },
    {
     "name": "stderr",
     "output_type": "stream",
     "text": [
      "/public/home/zhaox/anaconda3/lib/python3.9/site-packages/seaborn/matrix.py:302: MatplotlibDeprecationWarning: Auto-removal of grids by pcolor() and pcolormesh() is deprecated since 3.5 and will be removed two minor releases later; please call grid(False) first.\n",
      "  mesh = ax.pcolormesh(self.plot_data, cmap=self.cmap, **kws)\n",
      "/public/home/zhaox/anaconda3/lib/python3.9/site-packages/cellrank/pl/_heatmap.py:231: MatplotlibDeprecationWarning: Auto-removal of grids by pcolor() and pcolormesh() is deprecated since 3.5 and will be removed two minor releases later; please call grid(False) first.\n",
      "  _ = mpl.colorbar.ColorbarBase(\n"
     ]
    }
   ],
   "source": [
    "cr.pl.heatmap(\n",
    "    adata,\n",
    "    model,\n",
    "    adata.varm['terminal_lineage_drivers'][\"SSC_corr\"].sort_values(ascending=False).index[:100],\n",
    "    show_absorption_probabilities=True,\n",
    "    lineages=\"SSC\",\n",
    "    n_jobs=1,\n",
    "    backend=\"loky\",\n",
    "    save='./neospgforcellrank_SSCgeneexpressiontrendsheatmap0217.pdf'\n",
    ")"
   ]
  },
  {
   "cell_type": "code",
   "execution_count": 78,
   "id": "ac68abaf-5960-4c63-bca8-fac2abc54a4e",
   "metadata": {},
   "outputs": [
    {
     "name": "stdout",
     "output_type": "stream",
     "text": [
      "Accessing `adata.obsp['T_fwd']`\n",
      "Using precomputed transition matrix\n",
      "Computing eigendecomposition of the transition matrix\n",
      "Adding `adata.uns['eigendecomposition_fwd']`\n",
      "       `.eigendecomposition`\n",
      "    Finish (0:00:00)\n",
      "For 1 macrostate, stationary distribution is computed\n",
      "Adding `.macrostates`\n",
      "       `.macrostates_memberships`\n",
      "       `.coarse_T`\n",
      "       `.coarse_initial_distribution\n",
      "       `.coarse_stationary_distribution`\n",
      "       `.schur_vectors`\n",
      "       `.schur_matrix`\n",
      "       `.eigendecomposition`\n",
      "    Finish (0:00:00)\n",
      "Adding `adata.obs['terminal_states']`\n",
      "       `adata.obs['terminal_states_probs']`\n",
      "       `.terminal_states`\n",
      "       `.terminal_states_probabilities`\n",
      "       `.terminal_states_memberships\n",
      "    Finish`\n",
      "Computing absorption probabilities\n",
      "WARNING: There is only `1` terminal state, all cells will have probability `1` of going there\n"
     ]
    },
    {
     "name": "stderr",
     "output_type": "stream",
     "text": [
      "/tmp/ipykernel_78464/2422774132.py:1: DeprecationWarning: `cellrank.tl.terminal_states` will be removed in version `2.0`. Please use the `cellrank.kernels` or `cellrank.estimators` interface instead.\n",
      "  cr.tl.terminal_states(\n",
      "/tmp/ipykernel_78464/2422774132.py:5: DeprecationWarning: `cellrank.tl.lineages` will be removed in version `2.0`. Please use the `cellrank.kernels` or `cellrank.estimators` interface instead.\n",
      "  cr.tl.lineages(adata)\n"
     ]
    },
    {
     "data": {
      "application/vnd.jupyter.widget-view+json": {
       "model_id": "147b6574ceba4b88a16f497cbb494a54",
       "version_major": 2,
       "version_minor": 0
      },
      "text/plain": [
       "  0%|          | 0/1 [00:00<?, ?/s]"
      ]
     },
     "metadata": {},
     "output_type": "display_data"
    },
    {
     "name": "stdout",
     "output_type": "stream",
     "text": [
      "Adding `adata.obsm['to_terminal_states']`\n",
      "       `.absorption_probabilities`\n",
      "    Finish (0:00:00)\n",
      "WARNING: There is only 1 lineage present. Using stationary distribution instead\n",
      "Adding `adata.varm['terminal_lineage_drivers']`\n",
      "       `.lineage_drivers`\n",
      "    Finish (0:00:00)\n"
     ]
    },
    {
     "name": "stderr",
     "output_type": "stream",
     "text": [
      "/tmp/ipykernel_78464/2422774132.py:7: DeprecationWarning: `cellrank.tl.lineage_drivers` will be removed in version `2.0`. Please use the `cellrank.kernels` or `cellrank.estimators` interface instead.\n",
      "  cr.tl.lineage_drivers(adata)\n"
     ]
    },
    {
     "data": {
      "text/html": [
       "<div>\n",
       "<style scoped>\n",
       "    .dataframe tbody tr th:only-of-type {\n",
       "        vertical-align: middle;\n",
       "    }\n",
       "\n",
       "    .dataframe tbody tr th {\n",
       "        vertical-align: top;\n",
       "    }\n",
       "\n",
       "    .dataframe thead th {\n",
       "        text-align: right;\n",
       "    }\n",
       "</style>\n",
       "<table border=\"1\" class=\"dataframe\">\n",
       "  <thead>\n",
       "    <tr style=\"text-align: right;\">\n",
       "      <th></th>\n",
       "      <th>SSC_corr</th>\n",
       "      <th>SSC_pval</th>\n",
       "      <th>SSC_qval</th>\n",
       "      <th>SSC_ci_low</th>\n",
       "      <th>SSC_ci_high</th>\n",
       "    </tr>\n",
       "  </thead>\n",
       "  <tbody>\n",
       "    <tr>\n",
       "      <th>GMNN</th>\n",
       "      <td>0.565044</td>\n",
       "      <td>7.106311e-18</td>\n",
       "      <td>1.421262e-14</td>\n",
       "      <td>0.457804</td>\n",
       "      <td>0.656078</td>\n",
       "    </tr>\n",
       "    <tr>\n",
       "      <th>CCDC122</th>\n",
       "      <td>0.535897</td>\n",
       "      <td>8.251757e-16</td>\n",
       "      <td>8.251757e-13</td>\n",
       "      <td>0.424115</td>\n",
       "      <td>0.631595</td>\n",
       "    </tr>\n",
       "    <tr>\n",
       "      <th>KANSL1L</th>\n",
       "      <td>0.504532</td>\n",
       "      <td>7.916080e-14</td>\n",
       "      <td>5.277387e-11</td>\n",
       "      <td>0.388205</td>\n",
       "      <td>0.605034</td>\n",
       "    </tr>\n",
       "    <tr>\n",
       "      <th>TFEC</th>\n",
       "      <td>0.499350</td>\n",
       "      <td>1.600884e-13</td>\n",
       "      <td>8.004419e-11</td>\n",
       "      <td>0.382305</td>\n",
       "      <td>0.600624</td>\n",
       "    </tr>\n",
       "    <tr>\n",
       "      <th>EEA1</th>\n",
       "      <td>0.497685</td>\n",
       "      <td>2.001423e-13</td>\n",
       "      <td>8.005693e-11</td>\n",
       "      <td>0.380412</td>\n",
       "      <td>0.599206</td>\n",
       "    </tr>\n",
       "    <tr>\n",
       "      <th>...</th>\n",
       "      <td>...</td>\n",
       "      <td>...</td>\n",
       "      <td>...</td>\n",
       "      <td>...</td>\n",
       "      <td>...</td>\n",
       "    </tr>\n",
       "    <tr>\n",
       "      <th>RPS8</th>\n",
       "      <td>-0.407486</td>\n",
       "      <td>5.886840e-09</td>\n",
       "      <td>2.829862e-07</td>\n",
       "      <td>-0.521411</td>\n",
       "      <td>-0.279288</td>\n",
       "    </tr>\n",
       "    <tr>\n",
       "      <th>RPS7</th>\n",
       "      <td>-0.410999</td>\n",
       "      <td>4.185033e-09</td>\n",
       "      <td>2.262180e-07</td>\n",
       "      <td>-0.524477</td>\n",
       "      <td>-0.283174</td>\n",
       "    </tr>\n",
       "    <tr>\n",
       "      <th>RPL28</th>\n",
       "      <td>-0.414535</td>\n",
       "      <td>2.955379e-09</td>\n",
       "      <td>1.738458e-07</td>\n",
       "      <td>-0.527560</td>\n",
       "      <td>-0.287090</td>\n",
       "    </tr>\n",
       "    <tr>\n",
       "      <th>RPS15</th>\n",
       "      <td>-0.434286</td>\n",
       "      <td>3.894786e-10</td>\n",
       "      <td>4.100277e-08</td>\n",
       "      <td>-0.544725</td>\n",
       "      <td>-0.309041</td>\n",
       "    </tr>\n",
       "    <tr>\n",
       "      <th>RPS18</th>\n",
       "      <td>-0.450275</td>\n",
       "      <td>6.772063e-11</td>\n",
       "      <td>9.674375e-09</td>\n",
       "      <td>-0.558554</td>\n",
       "      <td>-0.326908</td>\n",
       "    </tr>\n",
       "  </tbody>\n",
       "</table>\n",
       "<p>2000 rows × 5 columns</p>\n",
       "</div>"
      ],
      "text/plain": [
       "         SSC_corr      SSC_pval      SSC_qval  SSC_ci_low  SSC_ci_high\n",
       "GMNN     0.565044  7.106311e-18  1.421262e-14    0.457804     0.656078\n",
       "CCDC122  0.535897  8.251757e-16  8.251757e-13    0.424115     0.631595\n",
       "KANSL1L  0.504532  7.916080e-14  5.277387e-11    0.388205     0.605034\n",
       "TFEC     0.499350  1.600884e-13  8.004419e-11    0.382305     0.600624\n",
       "EEA1     0.497685  2.001423e-13  8.005693e-11    0.380412     0.599206\n",
       "...           ...           ...           ...         ...          ...\n",
       "RPS8    -0.407486  5.886840e-09  2.829862e-07   -0.521411    -0.279288\n",
       "RPS7    -0.410999  4.185033e-09  2.262180e-07   -0.524477    -0.283174\n",
       "RPL28   -0.414535  2.955379e-09  1.738458e-07   -0.527560    -0.287090\n",
       "RPS15   -0.434286  3.894786e-10  4.100277e-08   -0.544725    -0.309041\n",
       "RPS18   -0.450275  6.772063e-11  9.674375e-09   -0.558554    -0.326908\n",
       "\n",
       "[2000 rows x 5 columns]"
      ]
     },
     "execution_count": 78,
     "metadata": {},
     "output_type": "execute_result"
    }
   ],
   "source": [
    "cr.tl.terminal_states(\n",
    "    adata,\n",
    "    cluster_key=\"cell_type\",\n",
    "    weight_connectivities=0.2,)\n",
    "cr.tl.lineages(adata)\n",
    "model = cr.ul.models.GAM(adata)\n",
    "cr.tl.lineage_drivers(adata)"
   ]
  },
  {
   "cell_type": "code",
   "execution_count": 86,
   "id": "36266ea6-38a4-4175-8f23-289d5214756c",
   "metadata": {},
   "outputs": [
    {
     "name": "stdout",
     "output_type": "stream",
     "text": [
      "Collecting ktplotspy\n",
      "  Downloading ktplotspy-0.1.8-py3-none-any.whl (20 kB)\n",
      "Requirement already satisfied: seaborn in /public/home/zhaox/anaconda3/lib/python3.9/site-packages (from ktplotspy) (0.11.2)\n",
      "Requirement already satisfied: requests in /public/home/zhaox/anaconda3/lib/python3.9/site-packages (from ktplotspy) (2.26.0)\n",
      "Collecting python-circos<0.4.0,>=0.3.0\n",
      "  Downloading python_circos-0.3.0-py3-none-any.whl (27 kB)\n",
      "Collecting plotnine\n",
      "  Downloading plotnine-0.10.1-py3-none-any.whl (1.2 MB)\n",
      "\u001b[K     |████████████████████████████████| 1.2 MB 1.1 MB/s eta 0:00:01\n",
      "\u001b[?25hRequirement already satisfied: numpy in /public/home/zhaox/anaconda3/lib/python3.9/site-packages (from ktplotspy) (1.20.3)\n",
      "Requirement already satisfied: pandas in /public/home/zhaox/anaconda3/lib/python3.9/site-packages (from ktplotspy) (1.4.2)\n",
      "Collecting biopython>=1.78\n",
      "  Downloading biopython-1.81-cp39-cp39-manylinux_2_17_x86_64.manylinux2014_x86_64.whl (3.1 MB)\n",
      "\u001b[K     |████████████████████████████████| 3.1 MB 991 kB/s eta 0:00:011     |███████▊                        | 747 kB 14.6 MB/s eta 0:00:01\n",
      "\u001b[?25hRequirement already satisfied: matplotlib>=3.4 in /public/home/zhaox/anaconda3/lib/python3.9/site-packages (from python-circos<0.4.0,>=0.3.0->ktplotspy) (3.4.3)\n",
      "Requirement already satisfied: kiwisolver>=1.0.1 in /public/home/zhaox/anaconda3/lib/python3.9/site-packages (from matplotlib>=3.4->python-circos<0.4.0,>=0.3.0->ktplotspy) (1.3.1)\n",
      "Requirement already satisfied: pillow>=6.2.0 in /public/home/zhaox/anaconda3/lib/python3.9/site-packages (from matplotlib>=3.4->python-circos<0.4.0,>=0.3.0->ktplotspy) (9.2.0)\n",
      "Requirement already satisfied: cycler>=0.10 in /public/home/zhaox/anaconda3/lib/python3.9/site-packages (from matplotlib>=3.4->python-circos<0.4.0,>=0.3.0->ktplotspy) (0.10.0)\n",
      "Requirement already satisfied: python-dateutil>=2.7 in /public/home/zhaox/anaconda3/lib/python3.9/site-packages (from matplotlib>=3.4->python-circos<0.4.0,>=0.3.0->ktplotspy) (2.8.2)\n",
      "Requirement already satisfied: pyparsing>=2.2.1 in /public/home/zhaox/anaconda3/lib/python3.9/site-packages (from matplotlib>=3.4->python-circos<0.4.0,>=0.3.0->ktplotspy) (3.0.4)\n",
      "Requirement already satisfied: six in /public/home/zhaox/anaconda3/lib/python3.9/site-packages (from cycler>=0.10->matplotlib>=3.4->python-circos<0.4.0,>=0.3.0->ktplotspy) (1.16.0)\n",
      "Requirement already satisfied: pytz>=2020.1 in /public/home/zhaox/anaconda3/lib/python3.9/site-packages (from pandas->ktplotspy) (2021.3)\n",
      "Requirement already satisfied: patsy>=0.5.1 in /public/home/zhaox/anaconda3/lib/python3.9/site-packages (from plotnine->ktplotspy) (0.5.2)\n",
      "Collecting statsmodels>=0.13.2\n",
      "  Downloading statsmodels-0.13.5-cp39-cp39-manylinux_2_17_x86_64.manylinux2014_x86_64.whl (9.9 MB)\n",
      "\u001b[K     |████████████████████████████████| 9.9 MB 1.1 MB/s eta 0:00:01\n",
      "\u001b[?25hCollecting mizani>=0.8.1\n",
      "  Downloading mizani-0.8.1-py3-none-any.whl (64 kB)\n",
      "\u001b[K     |████████████████████████████████| 64 kB 1.4 MB/s eta 0:00:01\n",
      "\u001b[?25hRequirement already satisfied: scipy>=1.5.0 in /public/home/zhaox/anaconda3/lib/python3.9/site-packages (from plotnine->ktplotspy) (1.7.1)\n",
      "Collecting matplotlib>=3.4\n",
      "  Downloading matplotlib-3.7.0-cp39-cp39-manylinux_2_17_x86_64.manylinux2014_x86_64.whl (11.6 MB)\n",
      "\u001b[K     |████████████████████████████████| 11.6 MB 1.5 MB/s eta 0:00:01    |███████████▌                    | 4.2 MB 1.4 MB/s eta 0:00:06\n",
      "\u001b[?25hRequirement already satisfied: packaging>=20.0 in /public/home/zhaox/anaconda3/lib/python3.9/site-packages (from matplotlib>=3.4->python-circos<0.4.0,>=0.3.0->ktplotspy) (21.0)\n",
      "Requirement already satisfied: fonttools>=4.22.0 in /public/home/zhaox/anaconda3/lib/python3.9/site-packages (from matplotlib>=3.4->python-circos<0.4.0,>=0.3.0->ktplotspy) (4.25.0)\n",
      "Collecting importlib-resources>=3.2.0\n",
      "  Downloading importlib_resources-5.10.2-py3-none-any.whl (34 kB)\n",
      "Collecting contourpy>=1.0.1\n",
      "  Downloading contourpy-1.0.7-cp39-cp39-manylinux_2_17_x86_64.manylinux2014_x86_64.whl (299 kB)\n",
      "\u001b[K     |████████████████████████████████| 299 kB 965 kB/s eta 0:00:01\n",
      "\u001b[?25hRequirement already satisfied: zipp>=3.1.0 in /public/home/zhaox/anaconda3/lib/python3.9/site-packages (from importlib-resources>=3.2.0->matplotlib>=3.4->python-circos<0.4.0,>=0.3.0->ktplotspy) (3.6.0)\n",
      "Collecting palettable\n",
      "  Downloading palettable-3.3.0-py2.py3-none-any.whl (111 kB)\n",
      "\u001b[K     |████████████████████████████████| 111 kB 1.0 MB/s eta 0:00:01\n",
      "\u001b[?25hCollecting packaging>=20.0\n",
      "  Downloading packaging-23.0-py3-none-any.whl (42 kB)\n",
      "\u001b[K     |████████████████████████████████| 42 kB 934 kB/s eta 0:00:01\n",
      "\u001b[?25hRequirement already satisfied: charset-normalizer~=2.0.0 in /public/home/zhaox/anaconda3/lib/python3.9/site-packages (from requests->ktplotspy) (2.0.4)\n",
      "Requirement already satisfied: urllib3<1.27,>=1.21.1 in /public/home/zhaox/anaconda3/lib/python3.9/site-packages (from requests->ktplotspy) (1.26.7)\n",
      "Requirement already satisfied: idna<4,>=2.5 in /public/home/zhaox/anaconda3/lib/python3.9/site-packages (from requests->ktplotspy) (3.2)\n",
      "Requirement already satisfied: certifi>=2017.4.17 in /public/home/zhaox/anaconda3/lib/python3.9/site-packages (from requests->ktplotspy) (2021.10.8)\n",
      "Installing collected packages: packaging, importlib-resources, contourpy, palettable, matplotlib, statsmodels, mizani, biopython, python-circos, plotnine, ktplotspy\n",
      "  Attempting uninstall: packaging\n",
      "    Found existing installation: packaging 21.0\n",
      "    Uninstalling packaging-21.0:\n",
      "      Successfully uninstalled packaging-21.0\n",
      "  Attempting uninstall: matplotlib\n",
      "    Found existing installation: matplotlib 3.4.3\n",
      "    Uninstalling matplotlib-3.4.3:\n",
      "      Successfully uninstalled matplotlib-3.4.3\n",
      "  Attempting uninstall: statsmodels\n",
      "    Found existing installation: statsmodels 0.12.2\n",
      "    Uninstalling statsmodels-0.12.2:\n",
      "      Successfully uninstalled statsmodels-0.12.2\n",
      "Successfully installed biopython-1.81 contourpy-1.0.7 importlib-resources-5.10.2 ktplotspy-0.1.8 matplotlib-3.7.0 mizani-0.8.1 packaging-23.0 palettable-3.3.0 plotnine-0.10.1 python-circos-0.3.0 statsmodels-0.13.5\n",
      "Note: you may need to restart the kernel to use updated packages.\n"
     ]
    }
   ],
   "source": [
    "pip install ktplotspy ## 0.1.6"
   ]
  },
  {
   "cell_type": "code",
   "execution_count": 87,
   "id": "00bc40e2-f1de-4ca7-88a8-e6d3b3c12ad9",
   "metadata": {},
   "outputs": [
    {
     "name": "stdout",
     "output_type": "stream",
     "text": [
      "Collecting datatable\n",
      "  Downloading datatable-1.0.0-cp39-cp39-manylinux_2_12_x86_64.whl (96.6 MB)\n",
      "\u001b[K     |████████████████████████████████| 96.6 MB 26 kB/s  eta 0:00:01     |█████████▊                      | 29.4 MB 963 kB/s eta 0:01:10     |██████████▉                     | 32.8 MB 1.0 MB/s eta 0:01:04     |███████████                     | 33.0 MB 857 kB/s eta 0:01:15     |████████████▌                   | 37.6 MB 546 kB/s eta 0:01:48     |████████████▉                   | 38.8 MB 1.1 MB/s eta 0:00:56     |█████████████                   | 39.1 MB 1.1 MB/s eta 0:00:55     |█████████████▊                  | 41.4 MB 1.1 MB/s eta 0:00:53     |██████████████▋                 | 44.0 MB 1.2 MB/s eta 0:00:46     |████████████████▌               | 49.9 MB 822 kB/s eta 0:00:57     |█████████████████               | 51.2 MB 886 kB/s eta 0:00:52     |█████████████████▎              | 52.1 MB 886 kB/s eta 0:00:51     |███████████████████████         | 69.6 MB 692 kB/s eta 0:00:39     |██████████████████████████▎     | 79.3 MB 862 kB/s eta 0:00:21     |███████████████████████████████▎| 94.5 MB 1.1 MB/s eta 0:00:02\n",
      "\u001b[?25hInstalling collected packages: datatable\n",
      "Successfully installed datatable-1.0.0\n",
      "Note: you may need to restart the kernel to use updated packages.\n"
     ]
    }
   ],
   "source": [
    "pip install datatable ## 1.0.0"
   ]
  },
  {
   "cell_type": "code",
   "execution_count": null,
   "id": "74fb7deb-33a0-41ca-ae3e-066297371663",
   "metadata": {},
   "outputs": [],
   "source": []
  }
 ],
 "metadata": {
  "kernelspec": {
   "display_name": "Python 3 (ipykernel)",
   "language": "python",
   "name": "python3"
  },
  "language_info": {
   "codemirror_mode": {
    "name": "ipython",
    "version": 3
   },
   "file_extension": ".py",
   "mimetype": "text/x-python",
   "name": "python",
   "nbconvert_exporter": "python",
   "pygments_lexer": "ipython3",
   "version": "3.9.7"
  }
 },
 "nbformat": 4,
 "nbformat_minor": 5
}
