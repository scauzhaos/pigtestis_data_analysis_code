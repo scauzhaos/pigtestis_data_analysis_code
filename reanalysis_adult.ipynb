{
 "cells": [
  {
   "cell_type": "code",
   "execution_count": 1,
   "id": "a31d6fd6-9ac8-4e0d-80d6-9049e3faf2a6",
   "metadata": {},
   "outputs": [
    {
     "name": "stderr",
     "output_type": "stream",
     "text": [
      "2022-12-26 09:57:59.580424: W tensorflow/stream_executor/platform/default/dso_loader.cc:64] Could not load dynamic library 'libcudart.so.11.0'; dlerror: libcudart.so.11.0: cannot open shared object file: No such file or directory; LD_LIBRARY_PATH: /public/home/zhaox/anaconda3/envs/jupyter/lib:/opt/OpenBLAS/lib\n",
      "2022-12-26 09:57:59.580502: I tensorflow/stream_executor/cuda/cudart_stub.cc:29] Ignore above cudart dlerror if you do not have a GPU set up on your machine.\n"
     ]
    },
    {
     "name": "stdout",
     "output_type": "stream",
     "text": [
      "scanpy==1.9.1 anndata==0.8.0 umap==0.5.3 numpy==1.20.3 scipy==1.7.1 pandas==1.4.2 scikit-learn==1.1.0 statsmodels==0.12.2 python-igraph==0.9.10 louvain==0.7.1 pynndescent==0.5.6\n"
     ]
    }
   ],
   "source": [
    "import scanpy as sc\n",
    "import pandas as pd\n",
    "import numpy as np\n",
    "import doubletdetection\n",
    "import matplotlib as mpl\n",
    "import matplotlib.pyplot as plt\n",
    "sc.settings.verbosity = 3             # verbosity: errors (0), warnings (1), info (2), hints (3)\n",
    "sc.logging.print_header()\n",
    "mpl.rcParams['pdf.fonttype'] = 42\n",
    "mpl.rcParams['font.sans-serif'] = \"Arial\"\n",
    "sc.settings.set_figure_params(dpi = 50, dpi_save = 600, figsize = (4, 4))"
   ]
  },
  {
   "cell_type": "code",
   "execution_count": 2,
   "id": "d64e118c-5add-458e-89a9-fd9d71051c50",
   "metadata": {},
   "outputs": [
    {
     "data": {
      "text/plain": [
       "AnnData object with n_obs × n_vars = 24967 × 2851\n",
       "    obs: 'n_genes', 'n_genes_by_counts', 'total_counts', 'total_counts_mt', 'pct_counts_mt', 'total_counts_chrX', 'pct_counts_chrX', 'total_counts_chrY', 'pct_counts_chrY', 'S_score', 'G2M_score', 'phase', 'doublet', 'doublet_score', 'leiden'\n",
       "    var: 'gene_ids', 'feature_types', 'genome', 'n_counts', 'mt', 'n_cells_by_counts', 'mean_counts', 'pct_dropout_by_counts', 'total_counts', 'chrX', 'chrY', 'highly_variable', 'means', 'dispersions', 'dispersions_norm', 'mean', 'std'\n",
       "    uns: 'dendrogram_leiden', 'hvg', 'leiden', 'leiden_colors', 'neighbors', 'pca', 'rank_genes_groups', 'umap'\n",
       "    obsm: 'X_pca', 'X_umap'\n",
       "    varm: 'PCs'\n",
       "    obsp: 'connectivities', 'distances'"
      ]
     },
     "execution_count": 2,
     "metadata": {},
     "output_type": "execute_result"
    }
   ],
   "source": [
    "adata = sc.read('./adult_filtered_unannotation.h5ad')\n",
    "adata"
   ]
  },
  {
   "cell_type": "code",
   "execution_count": 3,
   "id": "f97f7e8b-f0a1-41c1-b014-2d9ee4e1275f",
   "metadata": {},
   "outputs": [
    {
     "name": "stdout",
     "output_type": "stream",
     "text": [
      "computing PCA\n",
      "    on highly variable genes\n",
      "    with n_comps=50\n",
      "    finished (0:00:14)\n",
      "computing neighbors\n",
      "    using 'X_pca' with n_pcs = 40\n",
      "    finished: added to `.uns['neighbors']`\n",
      "    `.obsp['distances']`, distances for each pair of neighbors\n",
      "    `.obsp['connectivities']`, weighted adjacency matrix (0:00:26)\n",
      "computing tSNE\n",
      "    using 'X_pca' with n_pcs = 50\n",
      "    using sklearn.manifold.TSNE\n"
     ]
    },
    {
     "name": "stderr",
     "output_type": "stream",
     "text": [
      "/public/home/zhaox/anaconda3/lib/python3.9/site-packages/sklearn/manifold/_t_sne.py:795: FutureWarning: The default initialization in TSNE will change from 'random' to 'pca' in 1.2.\n",
      "  warnings.warn(\n"
     ]
    },
    {
     "name": "stdout",
     "output_type": "stream",
     "text": [
      "    finished: added\n",
      "    'X_tsne', tSNE coordinates (adata.obsm) (0:07:07)\n",
      "computing UMAP\n",
      "    finished: added\n",
      "    'X_umap', UMAP coordinates (adata.obsm) (0:01:29)\n",
      "running Leiden clustering\n",
      "    finished: found 33 clusters and added\n",
      "    'leiden', the cluster labels (adata.obs, categorical) (0:00:05)\n"
     ]
    }
   ],
   "source": [
    "sc.tl.pca(adata, svd_solver='arpack')\n",
    "sc.pp.neighbors(adata, n_neighbors=10, n_pcs=40)\n",
    "sc.tl.tsne(adata)\n",
    "sc.tl.umap(adata)\n",
    "sc.tl.leiden(adata,resolution=1.2)"
   ]
  },
  {
   "cell_type": "code",
   "execution_count": 10,
   "id": "2035afdb-7937-459f-8a80-89847760b800",
   "metadata": {},
   "outputs": [
    {
     "name": "stdout",
     "output_type": "stream",
     "text": [
      "WARNING: saving figure to file figures/umapadultleiden1220.pdf\n"
     ]
    }
   ],
   "source": [
    "sc.pl.umap(adata, color='leiden',legend_loc='on data',save='adultleiden1220.pdf')"
   ]
  },
  {
   "cell_type": "code",
   "execution_count": 11,
   "id": "cac3f11d-3f09-4ed0-9437-b213b6963b1c",
   "metadata": {},
   "outputs": [
    {
     "name": "stdout",
     "output_type": "stream",
     "text": [
      "WARNING: saving figure to file figures/umapadultleidenright1220.pdf\n"
     ]
    }
   ],
   "source": [
    "sc.pl.umap(adata, color='leiden',save='adultleidenright1220.pdf')"
   ]
  },
  {
   "cell_type": "code",
   "execution_count": 5,
   "id": "d859d191-6cef-4c70-8007-12817a8545c9",
   "metadata": {},
   "outputs": [
    {
     "name": "stdout",
     "output_type": "stream",
     "text": [
      "WARNING: saving figure to file figures/tsneadultleiden1220.pdf\n",
      "WARNING: saving figure to file figures/tsneadultDAZL1220.pdf\n",
      "WARNING: saving figure to file figures/tsneadultDDX41220.pdf\n",
      "WARNING: saving figure to file figures/umapadultDAZL1220.pdf\n",
      "WARNING: saving figure to file figures/umapadultDDX41220.pdf\n"
     ]
    }
   ],
   "source": [
    "sc.pl.tsne(adata,color='leiden',save='adultleiden1220.pdf')\n",
    "sc.pl.tsne(adata,color='DAZL',save='adultDAZL1220.pdf')\n",
    "sc.pl.tsne(adata,color='DDX4',save='adultDDX41220.pdf')\n",
    "sc.pl.umap(adata, color='DAZL',save='adultDAZL1220.pdf')\n",
    "sc.pl.umap(adata, color='DDX4',save='adultDDX41220.pdf')"
   ]
  },
  {
   "cell_type": "code",
   "execution_count": 6,
   "id": "0befd6f1-9dd5-419a-8482-6dbe1e1ceeb7",
   "metadata": {},
   "outputs": [
    {
     "data": {
      "text/plain": [
       "AnnData object with n_obs × n_vars = 24967 × 2851\n",
       "    obs: 'n_genes', 'n_genes_by_counts', 'total_counts', 'total_counts_mt', 'pct_counts_mt', 'total_counts_chrX', 'pct_counts_chrX', 'total_counts_chrY', 'pct_counts_chrY', 'S_score', 'G2M_score', 'phase', 'doublet', 'doublet_score', 'leiden'\n",
       "    var: 'gene_ids', 'feature_types', 'genome', 'n_counts', 'mt', 'n_cells_by_counts', 'mean_counts', 'pct_dropout_by_counts', 'total_counts', 'chrX', 'chrY', 'highly_variable', 'means', 'dispersions', 'dispersions_norm', 'mean', 'std'\n",
       "    uns: 'dendrogram_leiden', 'hvg', 'leiden', 'leiden_colors', 'neighbors', 'pca', 'rank_genes_groups', 'umap', 'tsne'\n",
       "    obsm: 'X_pca', 'X_umap', 'X_tsne'\n",
       "    varm: 'PCs'\n",
       "    obsp: 'connectivities', 'distances'"
      ]
     },
     "execution_count": 6,
     "metadata": {},
     "output_type": "execute_result"
    }
   ],
   "source": [
    "adata"
   ]
  },
  {
   "cell_type": "code",
   "execution_count": 7,
   "id": "317da461-ccfd-4c03-b64d-930b644798ec",
   "metadata": {},
   "outputs": [
    {
     "name": "stdout",
     "output_type": "stream",
     "text": [
      "ranking genes\n"
     ]
    },
    {
     "name": "stderr",
     "output_type": "stream",
     "text": [
      "/public/home/zhaox/anaconda3/lib/python3.9/site-packages/scanpy/tools/_rank_genes_groups.py:394: PerformanceWarning: DataFrame is highly fragmented.  This is usually the result of calling `frame.insert` many times, which has poor performance.  Consider joining all columns at once using pd.concat(axis=1) instead. To get a de-fragmented frame, use `newframe = frame.copy()`\n",
      "  self.stats[group_name, 'names'] = self.var_names[global_indices]\n",
      "/public/home/zhaox/anaconda3/lib/python3.9/site-packages/scanpy/tools/_rank_genes_groups.py:396: PerformanceWarning: DataFrame is highly fragmented.  This is usually the result of calling `frame.insert` many times, which has poor performance.  Consider joining all columns at once using pd.concat(axis=1) instead. To get a de-fragmented frame, use `newframe = frame.copy()`\n",
      "  self.stats[group_name, 'scores'] = scores[global_indices]\n",
      "/public/home/zhaox/anaconda3/lib/python3.9/site-packages/scanpy/tools/_rank_genes_groups.py:399: PerformanceWarning: DataFrame is highly fragmented.  This is usually the result of calling `frame.insert` many times, which has poor performance.  Consider joining all columns at once using pd.concat(axis=1) instead. To get a de-fragmented frame, use `newframe = frame.copy()`\n",
      "  self.stats[group_name, 'pvals'] = pvals[global_indices]\n",
      "/public/home/zhaox/anaconda3/lib/python3.9/site-packages/scanpy/tools/_rank_genes_groups.py:409: PerformanceWarning: DataFrame is highly fragmented.  This is usually the result of calling `frame.insert` many times, which has poor performance.  Consider joining all columns at once using pd.concat(axis=1) instead. To get a de-fragmented frame, use `newframe = frame.copy()`\n",
      "  self.stats[group_name, 'pvals_adj'] = pvals_adj[global_indices]\n",
      "/public/home/zhaox/anaconda3/lib/python3.9/site-packages/scanpy/tools/_rank_genes_groups.py:420: PerformanceWarning: DataFrame is highly fragmented.  This is usually the result of calling `frame.insert` many times, which has poor performance.  Consider joining all columns at once using pd.concat(axis=1) instead. To get a de-fragmented frame, use `newframe = frame.copy()`\n",
      "  self.stats[group_name, 'logfoldchanges'] = np.log2(\n",
      "/public/home/zhaox/anaconda3/lib/python3.9/site-packages/scanpy/tools/_rank_genes_groups.py:394: PerformanceWarning: DataFrame is highly fragmented.  This is usually the result of calling `frame.insert` many times, which has poor performance.  Consider joining all columns at once using pd.concat(axis=1) instead. To get a de-fragmented frame, use `newframe = frame.copy()`\n",
      "  self.stats[group_name, 'names'] = self.var_names[global_indices]\n",
      "/public/home/zhaox/anaconda3/lib/python3.9/site-packages/scanpy/tools/_rank_genes_groups.py:396: PerformanceWarning: DataFrame is highly fragmented.  This is usually the result of calling `frame.insert` many times, which has poor performance.  Consider joining all columns at once using pd.concat(axis=1) instead. To get a de-fragmented frame, use `newframe = frame.copy()`\n",
      "  self.stats[group_name, 'scores'] = scores[global_indices]\n",
      "/public/home/zhaox/anaconda3/lib/python3.9/site-packages/scanpy/tools/_rank_genes_groups.py:399: PerformanceWarning: DataFrame is highly fragmented.  This is usually the result of calling `frame.insert` many times, which has poor performance.  Consider joining all columns at once using pd.concat(axis=1) instead. To get a de-fragmented frame, use `newframe = frame.copy()`\n",
      "  self.stats[group_name, 'pvals'] = pvals[global_indices]\n",
      "/public/home/zhaox/anaconda3/lib/python3.9/site-packages/scanpy/tools/_rank_genes_groups.py:409: PerformanceWarning: DataFrame is highly fragmented.  This is usually the result of calling `frame.insert` many times, which has poor performance.  Consider joining all columns at once using pd.concat(axis=1) instead. To get a de-fragmented frame, use `newframe = frame.copy()`\n",
      "  self.stats[group_name, 'pvals_adj'] = pvals_adj[global_indices]\n",
      "/public/home/zhaox/anaconda3/lib/python3.9/site-packages/scanpy/tools/_rank_genes_groups.py:420: PerformanceWarning: DataFrame is highly fragmented.  This is usually the result of calling `frame.insert` many times, which has poor performance.  Consider joining all columns at once using pd.concat(axis=1) instead. To get a de-fragmented frame, use `newframe = frame.copy()`\n",
      "  self.stats[group_name, 'logfoldchanges'] = np.log2(\n",
      "/public/home/zhaox/anaconda3/lib/python3.9/site-packages/scanpy/tools/_rank_genes_groups.py:394: PerformanceWarning: DataFrame is highly fragmented.  This is usually the result of calling `frame.insert` many times, which has poor performance.  Consider joining all columns at once using pd.concat(axis=1) instead. To get a de-fragmented frame, use `newframe = frame.copy()`\n",
      "  self.stats[group_name, 'names'] = self.var_names[global_indices]\n",
      "/public/home/zhaox/anaconda3/lib/python3.9/site-packages/scanpy/tools/_rank_genes_groups.py:396: PerformanceWarning: DataFrame is highly fragmented.  This is usually the result of calling `frame.insert` many times, which has poor performance.  Consider joining all columns at once using pd.concat(axis=1) instead. To get a de-fragmented frame, use `newframe = frame.copy()`\n",
      "  self.stats[group_name, 'scores'] = scores[global_indices]\n",
      "/public/home/zhaox/anaconda3/lib/python3.9/site-packages/scanpy/tools/_rank_genes_groups.py:399: PerformanceWarning: DataFrame is highly fragmented.  This is usually the result of calling `frame.insert` many times, which has poor performance.  Consider joining all columns at once using pd.concat(axis=1) instead. To get a de-fragmented frame, use `newframe = frame.copy()`\n",
      "  self.stats[group_name, 'pvals'] = pvals[global_indices]\n",
      "/public/home/zhaox/anaconda3/lib/python3.9/site-packages/scanpy/tools/_rank_genes_groups.py:409: PerformanceWarning: DataFrame is highly fragmented.  This is usually the result of calling `frame.insert` many times, which has poor performance.  Consider joining all columns at once using pd.concat(axis=1) instead. To get a de-fragmented frame, use `newframe = frame.copy()`\n",
      "  self.stats[group_name, 'pvals_adj'] = pvals_adj[global_indices]\n",
      "/public/home/zhaox/anaconda3/lib/python3.9/site-packages/scanpy/tools/_rank_genes_groups.py:420: PerformanceWarning: DataFrame is highly fragmented.  This is usually the result of calling `frame.insert` many times, which has poor performance.  Consider joining all columns at once using pd.concat(axis=1) instead. To get a de-fragmented frame, use `newframe = frame.copy()`\n",
      "  self.stats[group_name, 'logfoldchanges'] = np.log2(\n",
      "/public/home/zhaox/anaconda3/lib/python3.9/site-packages/scanpy/tools/_rank_genes_groups.py:394: PerformanceWarning: DataFrame is highly fragmented.  This is usually the result of calling `frame.insert` many times, which has poor performance.  Consider joining all columns at once using pd.concat(axis=1) instead. To get a de-fragmented frame, use `newframe = frame.copy()`\n",
      "  self.stats[group_name, 'names'] = self.var_names[global_indices]\n",
      "/public/home/zhaox/anaconda3/lib/python3.9/site-packages/scanpy/tools/_rank_genes_groups.py:396: PerformanceWarning: DataFrame is highly fragmented.  This is usually the result of calling `frame.insert` many times, which has poor performance.  Consider joining all columns at once using pd.concat(axis=1) instead. To get a de-fragmented frame, use `newframe = frame.copy()`\n",
      "  self.stats[group_name, 'scores'] = scores[global_indices]\n",
      "/public/home/zhaox/anaconda3/lib/python3.9/site-packages/scanpy/tools/_rank_genes_groups.py:399: PerformanceWarning: DataFrame is highly fragmented.  This is usually the result of calling `frame.insert` many times, which has poor performance.  Consider joining all columns at once using pd.concat(axis=1) instead. To get a de-fragmented frame, use `newframe = frame.copy()`\n",
      "  self.stats[group_name, 'pvals'] = pvals[global_indices]\n",
      "/public/home/zhaox/anaconda3/lib/python3.9/site-packages/scanpy/tools/_rank_genes_groups.py:409: PerformanceWarning: DataFrame is highly fragmented.  This is usually the result of calling `frame.insert` many times, which has poor performance.  Consider joining all columns at once using pd.concat(axis=1) instead. To get a de-fragmented frame, use `newframe = frame.copy()`\n",
      "  self.stats[group_name, 'pvals_adj'] = pvals_adj[global_indices]\n",
      "/public/home/zhaox/anaconda3/lib/python3.9/site-packages/scanpy/tools/_rank_genes_groups.py:420: PerformanceWarning: DataFrame is highly fragmented.  This is usually the result of calling `frame.insert` many times, which has poor performance.  Consider joining all columns at once using pd.concat(axis=1) instead. To get a de-fragmented frame, use `newframe = frame.copy()`\n",
      "  self.stats[group_name, 'logfoldchanges'] = np.log2(\n",
      "/public/home/zhaox/anaconda3/lib/python3.9/site-packages/scanpy/tools/_rank_genes_groups.py:394: PerformanceWarning: DataFrame is highly fragmented.  This is usually the result of calling `frame.insert` many times, which has poor performance.  Consider joining all columns at once using pd.concat(axis=1) instead. To get a de-fragmented frame, use `newframe = frame.copy()`\n",
      "  self.stats[group_name, 'names'] = self.var_names[global_indices]\n",
      "/public/home/zhaox/anaconda3/lib/python3.9/site-packages/scanpy/tools/_rank_genes_groups.py:396: PerformanceWarning: DataFrame is highly fragmented.  This is usually the result of calling `frame.insert` many times, which has poor performance.  Consider joining all columns at once using pd.concat(axis=1) instead. To get a de-fragmented frame, use `newframe = frame.copy()`\n",
      "  self.stats[group_name, 'scores'] = scores[global_indices]\n",
      "/public/home/zhaox/anaconda3/lib/python3.9/site-packages/scanpy/tools/_rank_genes_groups.py:399: PerformanceWarning: DataFrame is highly fragmented.  This is usually the result of calling `frame.insert` many times, which has poor performance.  Consider joining all columns at once using pd.concat(axis=1) instead. To get a de-fragmented frame, use `newframe = frame.copy()`\n",
      "  self.stats[group_name, 'pvals'] = pvals[global_indices]\n",
      "/public/home/zhaox/anaconda3/lib/python3.9/site-packages/scanpy/tools/_rank_genes_groups.py:409: PerformanceWarning: DataFrame is highly fragmented.  This is usually the result of calling `frame.insert` many times, which has poor performance.  Consider joining all columns at once using pd.concat(axis=1) instead. To get a de-fragmented frame, use `newframe = frame.copy()`\n",
      "  self.stats[group_name, 'pvals_adj'] = pvals_adj[global_indices]\n",
      "/public/home/zhaox/anaconda3/lib/python3.9/site-packages/scanpy/tools/_rank_genes_groups.py:420: PerformanceWarning: DataFrame is highly fragmented.  This is usually the result of calling `frame.insert` many times, which has poor performance.  Consider joining all columns at once using pd.concat(axis=1) instead. To get a de-fragmented frame, use `newframe = frame.copy()`\n",
      "  self.stats[group_name, 'logfoldchanges'] = np.log2(\n",
      "/public/home/zhaox/anaconda3/lib/python3.9/site-packages/scanpy/tools/_rank_genes_groups.py:394: PerformanceWarning: DataFrame is highly fragmented.  This is usually the result of calling `frame.insert` many times, which has poor performance.  Consider joining all columns at once using pd.concat(axis=1) instead. To get a de-fragmented frame, use `newframe = frame.copy()`\n",
      "  self.stats[group_name, 'names'] = self.var_names[global_indices]\n",
      "/public/home/zhaox/anaconda3/lib/python3.9/site-packages/scanpy/tools/_rank_genes_groups.py:396: PerformanceWarning: DataFrame is highly fragmented.  This is usually the result of calling `frame.insert` many times, which has poor performance.  Consider joining all columns at once using pd.concat(axis=1) instead. To get a de-fragmented frame, use `newframe = frame.copy()`\n",
      "  self.stats[group_name, 'scores'] = scores[global_indices]\n",
      "/public/home/zhaox/anaconda3/lib/python3.9/site-packages/scanpy/tools/_rank_genes_groups.py:399: PerformanceWarning: DataFrame is highly fragmented.  This is usually the result of calling `frame.insert` many times, which has poor performance.  Consider joining all columns at once using pd.concat(axis=1) instead. To get a de-fragmented frame, use `newframe = frame.copy()`\n",
      "  self.stats[group_name, 'pvals'] = pvals[global_indices]\n",
      "/public/home/zhaox/anaconda3/lib/python3.9/site-packages/scanpy/tools/_rank_genes_groups.py:409: PerformanceWarning: DataFrame is highly fragmented.  This is usually the result of calling `frame.insert` many times, which has poor performance.  Consider joining all columns at once using pd.concat(axis=1) instead. To get a de-fragmented frame, use `newframe = frame.copy()`\n",
      "  self.stats[group_name, 'pvals_adj'] = pvals_adj[global_indices]\n",
      "/public/home/zhaox/anaconda3/lib/python3.9/site-packages/scanpy/tools/_rank_genes_groups.py:420: PerformanceWarning: DataFrame is highly fragmented.  This is usually the result of calling `frame.insert` many times, which has poor performance.  Consider joining all columns at once using pd.concat(axis=1) instead. To get a de-fragmented frame, use `newframe = frame.copy()`\n",
      "  self.stats[group_name, 'logfoldchanges'] = np.log2(\n",
      "/public/home/zhaox/anaconda3/lib/python3.9/site-packages/scanpy/tools/_rank_genes_groups.py:394: PerformanceWarning: DataFrame is highly fragmented.  This is usually the result of calling `frame.insert` many times, which has poor performance.  Consider joining all columns at once using pd.concat(axis=1) instead. To get a de-fragmented frame, use `newframe = frame.copy()`\n",
      "  self.stats[group_name, 'names'] = self.var_names[global_indices]\n",
      "/public/home/zhaox/anaconda3/lib/python3.9/site-packages/scanpy/tools/_rank_genes_groups.py:396: PerformanceWarning: DataFrame is highly fragmented.  This is usually the result of calling `frame.insert` many times, which has poor performance.  Consider joining all columns at once using pd.concat(axis=1) instead. To get a de-fragmented frame, use `newframe = frame.copy()`\n",
      "  self.stats[group_name, 'scores'] = scores[global_indices]\n",
      "/public/home/zhaox/anaconda3/lib/python3.9/site-packages/scanpy/tools/_rank_genes_groups.py:399: PerformanceWarning: DataFrame is highly fragmented.  This is usually the result of calling `frame.insert` many times, which has poor performance.  Consider joining all columns at once using pd.concat(axis=1) instead. To get a de-fragmented frame, use `newframe = frame.copy()`\n",
      "  self.stats[group_name, 'pvals'] = pvals[global_indices]\n",
      "/public/home/zhaox/anaconda3/lib/python3.9/site-packages/scanpy/tools/_rank_genes_groups.py:409: PerformanceWarning: DataFrame is highly fragmented.  This is usually the result of calling `frame.insert` many times, which has poor performance.  Consider joining all columns at once using pd.concat(axis=1) instead. To get a de-fragmented frame, use `newframe = frame.copy()`\n",
      "  self.stats[group_name, 'pvals_adj'] = pvals_adj[global_indices]\n",
      "/public/home/zhaox/anaconda3/lib/python3.9/site-packages/scanpy/tools/_rank_genes_groups.py:420: PerformanceWarning: DataFrame is highly fragmented.  This is usually the result of calling `frame.insert` many times, which has poor performance.  Consider joining all columns at once using pd.concat(axis=1) instead. To get a de-fragmented frame, use `newframe = frame.copy()`\n",
      "  self.stats[group_name, 'logfoldchanges'] = np.log2(\n",
      "/public/home/zhaox/anaconda3/lib/python3.9/site-packages/scanpy/tools/_rank_genes_groups.py:394: PerformanceWarning: DataFrame is highly fragmented.  This is usually the result of calling `frame.insert` many times, which has poor performance.  Consider joining all columns at once using pd.concat(axis=1) instead. To get a de-fragmented frame, use `newframe = frame.copy()`\n",
      "  self.stats[group_name, 'names'] = self.var_names[global_indices]\n",
      "/public/home/zhaox/anaconda3/lib/python3.9/site-packages/scanpy/tools/_rank_genes_groups.py:396: PerformanceWarning: DataFrame is highly fragmented.  This is usually the result of calling `frame.insert` many times, which has poor performance.  Consider joining all columns at once using pd.concat(axis=1) instead. To get a de-fragmented frame, use `newframe = frame.copy()`\n",
      "  self.stats[group_name, 'scores'] = scores[global_indices]\n",
      "/public/home/zhaox/anaconda3/lib/python3.9/site-packages/scanpy/tools/_rank_genes_groups.py:399: PerformanceWarning: DataFrame is highly fragmented.  This is usually the result of calling `frame.insert` many times, which has poor performance.  Consider joining all columns at once using pd.concat(axis=1) instead. To get a de-fragmented frame, use `newframe = frame.copy()`\n",
      "  self.stats[group_name, 'pvals'] = pvals[global_indices]\n",
      "/public/home/zhaox/anaconda3/lib/python3.9/site-packages/scanpy/tools/_rank_genes_groups.py:409: PerformanceWarning: DataFrame is highly fragmented.  This is usually the result of calling `frame.insert` many times, which has poor performance.  Consider joining all columns at once using pd.concat(axis=1) instead. To get a de-fragmented frame, use `newframe = frame.copy()`\n",
      "  self.stats[group_name, 'pvals_adj'] = pvals_adj[global_indices]\n",
      "/public/home/zhaox/anaconda3/lib/python3.9/site-packages/scanpy/tools/_rank_genes_groups.py:420: PerformanceWarning: DataFrame is highly fragmented.  This is usually the result of calling `frame.insert` many times, which has poor performance.  Consider joining all columns at once using pd.concat(axis=1) instead. To get a de-fragmented frame, use `newframe = frame.copy()`\n",
      "  self.stats[group_name, 'logfoldchanges'] = np.log2(\n",
      "/public/home/zhaox/anaconda3/lib/python3.9/site-packages/scanpy/tools/_rank_genes_groups.py:394: PerformanceWarning: DataFrame is highly fragmented.  This is usually the result of calling `frame.insert` many times, which has poor performance.  Consider joining all columns at once using pd.concat(axis=1) instead. To get a de-fragmented frame, use `newframe = frame.copy()`\n",
      "  self.stats[group_name, 'names'] = self.var_names[global_indices]\n",
      "/public/home/zhaox/anaconda3/lib/python3.9/site-packages/scanpy/tools/_rank_genes_groups.py:396: PerformanceWarning: DataFrame is highly fragmented.  This is usually the result of calling `frame.insert` many times, which has poor performance.  Consider joining all columns at once using pd.concat(axis=1) instead. To get a de-fragmented frame, use `newframe = frame.copy()`\n",
      "  self.stats[group_name, 'scores'] = scores[global_indices]\n",
      "/public/home/zhaox/anaconda3/lib/python3.9/site-packages/scanpy/tools/_rank_genes_groups.py:399: PerformanceWarning: DataFrame is highly fragmented.  This is usually the result of calling `frame.insert` many times, which has poor performance.  Consider joining all columns at once using pd.concat(axis=1) instead. To get a de-fragmented frame, use `newframe = frame.copy()`\n",
      "  self.stats[group_name, 'pvals'] = pvals[global_indices]\n",
      "/public/home/zhaox/anaconda3/lib/python3.9/site-packages/scanpy/tools/_rank_genes_groups.py:409: PerformanceWarning: DataFrame is highly fragmented.  This is usually the result of calling `frame.insert` many times, which has poor performance.  Consider joining all columns at once using pd.concat(axis=1) instead. To get a de-fragmented frame, use `newframe = frame.copy()`\n",
      "  self.stats[group_name, 'pvals_adj'] = pvals_adj[global_indices]\n",
      "/public/home/zhaox/anaconda3/lib/python3.9/site-packages/scanpy/tools/_rank_genes_groups.py:420: PerformanceWarning: DataFrame is highly fragmented.  This is usually the result of calling `frame.insert` many times, which has poor performance.  Consider joining all columns at once using pd.concat(axis=1) instead. To get a de-fragmented frame, use `newframe = frame.copy()`\n",
      "  self.stats[group_name, 'logfoldchanges'] = np.log2(\n",
      "/public/home/zhaox/anaconda3/lib/python3.9/site-packages/scanpy/tools/_rank_genes_groups.py:394: PerformanceWarning: DataFrame is highly fragmented.  This is usually the result of calling `frame.insert` many times, which has poor performance.  Consider joining all columns at once using pd.concat(axis=1) instead. To get a de-fragmented frame, use `newframe = frame.copy()`\n",
      "  self.stats[group_name, 'names'] = self.var_names[global_indices]\n",
      "/public/home/zhaox/anaconda3/lib/python3.9/site-packages/scanpy/tools/_rank_genes_groups.py:396: PerformanceWarning: DataFrame is highly fragmented.  This is usually the result of calling `frame.insert` many times, which has poor performance.  Consider joining all columns at once using pd.concat(axis=1) instead. To get a de-fragmented frame, use `newframe = frame.copy()`\n",
      "  self.stats[group_name, 'scores'] = scores[global_indices]\n",
      "/public/home/zhaox/anaconda3/lib/python3.9/site-packages/scanpy/tools/_rank_genes_groups.py:399: PerformanceWarning: DataFrame is highly fragmented.  This is usually the result of calling `frame.insert` many times, which has poor performance.  Consider joining all columns at once using pd.concat(axis=1) instead. To get a de-fragmented frame, use `newframe = frame.copy()`\n",
      "  self.stats[group_name, 'pvals'] = pvals[global_indices]\n",
      "/public/home/zhaox/anaconda3/lib/python3.9/site-packages/scanpy/tools/_rank_genes_groups.py:409: PerformanceWarning: DataFrame is highly fragmented.  This is usually the result of calling `frame.insert` many times, which has poor performance.  Consider joining all columns at once using pd.concat(axis=1) instead. To get a de-fragmented frame, use `newframe = frame.copy()`\n",
      "  self.stats[group_name, 'pvals_adj'] = pvals_adj[global_indices]\n",
      "/public/home/zhaox/anaconda3/lib/python3.9/site-packages/scanpy/tools/_rank_genes_groups.py:420: PerformanceWarning: DataFrame is highly fragmented.  This is usually the result of calling `frame.insert` many times, which has poor performance.  Consider joining all columns at once using pd.concat(axis=1) instead. To get a de-fragmented frame, use `newframe = frame.copy()`\n",
      "  self.stats[group_name, 'logfoldchanges'] = np.log2(\n",
      "/public/home/zhaox/anaconda3/lib/python3.9/site-packages/scanpy/tools/_rank_genes_groups.py:394: PerformanceWarning: DataFrame is highly fragmented.  This is usually the result of calling `frame.insert` many times, which has poor performance.  Consider joining all columns at once using pd.concat(axis=1) instead. To get a de-fragmented frame, use `newframe = frame.copy()`\n",
      "  self.stats[group_name, 'names'] = self.var_names[global_indices]\n",
      "/public/home/zhaox/anaconda3/lib/python3.9/site-packages/scanpy/tools/_rank_genes_groups.py:396: PerformanceWarning: DataFrame is highly fragmented.  This is usually the result of calling `frame.insert` many times, which has poor performance.  Consider joining all columns at once using pd.concat(axis=1) instead. To get a de-fragmented frame, use `newframe = frame.copy()`\n",
      "  self.stats[group_name, 'scores'] = scores[global_indices]\n",
      "/public/home/zhaox/anaconda3/lib/python3.9/site-packages/scanpy/tools/_rank_genes_groups.py:399: PerformanceWarning: DataFrame is highly fragmented.  This is usually the result of calling `frame.insert` many times, which has poor performance.  Consider joining all columns at once using pd.concat(axis=1) instead. To get a de-fragmented frame, use `newframe = frame.copy()`\n",
      "  self.stats[group_name, 'pvals'] = pvals[global_indices]\n",
      "/public/home/zhaox/anaconda3/lib/python3.9/site-packages/scanpy/tools/_rank_genes_groups.py:409: PerformanceWarning: DataFrame is highly fragmented.  This is usually the result of calling `frame.insert` many times, which has poor performance.  Consider joining all columns at once using pd.concat(axis=1) instead. To get a de-fragmented frame, use `newframe = frame.copy()`\n",
      "  self.stats[group_name, 'pvals_adj'] = pvals_adj[global_indices]\n",
      "/public/home/zhaox/anaconda3/lib/python3.9/site-packages/scanpy/tools/_rank_genes_groups.py:420: PerformanceWarning: DataFrame is highly fragmented.  This is usually the result of calling `frame.insert` many times, which has poor performance.  Consider joining all columns at once using pd.concat(axis=1) instead. To get a de-fragmented frame, use `newframe = frame.copy()`\n",
      "  self.stats[group_name, 'logfoldchanges'] = np.log2(\n",
      "/public/home/zhaox/anaconda3/lib/python3.9/site-packages/scanpy/tools/_rank_genes_groups.py:394: PerformanceWarning: DataFrame is highly fragmented.  This is usually the result of calling `frame.insert` many times, which has poor performance.  Consider joining all columns at once using pd.concat(axis=1) instead. To get a de-fragmented frame, use `newframe = frame.copy()`\n",
      "  self.stats[group_name, 'names'] = self.var_names[global_indices]\n",
      "/public/home/zhaox/anaconda3/lib/python3.9/site-packages/scanpy/tools/_rank_genes_groups.py:396: PerformanceWarning: DataFrame is highly fragmented.  This is usually the result of calling `frame.insert` many times, which has poor performance.  Consider joining all columns at once using pd.concat(axis=1) instead. To get a de-fragmented frame, use `newframe = frame.copy()`\n",
      "  self.stats[group_name, 'scores'] = scores[global_indices]\n",
      "/public/home/zhaox/anaconda3/lib/python3.9/site-packages/scanpy/tools/_rank_genes_groups.py:399: PerformanceWarning: DataFrame is highly fragmented.  This is usually the result of calling `frame.insert` many times, which has poor performance.  Consider joining all columns at once using pd.concat(axis=1) instead. To get a de-fragmented frame, use `newframe = frame.copy()`\n",
      "  self.stats[group_name, 'pvals'] = pvals[global_indices]\n",
      "/public/home/zhaox/anaconda3/lib/python3.9/site-packages/scanpy/tools/_rank_genes_groups.py:409: PerformanceWarning: DataFrame is highly fragmented.  This is usually the result of calling `frame.insert` many times, which has poor performance.  Consider joining all columns at once using pd.concat(axis=1) instead. To get a de-fragmented frame, use `newframe = frame.copy()`\n",
      "  self.stats[group_name, 'pvals_adj'] = pvals_adj[global_indices]\n",
      "/public/home/zhaox/anaconda3/lib/python3.9/site-packages/scanpy/tools/_rank_genes_groups.py:420: PerformanceWarning: DataFrame is highly fragmented.  This is usually the result of calling `frame.insert` many times, which has poor performance.  Consider joining all columns at once using pd.concat(axis=1) instead. To get a de-fragmented frame, use `newframe = frame.copy()`\n",
      "  self.stats[group_name, 'logfoldchanges'] = np.log2(\n",
      "/public/home/zhaox/anaconda3/lib/python3.9/site-packages/scanpy/tools/_rank_genes_groups.py:394: PerformanceWarning: DataFrame is highly fragmented.  This is usually the result of calling `frame.insert` many times, which has poor performance.  Consider joining all columns at once using pd.concat(axis=1) instead. To get a de-fragmented frame, use `newframe = frame.copy()`\n",
      "  self.stats[group_name, 'names'] = self.var_names[global_indices]\n",
      "/public/home/zhaox/anaconda3/lib/python3.9/site-packages/scanpy/tools/_rank_genes_groups.py:396: PerformanceWarning: DataFrame is highly fragmented.  This is usually the result of calling `frame.insert` many times, which has poor performance.  Consider joining all columns at once using pd.concat(axis=1) instead. To get a de-fragmented frame, use `newframe = frame.copy()`\n",
      "  self.stats[group_name, 'scores'] = scores[global_indices]\n",
      "/public/home/zhaox/anaconda3/lib/python3.9/site-packages/scanpy/tools/_rank_genes_groups.py:399: PerformanceWarning: DataFrame is highly fragmented.  This is usually the result of calling `frame.insert` many times, which has poor performance.  Consider joining all columns at once using pd.concat(axis=1) instead. To get a de-fragmented frame, use `newframe = frame.copy()`\n",
      "  self.stats[group_name, 'pvals'] = pvals[global_indices]\n",
      "/public/home/zhaox/anaconda3/lib/python3.9/site-packages/scanpy/tools/_rank_genes_groups.py:409: PerformanceWarning: DataFrame is highly fragmented.  This is usually the result of calling `frame.insert` many times, which has poor performance.  Consider joining all columns at once using pd.concat(axis=1) instead. To get a de-fragmented frame, use `newframe = frame.copy()`\n",
      "  self.stats[group_name, 'pvals_adj'] = pvals_adj[global_indices]\n",
      "/public/home/zhaox/anaconda3/lib/python3.9/site-packages/scanpy/tools/_rank_genes_groups.py:420: PerformanceWarning: DataFrame is highly fragmented.  This is usually the result of calling `frame.insert` many times, which has poor performance.  Consider joining all columns at once using pd.concat(axis=1) instead. To get a de-fragmented frame, use `newframe = frame.copy()`\n",
      "  self.stats[group_name, 'logfoldchanges'] = np.log2(\n"
     ]
    },
    {
     "name": "stdout",
     "output_type": "stream",
     "text": [
      "    finished: added to `.uns['rank_genes_groups']`\n",
      "    'names', sorted np.recarray to be indexed by group ids\n",
      "    'scores', sorted np.recarray to be indexed by group ids\n",
      "    'logfoldchanges', sorted np.recarray to be indexed by group ids\n",
      "    'pvals', sorted np.recarray to be indexed by group ids\n",
      "    'pvals_adj', sorted np.recarray to be indexed by group ids (0:05:28)\n"
     ]
    }
   ],
   "source": [
    "sc.tl.rank_genes_groups(adata, 'leiden', method='wilcoxon')"
   ]
  },
  {
   "cell_type": "code",
   "execution_count": 8,
   "id": "f05606d3-9fb8-4a74-8a34-83121433e15d",
   "metadata": {},
   "outputs": [],
   "source": [
    "pd.DataFrame(adata.uns['rank_genes_groups']['names']).head(5)\n",
    "adata.uns['rank_genes_groups'].keys()\n",
    "#dict_keys(['logfoldchanges', 'names', 'params', 'pvals', 'pvals_adj', 'scores'])\n",
    "result = adata.uns['rank_genes_groups']\n",
    "groups = result['names'].dtype.names\n",
    "pd.DataFrame(\n",
    "    {group + '_' + key[:1]: result[key][group]\n",
    "    for group in groups for key in ['names', 'pvals']}).head(5)\n",
    "res = pd.DataFrame(    \n",
    "    {group + '_' + key: result[key][group]    \n",
    "    for group in groups for key in ['names', 'pvals','logfoldchanges','pvals_adj','scores']})\n",
    "res.to_csv(\"./figures/diff_rank_genes_groups_adultleiden1220.csv\")"
   ]
  },
  {
   "cell_type": "markdown",
   "id": "a58f8785-072d-4e9c-bc9a-127b7b5e55a6",
   "metadata": {},
   "source": [
    "## all markers to show"
   ]
  },
  {
   "cell_type": "code",
   "execution_count": 15,
   "id": "2ffd29ff-afd0-4ce2-88b0-0bba764af37a",
   "metadata": {},
   "outputs": [],
   "source": [
    "marker_genes_dict = {\n",
    "    'Macrophage': ['CST3','TYROBP','SLA-DQB1','SLA-DRB1','SLA-DQA1','JUN'],\n",
    "    'T cells':['GPR183','SRGN','CCL5','CCR7'],\n",
    "    'B cells':['MZB1'],\n",
    "    'Endothelial cells': ['VWF', 'PECAM1','TM4SF1','MMRN1'],\n",
    "    'Peritubular myoid cells': ['MYH11','ACTA2','MCT7'],\n",
    "    'Pericytes':['RGS5','CCL2'],\n",
    "    'Smooth muscle cells':['CCL19'],\n",
    "    'Sertoli cells': ['SOX9','AMH','INHA','FATE1','CITED1','CLU','INHA'],\n",
    "    'Leydig cells': ['CYP17A1', 'CYP11A1','COL1A1','COL1A2','COL3A1','DCN'],\n",
    "    'Spermatogonia': ['DAZL','DDX4','UTF1','GFRA1','ETV5','BCL6B','PIWIL4','UCHL1','DMRT1', 'SOHLH1', 'MKI67','KIT','PIWIL2','UCHL1','STRA8'],\n",
    "    'Spermatocytes':['SYCP1', 'SYCP2', 'SYCP3','SMC1B', 'TEX101', 'ZCWPW1','ADAM2'],\n",
    "    'Round spermatids' : ['ACRV1','CLGN','DKKL1','PKD2L2','SPACA1','SPACA3','SPATA22'],\n",
    "    'Elongating spermatids': ['PRM1', 'PRM2', 'TNP1', 'TNP2'],\n",
    "}"
   ]
  },
  {
   "cell_type": "markdown",
   "id": "6c440e6c-2eb1-4052-964c-8e41c73f65bc",
   "metadata": {},
   "source": [
    "## Markers for annotation "
   ]
  },
  {
   "cell_type": "code",
   "execution_count": 8,
   "id": "2281b8c3-1833-4cdf-bc48-a171f8254e4f",
   "metadata": {},
   "outputs": [],
   "source": [
    "marker_genes_dict = {\n",
    "    'Macrophage': ['SLA-DQB1'],\n",
    "    'T cells':['GPR183'],\n",
    "    'B cells':['MZB1'],\n",
    "    'Endothelial cells': ['VWF', 'PECAM1','TM4SF1','MMRN1'],\n",
    "    'Peritubular myoid cells': ['MYH11','ACTA2'],\n",
    "    'Sertoli cells': ['SOX9','AMH','INHA','FATE1','CITED1','CLU','INHA'],\n",
    "    'Leydig cells': ['CYP17A1', 'CYP11A1'],\n",
    "    'Spermatogonia': ['DAZL','DDX4','UTF1','UCHL1','DMRT1', 'SOHLH1','KIT','PIWIL2','STRA8'],\n",
    "    'Spermatocytes':['SYCP1', 'SYCP2', 'SYCP3','SMC1B', 'TEX101', 'ZCWPW1','ADAM2'],\n",
    "    'Round spermatids' : ['CLGN','DKKL1','PKD2L2','SPACA1','SPACA3','SPATA22'],\n",
    "    'Elongating spermatids': ['PRM1', 'PRM2', 'TNP1', 'TNP2'],\n",
    "}"
   ]
  },
  {
   "cell_type": "code",
   "execution_count": 13,
   "id": "b1a281e8-57a5-45ac-8a5e-d5ab0d90b9bd",
   "metadata": {},
   "outputs": [
    {
     "name": "stdout",
     "output_type": "stream",
     "text": [
      "    using 'X_pca' with n_pcs = 50\n",
      "Storing dendrogram info using `.uns['dendrogram_leiden']`\n"
     ]
    }
   ],
   "source": [
    "sc.tl.dendrogram(adata,groupby='leiden')"
   ]
  },
  {
   "cell_type": "code",
   "execution_count": 18,
   "id": "c52c3d1f-2b57-4075-9aac-58e4e63d5be6",
   "metadata": {},
   "outputs": [
    {
     "name": "stdout",
     "output_type": "stream",
     "text": [
      "WARNING: Groups are not reordered because the `groupby` categories and the `var_group_labels` are different.\n",
      "categories: 0, 1, 2, etc.\n",
      "var_group_labels: Macrophage, T cells, B cells, etc.\n",
      "WARNING: saving figure to file figures/dotplot_adultleiden1220.pdf\n"
     ]
    }
   ],
   "source": [
    "sc.pl.dotplot(adata, marker_genes_dict, 'leiden', use_raw= True,dendrogram=True,save=\"adultleiden1220.pdf\")"
   ]
  },
  {
   "cell_type": "code",
   "execution_count": 19,
   "id": "5883aaa8-a7ef-4100-b311-09a7aea4b85a",
   "metadata": {},
   "outputs": [],
   "source": [
    "adata.write('./figures/adultreanalysis_unannatation1220.h5ad')"
   ]
  },
  {
   "cell_type": "code",
   "execution_count": 2,
   "id": "021de14f-a0b3-4357-acdb-e3bb1c9bbaed",
   "metadata": {},
   "outputs": [
    {
     "data": {
      "text/plain": [
       "AnnData object with n_obs × n_vars = 24967 × 2851\n",
       "    obs: 'n_genes', 'n_genes_by_counts', 'total_counts', 'total_counts_mt', 'pct_counts_mt', 'total_counts_chrX', 'pct_counts_chrX', 'total_counts_chrY', 'pct_counts_chrY', 'S_score', 'G2M_score', 'phase', 'doublet', 'doublet_score', 'leiden'\n",
       "    var: 'gene_ids', 'feature_types', 'genome', 'n_counts', 'mt', 'n_cells_by_counts', 'mean_counts', 'pct_dropout_by_counts', 'total_counts', 'chrX', 'chrY', 'highly_variable', 'means', 'dispersions', 'dispersions_norm', 'mean', 'std'\n",
       "    uns: 'dendrogram_leiden', 'hvg', 'leiden', 'leiden_colors', 'neighbors', 'pca', 'rank_genes_groups', 'tsne', 'umap'\n",
       "    obsm: 'X_pca', 'X_tsne', 'X_umap'\n",
       "    varm: 'PCs'\n",
       "    obsp: 'connectivities', 'distances'"
      ]
     },
     "execution_count": 2,
     "metadata": {},
     "output_type": "execute_result"
    }
   ],
   "source": [
    "adata = sc.read('./figures/adultreanalysis_unannatation1220.h5ad')\n",
    "adata"
   ]
  },
  {
   "cell_type": "code",
   "execution_count": 4,
   "id": "fd64fbe8-ff2d-4c99-a391-d8f47543d7ac",
   "metadata": {},
   "outputs": [
    {
     "name": "stdout",
     "output_type": "stream",
     "text": [
      "WARNING: Groups are not reordered because the `groupby` categories and the `var_group_labels` are different.\n",
      "categories: 0, 1, 2, etc.\n",
      "var_group_labels: Macrophage, T cells, B cells, etc.\n",
      "WARNING: saving figure to file figures/dotplot_adultleiden1220.pdf\n"
     ]
    }
   ],
   "source": [
    "sc.pl.dotplot(adata, marker_genes_dict, 'leiden', use_raw= True,dendrogram=True,save=\"adultleiden1220.pdf\")"
   ]
  },
  {
   "cell_type": "code",
   "execution_count": 5,
   "id": "8aeaa18a-403e-431d-b215-dac62ce8dee8",
   "metadata": {},
   "outputs": [],
   "source": [
    "cluster2annotation = {\n",
    "     '0': 'Endothelial cells',\n",
    "     '1': 'T cells',\n",
    "     '2': 'T cells',\n",
    "     '3': 'Peritubular myoid cells',\n",
    "     '4': 'T cells',\n",
    "     '5': 'Endothelial cells',\n",
    "     '6': 'Sertoli cells',\n",
    "     '7': 'Peritubular myoid cells',\n",
    "     '8': 'Endothelial cells',\n",
    "     '9': 'Endothelial cells',\n",
    "     '10': 'T cells',\n",
    "     '11': 'Spermatogonia',\n",
    "     '12': 'Round spermatids',\n",
    "     '13': 'unknown',\n",
    "     '14': 'Round spermatids',\n",
    "     '15': 'T cells',\n",
    "     '16': 'Spermatocytes',\n",
    "     '17': 'Peritubular myoid cells',\n",
    "     '18': 'Peritubular myoid cells',\n",
    "     '19': 'Macrophage',\n",
    "     '20': 'Peritubular myoid cells',\n",
    "     '21': 'Macrophage',\n",
    "     '22': 'T cells',\n",
    "     '23': 'Round spermatids',\n",
    "     '24': 'Round spermatids',\n",
    "     '25': 'Macrophage',\n",
    "     '26': 'Elongating spermatids',\n",
    "     '27': 'Round spermatids',\n",
    "     '28': 'T cells',\n",
    "     '29': 'B cells',     \n",
    "     '30': 'others',\n",
    "     '31': 'Leydig cells',\n",
    "     '32': 'Endothelial cells',\n",
    "}\n",
    "adata.obs['cell_type'] = adata.obs['leiden'].map(cluster2annotation).astype('category')"
   ]
  },
  {
   "cell_type": "code",
   "execution_count": 6,
   "id": "e3f66743-68c3-47f5-8a9c-5e8609339973",
   "metadata": {},
   "outputs": [
    {
     "data": {
      "text/plain": [
       "AAACCCAAGACCATTC-1    Peritubular myoid cells\n",
       "AAACCCAAGACGAAGA-1                    T cells\n",
       "AAACCCAAGATGTAGT-1           Round spermatids\n",
       "AAACCCAAGCCGCTTG-1           Round spermatids\n",
       "AAACCCAAGGATCATA-1          Endothelial cells\n",
       "                               ...           \n",
       "TTTGTTGTCAGCTTGA-1                    T cells\n",
       "TTTGTTGTCCGACAGC-1                    T cells\n",
       "TTTGTTGTCGATGCAT-1          Endothelial cells\n",
       "TTTGTTGTCGCGTTTC-1          Endothelial cells\n",
       "TTTGTTGTCTGTCCCA-1    Peritubular myoid cells\n",
       "Name: cell_type, Length: 24967, dtype: category\n",
       "Categories (13, object): ['B cells', 'Elongating spermatids', 'Endothelial cells', 'Leydig cells', ..., 'Spermatogonia', 'T cells', 'others', 'unknown']"
      ]
     },
     "execution_count": 6,
     "metadata": {},
     "output_type": "execute_result"
    }
   ],
   "source": [
    "adata.obs.cell_type"
   ]
  },
  {
   "cell_type": "code",
   "execution_count": 13,
   "id": "2bb2c623-ca9c-4ff1-a827-0fba74d8af8e",
   "metadata": {},
   "outputs": [
    {
     "name": "stdout",
     "output_type": "stream",
     "text": [
      "WARNING: saving figure to file figures/umapadultPKD2L2TNP1226.pdf\n"
     ]
    }
   ],
   "source": [
    "sc.settings.set_figure_params(dpi = 50, dpi_save = 600, figsize = (4, 4))\n",
    "sc.pl.umap(adata, color=['PKD2L2','TNP1'], frameon=True, legend_loc= \"right margin\", legend_fontsize=10, legend_fontweight=\"normal\", legend_fontoutline=2, save=\"adultPKD2L2TNP1226.pdf\")"
   ]
  },
  {
   "cell_type": "code",
   "execution_count": 9,
   "id": "8cc3f7aa-fb7d-4ea2-8b66-67a40c752691",
   "metadata": {},
   "outputs": [
    {
     "name": "stdout",
     "output_type": "stream",
     "text": [
      "WARNING: saving figure to file figures/umapadultcelltype1221.pdf\n"
     ]
    }
   ],
   "source": [
    "sc.settings.set_figure_params(dpi = 50, dpi_save = 600, figsize = (4, 4))\n",
    "sc.pl.umap(adata, color=['leiden', 'cell_type'], frameon=True, legend_loc= \"right margin\", legend_fontsize=10, legend_fontweight=\"normal\", legend_fontoutline=2, save=\"adultcelltype1221.pdf\")"
   ]
  },
  {
   "cell_type": "code",
   "execution_count": 8,
   "id": "ed4d7a7e-284d-4f0c-9f1d-7648073098d0",
   "metadata": {},
   "outputs": [],
   "source": [
    "original_order = ['B cells', 'Elongating spermatids', 'Endothelial cells', 'Leydig cells','Macrophage','Peritubular myoid cells',\n",
    "                 'Round spermatids','Sertoli cells','Spermatocytes','Spermatogonia', 'T cells', 'others', 'unknown']\n",
    "adata.obs['cell_type'] = adata.obs['cell_type'].cat.set_categories(['Macrophage', 'T cells', 'B cells','Endothelial cells', 'Peritubular myoid cells', \n",
    "                                                                    'Sertoli cells', 'Leydig cells', 'Spermatogonia', \n",
    "                                                                    'Spermatocytes','Round spermatids','Elongating spermatids','others', 'unknown'])"
   ]
  },
  {
   "cell_type": "code",
   "execution_count": 11,
   "id": "3d37c013-0957-4ee1-b99c-17b1514d6c93",
   "metadata": {},
   "outputs": [
    {
     "name": "stdout",
     "output_type": "stream",
     "text": [
      "WARNING: saving figure to file figures/umapadultcelltyperight1221.pdf\n"
     ]
    }
   ],
   "source": [
    "sc.pl.umap(adata, color='cell_type', frameon=True, legend_loc= \"right margin\", legend_fontsize=10, legend_fontweight=\"normal\", legend_fontoutline=2, save=\"adultcelltyperight1221.pdf\")"
   ]
  },
  {
   "cell_type": "code",
   "execution_count": 12,
   "id": "14bcbd51-9e33-43c4-8802-8a5a454fd5ea",
   "metadata": {},
   "outputs": [
    {
     "name": "stdout",
     "output_type": "stream",
     "text": [
      "WARNING: saving figure to file figures/umapadultleidenright1221.pdf\n"
     ]
    }
   ],
   "source": [
    "sc.pl.umap(adata, color='leiden', frameon=True, legend_loc= \"right margin\", legend_fontsize=10, legend_fontweight=\"normal\", legend_fontoutline=2, save=\"adultleidenright1221.pdf\")"
   ]
  },
  {
   "cell_type": "code",
   "execution_count": 9,
   "id": "6d56ab06-0401-4227-a91a-bfb22221295c",
   "metadata": {},
   "outputs": [
    {
     "name": "stdout",
     "output_type": "stream",
     "text": [
      "WARNING: saving figure to file figures/dotplot_adultcelltype1220.pdf\n"
     ]
    }
   ],
   "source": [
    "sc.pl.dotplot(adata, marker_genes_dict, groupby='cell_type', use_raw= True,dendrogram=False,save=\"adultcelltype1220.pdf\")"
   ]
  },
  {
   "cell_type": "code",
   "execution_count": 16,
   "id": "9fc72316-0e18-4612-bdd4-3fbb8aecfc12",
   "metadata": {},
   "outputs": [
    {
     "name": "stdout",
     "output_type": "stream",
     "text": [
      "    using 'X_pca' with n_pcs = 50\n",
      "Storing dendrogram info using `.uns['dendrogram_cell_type']`\n"
     ]
    }
   ],
   "source": [
    "sc.tl.dendrogram(adata,groupby='cell_type',use_raw=True)"
   ]
  },
  {
   "cell_type": "code",
   "execution_count": 19,
   "id": "bb666d50-58e7-4898-b4df-126d554a37b9",
   "metadata": {},
   "outputs": [
    {
     "name": "stdout",
     "output_type": "stream",
     "text": [
      "ranking genes\n",
      "    finished: added to `.uns['rank_genes_groups']`\n",
      "    'names', sorted np.recarray to be indexed by group ids\n",
      "    'scores', sorted np.recarray to be indexed by group ids\n",
      "    'logfoldchanges', sorted np.recarray to be indexed by group ids\n",
      "    'pvals', sorted np.recarray to be indexed by group ids\n",
      "    'pvals_adj', sorted np.recarray to be indexed by group ids (0:03:31)\n",
      "WARNING: saving figure to file figures/dotplot_adultnewmarkers1221.pdf\n"
     ]
    }
   ],
   "source": [
    "sc.tl.rank_genes_groups(adata, groupby='cell_type', method='wilcoxon')\n",
    "sc.pl.rank_genes_groups_dotplot(adata, n_genes=5, values_to_plot='logfoldchanges',dendrogram=False, min_logfoldchange=3, vmax=7, vmin=-7, cmap='bwr', save=\"adultnewmarkers1221.pdf\")"
   ]
  },
  {
   "cell_type": "code",
   "execution_count": 20,
   "id": "000b774d-aca4-4f10-9139-f98321581eac",
   "metadata": {},
   "outputs": [],
   "source": [
    "pd.DataFrame(adata.uns['rank_genes_groups']['names']).head(5)\n",
    "adata.uns['rank_genes_groups'].keys()\n",
    "#dict_keys(['logfoldchanges', 'names', 'params', 'pvals', 'pvals_adj', 'scores'])\n",
    "result = adata.uns['rank_genes_groups']\n",
    "groups = result['names'].dtype.names\n",
    "pd.DataFrame(\n",
    "    {group + '_' + key[:1]: result[key][group]\n",
    "    for group in groups for key in ['names', 'pvals']}).head(5)\n",
    "res = pd.DataFrame(    \n",
    "    {group + '_' + key: result[key][group]    \n",
    "    for group in groups for key in ['names', 'pvals','logfoldchanges','pvals_adj','scores']})\n",
    "res.to_csv(\"./figures/diff_rank_genes_groups_adultcelltype1221.csv\")"
   ]
  },
  {
   "cell_type": "code",
   "execution_count": 21,
   "id": "755f0f83-91ff-4521-9572-498cb770d378",
   "metadata": {},
   "outputs": [
    {
     "name": "stdout",
     "output_type": "stream",
     "text": [
      "WARNING: saving figure to file figures/heatmapadultcelltypemarker1221.pdf\n"
     ]
    }
   ],
   "source": [
    "ax = sc.pl.heatmap(adata, marker_genes_dict, groupby='cell_type', vmin=-2, vmax=2, cmap='RdBu_r', dendrogram=False, swap_axes=True, figsize=(11,8),save='adultcelltypemarker1221.pdf')"
   ]
  },
  {
   "cell_type": "code",
   "execution_count": 38,
   "id": "e8a22e9c-99bb-4fec-bd41-3f34343fc81b",
   "metadata": {},
   "outputs": [
    {
     "name": "stdout",
     "output_type": "stream",
     "text": [
      "WARNING: saving figure to file figures/violinadultmetrics1214.pdf\n",
      "WARNING: saving figure to file figures/umapadultfig2a1214.pdf\n",
      "WARNING: Gene labels are not shown when more than 50 genes are visualized. To show gene labels set `show_gene_labels=True`\n",
      "WARNING: saving figure to file figures/heatmapfig1dadult1214.pdf\n",
      "WARNING: saving figure to file figures/heatmapadultmarker1214.pdf\n"
     ]
    }
   ],
   "source": [
    "from matplotlib.pyplot import rc_context\n",
    "with rc_context({'figure.figsize': (4.5, 3)}):\n",
    "    sc.pl.violin(adata, ['n_genes','total_counts', 'pct_counts_mt', 'pct_counts_chrX', 'pct_counts_chrY'], groupby='cell_type', rotation=90, stripplot=False, inner='box', save = \"adultmetrics1214.pdf\")\n",
    "\n",
    "sc.pl.rank_genes_groups_heatmap(adata, vmin=-2, vmax=2, cmap='RdBu_r', show=False,dendrogram=False, save = \"fig1dadult1214.pdf\")\n",
    "ax = sc.pl.heatmap(adata, marker_genes_dict, groupby='cell_type', vmin=-2, vmax=2, cmap='RdBu_r', dendrogram=False, swap_axes=True, figsize=(11,8),save='adultmarker1214.pdf')"
   ]
  },
  {
   "cell_type": "code",
   "execution_count": 22,
   "id": "8f07e3fb-0d99-4552-99d6-b0d9ecab1fe7",
   "metadata": {},
   "outputs": [
    {
     "name": "stdout",
     "output_type": "stream",
     "text": [
      "WARNING: saving figure to file figures/violinadultmetrics1221.pdf\n"
     ]
    }
   ],
   "source": [
    "from matplotlib.pyplot import rc_context\n",
    "with rc_context({'figure.figsize': (4.5, 3)}):\n",
    "    sc.pl.violin(adata, ['n_genes','total_counts', 'pct_counts_mt'], groupby='cell_type', rotation=90, stripplot=False, inner='box', save = \"adultmetrics1221.pdf\")"
   ]
  },
  {
   "cell_type": "code",
   "execution_count": 10,
   "id": "8c8b0ba8-3f7b-40a5-ada9-9ab8cea6160b",
   "metadata": {},
   "outputs": [
    {
     "name": "stdout",
     "output_type": "stream",
     "text": [
      "WARNING: saving figure to file figures/violinadultmetricsxy1221.pdf\n"
     ]
    }
   ],
   "source": [
    "from matplotlib.pyplot import rc_context\n",
    "with rc_context({'figure.figsize': (4.5, 3)}):\n",
    "    sc.pl.violin(adata, ['pct_counts_mt','pct_counts_chrX', 'pct_counts_chrY'], groupby='cell_type', rotation=90, stripplot=False, inner='box', save = \"adultmetricsxy1221.pdf\")"
   ]
  },
  {
   "cell_type": "code",
   "execution_count": 29,
   "id": "5a08dde9-6bfb-4546-a782-7f76db6c5573",
   "metadata": {},
   "outputs": [
    {
     "name": "stdout",
     "output_type": "stream",
     "text": [
      "WARNING: Gene labels are not shown when more than 50 genes are visualized. To show gene labels set `show_gene_labels=True`\n",
      "WARNING: saving figure to file figures/heatmapfig1useraw1221.pdf\n"
     ]
    },
    {
     "data": {
      "text/plain": [
       "{'heatmap_ax': <AxesSubplot:>,\n",
       " 'groupby_ax': <AxesSubplot:ylabel='cell_type'>,\n",
       " 'gene_groups_ax': <AxesSubplot:>}"
      ]
     },
     "execution_count": 29,
     "metadata": {},
     "output_type": "execute_result"
    }
   ],
   "source": [
    "sc.pl.rank_genes_groups_heatmap(adata, use_raw=True, vmin=-5, vmax=5,min_logfoldchange=2,groupby='cell_type', cmap='RdBu_r', show=False,dendrogram=False, save = \"fig1useraw1221.pdf\")"
   ]
  },
  {
   "cell_type": "code",
   "execution_count": 30,
   "id": "69d08200-0ec0-46f4-b4bb-677fb4464c05",
   "metadata": {},
   "outputs": [
    {
     "name": "stdout",
     "output_type": "stream",
     "text": [
      "WARNING: saving figure to file figures/umapadultmks1221.pdf\n"
     ]
    }
   ],
   "source": [
    "marker_genes = [\"SLA-DQB1\", \"GPR183\",'MZB1', \"VWF\", 'ACTA2', \"FATE1\", \"CYP17A1\",'DMRT1',\"SYCP2\", \"PKD2L2\",\"PRM1\",\"TNP1\"]\n",
    "sc.pl.umap(adata, color = marker_genes, ncols=6, save=\"adultmks1221.pdf\")"
   ]
  },
  {
   "cell_type": "code",
   "execution_count": 31,
   "id": "17984b65-d8a0-421e-ae03-acd59f883c11",
   "metadata": {},
   "outputs": [],
   "source": [
    "adata.write('./figures/adultreanalysis_annatation1221.h5ad')"
   ]
  },
  {
   "cell_type": "code",
   "execution_count": 2,
   "id": "789cd25f-2ff2-4a54-b90d-c0a031d263af",
   "metadata": {},
   "outputs": [],
   "source": [
    "adata = sc.read('./figures/adultreanalysis_annatation1221.h5ad') "
   ]
  },
  {
   "cell_type": "code",
   "execution_count": 7,
   "id": "a2782033-c344-41ca-98ed-6ec584354302",
   "metadata": {},
   "outputs": [
    {
     "data": {
      "text/plain": [
       "AAACCCAAGACCATTC-1    Peritubular myoid cells\n",
       "AAACCCAAGACGAAGA-1                    T cells\n",
       "AAACCCAAGATGTAGT-1           Round spermatids\n",
       "AAACCCAAGCCGCTTG-1           Round spermatids\n",
       "AAACCCAAGGATCATA-1          Endothelial cells\n",
       "                               ...           \n",
       "TTTGTTGTCAGCTTGA-1                    T cells\n",
       "TTTGTTGTCCGACAGC-1                    T cells\n",
       "TTTGTTGTCGATGCAT-1          Endothelial cells\n",
       "TTTGTTGTCGCGTTTC-1          Endothelial cells\n",
       "TTTGTTGTCTGTCCCA-1    Peritubular myoid cells\n",
       "Name: cell_type, Length: 24967, dtype: category\n",
       "Categories (13, object): ['Macrophage', 'T cells', 'B cells', 'Endothelial cells', ..., 'Round spermatids', 'Elongating spermatids', 'others', 'unknown']"
      ]
     },
     "execution_count": 7,
     "metadata": {},
     "output_type": "execute_result"
    }
   ],
   "source": [
    "adata.obs.cell_type"
   ]
  },
  {
   "cell_type": "markdown",
   "id": "585b5fbb-572e-4924-9836-1161483ddf38",
   "metadata": {},
   "source": [
    "## adata提取矩阵以及meta信息用于seurat对象的构建（seuratdisk报错时备用方案）;\n",
    "## 该方案会丢失掉所有的信息，除了obs以及var"
   ]
  },
  {
   "cell_type": "code",
   "execution_count": 2,
   "id": "45e371ce-24a5-459b-aee8-ab875495c836",
   "metadata": {},
   "outputs": [
    {
     "data": {
      "text/plain": [
       "AnnData object with n_obs × n_vars = 799 × 2851\n",
       "    obs: 'n_genes', 'n_genes_by_counts', 'total_counts', 'total_counts_mt', 'pct_counts_mt', 'total_counts_chrX', 'pct_counts_chrX', 'total_counts_chrY', 'pct_counts_chrY', 'S_score', 'G2M_score', 'phase', 'doublet', 'doublet_score', 'leiden', 'cell_type'\n",
       "    var: 'gene_ids', 'feature_types', 'genome', 'n_counts', 'mt', 'n_cells_by_counts', 'mean_counts', 'pct_dropout_by_counts', 'total_counts', 'chrX', 'chrY', 'highly_variable', 'means', 'dispersions', 'dispersions_norm', 'mean', 'std'\n",
       "    uns: 'cell_type_colors', 'dendrogram_cell_type', 'dendrogram_leiden', 'hvg', 'leiden', 'leiden_colors', 'neighbors', 'pca', 'rank_genes_groups', 'tsne', 'umap'\n",
       "    obsm: 'X_pca', 'X_tsne', 'X_umap'\n",
       "    varm: 'PCs'\n",
       "    obsp: 'connectivities', 'distances'"
      ]
     },
     "execution_count": 2,
     "metadata": {},
     "output_type": "execute_result"
    }
   ],
   "source": [
    "adata = sc.read('./figures/adultspermatogonia_1221unannotation.h5ad')\n",
    "adata"
   ]
  },
  {
   "cell_type": "markdown",
   "id": "fadae2af-8ed9-488f-91eb-c89b8c538ccc",
   "metadata": {},
   "source": [
    "## 提取原始数据"
   ]
  },
  {
   "cell_type": "code",
   "execution_count": 3,
   "id": "17a45f7d-4cea-4fc4-8d79-0db846d9fee1",
   "metadata": {},
   "outputs": [],
   "source": [
    "adata = adata.raw.to_adata()"
   ]
  },
  {
   "cell_type": "code",
   "execution_count": 4,
   "id": "b461cb38-63c9-4d3b-9ca1-1a1375cce9af",
   "metadata": {},
   "outputs": [
    {
     "data": {
      "text/html": [
       "<div>\n",
       "<style scoped>\n",
       "    .dataframe tbody tr th:only-of-type {\n",
       "        vertical-align: middle;\n",
       "    }\n",
       "\n",
       "    .dataframe tbody tr th {\n",
       "        vertical-align: top;\n",
       "    }\n",
       "\n",
       "    .dataframe thead th {\n",
       "        text-align: right;\n",
       "    }\n",
       "</style>\n",
       "<table border=\"1\" class=\"dataframe\">\n",
       "  <thead>\n",
       "    <tr style=\"text-align: right;\">\n",
       "      <th></th>\n",
       "      <th>gene_ids</th>\n",
       "      <th>feature_types</th>\n",
       "      <th>genome</th>\n",
       "      <th>n_counts</th>\n",
       "      <th>mt</th>\n",
       "      <th>n_cells_by_counts</th>\n",
       "      <th>mean_counts</th>\n",
       "      <th>pct_dropout_by_counts</th>\n",
       "      <th>total_counts</th>\n",
       "      <th>chrX</th>\n",
       "      <th>chrY</th>\n",
       "      <th>highly_variable</th>\n",
       "      <th>means</th>\n",
       "      <th>dispersions</th>\n",
       "      <th>dispersions_norm</th>\n",
       "    </tr>\n",
       "  </thead>\n",
       "  <tbody>\n",
       "    <tr>\n",
       "      <th>LOC100125545</th>\n",
       "      <td>100125545</td>\n",
       "      <td>Gene Expression</td>\n",
       "      <td>Sus_scrofa</td>\n",
       "      <td>8482.0</td>\n",
       "      <td>False</td>\n",
       "      <td>5194</td>\n",
       "      <td>0.228250</td>\n",
       "      <td>86.022981</td>\n",
       "      <td>8482.0</td>\n",
       "      <td>False</td>\n",
       "      <td>False</td>\n",
       "      <td>True</td>\n",
       "      <td>0.137183</td>\n",
       "      <td>2.011287</td>\n",
       "      <td>0.571916</td>\n",
       "    </tr>\n",
       "    <tr>\n",
       "      <th>TBP</th>\n",
       "      <td>110259740</td>\n",
       "      <td>Gene Expression</td>\n",
       "      <td>Sus_scrofa</td>\n",
       "      <td>5645.0</td>\n",
       "      <td>False</td>\n",
       "      <td>3918</td>\n",
       "      <td>0.151907</td>\n",
       "      <td>89.456688</td>\n",
       "      <td>5645.0</td>\n",
       "      <td>False</td>\n",
       "      <td>False</td>\n",
       "      <td>True</td>\n",
       "      <td>0.086764</td>\n",
       "      <td>2.044371</td>\n",
       "      <td>0.644908</td>\n",
       "    </tr>\n",
       "    <tr>\n",
       "      <th>PSMB1</th>\n",
       "      <td>100621969</td>\n",
       "      <td>Gene Expression</td>\n",
       "      <td>Sus_scrofa</td>\n",
       "      <td>69564.0</td>\n",
       "      <td>False</td>\n",
       "      <td>18670</td>\n",
       "      <td>1.871963</td>\n",
       "      <td>49.759156</td>\n",
       "      <td>69564.0</td>\n",
       "      <td>False</td>\n",
       "      <td>False</td>\n",
       "      <td>False</td>\n",
       "      <td>0.984814</td>\n",
       "      <td>1.782229</td>\n",
       "      <td>-0.750090</td>\n",
       "    </tr>\n",
       "    <tr>\n",
       "      <th>FAM120B</th>\n",
       "      <td>100620583</td>\n",
       "      <td>Gene Expression</td>\n",
       "      <td>Sus_scrofa</td>\n",
       "      <td>5143.0</td>\n",
       "      <td>False</td>\n",
       "      <td>3853</td>\n",
       "      <td>0.138398</td>\n",
       "      <td>89.631603</td>\n",
       "      <td>5143.0</td>\n",
       "      <td>False</td>\n",
       "      <td>False</td>\n",
       "      <td>False</td>\n",
       "      <td>0.134131</td>\n",
       "      <td>1.738373</td>\n",
       "      <td>-0.030199</td>\n",
       "    </tr>\n",
       "    <tr>\n",
       "      <th>DLL1</th>\n",
       "      <td>100620481</td>\n",
       "      <td>Gene Expression</td>\n",
       "      <td>Sus_scrofa</td>\n",
       "      <td>1691.0</td>\n",
       "      <td>False</td>\n",
       "      <td>1386</td>\n",
       "      <td>0.045505</td>\n",
       "      <td>96.270283</td>\n",
       "      <td>1691.0</td>\n",
       "      <td>False</td>\n",
       "      <td>False</td>\n",
       "      <td>False</td>\n",
       "      <td>0.074631</td>\n",
       "      <td>1.954526</td>\n",
       "      <td>0.446689</td>\n",
       "    </tr>\n",
       "    <tr>\n",
       "      <th>...</th>\n",
       "      <td>...</td>\n",
       "      <td>...</td>\n",
       "      <td>...</td>\n",
       "      <td>...</td>\n",
       "      <td>...</td>\n",
       "      <td>...</td>\n",
       "      <td>...</td>\n",
       "      <td>...</td>\n",
       "      <td>...</td>\n",
       "      <td>...</td>\n",
       "      <td>...</td>\n",
       "      <td>...</td>\n",
       "      <td>...</td>\n",
       "      <td>...</td>\n",
       "      <td>...</td>\n",
       "    </tr>\n",
       "    <tr>\n",
       "      <th>LOC110259197</th>\n",
       "      <td>110259197</td>\n",
       "      <td>Gene Expression</td>\n",
       "      <td>Sus_scrofa</td>\n",
       "      <td>7.0</td>\n",
       "      <td>False</td>\n",
       "      <td>7</td>\n",
       "      <td>0.000188</td>\n",
       "      <td>99.981163</td>\n",
       "      <td>7.0</td>\n",
       "      <td>False</td>\n",
       "      <td>False</td>\n",
       "      <td>False</td>\n",
       "      <td>0.000210</td>\n",
       "      <td>1.005811</td>\n",
       "      <td>-1.646413</td>\n",
       "    </tr>\n",
       "    <tr>\n",
       "      <th>LOC110259191</th>\n",
       "      <td>110259191</td>\n",
       "      <td>Gene Expression</td>\n",
       "      <td>Sus_scrofa</td>\n",
       "      <td>26.0</td>\n",
       "      <td>False</td>\n",
       "      <td>26</td>\n",
       "      <td>0.000700</td>\n",
       "      <td>99.930034</td>\n",
       "      <td>26.0</td>\n",
       "      <td>False</td>\n",
       "      <td>False</td>\n",
       "      <td>False</td>\n",
       "      <td>0.000626</td>\n",
       "      <td>1.652532</td>\n",
       "      <td>-0.219585</td>\n",
       "    </tr>\n",
       "    <tr>\n",
       "      <th>LOC110259195</th>\n",
       "      <td>110259195</td>\n",
       "      <td>Gene Expression</td>\n",
       "      <td>Sus_scrofa</td>\n",
       "      <td>3.0</td>\n",
       "      <td>False</td>\n",
       "      <td>3</td>\n",
       "      <td>0.000081</td>\n",
       "      <td>99.991927</td>\n",
       "      <td>3.0</td>\n",
       "      <td>False</td>\n",
       "      <td>False</td>\n",
       "      <td>False</td>\n",
       "      <td>0.000612</td>\n",
       "      <td>2.152897</td>\n",
       "      <td>0.884344</td>\n",
       "    </tr>\n",
       "    <tr>\n",
       "      <th>LOC110259193</th>\n",
       "      <td>110259193</td>\n",
       "      <td>Gene Expression</td>\n",
       "      <td>Sus_scrofa</td>\n",
       "      <td>9.0</td>\n",
       "      <td>False</td>\n",
       "      <td>9</td>\n",
       "      <td>0.000242</td>\n",
       "      <td>99.975781</td>\n",
       "      <td>9.0</td>\n",
       "      <td>False</td>\n",
       "      <td>False</td>\n",
       "      <td>False</td>\n",
       "      <td>0.000089</td>\n",
       "      <td>0.115056</td>\n",
       "      <td>-3.611642</td>\n",
       "    </tr>\n",
       "    <tr>\n",
       "      <th>LOC110259200</th>\n",
       "      <td>110259200</td>\n",
       "      <td>Gene Expression</td>\n",
       "      <td>Sus_scrofa</td>\n",
       "      <td>20.0</td>\n",
       "      <td>False</td>\n",
       "      <td>20</td>\n",
       "      <td>0.000538</td>\n",
       "      <td>99.946180</td>\n",
       "      <td>20.0</td>\n",
       "      <td>False</td>\n",
       "      <td>False</td>\n",
       "      <td>False</td>\n",
       "      <td>0.000129</td>\n",
       "      <td>0.269348</td>\n",
       "      <td>-3.271236</td>\n",
       "    </tr>\n",
       "  </tbody>\n",
       "</table>\n",
       "<p>19297 rows × 15 columns</p>\n",
       "</div>"
      ],
      "text/plain": [
       "               gene_ids    feature_types      genome  n_counts     mt  \\\n",
       "LOC100125545  100125545  Gene Expression  Sus_scrofa    8482.0  False   \n",
       "TBP           110259740  Gene Expression  Sus_scrofa    5645.0  False   \n",
       "PSMB1         100621969  Gene Expression  Sus_scrofa   69564.0  False   \n",
       "FAM120B       100620583  Gene Expression  Sus_scrofa    5143.0  False   \n",
       "DLL1          100620481  Gene Expression  Sus_scrofa    1691.0  False   \n",
       "...                 ...              ...         ...       ...    ...   \n",
       "LOC110259197  110259197  Gene Expression  Sus_scrofa       7.0  False   \n",
       "LOC110259191  110259191  Gene Expression  Sus_scrofa      26.0  False   \n",
       "LOC110259195  110259195  Gene Expression  Sus_scrofa       3.0  False   \n",
       "LOC110259193  110259193  Gene Expression  Sus_scrofa       9.0  False   \n",
       "LOC110259200  110259200  Gene Expression  Sus_scrofa      20.0  False   \n",
       "\n",
       "              n_cells_by_counts  mean_counts  pct_dropout_by_counts  \\\n",
       "LOC100125545               5194     0.228250              86.022981   \n",
       "TBP                        3918     0.151907              89.456688   \n",
       "PSMB1                     18670     1.871963              49.759156   \n",
       "FAM120B                    3853     0.138398              89.631603   \n",
       "DLL1                       1386     0.045505              96.270283   \n",
       "...                         ...          ...                    ...   \n",
       "LOC110259197                  7     0.000188              99.981163   \n",
       "LOC110259191                 26     0.000700              99.930034   \n",
       "LOC110259195                  3     0.000081              99.991927   \n",
       "LOC110259193                  9     0.000242              99.975781   \n",
       "LOC110259200                 20     0.000538              99.946180   \n",
       "\n",
       "              total_counts   chrX   chrY  highly_variable     means  \\\n",
       "LOC100125545        8482.0  False  False             True  0.137183   \n",
       "TBP                 5645.0  False  False             True  0.086764   \n",
       "PSMB1              69564.0  False  False            False  0.984814   \n",
       "FAM120B             5143.0  False  False            False  0.134131   \n",
       "DLL1                1691.0  False  False            False  0.074631   \n",
       "...                    ...    ...    ...              ...       ...   \n",
       "LOC110259197           7.0  False  False            False  0.000210   \n",
       "LOC110259191          26.0  False  False            False  0.000626   \n",
       "LOC110259195           3.0  False  False            False  0.000612   \n",
       "LOC110259193           9.0  False  False            False  0.000089   \n",
       "LOC110259200          20.0  False  False            False  0.000129   \n",
       "\n",
       "              dispersions  dispersions_norm  \n",
       "LOC100125545     2.011287          0.571916  \n",
       "TBP              2.044371          0.644908  \n",
       "PSMB1            1.782229         -0.750090  \n",
       "FAM120B          1.738373         -0.030199  \n",
       "DLL1             1.954526          0.446689  \n",
       "...                   ...               ...  \n",
       "LOC110259197     1.005811         -1.646413  \n",
       "LOC110259191     1.652532         -0.219585  \n",
       "LOC110259195     2.152897          0.884344  \n",
       "LOC110259193     0.115056         -3.611642  \n",
       "LOC110259200     0.269348         -3.271236  \n",
       "\n",
       "[19297 rows x 15 columns]"
      ]
     },
     "execution_count": 4,
     "metadata": {},
     "output_type": "execute_result"
    }
   ],
   "source": [
    "adata.var"
   ]
  },
  {
   "cell_type": "code",
   "execution_count": 54,
   "id": "b4bf3d28-57f2-48f0-988b-a172dfe9ee7a",
   "metadata": {},
   "outputs": [],
   "source": [
    "## from scipy.sparse import csr_matrix\n",
    "mat=pd.DataFrame(data=adata.X.todense(),index=adata.obs_names,columns=adata.var_names)"
   ]
  },
  {
   "cell_type": "code",
   "execution_count": 55,
   "id": "0882d8a3-7b12-43e9-925f-e96f93a3ab52",
   "metadata": {},
   "outputs": [],
   "source": [
    "mat.to_csv('./figures/mat.csv')"
   ]
  },
  {
   "cell_type": "code",
   "execution_count": 56,
   "id": "248ddb59-dc5f-4e6c-9fed-cbe179839bf1",
   "metadata": {},
   "outputs": [],
   "source": [
    "meta = pd.DataFrame(data = adata.obs) \n",
    "meta.to_csv('./figures/metadata.tsv',sep=\"\\t\")"
   ]
  },
  {
   "cell_type": "markdown",
   "id": "18bb5f65-2eb0-46cb-b939-d83aaa9fd0d9",
   "metadata": {},
   "source": [
    "## Scvelo"
   ]
  },
  {
   "cell_type": "code",
   "execution_count": 5,
   "id": "894d3772-c310-4ceb-b4e4-83e637afdd66",
   "metadata": {},
   "outputs": [
    {
     "name": "stdout",
     "output_type": "stream",
     "text": [
      "Running scvelo 0.2.4 (python 3.9.7) on 2022-12-23 19:50.\n"
     ]
    }
   ],
   "source": [
    "import scvelo as scv\n",
    "scv.logging.print_version()\n",
    "scv.settings.verbosity = 3  # show errors(0), warnings(1), info(2), hints(3)\n",
    "scv.settings.presenter_view = True  # set max width size for presenter view\n",
    "scv.settings.set_figure_params('scvelo')  # for beautified visualizationscv.settings.set_figure_params('scvelo') "
   ]
  },
  {
   "cell_type": "code",
   "execution_count": 6,
   "id": "261a1403-bbb8-4941-8800-e9c011523379",
   "metadata": {},
   "outputs": [
    {
     "name": "stdout",
     "output_type": "stream",
     "text": [
      "... reading from cache file cache/Adult-Adult.h5ad\n"
     ]
    },
    {
     "name": "stderr",
     "output_type": "stream",
     "text": [
      "ERROR: XMLRPC request failed [code: -32500]\n",
      "RuntimeError: PyPI no longer supports 'pip search' (or XML-RPC search). Please use https://pypi.org/search (via a browser) instead. See https://warehouse.pypa.io/api-reference/xml-rpc.html#deprecated-methods for more information.\n"
     ]
    },
    {
     "name": "stdout",
     "output_type": "stream",
     "text": [
      "saving figure to file ./figures/proportions.pdf\n",
      "saving figure to file ./figures/spermatogoniaspliced.pdf\n",
      "Filtered out 11748 genes that are detected 20 counts (shared).\n",
      "WARNING: Did not normalize X as it looks processed already. To enforce normalization, set `enforce=True`.\n",
      "Normalized count data: spliced, unspliced.\n",
      "Extracted 2000 highly variable genes.\n",
      "WARNING: Did not modify X as it looks preprocessed already.\n",
      "computing neighbors\n",
      "    finished (0:00:03) --> added \n",
      "    'distances' and 'connectivities', weighted adjacency matrices (adata.obsp)\n",
      "computing moments based on connectivities\n",
      "    finished (0:00:00) --> added \n",
      "    'Ms' and 'Mu', moments of un/spliced abundances (adata.layers)\n"
     ]
    }
   ],
   "source": [
    "adata_loom = scv.read('./Adult/Adult.loom', cache=True)\n",
    "scv.pl.proportions(adata_loom,save=\"./figures/proportions.pdf\")\n",
    "adata = scv.utils.merge(adata, adata_loom)\n",
    "scv.pl.proportions(\n",
    "    adata,\n",
    "    groupby='leiden',\n",
    "    layers=None,\n",
    "    highlight='unspliced',\n",
    "    add_labels_pie=True,\n",
    "    add_labels_bar=True,\n",
    "    fontsize=8,\n",
    "    figsize=(15, 2),\n",
    "    dpi=600,\n",
    "    use_raw=True,\n",
    "    show=True,\n",
    "    save=\"./figures/spermatogoniaspliced.pdf\",\n",
    ")\n",
    "scv.pp.filter_and_normalize(adata, min_shared_counts=20, n_top_genes=2000)\n",
    "scv.pp.moments(adata, n_pcs=30, n_neighbors=30)"
   ]
  },
  {
   "cell_type": "markdown",
   "id": "1d3f1aa8-731f-43a4-a5ab-c139ecd10efc",
   "metadata": {},
   "source": [
    "## Estimate RNA velocity"
   ]
  },
  {
   "cell_type": "code",
   "execution_count": 7,
   "id": "cf42da44-3c16-449c-ba04-105152177002",
   "metadata": {},
   "outputs": [
    {
     "name": "stdout",
     "output_type": "stream",
     "text": [
      "computing velocities\n",
      "    finished (0:00:01) --> added \n",
      "    'velocity', velocity vectors for each individual cell (adata.layers)\n"
     ]
    }
   ],
   "source": [
    "scv.tl.velocity(adata)"
   ]
  },
  {
   "cell_type": "code",
   "execution_count": 8,
   "id": "ca733f8f-bd63-4bfb-8927-ff7a59b5de13",
   "metadata": {},
   "outputs": [
    {
     "name": "stdout",
     "output_type": "stream",
     "text": [
      "computing velocity graph (using 1/24 cores)\n"
     ]
    },
    {
     "data": {
      "application/vnd.jupyter.widget-view+json": {
       "model_id": "c71e68ce917a47afad8d39a2d1f83002",
       "version_major": 2,
       "version_minor": 0
      },
      "text/plain": [
       "  0%|          | 0/799 [00:00<?, ?cells/s]"
      ]
     },
     "metadata": {},
     "output_type": "display_data"
    },
    {
     "name": "stdout",
     "output_type": "stream",
     "text": [
      "    finished (0:00:01) --> added \n",
      "    'velocity_graph', sparse matrix with cosine correlations (adata.uns)\n"
     ]
    }
   ],
   "source": [
    "scv.tl.velocity_graph(adata)"
   ]
  },
  {
   "cell_type": "code",
   "execution_count": 9,
   "id": "1d18c95e-30f3-446c-adc2-29efb37882d2",
   "metadata": {},
   "outputs": [
    {
     "name": "stdout",
     "output_type": "stream",
     "text": [
      "computing velocity embedding\n",
      "    finished (0:00:00) --> added\n",
      "    'velocity_umap', embedded velocity vectors (adata.obsm)\n",
      "saving figure to file ./figures/scvelo_basicspermatogonia.pdf\n"
     ]
    }
   ],
   "source": [
    "scv.pl.velocity_embedding_stream(adata, basis='umap',color='leiden',save='basicspermatogonia.pdf')"
   ]
  },
  {
   "cell_type": "code",
   "execution_count": 13,
   "id": "42b73874-7891-4176-a564-9db0c776872c",
   "metadata": {},
   "outputs": [
    {
     "name": "stdout",
     "output_type": "stream",
     "text": [
      "saving figure to file ./figures/scvelo_spermatogoniavelocity.pdf\n"
     ]
    }
   ],
   "source": [
    "scv.pl.velocity_embedding(adata, arrow_length=1.5, arrow_size=2, dpi=600,color='leiden',legend_loc='on data',save='spermatogoniavelocity.pdf')"
   ]
  },
  {
   "cell_type": "markdown",
   "id": "6d2c1b3c-b350-46b0-9903-a861777b602a",
   "metadata": {},
   "source": [
    "## Interprete the velocities"
   ]
  },
  {
   "cell_type": "code",
   "execution_count": 15,
   "id": "0c92ceaf-94fd-42af-a355-bde0db692737",
   "metadata": {},
   "outputs": [
    {
     "name": "stdout",
     "output_type": "stream",
     "text": [
      "saving figure to file ./figures/scvelo_phase_portraitsmarkers.pdf\n"
     ]
    }
   ],
   "source": [
    "scv.pl.velocity(adata, ['UCHL1', 'SOHLH1', 'DMRT1','STRA8'],color='leiden', ncols=2,save='phase_portraitsmarkers.pdf')"
   ]
  },
  {
   "cell_type": "markdown",
   "id": "d6d85ff2-bf9c-4776-8cc5-708904859a73",
   "metadata": {},
   "source": [
    "## Identify important genes"
   ]
  },
  {
   "cell_type": "code",
   "execution_count": 16,
   "id": "212d90da-c5d0-4def-94ee-7f902cb5a51e",
   "metadata": {},
   "outputs": [
    {
     "name": "stdout",
     "output_type": "stream",
     "text": [
      "ranking velocity genes\n",
      "    finished (0:00:00) --> added \n",
      "    'rank_velocity_genes', sorted scores by group ids (adata.uns) \n",
      "    'spearmans_score', spearmans correlation scores (adata.var)\n"
     ]
    },
    {
     "data": {
      "text/html": [
       "<div>\n",
       "<style scoped>\n",
       "    .dataframe tbody tr th:only-of-type {\n",
       "        vertical-align: middle;\n",
       "    }\n",
       "\n",
       "    .dataframe tbody tr th {\n",
       "        vertical-align: top;\n",
       "    }\n",
       "\n",
       "    .dataframe thead th {\n",
       "        text-align: right;\n",
       "    }\n",
       "</style>\n",
       "<table border=\"1\" class=\"dataframe\">\n",
       "  <thead>\n",
       "    <tr style=\"text-align: right;\">\n",
       "      <th></th>\n",
       "      <th>0</th>\n",
       "      <th>1</th>\n",
       "      <th>2</th>\n",
       "      <th>3</th>\n",
       "      <th>4</th>\n",
       "      <th>5</th>\n",
       "      <th>6</th>\n",
       "      <th>7</th>\n",
       "    </tr>\n",
       "  </thead>\n",
       "  <tbody>\n",
       "    <tr>\n",
       "      <th>0</th>\n",
       "      <td>MYLIP</td>\n",
       "      <td>MYO5B</td>\n",
       "      <td>ADAM3A</td>\n",
       "      <td>DAAM1</td>\n",
       "      <td>TRPV2</td>\n",
       "      <td>ST3GAL1</td>\n",
       "      <td>MMP16</td>\n",
       "      <td>CLASP2</td>\n",
       "    </tr>\n",
       "    <tr>\n",
       "      <th>1</th>\n",
       "      <td>STAG3</td>\n",
       "      <td>SMC1B</td>\n",
       "      <td>CCDC36</td>\n",
       "      <td>SLC38A2</td>\n",
       "      <td>AKAP9</td>\n",
       "      <td>MKRN1</td>\n",
       "      <td>THSD7B</td>\n",
       "      <td>MGA</td>\n",
       "    </tr>\n",
       "    <tr>\n",
       "      <th>2</th>\n",
       "      <td>SAT1</td>\n",
       "      <td>ZFYVE9</td>\n",
       "      <td>RPGRIP1</td>\n",
       "      <td>DDX58</td>\n",
       "      <td>RELN</td>\n",
       "      <td>TENM3</td>\n",
       "      <td>UNC5D</td>\n",
       "      <td>DNAJB1</td>\n",
       "    </tr>\n",
       "    <tr>\n",
       "      <th>3</th>\n",
       "      <td>GML</td>\n",
       "      <td>NSD1</td>\n",
       "      <td>P14ARF</td>\n",
       "      <td>NOC3L</td>\n",
       "      <td>UGGT2</td>\n",
       "      <td>DAB1</td>\n",
       "      <td>DAB1</td>\n",
       "      <td>LOC110257594</td>\n",
       "    </tr>\n",
       "    <tr>\n",
       "      <th>4</th>\n",
       "      <td>REC8</td>\n",
       "      <td>STAG3</td>\n",
       "      <td>NME8</td>\n",
       "      <td>AKAP9</td>\n",
       "      <td>MGA</td>\n",
       "      <td>CCDC36</td>\n",
       "      <td>WDR49</td>\n",
       "      <td>HSPA5</td>\n",
       "    </tr>\n",
       "  </tbody>\n",
       "</table>\n",
       "</div>"
      ],
      "text/plain": [
       "       0       1        2        3      4        5       6             7\n",
       "0  MYLIP   MYO5B   ADAM3A    DAAM1  TRPV2  ST3GAL1   MMP16        CLASP2\n",
       "1  STAG3   SMC1B   CCDC36  SLC38A2  AKAP9    MKRN1  THSD7B           MGA\n",
       "2   SAT1  ZFYVE9  RPGRIP1    DDX58   RELN    TENM3   UNC5D        DNAJB1\n",
       "3    GML    NSD1   P14ARF    NOC3L  UGGT2     DAB1    DAB1  LOC110257594\n",
       "4   REC8   STAG3     NME8    AKAP9    MGA   CCDC36   WDR49         HSPA5"
      ]
     },
     "execution_count": 16,
     "metadata": {},
     "output_type": "execute_result"
    }
   ],
   "source": [
    "scv.tl.rank_velocity_genes(adata, groupby='leiden', min_corr=.3)\n",
    "df = scv.DataFrame(adata.uns['rank_velocity_genes']['names'])\n",
    "df.head()"
   ]
  },
  {
   "cell_type": "code",
   "execution_count": 21,
   "id": "a2e9d7f6-370b-43e7-a7ef-e938f7d8a524",
   "metadata": {},
   "outputs": [
    {
     "name": "stdout",
     "output_type": "stream",
     "text": [
      "saving figure to file ./figures/scvelo_cluster6_genecandidates.pdf\n"
     ]
    }
   ],
   "source": [
    "kwargs = dict(frameon=False, size=10, linewidth=1.5)\n",
    "scv.pl.scatter(adata, df['6'][:10], ylabel='6', color='leiden', ncols=5, save='cluster6_genecandidates.pdf',**kwargs)"
   ]
  },
  {
   "cell_type": "markdown",
   "id": "381c1def-ae8f-49e9-a2d9-5edee1acf349",
   "metadata": {},
   "source": [
    "## 其他的有需要再补充作图吧"
   ]
  },
  {
   "cell_type": "markdown",
   "id": "83909f8b-3724-4a53-99a9-2d6b6380de21",
   "metadata": {},
   "source": [
    "## Velocities in cycling progenitors\n",
    "## The cell cycle detected by RNA velocity, is biologically affirmed by cell cycle scores \n",
    "## (standardized scores of mean expression levels of phase marker genes)."
   ]
  },
  {
   "cell_type": "code",
   "execution_count": 23,
   "id": "3b934e99-5d13-4950-80bc-9e6d14229ec6",
   "metadata": {},
   "outputs": [
    {
     "name": "stdout",
     "output_type": "stream",
     "text": [
      "calculating cell cycle phase\n",
      "computing score 'S_score'\n",
      "    finished: added\n",
      "    'S_score', score of gene set (adata.obs).\n",
      "    194 total control genes are used. (0:00:00)\n",
      "computing score 'G2M_score'\n",
      "    finished: added\n",
      "    'G2M_score', score of gene set (adata.obs).\n",
      "    250 total control genes are used. (0:00:00)\n",
      "-->     'S_score' and 'G2M_score', scores of cell cycle phases (adata.obs)\n",
      "saving figure to file ./figures/scvelo_spermatogonia_cellcyclephase.pdf\n"
     ]
    }
   ],
   "source": [
    "scv.tl.score_genes_cell_cycle(adata)\n",
    "scv.pl.scatter(adata, color_gradients=['S_score', 'G2M_score'], smooth=True, perc=[5, 95], save= 'spermatogonia_cellcyclephase.pdf')"
   ]
  },
  {
   "cell_type": "code",
   "execution_count": 25,
   "id": "c7ef3493-e999-4078-b100-7bd44cd35348",
   "metadata": {},
   "outputs": [
    {
     "name": "stdout",
     "output_type": "stream",
     "text": [
      "saving figure to file ./figures/scvelo_spermatogonia_cellcycle_phaseportraits.pdf\n"
     ]
    }
   ],
   "source": [
    "s_genes, g2m_genes = scv.utils.get_phase_marker_genes(adata)\n",
    "s_genes = scv.get_df(adata[:, s_genes], 'spearmans_score', sort_values=True).index\n",
    "g2m_genes = scv.get_df(adata[:, g2m_genes], 'spearmans_score', sort_values=True).index\n",
    "\n",
    "kwargs = dict(frameon=False, ylabel='cell cycle genes')\n",
    "scv.pl.scatter(adata, list(s_genes[:2]) + list(g2m_genes[:3]),color='leiden', **kwargs,save='spermatogonia_cellcycle_phaseportraits.pdf')"
   ]
  },
  {
   "cell_type": "code",
   "execution_count": 26,
   "id": "96003ca7-0ca7-4b93-9370-87eff436f9cb",
   "metadata": {},
   "outputs": [
    {
     "name": "stdout",
     "output_type": "stream",
     "text": [
      "saving figure to file ./figures/scvelo_spermatogonia_HMGB2MKI67_phaseportraits.pdf\n"
     ]
    }
   ],
   "source": [
    "scv.pl.velocity(adata, ['HMGB2', 'MKI67'], ncols=2, color='leiden',save='spermatogonia_HMGB2MKI67_phaseportraits.pdf')"
   ]
  },
  {
   "cell_type": "markdown",
   "id": "47f7f97a-b402-4a6c-ba6e-60af03a63b49",
   "metadata": {},
   "source": [
    "## Speed and coherence\n",
    "## Two more useful stats: - The speed or rate of differentiation is given by the length of the velocity vector. - \n",
    "## The coherence of the vector field (i.e., how a velocity vector correlates with its neighboring velocities) provides a measure of confidence."
   ]
  },
  {
   "cell_type": "markdown",
   "id": "27c5fb79-d889-4271-bc5e-5738bda6d810",
   "metadata": {},
   "source": [
    "# (重要) These provide insights where cells differentiate at a slower/faster pace, and where the direction is un-/determined."
   ]
  },
  {
   "cell_type": "code",
   "execution_count": 27,
   "id": "70b457ee-67f5-4ff3-87b4-e334caefe46e",
   "metadata": {},
   "outputs": [
    {
     "name": "stdout",
     "output_type": "stream",
     "text": [
      "--> added 'velocity_length' (adata.obs)\n",
      "--> added 'velocity_confidence' (adata.obs)\n",
      "--> added 'velocity_confidence_transition' (adata.obs)\n",
      "saving figure to file ./figures/scvelo_spermatogoniavelocity_lengthconfidence.pdf\n"
     ]
    }
   ],
   "source": [
    "scv.tl.velocity_confidence(adata)\n",
    "keys = 'velocity_length', 'velocity_confidence'\n",
    "scv.pl.scatter(adata, c=keys, cmap='coolwarm', color='leiden', perc=[5, 95], save='spermatogoniavelocity_lengthconfidence.pdf')"
   ]
  },
  {
   "cell_type": "code",
   "execution_count": 28,
   "id": "e44944dc-150c-49c5-92f9-fcd891081155",
   "metadata": {},
   "outputs": [
    {
     "data": {
      "text/html": [
       "<style type=\"text/css\">\n",
       "#T_ad72e_row0_col0 {\n",
       "  background-color: #4b64d5;\n",
       "  color: #f1f1f1;\n",
       "}\n",
       "#T_ad72e_row0_col1 {\n",
       "  background-color: #5f7fe8;\n",
       "  color: #f1f1f1;\n",
       "}\n",
       "#T_ad72e_row0_col2 {\n",
       "  background-color: #b8122a;\n",
       "  color: #f1f1f1;\n",
       "}\n",
       "#T_ad72e_row0_col3 {\n",
       "  background-color: #5875e1;\n",
       "  color: #f1f1f1;\n",
       "}\n",
       "#T_ad72e_row0_col4, #T_ad72e_row1_col3 {\n",
       "  background-color: #3b4cc0;\n",
       "  color: #f1f1f1;\n",
       "}\n",
       "#T_ad72e_row0_col5, #T_ad72e_row1_col5 {\n",
       "  background-color: #b40426;\n",
       "  color: #f1f1f1;\n",
       "}\n",
       "#T_ad72e_row0_col6 {\n",
       "  background-color: #cb3e38;\n",
       "  color: #f1f1f1;\n",
       "}\n",
       "#T_ad72e_row0_col7 {\n",
       "  background-color: #98b9ff;\n",
       "  color: #000000;\n",
       "}\n",
       "#T_ad72e_row1_col0 {\n",
       "  background-color: #e5d8d1;\n",
       "  color: #000000;\n",
       "}\n",
       "#T_ad72e_row1_col1 {\n",
       "  background-color: #b6cefa;\n",
       "  color: #000000;\n",
       "}\n",
       "#T_ad72e_row1_col2 {\n",
       "  background-color: #f1ccb8;\n",
       "  color: #000000;\n",
       "}\n",
       "#T_ad72e_row1_col4 {\n",
       "  background-color: #f59c7d;\n",
       "  color: #000000;\n",
       "}\n",
       "#T_ad72e_row1_col6 {\n",
       "  background-color: #f59f80;\n",
       "  color: #000000;\n",
       "}\n",
       "#T_ad72e_row1_col7 {\n",
       "  background-color: #a1c0ff;\n",
       "  color: #000000;\n",
       "}\n",
       "</style>\n",
       "<table id=\"T_ad72e\">\n",
       "  <thead>\n",
       "    <tr>\n",
       "      <th class=\"index_name level0\" >leiden</th>\n",
       "      <th id=\"T_ad72e_level0_col0\" class=\"col_heading level0 col0\" >0</th>\n",
       "      <th id=\"T_ad72e_level0_col1\" class=\"col_heading level0 col1\" >1</th>\n",
       "      <th id=\"T_ad72e_level0_col2\" class=\"col_heading level0 col2\" >2</th>\n",
       "      <th id=\"T_ad72e_level0_col3\" class=\"col_heading level0 col3\" >3</th>\n",
       "      <th id=\"T_ad72e_level0_col4\" class=\"col_heading level0 col4\" >4</th>\n",
       "      <th id=\"T_ad72e_level0_col5\" class=\"col_heading level0 col5\" >5</th>\n",
       "      <th id=\"T_ad72e_level0_col6\" class=\"col_heading level0 col6\" >6</th>\n",
       "      <th id=\"T_ad72e_level0_col7\" class=\"col_heading level0 col7\" >7</th>\n",
       "    </tr>\n",
       "  </thead>\n",
       "  <tbody>\n",
       "    <tr>\n",
       "      <th id=\"T_ad72e_level0_row0\" class=\"row_heading level0 row0\" >velocity_length</th>\n",
       "      <td id=\"T_ad72e_row0_col0\" class=\"data row0 col0\" >5.144890</td>\n",
       "      <td id=\"T_ad72e_row0_col1\" class=\"data row0 col1\" >5.561328</td>\n",
       "      <td id=\"T_ad72e_row0_col2\" class=\"data row0 col2\" >11.381774</td>\n",
       "      <td id=\"T_ad72e_row0_col3\" class=\"data row0 col3\" >5.407963</td>\n",
       "      <td id=\"T_ad72e_row0_col4\" class=\"data row0 col4\" >4.759405</td>\n",
       "      <td id=\"T_ad72e_row0_col5\" class=\"data row0 col5\" >11.486173</td>\n",
       "      <td id=\"T_ad72e_row0_col6\" class=\"data row0 col6\" >11.059875</td>\n",
       "      <td id=\"T_ad72e_row0_col7\" class=\"data row0 col7\" >6.663684</td>\n",
       "    </tr>\n",
       "    <tr>\n",
       "      <th id=\"T_ad72e_level0_row1\" class=\"row_heading level0 row1\" >velocity_confidence</th>\n",
       "      <td id=\"T_ad72e_row1_col0\" class=\"data row1 col0\" >0.759831</td>\n",
       "      <td id=\"T_ad72e_row1_col1\" class=\"data row1 col1\" >0.739601</td>\n",
       "      <td id=\"T_ad72e_row1_col2\" class=\"data row1 col2\" >0.767217</td>\n",
       "      <td id=\"T_ad72e_row1_col3\" class=\"data row1 col3\" >0.694471</td>\n",
       "      <td id=\"T_ad72e_row1_col4\" class=\"data row1 col4\" >0.785239</td>\n",
       "      <td id=\"T_ad72e_row1_col5\" class=\"data row1 col5\" >0.816749</td>\n",
       "      <td id=\"T_ad72e_row1_col6\" class=\"data row1 col6\" >0.784406</td>\n",
       "      <td id=\"T_ad72e_row1_col7\" class=\"data row1 col7\" >0.732061</td>\n",
       "    </tr>\n",
       "  </tbody>\n",
       "</table>\n"
      ],
      "text/plain": [
       "<pandas.io.formats.style.Styler at 0x7f0f99b910d0>"
      ]
     },
     "execution_count": 28,
     "metadata": {},
     "output_type": "execute_result"
    }
   ],
   "source": [
    "df = adata.obs.groupby('leiden')[keys].mean().T\n",
    "df.style.background_gradient(cmap='coolwarm', axis=1)"
   ]
  },
  {
   "cell_type": "markdown",
   "id": "5592eb25-20da-4ccd-8a31-220c284a7d21",
   "metadata": {},
   "source": [
    "## Velocity graph and pseudotime\n",
    "## We can visualize the velocity graph to portray all velocity-inferred cell-to-cell connections/transitions. \n",
    "# It can be confined to high-probability transitions by setting a threshold. \n",
    "# The graph, for instance, indicates two phases of Epsilon cell production, coming from early and late Pre-endocrine cells."
   ]
  },
  {
   "cell_type": "code",
   "execution_count": 30,
   "id": "5a1d11a9-1d2d-4876-bf7c-c7e29ed6cf5a",
   "metadata": {},
   "outputs": [
    {
     "name": "stdout",
     "output_type": "stream",
     "text": [
      "saving figure to file ./figures/scvelo_spermatogonia_velocitygraph.pdf\n"
     ]
    }
   ],
   "source": [
    "scv.pl.velocity_graph(adata, color='leiden', threshold=.1,save='spermatogonia_velocitygraph.pdf')"
   ]
  },
  {
   "cell_type": "markdown",
   "id": "9e05e8b6-6f3c-4354-851e-00f514665d6b",
   "metadata": {},
   "source": [
    "# Further, the graph can be used to draw descendents/anscestors coming from a specified cell. \n",
    "# Here, a pre-endocrine cell is traced to its potential fate."
   ]
  },
  {
   "cell_type": "code",
   "execution_count": 39,
   "id": "cf425ab9-8f9c-41e9-829b-2afcbea9e9e8",
   "metadata": {},
   "outputs": [
    {
     "name": "stdout",
     "output_type": "stream",
     "text": [
      "saving figure to file ./figures/scvelo_spermatogonia_celltransitions.pdf\n",
      "saving figure to file ./figures/scvelo_spermatogonia_celltransitionsscatter.pdf\n"
     ]
    }
   ],
   "source": [
    "x, y = scv.utils.get_cell_transitions(adata, basis='umap',starting_cell=5)\n",
    "ax = scv.pl.velocity_graph(adata, c='lightgrey',color='leiden', edge_width=.05, show=False,save='spermatogonia_celltransitions.pdf')\n",
    "ax = scv.pl.scatter(adata, x=x, y=y, s=120, c='ascending',color='leiden', cmap='gnuplot', ax=ax,save='spermatogonia_celltransitionsscatter.pdf')"
   ]
  },
  {
   "cell_type": "code",
   "execution_count": 40,
   "id": "4f108fd1-fa85-4039-b419-ba2d8d662f51",
   "metadata": {},
   "outputs": [
    {
     "name": "stdout",
     "output_type": "stream",
     "text": [
      "computing terminal states\n",
      "    identified 2 regions of root cells and 1 region of end points .\n",
      "    finished (0:00:01) --> added\n",
      "    'root_cells', root cells of Markov diffusion process (adata.obs)\n",
      "    'end_points', end points of Markov diffusion process (adata.obs)\n",
      "saving figure to file ./figures/scvelo_spermatogonia_velocitypseudotime.pdf\n"
     ]
    }
   ],
   "source": [
    "scv.tl.velocity_pseudotime(adata)\n",
    "scv.pl.scatter(adata, color='velocity_pseudotime', cmap='gnuplot',save='spermatogonia_velocitypseudotime.pdf')"
   ]
  },
  {
   "cell_type": "markdown",
   "id": "148d5d6a-884b-44cc-a612-7b4f6df05ea6",
   "metadata": {},
   "source": [
    "# PAGA velocity graph"
   ]
  },
  {
   "cell_type": "code",
   "execution_count": 41,
   "id": "e7f1871f-e1c0-4802-94a8-f247dc5e4daf",
   "metadata": {},
   "outputs": [],
   "source": [
    "adata.uns['neighbors']['distances'] = adata.obsp['distances']\n",
    "adata.uns['neighbors']['connectivities'] = adata.obsp['connectivities']"
   ]
  },
  {
   "cell_type": "code",
   "execution_count": 42,
   "id": "f230dcf4-5f3f-4e77-9115-d7a0c989cded",
   "metadata": {},
   "outputs": [
    {
     "name": "stdout",
     "output_type": "stream",
     "text": [
      "running PAGA using priors: ['velocity_pseudotime']\n",
      "    finished (0:00:00) --> added\n",
      "    'paga/connectivities', connectivities adjacency (adata.uns)\n",
      "    'paga/connectivities_tree', connectivities subtree (adata.uns)\n",
      "    'paga/transitions_confidence', velocity transitions (adata.uns)\n"
     ]
    }
   ],
   "source": [
    "scv.tl.paga(adata, groups='leiden')"
   ]
  },
  {
   "cell_type": "code",
   "execution_count": 45,
   "id": "6da80e72-9a7b-4b8b-b822-d5302f12c65d",
   "metadata": {},
   "outputs": [],
   "source": [
    "df = scv.get_df(adata, 'paga/transitions_confidence').T"
   ]
  },
  {
   "cell_type": "code",
   "execution_count": 46,
   "id": "cf1f7f2c-f769-4366-99ce-841e1aa6a18d",
   "metadata": {},
   "outputs": [
    {
     "data": {
      "text/html": [
       "<style type=\"text/css\">\n",
       "#T_b894b_row0_col0, #T_b894b_row0_col1, #T_b894b_row0_col2, #T_b894b_row0_col3, #T_b894b_row0_col4, #T_b894b_row0_col5, #T_b894b_row0_col6, #T_b894b_row0_col7, #T_b894b_row1_col0, #T_b894b_row1_col1, #T_b894b_row1_col2, #T_b894b_row1_col3, #T_b894b_row1_col4, #T_b894b_row1_col5, #T_b894b_row1_col6, #T_b894b_row1_col7, #T_b894b_row2_col0, #T_b894b_row2_col1, #T_b894b_row2_col2, #T_b894b_row2_col3, #T_b894b_row2_col4, #T_b894b_row2_col5, #T_b894b_row2_col6, #T_b894b_row2_col7, #T_b894b_row3_col0, #T_b894b_row3_col1, #T_b894b_row3_col2, #T_b894b_row3_col3, #T_b894b_row3_col4, #T_b894b_row3_col6, #T_b894b_row3_col7, #T_b894b_row4_col0, #T_b894b_row4_col1, #T_b894b_row4_col2, #T_b894b_row4_col3, #T_b894b_row4_col4, #T_b894b_row4_col5, #T_b894b_row4_col6, #T_b894b_row5_col0, #T_b894b_row5_col1, #T_b894b_row5_col3, #T_b894b_row5_col4, #T_b894b_row5_col5, #T_b894b_row5_col7, #T_b894b_row6_col0, #T_b894b_row6_col1, #T_b894b_row6_col2, #T_b894b_row6_col3, #T_b894b_row6_col4, #T_b894b_row6_col5, #T_b894b_row6_col6, #T_b894b_row6_col7, #T_b894b_row7_col3, #T_b894b_row7_col4, #T_b894b_row7_col5, #T_b894b_row7_col6, #T_b894b_row7_col7 {\n",
       "  background-color: #f7fbff;\n",
       "  color: #000000;\n",
       "}\n",
       "#T_b894b_row3_col5, #T_b894b_row4_col7, #T_b894b_row5_col6, #T_b894b_row7_col0, #T_b894b_row7_col1, #T_b894b_row7_col2 {\n",
       "  background-color: #08306b;\n",
       "  color: #f1f1f1;\n",
       "}\n",
       "#T_b894b_row5_col2 {\n",
       "  background-color: #08478d;\n",
       "  color: #f1f1f1;\n",
       "}\n",
       "</style>\n",
       "<table id=\"T_b894b\">\n",
       "  <thead>\n",
       "    <tr>\n",
       "      <th class=\"blank level0\" >&nbsp;</th>\n",
       "      <th id=\"T_b894b_level0_col0\" class=\"col_heading level0 col0\" >0</th>\n",
       "      <th id=\"T_b894b_level0_col1\" class=\"col_heading level0 col1\" >1</th>\n",
       "      <th id=\"T_b894b_level0_col2\" class=\"col_heading level0 col2\" >2</th>\n",
       "      <th id=\"T_b894b_level0_col3\" class=\"col_heading level0 col3\" >3</th>\n",
       "      <th id=\"T_b894b_level0_col4\" class=\"col_heading level0 col4\" >4</th>\n",
       "      <th id=\"T_b894b_level0_col5\" class=\"col_heading level0 col5\" >5</th>\n",
       "      <th id=\"T_b894b_level0_col6\" class=\"col_heading level0 col6\" >6</th>\n",
       "      <th id=\"T_b894b_level0_col7\" class=\"col_heading level0 col7\" >7</th>\n",
       "    </tr>\n",
       "  </thead>\n",
       "  <tbody>\n",
       "    <tr>\n",
       "      <th id=\"T_b894b_level0_row0\" class=\"row_heading level0 row0\" >0</th>\n",
       "      <td id=\"T_b894b_row0_col0\" class=\"data row0 col0\" >0</td>\n",
       "      <td id=\"T_b894b_row0_col1\" class=\"data row0 col1\" >0</td>\n",
       "      <td id=\"T_b894b_row0_col2\" class=\"data row0 col2\" >0</td>\n",
       "      <td id=\"T_b894b_row0_col3\" class=\"data row0 col3\" >0</td>\n",
       "      <td id=\"T_b894b_row0_col4\" class=\"data row0 col4\" >0</td>\n",
       "      <td id=\"T_b894b_row0_col5\" class=\"data row0 col5\" >0</td>\n",
       "      <td id=\"T_b894b_row0_col6\" class=\"data row0 col6\" >0</td>\n",
       "      <td id=\"T_b894b_row0_col7\" class=\"data row0 col7\" >0</td>\n",
       "    </tr>\n",
       "    <tr>\n",
       "      <th id=\"T_b894b_level0_row1\" class=\"row_heading level0 row1\" >1</th>\n",
       "      <td id=\"T_b894b_row1_col0\" class=\"data row1 col0\" >0</td>\n",
       "      <td id=\"T_b894b_row1_col1\" class=\"data row1 col1\" >0</td>\n",
       "      <td id=\"T_b894b_row1_col2\" class=\"data row1 col2\" >0</td>\n",
       "      <td id=\"T_b894b_row1_col3\" class=\"data row1 col3\" >0</td>\n",
       "      <td id=\"T_b894b_row1_col4\" class=\"data row1 col4\" >0</td>\n",
       "      <td id=\"T_b894b_row1_col5\" class=\"data row1 col5\" >0</td>\n",
       "      <td id=\"T_b894b_row1_col6\" class=\"data row1 col6\" >0</td>\n",
       "      <td id=\"T_b894b_row1_col7\" class=\"data row1 col7\" >0</td>\n",
       "    </tr>\n",
       "    <tr>\n",
       "      <th id=\"T_b894b_level0_row2\" class=\"row_heading level0 row2\" >2</th>\n",
       "      <td id=\"T_b894b_row2_col0\" class=\"data row2 col0\" >0</td>\n",
       "      <td id=\"T_b894b_row2_col1\" class=\"data row2 col1\" >0</td>\n",
       "      <td id=\"T_b894b_row2_col2\" class=\"data row2 col2\" >0</td>\n",
       "      <td id=\"T_b894b_row2_col3\" class=\"data row2 col3\" >0</td>\n",
       "      <td id=\"T_b894b_row2_col4\" class=\"data row2 col4\" >0</td>\n",
       "      <td id=\"T_b894b_row2_col5\" class=\"data row2 col5\" >0</td>\n",
       "      <td id=\"T_b894b_row2_col6\" class=\"data row2 col6\" >0</td>\n",
       "      <td id=\"T_b894b_row2_col7\" class=\"data row2 col7\" >0</td>\n",
       "    </tr>\n",
       "    <tr>\n",
       "      <th id=\"T_b894b_level0_row3\" class=\"row_heading level0 row3\" >3</th>\n",
       "      <td id=\"T_b894b_row3_col0\" class=\"data row3 col0\" >0</td>\n",
       "      <td id=\"T_b894b_row3_col1\" class=\"data row3 col1\" >0</td>\n",
       "      <td id=\"T_b894b_row3_col2\" class=\"data row3 col2\" >0</td>\n",
       "      <td id=\"T_b894b_row3_col3\" class=\"data row3 col3\" >0</td>\n",
       "      <td id=\"T_b894b_row3_col4\" class=\"data row3 col4\" >0</td>\n",
       "      <td id=\"T_b894b_row3_col5\" class=\"data row3 col5\" >0.26</td>\n",
       "      <td id=\"T_b894b_row3_col6\" class=\"data row3 col6\" >0</td>\n",
       "      <td id=\"T_b894b_row3_col7\" class=\"data row3 col7\" >0</td>\n",
       "    </tr>\n",
       "    <tr>\n",
       "      <th id=\"T_b894b_level0_row4\" class=\"row_heading level0 row4\" >4</th>\n",
       "      <td id=\"T_b894b_row4_col0\" class=\"data row4 col0\" >0</td>\n",
       "      <td id=\"T_b894b_row4_col1\" class=\"data row4 col1\" >0</td>\n",
       "      <td id=\"T_b894b_row4_col2\" class=\"data row4 col2\" >0</td>\n",
       "      <td id=\"T_b894b_row4_col3\" class=\"data row4 col3\" >0</td>\n",
       "      <td id=\"T_b894b_row4_col4\" class=\"data row4 col4\" >0</td>\n",
       "      <td id=\"T_b894b_row4_col5\" class=\"data row4 col5\" >0</td>\n",
       "      <td id=\"T_b894b_row4_col6\" class=\"data row4 col6\" >0</td>\n",
       "      <td id=\"T_b894b_row4_col7\" class=\"data row4 col7\" >0.53</td>\n",
       "    </tr>\n",
       "    <tr>\n",
       "      <th id=\"T_b894b_level0_row5\" class=\"row_heading level0 row5\" >5</th>\n",
       "      <td id=\"T_b894b_row5_col0\" class=\"data row5 col0\" >0</td>\n",
       "      <td id=\"T_b894b_row5_col1\" class=\"data row5 col1\" >0</td>\n",
       "      <td id=\"T_b894b_row5_col2\" class=\"data row5 col2\" >0.32</td>\n",
       "      <td id=\"T_b894b_row5_col3\" class=\"data row5 col3\" >0</td>\n",
       "      <td id=\"T_b894b_row5_col4\" class=\"data row5 col4\" >0</td>\n",
       "      <td id=\"T_b894b_row5_col5\" class=\"data row5 col5\" >0</td>\n",
       "      <td id=\"T_b894b_row5_col6\" class=\"data row5 col6\" >0.36</td>\n",
       "      <td id=\"T_b894b_row5_col7\" class=\"data row5 col7\" >0</td>\n",
       "    </tr>\n",
       "    <tr>\n",
       "      <th id=\"T_b894b_level0_row6\" class=\"row_heading level0 row6\" >6</th>\n",
       "      <td id=\"T_b894b_row6_col0\" class=\"data row6 col0\" >0</td>\n",
       "      <td id=\"T_b894b_row6_col1\" class=\"data row6 col1\" >0</td>\n",
       "      <td id=\"T_b894b_row6_col2\" class=\"data row6 col2\" >0</td>\n",
       "      <td id=\"T_b894b_row6_col3\" class=\"data row6 col3\" >0</td>\n",
       "      <td id=\"T_b894b_row6_col4\" class=\"data row6 col4\" >0</td>\n",
       "      <td id=\"T_b894b_row6_col5\" class=\"data row6 col5\" >0</td>\n",
       "      <td id=\"T_b894b_row6_col6\" class=\"data row6 col6\" >0</td>\n",
       "      <td id=\"T_b894b_row6_col7\" class=\"data row6 col7\" >0</td>\n",
       "    </tr>\n",
       "    <tr>\n",
       "      <th id=\"T_b894b_level0_row7\" class=\"row_heading level0 row7\" >7</th>\n",
       "      <td id=\"T_b894b_row7_col0\" class=\"data row7 col0\" >0.6</td>\n",
       "      <td id=\"T_b894b_row7_col1\" class=\"data row7 col1\" >0.31</td>\n",
       "      <td id=\"T_b894b_row7_col2\" class=\"data row7 col2\" >0.35</td>\n",
       "      <td id=\"T_b894b_row7_col3\" class=\"data row7 col3\" >0</td>\n",
       "      <td id=\"T_b894b_row7_col4\" class=\"data row7 col4\" >0</td>\n",
       "      <td id=\"T_b894b_row7_col5\" class=\"data row7 col5\" >0</td>\n",
       "      <td id=\"T_b894b_row7_col6\" class=\"data row7 col6\" >0</td>\n",
       "      <td id=\"T_b894b_row7_col7\" class=\"data row7 col7\" >0</td>\n",
       "    </tr>\n",
       "  </tbody>\n",
       "</table>\n"
      ],
      "text/plain": [
       "<pandas.io.formats.style.Styler at 0x7f0fe9a43580>"
      ]
     },
     "execution_count": 46,
     "metadata": {},
     "output_type": "execute_result"
    }
   ],
   "source": [
    "df.style.background_gradient(cmap='Blues').format('{:.2g}')"
   ]
  },
  {
   "cell_type": "code",
   "execution_count": 47,
   "id": "4214230c-5259-4bec-abfa-f6e186ce3d3b",
   "metadata": {},
   "outputs": [
    {
     "name": "stdout",
     "output_type": "stream",
     "text": [
      "WARNING: Invalid color key. Using grey instead.\n",
      "saving figure to file ./figures/scvelo_spermatogonia_pagavelocitygraph.pdf\n"
     ]
    }
   ],
   "source": [
    "scv.pl.paga(adata, basis='umap', size=50, alpha=.1,\n",
    "            min_edge_width=2, node_size_scale=1.5,save='spermatogonia_pagavelocitygraph.pdf')"
   ]
  },
  {
   "cell_type": "markdown",
   "id": "1c61b3bf-0502-4d0f-8e89-2b0919a47d66",
   "metadata": {},
   "source": [
    "# Dynamical Modeling\n",
    "# Here, we use the generalized dynamical model to solve the full transcriptional dynamics.\n",
    "# That yields several additional insights such as latent time and identification of putative driver genes"
   ]
  },
  {
   "cell_type": "code",
   "execution_count": 48,
   "id": "c86e5474-ea62-4827-b3d2-e42caeda5e00",
   "metadata": {},
   "outputs": [
    {
     "name": "stdout",
     "output_type": "stream",
     "text": [
      "recovering dynamics (using 1/24 cores)\n"
     ]
    },
    {
     "data": {
      "application/vnd.jupyter.widget-view+json": {
       "model_id": "314105b97ba14afba62f93851c15926b",
       "version_major": 2,
       "version_minor": 0
      },
      "text/plain": [
       "  0%|          | 0/218 [00:00<?, ?gene/s]"
      ]
     },
     "metadata": {},
     "output_type": "display_data"
    },
    {
     "name": "stdout",
     "output_type": "stream",
     "text": [
      "    finished (0:00:45) --> added \n",
      "    'fit_pars', fitted parameters for splicing dynamics (adata.var)\n"
     ]
    }
   ],
   "source": [
    "scv.tl.recover_dynamics(adata)"
   ]
  },
  {
   "cell_type": "code",
   "execution_count": 49,
   "id": "d20191f0-7f3f-4e40-b6da-551d3d59f837",
   "metadata": {},
   "outputs": [
    {
     "name": "stdout",
     "output_type": "stream",
     "text": [
      "computing velocities\n",
      "    finished (0:00:00) --> added \n",
      "    'velocity', velocity vectors for each individual cell (adata.layers)\n",
      "computing velocity graph (using 1/24 cores)\n"
     ]
    },
    {
     "data": {
      "application/vnd.jupyter.widget-view+json": {
       "model_id": "e7c228fc4f3c426bb9dd53bc7cbef99b",
       "version_major": 2,
       "version_minor": 0
      },
      "text/plain": [
       "  0%|          | 0/799 [00:00<?, ?cells/s]"
      ]
     },
     "metadata": {},
     "output_type": "display_data"
    },
    {
     "name": "stdout",
     "output_type": "stream",
     "text": [
      "    finished (0:00:01) --> added \n",
      "    'velocity_graph', sparse matrix with cosine correlations (adata.uns)\n"
     ]
    }
   ],
   "source": [
    "scv.tl.velocity(adata, mode='dynamical')\n",
    "scv.tl.velocity_graph(adata)"
   ]
  },
  {
   "cell_type": "code",
   "execution_count": 56,
   "id": "1cf6be80-269e-4ee9-a0ed-f3694b45181e",
   "metadata": {},
   "outputs": [
    {
     "name": "stdout",
     "output_type": "stream",
     "text": [
      "saving figure to file ./figures/scvelo_spermatogonia_embeddingstreamdynamic.pdf\n"
     ]
    }
   ],
   "source": [
    "scv.pl.velocity_embedding_stream(adata, basis='umap',color='leiden', save= 'spermatogonia_embeddingstreamdynamic.pdf')"
   ]
  },
  {
   "cell_type": "markdown",
   "id": "d518b2ce-b794-4417-8fba-cffa71f1a863",
   "metadata": {},
   "source": [
    "# Kinetic rate paramters\n",
    "# The rates of RNA transcription, splicing and degradation are estimated without the need of any experimental data.\n",
    "# They can be useful to better understand the cell identity and phenotypic heterogeneity."
   ]
  },
  {
   "cell_type": "code",
   "execution_count": 57,
   "id": "84aa6a5b-e563-40e2-97da-f912b1661532",
   "metadata": {},
   "outputs": [
    {
     "data": {
      "text/html": [
       "<div>\n",
       "<style scoped>\n",
       "    .dataframe tbody tr th:only-of-type {\n",
       "        vertical-align: middle;\n",
       "    }\n",
       "\n",
       "    .dataframe tbody tr th {\n",
       "        vertical-align: top;\n",
       "    }\n",
       "\n",
       "    .dataframe thead th {\n",
       "        text-align: right;\n",
       "    }\n",
       "</style>\n",
       "<table border=\"1\" class=\"dataframe\">\n",
       "  <thead>\n",
       "    <tr style=\"text-align: right;\">\n",
       "      <th></th>\n",
       "      <th>fit_alpha</th>\n",
       "      <th>fit_beta</th>\n",
       "      <th>fit_gamma</th>\n",
       "      <th>fit_t_</th>\n",
       "      <th>fit_scaling</th>\n",
       "      <th>fit_std_u</th>\n",
       "      <th>fit_std_s</th>\n",
       "      <th>fit_likelihood</th>\n",
       "      <th>fit_u0</th>\n",
       "      <th>fit_s0</th>\n",
       "      <th>fit_pval_steady</th>\n",
       "      <th>fit_steady_u</th>\n",
       "      <th>fit_steady_s</th>\n",
       "      <th>fit_variance</th>\n",
       "      <th>fit_alignment_scaling</th>\n",
       "      <th>fit_r2</th>\n",
       "    </tr>\n",
       "  </thead>\n",
       "  <tbody>\n",
       "    <tr>\n",
       "      <th>AFDN</th>\n",
       "      <td>0.328418</td>\n",
       "      <td>0.454937</td>\n",
       "      <td>0.197705</td>\n",
       "      <td>13.951822</td>\n",
       "      <td>1.525007</td>\n",
       "      <td>0.269848</td>\n",
       "      <td>0.277367</td>\n",
       "      <td>0.262358</td>\n",
       "      <td>0.0</td>\n",
       "      <td>0.0</td>\n",
       "      <td>0.325073</td>\n",
       "      <td>0.685058</td>\n",
       "      <td>1.149313</td>\n",
       "      <td>0.811927</td>\n",
       "      <td>2.457542</td>\n",
       "      <td>0.029556</td>\n",
       "    </tr>\n",
       "    <tr>\n",
       "      <th>FBXO5</th>\n",
       "      <td>0.540450</td>\n",
       "      <td>3.342159</td>\n",
       "      <td>0.290397</td>\n",
       "      <td>8.442033</td>\n",
       "      <td>0.109622</td>\n",
       "      <td>0.031426</td>\n",
       "      <td>0.406362</td>\n",
       "      <td>0.276719</td>\n",
       "      <td>0.0</td>\n",
       "      <td>0.0</td>\n",
       "      <td>0.486582</td>\n",
       "      <td>0.098118</td>\n",
       "      <td>1.114721</td>\n",
       "      <td>0.561684</td>\n",
       "      <td>3.482100</td>\n",
       "      <td>0.219215</td>\n",
       "    </tr>\n",
       "    <tr>\n",
       "      <th>RNF217</th>\n",
       "      <td>0.105245</td>\n",
       "      <td>0.165708</td>\n",
       "      <td>0.211626</td>\n",
       "      <td>8.545581</td>\n",
       "      <td>3.413113</td>\n",
       "      <td>0.167710</td>\n",
       "      <td>0.066335</td>\n",
       "      <td>0.095184</td>\n",
       "      <td>0.0</td>\n",
       "      <td>0.0</td>\n",
       "      <td>0.456420</td>\n",
       "      <td>0.822678</td>\n",
       "      <td>0.224174</td>\n",
       "      <td>1.600360</td>\n",
       "      <td>2.386933</td>\n",
       "      <td>0.328841</td>\n",
       "    </tr>\n",
       "    <tr>\n",
       "      <th>RIMS1</th>\n",
       "      <td>0.039928</td>\n",
       "      <td>0.048804</td>\n",
       "      <td>0.066263</td>\n",
       "      <td>35.370500</td>\n",
       "      <td>2.907913</td>\n",
       "      <td>0.229617</td>\n",
       "      <td>0.095194</td>\n",
       "      <td>0.216510</td>\n",
       "      <td>0.0</td>\n",
       "      <td>0.0</td>\n",
       "      <td>0.466225</td>\n",
       "      <td>0.739772</td>\n",
       "      <td>0.339665</td>\n",
       "      <td>0.706417</td>\n",
       "      <td>8.919571</td>\n",
       "      <td>0.136766</td>\n",
       "    </tr>\n",
       "    <tr>\n",
       "      <th>GRIK2</th>\n",
       "      <td>0.030573</td>\n",
       "      <td>0.012826</td>\n",
       "      <td>0.065024</td>\n",
       "      <td>30.320291</td>\n",
       "      <td>11.907018</td>\n",
       "      <td>0.762824</td>\n",
       "      <td>0.077234</td>\n",
       "      <td>0.268979</td>\n",
       "      <td>0.0</td>\n",
       "      <td>0.0</td>\n",
       "      <td>0.384549</td>\n",
       "      <td>1.665833</td>\n",
       "      <td>0.268875</td>\n",
       "      <td>0.673016</td>\n",
       "      <td>7.894194</td>\n",
       "      <td>0.062241</td>\n",
       "    </tr>\n",
       "  </tbody>\n",
       "</table>\n",
       "</div>"
      ],
      "text/plain": [
       "        fit_alpha  fit_beta  fit_gamma     fit_t_  fit_scaling  fit_std_u  \\\n",
       "AFDN     0.328418  0.454937   0.197705  13.951822     1.525007   0.269848   \n",
       "FBXO5    0.540450  3.342159   0.290397   8.442033     0.109622   0.031426   \n",
       "RNF217   0.105245  0.165708   0.211626   8.545581     3.413113   0.167710   \n",
       "RIMS1    0.039928  0.048804   0.066263  35.370500     2.907913   0.229617   \n",
       "GRIK2    0.030573  0.012826   0.065024  30.320291    11.907018   0.762824   \n",
       "\n",
       "        fit_std_s  fit_likelihood  fit_u0  fit_s0  fit_pval_steady  \\\n",
       "AFDN     0.277367        0.262358     0.0     0.0         0.325073   \n",
       "FBXO5    0.406362        0.276719     0.0     0.0         0.486582   \n",
       "RNF217   0.066335        0.095184     0.0     0.0         0.456420   \n",
       "RIMS1    0.095194        0.216510     0.0     0.0         0.466225   \n",
       "GRIK2    0.077234        0.268979     0.0     0.0         0.384549   \n",
       "\n",
       "        fit_steady_u  fit_steady_s  fit_variance  fit_alignment_scaling  \\\n",
       "AFDN        0.685058      1.149313      0.811927               2.457542   \n",
       "FBXO5       0.098118      1.114721      0.561684               3.482100   \n",
       "RNF217      0.822678      0.224174      1.600360               2.386933   \n",
       "RIMS1       0.739772      0.339665      0.706417               8.919571   \n",
       "GRIK2       1.665833      0.268875      0.673016               7.894194   \n",
       "\n",
       "          fit_r2  \n",
       "AFDN    0.029556  \n",
       "FBXO5   0.219215  \n",
       "RNF217  0.328841  \n",
       "RIMS1   0.136766  \n",
       "GRIK2   0.062241  "
      ]
     },
     "execution_count": 57,
     "metadata": {},
     "output_type": "execute_result"
    }
   ],
   "source": [
    "df = adata.var\n",
    "df = df[(df['fit_likelihood'] > .1) & df['velocity_genes'] == True]\n",
    "\n",
    "kwargs = dict(xscale='log', fontsize=16)\n",
    "with scv.GridSpec(ncols=3) as pl:\n",
    "    pl.hist(df['fit_alpha'], xlabel='transcription rate', **kwargs)\n",
    "    pl.hist(df['fit_beta'] * df['fit_scaling'], xlabel='splicing rate', xticks=[.1, .4, 1], **kwargs)\n",
    "    pl.hist(df['fit_gamma'], xlabel='degradation rate', xticks=[.1, .4, 1], **kwargs)\n",
    "scv.get_df(adata, 'fit*', dropna=True).head()"
   ]
  },
  {
   "cell_type": "code",
   "execution_count": 58,
   "id": "73f992a1-5bb8-4f6f-9568-a20d980ad778",
   "metadata": {},
   "outputs": [],
   "source": [
    "plt.savefig(\"./figures/spermatogonia_kineticrateparamters.pdf\")"
   ]
  },
  {
   "cell_type": "markdown",
   "id": "039e4f5a-60f7-49c5-a619-237559ae900a",
   "metadata": {},
   "source": [
    "# Latent time\n",
    "# The dynamical model recovers the latent time of the underlying cellular processes. \n",
    "# This latent time represents the cell’s internal clock and approximates the real time experienced by cells as they differentiate, \n",
    "# based only on its transcriptional dynamics"
   ]
  },
  {
   "cell_type": "code",
   "execution_count": 59,
   "id": "87f38034-d3e1-4f04-ba7e-058a25100a98",
   "metadata": {},
   "outputs": [
    {
     "name": "stdout",
     "output_type": "stream",
     "text": [
      "computing latent time using root_cells as prior\n",
      "    finished (0:00:00) --> added \n",
      "    'latent_time', shared time (adata.obs)\n",
      "saving figure to file ./figures/scvelo_spermatogonia_Latenttimedynamic.pdf\n"
     ]
    }
   ],
   "source": [
    "scv.tl.latent_time(adata)\n",
    "scv.pl.scatter(adata, color='latent_time', color_map='gnuplot', size=80, save= 'spermatogonia_Latenttimedynamic.pdf')"
   ]
  },
  {
   "cell_type": "code",
   "execution_count": 60,
   "id": "ab416469-b700-429f-96b2-4240462bedcb",
   "metadata": {},
   "outputs": [
    {
     "name": "stdout",
     "output_type": "stream",
     "text": [
      "saving figure to file ./figures/scvelo_heatmap_spermatogonia_latenttimeheatmapdynamic.pdf\n"
     ]
    }
   ],
   "source": [
    "top_genes = adata.var['fit_likelihood'].sort_values(ascending=False).index[:300]\n",
    "scv.pl.heatmap(adata, var_names=top_genes, sortby='latent_time', col_color='leiden', n_convolve=100, save= 'spermatogonia_latenttimeheatmapdynamic.pdf')"
   ]
  },
  {
   "cell_type": "markdown",
   "id": "abc3e478-cae6-412d-bdbb-f44e10c9fbe4",
   "metadata": {},
   "source": [
    "# Top-likelihood genes\n",
    "# Driver genes display pronounced dynamic behavior and are systematically detected via their characterization by high likelihoods in the dynamic model."
   ]
  },
  {
   "cell_type": "code",
   "execution_count": 62,
   "id": "ceecd876-84f3-480e-b18e-3944c7a329bf",
   "metadata": {},
   "outputs": [
    {
     "name": "stdout",
     "output_type": "stream",
     "text": [
      "saving figure to file ./figures/scvelo_spermatogonia_topgene15dynamic.pdf\n"
     ]
    }
   ],
   "source": [
    "top_genes = adata.var['fit_likelihood'].sort_values(ascending=False).index\n",
    "scv.pl.scatter(adata, basis=top_genes[:15], ncols=5, frameon=False,color='leiden',save= 'spermatogonia_topgene15dynamic.pdf')"
   ]
  },
  {
   "cell_type": "code",
   "execution_count": 65,
   "id": "79b8fb22-f941-46c6-889c-2d28953bff41",
   "metadata": {},
   "outputs": [
    {
     "data": {
      "text/plain": [
       "Index(['HMOX1', 'LOC100525346', 'PROX1', 'ART3', 'TFPI2', 'NOV', 'GML',\n",
       "       'SENP6', 'RGS5', 'ZNF280C', 'SLA-DQA1', 'PDLIM1', 'REC8', 'AKAP9',\n",
       "       'NCKAP1', 'DAZL', 'MYO5B', 'SLA-DRB1', 'ANK3', 'ZFYVE9', 'UACA',\n",
       "       'SLA-DQB1', 'SMC1B', 'CTCFL', 'ANKRD31', 'ZCWPW1', 'DSE', 'STRA8',\n",
       "       'FNDC3A', 'MGA', 'ZNF280D', 'SQLE', 'STAG3', 'TTC14', 'TPX2', 'BLCAP',\n",
       "       'GRIK1', 'HMGCR', 'SCN11A', 'YTHDC2', 'UGGT2', 'CUL5', 'UCHL1',\n",
       "       'DNAJB1', 'DAB1', 'FNBP4', 'RBM44', 'THSD7B', 'CCDC73', 'CASD1'],\n",
       "      dtype='object')"
      ]
     },
     "execution_count": 65,
     "metadata": {},
     "output_type": "execute_result"
    }
   ],
   "source": [
    "top_genes[:50]"
   ]
  },
  {
   "cell_type": "code",
   "execution_count": 66,
   "id": "c53b444b-5510-4bc1-8593-f335ccb755a7",
   "metadata": {},
   "outputs": [
    {
     "name": "stdout",
     "output_type": "stream",
     "text": [
      "saving figure to file ./figures/scvelo_spermatogonia_selectgene4dynamic.pdf\n",
      "saving figure to file ./figures/scvelo_spermatogonia_selectgene4latenttimedynamic.pdf\n"
     ]
    }
   ],
   "source": [
    "var_names = ['ART3', 'SMC1B', 'ZCWPW1', 'STRA8']\n",
    "scv.pl.scatter(adata, var_names, frameon=False,color='leiden',save= 'spermatogonia_selectgene4dynamic.pdf')\n",
    "scv.pl.scatter(adata, x='latent_time', y=var_names, frameon=False,color='leiden',save= 'spermatogonia_selectgene4latenttimedynamic.pdf')"
   ]
  },
  {
   "cell_type": "markdown",
   "id": "d016f8e4-8e22-4e02-a752-229632b61969",
   "metadata": {},
   "source": [
    "## Cluster-specific top-likelihood genes\n",
    "## partial gene likelihoods can be computed for a each cluster of cells to enable cluster-specific identification of potential drivers."
   ]
  },
  {
   "cell_type": "code",
   "execution_count": 67,
   "id": "813da375-006b-4144-9b2e-08b7fc244f58",
   "metadata": {},
   "outputs": [
    {
     "name": "stdout",
     "output_type": "stream",
     "text": [
      "ranking genes by cluster-specific likelihoods\n",
      "    finished (0:00:00) --> added \n",
      "    'rank_dynamical_genes', sorted scores by group ids (adata.uns)\n"
     ]
    },
    {
     "data": {
      "text/html": [
       "<div>\n",
       "<style scoped>\n",
       "    .dataframe tbody tr th:only-of-type {\n",
       "        vertical-align: middle;\n",
       "    }\n",
       "\n",
       "    .dataframe tbody tr th {\n",
       "        vertical-align: top;\n",
       "    }\n",
       "\n",
       "    .dataframe thead th {\n",
       "        text-align: right;\n",
       "    }\n",
       "</style>\n",
       "<table border=\"1\" class=\"dataframe\">\n",
       "  <thead>\n",
       "    <tr style=\"text-align: right;\">\n",
       "      <th></th>\n",
       "      <th>0</th>\n",
       "      <th>1</th>\n",
       "      <th>2</th>\n",
       "      <th>3</th>\n",
       "      <th>4</th>\n",
       "      <th>5</th>\n",
       "      <th>6</th>\n",
       "      <th>7</th>\n",
       "    </tr>\n",
       "  </thead>\n",
       "  <tbody>\n",
       "    <tr>\n",
       "      <th>0</th>\n",
       "      <td>ART3</td>\n",
       "      <td>GML</td>\n",
       "      <td>SENP6</td>\n",
       "      <td>LOC100525346</td>\n",
       "      <td>HMOX1</td>\n",
       "      <td>SMC1B</td>\n",
       "      <td>ANKRD31</td>\n",
       "      <td>ZNF280C</td>\n",
       "    </tr>\n",
       "    <tr>\n",
       "      <th>1</th>\n",
       "      <td>SENP6</td>\n",
       "      <td>SENP6</td>\n",
       "      <td>NCKAP1</td>\n",
       "      <td>PROX1</td>\n",
       "      <td>C1QB</td>\n",
       "      <td>UACA</td>\n",
       "      <td>COL18A1</td>\n",
       "      <td>SENP6</td>\n",
       "    </tr>\n",
       "    <tr>\n",
       "      <th>2</th>\n",
       "      <td>AKAP9</td>\n",
       "      <td>REC8</td>\n",
       "      <td>DAZL</td>\n",
       "      <td>NOV</td>\n",
       "      <td>RGS5</td>\n",
       "      <td>PKN2</td>\n",
       "      <td>GABRB2</td>\n",
       "      <td>ART3</td>\n",
       "    </tr>\n",
       "    <tr>\n",
       "      <th>3</th>\n",
       "      <td>CTCFL</td>\n",
       "      <td>DAZL</td>\n",
       "      <td>UACA</td>\n",
       "      <td>DAZL</td>\n",
       "      <td>GML</td>\n",
       "      <td>KLRK1</td>\n",
       "      <td>MGA</td>\n",
       "      <td>DAZL</td>\n",
       "    </tr>\n",
       "    <tr>\n",
       "      <th>4</th>\n",
       "      <td>SMC1B</td>\n",
       "      <td>AKAP9</td>\n",
       "      <td>STRA8</td>\n",
       "      <td>PDLIM1</td>\n",
       "      <td>SLA-DQA1</td>\n",
       "      <td>SENP6</td>\n",
       "      <td>UGGT2</td>\n",
       "      <td>GML</td>\n",
       "    </tr>\n",
       "  </tbody>\n",
       "</table>\n",
       "</div>"
      ],
      "text/plain": [
       "       0      1       2             3         4      5        6        7\n",
       "0   ART3    GML   SENP6  LOC100525346     HMOX1  SMC1B  ANKRD31  ZNF280C\n",
       "1  SENP6  SENP6  NCKAP1         PROX1      C1QB   UACA  COL18A1    SENP6\n",
       "2  AKAP9   REC8    DAZL           NOV      RGS5   PKN2   GABRB2     ART3\n",
       "3  CTCFL   DAZL    UACA          DAZL       GML  KLRK1      MGA     DAZL\n",
       "4  SMC1B  AKAP9   STRA8        PDLIM1  SLA-DQA1  SENP6    UGGT2      GML"
      ]
     },
     "execution_count": 67,
     "metadata": {},
     "output_type": "execute_result"
    }
   ],
   "source": [
    "scv.tl.rank_dynamical_genes(adata, groupby='leiden')\n",
    "df = scv.get_df(adata, 'rank_dynamical_genes/names')\n",
    "df.head(5)"
   ]
  },
  {
   "cell_type": "code",
   "execution_count": 70,
   "id": "bce25dff-a5e2-49d2-b8bc-3b6034a988cc",
   "metadata": {},
   "outputs": [],
   "source": [
    "for cluster in ['0', '1', '2', '3', '4', '5', '6', '7']:\n",
    "    scv.pl.scatter(adata, df[cluster][:5], ylabel=cluster, frameon=False)"
   ]
  },
  {
   "cell_type": "code",
   "execution_count": 71,
   "id": "ceb5c35a-dc10-46a0-ac43-f5ef8e999f39",
   "metadata": {},
   "outputs": [],
   "source": [
    "plt.savefig(\"./figures/spermatogonia_cluster-specifictoplikelihoodgenes.pdf\")"
   ]
  },
  {
   "cell_type": "code",
   "execution_count": 84,
   "id": "13f38e15-dac3-42db-bba4-960d17423853",
   "metadata": {},
   "outputs": [
    {
     "name": "stdout",
     "output_type": "stream",
     "text": [
      "saving figure to file ./figures/scvelo_cluster7-specifictoplikelihoodgenes.pdf\n"
     ]
    }
   ],
   "source": [
    "for cluster in ['7']:\n",
    "    scv.pl.scatter(adata, df[cluster][:5], ylabel=cluster,color='leiden', frameon=False,save='cluster7-specifictoplikelihoodgenes.pdf')"
   ]
  },
  {
   "cell_type": "code",
   "execution_count": 85,
   "id": "cdc13237-bf1d-418c-9adb-d34c6f8e58e9",
   "metadata": {},
   "outputs": [],
   "source": [
    "#adata.write('data/pancreas.h5ad', compression='gzip')\n",
    "#adata = scv.read('data/pancreas.h5ad')\n",
    "adata.write('./figures/adultspermatogonia_runnedscvelo.h5ad', compression='gzip')"
   ]
  },
  {
   "cell_type": "markdown",
   "id": "520f6f6d-ddb9-401e-b50f-2233d06dddd0",
   "metadata": {},
   "source": [
    "## 取子集Spermatogonia"
   ]
  },
  {
   "cell_type": "code",
   "execution_count": 4,
   "id": "f5744142-b840-4965-a3dd-57cdab2ddcca",
   "metadata": {},
   "outputs": [
    {
     "data": {
      "text/plain": [
       "AnnData object with n_obs × n_vars = 799 × 2851\n",
       "    obs: 'n_genes', 'n_genes_by_counts', 'total_counts', 'total_counts_mt', 'pct_counts_mt', 'total_counts_chrX', 'pct_counts_chrX', 'total_counts_chrY', 'pct_counts_chrY', 'S_score', 'G2M_score', 'phase', 'doublet', 'doublet_score', 'leiden', 'cell_type'\n",
       "    var: 'gene_ids', 'feature_types', 'genome', 'n_counts', 'mt', 'n_cells_by_counts', 'mean_counts', 'pct_dropout_by_counts', 'total_counts', 'chrX', 'chrY', 'highly_variable', 'means', 'dispersions', 'dispersions_norm', 'mean', 'std'\n",
       "    uns: 'cell_type_colors', 'dendrogram_cell_type', 'dendrogram_leiden', 'hvg', 'leiden', 'leiden_colors', 'neighbors', 'pca', 'rank_genes_groups', 'tsne', 'umap'\n",
       "    obsm: 'X_pca', 'X_tsne', 'X_umap'\n",
       "    varm: 'PCs'\n",
       "    obsp: 'connectivities', 'distances'"
      ]
     },
     "execution_count": 4,
     "metadata": {},
     "output_type": "execute_result"
    }
   ],
   "source": [
    "adata_spermatogonia = adata[adata.obs['cell_type'].isin(['Spermatogonia'])].copy()\n",
    "adata_spermatogonia"
   ]
  },
  {
   "cell_type": "code",
   "execution_count": 5,
   "id": "2748f8ed-a288-4996-9cdd-a4958fe5924e",
   "metadata": {},
   "outputs": [
    {
     "data": {
      "text/plain": [
       "AAACCCAAGGCTCTAT-1    11\n",
       "AAACCCAGTCCAGGTC-1    11\n",
       "AAACCCAGTTCGGCGT-1    11\n",
       "AAACGAACACCGTGCA-1    11\n",
       "AAAGGATAGCGTGTCC-1    11\n",
       "                      ..\n",
       "TTTCACACATAACGGG-1    11\n",
       "TTTCAGTCACAATGAA-1    11\n",
       "TTTGGAGAGGTAACTA-1    11\n",
       "TTTGGAGTCCTGTACC-1    11\n",
       "TTTGGTTGTGTCACAT-1    11\n",
       "Name: leiden, Length: 799, dtype: category\n",
       "Categories (1, object): ['11']"
      ]
     },
     "execution_count": 5,
     "metadata": {},
     "output_type": "execute_result"
    }
   ],
   "source": [
    "adata_spermatogonia.obs.leiden"
   ]
  },
  {
   "cell_type": "code",
   "execution_count": 7,
   "id": "492b00ae-0d1d-40f0-b2f9-66f908bfc058",
   "metadata": {},
   "outputs": [
    {
     "name": "stdout",
     "output_type": "stream",
     "text": [
      "computing PCA\n",
      "    on highly variable genes\n",
      "    with n_comps=50\n",
      "    finished (0:00:09)\n",
      "computing neighbors\n",
      "    using 'X_pca' with n_pcs = 40\n",
      "    finished: added to `.uns['neighbors']`\n",
      "    `.obsp['distances']`, distances for each pair of neighbors\n",
      "    `.obsp['connectivities']`, weighted adjacency matrix (0:00:04)\n",
      "computing tSNE\n",
      "    using 'X_pca' with n_pcs = 50\n",
      "    using sklearn.manifold.TSNE\n"
     ]
    },
    {
     "name": "stderr",
     "output_type": "stream",
     "text": [
      "/public/home/zhaox/anaconda3/lib/python3.9/site-packages/sklearn/manifold/_t_sne.py:795: FutureWarning: The default initialization in TSNE will change from 'random' to 'pca' in 1.2.\n",
      "  warnings.warn(\n"
     ]
    },
    {
     "name": "stdout",
     "output_type": "stream",
     "text": [
      "    finished: added\n",
      "    'X_tsne', tSNE coordinates (adata.obsm) (0:04:05)\n",
      "computing UMAP\n",
      "    finished: added\n",
      "    'X_umap', UMAP coordinates (adata.obsm) (0:00:03)\n",
      "running Leiden clustering\n",
      "    finished: found 8 clusters and added\n",
      "    'leiden', the cluster labels (adata.obs, categorical) (0:00:00)\n"
     ]
    }
   ],
   "source": [
    "sc.tl.pca(adata_spermatogonia, svd_solver='arpack')\n",
    "sc.pp.neighbors(adata_spermatogonia, n_neighbors=10, n_pcs=40)\n",
    "sc.tl.tsne(adata_spermatogonia)\n",
    "sc.tl.umap(adata_spermatogonia)\n",
    "sc.tl.leiden(adata_spermatogonia)"
   ]
  },
  {
   "cell_type": "code",
   "execution_count": 8,
   "id": "cf8e742e-a573-4af5-86d3-1f361a60c3fb",
   "metadata": {},
   "outputs": [
    {
     "name": "stdout",
     "output_type": "stream",
     "text": [
      "WARNING: saving figure to file figures/umapadultspermatogonialeiden1221.pdf\n",
      "WARNING: saving figure to file figures/tsneadultspermatogonialeiden1221.pdf\n"
     ]
    }
   ],
   "source": [
    "sc.pl.umap(adata_spermatogonia, color='leiden',legend_loc='right margin',save='adultspermatogonialeiden1221.pdf')\n",
    "sc.pl.tsne(adata_spermatogonia, color='leiden',legend_loc='right margin',save='adultspermatogonialeiden1221.pdf')"
   ]
  },
  {
   "cell_type": "code",
   "execution_count": 9,
   "id": "b1268a86-4917-4761-99d9-e4374c897351",
   "metadata": {},
   "outputs": [
    {
     "name": "stdout",
     "output_type": "stream",
     "text": [
      "WARNING: saving figure to file figures/umapadultspermatogonialeidenondata1221.pdf\n"
     ]
    }
   ],
   "source": [
    "sc.pl.umap(adata_spermatogonia, color='leiden',legend_loc='on data',save='adultspermatogonialeidenondata1221.pdf')"
   ]
  },
  {
   "cell_type": "code",
   "execution_count": 10,
   "id": "94ace9e0-b2db-4816-8283-4839748aa97d",
   "metadata": {},
   "outputs": [
    {
     "name": "stdout",
     "output_type": "stream",
     "text": [
      "ranking genes\n",
      "    finished: added to `.uns['rank_genes_groups']`\n",
      "    'names', sorted np.recarray to be indexed by group ids\n",
      "    'scores', sorted np.recarray to be indexed by group ids\n",
      "    'logfoldchanges', sorted np.recarray to be indexed by group ids\n",
      "    'pvals', sorted np.recarray to be indexed by group ids\n",
      "    'pvals_adj', sorted np.recarray to be indexed by group ids (0:00:03)\n"
     ]
    }
   ],
   "source": [
    "sc.tl.rank_genes_groups(adata_spermatogonia, 'leiden', method='wilcoxon')"
   ]
  },
  {
   "cell_type": "code",
   "execution_count": 11,
   "id": "2a47e7ed-c0a9-4d64-bb45-3cbe03619916",
   "metadata": {},
   "outputs": [],
   "source": [
    "pd.DataFrame(adata_spermatogonia.uns['rank_genes_groups']['names']).head(5)\n",
    "adata_spermatogonia.uns['rank_genes_groups'].keys()\n",
    "#dict_keys(['logfoldchanges', 'names', 'params', 'pvals', 'pvals_adj', 'scores'])\n",
    "result = adata_spermatogonia.uns['rank_genes_groups']\n",
    "groups = result['names'].dtype.names\n",
    "pd.DataFrame(\n",
    "    {group + '_' + key[:1]: result[key][group]\n",
    "    for group in groups for key in ['names', 'pvals']}).head(5)\n",
    "res = pd.DataFrame(    \n",
    "    {group + '_' + key: result[key][group]    \n",
    "    for group in groups for key in ['names', 'pvals','logfoldchanges','pvals_adj','scores']})\n",
    "res.to_csv(\"./figures/diff_rank_genes_groups_adultspermatogonialeiden1221.csv\")"
   ]
  },
  {
   "cell_type": "code",
   "execution_count": 12,
   "id": "88ede730-623c-42c8-a39a-656752106510",
   "metadata": {},
   "outputs": [],
   "source": [
    "marker_genes_dict = {\n",
    "    'SSC': ['UCHL1', 'DAZL', 'UTF1','ID4','GFRA1','RET','NANOG','ZBTB16','SALL4','FGFR3','BMPR1B','ETV5'],\n",
    "    'Diffing SPG': ['KIT', 'MKI67','SOHLH1','DMRT1'],\n",
    "    'Diffed SPG': ['STRA8'],\n",
    "}"
   ]
  },
  {
   "cell_type": "code",
   "execution_count": 13,
   "id": "009c2200-5c2d-4aab-a42f-d16a71c87446",
   "metadata": {},
   "outputs": [
    {
     "name": "stdout",
     "output_type": "stream",
     "text": [
      "    using 'X_pca' with n_pcs = 50\n",
      "Storing dendrogram info using `.uns['dendrogram_leiden']`\n",
      "WARNING: Groups are not reordered because the `groupby` categories and the `var_group_labels` are different.\n",
      "categories: 0, 1, 2, etc.\n",
      "var_group_labels: SSC, Diffing SPG, Diffed SPG\n",
      "WARNING: saving figure to file figures/dotplot_adultspermatogonia.pdf\n"
     ]
    }
   ],
   "source": [
    "sc.tl.dendrogram(adata_spermatogonia,groupby=\"leiden\")\n",
    "sc.pl.dotplot(adata_spermatogonia, marker_genes_dict, 'leiden', dendrogram=True,save=\"adultspermatogonia.pdf\")"
   ]
  },
  {
   "cell_type": "code",
   "execution_count": 14,
   "id": "62736eac-2e7c-4d94-9633-f704b10f4125",
   "metadata": {},
   "outputs": [],
   "source": [
    "cell_cycle_genes = [x.strip() for x in open('./cell_cycle_genes (remove).txt')]\n",
    "s_genes = cell_cycle_genes[:43]\n",
    "g2m_genes = cell_cycle_genes[43:]"
   ]
  },
  {
   "cell_type": "code",
   "execution_count": 38,
   "id": "c6e1a139-c3a7-46fb-a6e6-ae503bed5577",
   "metadata": {},
   "outputs": [
    {
     "data": {
      "text/plain": [
       "['MCM5',\n",
       " 'PCNA',\n",
       " 'TYMS',\n",
       " 'FEN1',\n",
       " 'MCM2',\n",
       " 'MCM4',\n",
       " 'RRM1',\n",
       " 'UNG',\n",
       " 'GINS2',\n",
       " 'MCM6',\n",
       " 'CDCA7',\n",
       " 'DTL',\n",
       " 'PRIM1',\n",
       " 'UHRF1',\n",
       " 'CENPU',\n",
       " 'HELLS',\n",
       " 'RFC2',\n",
       " 'RPA2',\n",
       " 'NASP',\n",
       " 'RAD51AP1',\n",
       " 'GMNN',\n",
       " 'WDR76',\n",
       " 'SLBP',\n",
       " 'CCNE2',\n",
       " 'UBR7',\n",
       " 'POLD3',\n",
       " 'MSH2',\n",
       " 'ATAD2',\n",
       " 'RAD51',\n",
       " 'RRM2',\n",
       " 'CDC45',\n",
       " 'CDC6',\n",
       " 'EXO1',\n",
       " 'TIPIN',\n",
       " 'DSCC1',\n",
       " 'BLM',\n",
       " 'CASP8AP2',\n",
       " 'USP1',\n",
       " 'CLSPN',\n",
       " 'POLA1',\n",
       " 'CHAF1B',\n",
       " 'BRIP1',\n",
       " 'E2F8']"
      ]
     },
     "execution_count": 38,
     "metadata": {},
     "output_type": "execute_result"
    }
   ],
   "source": [
    "s_genes"
   ]
  },
  {
   "cell_type": "code",
   "execution_count": 43,
   "id": "3bccb532-0abc-4948-bd1c-16e13c144165",
   "metadata": {},
   "outputs": [
    {
     "name": "stdout",
     "output_type": "stream",
     "text": [
      "WARNING: saving figure to file figures/heatmapg1scellcyclespermatogonia1221.pdf\n",
      "WARNING: saving figure to file figures/heatmapg2mcellcyclespermatogonia1221.pdf\n"
     ]
    }
   ],
   "source": [
    "ax = sc.pl.heatmap(adata_spermatogonia, s_genes, groupby='leiden', vmin=-2, vmax=2, cmap='RdBu_r', dendrogram=False, show_gene_labels=False,swap_axes=True, figsize=(11,4),save='g1scellcyclespermatogonia1221.pdf')\n",
    "ax = sc.pl.heatmap(adata_spermatogonia, g2m_genes, groupby='leiden', vmin=-2, vmax=2, cmap='RdBu_r', dendrogram=False, show_gene_labels=False,swap_axes=True, figsize=(11,4),save='g2mcellcyclespermatogonia1221.pdf')"
   ]
  },
  {
   "cell_type": "code",
   "execution_count": 41,
   "id": "b3aff017-004d-4888-a686-0d78791135ee",
   "metadata": {},
   "outputs": [
    {
     "data": {
      "text/plain": [
       "AnnData object with n_obs × n_vars = 799 × 2851\n",
       "    obs: 'n_genes', 'n_genes_by_counts', 'total_counts', 'total_counts_mt', 'pct_counts_mt', 'total_counts_chrX', 'pct_counts_chrX', 'total_counts_chrY', 'pct_counts_chrY', 'S_score', 'G2M_score', 'phase', 'doublet', 'doublet_score', 'leiden', 'cell_type'\n",
       "    var: 'gene_ids', 'feature_types', 'genome', 'n_counts', 'mt', 'n_cells_by_counts', 'mean_counts', 'pct_dropout_by_counts', 'total_counts', 'chrX', 'chrY', 'highly_variable', 'means', 'dispersions', 'dispersions_norm', 'mean', 'std'\n",
       "    uns: 'cell_type_colors', 'dendrogram_cell_type', 'dendrogram_leiden', 'hvg', 'leiden', 'leiden_colors', 'neighbors', 'pca', 'rank_genes_groups', 'tsne', 'umap'\n",
       "    obsm: 'X_pca', 'X_tsne', 'X_umap'\n",
       "    varm: 'PCs'\n",
       "    obsp: 'connectivities', 'distances'"
      ]
     },
     "execution_count": 41,
     "metadata": {},
     "output_type": "execute_result"
    }
   ],
   "source": [
    "adata_spermatogonia"
   ]
  },
  {
   "cell_type": "code",
   "execution_count": 19,
   "id": "c156d499-b016-4293-916c-d866a1836f2b",
   "metadata": {},
   "outputs": [],
   "source": [
    "results_file = './figures/adultspermatogonia_1221unannotation.h5ad'\n",
    "adata_spermatogonia.write(results_file)"
   ]
  },
  {
   "cell_type": "code",
   "execution_count": null,
   "id": "c3a2181f-53e1-4952-945a-66837e1d3533",
   "metadata": {},
   "outputs": [],
   "source": []
  },
  {
   "cell_type": "markdown",
   "id": "48d19a50-720f-4ae5-96a8-b0fc28a57db0",
   "metadata": {},
   "source": [
    "## 取子集Spermatogocytes"
   ]
  },
  {
   "cell_type": "code",
   "execution_count": 31,
   "id": "baeb23dd-b720-4cee-aa4b-13f105ddd692",
   "metadata": {},
   "outputs": [
    {
     "data": {
      "text/plain": [
       "AnnData object with n_obs × n_vars = 694 × 2851\n",
       "    obs: 'n_genes', 'n_genes_by_counts', 'total_counts', 'total_counts_mt', 'pct_counts_mt', 'total_counts_chrX', 'pct_counts_chrX', 'total_counts_chrY', 'pct_counts_chrY', 'S_score', 'G2M_score', 'phase', 'doublet', 'doublet_score', 'leiden', 'cell_type'\n",
       "    var: 'gene_ids', 'feature_types', 'genome', 'n_counts', 'mt', 'n_cells_by_counts', 'mean_counts', 'pct_dropout_by_counts', 'total_counts', 'chrX', 'chrY', 'highly_variable', 'means', 'dispersions', 'dispersions_norm', 'mean', 'std'\n",
       "    uns: 'cell_type_colors', 'dendrogram_cell_type', 'dendrogram_leiden', 'hvg', 'leiden', 'leiden_colors', 'neighbors', 'pca', 'rank_genes_groups', 'tsne', 'umap'\n",
       "    obsm: 'X_pca', 'X_tsne', 'X_umap'\n",
       "    varm: 'PCs'\n",
       "    obsp: 'connectivities', 'distances'"
      ]
     },
     "execution_count": 31,
     "metadata": {},
     "output_type": "execute_result"
    }
   ],
   "source": [
    "adata_spermatogocyte = adata[adata.obs['cell_type'].isin(['Spermatocytes'])].copy()\n",
    "adata_spermatogocyte"
   ]
  },
  {
   "cell_type": "code",
   "execution_count": 33,
   "id": "ff24bc0c-a3f0-45bb-9730-7ca164103d2e",
   "metadata": {},
   "outputs": [
    {
     "data": {
      "text/html": [
       "<div>\n",
       "<style scoped>\n",
       "    .dataframe tbody tr th:only-of-type {\n",
       "        vertical-align: middle;\n",
       "    }\n",
       "\n",
       "    .dataframe tbody tr th {\n",
       "        vertical-align: top;\n",
       "    }\n",
       "\n",
       "    .dataframe thead th {\n",
       "        text-align: right;\n",
       "    }\n",
       "</style>\n",
       "<table border=\"1\" class=\"dataframe\">\n",
       "  <thead>\n",
       "    <tr style=\"text-align: right;\">\n",
       "      <th></th>\n",
       "      <th>n_genes</th>\n",
       "      <th>n_genes_by_counts</th>\n",
       "      <th>total_counts</th>\n",
       "      <th>total_counts_mt</th>\n",
       "      <th>pct_counts_mt</th>\n",
       "      <th>total_counts_chrX</th>\n",
       "      <th>pct_counts_chrX</th>\n",
       "      <th>total_counts_chrY</th>\n",
       "      <th>pct_counts_chrY</th>\n",
       "      <th>S_score</th>\n",
       "      <th>G2M_score</th>\n",
       "      <th>phase</th>\n",
       "      <th>doublet</th>\n",
       "      <th>doublet_score</th>\n",
       "      <th>leiden</th>\n",
       "      <th>cell_type</th>\n",
       "    </tr>\n",
       "  </thead>\n",
       "  <tbody>\n",
       "    <tr>\n",
       "      <th>AAACGAAAGCGAGTAC-1</th>\n",
       "      <td>3914</td>\n",
       "      <td>3914</td>\n",
       "      <td>11610.0</td>\n",
       "      <td>0.0</td>\n",
       "      <td>0.000000</td>\n",
       "      <td>419.0</td>\n",
       "      <td>3.608958</td>\n",
       "      <td>21.0</td>\n",
       "      <td>0.180879</td>\n",
       "      <td>0.377331</td>\n",
       "      <td>0.033822</td>\n",
       "      <td>S</td>\n",
       "      <td>0.0</td>\n",
       "      <td>4.183172</td>\n",
       "      <td>16</td>\n",
       "      <td>Spermatocytes</td>\n",
       "    </tr>\n",
       "    <tr>\n",
       "      <th>AAAGAACCAAGCGCAA-1</th>\n",
       "      <td>861</td>\n",
       "      <td>861</td>\n",
       "      <td>1148.0</td>\n",
       "      <td>0.0</td>\n",
       "      <td>0.000000</td>\n",
       "      <td>30.0</td>\n",
       "      <td>2.613240</td>\n",
       "      <td>2.0</td>\n",
       "      <td>0.174216</td>\n",
       "      <td>0.138864</td>\n",
       "      <td>0.121595</td>\n",
       "      <td>S</td>\n",
       "      <td>0.0</td>\n",
       "      <td>0.000032</td>\n",
       "      <td>16</td>\n",
       "      <td>Spermatocytes</td>\n",
       "    </tr>\n",
       "    <tr>\n",
       "      <th>AAAGAACTCCCAGGCA-1</th>\n",
       "      <td>3681</td>\n",
       "      <td>3681</td>\n",
       "      <td>9463.0</td>\n",
       "      <td>1.0</td>\n",
       "      <td>0.010567</td>\n",
       "      <td>397.0</td>\n",
       "      <td>4.195287</td>\n",
       "      <td>20.0</td>\n",
       "      <td>0.211349</td>\n",
       "      <td>0.015755</td>\n",
       "      <td>0.234436</td>\n",
       "      <td>G2M</td>\n",
       "      <td>0.0</td>\n",
       "      <td>20.233949</td>\n",
       "      <td>16</td>\n",
       "      <td>Spermatocytes</td>\n",
       "    </tr>\n",
       "    <tr>\n",
       "      <th>AAAGGTAGTCCAGCAC-1</th>\n",
       "      <td>3915</td>\n",
       "      <td>3915</td>\n",
       "      <td>12378.0</td>\n",
       "      <td>0.0</td>\n",
       "      <td>0.000000</td>\n",
       "      <td>432.0</td>\n",
       "      <td>3.490063</td>\n",
       "      <td>21.0</td>\n",
       "      <td>0.169656</td>\n",
       "      <td>0.017348</td>\n",
       "      <td>0.257183</td>\n",
       "      <td>G2M</td>\n",
       "      <td>0.0</td>\n",
       "      <td>4.183172</td>\n",
       "      <td>16</td>\n",
       "      <td>Spermatocytes</td>\n",
       "    </tr>\n",
       "    <tr>\n",
       "      <th>AACAAAGTCGACCTAA-1</th>\n",
       "      <td>3862</td>\n",
       "      <td>3862</td>\n",
       "      <td>8841.0</td>\n",
       "      <td>0.0</td>\n",
       "      <td>0.000000</td>\n",
       "      <td>311.0</td>\n",
       "      <td>3.517701</td>\n",
       "      <td>11.0</td>\n",
       "      <td>0.124420</td>\n",
       "      <td>0.518877</td>\n",
       "      <td>0.087549</td>\n",
       "      <td>S</td>\n",
       "      <td>0.0</td>\n",
       "      <td>8.443727</td>\n",
       "      <td>16</td>\n",
       "      <td>Spermatocytes</td>\n",
       "    </tr>\n",
       "    <tr>\n",
       "      <th>...</th>\n",
       "      <td>...</td>\n",
       "      <td>...</td>\n",
       "      <td>...</td>\n",
       "      <td>...</td>\n",
       "      <td>...</td>\n",
       "      <td>...</td>\n",
       "      <td>...</td>\n",
       "      <td>...</td>\n",
       "      <td>...</td>\n",
       "      <td>...</td>\n",
       "      <td>...</td>\n",
       "      <td>...</td>\n",
       "      <td>...</td>\n",
       "      <td>...</td>\n",
       "      <td>...</td>\n",
       "      <td>...</td>\n",
       "    </tr>\n",
       "    <tr>\n",
       "      <th>TTTCATGCAGTCGTTA-1</th>\n",
       "      <td>3662</td>\n",
       "      <td>3662</td>\n",
       "      <td>9436.0</td>\n",
       "      <td>0.0</td>\n",
       "      <td>0.000000</td>\n",
       "      <td>267.0</td>\n",
       "      <td>2.829589</td>\n",
       "      <td>10.0</td>\n",
       "      <td>0.105977</td>\n",
       "      <td>0.037377</td>\n",
       "      <td>0.232266</td>\n",
       "      <td>G2M</td>\n",
       "      <td>0.0</td>\n",
       "      <td>4.214537</td>\n",
       "      <td>16</td>\n",
       "      <td>Spermatocytes</td>\n",
       "    </tr>\n",
       "    <tr>\n",
       "      <th>TTTCATGGTGTATACC-1</th>\n",
       "      <td>717</td>\n",
       "      <td>717</td>\n",
       "      <td>908.0</td>\n",
       "      <td>0.0</td>\n",
       "      <td>0.000000</td>\n",
       "      <td>20.0</td>\n",
       "      <td>2.202643</td>\n",
       "      <td>0.0</td>\n",
       "      <td>0.000000</td>\n",
       "      <td>-0.005908</td>\n",
       "      <td>0.037339</td>\n",
       "      <td>G2M</td>\n",
       "      <td>0.0</td>\n",
       "      <td>0.000032</td>\n",
       "      <td>16</td>\n",
       "      <td>Spermatocytes</td>\n",
       "    </tr>\n",
       "    <tr>\n",
       "      <th>TTTCCTCTCGTGGACC-1</th>\n",
       "      <td>888</td>\n",
       "      <td>888</td>\n",
       "      <td>1365.0</td>\n",
       "      <td>0.0</td>\n",
       "      <td>0.000000</td>\n",
       "      <td>53.0</td>\n",
       "      <td>3.882784</td>\n",
       "      <td>1.0</td>\n",
       "      <td>0.073260</td>\n",
       "      <td>-0.083050</td>\n",
       "      <td>0.194403</td>\n",
       "      <td>G2M</td>\n",
       "      <td>0.0</td>\n",
       "      <td>0.022501</td>\n",
       "      <td>16</td>\n",
       "      <td>Spermatocytes</td>\n",
       "    </tr>\n",
       "    <tr>\n",
       "      <th>TTTCGATTCGCTACAA-1</th>\n",
       "      <td>769</td>\n",
       "      <td>769</td>\n",
       "      <td>1014.0</td>\n",
       "      <td>0.0</td>\n",
       "      <td>0.000000</td>\n",
       "      <td>23.0</td>\n",
       "      <td>2.268245</td>\n",
       "      <td>1.0</td>\n",
       "      <td>0.098619</td>\n",
       "      <td>-0.021957</td>\n",
       "      <td>0.095256</td>\n",
       "      <td>G2M</td>\n",
       "      <td>0.0</td>\n",
       "      <td>0.016051</td>\n",
       "      <td>16</td>\n",
       "      <td>Spermatocytes</td>\n",
       "    </tr>\n",
       "    <tr>\n",
       "      <th>TTTGGAGGTGTAGCAG-1</th>\n",
       "      <td>3017</td>\n",
       "      <td>3017</td>\n",
       "      <td>7178.0</td>\n",
       "      <td>2.0</td>\n",
       "      <td>0.027863</td>\n",
       "      <td>252.0</td>\n",
       "      <td>3.510727</td>\n",
       "      <td>10.0</td>\n",
       "      <td>0.139315</td>\n",
       "      <td>-0.018772</td>\n",
       "      <td>0.460117</td>\n",
       "      <td>G2M</td>\n",
       "      <td>0.0</td>\n",
       "      <td>20.233949</td>\n",
       "      <td>16</td>\n",
       "      <td>Spermatocytes</td>\n",
       "    </tr>\n",
       "  </tbody>\n",
       "</table>\n",
       "<p>694 rows × 16 columns</p>\n",
       "</div>"
      ],
      "text/plain": [
       "                    n_genes  n_genes_by_counts  total_counts  total_counts_mt  \\\n",
       "AAACGAAAGCGAGTAC-1     3914               3914       11610.0              0.0   \n",
       "AAAGAACCAAGCGCAA-1      861                861        1148.0              0.0   \n",
       "AAAGAACTCCCAGGCA-1     3681               3681        9463.0              1.0   \n",
       "AAAGGTAGTCCAGCAC-1     3915               3915       12378.0              0.0   \n",
       "AACAAAGTCGACCTAA-1     3862               3862        8841.0              0.0   \n",
       "...                     ...                ...           ...              ...   \n",
       "TTTCATGCAGTCGTTA-1     3662               3662        9436.0              0.0   \n",
       "TTTCATGGTGTATACC-1      717                717         908.0              0.0   \n",
       "TTTCCTCTCGTGGACC-1      888                888        1365.0              0.0   \n",
       "TTTCGATTCGCTACAA-1      769                769        1014.0              0.0   \n",
       "TTTGGAGGTGTAGCAG-1     3017               3017        7178.0              2.0   \n",
       "\n",
       "                    pct_counts_mt  total_counts_chrX  pct_counts_chrX  \\\n",
       "AAACGAAAGCGAGTAC-1       0.000000              419.0         3.608958   \n",
       "AAAGAACCAAGCGCAA-1       0.000000               30.0         2.613240   \n",
       "AAAGAACTCCCAGGCA-1       0.010567              397.0         4.195287   \n",
       "AAAGGTAGTCCAGCAC-1       0.000000              432.0         3.490063   \n",
       "AACAAAGTCGACCTAA-1       0.000000              311.0         3.517701   \n",
       "...                           ...                ...              ...   \n",
       "TTTCATGCAGTCGTTA-1       0.000000              267.0         2.829589   \n",
       "TTTCATGGTGTATACC-1       0.000000               20.0         2.202643   \n",
       "TTTCCTCTCGTGGACC-1       0.000000               53.0         3.882784   \n",
       "TTTCGATTCGCTACAA-1       0.000000               23.0         2.268245   \n",
       "TTTGGAGGTGTAGCAG-1       0.027863              252.0         3.510727   \n",
       "\n",
       "                    total_counts_chrY  pct_counts_chrY   S_score  G2M_score  \\\n",
       "AAACGAAAGCGAGTAC-1               21.0         0.180879  0.377331   0.033822   \n",
       "AAAGAACCAAGCGCAA-1                2.0         0.174216  0.138864   0.121595   \n",
       "AAAGAACTCCCAGGCA-1               20.0         0.211349  0.015755   0.234436   \n",
       "AAAGGTAGTCCAGCAC-1               21.0         0.169656  0.017348   0.257183   \n",
       "AACAAAGTCGACCTAA-1               11.0         0.124420  0.518877   0.087549   \n",
       "...                               ...              ...       ...        ...   \n",
       "TTTCATGCAGTCGTTA-1               10.0         0.105977  0.037377   0.232266   \n",
       "TTTCATGGTGTATACC-1                0.0         0.000000 -0.005908   0.037339   \n",
       "TTTCCTCTCGTGGACC-1                1.0         0.073260 -0.083050   0.194403   \n",
       "TTTCGATTCGCTACAA-1                1.0         0.098619 -0.021957   0.095256   \n",
       "TTTGGAGGTGTAGCAG-1               10.0         0.139315 -0.018772   0.460117   \n",
       "\n",
       "                   phase  doublet  doublet_score leiden      cell_type  \n",
       "AAACGAAAGCGAGTAC-1     S      0.0       4.183172     16  Spermatocytes  \n",
       "AAAGAACCAAGCGCAA-1     S      0.0       0.000032     16  Spermatocytes  \n",
       "AAAGAACTCCCAGGCA-1   G2M      0.0      20.233949     16  Spermatocytes  \n",
       "AAAGGTAGTCCAGCAC-1   G2M      0.0       4.183172     16  Spermatocytes  \n",
       "AACAAAGTCGACCTAA-1     S      0.0       8.443727     16  Spermatocytes  \n",
       "...                  ...      ...            ...    ...            ...  \n",
       "TTTCATGCAGTCGTTA-1   G2M      0.0       4.214537     16  Spermatocytes  \n",
       "TTTCATGGTGTATACC-1   G2M      0.0       0.000032     16  Spermatocytes  \n",
       "TTTCCTCTCGTGGACC-1   G2M      0.0       0.022501     16  Spermatocytes  \n",
       "TTTCGATTCGCTACAA-1   G2M      0.0       0.016051     16  Spermatocytes  \n",
       "TTTGGAGGTGTAGCAG-1   G2M      0.0      20.233949     16  Spermatocytes  \n",
       "\n",
       "[694 rows x 16 columns]"
      ]
     },
     "execution_count": 33,
     "metadata": {},
     "output_type": "execute_result"
    }
   ],
   "source": [
    "adata_spermatogocyte.obs"
   ]
  },
  {
   "cell_type": "code",
   "execution_count": 34,
   "id": "dbe0995f-8838-4273-8dc6-118345e48d79",
   "metadata": {},
   "outputs": [
    {
     "name": "stdout",
     "output_type": "stream",
     "text": [
      "computing PCA\n",
      "    on highly variable genes\n",
      "    with n_comps=50\n",
      "    finished (0:00:06)\n",
      "computing neighbors\n",
      "    using 'X_pca' with n_pcs = 40\n",
      "    finished: added to `.uns['neighbors']`\n",
      "    `.obsp['distances']`, distances for each pair of neighbors\n",
      "    `.obsp['connectivities']`, weighted adjacency matrix (0:00:00)\n",
      "computing tSNE\n",
      "    using 'X_pca' with n_pcs = 50\n",
      "    using sklearn.manifold.TSNE\n"
     ]
    },
    {
     "name": "stderr",
     "output_type": "stream",
     "text": [
      "/public/home/zhaox/anaconda3/lib/python3.9/site-packages/sklearn/manifold/_t_sne.py:795: FutureWarning: The default initialization in TSNE will change from 'random' to 'pca' in 1.2.\n",
      "  warnings.warn(\n"
     ]
    },
    {
     "name": "stdout",
     "output_type": "stream",
     "text": [
      "    finished: added\n",
      "    'X_tsne', tSNE coordinates (adata.obsm) (0:04:01)\n",
      "computing UMAP\n",
      "    finished: added\n",
      "    'X_umap', UMAP coordinates (adata.obsm) (0:00:03)\n",
      "running Leiden clustering\n",
      "    finished: found 6 clusters and added\n",
      "    'leiden', the cluster labels (adata.obs, categorical) (0:00:00)\n"
     ]
    }
   ],
   "source": [
    "sc.tl.pca(adata_spermatogocyte, svd_solver='arpack')\n",
    "sc.pp.neighbors(adata_spermatogocyte, n_neighbors=10, n_pcs=40)\n",
    "sc.tl.tsne(adata_spermatogocyte)\n",
    "sc.tl.umap(adata_spermatogocyte)\n",
    "sc.tl.leiden(adata_spermatogocyte)"
   ]
  },
  {
   "cell_type": "code",
   "execution_count": 35,
   "id": "bd9b3a09-679e-4feb-953e-d48ae2d86cc5",
   "metadata": {},
   "outputs": [
    {
     "name": "stdout",
     "output_type": "stream",
     "text": [
      "WARNING: saving figure to file figures/umapadultspermatogocyteleiden1221.pdf\n",
      "WARNING: saving figure to file figures/tsneadultspermatogocyteleiden1221.pdf\n",
      "WARNING: saving figure to file figures/umapadultspermatogocyteleidenondata1221.pdf\n"
     ]
    }
   ],
   "source": [
    "sc.pl.umap(adata_spermatogocyte, color='leiden',legend_loc='right margin',save='adultspermatogocyteleiden1221.pdf')\n",
    "sc.pl.tsne(adata_spermatogocyte, color='leiden',legend_loc='right margin',save='adultspermatogocyteleiden1221.pdf')\n",
    "sc.pl.umap(adata_spermatogocyte, color='leiden',legend_loc='on data',save='adultspermatogocyteleidenondata1221.pdf')"
   ]
  },
  {
   "cell_type": "code",
   "execution_count": 36,
   "id": "947d4529-fd95-4745-87a1-b3bb91506f2b",
   "metadata": {},
   "outputs": [
    {
     "name": "stdout",
     "output_type": "stream",
     "text": [
      "ranking genes\n",
      "    finished: added to `.uns['rank_genes_groups']`\n",
      "    'names', sorted np.recarray to be indexed by group ids\n",
      "    'scores', sorted np.recarray to be indexed by group ids\n",
      "    'logfoldchanges', sorted np.recarray to be indexed by group ids\n",
      "    'pvals', sorted np.recarray to be indexed by group ids\n",
      "    'pvals_adj', sorted np.recarray to be indexed by group ids (0:00:02)\n"
     ]
    }
   ],
   "source": [
    "sc.tl.rank_genes_groups(adata_spermatogocyte, 'leiden', method='wilcoxon')"
   ]
  },
  {
   "cell_type": "code",
   "execution_count": 37,
   "id": "1bc933b9-f148-488f-9698-dda5a92042a0",
   "metadata": {},
   "outputs": [],
   "source": [
    "pd.DataFrame(adata_spermatogocyte.uns['rank_genes_groups']['names']).head(5)\n",
    "adata_spermatogocyte.uns['rank_genes_groups'].keys()\n",
    "#dict_keys(['logfoldchanges', 'names', 'params', 'pvals', 'pvals_adj', 'scores'])\n",
    "result = adata_spermatogocyte.uns['rank_genes_groups']\n",
    "groups = result['names'].dtype.names\n",
    "pd.DataFrame(\n",
    "    {group + '_' + key[:1]: result[key][group]\n",
    "    for group in groups for key in ['names', 'pvals']}).head(5)\n",
    "res = pd.DataFrame(    \n",
    "    {group + '_' + key: result[key][group]    \n",
    "    for group in groups for key in ['names', 'pvals','logfoldchanges','pvals_adj','scores']})\n",
    "res.to_csv(\"./figures/diff_rank_genes_groups_adultadata_spermatogocyteleiden1221.csv\")"
   ]
  },
  {
   "cell_type": "code",
   "execution_count": 40,
   "id": "2b4b4d29-e253-40bf-88d2-da704b45af1b",
   "metadata": {},
   "outputs": [
    {
     "name": "stdout",
     "output_type": "stream",
     "text": [
      "WARNING: saving figure to file figures/heatmapg1scellcyclespermatogocyte1221.pdf\n",
      "WARNING: saving figure to file figures/heatmapg2mcellcyclespermatogocyte1221.pdf\n"
     ]
    }
   ],
   "source": [
    "ax = sc.pl.heatmap(adata_spermatogocyte, s_genes, groupby='leiden', vmin=-2, vmax=2, cmap='RdBu_r', dendrogram=False, show_gene_labels=False,swap_axes=True, figsize=(11,4),save='g1scellcyclespermatogocyte1221.pdf')\n",
    "ax = sc.pl.heatmap(adata_spermatogocyte, g2m_genes, groupby='leiden', vmin=-2, vmax=2, cmap='RdBu_r', dendrogram=False, show_gene_labels=False,swap_axes=True, figsize=(11,4),save='g2mcellcyclespermatogocyte1221.pdf')"
   ]
  },
  {
   "cell_type": "code",
   "execution_count": 45,
   "id": "946fddd4-5060-459e-90ce-6a42559958c1",
   "metadata": {},
   "outputs": [],
   "source": [
    "results_file = './figures/adultspermatogocyte_1221unannotation.h5ad'\n",
    "adata_spermatogocyte.write(results_file)"
   ]
  },
  {
   "cell_type": "code",
   "execution_count": null,
   "id": "e8663288-31aa-4065-b9a5-912a227916d3",
   "metadata": {},
   "outputs": [],
   "source": []
  },
  {
   "cell_type": "markdown",
   "id": "5c29e67b-b067-4b13-b161-d729acaedbac",
   "metadata": {},
   "source": [
    "## 取子集Spermatids"
   ]
  },
  {
   "cell_type": "code",
   "execution_count": 46,
   "id": "a61011d3-77bc-42ca-9df0-1b6ea2f3b7f9",
   "metadata": {},
   "outputs": [
    {
     "data": {
      "text/plain": [
       "AnnData object with n_obs × n_vars = 2375 × 2851\n",
       "    obs: 'n_genes', 'n_genes_by_counts', 'total_counts', 'total_counts_mt', 'pct_counts_mt', 'total_counts_chrX', 'pct_counts_chrX', 'total_counts_chrY', 'pct_counts_chrY', 'S_score', 'G2M_score', 'phase', 'doublet', 'doublet_score', 'leiden', 'cell_type'\n",
       "    var: 'gene_ids', 'feature_types', 'genome', 'n_counts', 'mt', 'n_cells_by_counts', 'mean_counts', 'pct_dropout_by_counts', 'total_counts', 'chrX', 'chrY', 'highly_variable', 'means', 'dispersions', 'dispersions_norm', 'mean', 'std'\n",
       "    uns: 'cell_type_colors', 'dendrogram_cell_type', 'dendrogram_leiden', 'hvg', 'leiden', 'leiden_colors', 'neighbors', 'pca', 'rank_genes_groups', 'tsne', 'umap'\n",
       "    obsm: 'X_pca', 'X_tsne', 'X_umap'\n",
       "    varm: 'PCs'\n",
       "    obsp: 'connectivities', 'distances'"
      ]
     },
     "execution_count": 46,
     "metadata": {},
     "output_type": "execute_result"
    }
   ],
   "source": [
    "adata_spermatids = adata[adata.obs['cell_type'].isin(['Round spermatids','Elongating spermatids'])].copy()\n",
    "adata_spermatids"
   ]
  },
  {
   "cell_type": "code",
   "execution_count": 47,
   "id": "2f362210-e7a1-4d90-8f74-2db142ad4c87",
   "metadata": {},
   "outputs": [
    {
     "data": {
      "text/html": [
       "<div>\n",
       "<style scoped>\n",
       "    .dataframe tbody tr th:only-of-type {\n",
       "        vertical-align: middle;\n",
       "    }\n",
       "\n",
       "    .dataframe tbody tr th {\n",
       "        vertical-align: top;\n",
       "    }\n",
       "\n",
       "    .dataframe thead th {\n",
       "        text-align: right;\n",
       "    }\n",
       "</style>\n",
       "<table border=\"1\" class=\"dataframe\">\n",
       "  <thead>\n",
       "    <tr style=\"text-align: right;\">\n",
       "      <th></th>\n",
       "      <th>n_genes</th>\n",
       "      <th>n_genes_by_counts</th>\n",
       "      <th>total_counts</th>\n",
       "      <th>total_counts_mt</th>\n",
       "      <th>pct_counts_mt</th>\n",
       "      <th>total_counts_chrX</th>\n",
       "      <th>pct_counts_chrX</th>\n",
       "      <th>total_counts_chrY</th>\n",
       "      <th>pct_counts_chrY</th>\n",
       "      <th>S_score</th>\n",
       "      <th>G2M_score</th>\n",
       "      <th>phase</th>\n",
       "      <th>doublet</th>\n",
       "      <th>doublet_score</th>\n",
       "      <th>leiden</th>\n",
       "      <th>cell_type</th>\n",
       "    </tr>\n",
       "  </thead>\n",
       "  <tbody>\n",
       "    <tr>\n",
       "      <th>AAACCCAAGATGTAGT-1</th>\n",
       "      <td>2978</td>\n",
       "      <td>2978</td>\n",
       "      <td>9340.0</td>\n",
       "      <td>0.0</td>\n",
       "      <td>0.000000</td>\n",
       "      <td>44.0</td>\n",
       "      <td>0.471092</td>\n",
       "      <td>5.0</td>\n",
       "      <td>0.053533</td>\n",
       "      <td>-0.123151</td>\n",
       "      <td>0.865459</td>\n",
       "      <td>G2M</td>\n",
       "      <td>0.0</td>\n",
       "      <td>4.674769e+00</td>\n",
       "      <td>23</td>\n",
       "      <td>Round spermatids</td>\n",
       "    </tr>\n",
       "    <tr>\n",
       "      <th>AAACCCAAGCCGCTTG-1</th>\n",
       "      <td>628</td>\n",
       "      <td>628</td>\n",
       "      <td>759.0</td>\n",
       "      <td>0.0</td>\n",
       "      <td>0.000000</td>\n",
       "      <td>15.0</td>\n",
       "      <td>1.976285</td>\n",
       "      <td>0.0</td>\n",
       "      <td>0.000000</td>\n",
       "      <td>-0.002305</td>\n",
       "      <td>-0.004789</td>\n",
       "      <td>G1</td>\n",
       "      <td>0.0</td>\n",
       "      <td>7.041683e-65</td>\n",
       "      <td>12</td>\n",
       "      <td>Round spermatids</td>\n",
       "    </tr>\n",
       "    <tr>\n",
       "      <th>AAACGAAAGTTCCTGA-1</th>\n",
       "      <td>556</td>\n",
       "      <td>556</td>\n",
       "      <td>645.0</td>\n",
       "      <td>1.0</td>\n",
       "      <td>0.155039</td>\n",
       "      <td>10.0</td>\n",
       "      <td>1.550388</td>\n",
       "      <td>0.0</td>\n",
       "      <td>0.000000</td>\n",
       "      <td>-0.016551</td>\n",
       "      <td>-0.006735</td>\n",
       "      <td>G1</td>\n",
       "      <td>0.0</td>\n",
       "      <td>7.041683e-65</td>\n",
       "      <td>24</td>\n",
       "      <td>Round spermatids</td>\n",
       "    </tr>\n",
       "    <tr>\n",
       "      <th>AAACGAAAGTTGAATG-1</th>\n",
       "      <td>1624</td>\n",
       "      <td>1624</td>\n",
       "      <td>3084.0</td>\n",
       "      <td>1.0</td>\n",
       "      <td>0.032425</td>\n",
       "      <td>96.0</td>\n",
       "      <td>3.112840</td>\n",
       "      <td>3.0</td>\n",
       "      <td>0.097276</td>\n",
       "      <td>-0.236371</td>\n",
       "      <td>-0.059339</td>\n",
       "      <td>G1</td>\n",
       "      <td>0.0</td>\n",
       "      <td>1.192613e+00</td>\n",
       "      <td>26</td>\n",
       "      <td>Elongating spermatids</td>\n",
       "    </tr>\n",
       "    <tr>\n",
       "      <th>AAACGAAGTACCGTCG-1</th>\n",
       "      <td>700</td>\n",
       "      <td>700</td>\n",
       "      <td>839.0</td>\n",
       "      <td>0.0</td>\n",
       "      <td>0.000000</td>\n",
       "      <td>8.0</td>\n",
       "      <td>0.953516</td>\n",
       "      <td>0.0</td>\n",
       "      <td>0.000000</td>\n",
       "      <td>-0.009679</td>\n",
       "      <td>0.158560</td>\n",
       "      <td>G2M</td>\n",
       "      <td>0.0</td>\n",
       "      <td>1.460851e-22</td>\n",
       "      <td>14</td>\n",
       "      <td>Round spermatids</td>\n",
       "    </tr>\n",
       "    <tr>\n",
       "      <th>...</th>\n",
       "      <td>...</td>\n",
       "      <td>...</td>\n",
       "      <td>...</td>\n",
       "      <td>...</td>\n",
       "      <td>...</td>\n",
       "      <td>...</td>\n",
       "      <td>...</td>\n",
       "      <td>...</td>\n",
       "      <td>...</td>\n",
       "      <td>...</td>\n",
       "      <td>...</td>\n",
       "      <td>...</td>\n",
       "      <td>...</td>\n",
       "      <td>...</td>\n",
       "      <td>...</td>\n",
       "      <td>...</td>\n",
       "    </tr>\n",
       "    <tr>\n",
       "      <th>TTTGGTTTCCATACTT-1</th>\n",
       "      <td>570</td>\n",
       "      <td>570</td>\n",
       "      <td>648.0</td>\n",
       "      <td>0.0</td>\n",
       "      <td>0.000000</td>\n",
       "      <td>6.0</td>\n",
       "      <td>0.925926</td>\n",
       "      <td>0.0</td>\n",
       "      <td>0.000000</td>\n",
       "      <td>-0.066667</td>\n",
       "      <td>0.012721</td>\n",
       "      <td>G2M</td>\n",
       "      <td>0.0</td>\n",
       "      <td>3.041393e-14</td>\n",
       "      <td>12</td>\n",
       "      <td>Round spermatids</td>\n",
       "    </tr>\n",
       "    <tr>\n",
       "      <th>TTTGTTGAGACATCAA-1</th>\n",
       "      <td>541</td>\n",
       "      <td>541</td>\n",
       "      <td>628.0</td>\n",
       "      <td>0.0</td>\n",
       "      <td>0.000000</td>\n",
       "      <td>5.0</td>\n",
       "      <td>0.796178</td>\n",
       "      <td>2.0</td>\n",
       "      <td>0.318471</td>\n",
       "      <td>0.015546</td>\n",
       "      <td>0.076025</td>\n",
       "      <td>G2M</td>\n",
       "      <td>0.0</td>\n",
       "      <td>1.460851e-22</td>\n",
       "      <td>14</td>\n",
       "      <td>Round spermatids</td>\n",
       "    </tr>\n",
       "    <tr>\n",
       "      <th>TTTGTTGAGATGTTAG-1</th>\n",
       "      <td>1735</td>\n",
       "      <td>1735</td>\n",
       "      <td>2776.0</td>\n",
       "      <td>0.0</td>\n",
       "      <td>0.000000</td>\n",
       "      <td>42.0</td>\n",
       "      <td>1.512968</td>\n",
       "      <td>6.0</td>\n",
       "      <td>0.216138</td>\n",
       "      <td>-0.105845</td>\n",
       "      <td>0.120024</td>\n",
       "      <td>G2M</td>\n",
       "      <td>0.0</td>\n",
       "      <td>3.333309e+01</td>\n",
       "      <td>14</td>\n",
       "      <td>Round spermatids</td>\n",
       "    </tr>\n",
       "    <tr>\n",
       "      <th>TTTGTTGAGTATGGAT-1</th>\n",
       "      <td>2744</td>\n",
       "      <td>2744</td>\n",
       "      <td>6329.0</td>\n",
       "      <td>4.0</td>\n",
       "      <td>0.063201</td>\n",
       "      <td>172.0</td>\n",
       "      <td>2.717649</td>\n",
       "      <td>14.0</td>\n",
       "      <td>0.221204</td>\n",
       "      <td>-0.510748</td>\n",
       "      <td>-0.328494</td>\n",
       "      <td>G1</td>\n",
       "      <td>0.0</td>\n",
       "      <td>1.192613e+00</td>\n",
       "      <td>26</td>\n",
       "      <td>Elongating spermatids</td>\n",
       "    </tr>\n",
       "    <tr>\n",
       "      <th>TTTGTTGCATATCTCT-1</th>\n",
       "      <td>1521</td>\n",
       "      <td>1521</td>\n",
       "      <td>2394.0</td>\n",
       "      <td>0.0</td>\n",
       "      <td>0.000000</td>\n",
       "      <td>25.0</td>\n",
       "      <td>1.044277</td>\n",
       "      <td>0.0</td>\n",
       "      <td>0.000000</td>\n",
       "      <td>-0.087995</td>\n",
       "      <td>0.106854</td>\n",
       "      <td>G2M</td>\n",
       "      <td>0.0</td>\n",
       "      <td>3.784071e-04</td>\n",
       "      <td>14</td>\n",
       "      <td>Round spermatids</td>\n",
       "    </tr>\n",
       "  </tbody>\n",
       "</table>\n",
       "<p>2375 rows × 16 columns</p>\n",
       "</div>"
      ],
      "text/plain": [
       "                    n_genes  n_genes_by_counts  total_counts  total_counts_mt  \\\n",
       "AAACCCAAGATGTAGT-1     2978               2978        9340.0              0.0   \n",
       "AAACCCAAGCCGCTTG-1      628                628         759.0              0.0   \n",
       "AAACGAAAGTTCCTGA-1      556                556         645.0              1.0   \n",
       "AAACGAAAGTTGAATG-1     1624               1624        3084.0              1.0   \n",
       "AAACGAAGTACCGTCG-1      700                700         839.0              0.0   \n",
       "...                     ...                ...           ...              ...   \n",
       "TTTGGTTTCCATACTT-1      570                570         648.0              0.0   \n",
       "TTTGTTGAGACATCAA-1      541                541         628.0              0.0   \n",
       "TTTGTTGAGATGTTAG-1     1735               1735        2776.0              0.0   \n",
       "TTTGTTGAGTATGGAT-1     2744               2744        6329.0              4.0   \n",
       "TTTGTTGCATATCTCT-1     1521               1521        2394.0              0.0   \n",
       "\n",
       "                    pct_counts_mt  total_counts_chrX  pct_counts_chrX  \\\n",
       "AAACCCAAGATGTAGT-1       0.000000               44.0         0.471092   \n",
       "AAACCCAAGCCGCTTG-1       0.000000               15.0         1.976285   \n",
       "AAACGAAAGTTCCTGA-1       0.155039               10.0         1.550388   \n",
       "AAACGAAAGTTGAATG-1       0.032425               96.0         3.112840   \n",
       "AAACGAAGTACCGTCG-1       0.000000                8.0         0.953516   \n",
       "...                           ...                ...              ...   \n",
       "TTTGGTTTCCATACTT-1       0.000000                6.0         0.925926   \n",
       "TTTGTTGAGACATCAA-1       0.000000                5.0         0.796178   \n",
       "TTTGTTGAGATGTTAG-1       0.000000               42.0         1.512968   \n",
       "TTTGTTGAGTATGGAT-1       0.063201              172.0         2.717649   \n",
       "TTTGTTGCATATCTCT-1       0.000000               25.0         1.044277   \n",
       "\n",
       "                    total_counts_chrY  pct_counts_chrY   S_score  G2M_score  \\\n",
       "AAACCCAAGATGTAGT-1                5.0         0.053533 -0.123151   0.865459   \n",
       "AAACCCAAGCCGCTTG-1                0.0         0.000000 -0.002305  -0.004789   \n",
       "AAACGAAAGTTCCTGA-1                0.0         0.000000 -0.016551  -0.006735   \n",
       "AAACGAAAGTTGAATG-1                3.0         0.097276 -0.236371  -0.059339   \n",
       "AAACGAAGTACCGTCG-1                0.0         0.000000 -0.009679   0.158560   \n",
       "...                               ...              ...       ...        ...   \n",
       "TTTGGTTTCCATACTT-1                0.0         0.000000 -0.066667   0.012721   \n",
       "TTTGTTGAGACATCAA-1                2.0         0.318471  0.015546   0.076025   \n",
       "TTTGTTGAGATGTTAG-1                6.0         0.216138 -0.105845   0.120024   \n",
       "TTTGTTGAGTATGGAT-1               14.0         0.221204 -0.510748  -0.328494   \n",
       "TTTGTTGCATATCTCT-1                0.0         0.000000 -0.087995   0.106854   \n",
       "\n",
       "                   phase  doublet  doublet_score leiden              cell_type  \n",
       "AAACCCAAGATGTAGT-1   G2M      0.0   4.674769e+00     23       Round spermatids  \n",
       "AAACCCAAGCCGCTTG-1    G1      0.0   7.041683e-65     12       Round spermatids  \n",
       "AAACGAAAGTTCCTGA-1    G1      0.0   7.041683e-65     24       Round spermatids  \n",
       "AAACGAAAGTTGAATG-1    G1      0.0   1.192613e+00     26  Elongating spermatids  \n",
       "AAACGAAGTACCGTCG-1   G2M      0.0   1.460851e-22     14       Round spermatids  \n",
       "...                  ...      ...            ...    ...                    ...  \n",
       "TTTGGTTTCCATACTT-1   G2M      0.0   3.041393e-14     12       Round spermatids  \n",
       "TTTGTTGAGACATCAA-1   G2M      0.0   1.460851e-22     14       Round spermatids  \n",
       "TTTGTTGAGATGTTAG-1   G2M      0.0   3.333309e+01     14       Round spermatids  \n",
       "TTTGTTGAGTATGGAT-1    G1      0.0   1.192613e+00     26  Elongating spermatids  \n",
       "TTTGTTGCATATCTCT-1   G2M      0.0   3.784071e-04     14       Round spermatids  \n",
       "\n",
       "[2375 rows x 16 columns]"
      ]
     },
     "execution_count": 47,
     "metadata": {},
     "output_type": "execute_result"
    }
   ],
   "source": [
    "adata_spermatids.obs"
   ]
  },
  {
   "cell_type": "code",
   "execution_count": 48,
   "id": "2b5707c0-31a9-4fc4-a735-f80d5980f5e9",
   "metadata": {},
   "outputs": [
    {
     "name": "stdout",
     "output_type": "stream",
     "text": [
      "computing PCA\n",
      "    on highly variable genes\n",
      "    with n_comps=50\n",
      "    finished (0:00:09)\n",
      "computing neighbors\n",
      "    using 'X_pca' with n_pcs = 40\n",
      "    finished: added to `.uns['neighbors']`\n",
      "    `.obsp['distances']`, distances for each pair of neighbors\n",
      "    `.obsp['connectivities']`, weighted adjacency matrix (0:00:00)\n",
      "computing tSNE\n",
      "    using 'X_pca' with n_pcs = 50\n",
      "    using sklearn.manifold.TSNE\n"
     ]
    },
    {
     "name": "stderr",
     "output_type": "stream",
     "text": [
      "/public/home/zhaox/anaconda3/lib/python3.9/site-packages/sklearn/manifold/_t_sne.py:795: FutureWarning: The default initialization in TSNE will change from 'random' to 'pca' in 1.2.\n",
      "  warnings.warn(\n"
     ]
    },
    {
     "name": "stdout",
     "output_type": "stream",
     "text": [
      "    finished: added\n",
      "    'X_tsne', tSNE coordinates (adata.obsm) (0:03:55)\n",
      "computing UMAP\n",
      "    finished: added\n",
      "    'X_umap', UMAP coordinates (adata.obsm) (0:00:09)\n",
      "running Leiden clustering\n",
      "    finished: found 15 clusters and added\n",
      "    'leiden', the cluster labels (adata.obs, categorical) (0:00:00)\n"
     ]
    }
   ],
   "source": [
    "sc.tl.pca(adata_spermatids, svd_solver='arpack')\n",
    "sc.pp.neighbors(adata_spermatids, n_neighbors=10, n_pcs=40)\n",
    "sc.tl.tsne(adata_spermatids)\n",
    "sc.tl.umap(adata_spermatids)\n",
    "sc.tl.leiden(adata_spermatids)"
   ]
  },
  {
   "cell_type": "code",
   "execution_count": 53,
   "id": "34c7295f-9087-4424-b802-857321d33ed3",
   "metadata": {},
   "outputs": [
    {
     "name": "stdout",
     "output_type": "stream",
     "text": [
      "running Leiden clustering\n",
      "    finished: found 8 clusters and added\n",
      "    'leiden', the cluster labels (adata.obs, categorical) (0:00:00)\n"
     ]
    }
   ],
   "source": [
    "sc.tl.leiden(adata_spermatids,resolution=0.4)"
   ]
  },
  {
   "cell_type": "code",
   "execution_count": 54,
   "id": "1e5e48eb-c186-4c4f-bd46-4962c5a142b1",
   "metadata": {},
   "outputs": [
    {
     "name": "stdout",
     "output_type": "stream",
     "text": [
      "WARNING: saving figure to file figures/umapadultspermatidsleiden1221.pdf\n",
      "WARNING: saving figure to file figures/tsneadultspermatidsleiden1221.pdf\n",
      "WARNING: saving figure to file figures/umapadultspermatidsleidenondata1221.pdf\n"
     ]
    }
   ],
   "source": [
    "sc.pl.umap(adata_spermatids, color='leiden',legend_loc='right margin',save='adultspermatidsleiden1221.pdf')\n",
    "sc.pl.tsne(adata_spermatids, color='leiden',legend_loc='right margin',save='adultspermatidsleiden1221.pdf')\n",
    "sc.pl.umap(adata_spermatids, color='leiden',legend_loc='on data',save='adultspermatidsleidenondata1221.pdf')"
   ]
  },
  {
   "cell_type": "code",
   "execution_count": 55,
   "id": "30935be8-f0ee-4033-81e0-1df5129c629c",
   "metadata": {},
   "outputs": [
    {
     "name": "stdout",
     "output_type": "stream",
     "text": [
      "ranking genes\n",
      "    finished: added to `.uns['rank_genes_groups']`\n",
      "    'names', sorted np.recarray to be indexed by group ids\n",
      "    'scores', sorted np.recarray to be indexed by group ids\n",
      "    'logfoldchanges', sorted np.recarray to be indexed by group ids\n",
      "    'pvals', sorted np.recarray to be indexed by group ids\n",
      "    'pvals_adj', sorted np.recarray to be indexed by group ids (0:00:08)\n"
     ]
    }
   ],
   "source": [
    "sc.tl.rank_genes_groups(adata_spermatids, 'leiden', method='wilcoxon')"
   ]
  },
  {
   "cell_type": "code",
   "execution_count": 56,
   "id": "7910fe61-cf15-4e57-8ffa-705183acece9",
   "metadata": {},
   "outputs": [],
   "source": [
    "pd.DataFrame(adata_spermatids.uns['rank_genes_groups']['names']).head(5)\n",
    "adata_spermatids.uns['rank_genes_groups'].keys()\n",
    "#dict_keys(['logfoldchanges', 'names', 'params', 'pvals', 'pvals_adj', 'scores'])\n",
    "result = adata_spermatids.uns['rank_genes_groups']\n",
    "groups = result['names'].dtype.names\n",
    "pd.DataFrame(\n",
    "    {group + '_' + key[:1]: result[key][group]\n",
    "    for group in groups for key in ['names', 'pvals']}).head(5)\n",
    "res = pd.DataFrame(    \n",
    "    {group + '_' + key: result[key][group]    \n",
    "    for group in groups for key in ['names', 'pvals','logfoldchanges','pvals_adj','scores']})\n",
    "res.to_csv(\"./figures/diff_rank_genes_groups_adultspermatidsleiden1221.csv\")"
   ]
  },
  {
   "cell_type": "code",
   "execution_count": 57,
   "id": "15993597-bcfc-4f14-a3a7-3e5dcf3b0cbc",
   "metadata": {},
   "outputs": [
    {
     "name": "stdout",
     "output_type": "stream",
     "text": [
      "WARNING: saving figure to file figures/heatmapg1scellcyclespermatids1221.pdf\n",
      "WARNING: saving figure to file figures/heatmapg2mcellcyclespermatids1221.pdf\n"
     ]
    }
   ],
   "source": [
    "ax = sc.pl.heatmap(adata_spermatids, s_genes, groupby='leiden', vmin=-2, vmax=2, cmap='RdBu_r', dendrogram=False, show_gene_labels=False,swap_axes=True, figsize=(11,4),save='g1scellcyclespermatids1221.pdf')\n",
    "ax = sc.pl.heatmap(adata_spermatids, g2m_genes, groupby='leiden', vmin=-2, vmax=2, cmap='RdBu_r', dendrogram=False, show_gene_labels=False,swap_axes=True, figsize=(11,4),save='g2mcellcyclespermatids1221.pdf')"
   ]
  },
  {
   "cell_type": "code",
   "execution_count": 58,
   "id": "c77748eb-7f11-4ad0-85ac-2add6fda3e10",
   "metadata": {},
   "outputs": [],
   "source": [
    "results_file = './figures/adultspermatids_1221unannotation.h5ad'\n",
    "adata_spermatogocyte.write(results_file)"
   ]
  },
  {
   "cell_type": "markdown",
   "id": "3a0da4d4-6152-433f-8c41-5af6a43e085f",
   "metadata": {},
   "source": [
    "## palantir (scanpy.external.tl.palantir)"
   ]
  },
  {
   "cell_type": "code",
   "execution_count": 31,
   "id": "74bea890-0de4-4bac-8bbc-5344675d76e1",
   "metadata": {},
   "outputs": [
    {
     "data": {
      "text/plain": [
       "AnnData object with n_obs × n_vars = 799 × 2851\n",
       "    obs: 'n_genes', 'n_genes_by_counts', 'total_counts', 'total_counts_mt', 'pct_counts_mt', 'total_counts_chrX', 'pct_counts_chrX', 'total_counts_chrY', 'pct_counts_chrY', 'S_score', 'G2M_score', 'phase', 'doublet', 'doublet_score', 'leiden', 'cell_type'\n",
       "    var: 'gene_ids', 'feature_types', 'genome', 'n_counts', 'mt', 'n_cells_by_counts', 'mean_counts', 'pct_dropout_by_counts', 'total_counts', 'chrX', 'chrY', 'highly_variable', 'means', 'dispersions', 'dispersions_norm', 'mean', 'std'\n",
       "    uns: 'cell_type_colors', 'dendrogram_cell_type', 'dendrogram_leiden', 'hvg', 'leiden', 'leiden_colors', 'neighbors', 'pca', 'rank_genes_groups', 'tsne', 'umap'\n",
       "    obsm: 'X_pca', 'X_tsne', 'X_umap'\n",
       "    varm: 'PCs'\n",
       "    obsp: 'connectivities', 'distances'"
      ]
     },
     "execution_count": 31,
     "metadata": {},
     "output_type": "execute_result"
    }
   ],
   "source": [
    "adataspermatogonia = sc.read('./figures/adultspermatogonia_1221unannotation.h5ad')\n",
    "adataspermatogonia"
   ]
  },
  {
   "cell_type": "code",
   "execution_count": 3,
   "id": "6a1b5e3e-546c-4d9b-b980-a0c5feba7c24",
   "metadata": {},
   "outputs": [
    {
     "name": "stdout",
     "output_type": "stream",
     "text": [
      "computing PCA\n",
      "    on highly variable genes\n",
      "    with n_comps=300\n",
      "    finished (0:00:28)\n"
     ]
    },
    {
     "name": "stderr",
     "output_type": "stream",
     "text": [
      "WARNING:matplotlib.font_manager:findfont: Font family ['Raleway'] not found. Falling back to DejaVu Sans.\n",
      "WARNING:matplotlib.font_manager:findfont: Font family ['Lato'] not found. Falling back to DejaVu Sans.\n"
     ]
    },
    {
     "name": "stdout",
     "output_type": "stream",
     "text": [
      "Palantir Diffusion Maps in progress ...\n",
      "Determing nearest neighbor graph...\n",
      "computing neighbors\n",
      "    finished: added to `.uns['neighbors']`\n",
      "    `.obsp['distances']`, distances for each pair of neighbors\n",
      "    `.obsp['connectivities']`, weighted adjacency matrix (0:00:03)\n"
     ]
    }
   ],
   "source": [
    "##import scanpy.external as sce\n",
    "sc.tl.pca(adataspermatogonia, n_comps=300)\n",
    "sce.tl.palantir(adataspermatogonia, n_components=5, knn=30)"
   ]
  },
  {
   "cell_type": "markdown",
   "id": "421d3f22-90e1-4de1-a854-a29ab66a15ef",
   "metadata": {},
   "source": [
    "## Visualizing Palantir results\n",
    "## tSNE visualization important for Palantir!\n",
    "## Palantir constructs the tSNE map in the embedded space since these maps better represent the differentiation trajectories."
   ]
  },
  {
   "cell_type": "code",
   "execution_count": 4,
   "id": "cd4d7f9f-d650-43cc-8939-b0ae76f70e4e",
   "metadata": {},
   "outputs": [
    {
     "name": "stdout",
     "output_type": "stream",
     "text": [
      "computing tSNE\n",
      "    using sklearn.manifold.TSNE\n"
     ]
    },
    {
     "name": "stderr",
     "output_type": "stream",
     "text": [
      "/public/home/zhaox/anaconda3/lib/python3.9/site-packages/sklearn/manifold/_t_sne.py:795: FutureWarning: The default initialization in TSNE will change from 'random' to 'pca' in 1.2.\n",
      "  warnings.warn(\n"
     ]
    },
    {
     "name": "stdout",
     "output_type": "stream",
     "text": [
      "    finished: added\n",
      "    'X_tsne', tSNE coordinates (adata.obsm) (0:04:03)\n"
     ]
    }
   ],
   "source": [
    "## sc.tl.tsne(adataspermatogonia, n_pcs=2, use_rep='X_palantir_multiscale', perplexity=150)"
   ]
  },
  {
   "cell_type": "code",
   "execution_count": 6,
   "id": "98947b70-6eec-4b52-95d6-3a27c8d873d0",
   "metadata": {},
   "outputs": [
    {
     "name": "stdout",
     "output_type": "stream",
     "text": [
      "WARNING: saving figure to file figures/tsnepalantir.pdf\n"
     ]
    },
    {
     "name": "stderr",
     "output_type": "stream",
     "text": [
      "WARNING:matplotlib.font_manager:findfont: Font family ['Bitstream Vera Sans'] not found. Falling back to DejaVu Sans.\n",
      "WARNING:matplotlib.font_manager:findfont: Font family ['Bitstream Vera Sans'] not found. Falling back to DejaVu Sans.\n"
     ]
    }
   ],
   "source": [
    "## sc.pl.tsne(adataspermatogonia, color=\"total_counts\",save='palantir.pdf')"
   ]
  },
  {
   "cell_type": "code",
   "execution_count": 69,
   "id": "928eb6d5-6769-4fff-8679-3cdc348931ed",
   "metadata": {},
   "outputs": [
    {
     "name": "stdout",
     "output_type": "stream",
     "text": [
      "WARNING: saving figure to file figures/tsnepalantir_markers.pdf\n"
     ]
    }
   ],
   "source": [
    "##sc.pl.tsne(\n",
    "    adata_spermatogonia,\n",
    "    layer='palantir_imp',\n",
    "    color=['UCHL1', 'KIT', 'SOHLH1','DMRT1'],\n",
    "    save='palantir_markers.pdf'\n",
    ")"
   ]
  },
  {
   "cell_type": "code",
   "execution_count": 67,
   "id": "e135c3d7-860e-4151-8c1d-87c45788ac8d",
   "metadata": {},
   "outputs": [
    {
     "data": {
      "text/html": [
       "<div>\n",
       "<style scoped>\n",
       "    .dataframe tbody tr th:only-of-type {\n",
       "        vertical-align: middle;\n",
       "    }\n",
       "\n",
       "    .dataframe tbody tr th {\n",
       "        vertical-align: top;\n",
       "    }\n",
       "\n",
       "    .dataframe thead th {\n",
       "        text-align: right;\n",
       "    }\n",
       "</style>\n",
       "<table border=\"1\" class=\"dataframe\">\n",
       "  <thead>\n",
       "    <tr style=\"text-align: right;\">\n",
       "      <th></th>\n",
       "      <th>gene_ids</th>\n",
       "      <th>feature_types</th>\n",
       "      <th>genome</th>\n",
       "      <th>n_counts</th>\n",
       "      <th>mt</th>\n",
       "      <th>n_cells_by_counts</th>\n",
       "      <th>mean_counts</th>\n",
       "      <th>pct_dropout_by_counts</th>\n",
       "      <th>total_counts</th>\n",
       "      <th>chrX</th>\n",
       "      <th>chrY</th>\n",
       "      <th>highly_variable</th>\n",
       "      <th>means</th>\n",
       "      <th>dispersions</th>\n",
       "      <th>dispersions_norm</th>\n",
       "      <th>mean</th>\n",
       "      <th>std</th>\n",
       "    </tr>\n",
       "  </thead>\n",
       "  <tbody>\n",
       "    <tr>\n",
       "      <th>LOC100125545</th>\n",
       "      <td>100125545</td>\n",
       "      <td>Gene Expression</td>\n",
       "      <td>Sus_scrofa</td>\n",
       "      <td>8482.0</td>\n",
       "      <td>False</td>\n",
       "      <td>5194</td>\n",
       "      <td>0.228250</td>\n",
       "      <td>86.022981</td>\n",
       "      <td>8482.0</td>\n",
       "      <td>False</td>\n",
       "      <td>False</td>\n",
       "      <td>True</td>\n",
       "      <td>0.137183</td>\n",
       "      <td>2.011287</td>\n",
       "      <td>0.571916</td>\n",
       "      <td>-4.176150e-11</td>\n",
       "      <td>0.286176</td>\n",
       "    </tr>\n",
       "    <tr>\n",
       "      <th>TBP</th>\n",
       "      <td>110259740</td>\n",
       "      <td>Gene Expression</td>\n",
       "      <td>Sus_scrofa</td>\n",
       "      <td>5645.0</td>\n",
       "      <td>False</td>\n",
       "      <td>3918</td>\n",
       "      <td>0.151907</td>\n",
       "      <td>89.456688</td>\n",
       "      <td>5645.0</td>\n",
       "      <td>False</td>\n",
       "      <td>False</td>\n",
       "      <td>True</td>\n",
       "      <td>0.086764</td>\n",
       "      <td>2.044371</td>\n",
       "      <td>0.644908</td>\n",
       "      <td>9.771121e-12</td>\n",
       "      <td>0.224793</td>\n",
       "    </tr>\n",
       "    <tr>\n",
       "      <th>TCTE3</th>\n",
       "      <td>102162319</td>\n",
       "      <td>Gene Expression</td>\n",
       "      <td>Sus_scrofa</td>\n",
       "      <td>60236.0</td>\n",
       "      <td>False</td>\n",
       "      <td>7505</td>\n",
       "      <td>1.620947</td>\n",
       "      <td>79.804096</td>\n",
       "      <td>60236.0</td>\n",
       "      <td>False</td>\n",
       "      <td>False</td>\n",
       "      <td>True</td>\n",
       "      <td>0.549678</td>\n",
       "      <td>2.140969</td>\n",
       "      <td>0.627511</td>\n",
       "      <td>-2.886312e-11</td>\n",
       "      <td>0.606615</td>\n",
       "    </tr>\n",
       "    <tr>\n",
       "      <th>WDR27</th>\n",
       "      <td>100736968</td>\n",
       "      <td>Gene Expression</td>\n",
       "      <td>Sus_scrofa</td>\n",
       "      <td>3841.0</td>\n",
       "      <td>False</td>\n",
       "      <td>2591</td>\n",
       "      <td>0.103361</td>\n",
       "      <td>93.027637</td>\n",
       "      <td>3841.0</td>\n",
       "      <td>False</td>\n",
       "      <td>False</td>\n",
       "      <td>True</td>\n",
       "      <td>0.062331</td>\n",
       "      <td>2.006286</td>\n",
       "      <td>0.560883</td>\n",
       "      <td>1.120255e-11</td>\n",
       "      <td>0.192545</td>\n",
       "    </tr>\n",
       "    <tr>\n",
       "      <th>FRMD1</th>\n",
       "      <td>100514201</td>\n",
       "      <td>Gene Expression</td>\n",
       "      <td>Sus_scrofa</td>\n",
       "      <td>664.0</td>\n",
       "      <td>False</td>\n",
       "      <td>608</td>\n",
       "      <td>0.017868</td>\n",
       "      <td>98.363876</td>\n",
       "      <td>664.0</td>\n",
       "      <td>False</td>\n",
       "      <td>False</td>\n",
       "      <td>True</td>\n",
       "      <td>0.013564</td>\n",
       "      <td>2.053943</td>\n",
       "      <td>0.666028</td>\n",
       "      <td>-1.847895e-11</td>\n",
       "      <td>0.088641</td>\n",
       "    </tr>\n",
       "    <tr>\n",
       "      <th>...</th>\n",
       "      <td>...</td>\n",
       "      <td>...</td>\n",
       "      <td>...</td>\n",
       "      <td>...</td>\n",
       "      <td>...</td>\n",
       "      <td>...</td>\n",
       "      <td>...</td>\n",
       "      <td>...</td>\n",
       "      <td>...</td>\n",
       "      <td>...</td>\n",
       "      <td>...</td>\n",
       "      <td>...</td>\n",
       "      <td>...</td>\n",
       "      <td>...</td>\n",
       "      <td>...</td>\n",
       "      <td>...</td>\n",
       "      <td>...</td>\n",
       "    </tr>\n",
       "    <tr>\n",
       "      <th>LOC110259059</th>\n",
       "      <td>110259059</td>\n",
       "      <td>Gene Expression</td>\n",
       "      <td>Sus_scrofa</td>\n",
       "      <td>512.0</td>\n",
       "      <td>False</td>\n",
       "      <td>387</td>\n",
       "      <td>0.013778</td>\n",
       "      <td>98.958586</td>\n",
       "      <td>512.0</td>\n",
       "      <td>False</td>\n",
       "      <td>False</td>\n",
       "      <td>True</td>\n",
       "      <td>0.037392</td>\n",
       "      <td>2.520092</td>\n",
       "      <td>1.694468</td>\n",
       "      <td>3.708940e-12</td>\n",
       "      <td>0.143668</td>\n",
       "    </tr>\n",
       "    <tr>\n",
       "      <th>LOC110259088</th>\n",
       "      <td>110259088</td>\n",
       "      <td>Gene Expression</td>\n",
       "      <td>Sus_scrofa</td>\n",
       "      <td>2952.0</td>\n",
       "      <td>False</td>\n",
       "      <td>2216</td>\n",
       "      <td>0.079438</td>\n",
       "      <td>94.036759</td>\n",
       "      <td>2952.0</td>\n",
       "      <td>False</td>\n",
       "      <td>False</td>\n",
       "      <td>True</td>\n",
       "      <td>0.055913</td>\n",
       "      <td>2.139844</td>\n",
       "      <td>0.855545</td>\n",
       "      <td>4.340429e-11</td>\n",
       "      <td>0.178147</td>\n",
       "    </tr>\n",
       "    <tr>\n",
       "      <th>LOC100514433</th>\n",
       "      <td>100514433</td>\n",
       "      <td>Gene Expression</td>\n",
       "      <td>Sus_scrofa</td>\n",
       "      <td>4307.0</td>\n",
       "      <td>False</td>\n",
       "      <td>2638</td>\n",
       "      <td>0.115901</td>\n",
       "      <td>92.901160</td>\n",
       "      <td>4307.0</td>\n",
       "      <td>False</td>\n",
       "      <td>False</td>\n",
       "      <td>True</td>\n",
       "      <td>0.113525</td>\n",
       "      <td>2.211374</td>\n",
       "      <td>1.013358</td>\n",
       "      <td>1.071800e-10</td>\n",
       "      <td>0.257370</td>\n",
       "    </tr>\n",
       "    <tr>\n",
       "      <th>LOC102160746</th>\n",
       "      <td>102160746</td>\n",
       "      <td>Gene Expression</td>\n",
       "      <td>Sus_scrofa</td>\n",
       "      <td>25556.0</td>\n",
       "      <td>False</td>\n",
       "      <td>5926</td>\n",
       "      <td>0.687710</td>\n",
       "      <td>84.053174</td>\n",
       "      <td>25556.0</td>\n",
       "      <td>False</td>\n",
       "      <td>False</td>\n",
       "      <td>True</td>\n",
       "      <td>0.343530</td>\n",
       "      <td>2.350882</td>\n",
       "      <td>1.570395</td>\n",
       "      <td>-7.484748e-11</td>\n",
       "      <td>0.455575</td>\n",
       "    </tr>\n",
       "    <tr>\n",
       "      <th>LOC100626661</th>\n",
       "      <td>100626661</td>\n",
       "      <td>Gene Expression</td>\n",
       "      <td>Sus_scrofa</td>\n",
       "      <td>1462.0</td>\n",
       "      <td>False</td>\n",
       "      <td>1302</td>\n",
       "      <td>0.039342</td>\n",
       "      <td>96.496327</td>\n",
       "      <td>1462.0</td>\n",
       "      <td>False</td>\n",
       "      <td>False</td>\n",
       "      <td>True</td>\n",
       "      <td>0.023462</td>\n",
       "      <td>2.081363</td>\n",
       "      <td>0.726523</td>\n",
       "      <td>2.800651e-11</td>\n",
       "      <td>0.116585</td>\n",
       "    </tr>\n",
       "  </tbody>\n",
       "</table>\n",
       "<p>2851 rows × 17 columns</p>\n",
       "</div>"
      ],
      "text/plain": [
       "               gene_ids    feature_types      genome  n_counts     mt  \\\n",
       "LOC100125545  100125545  Gene Expression  Sus_scrofa    8482.0  False   \n",
       "TBP           110259740  Gene Expression  Sus_scrofa    5645.0  False   \n",
       "TCTE3         102162319  Gene Expression  Sus_scrofa   60236.0  False   \n",
       "WDR27         100736968  Gene Expression  Sus_scrofa    3841.0  False   \n",
       "FRMD1         100514201  Gene Expression  Sus_scrofa     664.0  False   \n",
       "...                 ...              ...         ...       ...    ...   \n",
       "LOC110259059  110259059  Gene Expression  Sus_scrofa     512.0  False   \n",
       "LOC110259088  110259088  Gene Expression  Sus_scrofa    2952.0  False   \n",
       "LOC100514433  100514433  Gene Expression  Sus_scrofa    4307.0  False   \n",
       "LOC102160746  102160746  Gene Expression  Sus_scrofa   25556.0  False   \n",
       "LOC100626661  100626661  Gene Expression  Sus_scrofa    1462.0  False   \n",
       "\n",
       "              n_cells_by_counts  mean_counts  pct_dropout_by_counts  \\\n",
       "LOC100125545               5194     0.228250              86.022981   \n",
       "TBP                        3918     0.151907              89.456688   \n",
       "TCTE3                      7505     1.620947              79.804096   \n",
       "WDR27                      2591     0.103361              93.027637   \n",
       "FRMD1                       608     0.017868              98.363876   \n",
       "...                         ...          ...                    ...   \n",
       "LOC110259059                387     0.013778              98.958586   \n",
       "LOC110259088               2216     0.079438              94.036759   \n",
       "LOC100514433               2638     0.115901              92.901160   \n",
       "LOC102160746               5926     0.687710              84.053174   \n",
       "LOC100626661               1302     0.039342              96.496327   \n",
       "\n",
       "              total_counts   chrX   chrY  highly_variable     means  \\\n",
       "LOC100125545        8482.0  False  False             True  0.137183   \n",
       "TBP                 5645.0  False  False             True  0.086764   \n",
       "TCTE3              60236.0  False  False             True  0.549678   \n",
       "WDR27               3841.0  False  False             True  0.062331   \n",
       "FRMD1                664.0  False  False             True  0.013564   \n",
       "...                    ...    ...    ...              ...       ...   \n",
       "LOC110259059         512.0  False  False             True  0.037392   \n",
       "LOC110259088        2952.0  False  False             True  0.055913   \n",
       "LOC100514433        4307.0  False  False             True  0.113525   \n",
       "LOC102160746       25556.0  False  False             True  0.343530   \n",
       "LOC100626661        1462.0  False  False             True  0.023462   \n",
       "\n",
       "              dispersions  dispersions_norm          mean       std  \n",
       "LOC100125545     2.011287          0.571916 -4.176150e-11  0.286176  \n",
       "TBP              2.044371          0.644908  9.771121e-12  0.224793  \n",
       "TCTE3            2.140969          0.627511 -2.886312e-11  0.606615  \n",
       "WDR27            2.006286          0.560883  1.120255e-11  0.192545  \n",
       "FRMD1            2.053943          0.666028 -1.847895e-11  0.088641  \n",
       "...                   ...               ...           ...       ...  \n",
       "LOC110259059     2.520092          1.694468  3.708940e-12  0.143668  \n",
       "LOC110259088     2.139844          0.855545  4.340429e-11  0.178147  \n",
       "LOC100514433     2.211374          1.013358  1.071800e-10  0.257370  \n",
       "LOC102160746     2.350882          1.570395 -7.484748e-11  0.455575  \n",
       "LOC100626661     2.081363          0.726523  2.800651e-11  0.116585  \n",
       "\n",
       "[2851 rows x 17 columns]"
      ]
     },
     "execution_count": 67,
     "metadata": {},
     "output_type": "execute_result"
    }
   ],
   "source": [
    "adata_spermatogonia.var"
   ]
  },
  {
   "cell_type": "markdown",
   "id": "46765d88-dcf7-4389-9073-5882ddc061b9",
   "metadata": {},
   "source": [
    "## 1. PCA is the first step in data processing for Palantir."
   ]
  },
  {
   "cell_type": "code",
   "execution_count": 9,
   "id": "43fbd0ba-60c5-46ca-b493-637b5b9d55f6",
   "metadata": {},
   "outputs": [],
   "source": [
    "import palantir"
   ]
  },
  {
   "cell_type": "code",
   "execution_count": 33,
   "id": "077854fa-3c2e-4916-a841-17bfe0c7d170",
   "metadata": {},
   "outputs": [
    {
     "name": "stdout",
     "output_type": "stream",
     "text": [
      "computing PCA\n",
      "    on highly variable genes\n",
      "    with n_comps=300\n",
      "    finished (0:00:21)\n"
     ]
    }
   ],
   "source": [
    "sc.tl.pca(adataspermatogonia, n_comps=300)"
   ]
  },
  {
   "cell_type": "markdown",
   "id": "9168d401-c28a-4564-9fe6-ca0fe204ca32",
   "metadata": {},
   "source": [
    "## Diffusion maps\n",
    "## Palantir next determines the diffusion maps of the data as an estimate of the low dimensional phenotypic manifold of the data."
   ]
  },
  {
   "cell_type": "code",
   "execution_count": 34,
   "id": "ae206ed9-bcc3-45b0-8ec1-b0ff49211d20",
   "metadata": {},
   "outputs": [
    {
     "name": "stdout",
     "output_type": "stream",
     "text": [
      "Determing nearest neighbor graph...\n",
      "computing neighbors\n",
      "    finished: added to `.uns['neighbors']`\n",
      "    `.obsp['distances']`, distances for each pair of neighbors\n",
      "    `.obsp['connectivities']`, weighted adjacency matrix (0:00:00)\n"
     ]
    }
   ],
   "source": [
    "# Run diffusion maps\n",
    "pca_projections = pd.DataFrame(adataspermatogonia.obsm['X_pca'], index=adataspermatogonia.obs_names)\n",
    "dm_res = palantir.utils.run_diffusion_maps(pca_projections, n_components=5)"
   ]
  },
  {
   "cell_type": "code",
   "execution_count": 7,
   "id": "3f777af6-1006-419e-8b20-1cc8bf6a71f3",
   "metadata": {},
   "outputs": [
    {
     "data": {
      "text/plain": [
       "Index(['AAACCCAAGGCTCTAT-1', 'AAACCCAGTCCAGGTC-1', 'AAACCCAGTTCGGCGT-1',\n",
       "       'AAACGAACACCGTGCA-1', 'AAAGGATAGCGTGTCC-1', 'AAAGGATAGTCTCTGA-1',\n",
       "       'AAAGGATCAGCACAGA-1', 'AAAGGATCATCAGCAT-1', 'AAAGGGCGTATGCTAC-1',\n",
       "       'AAAGGGCGTCCGTACG-1',\n",
       "       ...\n",
       "       'TTTACCACATACATCG-1', 'TTTACCAGTGACTAAA-1', 'TTTACGTCAACGTATC-1',\n",
       "       'TTTACGTTCAAGTGTC-1', 'TTTACTGGTTGTTGTG-1', 'TTTCACACATAACGGG-1',\n",
       "       'TTTCAGTCACAATGAA-1', 'TTTGGAGAGGTAACTA-1', 'TTTGGAGTCCTGTACC-1',\n",
       "       'TTTGGTTGTGTCACAT-1'],\n",
       "      dtype='object', length=799)"
      ]
     },
     "execution_count": 7,
     "metadata": {},
     "output_type": "execute_result"
    }
   ],
   "source": [
    "adataspermatogonia.obs_names"
   ]
  },
  {
   "cell_type": "code",
   "execution_count": 35,
   "id": "0170a9f1-36fb-4e11-865b-d0d5bd45b18e",
   "metadata": {},
   "outputs": [],
   "source": [
    "ms_data = palantir.utils.determine_multiscale_space(dm_res)"
   ]
  },
  {
   "cell_type": "markdown",
   "id": "78bebf26-b1fa-4a50-b27b-21397629d93f",
   "metadata": {},
   "source": [
    "## Visualization"
   ]
  },
  {
   "cell_type": "code",
   "execution_count": 36,
   "id": "1d733e76-e3ea-47a9-a92e-848262d9b6ba",
   "metadata": {},
   "outputs": [
    {
     "name": "stdout",
     "output_type": "stream",
     "text": [
      "computing neighbors\n",
      "    using 'X_pca' with n_pcs = 300\n",
      "    finished: added to `.uns['neighbors']`\n",
      "    `.obsp['distances']`, distances for each pair of neighbors\n",
      "    `.obsp['connectivities']`, weighted adjacency matrix (0:00:00)\n",
      "computing UMAP\n",
      "    finished: added\n",
      "    'X_umap', UMAP coordinates (adata.obsm) (0:00:04)\n"
     ]
    }
   ],
   "source": [
    "sc.pp.neighbors(adataspermatogonia)\n",
    "sc.tl.umap(adataspermatogonia)"
   ]
  },
  {
   "cell_type": "code",
   "execution_count": 37,
   "id": "01ea200f-451c-400b-abf6-755082451015",
   "metadata": {},
   "outputs": [
    {
     "name": "stdout",
     "output_type": "stream",
     "text": [
      "WARNING: saving figure to file figures/umapumappalantir.pdf\n"
     ]
    }
   ],
   "source": [
    "# Use scanpy functions to visualize umaps or FDL\n",
    "sc.pl.embedding(adataspermatogonia, basis='umap',save='umappalantir.pdf')"
   ]
  },
  {
   "cell_type": "markdown",
   "id": "e22f5f3d-d2d2-4862-a7de-c995e514870d",
   "metadata": {},
   "source": [
    "## MAGIC imputation\n",
    "## MAGIC is an imputation technique developed in the Pe'er lab for single cell data imputation. \n",
    "## Palantir uses MAGIC to impute the data for visualization and determining gene expression trends."
   ]
  },
  {
   "cell_type": "code",
   "execution_count": 43,
   "id": "c8cde16f-27ed-41bc-9bcf-623920d3cec0",
   "metadata": {},
   "outputs": [],
   "source": [
    "from scipy.sparse import csr_matrix\n",
    "adataspermatogonia.X = csr_matrix(adataspermatogonia.X)"
   ]
  },
  {
   "cell_type": "code",
   "execution_count": 44,
   "id": "15649a91-696d-4c8d-b667-353dbd3f1aa2",
   "metadata": {},
   "outputs": [],
   "source": [
    "adataspermatogonia.layers['MAGIC_imputed_data'] = palantir.utils.run_magic_imputation(adataspermatogonia, dm_res)"
   ]
  },
  {
   "cell_type": "code",
   "execution_count": 45,
   "id": "624fa820-24a4-49fc-b7da-73bd0b584a5a",
   "metadata": {},
   "outputs": [
    {
     "name": "stdout",
     "output_type": "stream",
     "text": [
      "WARNING: saving figure to file figures/umappalantir_markers.pdf\n"
     ]
    }
   ],
   "source": [
    "sc.pl.embedding(adataspermatogonia, basis='umap', layer='MAGIC_imputed_data',\n",
    "               color=['UCHL1', 'KIT', 'SOHLH1','DMRT1'],save='palantir_markers.pdf')"
   ]
  },
  {
   "cell_type": "markdown",
   "id": "3896c70f-26af-4753-b0c3-2b7dc4cf5c12",
   "metadata": {},
   "source": [
    "## Diffusion maps visualization\n",
    "## The computed diffusion components can be visualized with the following snippet."
   ]
  },
  {
   "cell_type": "code",
   "execution_count": 62,
   "id": "a5538b51-63c1-444f-9612-e9f757506daa",
   "metadata": {},
   "outputs": [],
   "source": [
    "umap = pd.DataFrame(adataspermatogonia.obsm['X_umap'], index=adataspermatogonia.obs_names)"
   ]
  },
  {
   "cell_type": "code",
   "execution_count": 40,
   "id": "cc114242-84c4-44b0-b5a9-41f3ffa35fdc",
   "metadata": {},
   "outputs": [],
   "source": [
    "tsne = pd.DataFrame(adataspermatogonia.obsm['X_tsne'], index=adataspermatogonia.obs_names)"
   ]
  },
  {
   "cell_type": "code",
   "execution_count": 20,
   "id": "128c21b3-8218-4149-b8a1-68bd9eb824dd",
   "metadata": {},
   "outputs": [
    {
     "data": {
      "text/plain": [
       "AxisArrays with keys: X_pca, X_tsne, X_umap, X_palantir_diff_comp, X_palantir_multiscale"
      ]
     },
     "execution_count": 20,
     "metadata": {},
     "output_type": "execute_result"
    }
   ],
   "source": [
    "adataspermatogonia.obsm"
   ]
  },
  {
   "cell_type": "code",
   "execution_count": 71,
   "id": "9cb2f24e-08b0-4e39-b545-bd083cadb64f",
   "metadata": {},
   "outputs": [],
   "source": [
    "imp_df = palantir.utils.run_magic_imputation(adataspermatogonia,dm_res)"
   ]
  },
  {
   "cell_type": "code",
   "execution_count": 72,
   "id": "f324abfb-0444-4d3b-abea-9fec1cb045b2",
   "metadata": {},
   "outputs": [],
   "source": [
    "palantir.plot.plot_gene_expression(imp_df,tsne,['UCHL1', 'KIT', 'SOHLH1','DMRT1'])\n",
    "plt.savefig('./figures/palantir_geneexpression.pdf')"
   ]
  },
  {
   "cell_type": "code",
   "execution_count": 75,
   "id": "29eed5c7-24fb-48c0-8036-00c90b2ba8cc",
   "metadata": {},
   "outputs": [
    {
     "name": "stderr",
     "output_type": "stream",
     "text": [
      "WARNING:matplotlib.font_manager:findfont: Font family ['Bitstream Vera Sans'] not found. Falling back to DejaVu Sans.\n"
     ]
    }
   ],
   "source": [
    "palantir.plot.plot_diffusion_components(tsne,dm_res)\n",
    "plt.savefig('./figures/diffusion_components.pdf')"
   ]
  },
  {
   "cell_type": "code",
   "execution_count": 52,
   "id": "543d53fe-cb88-4009-8a50-39e6b2ace47f",
   "metadata": {},
   "outputs": [],
   "source": [
    "# Determine the boundary cell closest to user defined early cell\n",
    "dm_boundaries = pd.Index(set(ms_data.idxmax()).union(ms_data.idxmin()))"
   ]
  },
  {
   "cell_type": "code",
   "execution_count": 54,
   "id": "05beebf2-828c-4ee0-a140-3549daa037aa",
   "metadata": {},
   "outputs": [
    {
     "name": "stdout",
     "output_type": "stream",
     "text": [
      "Collecting sklearn\n",
      "  Downloading sklearn-0.0.post1.tar.gz (3.6 kB)\n",
      "Building wheels for collected packages: sklearn\n",
      "  Building wheel for sklearn (setup.py) ... \u001b[?25ldone\n",
      "\u001b[?25h  Created wheel for sklearn: filename=sklearn-0.0.post1-py3-none-any.whl size=2344 sha256=f93619fa5e29114fe58e91e46e4b39290bba17af8f1838b90124f2f8f578426f\n",
      "  Stored in directory: /public/home/zhaox/.cache/pip/wheels/f8/e0/3d/9d0c2020c44a519b9f02ab4fa6d2a4a996c98d79ab2f569fa1\n",
      "Successfully built sklearn\n",
      "Installing collected packages: sklearn\n",
      "Successfully installed sklearn-0.0.post1\n",
      "Note: you may need to restart the kernel to use updated packages.\n"
     ]
    }
   ],
   "source": [
    "pip install sklearn"
   ]
  },
  {
   "cell_type": "code",
   "execution_count": 55,
   "id": "ab025b58-b62f-49ab-8d4f-424e8a599d8c",
   "metadata": {},
   "outputs": [],
   "source": [
    "from sklearn.metrics.pairwise import pairwise_distances"
   ]
  },
  {
   "cell_type": "code",
   "execution_count": 66,
   "id": "803e0567-55b2-44c1-bf4b-3391ea5e9def",
   "metadata": {},
   "outputs": [
    {
     "data": {
      "text/plain": [
       "Index(['AGGTTACGTAGCTTAC-1', 'AGCGTATGTATCAGCT-1', 'AAAGGGCGTCCGTACG-1'], dtype='object')"
      ]
     },
     "execution_count": 66,
     "metadata": {},
     "output_type": "execute_result"
    }
   ],
   "source": [
    "data = ms_data\n",
    "dm_boundaries = pd.Index(set(data.idxmax()).union(data.idxmin()))\n",
    "dm_boundaries"
   ]
  },
  {
   "cell_type": "code",
   "execution_count": 68,
   "id": "de21a529-4fe6-4526-9d1c-f8b704156d3f",
   "metadata": {},
   "outputs": [
    {
     "name": "stdout",
     "output_type": "stream",
     "text": [
      "Using the 'MulticoreTSNE' package by Ulyanov (2017)\n"
     ]
    }
   ],
   "source": [
    "tsne = palantir.utils.run_tsne(ms_data)"
   ]
  },
  {
   "cell_type": "code",
   "execution_count": 69,
   "id": "969d8521-27ee-47af-a2d6-aefe853e731e",
   "metadata": {},
   "outputs": [
    {
     "data": {
      "text/plain": [
       "(<Figure size 200x200 with 1 Axes>, <AxesSubplot:>)"
      ]
     },
     "execution_count": 69,
     "metadata": {},
     "output_type": "execute_result"
    }
   ],
   "source": [
    "cells = ['AGGTTACGTAGCTTAC-1', 'AGCGTATGTATCAGCT-1', 'AAAGGGCGTCCGTACG-1']\n",
    "palantir.plot.highlight_cells_on_tsne(tsne, cells)"
   ]
  },
  {
   "cell_type": "code",
   "execution_count": 70,
   "id": "0596e7bd-39cf-448a-b23c-3f2ad77bfd4b",
   "metadata": {},
   "outputs": [],
   "source": [
    "plt.savefig('./figures/palantir_highlight_cells.pdf')"
   ]
  },
  {
   "cell_type": "code",
   "execution_count": 73,
   "id": "0cff1bbd-be05-450a-98c7-0b45663b2026",
   "metadata": {},
   "outputs": [],
   "source": [
    "cells = ['AGGTTACGTAGCTTAC-1']\n",
    "palantir.plot.highlight_cells_on_tsne(tsne, cells)\n",
    "plt.savefig('./figures/boundaries1.pdf')"
   ]
  },
  {
   "cell_type": "markdown",
   "id": "8f9a57c4-0750-4c16-8b61-0f2096fcb0d4",
   "metadata": {},
   "source": [
    "## 应用boundaries1作为start cells ['AGGTTACGTAGCTTAC-1']"
   ]
  },
  {
   "cell_type": "code",
   "execution_count": 74,
   "id": "cf8eea56-28b3-4aad-8efd-38a36e1b5574",
   "metadata": {},
   "outputs": [
    {
     "name": "stdout",
     "output_type": "stream",
     "text": [
      "Sampling and flocking waypoints...\n",
      "Time for determining waypoints: 0.004583597183227539 minutes\n",
      "Determining pseudotime...\n",
      "Shortest path distances using 30-nearest neighbor graph...\n"
     ]
    },
    {
     "name": "stderr",
     "output_type": "stream",
     "text": [
      "findfont: Font family ['Raleway'] not found. Falling back to DejaVu Sans.\n",
      "findfont: Font family ['Raleway'] not found. Falling back to DejaVu Sans.\n",
      "findfont: Font family ['Raleway'] not found. Falling back to DejaVu Sans.\n",
      "findfont: Font family ['Raleway'] not found. Falling back to DejaVu Sans.\n",
      "findfont: Font family ['Raleway'] not found. Falling back to DejaVu Sans.\n",
      "findfont: Font family ['Lato'] not found. Falling back to DejaVu Sans.\n",
      "findfont: Font family ['Lato'] not found. Falling back to DejaVu Sans.\n",
      "findfont: Font family ['Lato'] not found. Falling back to DejaVu Sans.\n",
      "findfont: Font family ['Raleway'] not found. Falling back to DejaVu Sans.\n",
      "findfont: Font family ['Raleway'] not found. Falling back to DejaVu Sans.\n",
      "findfont: Font family ['Raleway'] not found. Falling back to DejaVu Sans.\n",
      "findfont: Font family ['Raleway'] not found. Falling back to DejaVu Sans.\n",
      "findfont: Font family ['Raleway'] not found. Falling back to DejaVu Sans.\n",
      "findfont: Font family ['Raleway'] not found. Falling back to DejaVu Sans.\n",
      "findfont: Font family ['Lato'] not found. Falling back to DejaVu Sans.\n",
      "findfont: Font family ['Lato'] not found. Falling back to DejaVu Sans.\n",
      "findfont: Font family ['Lato'] not found. Falling back to DejaVu Sans.\n",
      "findfont: Font family ['Lato'] not found. Falling back to DejaVu Sans.\n",
      "findfont: Font family ['Lato'] not found. Falling back to DejaVu Sans.\n",
      "findfont: Font family ['Lato'] not found. Falling back to DejaVu Sans.\n",
      "findfont: Font family ['Lato'] not found. Falling back to DejaVu Sans.\n",
      "findfont: Font family ['Lato'] not found. Falling back to DejaVu Sans.\n",
      "findfont: Font family ['Raleway'] not found. Falling back to DejaVu Sans.\n",
      "findfont: Font family ['Raleway'] not found. Falling back to DejaVu Sans.\n",
      "findfont: Font family ['Raleway'] not found. Falling back to DejaVu Sans.\n",
      "findfont: Font family ['Lato'] not found. Falling back to DejaVu Sans.\n",
      "findfont: Font family ['Lato'] not found. Falling back to DejaVu Sans.\n",
      "findfont: Font family ['Raleway'] not found. Falling back to DejaVu Sans.\n",
      "findfont: Font family ['Raleway'] not found. Falling back to DejaVu Sans.\n",
      "findfont: Font family ['Raleway'] not found. Falling back to DejaVu Sans.\n",
      "findfont: Font family ['Raleway'] not found. Falling back to DejaVu Sans.\n",
      "findfont: Font family ['Lato'] not found. Falling back to DejaVu Sans.\n",
      "findfont: Font family ['Lato'] not found. Falling back to DejaVu Sans.\n",
      "findfont: Font family ['Lato'] not found. Falling back to DejaVu Sans.\n",
      "findfont: Font family ['Lato'] not found. Falling back to DejaVu Sans.\n",
      "findfont: Font family ['Lato'] not found. Falling back to DejaVu Sans.\n",
      "findfont: Font family ['Raleway'] not found. Falling back to DejaVu Sans.\n",
      "findfont: Font family ['Raleway'] not found. Falling back to DejaVu Sans.\n",
      "findfont: Font family ['Raleway'] not found. Falling back to DejaVu Sans.\n",
      "findfont: Font family ['Raleway'] not found. Falling back to DejaVu Sans.\n",
      "findfont: Font family ['Lato'] not found. Falling back to DejaVu Sans.\n",
      "findfont: Font family ['Lato'] not found. Falling back to DejaVu Sans.\n",
      "findfont: Font family ['Raleway'] not found. Falling back to DejaVu Sans.\n",
      "findfont: Font family ['Raleway'] not found. Falling back to DejaVu Sans.\n",
      "findfont: Font family ['Lato'] not found. Falling back to DejaVu Sans.\n",
      "findfont: Font family ['Lato'] not found. Falling back to DejaVu Sans.\n",
      "findfont: Font family ['Lato'] not found. Falling back to DejaVu Sans.\n",
      "findfont: Font family ['Lato'] not found. Falling back to DejaVu Sans.\n"
     ]
    },
    {
     "name": "stdout",
     "output_type": "stream",
     "text": [
      "Time for shortest paths: 0.5889923493067424 minutes\n",
      "Iteratively refining the pseudotime...\n",
      "Correlation at iteration 1: 0.9999\n",
      "Entropy and branch probabilities...\n",
      "Markov chain construction...\n",
      "Identification of terminal states...\n"
     ]
    },
    {
     "name": "stderr",
     "output_type": "stream",
     "text": [
      "/public/home/zhaox/anaconda3/lib/python3.9/site-packages/palantir/core.py:379: FutureWarning: Passing a set as an indexer is deprecated and will raise in a future version. Use a list instead.\n",
      "  cells = [pseudotime[i].idxmax() for i in nx.connected_components(graph)]\n",
      "/public/home/zhaox/anaconda3/lib/python3.9/site-packages/palantir/core.py:379: FutureWarning: Passing a set as an indexer is deprecated and will raise in a future version. Use a list instead.\n",
      "  cells = [pseudotime[i].idxmax() for i in nx.connected_components(graph)]\n"
     ]
    },
    {
     "name": "stdout",
     "output_type": "stream",
     "text": [
      "Computing fundamental matrix and absorption probabilities...\n",
      "Project results to all cells...\n"
     ]
    },
    {
     "name": "stderr",
     "output_type": "stream",
     "text": [
      "/public/home/zhaox/anaconda3/lib/python3.9/site-packages/palantir/core.py:447: FutureWarning: The series.append method is deprecated and will be removed from pandas in a future version. Use pandas.concat instead.\n",
      "  ent = ent.append(pd.Series(0, index=terminal_states))\n",
      "/public/home/zhaox/anaconda3/lib/python3.9/site-packages/palantir/core.py:450: FutureWarning: The frame.append method is deprecated and will be removed from pandas in a future version. Use pandas.concat instead.\n",
      "  branch_probs = branch_probs.append(bp.loc[:, branch_probs.columns])\n"
     ]
    }
   ],
   "source": [
    "start_cell = 'AGGTTACGTAGCTTAC-1'\n",
    "pr_res = palantir.core.run_palantir(ms_data, start_cell, num_waypoints=500)"
   ]
  },
  {
   "cell_type": "code",
   "execution_count": 76,
   "id": "2330b2cc-ffd3-4655-bb04-a0c27360d869",
   "metadata": {},
   "outputs": [
    {
     "data": {
      "text/plain": [
       "Index(['AAAGGGCGTCCGTACG-1', 'AGCGTATGTATCAGCT-1'], dtype='object')"
      ]
     },
     "execution_count": 76,
     "metadata": {},
     "output_type": "execute_result"
    }
   ],
   "source": [
    "pr_res.branch_probs.columns ##查看自动鉴定的终末细胞"
   ]
  },
  {
   "cell_type": "code",
   "execution_count": 78,
   "id": "f4ffdcb4-23c3-4ccf-8a26-dce769a7e7f2",
   "metadata": {},
   "outputs": [
    {
     "data": {
      "text/plain": [
       "Index(['AGGTTACGTAGCTTAC-1', 'AGCGTATGTATCAGCT-1', 'AAAGGGCGTCCGTACG-1'], dtype='object')"
      ]
     },
     "execution_count": 78,
     "metadata": {},
     "output_type": "execute_result"
    }
   ],
   "source": [
    "dm_boundaries"
   ]
  },
  {
   "cell_type": "code",
   "execution_count": 79,
   "id": "1ae5eef6-40d5-43e0-a61b-2fc5f8869a5d",
   "metadata": {},
   "outputs": [],
   "source": [
    "palantir.plot.highlight_cells_on_tsne(tsne, 'AAAGGGCGTCCGTACG-1')\n",
    "plt.savefig('./figures/terminal1.pdf')"
   ]
  },
  {
   "cell_type": "code",
   "execution_count": 80,
   "id": "9e0759b8-df0f-4de1-8a01-32539f847036",
   "metadata": {},
   "outputs": [],
   "source": [
    "palantir.plot.highlight_cells_on_tsne(tsne, 'AGCGTATGTATCAGCT-1')\n",
    "plt.savefig('./figures/terminal2.pdf')"
   ]
  },
  {
   "cell_type": "markdown",
   "id": "39a90acb-5fa4-4db5-8d49-242a121bd6f2",
   "metadata": {},
   "source": [
    "## Visualizing Palantir results\n",
    "## Palantir results can be visualized on the tSNE map using the plot_palantir_results function"
   ]
  },
  {
   "cell_type": "code",
   "execution_count": 81,
   "id": "072c05e3-b525-43f2-9a15-8894cad42d36",
   "metadata": {},
   "outputs": [],
   "source": [
    "palantir.plot.plot_palantir_results(pr_res, tsne)"
   ]
  },
  {
   "cell_type": "code",
   "execution_count": 82,
   "id": "b69edfe9-1822-4b20-bf85-46f425d14dcc",
   "metadata": {},
   "outputs": [],
   "source": [
    "plt.savefig('./figures/plot_palantir_results.pdf')"
   ]
  },
  {
   "cell_type": "code",
   "execution_count": 83,
   "id": "3b5ce6f7-e3d9-4981-aef6-bbbacddbecc8",
   "metadata": {},
   "outputs": [
    {
     "name": "stderr",
     "output_type": "stream",
     "text": [
      "/public/home/zhaox/anaconda3/lib/python3.9/site-packages/palantir/plot.py:387: RuntimeWarning: More than 20 figures have been opened. Figures created through the pyplot interface (`matplotlib.pyplot.figure`) are retained until explicitly closed and may consume too much memory. (To control this warning, see the rcParam `figure.max_open_warning`).\n",
      "  fig = plt.figure(figsize=[3 * n_cols, 3 * n_rows])\n",
      "/public/home/zhaox/anaconda3/lib/python3.9/site-packages/seaborn/_decorators.py:36: FutureWarning: Pass the following variables as keyword args: x, y. From version 0.12, the only valid positional argument will be `data`, and passing other arguments without an explicit keyword will result in an error or misinterpretation.\n",
      "  warnings.warn(\n",
      "/public/home/zhaox/anaconda3/lib/python3.9/site-packages/seaborn/_decorators.py:36: FutureWarning: Pass the following variables as keyword args: x, y. From version 0.12, the only valid positional argument will be `data`, and passing other arguments without an explicit keyword will result in an error or misinterpretation.\n",
      "  warnings.warn(\n",
      "WARNING:matplotlib.font_manager:findfont: Font family ['Bitstream Vera Sans'] not found. Falling back to DejaVu Sans.\n"
     ]
    }
   ],
   "source": [
    "cells = ['AAAGGGCGTCCGTACG-1', 'AGCGTATGTATCAGCT-1', ]\n",
    "palantir.plot.plot_terminal_state_probs(pr_res, cells) \n",
    "plt.savefig('./figures/plot_terminal_state_probs.pdf')"
   ]
  },
  {
   "cell_type": "code",
   "execution_count": 98,
   "id": "d5dd92aa-413b-412a-86df-033ede77efcd",
   "metadata": {},
   "outputs": [
    {
     "ename": "PackageNotInstalledError",
     "evalue": "The R package \"gam\" is not installed.",
     "output_type": "error",
     "traceback": [
      "\u001b[0;31m---------------------------------------------------------------------------\u001b[0m",
      "\u001b[0;31mPackageNotInstalledError\u001b[0m                  Traceback (most recent call last)",
      "\u001b[0;32m/tmp/ipykernel_131146/772343656.py\u001b[0m in \u001b[0;36m<module>\u001b[0;34m\u001b[0m\n\u001b[1;32m      1\u001b[0m \u001b[0mgenes\u001b[0m \u001b[0;34m=\u001b[0m \u001b[0;34m[\u001b[0m\u001b[0;34m'UCHL1'\u001b[0m\u001b[0;34m,\u001b[0m \u001b[0;34m'KIT'\u001b[0m\u001b[0;34m,\u001b[0m \u001b[0;34m'SOHLH1'\u001b[0m\u001b[0;34m,\u001b[0m\u001b[0;34m'DMRT1'\u001b[0m\u001b[0;34m]\u001b[0m\u001b[0;34m\u001b[0m\u001b[0;34m\u001b[0m\u001b[0m\n\u001b[0;32m----> 2\u001b[0;31m \u001b[0mgene_trends\u001b[0m \u001b[0;34m=\u001b[0m \u001b[0mpalantir\u001b[0m\u001b[0;34m.\u001b[0m\u001b[0mpresults\u001b[0m\u001b[0;34m.\u001b[0m\u001b[0mcompute_gene_trends\u001b[0m\u001b[0;34m(\u001b[0m \u001b[0mpr_res\u001b[0m\u001b[0;34m,\u001b[0m \u001b[0mimp_df\u001b[0m\u001b[0;34m.\u001b[0m\u001b[0mloc\u001b[0m\u001b[0;34m[\u001b[0m\u001b[0;34m:\u001b[0m\u001b[0;34m,\u001b[0m \u001b[0mgenes\u001b[0m\u001b[0;34m]\u001b[0m\u001b[0;34m)\u001b[0m\u001b[0;34m\u001b[0m\u001b[0;34m\u001b[0m\u001b[0m\n\u001b[0m",
      "\u001b[0;32m~/anaconda3/lib/python3.9/site-packages/palantir/presults.py\u001b[0m in \u001b[0;36mcompute_gene_trends\u001b[0;34m(pr_res, gene_exprs, lineages, n_jobs)\u001b[0m\n\u001b[1;32m     97\u001b[0m \u001b[0;34m\u001b[0m\u001b[0m\n\u001b[1;32m     98\u001b[0m     \u001b[0;32mtry\u001b[0m\u001b[0;34m:\u001b[0m\u001b[0;34m\u001b[0m\u001b[0;34m\u001b[0m\u001b[0m\n\u001b[0;32m---> 99\u001b[0;31m         \u001b[0mrgam\u001b[0m \u001b[0;34m=\u001b[0m \u001b[0mimportr\u001b[0m\u001b[0;34m(\u001b[0m\u001b[0;34m\"gam\"\u001b[0m\u001b[0;34m)\u001b[0m\u001b[0;34m\u001b[0m\u001b[0;34m\u001b[0m\u001b[0m\n\u001b[0m\u001b[1;32m    100\u001b[0m     \u001b[0;32mexcept\u001b[0m \u001b[0membedded\u001b[0m\u001b[0;34m.\u001b[0m\u001b[0mRRuntimeError\u001b[0m\u001b[0;34m:\u001b[0m\u001b[0;34m\u001b[0m\u001b[0;34m\u001b[0m\u001b[0m\n\u001b[1;32m    101\u001b[0m         raise RuntimeError(\n",
      "\u001b[0;32m~/anaconda3/lib/python3.9/site-packages/rpy2/robjects/packages.py\u001b[0m in \u001b[0;36mimportr\u001b[0;34m(name, lib_loc, robject_translations, signature_translation, suppress_messages, on_conflict, symbol_r2python, symbol_resolve, data)\u001b[0m\n\u001b[1;32m    469\u001b[0m \u001b[0;34m\u001b[0m\u001b[0m\n\u001b[1;32m    470\u001b[0m     \u001b[0;32mif\u001b[0m \u001b[0;32mnot\u001b[0m \u001b[0misinstalled\u001b[0m\u001b[0;34m(\u001b[0m\u001b[0mname\u001b[0m\u001b[0;34m,\u001b[0m \u001b[0mlib_loc\u001b[0m\u001b[0;34m=\u001b[0m\u001b[0mlib_loc\u001b[0m\u001b[0;34m)\u001b[0m\u001b[0;34m:\u001b[0m\u001b[0;34m\u001b[0m\u001b[0;34m\u001b[0m\u001b[0m\n\u001b[0;32m--> 471\u001b[0;31m         raise PackageNotInstalledError(\n\u001b[0m\u001b[1;32m    472\u001b[0m             \u001b[0;34m'The R package \"%s\" is not installed.'\u001b[0m \u001b[0;34m%\u001b[0m \u001b[0mname\u001b[0m\u001b[0;34m\u001b[0m\u001b[0;34m\u001b[0m\u001b[0m\n\u001b[1;32m    473\u001b[0m         )\n",
      "\u001b[0;31mPackageNotInstalledError\u001b[0m: The R package \"gam\" is not installed."
     ]
    }
   ],
   "source": [
    "genes = ['UCHL1', 'KIT', 'SOHLH1','DMRT1']\n",
    "gene_trends = palantir.presults.compute_gene_trends( pr_res, imp_df.loc[:, genes])"
   ]
  },
  {
   "cell_type": "code",
   "execution_count": 99,
   "id": "b16f58de-0c53-4655-888d-e9aa49c67978",
   "metadata": {},
   "outputs": [
    {
     "data": {
      "text/plain": [
       "\u001b[0;31mSignature:\u001b[0m\n",
       "\u001b[0mpalantir\u001b[0m\u001b[0;34m.\u001b[0m\u001b[0mpresults\u001b[0m\u001b[0;34m.\u001b[0m\u001b[0mcompute_gene_trends\u001b[0m\u001b[0;34m(\u001b[0m\u001b[0;34m\u001b[0m\n",
       "\u001b[0;34m\u001b[0m    \u001b[0mpr_res\u001b[0m\u001b[0;34m,\u001b[0m\u001b[0;34m\u001b[0m\n",
       "\u001b[0;34m\u001b[0m    \u001b[0mgene_exprs\u001b[0m\u001b[0;34m,\u001b[0m\u001b[0;34m\u001b[0m\n",
       "\u001b[0;34m\u001b[0m    \u001b[0mlineages\u001b[0m\u001b[0;34m=\u001b[0m\u001b[0;32mNone\u001b[0m\u001b[0;34m,\u001b[0m\u001b[0;34m\u001b[0m\n",
       "\u001b[0;34m\u001b[0m    \u001b[0mn_jobs\u001b[0m\u001b[0;34m=\u001b[0m\u001b[0;34m-\u001b[0m\u001b[0;36m1\u001b[0m\u001b[0;34m,\u001b[0m\u001b[0;34m\u001b[0m\n",
       "\u001b[0;34m\u001b[0m\u001b[0;34m)\u001b[0m\u001b[0;34m\u001b[0m\u001b[0;34m\u001b[0m\u001b[0m\n",
       "\u001b[0;31mSource:\u001b[0m   \n",
       "\u001b[0;32mdef\u001b[0m \u001b[0mcompute_gene_trends\u001b[0m\u001b[0;34m(\u001b[0m\u001b[0mpr_res\u001b[0m\u001b[0;34m,\u001b[0m \u001b[0mgene_exprs\u001b[0m\u001b[0;34m,\u001b[0m \u001b[0mlineages\u001b[0m\u001b[0;34m=\u001b[0m\u001b[0;32mNone\u001b[0m\u001b[0;34m,\u001b[0m \u001b[0mn_jobs\u001b[0m\u001b[0;34m=\u001b[0m\u001b[0;34m-\u001b[0m\u001b[0;36m1\u001b[0m\u001b[0;34m)\u001b[0m\u001b[0;34m:\u001b[0m\u001b[0;34m\u001b[0m\n",
       "\u001b[0;34m\u001b[0m    \u001b[0;34m\"\"\"Function for computing gene expression trends along Palantir pseudotime\u001b[0m\n",
       "\u001b[0;34m\u001b[0m\n",
       "\u001b[0;34m    :param pr_res: Palantir results object\u001b[0m\n",
       "\u001b[0;34m    :param gene_exprs: Magic imputed data [Cells X Genes]\u001b[0m\n",
       "\u001b[0;34m    :param lineages: Subset of lineages for which to compute the trends\u001b[0m\n",
       "\u001b[0;34m    :return: Dictionary of gene expression trends and standard deviations for each branch\u001b[0m\n",
       "\u001b[0;34m    \"\"\"\u001b[0m\u001b[0;34m\u001b[0m\n",
       "\u001b[0;34m\u001b[0m\u001b[0;34m\u001b[0m\n",
       "\u001b[0;34m\u001b[0m    \u001b[0;31m# Error check\u001b[0m\u001b[0;34m\u001b[0m\n",
       "\u001b[0;34m\u001b[0m    \u001b[0;32mtry\u001b[0m\u001b[0;34m:\u001b[0m\u001b[0;34m\u001b[0m\n",
       "\u001b[0;34m\u001b[0m        \u001b[0;32mimport\u001b[0m \u001b[0mrpy2\u001b[0m\u001b[0;34m\u001b[0m\n",
       "\u001b[0;34m\u001b[0m        \u001b[0;32mimport\u001b[0m \u001b[0mrpy2\u001b[0m\u001b[0;34m.\u001b[0m\u001b[0mrinterface_lib\u001b[0m\u001b[0;34m.\u001b[0m\u001b[0membedded\u001b[0m \u001b[0;32mas\u001b[0m \u001b[0membedded\u001b[0m\u001b[0;34m\u001b[0m\n",
       "\u001b[0;34m\u001b[0m        \u001b[0;32mfrom\u001b[0m \u001b[0mrpy2\u001b[0m\u001b[0;34m.\u001b[0m\u001b[0mrobjects\u001b[0m\u001b[0;34m.\u001b[0m\u001b[0mpackages\u001b[0m \u001b[0;32mimport\u001b[0m \u001b[0mimportr\u001b[0m\u001b[0;34m\u001b[0m\n",
       "\u001b[0;34m\u001b[0m    \u001b[0;32mexcept\u001b[0m \u001b[0mImportError\u001b[0m\u001b[0;34m:\u001b[0m\u001b[0;34m\u001b[0m\n",
       "\u001b[0;34m\u001b[0m        \u001b[0;32mraise\u001b[0m \u001b[0mRuntimeError\u001b[0m\u001b[0;34m(\u001b[0m\u001b[0;34m\u001b[0m\n",
       "\u001b[0;34m\u001b[0m            \u001b[0;34m'Cannot compute gene expression trends without installing rpy2. \\\u001b[0m\n",
       "\u001b[0;34m            \\nPlease use \"pip3 install rpy2\" to install rpy2'\u001b[0m\u001b[0;34m\u001b[0m\n",
       "\u001b[0;34m\u001b[0m        \u001b[0;34m)\u001b[0m\u001b[0;34m\u001b[0m\n",
       "\u001b[0;34m\u001b[0m\u001b[0;34m\u001b[0m\n",
       "\u001b[0;34m\u001b[0m    \u001b[0;32mif\u001b[0m \u001b[0;32mnot\u001b[0m \u001b[0mshutil\u001b[0m\u001b[0;34m.\u001b[0m\u001b[0mwhich\u001b[0m\u001b[0;34m(\u001b[0m\u001b[0;34m\"R\"\u001b[0m\u001b[0;34m)\u001b[0m\u001b[0;34m:\u001b[0m\u001b[0;34m\u001b[0m\n",
       "\u001b[0;34m\u001b[0m        \u001b[0;32mraise\u001b[0m \u001b[0mRuntimeError\u001b[0m\u001b[0;34m(\u001b[0m\u001b[0;34m\u001b[0m\n",
       "\u001b[0;34m\u001b[0m            \u001b[0;34m\"R installation is necessary for computing gene expression trends. \\\u001b[0m\n",
       "\u001b[0;34m            \\nPlease install R and try again\"\u001b[0m\u001b[0;34m\u001b[0m\n",
       "\u001b[0;34m\u001b[0m        \u001b[0;34m)\u001b[0m\u001b[0;34m\u001b[0m\n",
       "\u001b[0;34m\u001b[0m\u001b[0;34m\u001b[0m\n",
       "\u001b[0;34m\u001b[0m    \u001b[0;32mtry\u001b[0m\u001b[0;34m:\u001b[0m\u001b[0;34m\u001b[0m\n",
       "\u001b[0;34m\u001b[0m        \u001b[0mrgam\u001b[0m \u001b[0;34m=\u001b[0m \u001b[0mimportr\u001b[0m\u001b[0;34m(\u001b[0m\u001b[0;34m\"gam\"\u001b[0m\u001b[0;34m)\u001b[0m\u001b[0;34m\u001b[0m\n",
       "\u001b[0;34m\u001b[0m    \u001b[0;32mexcept\u001b[0m \u001b[0membedded\u001b[0m\u001b[0;34m.\u001b[0m\u001b[0mRRuntimeError\u001b[0m\u001b[0;34m:\u001b[0m\u001b[0;34m\u001b[0m\n",
       "\u001b[0;34m\u001b[0m        \u001b[0;32mraise\u001b[0m \u001b[0mRuntimeError\u001b[0m\u001b[0;34m(\u001b[0m\u001b[0;34m\u001b[0m\n",
       "\u001b[0;34m\u001b[0m            \u001b[0;34m'R package \"gam\" is necessary for computing gene expression trends. \\\u001b[0m\n",
       "\u001b[0;34m            \\nPlease install gam from https://cran.r-project.org/web/packages/gam/ and try again'\u001b[0m\u001b[0;34m\u001b[0m\n",
       "\u001b[0;34m\u001b[0m        \u001b[0;34m)\u001b[0m\u001b[0;34m\u001b[0m\n",
       "\u001b[0;34m\u001b[0m\u001b[0;34m\u001b[0m\n",
       "\u001b[0;34m\u001b[0m    \u001b[0;31m# Compute for all lineages if branch is not speicified\u001b[0m\u001b[0;34m\u001b[0m\n",
       "\u001b[0;34m\u001b[0m    \u001b[0;32mif\u001b[0m \u001b[0mlineages\u001b[0m \u001b[0;32mis\u001b[0m \u001b[0;32mNone\u001b[0m\u001b[0;34m:\u001b[0m\u001b[0;34m\u001b[0m\n",
       "\u001b[0;34m\u001b[0m        \u001b[0mlineages\u001b[0m \u001b[0;34m=\u001b[0m \u001b[0mpr_res\u001b[0m\u001b[0;34m.\u001b[0m\u001b[0mbranch_probs\u001b[0m\u001b[0;34m.\u001b[0m\u001b[0mcolumns\u001b[0m\u001b[0;34m\u001b[0m\n",
       "\u001b[0;34m\u001b[0m\u001b[0;34m\u001b[0m\n",
       "\u001b[0;34m\u001b[0m    \u001b[0;31m# Results Container\u001b[0m\u001b[0;34m\u001b[0m\n",
       "\u001b[0;34m\u001b[0m    \u001b[0mresults\u001b[0m \u001b[0;34m=\u001b[0m \u001b[0mOrderedDict\u001b[0m\u001b[0;34m(\u001b[0m\u001b[0;34m)\u001b[0m\u001b[0;34m\u001b[0m\n",
       "\u001b[0;34m\u001b[0m    \u001b[0;32mfor\u001b[0m \u001b[0mbranch\u001b[0m \u001b[0;32min\u001b[0m \u001b[0mlineages\u001b[0m\u001b[0;34m:\u001b[0m\u001b[0;34m\u001b[0m\n",
       "\u001b[0;34m\u001b[0m        \u001b[0mresults\u001b[0m\u001b[0;34m[\u001b[0m\u001b[0mbranch\u001b[0m\u001b[0;34m]\u001b[0m \u001b[0;34m=\u001b[0m \u001b[0mOrderedDict\u001b[0m\u001b[0;34m(\u001b[0m\u001b[0;34m)\u001b[0m\u001b[0;34m\u001b[0m\n",
       "\u001b[0;34m\u001b[0m        \u001b[0;31m# Bins along the pseudotime\u001b[0m\u001b[0;34m\u001b[0m\n",
       "\u001b[0;34m\u001b[0m        \u001b[0mbr_cells\u001b[0m \u001b[0;34m=\u001b[0m \u001b[0mpr_res\u001b[0m\u001b[0;34m.\u001b[0m\u001b[0mbranch_probs\u001b[0m\u001b[0;34m.\u001b[0m\u001b[0mindex\u001b[0m\u001b[0;34m[\u001b[0m\u001b[0mpr_res\u001b[0m\u001b[0;34m.\u001b[0m\u001b[0mbranch_probs\u001b[0m\u001b[0;34m.\u001b[0m\u001b[0mloc\u001b[0m\u001b[0;34m[\u001b[0m\u001b[0;34m:\u001b[0m\u001b[0;34m,\u001b[0m \u001b[0mbranch\u001b[0m\u001b[0;34m]\u001b[0m \u001b[0;34m>\u001b[0m \u001b[0;36m0.7\u001b[0m\u001b[0;34m]\u001b[0m\u001b[0;34m\u001b[0m\n",
       "\u001b[0;34m\u001b[0m        \u001b[0mbins\u001b[0m \u001b[0;34m=\u001b[0m \u001b[0mnp\u001b[0m\u001b[0;34m.\u001b[0m\u001b[0mlinspace\u001b[0m\u001b[0;34m(\u001b[0m\u001b[0;36m0\u001b[0m\u001b[0;34m,\u001b[0m \u001b[0mpr_res\u001b[0m\u001b[0;34m.\u001b[0m\u001b[0mpseudotime\u001b[0m\u001b[0;34m[\u001b[0m\u001b[0mbr_cells\u001b[0m\u001b[0;34m]\u001b[0m\u001b[0;34m.\u001b[0m\u001b[0mmax\u001b[0m\u001b[0;34m(\u001b[0m\u001b[0;34m)\u001b[0m\u001b[0;34m,\u001b[0m \u001b[0;36m500\u001b[0m\u001b[0;34m)\u001b[0m\u001b[0;34m\u001b[0m\n",
       "\u001b[0;34m\u001b[0m\u001b[0;34m\u001b[0m\n",
       "\u001b[0;34m\u001b[0m        \u001b[0;31m# Branch results container\u001b[0m\u001b[0;34m\u001b[0m\n",
       "\u001b[0;34m\u001b[0m        \u001b[0mresults\u001b[0m\u001b[0;34m[\u001b[0m\u001b[0mbranch\u001b[0m\u001b[0;34m]\u001b[0m\u001b[0;34m[\u001b[0m\u001b[0;34m\"trends\"\u001b[0m\u001b[0;34m]\u001b[0m \u001b[0;34m=\u001b[0m \u001b[0mpd\u001b[0m\u001b[0;34m.\u001b[0m\u001b[0mDataFrame\u001b[0m\u001b[0;34m(\u001b[0m\u001b[0;34m\u001b[0m\n",
       "\u001b[0;34m\u001b[0m            \u001b[0;36m0.0\u001b[0m\u001b[0;34m,\u001b[0m \u001b[0mindex\u001b[0m\u001b[0;34m=\u001b[0m\u001b[0mgene_exprs\u001b[0m\u001b[0;34m.\u001b[0m\u001b[0mcolumns\u001b[0m\u001b[0;34m,\u001b[0m \u001b[0mcolumns\u001b[0m\u001b[0;34m=\u001b[0m\u001b[0mbins\u001b[0m\u001b[0;34m\u001b[0m\n",
       "\u001b[0;34m\u001b[0m        \u001b[0;34m)\u001b[0m\u001b[0;34m\u001b[0m\n",
       "\u001b[0;34m\u001b[0m        \u001b[0mresults\u001b[0m\u001b[0;34m[\u001b[0m\u001b[0mbranch\u001b[0m\u001b[0;34m]\u001b[0m\u001b[0;34m[\u001b[0m\u001b[0;34m\"std\"\u001b[0m\u001b[0;34m]\u001b[0m \u001b[0;34m=\u001b[0m \u001b[0mpd\u001b[0m\u001b[0;34m.\u001b[0m\u001b[0mDataFrame\u001b[0m\u001b[0;34m(\u001b[0m\u001b[0;34m\u001b[0m\n",
       "\u001b[0;34m\u001b[0m            \u001b[0;36m0.0\u001b[0m\u001b[0;34m,\u001b[0m \u001b[0mindex\u001b[0m\u001b[0;34m=\u001b[0m\u001b[0mgene_exprs\u001b[0m\u001b[0;34m.\u001b[0m\u001b[0mcolumns\u001b[0m\u001b[0;34m,\u001b[0m \u001b[0mcolumns\u001b[0m\u001b[0;34m=\u001b[0m\u001b[0mbins\u001b[0m\u001b[0;34m\u001b[0m\n",
       "\u001b[0;34m\u001b[0m        \u001b[0;34m)\u001b[0m\u001b[0;34m\u001b[0m\n",
       "\u001b[0;34m\u001b[0m\u001b[0;34m\u001b[0m\n",
       "\u001b[0;34m\u001b[0m    \u001b[0;31m# Compute for each branch\u001b[0m\u001b[0;34m\u001b[0m\n",
       "\u001b[0;34m\u001b[0m    \u001b[0;32mfor\u001b[0m \u001b[0mbranch\u001b[0m \u001b[0;32min\u001b[0m \u001b[0mlineages\u001b[0m\u001b[0;34m:\u001b[0m\u001b[0;34m\u001b[0m\n",
       "\u001b[0;34m\u001b[0m        \u001b[0mprint\u001b[0m\u001b[0;34m(\u001b[0m\u001b[0mbranch\u001b[0m\u001b[0;34m)\u001b[0m\u001b[0;34m\u001b[0m\n",
       "\u001b[0;34m\u001b[0m        \u001b[0mstart\u001b[0m \u001b[0;34m=\u001b[0m \u001b[0mtime\u001b[0m\u001b[0;34m.\u001b[0m\u001b[0mtime\u001b[0m\u001b[0;34m(\u001b[0m\u001b[0;34m)\u001b[0m\u001b[0;34m\u001b[0m\n",
       "\u001b[0;34m\u001b[0m\u001b[0;34m\u001b[0m\n",
       "\u001b[0;34m\u001b[0m        \u001b[0;31m# Branch cells and weights\u001b[0m\u001b[0;34m\u001b[0m\n",
       "\u001b[0;34m\u001b[0m        \u001b[0mweights\u001b[0m \u001b[0;34m=\u001b[0m \u001b[0mpr_res\u001b[0m\u001b[0;34m.\u001b[0m\u001b[0mbranch_probs\u001b[0m\u001b[0;34m.\u001b[0m\u001b[0mloc\u001b[0m\u001b[0;34m[\u001b[0m\u001b[0mgene_exprs\u001b[0m\u001b[0;34m.\u001b[0m\u001b[0mindex\u001b[0m\u001b[0;34m,\u001b[0m \u001b[0mbranch\u001b[0m\u001b[0;34m]\u001b[0m\u001b[0;34m.\u001b[0m\u001b[0mvalues\u001b[0m\u001b[0;34m\u001b[0m\n",
       "\u001b[0;34m\u001b[0m        \u001b[0mbins\u001b[0m \u001b[0;34m=\u001b[0m \u001b[0mnp\u001b[0m\u001b[0;34m.\u001b[0m\u001b[0marray\u001b[0m\u001b[0;34m(\u001b[0m\u001b[0mresults\u001b[0m\u001b[0;34m[\u001b[0m\u001b[0mbranch\u001b[0m\u001b[0;34m]\u001b[0m\u001b[0;34m[\u001b[0m\u001b[0;34m\"trends\"\u001b[0m\u001b[0;34m]\u001b[0m\u001b[0;34m.\u001b[0m\u001b[0mcolumns\u001b[0m\u001b[0;34m)\u001b[0m\u001b[0;34m\u001b[0m\n",
       "\u001b[0;34m\u001b[0m        \u001b[0mres\u001b[0m \u001b[0;34m=\u001b[0m \u001b[0mParallel\u001b[0m\u001b[0;34m(\u001b[0m\u001b[0mn_jobs\u001b[0m\u001b[0;34m=\u001b[0m\u001b[0mn_jobs\u001b[0m\u001b[0;34m)\u001b[0m\u001b[0;34m(\u001b[0m\u001b[0;34m\u001b[0m\n",
       "\u001b[0;34m\u001b[0m            \u001b[0mdelayed\u001b[0m\u001b[0;34m(\u001b[0m\u001b[0m_gam_fit_predict\u001b[0m\u001b[0;34m)\u001b[0m\u001b[0;34m(\u001b[0m\u001b[0;34m\u001b[0m\n",
       "\u001b[0;34m\u001b[0m                \u001b[0mpr_res\u001b[0m\u001b[0;34m.\u001b[0m\u001b[0mpseudotime\u001b[0m\u001b[0;34m[\u001b[0m\u001b[0mgene_exprs\u001b[0m\u001b[0;34m.\u001b[0m\u001b[0mindex\u001b[0m\u001b[0;34m]\u001b[0m\u001b[0;34m.\u001b[0m\u001b[0mvalues\u001b[0m\u001b[0;34m,\u001b[0m\u001b[0;34m\u001b[0m\n",
       "\u001b[0;34m\u001b[0m                \u001b[0mgene_exprs\u001b[0m\u001b[0;34m.\u001b[0m\u001b[0mloc\u001b[0m\u001b[0;34m[\u001b[0m\u001b[0;34m:\u001b[0m\u001b[0;34m,\u001b[0m \u001b[0mgene\u001b[0m\u001b[0;34m]\u001b[0m\u001b[0;34m.\u001b[0m\u001b[0mvalues\u001b[0m\u001b[0;34m,\u001b[0m\u001b[0;34m\u001b[0m\n",
       "\u001b[0;34m\u001b[0m                \u001b[0mweights\u001b[0m\u001b[0;34m,\u001b[0m\u001b[0;34m\u001b[0m\n",
       "\u001b[0;34m\u001b[0m                \u001b[0mbins\u001b[0m\u001b[0;34m,\u001b[0m\u001b[0;34m\u001b[0m\n",
       "\u001b[0;34m\u001b[0m            \u001b[0;34m)\u001b[0m\u001b[0;34m\u001b[0m\n",
       "\u001b[0;34m\u001b[0m            \u001b[0;32mfor\u001b[0m \u001b[0mgene\u001b[0m \u001b[0;32min\u001b[0m \u001b[0mgene_exprs\u001b[0m\u001b[0;34m.\u001b[0m\u001b[0mcolumns\u001b[0m\u001b[0;34m\u001b[0m\n",
       "\u001b[0;34m\u001b[0m        \u001b[0;34m)\u001b[0m\u001b[0;34m\u001b[0m\n",
       "\u001b[0;34m\u001b[0m\u001b[0;34m\u001b[0m\n",
       "\u001b[0;34m\u001b[0m        \u001b[0;31m# Fill in the matrices\u001b[0m\u001b[0;34m\u001b[0m\n",
       "\u001b[0;34m\u001b[0m        \u001b[0;32mfor\u001b[0m \u001b[0mi\u001b[0m\u001b[0;34m,\u001b[0m \u001b[0mgene\u001b[0m \u001b[0;32min\u001b[0m \u001b[0menumerate\u001b[0m\u001b[0;34m(\u001b[0m\u001b[0mgene_exprs\u001b[0m\u001b[0;34m.\u001b[0m\u001b[0mcolumns\u001b[0m\u001b[0;34m)\u001b[0m\u001b[0;34m:\u001b[0m\u001b[0;34m\u001b[0m\n",
       "\u001b[0;34m\u001b[0m            \u001b[0mresults\u001b[0m\u001b[0;34m[\u001b[0m\u001b[0mbranch\u001b[0m\u001b[0;34m]\u001b[0m\u001b[0;34m[\u001b[0m\u001b[0;34m\"trends\"\u001b[0m\u001b[0;34m]\u001b[0m\u001b[0;34m.\u001b[0m\u001b[0mloc\u001b[0m\u001b[0;34m[\u001b[0m\u001b[0mgene\u001b[0m\u001b[0;34m,\u001b[0m \u001b[0;34m:\u001b[0m\u001b[0;34m]\u001b[0m \u001b[0;34m=\u001b[0m \u001b[0mres\u001b[0m\u001b[0;34m[\u001b[0m\u001b[0mi\u001b[0m\u001b[0;34m]\u001b[0m\u001b[0;34m[\u001b[0m\u001b[0;36m0\u001b[0m\u001b[0;34m]\u001b[0m\u001b[0;34m\u001b[0m\n",
       "\u001b[0;34m\u001b[0m            \u001b[0mresults\u001b[0m\u001b[0;34m[\u001b[0m\u001b[0mbranch\u001b[0m\u001b[0;34m]\u001b[0m\u001b[0;34m[\u001b[0m\u001b[0;34m\"std\"\u001b[0m\u001b[0;34m]\u001b[0m\u001b[0;34m.\u001b[0m\u001b[0mloc\u001b[0m\u001b[0;34m[\u001b[0m\u001b[0mgene\u001b[0m\u001b[0;34m,\u001b[0m \u001b[0;34m:\u001b[0m\u001b[0;34m]\u001b[0m \u001b[0;34m=\u001b[0m \u001b[0mres\u001b[0m\u001b[0;34m[\u001b[0m\u001b[0mi\u001b[0m\u001b[0;34m]\u001b[0m\u001b[0;34m[\u001b[0m\u001b[0;36m1\u001b[0m\u001b[0;34m]\u001b[0m\u001b[0;34m\u001b[0m\n",
       "\u001b[0;34m\u001b[0m        \u001b[0mend\u001b[0m \u001b[0;34m=\u001b[0m \u001b[0mtime\u001b[0m\u001b[0;34m.\u001b[0m\u001b[0mtime\u001b[0m\u001b[0;34m(\u001b[0m\u001b[0;34m)\u001b[0m\u001b[0;34m\u001b[0m\n",
       "\u001b[0;34m\u001b[0m        \u001b[0mprint\u001b[0m\u001b[0;34m(\u001b[0m\u001b[0;34m\"Time for processing {}: {} minutes\"\u001b[0m\u001b[0;34m.\u001b[0m\u001b[0mformat\u001b[0m\u001b[0;34m(\u001b[0m\u001b[0mbranch\u001b[0m\u001b[0;34m,\u001b[0m \u001b[0;34m(\u001b[0m\u001b[0mend\u001b[0m \u001b[0;34m-\u001b[0m \u001b[0mstart\u001b[0m\u001b[0;34m)\u001b[0m \u001b[0;34m/\u001b[0m \u001b[0;36m60\u001b[0m\u001b[0;34m)\u001b[0m\u001b[0;34m)\u001b[0m\u001b[0;34m\u001b[0m\n",
       "\u001b[0;34m\u001b[0m\u001b[0;34m\u001b[0m\n",
       "\u001b[0;34m\u001b[0m    \u001b[0;32mreturn\u001b[0m \u001b[0mresults\u001b[0m\u001b[0;34m\u001b[0m\u001b[0;34m\u001b[0m\u001b[0m\n",
       "\u001b[0;31mFile:\u001b[0m      ~/anaconda3/lib/python3.9/site-packages/palantir/presults.py\n",
       "\u001b[0;31mType:\u001b[0m      function\n"
      ]
     },
     "metadata": {},
     "output_type": "display_data"
    }
   ],
   "source": [
    "??palantir.presults.compute_gene_trends"
   ]
  },
  {
   "cell_type": "code",
   "execution_count": 103,
   "id": "2cc7f715-555b-46f9-a308-c832702caca3",
   "metadata": {},
   "outputs": [],
   "source": [
    "import rpy2\n",
    "import rpy2.rinterface_lib.embedded as embedded\n",
    "from rpy2.robjects.packages import importr"
   ]
  },
  {
   "cell_type": "code",
   "execution_count": 97,
   "id": "97498c80-3633-4d23-beac-96b0962c2294",
   "metadata": {},
   "outputs": [],
   "source": [
    "import numpy as np\n",
    "import pandas as pd\n",
    "import networkx as nx\n",
    "import time\n",
    "import random\n",
    "import copy\n",
    "\n",
    "from sklearn.metrics import pairwise_distances\n",
    "from sklearn import preprocessing\n",
    "from sklearn.neighbors import NearestNeighbors\n",
    "from joblib import Parallel, delayed\n",
    "from scipy.sparse.linalg import eigs\n",
    "\n",
    "from scipy.sparse import csr_matrix, find, csgraph\n",
    "from scipy.stats import entropy, pearsonr, norm\n",
    "from numpy.linalg import inv\n",
    "from copy import deepcopy \n",
    "from palantir.presults import PResults"
   ]
  },
  {
   "cell_type": "code",
   "execution_count": 94,
   "id": "7b74ba34-e93c-4db0-82fe-276a81dcacf3",
   "metadata": {},
   "outputs": [
    {
     "name": "stdout",
     "output_type": "stream",
     "text": [
      "Requirement already satisfied: rpy2 in /public/home/zhaox/anaconda3/lib/python3.9/site-packages (3.5.1)\n",
      "Requirement already satisfied: tzlocal in /public/home/zhaox/anaconda3/lib/python3.9/site-packages (from rpy2) (4.2)\n",
      "Requirement already satisfied: pytz in /public/home/zhaox/anaconda3/lib/python3.9/site-packages (from rpy2) (2021.3)\n",
      "Requirement already satisfied: cffi>=1.10.0 in /public/home/zhaox/anaconda3/lib/python3.9/site-packages (from rpy2) (1.14.6)\n",
      "Requirement already satisfied: jinja2 in /public/home/zhaox/anaconda3/lib/python3.9/site-packages (from rpy2) (2.11.3)\n",
      "Requirement already satisfied: pycparser in /public/home/zhaox/anaconda3/lib/python3.9/site-packages (from cffi>=1.10.0->rpy2) (2.20)\n",
      "Requirement already satisfied: MarkupSafe>=0.23 in /public/home/zhaox/anaconda3/lib/python3.9/site-packages (from jinja2->rpy2) (1.1.1)\n",
      "Requirement already satisfied: pytz-deprecation-shim in /public/home/zhaox/anaconda3/lib/python3.9/site-packages (from tzlocal->rpy2) (0.1.0.post0)\n",
      "Requirement already satisfied: tzdata in /public/home/zhaox/anaconda3/lib/python3.9/site-packages (from pytz-deprecation-shim->tzlocal->rpy2) (2022.1)\n",
      "Note: you may need to restart the kernel to use updated packages.\n"
     ]
    }
   ],
   "source": [
    "pip install rpy2"
   ]
  },
  {
   "cell_type": "code",
   "execution_count": 95,
   "id": "ce7d4095-fbcc-4359-85fc-7377334c697f",
   "metadata": {},
   "outputs": [],
   "source": [
    "from rpy2.robjects.packages import importr"
   ]
  },
  {
   "cell_type": "code",
   "execution_count": null,
   "id": "1f81e663-b6d3-4ee5-aa5c-80bf6245e59a",
   "metadata": {},
   "outputs": [],
   "source": []
  }
 ],
 "metadata": {
  "kernelspec": {
   "display_name": "Python 3 (ipykernel)",
   "language": "python",
   "name": "python3"
  },
  "language_info": {
   "codemirror_mode": {
    "name": "ipython",
    "version": 3
   },
   "file_extension": ".py",
   "mimetype": "text/x-python",
   "name": "python",
   "nbconvert_exporter": "python",
   "pygments_lexer": "ipython3",
   "version": "3.9.7"
  }
 },
 "nbformat": 4,
 "nbformat_minor": 5
}
