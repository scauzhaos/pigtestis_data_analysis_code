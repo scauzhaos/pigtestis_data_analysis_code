{
 "cells": [
  {
   "cell_type": "code",
   "execution_count": 1,
   "id": "ac08fc32-4c81-4539-8d63-bff09fd13ec0",
   "metadata": {},
   "outputs": [
    {
     "name": "stdout",
     "output_type": "stream",
     "text": [
      "Running scvelo 0.2.4 (python 3.9.7) on 2023-02-21 10:06.\n"
     ]
    },
    {
     "name": "stderr",
     "output_type": "stream",
     "text": [
      "ERROR: XMLRPC request failed [code: -32500]\n",
      "RuntimeError: PyPI no longer supports 'pip search' (or XML-RPC search). Please use https://pypi.org/search (via a browser) instead. See https://warehouse.pypa.io/api-reference/xml-rpc.html#deprecated-methods for more information.\n"
     ]
    }
   ],
   "source": [
    "import scanpy as sc\n",
    "import pandas as pd\n",
    "import numpy as np\n",
    "import doubletdetection\n",
    "import matplotlib as mpl\n",
    "import matplotlib.pyplot as plt\n",
    "mpl.rcParams['pdf.fonttype'] = 42\n",
    "mpl.rcParams['font.sans-serif'] = \"Arial\"\n",
    "import scvelo as scv\n",
    "scv.logging.print_version()\n",
    "scv.settings.verbosity = 3  # show errors(0), warnings(1), info(2), hints(3)\n",
    "scv.settings.presenter_view = True  # set max width size for presenter view\n",
    "scv.settings.set_figure_params('scvelo')  # for beautified visualizationscv.settings.set_figure_params('scvelo') \n",
    "sc.settings.set_figure_params(dpi = 50, dpi_save = 600, figsize = (4, 4))"
   ]
  },
  {
   "cell_type": "code",
   "execution_count": 8,
   "id": "c30a1fd2-22bd-4af2-81c1-376090f368ad",
   "metadata": {},
   "outputs": [
    {
     "data": {
      "text/plain": [
       "AnnData object with n_obs × n_vars = 757 × 4401\n",
       "    obs: 'n_genes', 'n_genes_by_counts', 'total_counts', 'total_counts_mt', 'pct_counts_mt', 'total_counts_chrX', 'pct_counts_chrX', 'total_counts_chrY', 'pct_counts_chrY', 'S_score', 'G2M_score', 'phase', 'doublet', 'doublet_score', 'leiden', 'cell_type'\n",
       "    var: 'gene_ids', 'feature_types', 'genome', 'n_counts', 'mt', 'n_cells_by_counts', 'mean_counts', 'pct_dropout_by_counts', 'total_counts', 'chrX', 'chrY', 'highly_variable', 'means', 'dispersions', 'dispersions_norm', 'mean', 'std'\n",
       "    uns: 'cell_type_colors', 'dendrogram_cell_type', 'dendrogram_leiden', 'hvg', 'leiden', 'leiden_colors', 'neighbors', 'pca', 'rank_genes_groups', 'tsne', 'umap'\n",
       "    obsm: 'X_pca', 'X_tsne', 'X_umap'\n",
       "    varm: 'PCs'\n",
       "    obsp: 'connectivities', 'distances'"
      ]
     },
     "execution_count": 8,
     "metadata": {},
     "output_type": "execute_result"
    }
   ],
   "source": [
    "adata_adult = sc.read('/public/home/zhaox/pigscRNA-seq/figures/figures/adult_spermatogoniaunannotation.h5ad') \n",
    "adata_adult"
   ]
  },
  {
   "cell_type": "code",
   "execution_count": 9,
   "id": "1b706d56-936b-4e00-9daf-3efd69286123",
   "metadata": {},
   "outputs": [
    {
     "data": {
      "text/plain": [
       "AAACCCAGTCCAGGTC         Diff SPG1\n",
       "AAACCCAGTTCGGCGT    Early diff SPG\n",
       "AAACGAACACCGTGCA    Early diff SPG\n",
       "AAAGGATAGCGTGTCC         Diff SPG1\n",
       "AAAGGATAGTCTCTGA    Early diff SPG\n",
       "                         ...      \n",
       "TTTCACACATAACGGG         Diff SPG1\n",
       "TTTCAGTCACAATGAA         Diff SPG2\n",
       "TTTGGAGAGGTAACTA         Diff SPG2\n",
       "TTTGGAGTCCTGTACC    Early diff SPG\n",
       "TTTGGTTGTGTCACAT         Diff SPG1\n",
       "Name: cell_type, Length: 757, dtype: category\n",
       "Categories (5, object): ['SSC1', 'SSC2', 'Early diff SPG', 'Diff SPG1', 'Diff SPG2']"
      ]
     },
     "execution_count": 9,
     "metadata": {},
     "output_type": "execute_result"
    }
   ],
   "source": [
    "adata_adult.obs.cell_type"
   ]
  },
  {
   "cell_type": "code",
   "execution_count": 15,
   "id": "5f854748-0cf9-4837-b86c-982f6723e26b",
   "metadata": {},
   "outputs": [
    {
     "data": {
      "text/plain": [
       "AnnData object with n_obs × n_vars = 222 × 4401\n",
       "    obs: 'n_genes', 'n_genes_by_counts', 'total_counts', 'total_counts_mt', 'pct_counts_mt', 'total_counts_chrX', 'pct_counts_chrX', 'total_counts_chrY', 'pct_counts_chrY', 'S_score', 'G2M_score', 'phase', 'doublet', 'doublet_score', 'leiden', 'cell_type'\n",
       "    var: 'gene_ids', 'feature_types', 'genome', 'n_counts', 'mt', 'n_cells_by_counts', 'mean_counts', 'pct_dropout_by_counts', 'total_counts', 'chrX', 'chrY', 'highly_variable', 'means', 'dispersions', 'dispersions_norm', 'mean', 'std'\n",
       "    uns: 'cell_type_colors', 'dendrogram_cell_type', 'dendrogram_leiden', 'hvg', 'leiden', 'neighbors', 'pca', 'rank_genes_groups', 'tsne', 'umap'\n",
       "    obsm: 'X_pca', 'X_tsne', 'X_umap'\n",
       "    varm: 'PCs'\n",
       "    obsp: 'connectivities', 'distances'"
      ]
     },
     "execution_count": 15,
     "metadata": {},
     "output_type": "execute_result"
    }
   ],
   "source": [
    "adata_adult_ssc = adata_adult[adata_adult.obs['cell_type'].isin(['SSC1', 'SSC2'])].copy()\n",
    "adata_adult_ssc"
   ]
  },
  {
   "cell_type": "code",
   "execution_count": 16,
   "id": "8edc39b8-69d8-4ff3-80e3-fc1b049a66a9",
   "metadata": {},
   "outputs": [
    {
     "data": {
      "text/plain": [
       "AAAGGATCAGCACAGA    SSC1\n",
       "AAAGGGCGTATGCTAC    SSC1\n",
       "AAAGTCCTCCACAAGT    SSC1\n",
       "AACGAAAGTAACGGTG    SSC1\n",
       "AACGAAATCCATACAG    SSC2\n",
       "                    ... \n",
       "TTGTGTTAGCTCGCAC    SSC2\n",
       "TTGTGTTCACTTGAAC    SSC1\n",
       "TTGTTCAAGGCATCTT    SSC1\n",
       "TTGTTCATCACCATAG    SSC2\n",
       "TTGTTGTCAAAGTATG    SSC2\n",
       "Name: cell_type, Length: 222, dtype: category\n",
       "Categories (2, object): ['SSC1', 'SSC2']"
      ]
     },
     "execution_count": 16,
     "metadata": {},
     "output_type": "execute_result"
    }
   ],
   "source": [
    "adata_adult_ssc.obs.cell_type"
   ]
  },
  {
   "cell_type": "code",
   "execution_count": 17,
   "id": "ba6ada1b-792d-47db-85f0-37a0a487bb3a",
   "metadata": {},
   "outputs": [],
   "source": [
    "adata_adult_ssc.obs.index=['adult_'+x for x in adata_adult_ssc.obs.index]"
   ]
  },
  {
   "cell_type": "code",
   "execution_count": 18,
   "id": "576f129e-7473-4025-8baa-a20882a0a81a",
   "metadata": {},
   "outputs": [
    {
     "data": {
      "text/plain": [
       "Index(['adult_AAAGGATCAGCACAGA', 'adult_AAAGGGCGTATGCTAC',\n",
       "       'adult_AAAGTCCTCCACAAGT', 'adult_AACGAAAGTAACGGTG',\n",
       "       'adult_AACGAAATCCATACAG', 'adult_AAGGTAACAATCTCTT',\n",
       "       'adult_AATAGAGAGACGGATC', 'adult_AATAGAGAGAGGTGCT',\n",
       "       'adult_AATAGAGTCCGAGAAG', 'adult_AATCACGTCGGCATAT',\n",
       "       ...\n",
       "       'adult_TTCCACGAGACGAAGA', 'adult_TTCTAGTAGCCTGAAG',\n",
       "       'adult_TTCTAGTCACGGTCTG', 'adult_TTGAACGGTACCGTCG',\n",
       "       'adult_TTGCATTAGTCGAGGT', 'adult_TTGTGTTAGCTCGCAC',\n",
       "       'adult_TTGTGTTCACTTGAAC', 'adult_TTGTTCAAGGCATCTT',\n",
       "       'adult_TTGTTCATCACCATAG', 'adult_TTGTTGTCAAAGTATG'],\n",
       "      dtype='object', length=222)"
      ]
     },
     "execution_count": 18,
     "metadata": {},
     "output_type": "execute_result"
    }
   ],
   "source": [
    "adata_adult_ssc.obs.index"
   ]
  },
  {
   "cell_type": "code",
   "execution_count": 19,
   "id": "81d1376e-429b-4bc2-8009-9d9af5bd726a",
   "metadata": {},
   "outputs": [],
   "source": [
    "def map_condition(index):\n",
    "    if 'adu' in index:\n",
    "        return 'Adult'\n",
    "    else:\n",
    "        return 'Adult'"
   ]
  },
  {
   "cell_type": "code",
   "execution_count": 20,
   "id": "98bacb2d-9d5a-47f9-8633-494ecb1eb0cf",
   "metadata": {},
   "outputs": [],
   "source": [
    "adata = adata_adult_ssc\n",
    "index = adata.obs.index\n",
    "index = ['neo_'+x for x in adata_adult_ssc.obs.index]\n",
    "adata.obs['Sample'] = map_condition(index)"
   ]
  },
  {
   "cell_type": "code",
   "execution_count": 21,
   "id": "095d5cc8-a2a5-48bf-a064-8d3d22aa594a",
   "metadata": {},
   "outputs": [
    {
     "data": {
      "text/plain": [
       "adult_AAAGGATCAGCACAGA    Adult\n",
       "adult_AAAGGGCGTATGCTAC    Adult\n",
       "adult_AAAGTCCTCCACAAGT    Adult\n",
       "adult_AACGAAAGTAACGGTG    Adult\n",
       "adult_AACGAAATCCATACAG    Adult\n",
       "                          ...  \n",
       "adult_TTGTGTTAGCTCGCAC    Adult\n",
       "adult_TTGTGTTCACTTGAAC    Adult\n",
       "adult_TTGTTCAAGGCATCTT    Adult\n",
       "adult_TTGTTCATCACCATAG    Adult\n",
       "adult_TTGTTGTCAAAGTATG    Adult\n",
       "Name: Sample, Length: 222, dtype: object"
      ]
     },
     "execution_count": 21,
     "metadata": {},
     "output_type": "execute_result"
    }
   ],
   "source": [
    "adata_adult_ssc.obs.Sample"
   ]
  },
  {
   "cell_type": "code",
   "execution_count": 10,
   "id": "6d8d7eac-3093-4685-b16a-36f7d504333f",
   "metadata": {},
   "outputs": [
    {
     "data": {
      "text/plain": [
       "AnnData object with n_obs × n_vars = 184 × 4944\n",
       "    obs: 'n_genes', 'n_genes_by_counts', 'total_counts', 'total_counts_mt', 'pct_counts_mt', 'total_counts_chrX', 'pct_counts_chrX', 'total_counts_chrY', 'pct_counts_chrY', 'S_score', 'G2M_score', 'phase', 'doublet', 'doublet_score', 'leiden', 'cell_type'\n",
       "    var: 'gene_ids', 'feature_types', 'genome', 'n_counts', 'mt', 'n_cells_by_counts', 'mean_counts', 'pct_dropout_by_counts', 'total_counts', 'chrX', 'chrY', 'highly_variable', 'means', 'dispersions', 'dispersions_norm', 'mean', 'std'\n",
       "    uns: 'cell_type_colors', 'dendrogram_cell_type', 'dendrogram_leiden', 'hvg', 'leiden', 'leiden_colors', 'neighbors', 'pca', 'rank_genes_groups', 'tsne', 'umap'\n",
       "    obsm: 'X_pca', 'X_tsne', 'X_umap'\n",
       "    varm: 'PCs'\n",
       "    obsp: 'connectivities', 'distances'"
      ]
     },
     "execution_count": 10,
     "metadata": {},
     "output_type": "execute_result"
    }
   ],
   "source": [
    "adata_neo = sc.read('/public/home/zhaox/pigscRNA-seq/figures/neospg_annotation.h5ad') \n",
    "adata_neo"
   ]
  },
  {
   "cell_type": "code",
   "execution_count": 11,
   "id": "e0d1bc5d-8ddd-48aa-8cc5-bf87996c18ae",
   "metadata": {},
   "outputs": [
    {
     "data": {
      "text/plain": [
       "AAAGGGCAGGCTAGCA-1         SSC\n",
       "AACAAGACACCTGTCT-1         SSC\n",
       "AACCACATCACTTCTA-1    PreSPG-1\n",
       "AAGACTCCAACACTAC-1         SSC\n",
       "AAGACTCCACTGCATA-1    PreSPG-1\n",
       "                        ...   \n",
       "TTCCGTGGTCGTTTCC-1    PreSPG-1\n",
       "TTCTTCCCAGACTCTA-1         SSC\n",
       "TTGCGTCGTACTTGTG-1         SSC\n",
       "TTGGGCGGTCACTGAT-1         SSC\n",
       "TTTAGTCAGCGTGCCT-1         SSC\n",
       "Name: cell_type, Length: 184, dtype: category\n",
       "Categories (3, object): ['PreSPG-1', 'PreSPG-2', 'SSC']"
      ]
     },
     "execution_count": 11,
     "metadata": {},
     "output_type": "execute_result"
    }
   ],
   "source": [
    "adata_neo.obs.cell_type"
   ]
  },
  {
   "cell_type": "code",
   "execution_count": 22,
   "id": "7131b5b8-bdcb-48d4-9b7d-00b8fb435a95",
   "metadata": {},
   "outputs": [
    {
     "data": {
      "text/plain": [
       "Index(['neo_AAAGGGCAGGCTAGCA-1', 'neo_AACAAGACACCTGTCT-1',\n",
       "       'neo_AACCACATCACTTCTA-1', 'neo_AAGACTCCAACACTAC-1',\n",
       "       'neo_AAGACTCCACTGCATA-1', 'neo_AAGCATCCAATCGCCG-1',\n",
       "       'neo_AAGTTCGAGCACCGAA-1', 'neo_AATCGACTCCGACGGT-1',\n",
       "       'neo_AATGCCAAGCAATTCC-1', 'neo_ACACCAATCCCGAGAC-1',\n",
       "       ...\n",
       "       'neo_TGTTCCGAGTGAGCCA-1', 'neo_TTAATCCGTTACTCAG-1',\n",
       "       'neo_TTACAGGCAGCGAGTA-1', 'neo_TTACTGTCACCGGAAA-1',\n",
       "       'neo_TTCACCGGTCATGCAT-1', 'neo_TTCCGTGGTCGTTTCC-1',\n",
       "       'neo_TTCTTCCCAGACTCTA-1', 'neo_TTGCGTCGTACTTGTG-1',\n",
       "       'neo_TTGGGCGGTCACTGAT-1', 'neo_TTTAGTCAGCGTGCCT-1'],\n",
       "      dtype='object', length=184)"
      ]
     },
     "execution_count": 22,
     "metadata": {},
     "output_type": "execute_result"
    }
   ],
   "source": [
    "adata_neo.obs.index=['neo_'+x for x in adata_neo.obs.index]\n",
    "adata_neo.obs.index"
   ]
  },
  {
   "cell_type": "code",
   "execution_count": 23,
   "id": "fc189a74-1caf-44c9-9478-b341f6d19d27",
   "metadata": {},
   "outputs": [],
   "source": [
    "def map_condition(index):\n",
    "    if 'neo' in index:\n",
    "        return 'Neonatal'\n",
    "    else:\n",
    "        return 'Neonatal'"
   ]
  },
  {
   "cell_type": "code",
   "execution_count": 24,
   "id": "73ae7717-8747-40ad-ac9e-3c9146f78f3f",
   "metadata": {},
   "outputs": [],
   "source": [
    "adata = adata_neo\n",
    "index = adata.obs.index\n",
    "index = ['neo_'+x for x in adata_neo.obs.index]\n",
    "adata.obs['Sample'] = map_condition(index)"
   ]
  },
  {
   "cell_type": "code",
   "execution_count": 25,
   "id": "0766b8c5-cfb3-4f36-8d12-0d2a572e4fe2",
   "metadata": {},
   "outputs": [
    {
     "data": {
      "text/plain": [
       "neo_AAAGGGCAGGCTAGCA-1    Neonatal\n",
       "neo_AACAAGACACCTGTCT-1    Neonatal\n",
       "neo_AACCACATCACTTCTA-1    Neonatal\n",
       "neo_AAGACTCCAACACTAC-1    Neonatal\n",
       "neo_AAGACTCCACTGCATA-1    Neonatal\n",
       "                            ...   \n",
       "neo_TTCCGTGGTCGTTTCC-1    Neonatal\n",
       "neo_TTCTTCCCAGACTCTA-1    Neonatal\n",
       "neo_TTGCGTCGTACTTGTG-1    Neonatal\n",
       "neo_TTGGGCGGTCACTGAT-1    Neonatal\n",
       "neo_TTTAGTCAGCGTGCCT-1    Neonatal\n",
       "Name: Sample, Length: 184, dtype: object"
      ]
     },
     "execution_count": 25,
     "metadata": {},
     "output_type": "execute_result"
    }
   ],
   "source": [
    "adata_neo.obs.Sample"
   ]
  },
  {
   "cell_type": "code",
   "execution_count": 26,
   "id": "403519f2-656f-4550-bb68-264c6dbee066",
   "metadata": {},
   "outputs": [
    {
     "data": {
      "text/plain": [
       "AnnData object with n_obs × n_vars = 406 × 1534\n",
       "    obs: 'n_genes', 'n_genes_by_counts', 'total_counts', 'total_counts_mt', 'pct_counts_mt', 'total_counts_chrX', 'pct_counts_chrX', 'total_counts_chrY', 'pct_counts_chrY', 'S_score', 'G2M_score', 'phase', 'doublet', 'doublet_score', 'leiden', 'cell_type', 'Sample'\n",
       "    var: 'gene_ids', 'feature_types', 'genome', 'mt', 'chrX', 'chrY', 'highly_variable'\n",
       "    obsm: 'X_pca', 'X_tsne', 'X_umap'"
      ]
     },
     "execution_count": 26,
     "metadata": {},
     "output_type": "execute_result"
    }
   ],
   "source": [
    "import anndata as ad\n",
    "adatas = [adata_adult_ssc,adata_neo]\n",
    "adata_ssc = ad.concat(adatas,merge=\"same\")\n",
    "adata_ssc"
   ]
  },
  {
   "cell_type": "code",
   "execution_count": 27,
   "id": "d957402b-cbe7-4fef-9e57-462d4632a80e",
   "metadata": {},
   "outputs": [
    {
     "data": {
      "text/plain": [
       "adult_AAAGGATCAGCACAGA       Adult\n",
       "adult_AAAGGGCGTATGCTAC       Adult\n",
       "adult_AAAGTCCTCCACAAGT       Adult\n",
       "adult_AACGAAAGTAACGGTG       Adult\n",
       "adult_AACGAAATCCATACAG       Adult\n",
       "                            ...   \n",
       "neo_TTCCGTGGTCGTTTCC-1    Neonatal\n",
       "neo_TTCTTCCCAGACTCTA-1    Neonatal\n",
       "neo_TTGCGTCGTACTTGTG-1    Neonatal\n",
       "neo_TTGGGCGGTCACTGAT-1    Neonatal\n",
       "neo_TTTAGTCAGCGTGCCT-1    Neonatal\n",
       "Name: Sample, Length: 406, dtype: object"
      ]
     },
     "execution_count": 27,
     "metadata": {},
     "output_type": "execute_result"
    }
   ],
   "source": [
    "adata_ssc.obs.Sample"
   ]
  },
  {
   "cell_type": "code",
   "execution_count": 28,
   "id": "71bbbe44-8d00-4bab-9ee7-a47d9476aaa3",
   "metadata": {},
   "outputs": [],
   "source": [
    "results_file = './figures/adultssc_neogerm_unannotation0221.h5ad'\n",
    "adata_ssc.write(results_file)"
   ]
  },
  {
   "cell_type": "code",
   "execution_count": 29,
   "id": "984de15f-57bc-498d-abc4-d39e09082736",
   "metadata": {},
   "outputs": [
    {
     "data": {
      "text/plain": [
       "AnnData object with n_obs × n_vars = 406 × 18859\n",
       "    obs: 'n_genes', 'n_genes_by_counts', 'total_counts', 'total_counts_mt', 'pct_counts_mt', 'total_counts_chrX', 'pct_counts_chrX', 'total_counts_chrY', 'pct_counts_chrY', 'S_score', 'G2M_score', 'phase', 'doublet', 'doublet_score', 'leiden', 'cell_type', 'Sample'\n",
       "    obsm: 'X_pca', 'X_tsne', 'X_umap'"
      ]
     },
     "execution_count": 29,
     "metadata": {},
     "output_type": "execute_result"
    }
   ],
   "source": [
    "adata_ssc = adata_ssc.raw.to_adata()\n",
    "adata_ssc"
   ]
  },
  {
   "cell_type": "code",
   "execution_count": 30,
   "id": "d980ead2-575c-4e5c-b3bf-6dfd9f3b23cc",
   "metadata": {},
   "outputs": [
    {
     "data": {
      "text/plain": [
       "adult_AAAGGATCAGCACAGA        SSC1\n",
       "adult_AAAGGGCGTATGCTAC        SSC1\n",
       "adult_AAAGTCCTCCACAAGT        SSC1\n",
       "adult_AACGAAAGTAACGGTG        SSC1\n",
       "adult_AACGAAATCCATACAG        SSC2\n",
       "                            ...   \n",
       "neo_TTCCGTGGTCGTTTCC-1    PreSPG-1\n",
       "neo_TTCTTCCCAGACTCTA-1         SSC\n",
       "neo_TTGCGTCGTACTTGTG-1         SSC\n",
       "neo_TTGGGCGGTCACTGAT-1         SSC\n",
       "neo_TTTAGTCAGCGTGCCT-1         SSC\n",
       "Name: cell_type, Length: 406, dtype: category\n",
       "Categories (5, object): ['PreSPG-1', 'PreSPG-2', 'SSC', 'SSC1', 'SSC2']"
      ]
     },
     "execution_count": 30,
     "metadata": {},
     "output_type": "execute_result"
    }
   ],
   "source": [
    "adata_ssc.obs.cell_type"
   ]
  },
  {
   "cell_type": "code",
   "execution_count": 31,
   "id": "3defd8b0-adf0-45d6-a40f-37e86d498d1e",
   "metadata": {},
   "outputs": [
    {
     "name": "stdout",
     "output_type": "stream",
     "text": [
      "WARNING: saving figure to file figures/umapadultsscneogerm_celltyperight0221.pdf\n"
     ]
    }
   ],
   "source": [
    "sc.pl.umap(adata_ssc, color='cell_type', frameon=True, legend_loc= \"right margin\", legend_fontsize=10, legend_fontweight=\"normal\", legend_fontoutline=2, save=\"adultsscneogerm_celltyperight0221.pdf\")"
   ]
  },
  {
   "cell_type": "code",
   "execution_count": 32,
   "id": "a34f6d70-1679-4bf6-b971-3f79b2fc9502",
   "metadata": {},
   "outputs": [
    {
     "name": "stderr",
     "output_type": "stream",
     "text": [
      "2023-02-21 11:04:42.371930: W tensorflow/stream_executor/platform/default/dso_loader.cc:64] Could not load dynamic library 'libcudart.so.11.0'; dlerror: libcudart.so.11.0: cannot open shared object file: No such file or directory; LD_LIBRARY_PATH: /public/home/zhaox/anaconda3/envs/jupyter/lib:/opt/OpenBLAS/lib\n",
      "2023-02-21 11:04:42.371983: I tensorflow/stream_executor/cuda/cudart_stub.cc:29] Ignore above cudart dlerror if you do not have a GPU set up on your machine.\n"
     ]
    },
    {
     "name": "stdout",
     "output_type": "stream",
     "text": [
      "CPU times: user 12.5 s, sys: 834 ms, total: 13.3 s\n",
      "Wall time: 23.3 s\n"
     ]
    }
   ],
   "source": [
    "%%time\n",
    "sc.external.pp.bbknn(adata_ssc, batch_key='Sample')"
   ]
  },
  {
   "cell_type": "code",
   "execution_count": 34,
   "id": "736dabe0-2107-4168-8bc1-ff29a5e0b8d5",
   "metadata": {},
   "outputs": [],
   "source": [
    "sc.tl.umap(adata_ssc)"
   ]
  },
  {
   "cell_type": "code",
   "execution_count": 35,
   "id": "a911cba8-6c6c-43c9-966e-1c4eacc03219",
   "metadata": {},
   "outputs": [
    {
     "name": "stdout",
     "output_type": "stream",
     "text": [
      "WARNING: saving figure to file figures/umapadultsscneogerm_celltypebbknnright0221.pdf\n"
     ]
    }
   ],
   "source": [
    "sc.pl.umap(adata_ssc, color=['Sample', 'cell_type'], frameon=True, legend_loc= \"right margin\", legend_fontsize=10, legend_fontweight=\"normal\", legend_fontoutline=2, save=\"adultsscneogerm_celltypebbknnright0221.pdf\")"
   ]
  },
  {
   "cell_type": "code",
   "execution_count": 36,
   "id": "9a4c0698-9972-41d2-99aa-35c55f9d43ca",
   "metadata": {},
   "outputs": [],
   "source": [
    "sc.tl.rank_genes_groups(adata_ssc, 'cell_type', method='wilcoxon')"
   ]
  },
  {
   "cell_type": "code",
   "execution_count": 39,
   "id": "0d567599-1f22-4849-9ade-19e278fca72b",
   "metadata": {},
   "outputs": [
    {
     "name": "stdout",
     "output_type": "stream",
     "text": [
      "WARNING: saving figure to file figures/rank_genes_groups_cell_type_PreSPG-1adultsscneogerm_0221.pdf\n",
      "WARNING: saving figure to file figures/rank_genes_groups_cell_type_PreSPG-2adultsscneogerm_0221.pdf\n",
      "WARNING: saving figure to file figures/rank_genes_groups_cell_type_SSCadultsscneogerm_0221.pdf\n",
      "WARNING: saving figure to file figures/rank_genes_groups_cell_type_SSC1adultsscneogerm_0221.pdf\n",
      "WARNING: saving figure to file figures/rank_genes_groups_cell_type_SSC2adultsscneogerm_0221.pdf\n"
     ]
    }
   ],
   "source": [
    "from matplotlib.pyplot import rc_context\n",
    "with rc_context({'figure.figsize': (9, 1.5)}):\n",
    "    sc.pl.rank_genes_groups_violin(adata_ssc, n_genes=20, jitter=True,save=\"adultsscneogerm_0221.pdf\")"
   ]
  },
  {
   "cell_type": "code",
   "execution_count": 45,
   "id": "034c996e-7f14-49d4-bcc6-01d280f2bff4",
   "metadata": {},
   "outputs": [
    {
     "name": "stdout",
     "output_type": "stream",
     "text": [
      "WARNING: saving figure to file figures/violinadultsscneogermvio1_0221.pdf\n"
     ]
    }
   ],
   "source": [
    "markers = ['POU5F1','PIM2','ETV4','DOCK8','SERINC2','TTC14','COL1A2','TIMP2','DVL1','ZFHX3',\n",
    "          'LY6K','UTF1','PIWIL4','LPPR3','GFRA1','UCHL1']\n",
    "with rc_context({'figure.figsize': (4.5, 3)}):\n",
    "    sc.pl.violin(adata_ssc, ['POU5F1','PIM2','ETV4','DOCK8','SERINC2'], groupby='cell_type',stripplot=False, inner='box',rotation=90,save=\"adultsscneogermvio1_0221.pdf\")"
   ]
  },
  {
   "cell_type": "code",
   "execution_count": 46,
   "id": "d5d14840-8264-4885-b843-0dc51a5b2e01",
   "metadata": {},
   "outputs": [
    {
     "name": "stdout",
     "output_type": "stream",
     "text": [
      "WARNING: saving figure to file figures/violinadultsscneogermvio2_0221.pdf\n"
     ]
    }
   ],
   "source": [
    "with rc_context({'figure.figsize': (4.5, 3)}):\n",
    "    sc.pl.violin(adata_ssc, ['TTC14','COL1A2','TIMP2','DVL1','ZFHX3'], groupby='cell_type',stripplot=False, inner='box',rotation=90,save=\"adultsscneogermvio2_0221.pdf\")"
   ]
  },
  {
   "cell_type": "code",
   "execution_count": 48,
   "id": "70ca4fd6-d163-42d8-8cd8-f7ff2cd28e32",
   "metadata": {},
   "outputs": [
    {
     "name": "stdout",
     "output_type": "stream",
     "text": [
      "WARNING: saving figure to file figures/violinadultsscneogermvio3_0221.pdf\n"
     ]
    }
   ],
   "source": [
    "with rc_context({'figure.figsize': (4.5, 3)}):\n",
    "    sc.pl.violin(adata_ssc, ['LY6K','UTF1','PIWIL4','GFRA1','UCHL1'], groupby='cell_type',stripplot=False, inner='box',rotation=90,save=\"adultsscneogermvio3_0221.pdf\")"
   ]
  },
  {
   "cell_type": "code",
   "execution_count": 49,
   "id": "3d6a5130-29d0-4a6b-b620-e412f3599e36",
   "metadata": {},
   "outputs": [],
   "source": [
    "cell_cycle_genes = [x.strip() for x in open('/public/home/zhaox/pigscRNA-seq/cell_cycle_genes (remove).txt')]\n",
    "s_genes = cell_cycle_genes[:43]\n",
    "g2m_genes = cell_cycle_genes[43:]"
   ]
  },
  {
   "cell_type": "code",
   "execution_count": 50,
   "id": "e8b61299-0f21-4ab1-9798-6c5d7f1d8489",
   "metadata": {},
   "outputs": [
    {
     "name": "stdout",
     "output_type": "stream",
     "text": [
      "WARNING: saving figure to file figures/heatmapg1scellcycleadultsscneogerm0221.pdf\n",
      "WARNING: saving figure to file figures/heatmapg2mcellcycleadultsscneogerm0221.pdf\n"
     ]
    }
   ],
   "source": [
    "ax = sc.pl.heatmap(adata_ssc, s_genes, groupby='cell_type', vmin=-2, vmax=2, cmap='RdBu_r', dendrogram=False, show_gene_labels=False,swap_axes=True, figsize=(11,3),save='g1scellcycleadultsscneogerm0221.pdf')\n",
    "ax = sc.pl.heatmap(adata_ssc, g2m_genes, groupby='cell_type', vmin=-2, vmax=2, cmap='RdBu_r', dendrogram=False, show_gene_labels=False,swap_axes=True, figsize=(11,4),save='g2mcellcycleadultsscneogerm0221.pdf')"
   ]
  },
  {
   "cell_type": "code",
   "execution_count": 51,
   "id": "17cb2ebd-721a-4daa-a2fc-f052f88a41d1",
   "metadata": {},
   "outputs": [],
   "source": [
    "pd.DataFrame(adata_ssc.uns['rank_genes_groups']['names']).head(5)\n",
    "adata_ssc.uns['rank_genes_groups'].keys()\n",
    "#dict_keys(['logfoldchanges', 'names', 'params', 'pvals', 'pvals_adj', 'scores'])\n",
    "result = adata_ssc.uns['rank_genes_groups']\n",
    "groups = result['names'].dtype.names\n",
    "pd.DataFrame(\n",
    "    {group + '_' + key[:1]: result[key][group]\n",
    "    for group in groups for key in ['names', 'pvals']}).head(5)\n",
    "res = pd.DataFrame(    \n",
    "    {group + '_' + key: result[key][group]    \n",
    "    for group in groups for key in ['names', 'pvals','logfoldchanges','pvals_adj','scores']})\n",
    "res.to_csv(\"./figures/diff_rank_genes_groups_adultsscneogermcelltype0221.csv\")"
   ]
  },
  {
   "cell_type": "code",
   "execution_count": 55,
   "id": "b33ea205-5842-4c2c-b962-1a10dbb75e23",
   "metadata": {},
   "outputs": [
    {
     "name": "stdout",
     "output_type": "stream",
     "text": [
      "WARNING: dendrogram data not found (using key=dendrogram_cell_type). Running `sc.tl.dendrogram` with default parameters. For fine tuning it is recommended to run `sc.tl.dendrogram` independently.\n",
      "WARNING: Gene labels are not shown when more than 50 genes are visualized. To show gene labels set `show_gene_labels=True`\n",
      "WARNING: saving figure to file figures/heatmapadultsscneogermuseraw0221.pdf\n"
     ]
    },
    {
     "data": {
      "text/plain": [
       "{'heatmap_ax': <AxesSubplot: >,\n",
       " 'groupby_ax': <AxesSubplot: ylabel='cell_type'>,\n",
       " 'dendrogram_ax': <AxesSubplot: >,\n",
       " 'gene_groups_ax': <AxesSubplot: >}"
      ]
     },
     "execution_count": 55,
     "metadata": {},
     "output_type": "execute_result"
    }
   ],
   "source": [
    "sc.tl.rank_genes_groups(adata_ssc, 'cell_type', method='wilcoxon')\n",
    "sc.pl.rank_genes_groups_heatmap(adata_ssc, use_raw=False,vmin=-3, vmax=3, min_logfoldchange=1,groupby='cell_type',n_genes=50, cmap='RdBu_r', show=False, save = \"adultsscneogermuseraw0221.pdf\")"
   ]
  },
  {
   "cell_type": "markdown",
   "id": "18dbb960-7175-41ae-ac96-1edc481d15e3",
   "metadata": {},
   "source": [
    "# 补充图片用"
   ]
  },
  {
   "cell_type": "code",
   "execution_count": 58,
   "id": "4ff4e901-c05c-4fa2-afd1-1327bc0002d2",
   "metadata": {},
   "outputs": [],
   "source": [
    "results_file = './adultsscneogerm_merged0221.h5ad'\n",
    "adata_ssc.write(results_file)"
   ]
  },
  {
   "cell_type": "code",
   "execution_count": 57,
   "id": "1b636c05-f6a8-457b-83a4-b968852030d3",
   "metadata": {},
   "outputs": [
    {
     "data": {
      "text/plain": [
       "AnnData object with n_obs × n_vars = 406 × 18859\n",
       "    obs: 'n_genes', 'n_genes_by_counts', 'total_counts', 'total_counts_mt', 'pct_counts_mt', 'total_counts_chrX', 'pct_counts_chrX', 'total_counts_chrY', 'pct_counts_chrY', 'S_score', 'G2M_score', 'phase', 'doublet', 'doublet_score', 'leiden', 'cell_type', 'Sample'\n",
       "    uns: 'cell_type_colors', 'neighbors', 'Sample_colors', 'umap', 'rank_genes_groups', 'dendrogram_cell_type'\n",
       "    obsm: 'X_pca', 'X_tsne', 'X_umap'\n",
       "    obsp: 'distances', 'connectivities'"
      ]
     },
     "execution_count": 57,
     "metadata": {},
     "output_type": "execute_result"
    }
   ],
   "source": [
    "adata_ssc"
   ]
  },
  {
   "cell_type": "code",
   "execution_count": 60,
   "id": "6c31e85f-96b0-4081-9874-3ca2d2d8a7f9",
   "metadata": {},
   "outputs": [
    {
     "data": {
      "text/plain": [
       "AnnData object with n_obs × n_vars = 406 × 18859\n",
       "    obs: 'n_genes', 'n_genes_by_counts', 'total_counts', 'total_counts_mt', 'pct_counts_mt', 'total_counts_chrX', 'pct_counts_chrX', 'total_counts_chrY', 'pct_counts_chrY', 'S_score', 'G2M_score', 'phase', 'doublet', 'doublet_score', 'leiden', 'cell_type', 'Sample'\n",
       "    uns: 'cell_type_colors', 'neighbors', 'Sample_colors', 'umap', 'rank_genes_groups', 'dendrogram_cell_type'\n",
       "    obsm: 'X_pca', 'X_tsne', 'X_umap'\n",
       "    obsp: 'distances', 'connectivities'"
      ]
     },
     "execution_count": 60,
     "metadata": {},
     "output_type": "execute_result"
    }
   ],
   "source": [
    "adultsscneogerm_mergedforcellrank = adata_ssc\n",
    "adultsscneogerm_mergedforcellrank"
   ]
  },
  {
   "cell_type": "code",
   "execution_count": 61,
   "id": "5968efd5-71bf-48cd-8ba8-e933fefa3976",
   "metadata": {},
   "outputs": [
    {
     "name": "stdout",
     "output_type": "stream",
     "text": [
      "Running scvelo 0.2.4 (python 3.9.7) on 2023-02-21 15:31.\n"
     ]
    },
    {
     "name": "stderr",
     "output_type": "stream",
     "text": [
      "Numba: Attempted to fork from a non-main thread, the TBB library may be in an invalid state in the child process.\n",
      "ERROR: XMLRPC request failed [code: -32500]\n",
      "RuntimeError: PyPI no longer supports 'pip search' (or XML-RPC search). Please use https://pypi.org/search (via a browser) instead. See https://warehouse.pypa.io/api-reference/xml-rpc.html#deprecated-methods for more information.\n"
     ]
    }
   ],
   "source": [
    "import scvelo as scv\n",
    "scv.logging.print_version()\n",
    "scv.settings.verbosity = 3  # show errors(0), warnings(1), info(2), hints(3)\n",
    "scv.settings.presenter_view = True  # set max width size for presenter view\n",
    "scv.settings.set_figure_params('scvelo')  # for beautified visualizationscv.settings.set_figure_params('scvelo') \n",
    "sc.settings.set_figure_params(dpi = 50, dpi_save = 600, figsize = (4, 4))"
   ]
  },
  {
   "cell_type": "code",
   "execution_count": 62,
   "id": "cf235c38-e434-4cbe-a75f-c61eb02f9b89",
   "metadata": {},
   "outputs": [
    {
     "data": {
      "text/plain": [
       "adult_AAAGGATCAGCACAGA       Adult\n",
       "adult_AAAGGGCGTATGCTAC       Adult\n",
       "adult_AAAGTCCTCCACAAGT       Adult\n",
       "adult_AACGAAAGTAACGGTG       Adult\n",
       "adult_AACGAAATCCATACAG       Adult\n",
       "                            ...   \n",
       "neo_TTCCGTGGTCGTTTCC-1    Neonatal\n",
       "neo_TTCTTCCCAGACTCTA-1    Neonatal\n",
       "neo_TTGCGTCGTACTTGTG-1    Neonatal\n",
       "neo_TTGGGCGGTCACTGAT-1    Neonatal\n",
       "neo_TTTAGTCAGCGTGCCT-1    Neonatal\n",
       "Name: Sample, Length: 406, dtype: category\n",
       "Categories (2, object): ['Adult', 'Neonatal']"
      ]
     },
     "execution_count": 62,
     "metadata": {},
     "output_type": "execute_result"
    }
   ],
   "source": [
    "adultsscneogerm_mergedforcellrank.obs.Sample"
   ]
  },
  {
   "cell_type": "code",
   "execution_count": 63,
   "id": "304e8a45-cb35-4e05-b44b-3a4eea194080",
   "metadata": {},
   "outputs": [
    {
     "data": {
      "text/plain": [
       "AnnData object with n_obs × n_vars = 222 × 18859\n",
       "    obs: 'n_genes', 'n_genes_by_counts', 'total_counts', 'total_counts_mt', 'pct_counts_mt', 'total_counts_chrX', 'pct_counts_chrX', 'total_counts_chrY', 'pct_counts_chrY', 'S_score', 'G2M_score', 'phase', 'doublet', 'doublet_score', 'leiden', 'cell_type', 'Sample'\n",
       "    uns: 'cell_type_colors', 'neighbors', 'Sample_colors', 'umap', 'rank_genes_groups', 'dendrogram_cell_type'\n",
       "    obsm: 'X_pca', 'X_tsne', 'X_umap'\n",
       "    obsp: 'distances', 'connectivities'"
      ]
     },
     "execution_count": 63,
     "metadata": {},
     "output_type": "execute_result"
    }
   ],
   "source": [
    "adata_adult = adultsscneogerm_mergedforcellrank[adultsscneogerm_mergedforcellrank.obs['Sample'].isin(['Adult'])].copy()\n",
    "adata_adult"
   ]
  },
  {
   "cell_type": "code",
   "execution_count": 64,
   "id": "790255f1-7bfe-483b-9c41-17864fbc7878",
   "metadata": {},
   "outputs": [
    {
     "data": {
      "text/plain": [
       "AnnData object with n_obs × n_vars = 184 × 18859\n",
       "    obs: 'n_genes', 'n_genes_by_counts', 'total_counts', 'total_counts_mt', 'pct_counts_mt', 'total_counts_chrX', 'pct_counts_chrX', 'total_counts_chrY', 'pct_counts_chrY', 'S_score', 'G2M_score', 'phase', 'doublet', 'doublet_score', 'leiden', 'cell_type', 'Sample'\n",
       "    uns: 'cell_type_colors', 'neighbors', 'Sample_colors', 'umap', 'rank_genes_groups', 'dendrogram_cell_type'\n",
       "    obsm: 'X_pca', 'X_tsne', 'X_umap'\n",
       "    obsp: 'distances', 'connectivities'"
      ]
     },
     "execution_count": 64,
     "metadata": {},
     "output_type": "execute_result"
    }
   ],
   "source": [
    "adata_neo = adultsscneogerm_mergedforcellrank[adultsscneogerm_mergedforcellrank.obs['Sample'].isin(['Neonatal'])].copy()\n",
    "adata_neo"
   ]
  },
  {
   "cell_type": "code",
   "execution_count": 65,
   "id": "2e8193d1-07b6-4efc-85dc-e0efa14514a5",
   "metadata": {},
   "outputs": [
    {
     "name": "stdout",
     "output_type": "stream",
     "text": [
      "saving figure to file ./figures/adultsscneogerm_merged0221forscvelo.pdf\n",
      "saving figure to file ./figures/adultsscneogerm_mergedforscvelospliced0221.pdf\n"
     ]
    }
   ],
   "source": [
    "adataadult_loom = scv.read('/public/home/zhaox/pigscRNA-seq/Adult/Adult.loom', cache=True)\n",
    "scv.pl.proportions(adataadult_loom,save=\"./figures/adultsscneogerm_merged0221forscvelo.pdf\")\n",
    "adata_adult = scv.utils.merge(adata_adult, adataadult_loom)\n",
    "scv.pl.proportions(\n",
    "    adata_adult,\n",
    "    groupby='cell_type',\n",
    "    layers=None,\n",
    "    highlight='unspliced',\n",
    "    add_labels_pie=True,\n",
    "    add_labels_bar=True,\n",
    "    fontsize=8,\n",
    "    figsize=(15, 2),\n",
    "    dpi=600,\n",
    "    use_raw=True,\n",
    "    show=True,\n",
    "    save=\"./figures/adultsscneogerm_mergedforscvelospliced0221.pdf\",\n",
    ")"
   ]
  },
  {
   "cell_type": "code",
   "execution_count": 66,
   "id": "a38b305e-873a-4dad-8be8-8dea946f8ac9",
   "metadata": {},
   "outputs": [
    {
     "name": "stdout",
     "output_type": "stream",
     "text": [
      "saving figure to file ./figures/adultsscneogerm_mergedneo0221forscvelo.pdf\n",
      "saving figure to file ./figures/adultsscneogerm_mergedneoforscvelospliced0221.pdf\n"
     ]
    }
   ],
   "source": [
    "adataneo_loom = scv.read('/public/home/zhaox/pigscRNA-seq/P5/P5.loom', cache=True)\n",
    "scv.pl.proportions(adataneo_loom,save=\"./figures/adultsscneogerm_mergedneo0221forscvelo.pdf\")\n",
    "adata_neo = scv.utils.merge(adata_neo, adataneo_loom)\n",
    "scv.pl.proportions(\n",
    "    adata_neo,\n",
    "    groupby='cell_type',\n",
    "    layers=None,\n",
    "    highlight='unspliced',\n",
    "    add_labels_pie=True,\n",
    "    add_labels_bar=True,\n",
    "    fontsize=8,\n",
    "    figsize=(15, 2),\n",
    "    dpi=600,\n",
    "    use_raw=True,\n",
    "    show=True,\n",
    "    save=\"./figures/adultsscneogerm_mergedneoforscvelospliced0221.pdf\",\n",
    ")"
   ]
  },
  {
   "cell_type": "code",
   "execution_count": 67,
   "id": "e535654a-6914-41b8-a7cc-f5dc22042ff5",
   "metadata": {},
   "outputs": [
    {
     "data": {
      "text/plain": [
       "AnnData object with n_obs × n_vars = 406 × 18859\n",
       "    obs: 'n_genes', 'n_genes_by_counts', 'total_counts', 'total_counts_mt', 'pct_counts_mt', 'total_counts_chrX', 'pct_counts_chrX', 'total_counts_chrY', 'pct_counts_chrY', 'S_score', 'G2M_score', 'phase', 'doublet', 'doublet_score', 'leiden', 'cell_type', 'Sample', 'initial_size_spliced', 'initial_size_unspliced', 'initial_size'\n",
       "    var: 'Accession', 'Chromosome', 'End', 'Start', 'Strand'\n",
       "    obsm: 'X_pca', 'X_tsne', 'X_umap'\n",
       "    layers: 'ambiguous', 'matrix', 'spliced', 'unspliced'"
      ]
     },
     "execution_count": 67,
     "metadata": {},
     "output_type": "execute_result"
    }
   ],
   "source": [
    "import anndata as ad\n",
    "adatas = [adata_adult,adata_neo]\n",
    "adata = ad.concat(adatas,merge=\"same\")\n",
    "adata"
   ]
  },
  {
   "cell_type": "code",
   "execution_count": 68,
   "id": "6b7d9224-87a7-4d35-9927-9e2176cf4480",
   "metadata": {},
   "outputs": [
    {
     "name": "stdout",
     "output_type": "stream",
     "text": [
      "WARNING: saving figure to file figures/umapadultsscneogerm_celltypeforscveloright0221.pdf\n"
     ]
    }
   ],
   "source": [
    "sc.pl.umap(adata, color=['Sample', 'cell_type'], frameon=True, legend_loc= \"right margin\", legend_fontsize=10, legend_fontweight=\"normal\", legend_fontoutline=2, save=\"adultsscneogerm_celltypeforscveloright0221.pdf\")"
   ]
  },
  {
   "cell_type": "code",
   "execution_count": 69,
   "id": "98586f33-67b4-483b-a301-887d49169322",
   "metadata": {},
   "outputs": [
    {
     "name": "stdout",
     "output_type": "stream",
     "text": [
      "Filtered out 13594 genes that are detected 20 counts (shared).\n",
      "WARNING: Did not normalize X as it looks processed already. To enforce normalization, set `enforce=True`.\n",
      "Normalized count data: spliced, unspliced.\n",
      "Extracted 2000 highly variable genes.\n",
      "WARNING: Did not modify X as it looks preprocessed already.\n",
      "computing neighbors\n",
      "    finished (0:00:00) --> added \n",
      "    'distances' and 'connectivities', weighted adjacency matrices (adata.obsp)\n",
      "computing moments based on connectivities\n",
      "    finished (0:00:00) --> added \n",
      "    'Ms' and 'Mu', moments of un/spliced abundances (adata.layers)\n"
     ]
    }
   ],
   "source": [
    "scv.pp.filter_and_normalize(adata, min_shared_counts=20, n_top_genes=2000)\n",
    "scv.pp.moments(adata, n_pcs=30, n_neighbors=30)"
   ]
  },
  {
   "cell_type": "code",
   "execution_count": 70,
   "id": "48703f05-96fa-4b46-99fe-72af9d9fdf8f",
   "metadata": {},
   "outputs": [
    {
     "data": {
      "text/plain": [
       "AnnData object with n_obs × n_vars = 406 × 2000\n",
       "    obs: 'n_genes', 'n_genes_by_counts', 'total_counts', 'total_counts_mt', 'pct_counts_mt', 'total_counts_chrX', 'pct_counts_chrX', 'total_counts_chrY', 'pct_counts_chrY', 'S_score', 'G2M_score', 'phase', 'doublet', 'doublet_score', 'leiden', 'cell_type', 'Sample', 'initial_size_spliced', 'initial_size_unspliced', 'initial_size', 'n_counts'\n",
       "    var: 'Accession', 'Chromosome', 'End', 'Start', 'Strand', 'means', 'dispersions', 'dispersions_norm', 'highly_variable'\n",
       "    uns: 'Sample_colors', 'cell_type_colors', 'neighbors'\n",
       "    obsm: 'X_pca', 'X_tsne', 'X_umap'\n",
       "    layers: 'ambiguous', 'matrix', 'spliced', 'unspliced', 'Ms', 'Mu'\n",
       "    obsp: 'distances', 'connectivities'"
      ]
     },
     "execution_count": 70,
     "metadata": {},
     "output_type": "execute_result"
    }
   ],
   "source": [
    "adata"
   ]
  },
  {
   "cell_type": "code",
   "execution_count": 71,
   "id": "477ff328-2a06-427c-bc0c-d59f4dbce7cf",
   "metadata": {},
   "outputs": [
    {
     "name": "stdout",
     "output_type": "stream",
     "text": [
      "recovering dynamics (using 8/24 cores)\n"
     ]
    },
    {
     "data": {
      "application/vnd.jupyter.widget-view+json": {
       "model_id": "d467d9d986e14743b48606ab0476d005",
       "version_major": 2,
       "version_minor": 0
      },
      "text/plain": [
       "  0%|          | 0/659 [00:00<?, ?gene/s]"
      ]
     },
     "metadata": {},
     "output_type": "display_data"
    },
    {
     "name": "stdout",
     "output_type": "stream",
     "text": [
      "    finished (0:00:16) --> added \n",
      "    'fit_pars', fitted parameters for splicing dynamics (adata.var)\n",
      "computing velocities\n",
      "    finished (0:00:00) --> added \n",
      "    'velocity', velocity vectors for each individual cell (adata.layers)\n",
      "computing velocity graph (using 1/24 cores)\n"
     ]
    },
    {
     "data": {
      "application/vnd.jupyter.widget-view+json": {
       "model_id": "85e9fd45333342168a464d22df0a875f",
       "version_major": 2,
       "version_minor": 0
      },
      "text/plain": [
       "  0%|          | 0/406 [00:00<?, ?cells/s]"
      ]
     },
     "metadata": {},
     "output_type": "display_data"
    },
    {
     "name": "stdout",
     "output_type": "stream",
     "text": [
      "    finished (0:00:00) --> added \n",
      "    'velocity_graph', sparse matrix with cosine correlations (adata.uns)\n"
     ]
    }
   ],
   "source": [
    "scv.tl.recover_dynamics(adata, n_jobs=8)\n",
    "scv.tl.velocity(adata, mode=\"dynamical\")\n",
    "scv.tl.velocity_graph(adata)"
   ]
  },
  {
   "cell_type": "code",
   "execution_count": 72,
   "id": "e95d4ff4-8cc9-45cc-9aa1-bc5db9321ff6",
   "metadata": {},
   "outputs": [],
   "source": [
    "adata.write('./adultsscneogermforscvelo.h5ad', compression='gzip')\n",
    "adata = scv.read('./adultsscneogermforscvelo.h5ad')"
   ]
  },
  {
   "cell_type": "code",
   "execution_count": null,
   "id": "cdc00786-b2da-4ce8-8ca0-70333a53242f",
   "metadata": {},
   "outputs": [],
   "source": [
    "scv.pl.velocity_embedding_stream(adata, basis='umap')\n"
   ]
  },
  {
   "cell_type": "code",
   "execution_count": 73,
   "id": "ca98be97-5236-4baf-bc5e-265d88efda86",
   "metadata": {},
   "outputs": [
    {
     "name": "stdout",
     "output_type": "stream",
     "text": [
      "computing velocity embedding\n",
      "    finished (0:00:00) --> added\n",
      "    'velocity_umap', embedded velocity vectors (adata.obsm)\n",
      "figure cannot be saved as pdf, using png instead.\n",
      "saving figure to file ./figures/scvelo_adultsscneogermforscvelo_embeddingstream0221pdf.png\n"
     ]
    }
   ],
   "source": [
    "scv.pl.velocity_embedding_stream(\n",
    "    adata, basis=\"umap\",color='cell_type', legend_fontsize=12, title=\"\", smooth=0.8, min_mass=4,save='adultsscneogermforscvelo_embeddingstream0221pdf'\n",
    ")"
   ]
  },
  {
   "cell_type": "code",
   "execution_count": 76,
   "id": "dcafe5fd-92ed-480d-ba3f-2209a3327501",
   "metadata": {},
   "outputs": [
    {
     "name": "stdout",
     "output_type": "stream",
     "text": [
      "computing latent time using root_cells as prior\n",
      "    finished (0:00:00) --> added \n",
      "    'latent_time', shared time (adata.obs)\n",
      "saving figure to file ./figures/scvelo_adultsscneogermforscvelo_latenttime0221pdf.pdf\n"
     ]
    }
   ],
   "source": [
    "scv.tl.latent_time(adata)\n",
    "scv.pl.scatter(adata, color='latent_time', color_map='gnuplot',save='adultsscneogermforscvelo_latenttime0221pdf')"
   ]
  },
  {
   "cell_type": "code",
   "execution_count": 77,
   "id": "034bc4a5-9d77-4de5-a73c-260d588fc7e9",
   "metadata": {},
   "outputs": [
    {
     "name": "stdout",
     "output_type": "stream",
     "text": [
      "saving figure to file ./figures/scvelo_heatmap_adultsscneogermforscvelo_topgenes0221pdf.pdf\n"
     ]
    }
   ],
   "source": [
    "top_genes = adata.var['fit_likelihood'].sort_values(ascending=False).index[:300]\n",
    "scv.pl.heatmap(adata, var_names=top_genes, sortby='latent_time', col_color='cell_type', n_convolve=100,save='adultsscneogermforscvelo_topgenes0221pdf')"
   ]
  },
  {
   "cell_type": "code",
   "execution_count": 79,
   "id": "2336dda3-7cc4-4988-aa20-14777d985265",
   "metadata": {},
   "outputs": [
    {
     "name": "stdout",
     "output_type": "stream",
     "text": [
      "saving figure to file ./figures/scvelo_adultsscneogermforscvelo_topgenes15_0221pdf.pdf\n"
     ]
    }
   ],
   "source": [
    "# Top-likelihood genes\n",
    "top_genes = adata.var['fit_likelihood'].sort_values(ascending=False).index\n",
    "scv.pl.scatter(adata, basis=top_genes[:15], ncols=5,color='cell_type', frameon=False,save='adultsscneogermforscvelo_topgenes15_0221pdf')"
   ]
  },
  {
   "cell_type": "code",
   "execution_count": 80,
   "id": "39a5e201-2ec1-4769-a99d-f72e18edd54e",
   "metadata": {},
   "outputs": [
    {
     "name": "stdout",
     "output_type": "stream",
     "text": [
      "saving figure to file ./figures/scvelo_adultsscneogermforscvelo_topgenes30_0221pdf.pdf\n"
     ]
    }
   ],
   "source": [
    "scv.pl.scatter(adata, basis=top_genes[15:30], ncols=5,color='cell_type', frameon=False,save='adultsscneogermforscvelo_topgenes30_0221pdf')"
   ]
  },
  {
   "cell_type": "code",
   "execution_count": null,
   "id": "7c591088-4b06-445f-8eb9-6adfdf19f0d9",
   "metadata": {},
   "outputs": [],
   "source": [
    "markers = ['POU5F1','PIM2','ETV4','DOCK8','SERINC2','TTC14','COL1A2','TIMP2','DVL1','ZFHX3',\n",
    "          'LY6K','UTF1','PIWIL4','LPPR3','GFRA1','UCHL1']"
   ]
  },
  {
   "cell_type": "code",
   "execution_count": 85,
   "id": "d04e1031-3e10-47aa-8bbf-57781d57530c",
   "metadata": {},
   "outputs": [
    {
     "name": "stdout",
     "output_type": "stream",
     "text": [
      "saving figure to file ./figures/scvelo_adultsscneogermforscvelo_DOCK8_0221pdf.pdf\n",
      "saving figure to file ./figures/scvelo_adultsscneogermforscvelo_DOCK8latent_0221pdf.pdf\n"
     ]
    }
   ],
   "source": [
    "var_names = ['DOCK8','COL1A2','TIMP2','ZFHX3']\n",
    "scv.pl.scatter(adata, var_names,color='cell_type', frameon=False,save='adultsscneogermforscvelo_DOCK8_0221pdf')\n",
    "scv.pl.scatter(adata, x='latent_time', y=var_names,color='cell_type', frameon=False,save='adultsscneogermforscvelo_DOCK8latent_0221pdf')"
   ]
  },
  {
   "cell_type": "code",
   "execution_count": 90,
   "id": "4c2320bb-e9fb-4354-9629-f1667c5ffeef",
   "metadata": {},
   "outputs": [
    {
     "name": "stdout",
     "output_type": "stream",
     "text": [
      "saving figure to file ./figures/scvelo_adultsscneogermforscvelo_PIWIL4_0221pdf.pdf\n",
      "saving figure to file ./figures/scvelo_adultsscneogermforscvelo_PIWIL4latent_0221pdf.pdf\n"
     ]
    }
   ],
   "source": [
    "var_names = ['PIWIL4','GFRA1','UCHL1','ETV5']\n",
    "scv.pl.scatter(adata, var_names,color='cell_type', frameon=False,save='adultsscneogermforscvelo_PIWIL4_0221pdf')\n",
    "scv.pl.scatter(adata, x='latent_time', y=var_names,color='cell_type', frameon=False,save='adultsscneogermforscvelo_PIWIL4latent_0221pdf')"
   ]
  },
  {
   "cell_type": "markdown",
   "id": "68b1d8e4-b4d5-4ddd-a65f-f254cc6555b4",
   "metadata": {},
   "source": [
    "# Cluster-specific top-likelihood genes"
   ]
  },
  {
   "cell_type": "code",
   "execution_count": 91,
   "id": "ca4a05fa-f8ce-4aa4-8a67-a90edaed1a32",
   "metadata": {},
   "outputs": [
    {
     "name": "stdout",
     "output_type": "stream",
     "text": [
      "ranking genes by cluster-specific likelihoods\n",
      "    finished (0:00:00) --> added \n",
      "    'rank_dynamical_genes', sorted scores by group ids (adata.uns)\n"
     ]
    },
    {
     "data": {
      "text/html": [
       "<div>\n",
       "<style scoped>\n",
       "    .dataframe tbody tr th:only-of-type {\n",
       "        vertical-align: middle;\n",
       "    }\n",
       "\n",
       "    .dataframe tbody tr th {\n",
       "        vertical-align: top;\n",
       "    }\n",
       "\n",
       "    .dataframe thead th {\n",
       "        text-align: right;\n",
       "    }\n",
       "</style>\n",
       "<table border=\"1\" class=\"dataframe\">\n",
       "  <thead>\n",
       "    <tr style=\"text-align: right;\">\n",
       "      <th></th>\n",
       "      <th>PreSPG-1</th>\n",
       "      <th>PreSPG-2</th>\n",
       "      <th>SSC</th>\n",
       "      <th>SSC1</th>\n",
       "      <th>SSC2</th>\n",
       "    </tr>\n",
       "  </thead>\n",
       "  <tbody>\n",
       "    <tr>\n",
       "      <th>0</th>\n",
       "      <td>RPS21</td>\n",
       "      <td>ZZZ3</td>\n",
       "      <td>RPS27</td>\n",
       "      <td>RPL23</td>\n",
       "      <td>DMRT1</td>\n",
       "    </tr>\n",
       "    <tr>\n",
       "      <th>1</th>\n",
       "      <td>RPL23</td>\n",
       "      <td>RYR2</td>\n",
       "      <td>LRP1B</td>\n",
       "      <td>RPS27</td>\n",
       "      <td>MCL1</td>\n",
       "    </tr>\n",
       "    <tr>\n",
       "      <th>2</th>\n",
       "      <td>ZC3H10</td>\n",
       "      <td>KLHL15</td>\n",
       "      <td>FTL</td>\n",
       "      <td>ZC3H10</td>\n",
       "      <td>LOC110257929</td>\n",
       "    </tr>\n",
       "    <tr>\n",
       "      <th>3</th>\n",
       "      <td>RPS27</td>\n",
       "      <td>RPS5</td>\n",
       "      <td>MYBPC1</td>\n",
       "      <td>FAU</td>\n",
       "      <td>ZZZ3</td>\n",
       "    </tr>\n",
       "    <tr>\n",
       "      <th>4</th>\n",
       "      <td>RPL28</td>\n",
       "      <td>RPS27</td>\n",
       "      <td>RPS21</td>\n",
       "      <td>RPL28</td>\n",
       "      <td>RYR2</td>\n",
       "    </tr>\n",
       "  </tbody>\n",
       "</table>\n",
       "</div>"
      ],
      "text/plain": [
       "  PreSPG-1 PreSPG-2     SSC    SSC1          SSC2\n",
       "0    RPS21     ZZZ3   RPS27   RPL23         DMRT1\n",
       "1    RPL23     RYR2   LRP1B   RPS27          MCL1\n",
       "2   ZC3H10   KLHL15     FTL  ZC3H10  LOC110257929\n",
       "3    RPS27     RPS5  MYBPC1     FAU          ZZZ3\n",
       "4    RPL28    RPS27   RPS21   RPL28          RYR2"
      ]
     },
     "execution_count": 91,
     "metadata": {},
     "output_type": "execute_result"
    }
   ],
   "source": [
    "scv.tl.rank_dynamical_genes(adata, groupby='cell_type')\n",
    "df = scv.get_df(adata, 'rank_dynamical_genes/names')\n",
    "df.head(5)"
   ]
  },
  {
   "cell_type": "code",
   "execution_count": 94,
   "id": "1395d51c-b86f-46f6-8a87-ae8e2aaf66cf",
   "metadata": {},
   "outputs": [],
   "source": [
    "for cluster in ['PreSPG-1', 'PreSPG-2', 'SSC', 'SSC1','SSC2']:\n",
    "    scv.pl.scatter(adata, df[cluster][:5], ylabel=cluster,color='cell_type', frameon=False)"
   ]
  },
  {
   "cell_type": "code",
   "execution_count": 95,
   "id": "8c51a0b8-5b0a-4949-a435-824b19dd247c",
   "metadata": {},
   "outputs": [],
   "source": [
    "plt.savefig('adultsscneogermforscveloclustertop0221.pdf')"
   ]
  },
  {
   "cell_type": "code",
   "execution_count": 100,
   "id": "58cfb141-ed27-4f7c-a1d8-f88c5fa6ff97",
   "metadata": {},
   "outputs": [
    {
     "name": "stdout",
     "output_type": "stream",
     "text": [
      "saving figure to file ./figures/scvelo_adultsscneogermforscvelo_SSC2top0221.pdf\n"
     ]
    }
   ],
   "source": [
    "for cluster in ['SSC2']:\n",
    "    scv.pl.scatter(adata, df[cluster][:15],ncols=5, ylabel=cluster,color='cell_type', frameon=False,save='adultsscneogermforscvelo_SSC2top0221.pdf')"
   ]
  },
  {
   "cell_type": "markdown",
   "id": "f3f40ab3-c866-4360-bf2c-f90dab7d3926",
   "metadata": {},
   "source": [
    "# Interprete the velocities "
   ]
  },
  {
   "cell_type": "code",
   "execution_count": 103,
   "id": "8a4f9ccc-ff5e-42e2-813f-7bbb9925a9e3",
   "metadata": {},
   "outputs": [],
   "source": [
    "adata = scv.read('./adultsscneogermforscvelo.h5ad')"
   ]
  },
  {
   "cell_type": "code",
   "execution_count": 107,
   "id": "665e1e75-7b0c-4433-b3da-8680f9ed8a11",
   "metadata": {},
   "outputs": [
    {
     "name": "stdout",
     "output_type": "stream",
     "text": [
      "computing velocities\n",
      "    finished (0:00:00) --> added \n",
      "    'velocity', velocity vectors for each individual cell (adata.layers)\n",
      "computing velocity graph (using 1/24 cores)\n"
     ]
    },
    {
     "data": {
      "application/vnd.jupyter.widget-view+json": {
       "model_id": "3fd6b76d04f74a2384ed92e4aee060be",
       "version_major": 2,
       "version_minor": 0
      },
      "text/plain": [
       "  0%|          | 0/406 [00:00<?, ?cells/s]"
      ]
     },
     "metadata": {},
     "output_type": "display_data"
    },
    {
     "name": "stdout",
     "output_type": "stream",
     "text": [
      "    finished (0:00:01) --> added \n",
      "    'velocity_graph', sparse matrix with cosine correlations (adata.uns)\n"
     ]
    }
   ],
   "source": [
    "scv.tl.velocity(adata)\n",
    "scv.tl.velocity_graph(adata)"
   ]
  },
  {
   "cell_type": "code",
   "execution_count": 111,
   "id": "adf31777-70fb-41c0-b971-a31bc875a128",
   "metadata": {},
   "outputs": [
    {
     "name": "stdout",
     "output_type": "stream",
     "text": [
      "saving figure to file ./figures/scvelo_adultsscneogermforscvelo_basic0221.pdf\n"
     ]
    }
   ],
   "source": [
    "scv.pl.velocity_embedding(adata, arrow_length=5, arrow_size=4, size=500,dpi=900,color='cell_type',save='adultsscneogermforscvelo_basic0221.pdf')"
   ]
  },
  {
   "cell_type": "code",
   "execution_count": 112,
   "id": "017bf820-5540-4e1c-abd3-a325ec88e227",
   "metadata": {},
   "outputs": [
    {
     "name": "stdout",
     "output_type": "stream",
     "text": [
      "saving figure to file ./figures/scvelo_adultsscneogermforscvelo_velocitiesPIWIL4basic0221.pdf\n"
     ]
    }
   ],
   "source": [
    "scv.pl.velocity(adata, ['PIWIL4','GFRA1','UCHL1','ETV5'], ncols=2,color='cell_type',save='adultsscneogermforscvelo_velocitiesPIWIL4basic0221.pdf')"
   ]
  },
  {
   "cell_type": "code",
   "execution_count": 113,
   "id": "60e61915-78d9-4577-b7bb-aad91e19a3ae",
   "metadata": {},
   "outputs": [
    {
     "name": "stdout",
     "output_type": "stream",
     "text": [
      "saving figure to file ./figures/scvelo_adultsscneogermforscvelo_velocitiesDOCK8basic0221.pdf\n"
     ]
    }
   ],
   "source": [
    "scv.pl.velocity(adata, ['DOCK8','COL1A2','TIMP2','ZFHX3'], ncols=2,color='cell_type',save='adultsscneogermforscvelo_velocitiesDOCK8basic0221.pdf')"
   ]
  },
  {
   "cell_type": "markdown",
   "id": "685909f7-e667-46a8-8859-a3c57cd45b08",
   "metadata": {},
   "source": [
    "## cellrank"
   ]
  },
  {
   "cell_type": "code",
   "execution_count": 114,
   "id": "0b5adcee-8887-4187-83c1-d2e919347a5e",
   "metadata": {},
   "outputs": [
    {
     "name": "stdout",
     "output_type": "stream",
     "text": [
      "recovering dynamics (using 8/24 cores)\n"
     ]
    },
    {
     "data": {
      "application/vnd.jupyter.widget-view+json": {
       "model_id": "7c8337247b9449ca8a177aeb81099f90",
       "version_major": 2,
       "version_minor": 0
      },
      "text/plain": [
       "  0%|          | 0/612 [00:00<?, ?gene/s]"
      ]
     },
     "metadata": {},
     "output_type": "display_data"
    },
    {
     "name": "stdout",
     "output_type": "stream",
     "text": [
      "    finished (0:00:15) --> added \n",
      "    'fit_pars', fitted parameters for splicing dynamics (adata.var)\n",
      "computing velocities\n",
      "    finished (0:00:00) --> added \n",
      "    'velocity', velocity vectors for each individual cell (adata.layers)\n",
      "computing velocity graph (using 1/24 cores)\n"
     ]
    },
    {
     "data": {
      "application/vnd.jupyter.widget-view+json": {
       "model_id": "b898f805bffa4d1595d294e73abca41e",
       "version_major": 2,
       "version_minor": 0
      },
      "text/plain": [
       "  0%|          | 0/406 [00:00<?, ?cells/s]"
      ]
     },
     "metadata": {},
     "output_type": "display_data"
    },
    {
     "name": "stdout",
     "output_type": "stream",
     "text": [
      "    finished (0:00:01) --> added \n",
      "    'velocity_graph', sparse matrix with cosine correlations (adata.uns)\n"
     ]
    }
   ],
   "source": [
    "adata = scv.read('./adultsscneogermforscvelo.h5ad')\n",
    "scv.tl.recover_dynamics(adata, n_jobs=8)\n",
    "scv.tl.velocity(adata, mode=\"dynamical\")\n",
    "scv.tl.velocity_graph(adata)"
   ]
  },
  {
   "cell_type": "code",
   "execution_count": 116,
   "id": "757d9a11-bd72-4f4d-9ed2-b92ca4f46de3",
   "metadata": {},
   "outputs": [],
   "source": [
    "import scvelo as scv\n",
    "import scanpy as sc\n",
    "import cellrank as cr\n",
    "import numpy as np\n",
    "scv.settings.verbosity = 3\n",
    "scv.settings.set_figure_params(\"scvelo\")\n",
    "cr.settings.verbosity = 2\n",
    "import warnings\n",
    "warnings.simplefilter(\"ignore\", category=UserWarning)\n",
    "warnings.simplefilter(\"ignore\", category=FutureWarning)\n",
    "warnings.simplefilter(\"ignore\", category=DeprecationWarning)"
   ]
  },
  {
   "cell_type": "code",
   "execution_count": 117,
   "id": "cf4029e2-1f37-494c-90a2-06cef64ead0f",
   "metadata": {},
   "outputs": [
    {
     "name": "stdout",
     "output_type": "stream",
     "text": [
      "Accessing `adata.obsp['T_fwd']`\n",
      "Computing transition matrix based on logits using `'deterministic'` mode\n",
      "Estimating `softmax_scale` using `'deterministic'` mode\n"
     ]
    },
    {
     "name": "stderr",
     "output_type": "stream",
     "text": [
      "/tmp/ipykernel_167116/637574554.py:1: DeprecationWarning: `cellrank.tl.terminal_states` will be removed in version `2.0`. Please use the `cellrank.kernels` or `cellrank.estimators` interface instead.\n",
      "  cr.tl.terminal_states(adata, cluster_key=\"cell_type\", weight_connectivities=0.2)\n",
      "/public/home/zhaox/anaconda3/lib/python3.9/site-packages/cellrank/tl/_init_term_states.py:156: DeprecationWarning: `cellrank.tl.transition_matrix` will be removed in version `2.0`. Please use the `cellrank.kernels` or `cellrank.estimators` interface instead.\n",
      "  kernel = transition_matrix(\n"
     ]
    },
    {
     "data": {
      "application/vnd.jupyter.widget-view+json": {
       "model_id": "bf09811fd29d4abeb087ce530b4d30d8",
       "version_major": 2,
       "version_minor": 0
      },
      "text/plain": [
       "  0%|          | 0/406 [00:00<?, ?cell/s]"
      ]
     },
     "metadata": {},
     "output_type": "display_data"
    },
    {
     "name": "stdout",
     "output_type": "stream",
     "text": [
      "Setting `softmax_scale=5.3070`\n"
     ]
    },
    {
     "data": {
      "application/vnd.jupyter.widget-view+json": {
       "model_id": "1140863d5c5247f88030d67f6b2172ef",
       "version_major": 2,
       "version_minor": 0
      },
      "text/plain": [
       "  0%|          | 0/406 [00:00<?, ?cell/s]"
      ]
     },
     "metadata": {},
     "output_type": "display_data"
    },
    {
     "name": "stdout",
     "output_type": "stream",
     "text": [
      "    Finish (0:00:02)\n",
      "Using a connectivity kernel with weight `0.2`\n",
      "Computing transition matrix based on `adata.obsp['connectivities']`\n",
      "    Finish (0:00:00)\n",
      "Computing eigendecomposition of the transition matrix\n",
      "Adding `adata.uns['eigendecomposition_fwd']`\n",
      "       `.eigendecomposition`\n",
      "    Finish (0:00:00)\n",
      "For 1 macrostate, stationary distribution is computed\n",
      "Adding `.macrostates`\n",
      "       `.macrostates_memberships`\n",
      "       `.coarse_T`\n",
      "       `.coarse_initial_distribution\n",
      "       `.coarse_stationary_distribution`\n",
      "       `.schur_vectors`\n",
      "       `.schur_matrix`\n",
      "       `.eigendecomposition`\n",
      "    Finish (0:00:00)\n",
      "Adding `adata.obs['terminal_states']`\n",
      "       `adata.obs['terminal_states_probs']`\n",
      "       `.terminal_states`\n",
      "       `.terminal_states_probabilities`\n",
      "       `.terminal_states_memberships\n",
      "    Finish`\n"
     ]
    }
   ],
   "source": [
    "cr.tl.terminal_states(adata, cluster_key=\"cell_type\", weight_connectivities=0.2)"
   ]
  },
  {
   "cell_type": "code",
   "execution_count": 118,
   "id": "06b486e5-6200-46f2-82c4-3bbce6ea8739",
   "metadata": {},
   "outputs": [
    {
     "name": "stderr",
     "output_type": "stream",
     "text": [
      "/public/home/zhaox/anaconda3/lib/python3.9/site-packages/scvelo/plotting/utils.py:869: MatplotlibDeprecationWarning: The draw_all function was deprecated in Matplotlib 3.6 and will be removed two minor releases later. Use fig.draw_without_rendering() instead.\n",
      "  cb.draw_all()\n"
     ]
    }
   ],
   "source": [
    "cr.pl.terminal_states(adata,color='cell_type')\n",
    "plt.savefig('./adultsscneogermforcellrank_terminal_states0221.pdf')"
   ]
  },
  {
   "cell_type": "code",
   "execution_count": 119,
   "id": "4edd73a0-40d0-4dc3-a220-0b2715de65b8",
   "metadata": {},
   "outputs": [
    {
     "name": "stdout",
     "output_type": "stream",
     "text": [
      "Accessing `adata.obsp['T_bwd']`\n",
      "Computing transition matrix based on logits using `'deterministic'` mode\n",
      "Estimating `softmax_scale` using `'deterministic'` mode\n"
     ]
    },
    {
     "name": "stderr",
     "output_type": "stream",
     "text": [
      "/tmp/ipykernel_167116/2629168253.py:1: DeprecationWarning: `cellrank.tl.initial_states` will be removed in version `2.0`. Please use the `cellrank.kernels` or `cellrank.estimators` interface instead.\n",
      "  cr.tl.initial_states(adata, cluster_key=\"cell_type\")\n",
      "/public/home/zhaox/anaconda3/lib/python3.9/site-packages/cellrank/tl/_init_term_states.py:156: DeprecationWarning: `cellrank.tl.transition_matrix` will be removed in version `2.0`. Please use the `cellrank.kernels` or `cellrank.estimators` interface instead.\n",
      "  kernel = transition_matrix(\n"
     ]
    },
    {
     "data": {
      "application/vnd.jupyter.widget-view+json": {
       "model_id": "c580e1cd180f44a78228a00df1cc7024",
       "version_major": 2,
       "version_minor": 0
      },
      "text/plain": [
       "  0%|          | 0/406 [00:00<?, ?cell/s]"
      ]
     },
     "metadata": {},
     "output_type": "display_data"
    },
    {
     "name": "stdout",
     "output_type": "stream",
     "text": [
      "Setting `softmax_scale=5.3070`\n"
     ]
    },
    {
     "data": {
      "application/vnd.jupyter.widget-view+json": {
       "model_id": "433ff30aad8b440783943df0ad1679ea",
       "version_major": 2,
       "version_minor": 0
      },
      "text/plain": [
       "  0%|          | 0/406 [00:00<?, ?cell/s]"
      ]
     },
     "metadata": {},
     "output_type": "display_data"
    },
    {
     "name": "stdout",
     "output_type": "stream",
     "text": [
      "    Finish (0:00:01)\n",
      "Using a connectivity kernel with weight `0.2`\n",
      "Computing transition matrix based on `adata.obsp['connectivities']`\n",
      "    Finish (0:00:00)\n",
      "Computing eigendecomposition of the transition matrix\n",
      "Adding `adata.uns['eigendecomposition_bwd']`\n",
      "       `.eigendecomposition`\n",
      "    Finish (0:00:00)\n",
      "WARNING: Unable to import `petsc4py` or `slepc4py`. Using `method='brandts'`\n",
      "WARNING: For `method='brandts'`, dense matrix is required. Densifying\n",
      "Computing Schur decomposition\n",
      "Adding `adata.uns['eigendecomposition_bwd']`\n",
      "       `.schur_vectors`\n",
      "       `.schur_matrix`\n",
      "       `.eigendecomposition`\n",
      "    Finish (0:00:00)\n",
      "Computing `2` macrostates\n",
      "Adding `.macrostates`\n",
      "       `.macrostates_memberships`\n",
      "       `.coarse_T`\n",
      "       `.coarse_initial_distribution\n",
      "       `.coarse_stationary_distribution`\n",
      "       `.schur_vectors`\n",
      "       `.schur_matrix`\n",
      "       `.eigendecomposition`\n",
      "    Finish (0:00:00)\n",
      "Adding `adata.obs['initial_states']`\n",
      "       `adata.obs['initial_states_probs']`\n",
      "       `.terminal_states`\n",
      "       `.terminal_states_probabilities`\n",
      "       `.terminal_states_memberships\n",
      "    Finish`\n"
     ]
    }
   ],
   "source": [
    "cr.tl.initial_states(adata, cluster_key=\"cell_type\")\n",
    "cr.pl.initial_states(adata, discrete=True)\n",
    "plt.savefig('./adultsscneogermforcellrank_initial_states0221.pdf')"
   ]
  },
  {
   "cell_type": "code",
   "execution_count": 120,
   "id": "fd5448f0-7d87-45b9-b271-d6d293062347",
   "metadata": {},
   "outputs": [
    {
     "name": "stdout",
     "output_type": "stream",
     "text": [
      "Computing absorption probabilities\n",
      "WARNING: There is only `1` terminal state, all cells will have probability `1` of going there\n",
      "WARNING: Unable to import petsc4py. For installation, please refer to: https://petsc4py.readthedocs.io/en/stable/install.html.\n",
      "Defaulting to `'gmres'` solver.\n"
     ]
    },
    {
     "name": "stderr",
     "output_type": "stream",
     "text": [
      "/tmp/ipykernel_167116/297456376.py:1: DeprecationWarning: `cellrank.tl.lineages` will be removed in version `2.0`. Please use the `cellrank.kernels` or `cellrank.estimators` interface instead.\n",
      "  cr.tl.lineages(adata)\n"
     ]
    },
    {
     "data": {
      "application/vnd.jupyter.widget-view+json": {
       "model_id": "aad905b9db0f4d7e903fbbabf64e6dc3",
       "version_major": 2,
       "version_minor": 0
      },
      "text/plain": [
       "  0%|          | 0/1 [00:00<?, ?/s]"
      ]
     },
     "metadata": {},
     "output_type": "display_data"
    },
    {
     "name": "stdout",
     "output_type": "stream",
     "text": [
      "Adding `adata.obsm['to_terminal_states']`\n",
      "       `.absorption_probabilities`\n",
      "    Finish (0:00:00)\n"
     ]
    },
    {
     "name": "stderr",
     "output_type": "stream",
     "text": [
      "/public/home/zhaox/anaconda3/lib/python3.9/site-packages/scvelo/plotting/utils.py:869: MatplotlibDeprecationWarning: The draw_all function was deprecated in Matplotlib 3.6 and will be removed two minor releases later. Use fig.draw_without_rendering() instead.\n",
      "  cb.draw_all()\n"
     ]
    }
   ],
   "source": [
    "cr.tl.lineages(adata)\n",
    "cr.pl.lineages(adata, same_plot=False)\n",
    "plt.savefig('./adultsscneogermforcellrank_fatemaps0221.pdf')"
   ]
  },
  {
   "cell_type": "code",
   "execution_count": 121,
   "id": "9c5fbb8a-d546-4fca-abcb-da72e32dcdcc",
   "metadata": {},
   "outputs": [
    {
     "name": "stdout",
     "output_type": "stream",
     "text": [
      "computing latent time using initial_states_probs, terminal_states_probs as prior\n",
      "    finished (0:00:00) --> added \n",
      "    'latent_time', shared time (adata.obs)\n"
     ]
    }
   ],
   "source": [
    "scv.tl.recover_latent_time(\n",
    "    adata, root_key=\"initial_states_probs\", end_key=\"terminal_states_probs\"\n",
    ")"
   ]
  },
  {
   "cell_type": "code",
   "execution_count": 122,
   "id": "ccf10c9a-8145-4d72-8119-cb793ddc7b70",
   "metadata": {},
   "outputs": [
    {
     "name": "stdout",
     "output_type": "stream",
     "text": [
      "running PAGA using priors: ['velocity_pseudotime', 'initial_states_probs', 'terminal_states_probs']\n",
      "    finished (0:00:00) --> added\n",
      "    'paga/connectivities', connectivities adjacency (adata.uns)\n",
      "    'paga/connectivities_tree', connectivities subtree (adata.uns)\n",
      "    'paga/transitions_confidence', velocity transitions (adata.uns)\n"
     ]
    }
   ],
   "source": [
    "scv.tl.paga(\n",
    "    adata,\n",
    "    groups=\"cell_type\",\n",
    "    root_key=\"initial_states_probs\",\n",
    "    end_key=\"terminal_states_probs\",\n",
    "    use_time_prior=\"velocity_pseudotime\",\n",
    ")"
   ]
  },
  {
   "cell_type": "code",
   "execution_count": 123,
   "id": "87e6fff9-5871-4c9b-bafd-4d31b8ebb09b",
   "metadata": {},
   "outputs": [],
   "source": [
    "cr.pl.cluster_fates(adata, mode=\"bar\",cluster_key=\"cell_type\")\n",
    "plt.savefig('./adultsscneogermforcellrank_barplot_clusterfates0221.pdf')"
   ]
  },
  {
   "cell_type": "code",
   "execution_count": 124,
   "id": "777298ce-f3d8-4084-a403-a46773696f1c",
   "metadata": {},
   "outputs": [
    {
     "name": "stdout",
     "output_type": "stream",
     "text": [
      "WARNING: There is only 1 lineage present. Using stationary distribution instead\n",
      "Adding `adata.varm['terminal_lineage_drivers']`\n",
      "       `.lineage_drivers`\n",
      "    Finish (0:00:00)\n"
     ]
    },
    {
     "name": "stderr",
     "output_type": "stream",
     "text": [
      "/tmp/ipykernel_167116/1721556810.py:1: DeprecationWarning: `cellrank.tl.lineage_drivers` will be removed in version `2.0`. Please use the `cellrank.kernels` or `cellrank.estimators` interface instead.\n",
      "  cr.tl.lineage_drivers(adata)\n"
     ]
    },
    {
     "data": {
      "text/html": [
       "<div>\n",
       "<style scoped>\n",
       "    .dataframe tbody tr th:only-of-type {\n",
       "        vertical-align: middle;\n",
       "    }\n",
       "\n",
       "    .dataframe tbody tr th {\n",
       "        vertical-align: top;\n",
       "    }\n",
       "\n",
       "    .dataframe thead th {\n",
       "        text-align: right;\n",
       "    }\n",
       "</style>\n",
       "<table border=\"1\" class=\"dataframe\">\n",
       "  <thead>\n",
       "    <tr style=\"text-align: right;\">\n",
       "      <th></th>\n",
       "      <th>SSC_corr</th>\n",
       "      <th>SSC_pval</th>\n",
       "      <th>SSC_qval</th>\n",
       "      <th>SSC_ci_low</th>\n",
       "      <th>SSC_ci_high</th>\n",
       "    </tr>\n",
       "  </thead>\n",
       "  <tbody>\n",
       "    <tr>\n",
       "      <th>PTPRQ</th>\n",
       "      <td>0.484815</td>\n",
       "      <td>2.284681e-26</td>\n",
       "      <td>2.284681e-23</td>\n",
       "      <td>0.406680</td>\n",
       "      <td>0.555909</td>\n",
       "    </tr>\n",
       "    <tr>\n",
       "      <th>EEA1</th>\n",
       "      <td>0.474448</td>\n",
       "      <td>3.992478e-25</td>\n",
       "      <td>1.602114e-22</td>\n",
       "      <td>0.395381</td>\n",
       "      <td>0.546535</td>\n",
       "    </tr>\n",
       "    <tr>\n",
       "      <th>KANSL1L</th>\n",
       "      <td>0.473438</td>\n",
       "      <td>5.244628e-25</td>\n",
       "      <td>1.748209e-22</td>\n",
       "      <td>0.394282</td>\n",
       "      <td>0.545621</td>\n",
       "    </tr>\n",
       "    <tr>\n",
       "      <th>ASH1L</th>\n",
       "      <td>0.469479</td>\n",
       "      <td>1.513882e-24</td>\n",
       "      <td>4.276803e-22</td>\n",
       "      <td>0.389974</td>\n",
       "      <td>0.542036</td>\n",
       "    </tr>\n",
       "    <tr>\n",
       "      <th>CCDC122</th>\n",
       "      <td>0.448019</td>\n",
       "      <td>3.650237e-22</td>\n",
       "      <td>8.111637e-20</td>\n",
       "      <td>0.366683</td>\n",
       "      <td>0.522557</td>\n",
       "    </tr>\n",
       "    <tr>\n",
       "      <th>...</th>\n",
       "      <td>...</td>\n",
       "      <td>...</td>\n",
       "      <td>...</td>\n",
       "      <td>...</td>\n",
       "      <td>...</td>\n",
       "    </tr>\n",
       "    <tr>\n",
       "      <th>RPS8</th>\n",
       "      <td>-0.440017</td>\n",
       "      <td>2.533285e-21</td>\n",
       "      <td>5.066570e-19</td>\n",
       "      <td>-0.515275</td>\n",
       "      <td>-0.358025</td>\n",
       "    </tr>\n",
       "    <tr>\n",
       "      <th>RPL28</th>\n",
       "      <td>-0.469019</td>\n",
       "      <td>1.710721e-24</td>\n",
       "      <td>4.276803e-22</td>\n",
       "      <td>-0.541619</td>\n",
       "      <td>-0.389473</td>\n",
       "    </tr>\n",
       "    <tr>\n",
       "      <th>RPS7</th>\n",
       "      <td>-0.474436</td>\n",
       "      <td>4.005284e-25</td>\n",
       "      <td>1.602114e-22</td>\n",
       "      <td>-0.546525</td>\n",
       "      <td>-0.395368</td>\n",
       "    </tr>\n",
       "    <tr>\n",
       "      <th>RPS18</th>\n",
       "      <td>-0.480742</td>\n",
       "      <td>7.123021e-26</td>\n",
       "      <td>4.748680e-23</td>\n",
       "      <td>-0.552228</td>\n",
       "      <td>-0.402238</td>\n",
       "    </tr>\n",
       "    <tr>\n",
       "      <th>RPS15</th>\n",
       "      <td>-0.493290</td>\n",
       "      <td>2.028538e-27</td>\n",
       "      <td>4.057077e-24</td>\n",
       "      <td>-0.563558</td>\n",
       "      <td>-0.415935</td>\n",
       "    </tr>\n",
       "  </tbody>\n",
       "</table>\n",
       "<p>2000 rows × 5 columns</p>\n",
       "</div>"
      ],
      "text/plain": [
       "         SSC_corr      SSC_pval      SSC_qval  SSC_ci_low  SSC_ci_high\n",
       "PTPRQ    0.484815  2.284681e-26  2.284681e-23    0.406680     0.555909\n",
       "EEA1     0.474448  3.992478e-25  1.602114e-22    0.395381     0.546535\n",
       "KANSL1L  0.473438  5.244628e-25  1.748209e-22    0.394282     0.545621\n",
       "ASH1L    0.469479  1.513882e-24  4.276803e-22    0.389974     0.542036\n",
       "CCDC122  0.448019  3.650237e-22  8.111637e-20    0.366683     0.522557\n",
       "...           ...           ...           ...         ...          ...\n",
       "RPS8    -0.440017  2.533285e-21  5.066570e-19   -0.515275    -0.358025\n",
       "RPL28   -0.469019  1.710721e-24  4.276803e-22   -0.541619    -0.389473\n",
       "RPS7    -0.474436  4.005284e-25  1.602114e-22   -0.546525    -0.395368\n",
       "RPS18   -0.480742  7.123021e-26  4.748680e-23   -0.552228    -0.402238\n",
       "RPS15   -0.493290  2.028538e-27  4.057077e-24   -0.563558    -0.415935\n",
       "\n",
       "[2000 rows x 5 columns]"
      ]
     },
     "execution_count": 124,
     "metadata": {},
     "output_type": "execute_result"
    }
   ],
   "source": [
    "cr.tl.lineage_drivers(adata)"
   ]
  },
  {
   "cell_type": "code",
   "execution_count": 125,
   "id": "353fd05b-1620-4aaf-9b71-c3fb64392faa",
   "metadata": {},
   "outputs": [
    {
     "name": "stderr",
     "output_type": "stream",
     "text": [
      "/public/home/zhaox/anaconda3/lib/python3.9/site-packages/scvelo/plotting/utils.py:869: MatplotlibDeprecationWarning: The draw_all function was deprecated in Matplotlib 3.6 and will be removed two minor releases later. Use fig.draw_without_rendering() instead.\n",
      "  cb.draw_all()\n"
     ]
    }
   ],
   "source": [
    "cr.pl.lineage_drivers(adata, lineage=\"SSC\", n_genes=16)\n",
    "plt.savefig('./adultsscneogermforcellrank_SSCdrivergenes0221.pdf')"
   ]
  },
  {
   "cell_type": "code",
   "execution_count": 127,
   "id": "e812e0bb-ba08-4276-b33e-c77313e4ac7b",
   "metadata": {},
   "outputs": [
    {
     "name": "stderr",
     "output_type": "stream",
     "text": [
      "/public/home/zhaox/anaconda3/lib/python3.9/site-packages/scvelo/plotting/utils.py:869: MatplotlibDeprecationWarning: The draw_all function was deprecated in Matplotlib 3.6 and will be removed two minor releases later. Use fig.draw_without_rendering() instead.\n",
      "  cb.draw_all()\n"
     ]
    },
    {
     "name": "stdout",
     "output_type": "stream",
     "text": [
      "saving figure to file ./adultsscneogermforcellrank_SSC1_temporalorderings0221.pdf\n"
     ]
    }
   ],
   "source": [
    "# compue DPT, starting from CellRank defined root cell\n",
    "root_idx = np.where(adata.obs[\"initial_states\"] == \"SSC1\")[0][0]\n",
    "adata.uns[\"iroot\"] = root_idx\n",
    "sc.tl.dpt(adata)\n",
    "\n",
    "scv.pl.scatter(\n",
    "    adata,\n",
    "    color=[\"cell_type\", root_idx, \"latent_time\", \"dpt_pseudotime\"],\n",
    "    fontsize=16,\n",
    "    cmap=\"viridis\",\n",
    "    perc=[2, 98],\n",
    "    colorbar=True,\n",
    "    dpi=600,\n",
    "    rescale_color=[0, 1],\n",
    "    title=[\"cell_type\", \"root cell\", \"latent time\", \"dpt pseudotime\"],\n",
    "    save='./adultsscneogermforcellrank_SSC1_temporalorderings0221.pdf'\n",
    ")"
   ]
  },
  {
   "cell_type": "code",
   "execution_count": 129,
   "id": "0b27de17-fd5a-445b-a4d2-f3885005eaf0",
   "metadata": {},
   "outputs": [
    {
     "name": "stdout",
     "output_type": "stream",
     "text": [
      "Accessing `adata.obsp['T_fwd']`\n",
      "Using precomputed transition matrix\n",
      "Computing eigendecomposition of the transition matrix\n",
      "Adding `adata.uns['eigendecomposition_fwd']`\n",
      "       `.eigendecomposition`\n",
      "    Finish (0:00:00)\n",
      "For 1 macrostate, stationary distribution is computed\n",
      "Adding `.macrostates`\n",
      "       `.macrostates_memberships`\n",
      "       `.coarse_T`\n",
      "       `.coarse_initial_distribution\n",
      "       `.coarse_stationary_distribution`\n",
      "       `.schur_vectors`\n",
      "       `.schur_matrix`\n",
      "       `.eigendecomposition`\n",
      "    Finish (0:00:00)\n",
      "Adding `adata.obs['terminal_states']`\n",
      "       `adata.obs['terminal_states_probs']`\n",
      "       `.terminal_states`\n",
      "       `.terminal_states_probabilities`\n",
      "       `.terminal_states_memberships\n",
      "    Finish`\n",
      "Computing absorption probabilities\n",
      "WARNING: There is only `1` terminal state, all cells will have probability `1` of going there\n"
     ]
    },
    {
     "name": "stderr",
     "output_type": "stream",
     "text": [
      "/tmp/ipykernel_167116/3580534288.py:1: DeprecationWarning: `cellrank.tl.terminal_states` will be removed in version `2.0`. Please use the `cellrank.kernels` or `cellrank.estimators` interface instead.\n",
      "  cr.tl.terminal_states(\n",
      "/tmp/ipykernel_167116/3580534288.py:5: DeprecationWarning: `cellrank.tl.lineages` will be removed in version `2.0`. Please use the `cellrank.kernels` or `cellrank.estimators` interface instead.\n",
      "  cr.tl.lineages(adata)\n"
     ]
    },
    {
     "data": {
      "application/vnd.jupyter.widget-view+json": {
       "model_id": "e7b79635999c4ab38bc5bdf473dd5330",
       "version_major": 2,
       "version_minor": 0
      },
      "text/plain": [
       "  0%|          | 0/1 [00:00<?, ?/s]"
      ]
     },
     "metadata": {},
     "output_type": "display_data"
    },
    {
     "name": "stdout",
     "output_type": "stream",
     "text": [
      "Adding `adata.obsm['to_terminal_states']`\n",
      "       `.absorption_probabilities`\n",
      "    Finish (0:00:00)\n",
      "WARNING: There is only 1 lineage present. Using stationary distribution instead\n",
      "Adding `adata.varm['terminal_lineage_drivers']`\n",
      "       `.lineage_drivers`\n",
      "    Finish (0:00:00)\n",
      "Computing trends using `1` core(s)\n"
     ]
    },
    {
     "name": "stderr",
     "output_type": "stream",
     "text": [
      "/tmp/ipykernel_167116/3580534288.py:7: DeprecationWarning: `cellrank.tl.lineage_drivers` will be removed in version `2.0`. Please use the `cellrank.kernels` or `cellrank.estimators` interface instead.\n",
      "  cr.tl.lineage_drivers(adata)\n"
     ]
    },
    {
     "data": {
      "application/vnd.jupyter.widget-view+json": {
       "model_id": "db4bc126af1b4bafbd47f4f0f5163a01",
       "version_major": 2,
       "version_minor": 0
      },
      "text/plain": [
       "  0%|          | 0/100 [00:00<?, ?gene/s]"
      ]
     },
     "metadata": {},
     "output_type": "display_data"
    },
    {
     "name": "stderr",
     "output_type": "stream",
     "text": [
      "/public/home/zhaox/anaconda3/lib/python3.9/site-packages/pygam/utils.py:649: DeprecationWarning: `np.int` is a deprecated alias for the builtin `int`. To silence this warning, use `int` by itself. Doing this will not modify any behavior and is safe. When replacing `np.int`, you may wish to use e.g. `np.int64` or `np.int32` to specify the precision. If you wish to review your current use, check the release note link for additional information.\n",
      "Deprecated in NumPy 1.20; for more details and guidance: https://numpy.org/devdocs/release/1.20.0-notes.html#deprecations\n",
      "  bases = (x >= aug_knots[:-1]).astype(np.int) * \\\n",
      "/public/home/zhaox/anaconda3/lib/python3.9/site-packages/pygam/utils.py:650: DeprecationWarning: `np.int` is a deprecated alias for the builtin `int`. To silence this warning, use `int` by itself. Doing this will not modify any behavior and is safe. When replacing `np.int`, you may wish to use e.g. `np.int64` or `np.int32` to specify the precision. If you wish to review your current use, check the release note link for additional information.\n",
      "Deprecated in NumPy 1.20; for more details and guidance: https://numpy.org/devdocs/release/1.20.0-notes.html#deprecations\n",
      "  (x < aug_knots[1:]).astype(np.int)\n",
      "/public/home/zhaox/anaconda3/lib/python3.9/site-packages/pygam/utils.py:649: DeprecationWarning: `np.int` is a deprecated alias for the builtin `int`. To silence this warning, use `int` by itself. Doing this will not modify any behavior and is safe. When replacing `np.int`, you may wish to use e.g. `np.int64` or `np.int32` to specify the precision. If you wish to review your current use, check the release note link for additional information.\n",
      "Deprecated in NumPy 1.20; for more details and guidance: https://numpy.org/devdocs/release/1.20.0-notes.html#deprecations\n",
      "  bases = (x >= aug_knots[:-1]).astype(np.int) * \\\n",
      "/public/home/zhaox/anaconda3/lib/python3.9/site-packages/pygam/utils.py:650: DeprecationWarning: `np.int` is a deprecated alias for the builtin `int`. To silence this warning, use `int` by itself. Doing this will not modify any behavior and is safe. When replacing `np.int`, you may wish to use e.g. `np.int64` or `np.int32` to specify the precision. If you wish to review your current use, check the release note link for additional information.\n",
      "Deprecated in NumPy 1.20; for more details and guidance: https://numpy.org/devdocs/release/1.20.0-notes.html#deprecations\n",
      "  (x < aug_knots[1:]).astype(np.int)\n",
      "/public/home/zhaox/anaconda3/lib/python3.9/site-packages/pygam/utils.py:649: DeprecationWarning: `np.int` is a deprecated alias for the builtin `int`. To silence this warning, use `int` by itself. Doing this will not modify any behavior and is safe. When replacing `np.int`, you may wish to use e.g. `np.int64` or `np.int32` to specify the precision. If you wish to review your current use, check the release note link for additional information.\n",
      "Deprecated in NumPy 1.20; for more details and guidance: https://numpy.org/devdocs/release/1.20.0-notes.html#deprecations\n",
      "  bases = (x >= aug_knots[:-1]).astype(np.int) * \\\n",
      "/public/home/zhaox/anaconda3/lib/python3.9/site-packages/pygam/utils.py:650: DeprecationWarning: `np.int` is a deprecated alias for the builtin `int`. To silence this warning, use `int` by itself. Doing this will not modify any behavior and is safe. When replacing `np.int`, you may wish to use e.g. `np.int64` or `np.int32` to specify the precision. If you wish to review your current use, check the release note link for additional information.\n",
      "Deprecated in NumPy 1.20; for more details and guidance: https://numpy.org/devdocs/release/1.20.0-notes.html#deprecations\n",
      "  (x < aug_knots[1:]).astype(np.int)\n",
      "/public/home/zhaox/anaconda3/lib/python3.9/site-packages/pygam/utils.py:649: DeprecationWarning: `np.int` is a deprecated alias for the builtin `int`. To silence this warning, use `int` by itself. Doing this will not modify any behavior and is safe. When replacing `np.int`, you may wish to use e.g. `np.int64` or `np.int32` to specify the precision. If you wish to review your current use, check the release note link for additional information.\n",
      "Deprecated in NumPy 1.20; for more details and guidance: https://numpy.org/devdocs/release/1.20.0-notes.html#deprecations\n",
      "  bases = (x >= aug_knots[:-1]).astype(np.int) * \\\n",
      "/public/home/zhaox/anaconda3/lib/python3.9/site-packages/pygam/utils.py:650: DeprecationWarning: `np.int` is a deprecated alias for the builtin `int`. To silence this warning, use `int` by itself. Doing this will not modify any behavior and is safe. When replacing `np.int`, you may wish to use e.g. `np.int64` or `np.int32` to specify the precision. If you wish to review your current use, check the release note link for additional information.\n",
      "Deprecated in NumPy 1.20; for more details and guidance: https://numpy.org/devdocs/release/1.20.0-notes.html#deprecations\n",
      "  (x < aug_knots[1:]).astype(np.int)\n",
      "/public/home/zhaox/anaconda3/lib/python3.9/site-packages/pygam/utils.py:649: DeprecationWarning: `np.int` is a deprecated alias for the builtin `int`. To silence this warning, use `int` by itself. Doing this will not modify any behavior and is safe. When replacing `np.int`, you may wish to use e.g. `np.int64` or `np.int32` to specify the precision. If you wish to review your current use, check the release note link for additional information.\n",
      "Deprecated in NumPy 1.20; for more details and guidance: https://numpy.org/devdocs/release/1.20.0-notes.html#deprecations\n",
      "  bases = (x >= aug_knots[:-1]).astype(np.int) * \\\n",
      "/public/home/zhaox/anaconda3/lib/python3.9/site-packages/pygam/utils.py:650: DeprecationWarning: `np.int` is a deprecated alias for the builtin `int`. To silence this warning, use `int` by itself. Doing this will not modify any behavior and is safe. When replacing `np.int`, you may wish to use e.g. `np.int64` or `np.int32` to specify the precision. If you wish to review your current use, check the release note link for additional information.\n",
      "Deprecated in NumPy 1.20; for more details and guidance: https://numpy.org/devdocs/release/1.20.0-notes.html#deprecations\n",
      "  (x < aug_knots[1:]).astype(np.int)\n",
      "/public/home/zhaox/anaconda3/lib/python3.9/site-packages/pygam/utils.py:649: DeprecationWarning: `np.int` is a deprecated alias for the builtin `int`. To silence this warning, use `int` by itself. Doing this will not modify any behavior and is safe. When replacing `np.int`, you may wish to use e.g. `np.int64` or `np.int32` to specify the precision. If you wish to review your current use, check the release note link for additional information.\n",
      "Deprecated in NumPy 1.20; for more details and guidance: https://numpy.org/devdocs/release/1.20.0-notes.html#deprecations\n",
      "  bases = (x >= aug_knots[:-1]).astype(np.int) * \\\n",
      "/public/home/zhaox/anaconda3/lib/python3.9/site-packages/pygam/utils.py:650: DeprecationWarning: `np.int` is a deprecated alias for the builtin `int`. To silence this warning, use `int` by itself. Doing this will not modify any behavior and is safe. When replacing `np.int`, you may wish to use e.g. `np.int64` or `np.int32` to specify the precision. If you wish to review your current use, check the release note link for additional information.\n",
      "Deprecated in NumPy 1.20; for more details and guidance: https://numpy.org/devdocs/release/1.20.0-notes.html#deprecations\n",
      "  (x < aug_knots[1:]).astype(np.int)\n",
      "/public/home/zhaox/anaconda3/lib/python3.9/site-packages/pygam/utils.py:649: DeprecationWarning: `np.int` is a deprecated alias for the builtin `int`. To silence this warning, use `int` by itself. Doing this will not modify any behavior and is safe. When replacing `np.int`, you may wish to use e.g. `np.int64` or `np.int32` to specify the precision. If you wish to review your current use, check the release note link for additional information.\n",
      "Deprecated in NumPy 1.20; for more details and guidance: https://numpy.org/devdocs/release/1.20.0-notes.html#deprecations\n",
      "  bases = (x >= aug_knots[:-1]).astype(np.int) * \\\n",
      "/public/home/zhaox/anaconda3/lib/python3.9/site-packages/pygam/utils.py:650: DeprecationWarning: `np.int` is a deprecated alias for the builtin `int`. To silence this warning, use `int` by itself. Doing this will not modify any behavior and is safe. When replacing `np.int`, you may wish to use e.g. `np.int64` or `np.int32` to specify the precision. If you wish to review your current use, check the release note link for additional information.\n",
      "Deprecated in NumPy 1.20; for more details and guidance: https://numpy.org/devdocs/release/1.20.0-notes.html#deprecations\n",
      "  (x < aug_knots[1:]).astype(np.int)\n",
      "/public/home/zhaox/anaconda3/lib/python3.9/site-packages/pygam/utils.py:649: DeprecationWarning: `np.int` is a deprecated alias for the builtin `int`. To silence this warning, use `int` by itself. Doing this will not modify any behavior and is safe. When replacing `np.int`, you may wish to use e.g. `np.int64` or `np.int32` to specify the precision. If you wish to review your current use, check the release note link for additional information.\n",
      "Deprecated in NumPy 1.20; for more details and guidance: https://numpy.org/devdocs/release/1.20.0-notes.html#deprecations\n",
      "  bases = (x >= aug_knots[:-1]).astype(np.int) * \\\n",
      "/public/home/zhaox/anaconda3/lib/python3.9/site-packages/pygam/utils.py:650: DeprecationWarning: `np.int` is a deprecated alias for the builtin `int`. To silence this warning, use `int` by itself. Doing this will not modify any behavior and is safe. When replacing `np.int`, you may wish to use e.g. `np.int64` or `np.int32` to specify the precision. If you wish to review your current use, check the release note link for additional information.\n",
      "Deprecated in NumPy 1.20; for more details and guidance: https://numpy.org/devdocs/release/1.20.0-notes.html#deprecations\n",
      "  (x < aug_knots[1:]).astype(np.int)\n",
      "/public/home/zhaox/anaconda3/lib/python3.9/site-packages/pygam/utils.py:649: DeprecationWarning: `np.int` is a deprecated alias for the builtin `int`. To silence this warning, use `int` by itself. Doing this will not modify any behavior and is safe. When replacing `np.int`, you may wish to use e.g. `np.int64` or `np.int32` to specify the precision. If you wish to review your current use, check the release note link for additional information.\n",
      "Deprecated in NumPy 1.20; for more details and guidance: https://numpy.org/devdocs/release/1.20.0-notes.html#deprecations\n",
      "  bases = (x >= aug_knots[:-1]).astype(np.int) * \\\n",
      "/public/home/zhaox/anaconda3/lib/python3.9/site-packages/pygam/utils.py:650: DeprecationWarning: `np.int` is a deprecated alias for the builtin `int`. To silence this warning, use `int` by itself. Doing this will not modify any behavior and is safe. When replacing `np.int`, you may wish to use e.g. `np.int64` or `np.int32` to specify the precision. If you wish to review your current use, check the release note link for additional information.\n",
      "Deprecated in NumPy 1.20; for more details and guidance: https://numpy.org/devdocs/release/1.20.0-notes.html#deprecations\n",
      "  (x < aug_knots[1:]).astype(np.int)\n",
      "/public/home/zhaox/anaconda3/lib/python3.9/site-packages/pygam/utils.py:649: DeprecationWarning: `np.int` is a deprecated alias for the builtin `int`. To silence this warning, use `int` by itself. Doing this will not modify any behavior and is safe. When replacing `np.int`, you may wish to use e.g. `np.int64` or `np.int32` to specify the precision. If you wish to review your current use, check the release note link for additional information.\n",
      "Deprecated in NumPy 1.20; for more details and guidance: https://numpy.org/devdocs/release/1.20.0-notes.html#deprecations\n",
      "  bases = (x >= aug_knots[:-1]).astype(np.int) * \\\n",
      "/public/home/zhaox/anaconda3/lib/python3.9/site-packages/pygam/utils.py:650: DeprecationWarning: `np.int` is a deprecated alias for the builtin `int`. To silence this warning, use `int` by itself. Doing this will not modify any behavior and is safe. When replacing `np.int`, you may wish to use e.g. `np.int64` or `np.int32` to specify the precision. If you wish to review your current use, check the release note link for additional information.\n",
      "Deprecated in NumPy 1.20; for more details and guidance: https://numpy.org/devdocs/release/1.20.0-notes.html#deprecations\n",
      "  (x < aug_knots[1:]).astype(np.int)\n",
      "/public/home/zhaox/anaconda3/lib/python3.9/site-packages/pygam/utils.py:649: DeprecationWarning: `np.int` is a deprecated alias for the builtin `int`. To silence this warning, use `int` by itself. Doing this will not modify any behavior and is safe. When replacing `np.int`, you may wish to use e.g. `np.int64` or `np.int32` to specify the precision. If you wish to review your current use, check the release note link for additional information.\n",
      "Deprecated in NumPy 1.20; for more details and guidance: https://numpy.org/devdocs/release/1.20.0-notes.html#deprecations\n",
      "  bases = (x >= aug_knots[:-1]).astype(np.int) * \\\n",
      "/public/home/zhaox/anaconda3/lib/python3.9/site-packages/pygam/utils.py:650: DeprecationWarning: `np.int` is a deprecated alias for the builtin `int`. To silence this warning, use `int` by itself. Doing this will not modify any behavior and is safe. When replacing `np.int`, you may wish to use e.g. `np.int64` or `np.int32` to specify the precision. If you wish to review your current use, check the release note link for additional information.\n",
      "Deprecated in NumPy 1.20; for more details and guidance: https://numpy.org/devdocs/release/1.20.0-notes.html#deprecations\n",
      "  (x < aug_knots[1:]).astype(np.int)\n",
      "/public/home/zhaox/anaconda3/lib/python3.9/site-packages/pygam/utils.py:649: DeprecationWarning: `np.int` is a deprecated alias for the builtin `int`. To silence this warning, use `int` by itself. Doing this will not modify any behavior and is safe. When replacing `np.int`, you may wish to use e.g. `np.int64` or `np.int32` to specify the precision. If you wish to review your current use, check the release note link for additional information.\n",
      "Deprecated in NumPy 1.20; for more details and guidance: https://numpy.org/devdocs/release/1.20.0-notes.html#deprecations\n",
      "  bases = (x >= aug_knots[:-1]).astype(np.int) * \\\n",
      "/public/home/zhaox/anaconda3/lib/python3.9/site-packages/pygam/utils.py:650: DeprecationWarning: `np.int` is a deprecated alias for the builtin `int`. To silence this warning, use `int` by itself. Doing this will not modify any behavior and is safe. When replacing `np.int`, you may wish to use e.g. `np.int64` or `np.int32` to specify the precision. If you wish to review your current use, check the release note link for additional information.\n",
      "Deprecated in NumPy 1.20; for more details and guidance: https://numpy.org/devdocs/release/1.20.0-notes.html#deprecations\n",
      "  (x < aug_knots[1:]).astype(np.int)\n",
      "/public/home/zhaox/anaconda3/lib/python3.9/site-packages/pygam/utils.py:649: DeprecationWarning: `np.int` is a deprecated alias for the builtin `int`. To silence this warning, use `int` by itself. Doing this will not modify any behavior and is safe. When replacing `np.int`, you may wish to use e.g. `np.int64` or `np.int32` to specify the precision. If you wish to review your current use, check the release note link for additional information.\n",
      "Deprecated in NumPy 1.20; for more details and guidance: https://numpy.org/devdocs/release/1.20.0-notes.html#deprecations\n",
      "  bases = (x >= aug_knots[:-1]).astype(np.int) * \\\n",
      "/public/home/zhaox/anaconda3/lib/python3.9/site-packages/pygam/utils.py:650: DeprecationWarning: `np.int` is a deprecated alias for the builtin `int`. To silence this warning, use `int` by itself. Doing this will not modify any behavior and is safe. When replacing `np.int`, you may wish to use e.g. `np.int64` or `np.int32` to specify the precision. If you wish to review your current use, check the release note link for additional information.\n",
      "Deprecated in NumPy 1.20; for more details and guidance: https://numpy.org/devdocs/release/1.20.0-notes.html#deprecations\n",
      "  (x < aug_knots[1:]).astype(np.int)\n",
      "/public/home/zhaox/anaconda3/lib/python3.9/site-packages/pygam/utils.py:649: DeprecationWarning: `np.int` is a deprecated alias for the builtin `int`. To silence this warning, use `int` by itself. Doing this will not modify any behavior and is safe. When replacing `np.int`, you may wish to use e.g. `np.int64` or `np.int32` to specify the precision. If you wish to review your current use, check the release note link for additional information.\n",
      "Deprecated in NumPy 1.20; for more details and guidance: https://numpy.org/devdocs/release/1.20.0-notes.html#deprecations\n",
      "  bases = (x >= aug_knots[:-1]).astype(np.int) * \\\n",
      "/public/home/zhaox/anaconda3/lib/python3.9/site-packages/pygam/utils.py:650: DeprecationWarning: `np.int` is a deprecated alias for the builtin `int`. To silence this warning, use `int` by itself. Doing this will not modify any behavior and is safe. When replacing `np.int`, you may wish to use e.g. `np.int64` or `np.int32` to specify the precision. If you wish to review your current use, check the release note link for additional information.\n",
      "Deprecated in NumPy 1.20; for more details and guidance: https://numpy.org/devdocs/release/1.20.0-notes.html#deprecations\n",
      "  (x < aug_knots[1:]).astype(np.int)\n",
      "/public/home/zhaox/anaconda3/lib/python3.9/site-packages/pygam/utils.py:649: DeprecationWarning: `np.int` is a deprecated alias for the builtin `int`. To silence this warning, use `int` by itself. Doing this will not modify any behavior and is safe. When replacing `np.int`, you may wish to use e.g. `np.int64` or `np.int32` to specify the precision. If you wish to review your current use, check the release note link for additional information.\n",
      "Deprecated in NumPy 1.20; for more details and guidance: https://numpy.org/devdocs/release/1.20.0-notes.html#deprecations\n",
      "  bases = (x >= aug_knots[:-1]).astype(np.int) * \\\n",
      "/public/home/zhaox/anaconda3/lib/python3.9/site-packages/pygam/utils.py:650: DeprecationWarning: `np.int` is a deprecated alias for the builtin `int`. To silence this warning, use `int` by itself. Doing this will not modify any behavior and is safe. When replacing `np.int`, you may wish to use e.g. `np.int64` or `np.int32` to specify the precision. If you wish to review your current use, check the release note link for additional information.\n",
      "Deprecated in NumPy 1.20; for more details and guidance: https://numpy.org/devdocs/release/1.20.0-notes.html#deprecations\n",
      "  (x < aug_knots[1:]).astype(np.int)\n",
      "/public/home/zhaox/anaconda3/lib/python3.9/site-packages/pygam/utils.py:649: DeprecationWarning: `np.int` is a deprecated alias for the builtin `int`. To silence this warning, use `int` by itself. Doing this will not modify any behavior and is safe. When replacing `np.int`, you may wish to use e.g. `np.int64` or `np.int32` to specify the precision. If you wish to review your current use, check the release note link for additional information.\n",
      "Deprecated in NumPy 1.20; for more details and guidance: https://numpy.org/devdocs/release/1.20.0-notes.html#deprecations\n",
      "  bases = (x >= aug_knots[:-1]).astype(np.int) * \\\n",
      "/public/home/zhaox/anaconda3/lib/python3.9/site-packages/pygam/utils.py:650: DeprecationWarning: `np.int` is a deprecated alias for the builtin `int`. To silence this warning, use `int` by itself. Doing this will not modify any behavior and is safe. When replacing `np.int`, you may wish to use e.g. `np.int64` or `np.int32` to specify the precision. If you wish to review your current use, check the release note link for additional information.\n",
      "Deprecated in NumPy 1.20; for more details and guidance: https://numpy.org/devdocs/release/1.20.0-notes.html#deprecations\n",
      "  (x < aug_knots[1:]).astype(np.int)\n",
      "/public/home/zhaox/anaconda3/lib/python3.9/site-packages/pygam/utils.py:649: DeprecationWarning: `np.int` is a deprecated alias for the builtin `int`. To silence this warning, use `int` by itself. Doing this will not modify any behavior and is safe. When replacing `np.int`, you may wish to use e.g. `np.int64` or `np.int32` to specify the precision. If you wish to review your current use, check the release note link for additional information.\n",
      "Deprecated in NumPy 1.20; for more details and guidance: https://numpy.org/devdocs/release/1.20.0-notes.html#deprecations\n",
      "  bases = (x >= aug_knots[:-1]).astype(np.int) * \\\n",
      "/public/home/zhaox/anaconda3/lib/python3.9/site-packages/pygam/utils.py:650: DeprecationWarning: `np.int` is a deprecated alias for the builtin `int`. To silence this warning, use `int` by itself. Doing this will not modify any behavior and is safe. When replacing `np.int`, you may wish to use e.g. `np.int64` or `np.int32` to specify the precision. If you wish to review your current use, check the release note link for additional information.\n",
      "Deprecated in NumPy 1.20; for more details and guidance: https://numpy.org/devdocs/release/1.20.0-notes.html#deprecations\n",
      "  (x < aug_knots[1:]).astype(np.int)\n",
      "/public/home/zhaox/anaconda3/lib/python3.9/site-packages/pygam/utils.py:649: DeprecationWarning: `np.int` is a deprecated alias for the builtin `int`. To silence this warning, use `int` by itself. Doing this will not modify any behavior and is safe. When replacing `np.int`, you may wish to use e.g. `np.int64` or `np.int32` to specify the precision. If you wish to review your current use, check the release note link for additional information.\n",
      "Deprecated in NumPy 1.20; for more details and guidance: https://numpy.org/devdocs/release/1.20.0-notes.html#deprecations\n",
      "  bases = (x >= aug_knots[:-1]).astype(np.int) * \\\n",
      "/public/home/zhaox/anaconda3/lib/python3.9/site-packages/pygam/utils.py:650: DeprecationWarning: `np.int` is a deprecated alias for the builtin `int`. To silence this warning, use `int` by itself. Doing this will not modify any behavior and is safe. When replacing `np.int`, you may wish to use e.g. `np.int64` or `np.int32` to specify the precision. If you wish to review your current use, check the release note link for additional information.\n",
      "Deprecated in NumPy 1.20; for more details and guidance: https://numpy.org/devdocs/release/1.20.0-notes.html#deprecations\n",
      "  (x < aug_knots[1:]).astype(np.int)\n",
      "/public/home/zhaox/anaconda3/lib/python3.9/site-packages/pygam/utils.py:649: DeprecationWarning: `np.int` is a deprecated alias for the builtin `int`. To silence this warning, use `int` by itself. Doing this will not modify any behavior and is safe. When replacing `np.int`, you may wish to use e.g. `np.int64` or `np.int32` to specify the precision. If you wish to review your current use, check the release note link for additional information.\n",
      "Deprecated in NumPy 1.20; for more details and guidance: https://numpy.org/devdocs/release/1.20.0-notes.html#deprecations\n",
      "  bases = (x >= aug_knots[:-1]).astype(np.int) * \\\n",
      "/public/home/zhaox/anaconda3/lib/python3.9/site-packages/pygam/utils.py:650: DeprecationWarning: `np.int` is a deprecated alias for the builtin `int`. To silence this warning, use `int` by itself. Doing this will not modify any behavior and is safe. When replacing `np.int`, you may wish to use e.g. `np.int64` or `np.int32` to specify the precision. If you wish to review your current use, check the release note link for additional information.\n",
      "Deprecated in NumPy 1.20; for more details and guidance: https://numpy.org/devdocs/release/1.20.0-notes.html#deprecations\n",
      "  (x < aug_knots[1:]).astype(np.int)\n",
      "/public/home/zhaox/anaconda3/lib/python3.9/site-packages/pygam/utils.py:649: DeprecationWarning: `np.int` is a deprecated alias for the builtin `int`. To silence this warning, use `int` by itself. Doing this will not modify any behavior and is safe. When replacing `np.int`, you may wish to use e.g. `np.int64` or `np.int32` to specify the precision. If you wish to review your current use, check the release note link for additional information.\n",
      "Deprecated in NumPy 1.20; for more details and guidance: https://numpy.org/devdocs/release/1.20.0-notes.html#deprecations\n",
      "  bases = (x >= aug_knots[:-1]).astype(np.int) * \\\n",
      "/public/home/zhaox/anaconda3/lib/python3.9/site-packages/pygam/utils.py:650: DeprecationWarning: `np.int` is a deprecated alias for the builtin `int`. To silence this warning, use `int` by itself. Doing this will not modify any behavior and is safe. When replacing `np.int`, you may wish to use e.g. `np.int64` or `np.int32` to specify the precision. If you wish to review your current use, check the release note link for additional information.\n",
      "Deprecated in NumPy 1.20; for more details and guidance: https://numpy.org/devdocs/release/1.20.0-notes.html#deprecations\n",
      "  (x < aug_knots[1:]).astype(np.int)\n",
      "/public/home/zhaox/anaconda3/lib/python3.9/site-packages/pygam/utils.py:649: DeprecationWarning: `np.int` is a deprecated alias for the builtin `int`. To silence this warning, use `int` by itself. Doing this will not modify any behavior and is safe. When replacing `np.int`, you may wish to use e.g. `np.int64` or `np.int32` to specify the precision. If you wish to review your current use, check the release note link for additional information.\n",
      "Deprecated in NumPy 1.20; for more details and guidance: https://numpy.org/devdocs/release/1.20.0-notes.html#deprecations\n",
      "  bases = (x >= aug_knots[:-1]).astype(np.int) * \\\n",
      "/public/home/zhaox/anaconda3/lib/python3.9/site-packages/pygam/utils.py:650: DeprecationWarning: `np.int` is a deprecated alias for the builtin `int`. To silence this warning, use `int` by itself. Doing this will not modify any behavior and is safe. When replacing `np.int`, you may wish to use e.g. `np.int64` or `np.int32` to specify the precision. If you wish to review your current use, check the release note link for additional information.\n",
      "Deprecated in NumPy 1.20; for more details and guidance: https://numpy.org/devdocs/release/1.20.0-notes.html#deprecations\n",
      "  (x < aug_knots[1:]).astype(np.int)\n",
      "/public/home/zhaox/anaconda3/lib/python3.9/site-packages/pygam/utils.py:649: DeprecationWarning: `np.int` is a deprecated alias for the builtin `int`. To silence this warning, use `int` by itself. Doing this will not modify any behavior and is safe. When replacing `np.int`, you may wish to use e.g. `np.int64` or `np.int32` to specify the precision. If you wish to review your current use, check the release note link for additional information.\n",
      "Deprecated in NumPy 1.20; for more details and guidance: https://numpy.org/devdocs/release/1.20.0-notes.html#deprecations\n",
      "  bases = (x >= aug_knots[:-1]).astype(np.int) * \\\n",
      "/public/home/zhaox/anaconda3/lib/python3.9/site-packages/pygam/utils.py:650: DeprecationWarning: `np.int` is a deprecated alias for the builtin `int`. To silence this warning, use `int` by itself. Doing this will not modify any behavior and is safe. When replacing `np.int`, you may wish to use e.g. `np.int64` or `np.int32` to specify the precision. If you wish to review your current use, check the release note link for additional information.\n",
      "Deprecated in NumPy 1.20; for more details and guidance: https://numpy.org/devdocs/release/1.20.0-notes.html#deprecations\n",
      "  (x < aug_knots[1:]).astype(np.int)\n",
      "/public/home/zhaox/anaconda3/lib/python3.9/site-packages/pygam/utils.py:649: DeprecationWarning: `np.int` is a deprecated alias for the builtin `int`. To silence this warning, use `int` by itself. Doing this will not modify any behavior and is safe. When replacing `np.int`, you may wish to use e.g. `np.int64` or `np.int32` to specify the precision. If you wish to review your current use, check the release note link for additional information.\n",
      "Deprecated in NumPy 1.20; for more details and guidance: https://numpy.org/devdocs/release/1.20.0-notes.html#deprecations\n",
      "  bases = (x >= aug_knots[:-1]).astype(np.int) * \\\n",
      "/public/home/zhaox/anaconda3/lib/python3.9/site-packages/pygam/utils.py:650: DeprecationWarning: `np.int` is a deprecated alias for the builtin `int`. To silence this warning, use `int` by itself. Doing this will not modify any behavior and is safe. When replacing `np.int`, you may wish to use e.g. `np.int64` or `np.int32` to specify the precision. If you wish to review your current use, check the release note link for additional information.\n",
      "Deprecated in NumPy 1.20; for more details and guidance: https://numpy.org/devdocs/release/1.20.0-notes.html#deprecations\n",
      "  (x < aug_knots[1:]).astype(np.int)\n",
      "/public/home/zhaox/anaconda3/lib/python3.9/site-packages/pygam/utils.py:649: DeprecationWarning: `np.int` is a deprecated alias for the builtin `int`. To silence this warning, use `int` by itself. Doing this will not modify any behavior and is safe. When replacing `np.int`, you may wish to use e.g. `np.int64` or `np.int32` to specify the precision. If you wish to review your current use, check the release note link for additional information.\n",
      "Deprecated in NumPy 1.20; for more details and guidance: https://numpy.org/devdocs/release/1.20.0-notes.html#deprecations\n",
      "  bases = (x >= aug_knots[:-1]).astype(np.int) * \\\n",
      "/public/home/zhaox/anaconda3/lib/python3.9/site-packages/pygam/utils.py:650: DeprecationWarning: `np.int` is a deprecated alias for the builtin `int`. To silence this warning, use `int` by itself. Doing this will not modify any behavior and is safe. When replacing `np.int`, you may wish to use e.g. `np.int64` or `np.int32` to specify the precision. If you wish to review your current use, check the release note link for additional information.\n",
      "Deprecated in NumPy 1.20; for more details and guidance: https://numpy.org/devdocs/release/1.20.0-notes.html#deprecations\n",
      "  (x < aug_knots[1:]).astype(np.int)\n",
      "/public/home/zhaox/anaconda3/lib/python3.9/site-packages/pygam/utils.py:649: DeprecationWarning: `np.int` is a deprecated alias for the builtin `int`. To silence this warning, use `int` by itself. Doing this will not modify any behavior and is safe. When replacing `np.int`, you may wish to use e.g. `np.int64` or `np.int32` to specify the precision. If you wish to review your current use, check the release note link for additional information.\n",
      "Deprecated in NumPy 1.20; for more details and guidance: https://numpy.org/devdocs/release/1.20.0-notes.html#deprecations\n",
      "  bases = (x >= aug_knots[:-1]).astype(np.int) * \\\n",
      "/public/home/zhaox/anaconda3/lib/python3.9/site-packages/pygam/utils.py:650: DeprecationWarning: `np.int` is a deprecated alias for the builtin `int`. To silence this warning, use `int` by itself. Doing this will not modify any behavior and is safe. When replacing `np.int`, you may wish to use e.g. `np.int64` or `np.int32` to specify the precision. If you wish to review your current use, check the release note link for additional information.\n",
      "Deprecated in NumPy 1.20; for more details and guidance: https://numpy.org/devdocs/release/1.20.0-notes.html#deprecations\n",
      "  (x < aug_knots[1:]).astype(np.int)\n",
      "/public/home/zhaox/anaconda3/lib/python3.9/site-packages/pygam/utils.py:649: DeprecationWarning: `np.int` is a deprecated alias for the builtin `int`. To silence this warning, use `int` by itself. Doing this will not modify any behavior and is safe. When replacing `np.int`, you may wish to use e.g. `np.int64` or `np.int32` to specify the precision. If you wish to review your current use, check the release note link for additional information.\n",
      "Deprecated in NumPy 1.20; for more details and guidance: https://numpy.org/devdocs/release/1.20.0-notes.html#deprecations\n",
      "  bases = (x >= aug_knots[:-1]).astype(np.int) * \\\n",
      "/public/home/zhaox/anaconda3/lib/python3.9/site-packages/pygam/utils.py:650: DeprecationWarning: `np.int` is a deprecated alias for the builtin `int`. To silence this warning, use `int` by itself. Doing this will not modify any behavior and is safe. When replacing `np.int`, you may wish to use e.g. `np.int64` or `np.int32` to specify the precision. If you wish to review your current use, check the release note link for additional information.\n",
      "Deprecated in NumPy 1.20; for more details and guidance: https://numpy.org/devdocs/release/1.20.0-notes.html#deprecations\n",
      "  (x < aug_knots[1:]).astype(np.int)\n",
      "/public/home/zhaox/anaconda3/lib/python3.9/site-packages/pygam/utils.py:649: DeprecationWarning: `np.int` is a deprecated alias for the builtin `int`. To silence this warning, use `int` by itself. Doing this will not modify any behavior and is safe. When replacing `np.int`, you may wish to use e.g. `np.int64` or `np.int32` to specify the precision. If you wish to review your current use, check the release note link for additional information.\n",
      "Deprecated in NumPy 1.20; for more details and guidance: https://numpy.org/devdocs/release/1.20.0-notes.html#deprecations\n",
      "  bases = (x >= aug_knots[:-1]).astype(np.int) * \\\n",
      "/public/home/zhaox/anaconda3/lib/python3.9/site-packages/pygam/utils.py:650: DeprecationWarning: `np.int` is a deprecated alias for the builtin `int`. To silence this warning, use `int` by itself. Doing this will not modify any behavior and is safe. When replacing `np.int`, you may wish to use e.g. `np.int64` or `np.int32` to specify the precision. If you wish to review your current use, check the release note link for additional information.\n",
      "Deprecated in NumPy 1.20; for more details and guidance: https://numpy.org/devdocs/release/1.20.0-notes.html#deprecations\n",
      "  (x < aug_knots[1:]).astype(np.int)\n",
      "/public/home/zhaox/anaconda3/lib/python3.9/site-packages/pygam/utils.py:649: DeprecationWarning: `np.int` is a deprecated alias for the builtin `int`. To silence this warning, use `int` by itself. Doing this will not modify any behavior and is safe. When replacing `np.int`, you may wish to use e.g. `np.int64` or `np.int32` to specify the precision. If you wish to review your current use, check the release note link for additional information.\n",
      "Deprecated in NumPy 1.20; for more details and guidance: https://numpy.org/devdocs/release/1.20.0-notes.html#deprecations\n",
      "  bases = (x >= aug_knots[:-1]).astype(np.int) * \\\n",
      "/public/home/zhaox/anaconda3/lib/python3.9/site-packages/pygam/utils.py:650: DeprecationWarning: `np.int` is a deprecated alias for the builtin `int`. To silence this warning, use `int` by itself. Doing this will not modify any behavior and is safe. When replacing `np.int`, you may wish to use e.g. `np.int64` or `np.int32` to specify the precision. If you wish to review your current use, check the release note link for additional information.\n",
      "Deprecated in NumPy 1.20; for more details and guidance: https://numpy.org/devdocs/release/1.20.0-notes.html#deprecations\n",
      "  (x < aug_knots[1:]).astype(np.int)\n",
      "/public/home/zhaox/anaconda3/lib/python3.9/site-packages/pygam/utils.py:649: DeprecationWarning: `np.int` is a deprecated alias for the builtin `int`. To silence this warning, use `int` by itself. Doing this will not modify any behavior and is safe. When replacing `np.int`, you may wish to use e.g. `np.int64` or `np.int32` to specify the precision. If you wish to review your current use, check the release note link for additional information.\n",
      "Deprecated in NumPy 1.20; for more details and guidance: https://numpy.org/devdocs/release/1.20.0-notes.html#deprecations\n",
      "  bases = (x >= aug_knots[:-1]).astype(np.int) * \\\n",
      "/public/home/zhaox/anaconda3/lib/python3.9/site-packages/pygam/utils.py:650: DeprecationWarning: `np.int` is a deprecated alias for the builtin `int`. To silence this warning, use `int` by itself. Doing this will not modify any behavior and is safe. When replacing `np.int`, you may wish to use e.g. `np.int64` or `np.int32` to specify the precision. If you wish to review your current use, check the release note link for additional information.\n",
      "Deprecated in NumPy 1.20; for more details and guidance: https://numpy.org/devdocs/release/1.20.0-notes.html#deprecations\n",
      "  (x < aug_knots[1:]).astype(np.int)\n",
      "/public/home/zhaox/anaconda3/lib/python3.9/site-packages/pygam/utils.py:649: DeprecationWarning: `np.int` is a deprecated alias for the builtin `int`. To silence this warning, use `int` by itself. Doing this will not modify any behavior and is safe. When replacing `np.int`, you may wish to use e.g. `np.int64` or `np.int32` to specify the precision. If you wish to review your current use, check the release note link for additional information.\n",
      "Deprecated in NumPy 1.20; for more details and guidance: https://numpy.org/devdocs/release/1.20.0-notes.html#deprecations\n",
      "  bases = (x >= aug_knots[:-1]).astype(np.int) * \\\n",
      "/public/home/zhaox/anaconda3/lib/python3.9/site-packages/pygam/utils.py:650: DeprecationWarning: `np.int` is a deprecated alias for the builtin `int`. To silence this warning, use `int` by itself. Doing this will not modify any behavior and is safe. When replacing `np.int`, you may wish to use e.g. `np.int64` or `np.int32` to specify the precision. If you wish to review your current use, check the release note link for additional information.\n",
      "Deprecated in NumPy 1.20; for more details and guidance: https://numpy.org/devdocs/release/1.20.0-notes.html#deprecations\n",
      "  (x < aug_knots[1:]).astype(np.int)\n",
      "/public/home/zhaox/anaconda3/lib/python3.9/site-packages/pygam/utils.py:649: DeprecationWarning: `np.int` is a deprecated alias for the builtin `int`. To silence this warning, use `int` by itself. Doing this will not modify any behavior and is safe. When replacing `np.int`, you may wish to use e.g. `np.int64` or `np.int32` to specify the precision. If you wish to review your current use, check the release note link for additional information.\n",
      "Deprecated in NumPy 1.20; for more details and guidance: https://numpy.org/devdocs/release/1.20.0-notes.html#deprecations\n",
      "  bases = (x >= aug_knots[:-1]).astype(np.int) * \\\n",
      "/public/home/zhaox/anaconda3/lib/python3.9/site-packages/pygam/utils.py:650: DeprecationWarning: `np.int` is a deprecated alias for the builtin `int`. To silence this warning, use `int` by itself. Doing this will not modify any behavior and is safe. When replacing `np.int`, you may wish to use e.g. `np.int64` or `np.int32` to specify the precision. If you wish to review your current use, check the release note link for additional information.\n",
      "Deprecated in NumPy 1.20; for more details and guidance: https://numpy.org/devdocs/release/1.20.0-notes.html#deprecations\n",
      "  (x < aug_knots[1:]).astype(np.int)\n",
      "/public/home/zhaox/anaconda3/lib/python3.9/site-packages/pygam/utils.py:649: DeprecationWarning: `np.int` is a deprecated alias for the builtin `int`. To silence this warning, use `int` by itself. Doing this will not modify any behavior and is safe. When replacing `np.int`, you may wish to use e.g. `np.int64` or `np.int32` to specify the precision. If you wish to review your current use, check the release note link for additional information.\n",
      "Deprecated in NumPy 1.20; for more details and guidance: https://numpy.org/devdocs/release/1.20.0-notes.html#deprecations\n",
      "  bases = (x >= aug_knots[:-1]).astype(np.int) * \\\n",
      "/public/home/zhaox/anaconda3/lib/python3.9/site-packages/pygam/utils.py:650: DeprecationWarning: `np.int` is a deprecated alias for the builtin `int`. To silence this warning, use `int` by itself. Doing this will not modify any behavior and is safe. When replacing `np.int`, you may wish to use e.g. `np.int64` or `np.int32` to specify the precision. If you wish to review your current use, check the release note link for additional information.\n",
      "Deprecated in NumPy 1.20; for more details and guidance: https://numpy.org/devdocs/release/1.20.0-notes.html#deprecations\n",
      "  (x < aug_knots[1:]).astype(np.int)\n",
      "/public/home/zhaox/anaconda3/lib/python3.9/site-packages/pygam/utils.py:649: DeprecationWarning: `np.int` is a deprecated alias for the builtin `int`. To silence this warning, use `int` by itself. Doing this will not modify any behavior and is safe. When replacing `np.int`, you may wish to use e.g. `np.int64` or `np.int32` to specify the precision. If you wish to review your current use, check the release note link for additional information.\n",
      "Deprecated in NumPy 1.20; for more details and guidance: https://numpy.org/devdocs/release/1.20.0-notes.html#deprecations\n",
      "  bases = (x >= aug_knots[:-1]).astype(np.int) * \\\n",
      "/public/home/zhaox/anaconda3/lib/python3.9/site-packages/pygam/utils.py:650: DeprecationWarning: `np.int` is a deprecated alias for the builtin `int`. To silence this warning, use `int` by itself. Doing this will not modify any behavior and is safe. When replacing `np.int`, you may wish to use e.g. `np.int64` or `np.int32` to specify the precision. If you wish to review your current use, check the release note link for additional information.\n",
      "Deprecated in NumPy 1.20; for more details and guidance: https://numpy.org/devdocs/release/1.20.0-notes.html#deprecations\n",
      "  (x < aug_knots[1:]).astype(np.int)\n",
      "/public/home/zhaox/anaconda3/lib/python3.9/site-packages/pygam/utils.py:649: DeprecationWarning: `np.int` is a deprecated alias for the builtin `int`. To silence this warning, use `int` by itself. Doing this will not modify any behavior and is safe. When replacing `np.int`, you may wish to use e.g. `np.int64` or `np.int32` to specify the precision. If you wish to review your current use, check the release note link for additional information.\n",
      "Deprecated in NumPy 1.20; for more details and guidance: https://numpy.org/devdocs/release/1.20.0-notes.html#deprecations\n",
      "  bases = (x >= aug_knots[:-1]).astype(np.int) * \\\n",
      "/public/home/zhaox/anaconda3/lib/python3.9/site-packages/pygam/utils.py:650: DeprecationWarning: `np.int` is a deprecated alias for the builtin `int`. To silence this warning, use `int` by itself. Doing this will not modify any behavior and is safe. When replacing `np.int`, you may wish to use e.g. `np.int64` or `np.int32` to specify the precision. If you wish to review your current use, check the release note link for additional information.\n",
      "Deprecated in NumPy 1.20; for more details and guidance: https://numpy.org/devdocs/release/1.20.0-notes.html#deprecations\n",
      "  (x < aug_knots[1:]).astype(np.int)\n",
      "/public/home/zhaox/anaconda3/lib/python3.9/site-packages/pygam/utils.py:649: DeprecationWarning: `np.int` is a deprecated alias for the builtin `int`. To silence this warning, use `int` by itself. Doing this will not modify any behavior and is safe. When replacing `np.int`, you may wish to use e.g. `np.int64` or `np.int32` to specify the precision. If you wish to review your current use, check the release note link for additional information.\n",
      "Deprecated in NumPy 1.20; for more details and guidance: https://numpy.org/devdocs/release/1.20.0-notes.html#deprecations\n",
      "  bases = (x >= aug_knots[:-1]).astype(np.int) * \\\n",
      "/public/home/zhaox/anaconda3/lib/python3.9/site-packages/pygam/utils.py:650: DeprecationWarning: `np.int` is a deprecated alias for the builtin `int`. To silence this warning, use `int` by itself. Doing this will not modify any behavior and is safe. When replacing `np.int`, you may wish to use e.g. `np.int64` or `np.int32` to specify the precision. If you wish to review your current use, check the release note link for additional information.\n",
      "Deprecated in NumPy 1.20; for more details and guidance: https://numpy.org/devdocs/release/1.20.0-notes.html#deprecations\n",
      "  (x < aug_knots[1:]).astype(np.int)\n",
      "/public/home/zhaox/anaconda3/lib/python3.9/site-packages/pygam/utils.py:649: DeprecationWarning: `np.int` is a deprecated alias for the builtin `int`. To silence this warning, use `int` by itself. Doing this will not modify any behavior and is safe. When replacing `np.int`, you may wish to use e.g. `np.int64` or `np.int32` to specify the precision. If you wish to review your current use, check the release note link for additional information.\n",
      "Deprecated in NumPy 1.20; for more details and guidance: https://numpy.org/devdocs/release/1.20.0-notes.html#deprecations\n",
      "  bases = (x >= aug_knots[:-1]).astype(np.int) * \\\n",
      "/public/home/zhaox/anaconda3/lib/python3.9/site-packages/pygam/utils.py:650: DeprecationWarning: `np.int` is a deprecated alias for the builtin `int`. To silence this warning, use `int` by itself. Doing this will not modify any behavior and is safe. When replacing `np.int`, you may wish to use e.g. `np.int64` or `np.int32` to specify the precision. If you wish to review your current use, check the release note link for additional information.\n",
      "Deprecated in NumPy 1.20; for more details and guidance: https://numpy.org/devdocs/release/1.20.0-notes.html#deprecations\n",
      "  (x < aug_knots[1:]).astype(np.int)\n",
      "/public/home/zhaox/anaconda3/lib/python3.9/site-packages/pygam/utils.py:649: DeprecationWarning: `np.int` is a deprecated alias for the builtin `int`. To silence this warning, use `int` by itself. Doing this will not modify any behavior and is safe. When replacing `np.int`, you may wish to use e.g. `np.int64` or `np.int32` to specify the precision. If you wish to review your current use, check the release note link for additional information.\n",
      "Deprecated in NumPy 1.20; for more details and guidance: https://numpy.org/devdocs/release/1.20.0-notes.html#deprecations\n",
      "  bases = (x >= aug_knots[:-1]).astype(np.int) * \\\n",
      "/public/home/zhaox/anaconda3/lib/python3.9/site-packages/pygam/utils.py:650: DeprecationWarning: `np.int` is a deprecated alias for the builtin `int`. To silence this warning, use `int` by itself. Doing this will not modify any behavior and is safe. When replacing `np.int`, you may wish to use e.g. `np.int64` or `np.int32` to specify the precision. If you wish to review your current use, check the release note link for additional information.\n",
      "Deprecated in NumPy 1.20; for more details and guidance: https://numpy.org/devdocs/release/1.20.0-notes.html#deprecations\n",
      "  (x < aug_knots[1:]).astype(np.int)\n",
      "/public/home/zhaox/anaconda3/lib/python3.9/site-packages/pygam/utils.py:649: DeprecationWarning: `np.int` is a deprecated alias for the builtin `int`. To silence this warning, use `int` by itself. Doing this will not modify any behavior and is safe. When replacing `np.int`, you may wish to use e.g. `np.int64` or `np.int32` to specify the precision. If you wish to review your current use, check the release note link for additional information.\n",
      "Deprecated in NumPy 1.20; for more details and guidance: https://numpy.org/devdocs/release/1.20.0-notes.html#deprecations\n",
      "  bases = (x >= aug_knots[:-1]).astype(np.int) * \\\n",
      "/public/home/zhaox/anaconda3/lib/python3.9/site-packages/pygam/utils.py:650: DeprecationWarning: `np.int` is a deprecated alias for the builtin `int`. To silence this warning, use `int` by itself. Doing this will not modify any behavior and is safe. When replacing `np.int`, you may wish to use e.g. `np.int64` or `np.int32` to specify the precision. If you wish to review your current use, check the release note link for additional information.\n",
      "Deprecated in NumPy 1.20; for more details and guidance: https://numpy.org/devdocs/release/1.20.0-notes.html#deprecations\n",
      "  (x < aug_knots[1:]).astype(np.int)\n",
      "/public/home/zhaox/anaconda3/lib/python3.9/site-packages/pygam/utils.py:649: DeprecationWarning: `np.int` is a deprecated alias for the builtin `int`. To silence this warning, use `int` by itself. Doing this will not modify any behavior and is safe. When replacing `np.int`, you may wish to use e.g. `np.int64` or `np.int32` to specify the precision. If you wish to review your current use, check the release note link for additional information.\n",
      "Deprecated in NumPy 1.20; for more details and guidance: https://numpy.org/devdocs/release/1.20.0-notes.html#deprecations\n",
      "  bases = (x >= aug_knots[:-1]).astype(np.int) * \\\n",
      "/public/home/zhaox/anaconda3/lib/python3.9/site-packages/pygam/utils.py:650: DeprecationWarning: `np.int` is a deprecated alias for the builtin `int`. To silence this warning, use `int` by itself. Doing this will not modify any behavior and is safe. When replacing `np.int`, you may wish to use e.g. `np.int64` or `np.int32` to specify the precision. If you wish to review your current use, check the release note link for additional information.\n",
      "Deprecated in NumPy 1.20; for more details and guidance: https://numpy.org/devdocs/release/1.20.0-notes.html#deprecations\n",
      "  (x < aug_knots[1:]).astype(np.int)\n",
      "/public/home/zhaox/anaconda3/lib/python3.9/site-packages/pygam/utils.py:649: DeprecationWarning: `np.int` is a deprecated alias for the builtin `int`. To silence this warning, use `int` by itself. Doing this will not modify any behavior and is safe. When replacing `np.int`, you may wish to use e.g. `np.int64` or `np.int32` to specify the precision. If you wish to review your current use, check the release note link for additional information.\n",
      "Deprecated in NumPy 1.20; for more details and guidance: https://numpy.org/devdocs/release/1.20.0-notes.html#deprecations\n",
      "  bases = (x >= aug_knots[:-1]).astype(np.int) * \\\n",
      "/public/home/zhaox/anaconda3/lib/python3.9/site-packages/pygam/utils.py:650: DeprecationWarning: `np.int` is a deprecated alias for the builtin `int`. To silence this warning, use `int` by itself. Doing this will not modify any behavior and is safe. When replacing `np.int`, you may wish to use e.g. `np.int64` or `np.int32` to specify the precision. If you wish to review your current use, check the release note link for additional information.\n",
      "Deprecated in NumPy 1.20; for more details and guidance: https://numpy.org/devdocs/release/1.20.0-notes.html#deprecations\n",
      "  (x < aug_knots[1:]).astype(np.int)\n",
      "/public/home/zhaox/anaconda3/lib/python3.9/site-packages/pygam/utils.py:649: DeprecationWarning: `np.int` is a deprecated alias for the builtin `int`. To silence this warning, use `int` by itself. Doing this will not modify any behavior and is safe. When replacing `np.int`, you may wish to use e.g. `np.int64` or `np.int32` to specify the precision. If you wish to review your current use, check the release note link for additional information.\n",
      "Deprecated in NumPy 1.20; for more details and guidance: https://numpy.org/devdocs/release/1.20.0-notes.html#deprecations\n",
      "  bases = (x >= aug_knots[:-1]).astype(np.int) * \\\n",
      "/public/home/zhaox/anaconda3/lib/python3.9/site-packages/pygam/utils.py:650: DeprecationWarning: `np.int` is a deprecated alias for the builtin `int`. To silence this warning, use `int` by itself. Doing this will not modify any behavior and is safe. When replacing `np.int`, you may wish to use e.g. `np.int64` or `np.int32` to specify the precision. If you wish to review your current use, check the release note link for additional information.\n",
      "Deprecated in NumPy 1.20; for more details and guidance: https://numpy.org/devdocs/release/1.20.0-notes.html#deprecations\n",
      "  (x < aug_knots[1:]).astype(np.int)\n",
      "/public/home/zhaox/anaconda3/lib/python3.9/site-packages/pygam/utils.py:649: DeprecationWarning: `np.int` is a deprecated alias for the builtin `int`. To silence this warning, use `int` by itself. Doing this will not modify any behavior and is safe. When replacing `np.int`, you may wish to use e.g. `np.int64` or `np.int32` to specify the precision. If you wish to review your current use, check the release note link for additional information.\n",
      "Deprecated in NumPy 1.20; for more details and guidance: https://numpy.org/devdocs/release/1.20.0-notes.html#deprecations\n",
      "  bases = (x >= aug_knots[:-1]).astype(np.int) * \\\n",
      "/public/home/zhaox/anaconda3/lib/python3.9/site-packages/pygam/utils.py:650: DeprecationWarning: `np.int` is a deprecated alias for the builtin `int`. To silence this warning, use `int` by itself. Doing this will not modify any behavior and is safe. When replacing `np.int`, you may wish to use e.g. `np.int64` or `np.int32` to specify the precision. If you wish to review your current use, check the release note link for additional information.\n",
      "Deprecated in NumPy 1.20; for more details and guidance: https://numpy.org/devdocs/release/1.20.0-notes.html#deprecations\n",
      "  (x < aug_knots[1:]).astype(np.int)\n",
      "/public/home/zhaox/anaconda3/lib/python3.9/site-packages/pygam/utils.py:649: DeprecationWarning: `np.int` is a deprecated alias for the builtin `int`. To silence this warning, use `int` by itself. Doing this will not modify any behavior and is safe. When replacing `np.int`, you may wish to use e.g. `np.int64` or `np.int32` to specify the precision. If you wish to review your current use, check the release note link for additional information.\n",
      "Deprecated in NumPy 1.20; for more details and guidance: https://numpy.org/devdocs/release/1.20.0-notes.html#deprecations\n",
      "  bases = (x >= aug_knots[:-1]).astype(np.int) * \\\n",
      "/public/home/zhaox/anaconda3/lib/python3.9/site-packages/pygam/utils.py:650: DeprecationWarning: `np.int` is a deprecated alias for the builtin `int`. To silence this warning, use `int` by itself. Doing this will not modify any behavior and is safe. When replacing `np.int`, you may wish to use e.g. `np.int64` or `np.int32` to specify the precision. If you wish to review your current use, check the release note link for additional information.\n",
      "Deprecated in NumPy 1.20; for more details and guidance: https://numpy.org/devdocs/release/1.20.0-notes.html#deprecations\n",
      "  (x < aug_knots[1:]).astype(np.int)\n",
      "/public/home/zhaox/anaconda3/lib/python3.9/site-packages/pygam/utils.py:649: DeprecationWarning: `np.int` is a deprecated alias for the builtin `int`. To silence this warning, use `int` by itself. Doing this will not modify any behavior and is safe. When replacing `np.int`, you may wish to use e.g. `np.int64` or `np.int32` to specify the precision. If you wish to review your current use, check the release note link for additional information.\n",
      "Deprecated in NumPy 1.20; for more details and guidance: https://numpy.org/devdocs/release/1.20.0-notes.html#deprecations\n",
      "  bases = (x >= aug_knots[:-1]).astype(np.int) * \\\n",
      "/public/home/zhaox/anaconda3/lib/python3.9/site-packages/pygam/utils.py:650: DeprecationWarning: `np.int` is a deprecated alias for the builtin `int`. To silence this warning, use `int` by itself. Doing this will not modify any behavior and is safe. When replacing `np.int`, you may wish to use e.g. `np.int64` or `np.int32` to specify the precision. If you wish to review your current use, check the release note link for additional information.\n",
      "Deprecated in NumPy 1.20; for more details and guidance: https://numpy.org/devdocs/release/1.20.0-notes.html#deprecations\n",
      "  (x < aug_knots[1:]).astype(np.int)\n",
      "/public/home/zhaox/anaconda3/lib/python3.9/site-packages/pygam/utils.py:649: DeprecationWarning: `np.int` is a deprecated alias for the builtin `int`. To silence this warning, use `int` by itself. Doing this will not modify any behavior and is safe. When replacing `np.int`, you may wish to use e.g. `np.int64` or `np.int32` to specify the precision. If you wish to review your current use, check the release note link for additional information.\n",
      "Deprecated in NumPy 1.20; for more details and guidance: https://numpy.org/devdocs/release/1.20.0-notes.html#deprecations\n",
      "  bases = (x >= aug_knots[:-1]).astype(np.int) * \\\n",
      "/public/home/zhaox/anaconda3/lib/python3.9/site-packages/pygam/utils.py:650: DeprecationWarning: `np.int` is a deprecated alias for the builtin `int`. To silence this warning, use `int` by itself. Doing this will not modify any behavior and is safe. When replacing `np.int`, you may wish to use e.g. `np.int64` or `np.int32` to specify the precision. If you wish to review your current use, check the release note link for additional information.\n",
      "Deprecated in NumPy 1.20; for more details and guidance: https://numpy.org/devdocs/release/1.20.0-notes.html#deprecations\n",
      "  (x < aug_knots[1:]).astype(np.int)\n",
      "/public/home/zhaox/anaconda3/lib/python3.9/site-packages/pygam/utils.py:649: DeprecationWarning: `np.int` is a deprecated alias for the builtin `int`. To silence this warning, use `int` by itself. Doing this will not modify any behavior and is safe. When replacing `np.int`, you may wish to use e.g. `np.int64` or `np.int32` to specify the precision. If you wish to review your current use, check the release note link for additional information.\n",
      "Deprecated in NumPy 1.20; for more details and guidance: https://numpy.org/devdocs/release/1.20.0-notes.html#deprecations\n",
      "  bases = (x >= aug_knots[:-1]).astype(np.int) * \\\n",
      "/public/home/zhaox/anaconda3/lib/python3.9/site-packages/pygam/utils.py:650: DeprecationWarning: `np.int` is a deprecated alias for the builtin `int`. To silence this warning, use `int` by itself. Doing this will not modify any behavior and is safe. When replacing `np.int`, you may wish to use e.g. `np.int64` or `np.int32` to specify the precision. If you wish to review your current use, check the release note link for additional information.\n",
      "Deprecated in NumPy 1.20; for more details and guidance: https://numpy.org/devdocs/release/1.20.0-notes.html#deprecations\n",
      "  (x < aug_knots[1:]).astype(np.int)\n",
      "/public/home/zhaox/anaconda3/lib/python3.9/site-packages/pygam/utils.py:649: DeprecationWarning: `np.int` is a deprecated alias for the builtin `int`. To silence this warning, use `int` by itself. Doing this will not modify any behavior and is safe. When replacing `np.int`, you may wish to use e.g. `np.int64` or `np.int32` to specify the precision. If you wish to review your current use, check the release note link for additional information.\n",
      "Deprecated in NumPy 1.20; for more details and guidance: https://numpy.org/devdocs/release/1.20.0-notes.html#deprecations\n",
      "  bases = (x >= aug_knots[:-1]).astype(np.int) * \\\n",
      "/public/home/zhaox/anaconda3/lib/python3.9/site-packages/pygam/utils.py:650: DeprecationWarning: `np.int` is a deprecated alias for the builtin `int`. To silence this warning, use `int` by itself. Doing this will not modify any behavior and is safe. When replacing `np.int`, you may wish to use e.g. `np.int64` or `np.int32` to specify the precision. If you wish to review your current use, check the release note link for additional information.\n",
      "Deprecated in NumPy 1.20; for more details and guidance: https://numpy.org/devdocs/release/1.20.0-notes.html#deprecations\n",
      "  (x < aug_knots[1:]).astype(np.int)\n",
      "/public/home/zhaox/anaconda3/lib/python3.9/site-packages/pygam/utils.py:649: DeprecationWarning: `np.int` is a deprecated alias for the builtin `int`. To silence this warning, use `int` by itself. Doing this will not modify any behavior and is safe. When replacing `np.int`, you may wish to use e.g. `np.int64` or `np.int32` to specify the precision. If you wish to review your current use, check the release note link for additional information.\n",
      "Deprecated in NumPy 1.20; for more details and guidance: https://numpy.org/devdocs/release/1.20.0-notes.html#deprecations\n",
      "  bases = (x >= aug_knots[:-1]).astype(np.int) * \\\n",
      "/public/home/zhaox/anaconda3/lib/python3.9/site-packages/pygam/utils.py:650: DeprecationWarning: `np.int` is a deprecated alias for the builtin `int`. To silence this warning, use `int` by itself. Doing this will not modify any behavior and is safe. When replacing `np.int`, you may wish to use e.g. `np.int64` or `np.int32` to specify the precision. If you wish to review your current use, check the release note link for additional information.\n",
      "Deprecated in NumPy 1.20; for more details and guidance: https://numpy.org/devdocs/release/1.20.0-notes.html#deprecations\n",
      "  (x < aug_knots[1:]).astype(np.int)\n",
      "/public/home/zhaox/anaconda3/lib/python3.9/site-packages/pygam/utils.py:649: DeprecationWarning: `np.int` is a deprecated alias for the builtin `int`. To silence this warning, use `int` by itself. Doing this will not modify any behavior and is safe. When replacing `np.int`, you may wish to use e.g. `np.int64` or `np.int32` to specify the precision. If you wish to review your current use, check the release note link for additional information.\n",
      "Deprecated in NumPy 1.20; for more details and guidance: https://numpy.org/devdocs/release/1.20.0-notes.html#deprecations\n",
      "  bases = (x >= aug_knots[:-1]).astype(np.int) * \\\n",
      "/public/home/zhaox/anaconda3/lib/python3.9/site-packages/pygam/utils.py:650: DeprecationWarning: `np.int` is a deprecated alias for the builtin `int`. To silence this warning, use `int` by itself. Doing this will not modify any behavior and is safe. When replacing `np.int`, you may wish to use e.g. `np.int64` or `np.int32` to specify the precision. If you wish to review your current use, check the release note link for additional information.\n",
      "Deprecated in NumPy 1.20; for more details and guidance: https://numpy.org/devdocs/release/1.20.0-notes.html#deprecations\n",
      "  (x < aug_knots[1:]).astype(np.int)\n",
      "/public/home/zhaox/anaconda3/lib/python3.9/site-packages/pygam/utils.py:649: DeprecationWarning: `np.int` is a deprecated alias for the builtin `int`. To silence this warning, use `int` by itself. Doing this will not modify any behavior and is safe. When replacing `np.int`, you may wish to use e.g. `np.int64` or `np.int32` to specify the precision. If you wish to review your current use, check the release note link for additional information.\n",
      "Deprecated in NumPy 1.20; for more details and guidance: https://numpy.org/devdocs/release/1.20.0-notes.html#deprecations\n",
      "  bases = (x >= aug_knots[:-1]).astype(np.int) * \\\n",
      "/public/home/zhaox/anaconda3/lib/python3.9/site-packages/pygam/utils.py:650: DeprecationWarning: `np.int` is a deprecated alias for the builtin `int`. To silence this warning, use `int` by itself. Doing this will not modify any behavior and is safe. When replacing `np.int`, you may wish to use e.g. `np.int64` or `np.int32` to specify the precision. If you wish to review your current use, check the release note link for additional information.\n",
      "Deprecated in NumPy 1.20; for more details and guidance: https://numpy.org/devdocs/release/1.20.0-notes.html#deprecations\n",
      "  (x < aug_knots[1:]).astype(np.int)\n",
      "/public/home/zhaox/anaconda3/lib/python3.9/site-packages/pygam/utils.py:649: DeprecationWarning: `np.int` is a deprecated alias for the builtin `int`. To silence this warning, use `int` by itself. Doing this will not modify any behavior and is safe. When replacing `np.int`, you may wish to use e.g. `np.int64` or `np.int32` to specify the precision. If you wish to review your current use, check the release note link for additional information.\n",
      "Deprecated in NumPy 1.20; for more details and guidance: https://numpy.org/devdocs/release/1.20.0-notes.html#deprecations\n",
      "  bases = (x >= aug_knots[:-1]).astype(np.int) * \\\n",
      "/public/home/zhaox/anaconda3/lib/python3.9/site-packages/pygam/utils.py:650: DeprecationWarning: `np.int` is a deprecated alias for the builtin `int`. To silence this warning, use `int` by itself. Doing this will not modify any behavior and is safe. When replacing `np.int`, you may wish to use e.g. `np.int64` or `np.int32` to specify the precision. If you wish to review your current use, check the release note link for additional information.\n",
      "Deprecated in NumPy 1.20; for more details and guidance: https://numpy.org/devdocs/release/1.20.0-notes.html#deprecations\n",
      "  (x < aug_knots[1:]).astype(np.int)\n",
      "/public/home/zhaox/anaconda3/lib/python3.9/site-packages/pygam/utils.py:649: DeprecationWarning: `np.int` is a deprecated alias for the builtin `int`. To silence this warning, use `int` by itself. Doing this will not modify any behavior and is safe. When replacing `np.int`, you may wish to use e.g. `np.int64` or `np.int32` to specify the precision. If you wish to review your current use, check the release note link for additional information.\n",
      "Deprecated in NumPy 1.20; for more details and guidance: https://numpy.org/devdocs/release/1.20.0-notes.html#deprecations\n",
      "  bases = (x >= aug_knots[:-1]).astype(np.int) * \\\n",
      "/public/home/zhaox/anaconda3/lib/python3.9/site-packages/pygam/utils.py:650: DeprecationWarning: `np.int` is a deprecated alias for the builtin `int`. To silence this warning, use `int` by itself. Doing this will not modify any behavior and is safe. When replacing `np.int`, you may wish to use e.g. `np.int64` or `np.int32` to specify the precision. If you wish to review your current use, check the release note link for additional information.\n",
      "Deprecated in NumPy 1.20; for more details and guidance: https://numpy.org/devdocs/release/1.20.0-notes.html#deprecations\n",
      "  (x < aug_knots[1:]).astype(np.int)\n",
      "/public/home/zhaox/anaconda3/lib/python3.9/site-packages/pygam/utils.py:649: DeprecationWarning: `np.int` is a deprecated alias for the builtin `int`. To silence this warning, use `int` by itself. Doing this will not modify any behavior and is safe. When replacing `np.int`, you may wish to use e.g. `np.int64` or `np.int32` to specify the precision. If you wish to review your current use, check the release note link for additional information.\n",
      "Deprecated in NumPy 1.20; for more details and guidance: https://numpy.org/devdocs/release/1.20.0-notes.html#deprecations\n",
      "  bases = (x >= aug_knots[:-1]).astype(np.int) * \\\n",
      "/public/home/zhaox/anaconda3/lib/python3.9/site-packages/pygam/utils.py:650: DeprecationWarning: `np.int` is a deprecated alias for the builtin `int`. To silence this warning, use `int` by itself. Doing this will not modify any behavior and is safe. When replacing `np.int`, you may wish to use e.g. `np.int64` or `np.int32` to specify the precision. If you wish to review your current use, check the release note link for additional information.\n",
      "Deprecated in NumPy 1.20; for more details and guidance: https://numpy.org/devdocs/release/1.20.0-notes.html#deprecations\n",
      "  (x < aug_knots[1:]).astype(np.int)\n",
      "/public/home/zhaox/anaconda3/lib/python3.9/site-packages/pygam/utils.py:649: DeprecationWarning: `np.int` is a deprecated alias for the builtin `int`. To silence this warning, use `int` by itself. Doing this will not modify any behavior and is safe. When replacing `np.int`, you may wish to use e.g. `np.int64` or `np.int32` to specify the precision. If you wish to review your current use, check the release note link for additional information.\n",
      "Deprecated in NumPy 1.20; for more details and guidance: https://numpy.org/devdocs/release/1.20.0-notes.html#deprecations\n",
      "  bases = (x >= aug_knots[:-1]).astype(np.int) * \\\n",
      "/public/home/zhaox/anaconda3/lib/python3.9/site-packages/pygam/utils.py:650: DeprecationWarning: `np.int` is a deprecated alias for the builtin `int`. To silence this warning, use `int` by itself. Doing this will not modify any behavior and is safe. When replacing `np.int`, you may wish to use e.g. `np.int64` or `np.int32` to specify the precision. If you wish to review your current use, check the release note link for additional information.\n",
      "Deprecated in NumPy 1.20; for more details and guidance: https://numpy.org/devdocs/release/1.20.0-notes.html#deprecations\n",
      "  (x < aug_knots[1:]).astype(np.int)\n",
      "/public/home/zhaox/anaconda3/lib/python3.9/site-packages/pygam/utils.py:649: DeprecationWarning: `np.int` is a deprecated alias for the builtin `int`. To silence this warning, use `int` by itself. Doing this will not modify any behavior and is safe. When replacing `np.int`, you may wish to use e.g. `np.int64` or `np.int32` to specify the precision. If you wish to review your current use, check the release note link for additional information.\n",
      "Deprecated in NumPy 1.20; for more details and guidance: https://numpy.org/devdocs/release/1.20.0-notes.html#deprecations\n",
      "  bases = (x >= aug_knots[:-1]).astype(np.int) * \\\n",
      "/public/home/zhaox/anaconda3/lib/python3.9/site-packages/pygam/utils.py:650: DeprecationWarning: `np.int` is a deprecated alias for the builtin `int`. To silence this warning, use `int` by itself. Doing this will not modify any behavior and is safe. When replacing `np.int`, you may wish to use e.g. `np.int64` or `np.int32` to specify the precision. If you wish to review your current use, check the release note link for additional information.\n",
      "Deprecated in NumPy 1.20; for more details and guidance: https://numpy.org/devdocs/release/1.20.0-notes.html#deprecations\n",
      "  (x < aug_knots[1:]).astype(np.int)\n",
      "/public/home/zhaox/anaconda3/lib/python3.9/site-packages/pygam/utils.py:649: DeprecationWarning: `np.int` is a deprecated alias for the builtin `int`. To silence this warning, use `int` by itself. Doing this will not modify any behavior and is safe. When replacing `np.int`, you may wish to use e.g. `np.int64` or `np.int32` to specify the precision. If you wish to review your current use, check the release note link for additional information.\n",
      "Deprecated in NumPy 1.20; for more details and guidance: https://numpy.org/devdocs/release/1.20.0-notes.html#deprecations\n",
      "  bases = (x >= aug_knots[:-1]).astype(np.int) * \\\n",
      "/public/home/zhaox/anaconda3/lib/python3.9/site-packages/pygam/utils.py:650: DeprecationWarning: `np.int` is a deprecated alias for the builtin `int`. To silence this warning, use `int` by itself. Doing this will not modify any behavior and is safe. When replacing `np.int`, you may wish to use e.g. `np.int64` or `np.int32` to specify the precision. If you wish to review your current use, check the release note link for additional information.\n",
      "Deprecated in NumPy 1.20; for more details and guidance: https://numpy.org/devdocs/release/1.20.0-notes.html#deprecations\n",
      "  (x < aug_knots[1:]).astype(np.int)\n",
      "/public/home/zhaox/anaconda3/lib/python3.9/site-packages/pygam/utils.py:649: DeprecationWarning: `np.int` is a deprecated alias for the builtin `int`. To silence this warning, use `int` by itself. Doing this will not modify any behavior and is safe. When replacing `np.int`, you may wish to use e.g. `np.int64` or `np.int32` to specify the precision. If you wish to review your current use, check the release note link for additional information.\n",
      "Deprecated in NumPy 1.20; for more details and guidance: https://numpy.org/devdocs/release/1.20.0-notes.html#deprecations\n",
      "  bases = (x >= aug_knots[:-1]).astype(np.int) * \\\n",
      "/public/home/zhaox/anaconda3/lib/python3.9/site-packages/pygam/utils.py:650: DeprecationWarning: `np.int` is a deprecated alias for the builtin `int`. To silence this warning, use `int` by itself. Doing this will not modify any behavior and is safe. When replacing `np.int`, you may wish to use e.g. `np.int64` or `np.int32` to specify the precision. If you wish to review your current use, check the release note link for additional information.\n",
      "Deprecated in NumPy 1.20; for more details and guidance: https://numpy.org/devdocs/release/1.20.0-notes.html#deprecations\n",
      "  (x < aug_knots[1:]).astype(np.int)\n",
      "/public/home/zhaox/anaconda3/lib/python3.9/site-packages/pygam/utils.py:649: DeprecationWarning: `np.int` is a deprecated alias for the builtin `int`. To silence this warning, use `int` by itself. Doing this will not modify any behavior and is safe. When replacing `np.int`, you may wish to use e.g. `np.int64` or `np.int32` to specify the precision. If you wish to review your current use, check the release note link for additional information.\n",
      "Deprecated in NumPy 1.20; for more details and guidance: https://numpy.org/devdocs/release/1.20.0-notes.html#deprecations\n",
      "  bases = (x >= aug_knots[:-1]).astype(np.int) * \\\n",
      "/public/home/zhaox/anaconda3/lib/python3.9/site-packages/pygam/utils.py:650: DeprecationWarning: `np.int` is a deprecated alias for the builtin `int`. To silence this warning, use `int` by itself. Doing this will not modify any behavior and is safe. When replacing `np.int`, you may wish to use e.g. `np.int64` or `np.int32` to specify the precision. If you wish to review your current use, check the release note link for additional information.\n",
      "Deprecated in NumPy 1.20; for more details and guidance: https://numpy.org/devdocs/release/1.20.0-notes.html#deprecations\n",
      "  (x < aug_knots[1:]).astype(np.int)\n",
      "/public/home/zhaox/anaconda3/lib/python3.9/site-packages/pygam/utils.py:649: DeprecationWarning: `np.int` is a deprecated alias for the builtin `int`. To silence this warning, use `int` by itself. Doing this will not modify any behavior and is safe. When replacing `np.int`, you may wish to use e.g. `np.int64` or `np.int32` to specify the precision. If you wish to review your current use, check the release note link for additional information.\n",
      "Deprecated in NumPy 1.20; for more details and guidance: https://numpy.org/devdocs/release/1.20.0-notes.html#deprecations\n",
      "  bases = (x >= aug_knots[:-1]).astype(np.int) * \\\n",
      "/public/home/zhaox/anaconda3/lib/python3.9/site-packages/pygam/utils.py:650: DeprecationWarning: `np.int` is a deprecated alias for the builtin `int`. To silence this warning, use `int` by itself. Doing this will not modify any behavior and is safe. When replacing `np.int`, you may wish to use e.g. `np.int64` or `np.int32` to specify the precision. If you wish to review your current use, check the release note link for additional information.\n",
      "Deprecated in NumPy 1.20; for more details and guidance: https://numpy.org/devdocs/release/1.20.0-notes.html#deprecations\n",
      "  (x < aug_knots[1:]).astype(np.int)\n",
      "/public/home/zhaox/anaconda3/lib/python3.9/site-packages/pygam/utils.py:649: DeprecationWarning: `np.int` is a deprecated alias for the builtin `int`. To silence this warning, use `int` by itself. Doing this will not modify any behavior and is safe. When replacing `np.int`, you may wish to use e.g. `np.int64` or `np.int32` to specify the precision. If you wish to review your current use, check the release note link for additional information.\n",
      "Deprecated in NumPy 1.20; for more details and guidance: https://numpy.org/devdocs/release/1.20.0-notes.html#deprecations\n",
      "  bases = (x >= aug_knots[:-1]).astype(np.int) * \\\n",
      "/public/home/zhaox/anaconda3/lib/python3.9/site-packages/pygam/utils.py:650: DeprecationWarning: `np.int` is a deprecated alias for the builtin `int`. To silence this warning, use `int` by itself. Doing this will not modify any behavior and is safe. When replacing `np.int`, you may wish to use e.g. `np.int64` or `np.int32` to specify the precision. If you wish to review your current use, check the release note link for additional information.\n",
      "Deprecated in NumPy 1.20; for more details and guidance: https://numpy.org/devdocs/release/1.20.0-notes.html#deprecations\n",
      "  (x < aug_knots[1:]).astype(np.int)\n",
      "/public/home/zhaox/anaconda3/lib/python3.9/site-packages/pygam/utils.py:649: DeprecationWarning: `np.int` is a deprecated alias for the builtin `int`. To silence this warning, use `int` by itself. Doing this will not modify any behavior and is safe. When replacing `np.int`, you may wish to use e.g. `np.int64` or `np.int32` to specify the precision. If you wish to review your current use, check the release note link for additional information.\n",
      "Deprecated in NumPy 1.20; for more details and guidance: https://numpy.org/devdocs/release/1.20.0-notes.html#deprecations\n",
      "  bases = (x >= aug_knots[:-1]).astype(np.int) * \\\n",
      "/public/home/zhaox/anaconda3/lib/python3.9/site-packages/pygam/utils.py:650: DeprecationWarning: `np.int` is a deprecated alias for the builtin `int`. To silence this warning, use `int` by itself. Doing this will not modify any behavior and is safe. When replacing `np.int`, you may wish to use e.g. `np.int64` or `np.int32` to specify the precision. If you wish to review your current use, check the release note link for additional information.\n",
      "Deprecated in NumPy 1.20; for more details and guidance: https://numpy.org/devdocs/release/1.20.0-notes.html#deprecations\n",
      "  (x < aug_knots[1:]).astype(np.int)\n",
      "/public/home/zhaox/anaconda3/lib/python3.9/site-packages/pygam/utils.py:649: DeprecationWarning: `np.int` is a deprecated alias for the builtin `int`. To silence this warning, use `int` by itself. Doing this will not modify any behavior and is safe. When replacing `np.int`, you may wish to use e.g. `np.int64` or `np.int32` to specify the precision. If you wish to review your current use, check the release note link for additional information.\n",
      "Deprecated in NumPy 1.20; for more details and guidance: https://numpy.org/devdocs/release/1.20.0-notes.html#deprecations\n",
      "  bases = (x >= aug_knots[:-1]).astype(np.int) * \\\n",
      "/public/home/zhaox/anaconda3/lib/python3.9/site-packages/pygam/utils.py:650: DeprecationWarning: `np.int` is a deprecated alias for the builtin `int`. To silence this warning, use `int` by itself. Doing this will not modify any behavior and is safe. When replacing `np.int`, you may wish to use e.g. `np.int64` or `np.int32` to specify the precision. If you wish to review your current use, check the release note link for additional information.\n",
      "Deprecated in NumPy 1.20; for more details and guidance: https://numpy.org/devdocs/release/1.20.0-notes.html#deprecations\n",
      "  (x < aug_knots[1:]).astype(np.int)\n",
      "/public/home/zhaox/anaconda3/lib/python3.9/site-packages/pygam/utils.py:649: DeprecationWarning: `np.int` is a deprecated alias for the builtin `int`. To silence this warning, use `int` by itself. Doing this will not modify any behavior and is safe. When replacing `np.int`, you may wish to use e.g. `np.int64` or `np.int32` to specify the precision. If you wish to review your current use, check the release note link for additional information.\n",
      "Deprecated in NumPy 1.20; for more details and guidance: https://numpy.org/devdocs/release/1.20.0-notes.html#deprecations\n",
      "  bases = (x >= aug_knots[:-1]).astype(np.int) * \\\n",
      "/public/home/zhaox/anaconda3/lib/python3.9/site-packages/pygam/utils.py:650: DeprecationWarning: `np.int` is a deprecated alias for the builtin `int`. To silence this warning, use `int` by itself. Doing this will not modify any behavior and is safe. When replacing `np.int`, you may wish to use e.g. `np.int64` or `np.int32` to specify the precision. If you wish to review your current use, check the release note link for additional information.\n",
      "Deprecated in NumPy 1.20; for more details and guidance: https://numpy.org/devdocs/release/1.20.0-notes.html#deprecations\n",
      "  (x < aug_knots[1:]).astype(np.int)\n",
      "/public/home/zhaox/anaconda3/lib/python3.9/site-packages/pygam/utils.py:649: DeprecationWarning: `np.int` is a deprecated alias for the builtin `int`. To silence this warning, use `int` by itself. Doing this will not modify any behavior and is safe. When replacing `np.int`, you may wish to use e.g. `np.int64` or `np.int32` to specify the precision. If you wish to review your current use, check the release note link for additional information.\n",
      "Deprecated in NumPy 1.20; for more details and guidance: https://numpy.org/devdocs/release/1.20.0-notes.html#deprecations\n",
      "  bases = (x >= aug_knots[:-1]).astype(np.int) * \\\n",
      "/public/home/zhaox/anaconda3/lib/python3.9/site-packages/pygam/utils.py:650: DeprecationWarning: `np.int` is a deprecated alias for the builtin `int`. To silence this warning, use `int` by itself. Doing this will not modify any behavior and is safe. When replacing `np.int`, you may wish to use e.g. `np.int64` or `np.int32` to specify the precision. If you wish to review your current use, check the release note link for additional information.\n",
      "Deprecated in NumPy 1.20; for more details and guidance: https://numpy.org/devdocs/release/1.20.0-notes.html#deprecations\n",
      "  (x < aug_knots[1:]).astype(np.int)\n",
      "/public/home/zhaox/anaconda3/lib/python3.9/site-packages/pygam/utils.py:649: DeprecationWarning: `np.int` is a deprecated alias for the builtin `int`. To silence this warning, use `int` by itself. Doing this will not modify any behavior and is safe. When replacing `np.int`, you may wish to use e.g. `np.int64` or `np.int32` to specify the precision. If you wish to review your current use, check the release note link for additional information.\n",
      "Deprecated in NumPy 1.20; for more details and guidance: https://numpy.org/devdocs/release/1.20.0-notes.html#deprecations\n",
      "  bases = (x >= aug_knots[:-1]).astype(np.int) * \\\n",
      "/public/home/zhaox/anaconda3/lib/python3.9/site-packages/pygam/utils.py:650: DeprecationWarning: `np.int` is a deprecated alias for the builtin `int`. To silence this warning, use `int` by itself. Doing this will not modify any behavior and is safe. When replacing `np.int`, you may wish to use e.g. `np.int64` or `np.int32` to specify the precision. If you wish to review your current use, check the release note link for additional information.\n",
      "Deprecated in NumPy 1.20; for more details and guidance: https://numpy.org/devdocs/release/1.20.0-notes.html#deprecations\n",
      "  (x < aug_knots[1:]).astype(np.int)\n",
      "/public/home/zhaox/anaconda3/lib/python3.9/site-packages/pygam/utils.py:649: DeprecationWarning: `np.int` is a deprecated alias for the builtin `int`. To silence this warning, use `int` by itself. Doing this will not modify any behavior and is safe. When replacing `np.int`, you may wish to use e.g. `np.int64` or `np.int32` to specify the precision. If you wish to review your current use, check the release note link for additional information.\n",
      "Deprecated in NumPy 1.20; for more details and guidance: https://numpy.org/devdocs/release/1.20.0-notes.html#deprecations\n",
      "  bases = (x >= aug_knots[:-1]).astype(np.int) * \\\n",
      "/public/home/zhaox/anaconda3/lib/python3.9/site-packages/pygam/utils.py:650: DeprecationWarning: `np.int` is a deprecated alias for the builtin `int`. To silence this warning, use `int` by itself. Doing this will not modify any behavior and is safe. When replacing `np.int`, you may wish to use e.g. `np.int64` or `np.int32` to specify the precision. If you wish to review your current use, check the release note link for additional information.\n",
      "Deprecated in NumPy 1.20; for more details and guidance: https://numpy.org/devdocs/release/1.20.0-notes.html#deprecations\n",
      "  (x < aug_knots[1:]).astype(np.int)\n",
      "/public/home/zhaox/anaconda3/lib/python3.9/site-packages/pygam/utils.py:649: DeprecationWarning: `np.int` is a deprecated alias for the builtin `int`. To silence this warning, use `int` by itself. Doing this will not modify any behavior and is safe. When replacing `np.int`, you may wish to use e.g. `np.int64` or `np.int32` to specify the precision. If you wish to review your current use, check the release note link for additional information.\n",
      "Deprecated in NumPy 1.20; for more details and guidance: https://numpy.org/devdocs/release/1.20.0-notes.html#deprecations\n",
      "  bases = (x >= aug_knots[:-1]).astype(np.int) * \\\n",
      "/public/home/zhaox/anaconda3/lib/python3.9/site-packages/pygam/utils.py:650: DeprecationWarning: `np.int` is a deprecated alias for the builtin `int`. To silence this warning, use `int` by itself. Doing this will not modify any behavior and is safe. When replacing `np.int`, you may wish to use e.g. `np.int64` or `np.int32` to specify the precision. If you wish to review your current use, check the release note link for additional information.\n",
      "Deprecated in NumPy 1.20; for more details and guidance: https://numpy.org/devdocs/release/1.20.0-notes.html#deprecations\n",
      "  (x < aug_knots[1:]).astype(np.int)\n",
      "/public/home/zhaox/anaconda3/lib/python3.9/site-packages/pygam/utils.py:649: DeprecationWarning: `np.int` is a deprecated alias for the builtin `int`. To silence this warning, use `int` by itself. Doing this will not modify any behavior and is safe. When replacing `np.int`, you may wish to use e.g. `np.int64` or `np.int32` to specify the precision. If you wish to review your current use, check the release note link for additional information.\n",
      "Deprecated in NumPy 1.20; for more details and guidance: https://numpy.org/devdocs/release/1.20.0-notes.html#deprecations\n",
      "  bases = (x >= aug_knots[:-1]).astype(np.int) * \\\n",
      "/public/home/zhaox/anaconda3/lib/python3.9/site-packages/pygam/utils.py:650: DeprecationWarning: `np.int` is a deprecated alias for the builtin `int`. To silence this warning, use `int` by itself. Doing this will not modify any behavior and is safe. When replacing `np.int`, you may wish to use e.g. `np.int64` or `np.int32` to specify the precision. If you wish to review your current use, check the release note link for additional information.\n",
      "Deprecated in NumPy 1.20; for more details and guidance: https://numpy.org/devdocs/release/1.20.0-notes.html#deprecations\n",
      "  (x < aug_knots[1:]).astype(np.int)\n",
      "/public/home/zhaox/anaconda3/lib/python3.9/site-packages/pygam/utils.py:649: DeprecationWarning: `np.int` is a deprecated alias for the builtin `int`. To silence this warning, use `int` by itself. Doing this will not modify any behavior and is safe. When replacing `np.int`, you may wish to use e.g. `np.int64` or `np.int32` to specify the precision. If you wish to review your current use, check the release note link for additional information.\n",
      "Deprecated in NumPy 1.20; for more details and guidance: https://numpy.org/devdocs/release/1.20.0-notes.html#deprecations\n",
      "  bases = (x >= aug_knots[:-1]).astype(np.int) * \\\n",
      "/public/home/zhaox/anaconda3/lib/python3.9/site-packages/pygam/utils.py:650: DeprecationWarning: `np.int` is a deprecated alias for the builtin `int`. To silence this warning, use `int` by itself. Doing this will not modify any behavior and is safe. When replacing `np.int`, you may wish to use e.g. `np.int64` or `np.int32` to specify the precision. If you wish to review your current use, check the release note link for additional information.\n",
      "Deprecated in NumPy 1.20; for more details and guidance: https://numpy.org/devdocs/release/1.20.0-notes.html#deprecations\n",
      "  (x < aug_knots[1:]).astype(np.int)\n",
      "/public/home/zhaox/anaconda3/lib/python3.9/site-packages/pygam/utils.py:649: DeprecationWarning: `np.int` is a deprecated alias for the builtin `int`. To silence this warning, use `int` by itself. Doing this will not modify any behavior and is safe. When replacing `np.int`, you may wish to use e.g. `np.int64` or `np.int32` to specify the precision. If you wish to review your current use, check the release note link for additional information.\n",
      "Deprecated in NumPy 1.20; for more details and guidance: https://numpy.org/devdocs/release/1.20.0-notes.html#deprecations\n",
      "  bases = (x >= aug_knots[:-1]).astype(np.int) * \\\n",
      "/public/home/zhaox/anaconda3/lib/python3.9/site-packages/pygam/utils.py:650: DeprecationWarning: `np.int` is a deprecated alias for the builtin `int`. To silence this warning, use `int` by itself. Doing this will not modify any behavior and is safe. When replacing `np.int`, you may wish to use e.g. `np.int64` or `np.int32` to specify the precision. If you wish to review your current use, check the release note link for additional information.\n",
      "Deprecated in NumPy 1.20; for more details and guidance: https://numpy.org/devdocs/release/1.20.0-notes.html#deprecations\n",
      "  (x < aug_knots[1:]).astype(np.int)\n",
      "/public/home/zhaox/anaconda3/lib/python3.9/site-packages/pygam/utils.py:649: DeprecationWarning: `np.int` is a deprecated alias for the builtin `int`. To silence this warning, use `int` by itself. Doing this will not modify any behavior and is safe. When replacing `np.int`, you may wish to use e.g. `np.int64` or `np.int32` to specify the precision. If you wish to review your current use, check the release note link for additional information.\n",
      "Deprecated in NumPy 1.20; for more details and guidance: https://numpy.org/devdocs/release/1.20.0-notes.html#deprecations\n",
      "  bases = (x >= aug_knots[:-1]).astype(np.int) * \\\n",
      "/public/home/zhaox/anaconda3/lib/python3.9/site-packages/pygam/utils.py:650: DeprecationWarning: `np.int` is a deprecated alias for the builtin `int`. To silence this warning, use `int` by itself. Doing this will not modify any behavior and is safe. When replacing `np.int`, you may wish to use e.g. `np.int64` or `np.int32` to specify the precision. If you wish to review your current use, check the release note link for additional information.\n",
      "Deprecated in NumPy 1.20; for more details and guidance: https://numpy.org/devdocs/release/1.20.0-notes.html#deprecations\n",
      "  (x < aug_knots[1:]).astype(np.int)\n",
      "/public/home/zhaox/anaconda3/lib/python3.9/site-packages/pygam/utils.py:649: DeprecationWarning: `np.int` is a deprecated alias for the builtin `int`. To silence this warning, use `int` by itself. Doing this will not modify any behavior and is safe. When replacing `np.int`, you may wish to use e.g. `np.int64` or `np.int32` to specify the precision. If you wish to review your current use, check the release note link for additional information.\n",
      "Deprecated in NumPy 1.20; for more details and guidance: https://numpy.org/devdocs/release/1.20.0-notes.html#deprecations\n",
      "  bases = (x >= aug_knots[:-1]).astype(np.int) * \\\n",
      "/public/home/zhaox/anaconda3/lib/python3.9/site-packages/pygam/utils.py:650: DeprecationWarning: `np.int` is a deprecated alias for the builtin `int`. To silence this warning, use `int` by itself. Doing this will not modify any behavior and is safe. When replacing `np.int`, you may wish to use e.g. `np.int64` or `np.int32` to specify the precision. If you wish to review your current use, check the release note link for additional information.\n",
      "Deprecated in NumPy 1.20; for more details and guidance: https://numpy.org/devdocs/release/1.20.0-notes.html#deprecations\n",
      "  (x < aug_knots[1:]).astype(np.int)\n",
      "/public/home/zhaox/anaconda3/lib/python3.9/site-packages/pygam/utils.py:649: DeprecationWarning: `np.int` is a deprecated alias for the builtin `int`. To silence this warning, use `int` by itself. Doing this will not modify any behavior and is safe. When replacing `np.int`, you may wish to use e.g. `np.int64` or `np.int32` to specify the precision. If you wish to review your current use, check the release note link for additional information.\n",
      "Deprecated in NumPy 1.20; for more details and guidance: https://numpy.org/devdocs/release/1.20.0-notes.html#deprecations\n",
      "  bases = (x >= aug_knots[:-1]).astype(np.int) * \\\n",
      "/public/home/zhaox/anaconda3/lib/python3.9/site-packages/pygam/utils.py:650: DeprecationWarning: `np.int` is a deprecated alias for the builtin `int`. To silence this warning, use `int` by itself. Doing this will not modify any behavior and is safe. When replacing `np.int`, you may wish to use e.g. `np.int64` or `np.int32` to specify the precision. If you wish to review your current use, check the release note link for additional information.\n",
      "Deprecated in NumPy 1.20; for more details and guidance: https://numpy.org/devdocs/release/1.20.0-notes.html#deprecations\n",
      "  (x < aug_knots[1:]).astype(np.int)\n",
      "/public/home/zhaox/anaconda3/lib/python3.9/site-packages/pygam/utils.py:649: DeprecationWarning: `np.int` is a deprecated alias for the builtin `int`. To silence this warning, use `int` by itself. Doing this will not modify any behavior and is safe. When replacing `np.int`, you may wish to use e.g. `np.int64` or `np.int32` to specify the precision. If you wish to review your current use, check the release note link for additional information.\n",
      "Deprecated in NumPy 1.20; for more details and guidance: https://numpy.org/devdocs/release/1.20.0-notes.html#deprecations\n",
      "  bases = (x >= aug_knots[:-1]).astype(np.int) * \\\n",
      "/public/home/zhaox/anaconda3/lib/python3.9/site-packages/pygam/utils.py:650: DeprecationWarning: `np.int` is a deprecated alias for the builtin `int`. To silence this warning, use `int` by itself. Doing this will not modify any behavior and is safe. When replacing `np.int`, you may wish to use e.g. `np.int64` or `np.int32` to specify the precision. If you wish to review your current use, check the release note link for additional information.\n",
      "Deprecated in NumPy 1.20; for more details and guidance: https://numpy.org/devdocs/release/1.20.0-notes.html#deprecations\n",
      "  (x < aug_knots[1:]).astype(np.int)\n",
      "/public/home/zhaox/anaconda3/lib/python3.9/site-packages/pygam/utils.py:649: DeprecationWarning: `np.int` is a deprecated alias for the builtin `int`. To silence this warning, use `int` by itself. Doing this will not modify any behavior and is safe. When replacing `np.int`, you may wish to use e.g. `np.int64` or `np.int32` to specify the precision. If you wish to review your current use, check the release note link for additional information.\n",
      "Deprecated in NumPy 1.20; for more details and guidance: https://numpy.org/devdocs/release/1.20.0-notes.html#deprecations\n",
      "  bases = (x >= aug_knots[:-1]).astype(np.int) * \\\n",
      "/public/home/zhaox/anaconda3/lib/python3.9/site-packages/pygam/utils.py:650: DeprecationWarning: `np.int` is a deprecated alias for the builtin `int`. To silence this warning, use `int` by itself. Doing this will not modify any behavior and is safe. When replacing `np.int`, you may wish to use e.g. `np.int64` or `np.int32` to specify the precision. If you wish to review your current use, check the release note link for additional information.\n",
      "Deprecated in NumPy 1.20; for more details and guidance: https://numpy.org/devdocs/release/1.20.0-notes.html#deprecations\n",
      "  (x < aug_knots[1:]).astype(np.int)\n",
      "/public/home/zhaox/anaconda3/lib/python3.9/site-packages/pygam/utils.py:649: DeprecationWarning: `np.int` is a deprecated alias for the builtin `int`. To silence this warning, use `int` by itself. Doing this will not modify any behavior and is safe. When replacing `np.int`, you may wish to use e.g. `np.int64` or `np.int32` to specify the precision. If you wish to review your current use, check the release note link for additional information.\n",
      "Deprecated in NumPy 1.20; for more details and guidance: https://numpy.org/devdocs/release/1.20.0-notes.html#deprecations\n",
      "  bases = (x >= aug_knots[:-1]).astype(np.int) * \\\n",
      "/public/home/zhaox/anaconda3/lib/python3.9/site-packages/pygam/utils.py:650: DeprecationWarning: `np.int` is a deprecated alias for the builtin `int`. To silence this warning, use `int` by itself. Doing this will not modify any behavior and is safe. When replacing `np.int`, you may wish to use e.g. `np.int64` or `np.int32` to specify the precision. If you wish to review your current use, check the release note link for additional information.\n",
      "Deprecated in NumPy 1.20; for more details and guidance: https://numpy.org/devdocs/release/1.20.0-notes.html#deprecations\n",
      "  (x < aug_knots[1:]).astype(np.int)\n",
      "/public/home/zhaox/anaconda3/lib/python3.9/site-packages/pygam/utils.py:649: DeprecationWarning: `np.int` is a deprecated alias for the builtin `int`. To silence this warning, use `int` by itself. Doing this will not modify any behavior and is safe. When replacing `np.int`, you may wish to use e.g. `np.int64` or `np.int32` to specify the precision. If you wish to review your current use, check the release note link for additional information.\n",
      "Deprecated in NumPy 1.20; for more details and guidance: https://numpy.org/devdocs/release/1.20.0-notes.html#deprecations\n",
      "  bases = (x >= aug_knots[:-1]).astype(np.int) * \\\n",
      "/public/home/zhaox/anaconda3/lib/python3.9/site-packages/pygam/utils.py:650: DeprecationWarning: `np.int` is a deprecated alias for the builtin `int`. To silence this warning, use `int` by itself. Doing this will not modify any behavior and is safe. When replacing `np.int`, you may wish to use e.g. `np.int64` or `np.int32` to specify the precision. If you wish to review your current use, check the release note link for additional information.\n",
      "Deprecated in NumPy 1.20; for more details and guidance: https://numpy.org/devdocs/release/1.20.0-notes.html#deprecations\n",
      "  (x < aug_knots[1:]).astype(np.int)\n",
      "/public/home/zhaox/anaconda3/lib/python3.9/site-packages/pygam/utils.py:649: DeprecationWarning: `np.int` is a deprecated alias for the builtin `int`. To silence this warning, use `int` by itself. Doing this will not modify any behavior and is safe. When replacing `np.int`, you may wish to use e.g. `np.int64` or `np.int32` to specify the precision. If you wish to review your current use, check the release note link for additional information.\n",
      "Deprecated in NumPy 1.20; for more details and guidance: https://numpy.org/devdocs/release/1.20.0-notes.html#deprecations\n",
      "  bases = (x >= aug_knots[:-1]).astype(np.int) * \\\n",
      "/public/home/zhaox/anaconda3/lib/python3.9/site-packages/pygam/utils.py:650: DeprecationWarning: `np.int` is a deprecated alias for the builtin `int`. To silence this warning, use `int` by itself. Doing this will not modify any behavior and is safe. When replacing `np.int`, you may wish to use e.g. `np.int64` or `np.int32` to specify the precision. If you wish to review your current use, check the release note link for additional information.\n",
      "Deprecated in NumPy 1.20; for more details and guidance: https://numpy.org/devdocs/release/1.20.0-notes.html#deprecations\n",
      "  (x < aug_knots[1:]).astype(np.int)\n",
      "/public/home/zhaox/anaconda3/lib/python3.9/site-packages/pygam/utils.py:649: DeprecationWarning: `np.int` is a deprecated alias for the builtin `int`. To silence this warning, use `int` by itself. Doing this will not modify any behavior and is safe. When replacing `np.int`, you may wish to use e.g. `np.int64` or `np.int32` to specify the precision. If you wish to review your current use, check the release note link for additional information.\n",
      "Deprecated in NumPy 1.20; for more details and guidance: https://numpy.org/devdocs/release/1.20.0-notes.html#deprecations\n",
      "  bases = (x >= aug_knots[:-1]).astype(np.int) * \\\n",
      "/public/home/zhaox/anaconda3/lib/python3.9/site-packages/pygam/utils.py:650: DeprecationWarning: `np.int` is a deprecated alias for the builtin `int`. To silence this warning, use `int` by itself. Doing this will not modify any behavior and is safe. When replacing `np.int`, you may wish to use e.g. `np.int64` or `np.int32` to specify the precision. If you wish to review your current use, check the release note link for additional information.\n",
      "Deprecated in NumPy 1.20; for more details and guidance: https://numpy.org/devdocs/release/1.20.0-notes.html#deprecations\n",
      "  (x < aug_knots[1:]).astype(np.int)\n",
      "/public/home/zhaox/anaconda3/lib/python3.9/site-packages/pygam/utils.py:649: DeprecationWarning: `np.int` is a deprecated alias for the builtin `int`. To silence this warning, use `int` by itself. Doing this will not modify any behavior and is safe. When replacing `np.int`, you may wish to use e.g. `np.int64` or `np.int32` to specify the precision. If you wish to review your current use, check the release note link for additional information.\n",
      "Deprecated in NumPy 1.20; for more details and guidance: https://numpy.org/devdocs/release/1.20.0-notes.html#deprecations\n",
      "  bases = (x >= aug_knots[:-1]).astype(np.int) * \\\n",
      "/public/home/zhaox/anaconda3/lib/python3.9/site-packages/pygam/utils.py:650: DeprecationWarning: `np.int` is a deprecated alias for the builtin `int`. To silence this warning, use `int` by itself. Doing this will not modify any behavior and is safe. When replacing `np.int`, you may wish to use e.g. `np.int64` or `np.int32` to specify the precision. If you wish to review your current use, check the release note link for additional information.\n",
      "Deprecated in NumPy 1.20; for more details and guidance: https://numpy.org/devdocs/release/1.20.0-notes.html#deprecations\n",
      "  (x < aug_knots[1:]).astype(np.int)\n",
      "/public/home/zhaox/anaconda3/lib/python3.9/site-packages/pygam/utils.py:649: DeprecationWarning: `np.int` is a deprecated alias for the builtin `int`. To silence this warning, use `int` by itself. Doing this will not modify any behavior and is safe. When replacing `np.int`, you may wish to use e.g. `np.int64` or `np.int32` to specify the precision. If you wish to review your current use, check the release note link for additional information.\n",
      "Deprecated in NumPy 1.20; for more details and guidance: https://numpy.org/devdocs/release/1.20.0-notes.html#deprecations\n",
      "  bases = (x >= aug_knots[:-1]).astype(np.int) * \\\n",
      "/public/home/zhaox/anaconda3/lib/python3.9/site-packages/pygam/utils.py:650: DeprecationWarning: `np.int` is a deprecated alias for the builtin `int`. To silence this warning, use `int` by itself. Doing this will not modify any behavior and is safe. When replacing `np.int`, you may wish to use e.g. `np.int64` or `np.int32` to specify the precision. If you wish to review your current use, check the release note link for additional information.\n",
      "Deprecated in NumPy 1.20; for more details and guidance: https://numpy.org/devdocs/release/1.20.0-notes.html#deprecations\n",
      "  (x < aug_knots[1:]).astype(np.int)\n",
      "/public/home/zhaox/anaconda3/lib/python3.9/site-packages/pygam/utils.py:649: DeprecationWarning: `np.int` is a deprecated alias for the builtin `int`. To silence this warning, use `int` by itself. Doing this will not modify any behavior and is safe. When replacing `np.int`, you may wish to use e.g. `np.int64` or `np.int32` to specify the precision. If you wish to review your current use, check the release note link for additional information.\n",
      "Deprecated in NumPy 1.20; for more details and guidance: https://numpy.org/devdocs/release/1.20.0-notes.html#deprecations\n",
      "  bases = (x >= aug_knots[:-1]).astype(np.int) * \\\n",
      "/public/home/zhaox/anaconda3/lib/python3.9/site-packages/pygam/utils.py:650: DeprecationWarning: `np.int` is a deprecated alias for the builtin `int`. To silence this warning, use `int` by itself. Doing this will not modify any behavior and is safe. When replacing `np.int`, you may wish to use e.g. `np.int64` or `np.int32` to specify the precision. If you wish to review your current use, check the release note link for additional information.\n",
      "Deprecated in NumPy 1.20; for more details and guidance: https://numpy.org/devdocs/release/1.20.0-notes.html#deprecations\n",
      "  (x < aug_knots[1:]).astype(np.int)\n",
      "/public/home/zhaox/anaconda3/lib/python3.9/site-packages/pygam/utils.py:649: DeprecationWarning: `np.int` is a deprecated alias for the builtin `int`. To silence this warning, use `int` by itself. Doing this will not modify any behavior and is safe. When replacing `np.int`, you may wish to use e.g. `np.int64` or `np.int32` to specify the precision. If you wish to review your current use, check the release note link for additional information.\n",
      "Deprecated in NumPy 1.20; for more details and guidance: https://numpy.org/devdocs/release/1.20.0-notes.html#deprecations\n",
      "  bases = (x >= aug_knots[:-1]).astype(np.int) * \\\n",
      "/public/home/zhaox/anaconda3/lib/python3.9/site-packages/pygam/utils.py:650: DeprecationWarning: `np.int` is a deprecated alias for the builtin `int`. To silence this warning, use `int` by itself. Doing this will not modify any behavior and is safe. When replacing `np.int`, you may wish to use e.g. `np.int64` or `np.int32` to specify the precision. If you wish to review your current use, check the release note link for additional information.\n",
      "Deprecated in NumPy 1.20; for more details and guidance: https://numpy.org/devdocs/release/1.20.0-notes.html#deprecations\n",
      "  (x < aug_knots[1:]).astype(np.int)\n",
      "/public/home/zhaox/anaconda3/lib/python3.9/site-packages/pygam/utils.py:649: DeprecationWarning: `np.int` is a deprecated alias for the builtin `int`. To silence this warning, use `int` by itself. Doing this will not modify any behavior and is safe. When replacing `np.int`, you may wish to use e.g. `np.int64` or `np.int32` to specify the precision. If you wish to review your current use, check the release note link for additional information.\n",
      "Deprecated in NumPy 1.20; for more details and guidance: https://numpy.org/devdocs/release/1.20.0-notes.html#deprecations\n",
      "  bases = (x >= aug_knots[:-1]).astype(np.int) * \\\n",
      "/public/home/zhaox/anaconda3/lib/python3.9/site-packages/pygam/utils.py:650: DeprecationWarning: `np.int` is a deprecated alias for the builtin `int`. To silence this warning, use `int` by itself. Doing this will not modify any behavior and is safe. When replacing `np.int`, you may wish to use e.g. `np.int64` or `np.int32` to specify the precision. If you wish to review your current use, check the release note link for additional information.\n",
      "Deprecated in NumPy 1.20; for more details and guidance: https://numpy.org/devdocs/release/1.20.0-notes.html#deprecations\n",
      "  (x < aug_knots[1:]).astype(np.int)\n",
      "/public/home/zhaox/anaconda3/lib/python3.9/site-packages/pygam/utils.py:649: DeprecationWarning: `np.int` is a deprecated alias for the builtin `int`. To silence this warning, use `int` by itself. Doing this will not modify any behavior and is safe. When replacing `np.int`, you may wish to use e.g. `np.int64` or `np.int32` to specify the precision. If you wish to review your current use, check the release note link for additional information.\n",
      "Deprecated in NumPy 1.20; for more details and guidance: https://numpy.org/devdocs/release/1.20.0-notes.html#deprecations\n",
      "  bases = (x >= aug_knots[:-1]).astype(np.int) * \\\n",
      "/public/home/zhaox/anaconda3/lib/python3.9/site-packages/pygam/utils.py:650: DeprecationWarning: `np.int` is a deprecated alias for the builtin `int`. To silence this warning, use `int` by itself. Doing this will not modify any behavior and is safe. When replacing `np.int`, you may wish to use e.g. `np.int64` or `np.int32` to specify the precision. If you wish to review your current use, check the release note link for additional information.\n",
      "Deprecated in NumPy 1.20; for more details and guidance: https://numpy.org/devdocs/release/1.20.0-notes.html#deprecations\n",
      "  (x < aug_knots[1:]).astype(np.int)\n",
      "/public/home/zhaox/anaconda3/lib/python3.9/site-packages/pygam/utils.py:649: DeprecationWarning: `np.int` is a deprecated alias for the builtin `int`. To silence this warning, use `int` by itself. Doing this will not modify any behavior and is safe. When replacing `np.int`, you may wish to use e.g. `np.int64` or `np.int32` to specify the precision. If you wish to review your current use, check the release note link for additional information.\n",
      "Deprecated in NumPy 1.20; for more details and guidance: https://numpy.org/devdocs/release/1.20.0-notes.html#deprecations\n",
      "  bases = (x >= aug_knots[:-1]).astype(np.int) * \\\n",
      "/public/home/zhaox/anaconda3/lib/python3.9/site-packages/pygam/utils.py:650: DeprecationWarning: `np.int` is a deprecated alias for the builtin `int`. To silence this warning, use `int` by itself. Doing this will not modify any behavior and is safe. When replacing `np.int`, you may wish to use e.g. `np.int64` or `np.int32` to specify the precision. If you wish to review your current use, check the release note link for additional information.\n",
      "Deprecated in NumPy 1.20; for more details and guidance: https://numpy.org/devdocs/release/1.20.0-notes.html#deprecations\n",
      "  (x < aug_knots[1:]).astype(np.int)\n",
      "/public/home/zhaox/anaconda3/lib/python3.9/site-packages/pygam/utils.py:649: DeprecationWarning: `np.int` is a deprecated alias for the builtin `int`. To silence this warning, use `int` by itself. Doing this will not modify any behavior and is safe. When replacing `np.int`, you may wish to use e.g. `np.int64` or `np.int32` to specify the precision. If you wish to review your current use, check the release note link for additional information.\n",
      "Deprecated in NumPy 1.20; for more details and guidance: https://numpy.org/devdocs/release/1.20.0-notes.html#deprecations\n",
      "  bases = (x >= aug_knots[:-1]).astype(np.int) * \\\n",
      "/public/home/zhaox/anaconda3/lib/python3.9/site-packages/pygam/utils.py:650: DeprecationWarning: `np.int` is a deprecated alias for the builtin `int`. To silence this warning, use `int` by itself. Doing this will not modify any behavior and is safe. When replacing `np.int`, you may wish to use e.g. `np.int64` or `np.int32` to specify the precision. If you wish to review your current use, check the release note link for additional information.\n",
      "Deprecated in NumPy 1.20; for more details and guidance: https://numpy.org/devdocs/release/1.20.0-notes.html#deprecations\n",
      "  (x < aug_knots[1:]).astype(np.int)\n",
      "/public/home/zhaox/anaconda3/lib/python3.9/site-packages/pygam/utils.py:649: DeprecationWarning: `np.int` is a deprecated alias for the builtin `int`. To silence this warning, use `int` by itself. Doing this will not modify any behavior and is safe. When replacing `np.int`, you may wish to use e.g. `np.int64` or `np.int32` to specify the precision. If you wish to review your current use, check the release note link for additional information.\n",
      "Deprecated in NumPy 1.20; for more details and guidance: https://numpy.org/devdocs/release/1.20.0-notes.html#deprecations\n",
      "  bases = (x >= aug_knots[:-1]).astype(np.int) * \\\n",
      "/public/home/zhaox/anaconda3/lib/python3.9/site-packages/pygam/utils.py:650: DeprecationWarning: `np.int` is a deprecated alias for the builtin `int`. To silence this warning, use `int` by itself. Doing this will not modify any behavior and is safe. When replacing `np.int`, you may wish to use e.g. `np.int64` or `np.int32` to specify the precision. If you wish to review your current use, check the release note link for additional information.\n",
      "Deprecated in NumPy 1.20; for more details and guidance: https://numpy.org/devdocs/release/1.20.0-notes.html#deprecations\n",
      "  (x < aug_knots[1:]).astype(np.int)\n",
      "/public/home/zhaox/anaconda3/lib/python3.9/site-packages/pygam/utils.py:649: DeprecationWarning: `np.int` is a deprecated alias for the builtin `int`. To silence this warning, use `int` by itself. Doing this will not modify any behavior and is safe. When replacing `np.int`, you may wish to use e.g. `np.int64` or `np.int32` to specify the precision. If you wish to review your current use, check the release note link for additional information.\n",
      "Deprecated in NumPy 1.20; for more details and guidance: https://numpy.org/devdocs/release/1.20.0-notes.html#deprecations\n",
      "  bases = (x >= aug_knots[:-1]).astype(np.int) * \\\n",
      "/public/home/zhaox/anaconda3/lib/python3.9/site-packages/pygam/utils.py:650: DeprecationWarning: `np.int` is a deprecated alias for the builtin `int`. To silence this warning, use `int` by itself. Doing this will not modify any behavior and is safe. When replacing `np.int`, you may wish to use e.g. `np.int64` or `np.int32` to specify the precision. If you wish to review your current use, check the release note link for additional information.\n",
      "Deprecated in NumPy 1.20; for more details and guidance: https://numpy.org/devdocs/release/1.20.0-notes.html#deprecations\n",
      "  (x < aug_knots[1:]).astype(np.int)\n",
      "/public/home/zhaox/anaconda3/lib/python3.9/site-packages/pygam/utils.py:649: DeprecationWarning: `np.int` is a deprecated alias for the builtin `int`. To silence this warning, use `int` by itself. Doing this will not modify any behavior and is safe. When replacing `np.int`, you may wish to use e.g. `np.int64` or `np.int32` to specify the precision. If you wish to review your current use, check the release note link for additional information.\n",
      "Deprecated in NumPy 1.20; for more details and guidance: https://numpy.org/devdocs/release/1.20.0-notes.html#deprecations\n",
      "  bases = (x >= aug_knots[:-1]).astype(np.int) * \\\n",
      "/public/home/zhaox/anaconda3/lib/python3.9/site-packages/pygam/utils.py:650: DeprecationWarning: `np.int` is a deprecated alias for the builtin `int`. To silence this warning, use `int` by itself. Doing this will not modify any behavior and is safe. When replacing `np.int`, you may wish to use e.g. `np.int64` or `np.int32` to specify the precision. If you wish to review your current use, check the release note link for additional information.\n",
      "Deprecated in NumPy 1.20; for more details and guidance: https://numpy.org/devdocs/release/1.20.0-notes.html#deprecations\n",
      "  (x < aug_knots[1:]).astype(np.int)\n",
      "/public/home/zhaox/anaconda3/lib/python3.9/site-packages/pygam/utils.py:649: DeprecationWarning: `np.int` is a deprecated alias for the builtin `int`. To silence this warning, use `int` by itself. Doing this will not modify any behavior and is safe. When replacing `np.int`, you may wish to use e.g. `np.int64` or `np.int32` to specify the precision. If you wish to review your current use, check the release note link for additional information.\n",
      "Deprecated in NumPy 1.20; for more details and guidance: https://numpy.org/devdocs/release/1.20.0-notes.html#deprecations\n",
      "  bases = (x >= aug_knots[:-1]).astype(np.int) * \\\n",
      "/public/home/zhaox/anaconda3/lib/python3.9/site-packages/pygam/utils.py:650: DeprecationWarning: `np.int` is a deprecated alias for the builtin `int`. To silence this warning, use `int` by itself. Doing this will not modify any behavior and is safe. When replacing `np.int`, you may wish to use e.g. `np.int64` or `np.int32` to specify the precision. If you wish to review your current use, check the release note link for additional information.\n",
      "Deprecated in NumPy 1.20; for more details and guidance: https://numpy.org/devdocs/release/1.20.0-notes.html#deprecations\n",
      "  (x < aug_knots[1:]).astype(np.int)\n",
      "/public/home/zhaox/anaconda3/lib/python3.9/site-packages/pygam/utils.py:649: DeprecationWarning: `np.int` is a deprecated alias for the builtin `int`. To silence this warning, use `int` by itself. Doing this will not modify any behavior and is safe. When replacing `np.int`, you may wish to use e.g. `np.int64` or `np.int32` to specify the precision. If you wish to review your current use, check the release note link for additional information.\n",
      "Deprecated in NumPy 1.20; for more details and guidance: https://numpy.org/devdocs/release/1.20.0-notes.html#deprecations\n",
      "  bases = (x >= aug_knots[:-1]).astype(np.int) * \\\n",
      "/public/home/zhaox/anaconda3/lib/python3.9/site-packages/pygam/utils.py:650: DeprecationWarning: `np.int` is a deprecated alias for the builtin `int`. To silence this warning, use `int` by itself. Doing this will not modify any behavior and is safe. When replacing `np.int`, you may wish to use e.g. `np.int64` or `np.int32` to specify the precision. If you wish to review your current use, check the release note link for additional information.\n",
      "Deprecated in NumPy 1.20; for more details and guidance: https://numpy.org/devdocs/release/1.20.0-notes.html#deprecations\n",
      "  (x < aug_knots[1:]).astype(np.int)\n",
      "/public/home/zhaox/anaconda3/lib/python3.9/site-packages/pygam/utils.py:649: DeprecationWarning: `np.int` is a deprecated alias for the builtin `int`. To silence this warning, use `int` by itself. Doing this will not modify any behavior and is safe. When replacing `np.int`, you may wish to use e.g. `np.int64` or `np.int32` to specify the precision. If you wish to review your current use, check the release note link for additional information.\n",
      "Deprecated in NumPy 1.20; for more details and guidance: https://numpy.org/devdocs/release/1.20.0-notes.html#deprecations\n",
      "  bases = (x >= aug_knots[:-1]).astype(np.int) * \\\n",
      "/public/home/zhaox/anaconda3/lib/python3.9/site-packages/pygam/utils.py:650: DeprecationWarning: `np.int` is a deprecated alias for the builtin `int`. To silence this warning, use `int` by itself. Doing this will not modify any behavior and is safe. When replacing `np.int`, you may wish to use e.g. `np.int64` or `np.int32` to specify the precision. If you wish to review your current use, check the release note link for additional information.\n",
      "Deprecated in NumPy 1.20; for more details and guidance: https://numpy.org/devdocs/release/1.20.0-notes.html#deprecations\n",
      "  (x < aug_knots[1:]).astype(np.int)\n",
      "/public/home/zhaox/anaconda3/lib/python3.9/site-packages/pygam/utils.py:649: DeprecationWarning: `np.int` is a deprecated alias for the builtin `int`. To silence this warning, use `int` by itself. Doing this will not modify any behavior and is safe. When replacing `np.int`, you may wish to use e.g. `np.int64` or `np.int32` to specify the precision. If you wish to review your current use, check the release note link for additional information.\n",
      "Deprecated in NumPy 1.20; for more details and guidance: https://numpy.org/devdocs/release/1.20.0-notes.html#deprecations\n",
      "  bases = (x >= aug_knots[:-1]).astype(np.int) * \\\n",
      "/public/home/zhaox/anaconda3/lib/python3.9/site-packages/pygam/utils.py:650: DeprecationWarning: `np.int` is a deprecated alias for the builtin `int`. To silence this warning, use `int` by itself. Doing this will not modify any behavior and is safe. When replacing `np.int`, you may wish to use e.g. `np.int64` or `np.int32` to specify the precision. If you wish to review your current use, check the release note link for additional information.\n",
      "Deprecated in NumPy 1.20; for more details and guidance: https://numpy.org/devdocs/release/1.20.0-notes.html#deprecations\n",
      "  (x < aug_knots[1:]).astype(np.int)\n",
      "/public/home/zhaox/anaconda3/lib/python3.9/site-packages/pygam/utils.py:649: DeprecationWarning: `np.int` is a deprecated alias for the builtin `int`. To silence this warning, use `int` by itself. Doing this will not modify any behavior and is safe. When replacing `np.int`, you may wish to use e.g. `np.int64` or `np.int32` to specify the precision. If you wish to review your current use, check the release note link for additional information.\n",
      "Deprecated in NumPy 1.20; for more details and guidance: https://numpy.org/devdocs/release/1.20.0-notes.html#deprecations\n",
      "  bases = (x >= aug_knots[:-1]).astype(np.int) * \\\n",
      "/public/home/zhaox/anaconda3/lib/python3.9/site-packages/pygam/utils.py:650: DeprecationWarning: `np.int` is a deprecated alias for the builtin `int`. To silence this warning, use `int` by itself. Doing this will not modify any behavior and is safe. When replacing `np.int`, you may wish to use e.g. `np.int64` or `np.int32` to specify the precision. If you wish to review your current use, check the release note link for additional information.\n",
      "Deprecated in NumPy 1.20; for more details and guidance: https://numpy.org/devdocs/release/1.20.0-notes.html#deprecations\n",
      "  (x < aug_knots[1:]).astype(np.int)\n",
      "/public/home/zhaox/anaconda3/lib/python3.9/site-packages/pygam/utils.py:649: DeprecationWarning: `np.int` is a deprecated alias for the builtin `int`. To silence this warning, use `int` by itself. Doing this will not modify any behavior and is safe. When replacing `np.int`, you may wish to use e.g. `np.int64` or `np.int32` to specify the precision. If you wish to review your current use, check the release note link for additional information.\n",
      "Deprecated in NumPy 1.20; for more details and guidance: https://numpy.org/devdocs/release/1.20.0-notes.html#deprecations\n",
      "  bases = (x >= aug_knots[:-1]).astype(np.int) * \\\n",
      "/public/home/zhaox/anaconda3/lib/python3.9/site-packages/pygam/utils.py:650: DeprecationWarning: `np.int` is a deprecated alias for the builtin `int`. To silence this warning, use `int` by itself. Doing this will not modify any behavior and is safe. When replacing `np.int`, you may wish to use e.g. `np.int64` or `np.int32` to specify the precision. If you wish to review your current use, check the release note link for additional information.\n",
      "Deprecated in NumPy 1.20; for more details and guidance: https://numpy.org/devdocs/release/1.20.0-notes.html#deprecations\n",
      "  (x < aug_knots[1:]).astype(np.int)\n",
      "/public/home/zhaox/anaconda3/lib/python3.9/site-packages/pygam/utils.py:649: DeprecationWarning: `np.int` is a deprecated alias for the builtin `int`. To silence this warning, use `int` by itself. Doing this will not modify any behavior and is safe. When replacing `np.int`, you may wish to use e.g. `np.int64` or `np.int32` to specify the precision. If you wish to review your current use, check the release note link for additional information.\n",
      "Deprecated in NumPy 1.20; for more details and guidance: https://numpy.org/devdocs/release/1.20.0-notes.html#deprecations\n",
      "  bases = (x >= aug_knots[:-1]).astype(np.int) * \\\n",
      "/public/home/zhaox/anaconda3/lib/python3.9/site-packages/pygam/utils.py:650: DeprecationWarning: `np.int` is a deprecated alias for the builtin `int`. To silence this warning, use `int` by itself. Doing this will not modify any behavior and is safe. When replacing `np.int`, you may wish to use e.g. `np.int64` or `np.int32` to specify the precision. If you wish to review your current use, check the release note link for additional information.\n",
      "Deprecated in NumPy 1.20; for more details and guidance: https://numpy.org/devdocs/release/1.20.0-notes.html#deprecations\n",
      "  (x < aug_knots[1:]).astype(np.int)\n",
      "/public/home/zhaox/anaconda3/lib/python3.9/site-packages/pygam/utils.py:649: DeprecationWarning: `np.int` is a deprecated alias for the builtin `int`. To silence this warning, use `int` by itself. Doing this will not modify any behavior and is safe. When replacing `np.int`, you may wish to use e.g. `np.int64` or `np.int32` to specify the precision. If you wish to review your current use, check the release note link for additional information.\n",
      "Deprecated in NumPy 1.20; for more details and guidance: https://numpy.org/devdocs/release/1.20.0-notes.html#deprecations\n",
      "  bases = (x >= aug_knots[:-1]).astype(np.int) * \\\n",
      "/public/home/zhaox/anaconda3/lib/python3.9/site-packages/pygam/utils.py:650: DeprecationWarning: `np.int` is a deprecated alias for the builtin `int`. To silence this warning, use `int` by itself. Doing this will not modify any behavior and is safe. When replacing `np.int`, you may wish to use e.g. `np.int64` or `np.int32` to specify the precision. If you wish to review your current use, check the release note link for additional information.\n",
      "Deprecated in NumPy 1.20; for more details and guidance: https://numpy.org/devdocs/release/1.20.0-notes.html#deprecations\n",
      "  (x < aug_knots[1:]).astype(np.int)\n",
      "/public/home/zhaox/anaconda3/lib/python3.9/site-packages/pygam/utils.py:649: DeprecationWarning: `np.int` is a deprecated alias for the builtin `int`. To silence this warning, use `int` by itself. Doing this will not modify any behavior and is safe. When replacing `np.int`, you may wish to use e.g. `np.int64` or `np.int32` to specify the precision. If you wish to review your current use, check the release note link for additional information.\n",
      "Deprecated in NumPy 1.20; for more details and guidance: https://numpy.org/devdocs/release/1.20.0-notes.html#deprecations\n",
      "  bases = (x >= aug_knots[:-1]).astype(np.int) * \\\n",
      "/public/home/zhaox/anaconda3/lib/python3.9/site-packages/pygam/utils.py:650: DeprecationWarning: `np.int` is a deprecated alias for the builtin `int`. To silence this warning, use `int` by itself. Doing this will not modify any behavior and is safe. When replacing `np.int`, you may wish to use e.g. `np.int64` or `np.int32` to specify the precision. If you wish to review your current use, check the release note link for additional information.\n",
      "Deprecated in NumPy 1.20; for more details and guidance: https://numpy.org/devdocs/release/1.20.0-notes.html#deprecations\n",
      "  (x < aug_knots[1:]).astype(np.int)\n",
      "/public/home/zhaox/anaconda3/lib/python3.9/site-packages/pygam/utils.py:649: DeprecationWarning: `np.int` is a deprecated alias for the builtin `int`. To silence this warning, use `int` by itself. Doing this will not modify any behavior and is safe. When replacing `np.int`, you may wish to use e.g. `np.int64` or `np.int32` to specify the precision. If you wish to review your current use, check the release note link for additional information.\n",
      "Deprecated in NumPy 1.20; for more details and guidance: https://numpy.org/devdocs/release/1.20.0-notes.html#deprecations\n",
      "  bases = (x >= aug_knots[:-1]).astype(np.int) * \\\n",
      "/public/home/zhaox/anaconda3/lib/python3.9/site-packages/pygam/utils.py:650: DeprecationWarning: `np.int` is a deprecated alias for the builtin `int`. To silence this warning, use `int` by itself. Doing this will not modify any behavior and is safe. When replacing `np.int`, you may wish to use e.g. `np.int64` or `np.int32` to specify the precision. If you wish to review your current use, check the release note link for additional information.\n",
      "Deprecated in NumPy 1.20; for more details and guidance: https://numpy.org/devdocs/release/1.20.0-notes.html#deprecations\n",
      "  (x < aug_knots[1:]).astype(np.int)\n"
     ]
    },
    {
     "name": "stdout",
     "output_type": "stream",
     "text": [
      "    Finish (0:00:07)\n"
     ]
    }
   ],
   "source": [
    "cr.tl.terminal_states(\n",
    "    adata,\n",
    "    cluster_key=\"cell_type\",\n",
    "    weight_connectivities=0.2,)\n",
    "cr.tl.lineages(adata)\n",
    "model = cr.ul.models.GAM(adata)\n",
    "cr.tl.lineage_drivers(adata)\n",
    "cr.pl.heatmap(\n",
    "    adata,\n",
    "    model,\n",
    "    adata.varm['terminal_lineage_drivers'][\"SSC_corr\"].sort_values(ascending=False).index[:100],\n",
    "    show_absorption_probabilities=True,\n",
    "    lineages=\"SSC\",\n",
    "    n_jobs=1,\n",
    "    backend=\"loky\",\n",
    "    save='./adultsscneogermforcellrank_SSCgeneexpressiontrendsheatmap0221.pdf'\n",
    ")"
   ]
  },
  {
   "cell_type": "code",
   "execution_count": null,
   "id": "c3982929-2582-4fc0-a10c-2cbd6b75e71d",
   "metadata": {},
   "outputs": [],
   "source": []
  }
 ],
 "metadata": {
  "kernelspec": {
   "display_name": "Python 3 (ipykernel)",
   "language": "python",
   "name": "python3"
  },
  "language_info": {
   "codemirror_mode": {
    "name": "ipython",
    "version": 3
   },
   "file_extension": ".py",
   "mimetype": "text/x-python",
   "name": "python",
   "nbconvert_exporter": "python",
   "pygments_lexer": "ipython3",
   "version": "3.9.7"
  }
 },
 "nbformat": 4,
 "nbformat_minor": 5
}
